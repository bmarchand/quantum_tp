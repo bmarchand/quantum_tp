{
 "cells": [
  {
   "cell_type": "code",
   "execution_count": 1,
   "metadata": {},
   "outputs": [],
   "source": [
    "import json\n",
    "import matplotlib.pylab as plt\n",
    "\n",
    "with open('hamiltonian_data.json','r') as f:\n",
    "    l = json.load(f)"
   ]
  },
  {
   "cell_type": "code",
   "execution_count": 2,
   "metadata": {},
   "outputs": [],
   "source": [
    "import numpy as np\n",
    "\n",
    "I = np.eye(4)\n",
    "#plt.matshow(I)\n",
    "\n",
    "Z0 = np.diag([1,1,-1,-1])\n",
    "#plt.matshow(Z0)\n",
    "\n",
    "Z1 = np.diag([1,-1,1,-1])\n",
    "#plt.matshow(Z1)\n",
    "\n",
    "Z0Z1 = np.diag([1,-1,-1,1])\n",
    "#plt.matshow(Z0Z1)\n",
    "\n",
    "X0X1 = np.fliplr(np.eye(4))\n",
    "#plt.matshow(X0X1)\n",
    "\n",
    "Y0Y1 = np.fliplr(np.diag([-1, 1, 1, -1]))\n",
    "#plt.matshow(Y0Y1)"
   ]
  },
  {
   "cell_type": "code",
   "execution_count": 3,
   "metadata": {},
   "outputs": [
    {
     "name": "stdout",
     "output_type": "stream",
     "text": [
      "0.0 0.5360525829777477 0.53125 10001\n",
      "0.0 0.41901518867877086 0.40625 01101\n",
      "0.0 0.3467563638475299 0.34375 01011\n",
      "0.0 0.2998724346277622 0.28125 01001\n",
      "0.0 0.2686850987382789 0.25 01000\n",
      "0.0 0.24774774578185166 0.21875 00111\n",
      "0.0 0.23365205474364006 0.21875 00111\n",
      "0.0 0.22441845174814606 0.21875 00111\n",
      "0.0 0.21860143440991636 0.1875 00110\n",
      "0.0 0.21526381393373123 0.1875 00110\n",
      "0.0 0.2137599313978454 0.1875 00110\n",
      "0.0 0.21360021896908896 0.1875 00110\n",
      "0.0 0.21433047944069994 0.1875 00110\n",
      "0.0 0.21584331458575895 0.1875 00110\n",
      "0.0 0.21786084373675196 0.1875 00110\n",
      "0.0 0.2201755797172341 0.21875 00111\n",
      "0.0 0.222770817995386 0.21875 00111\n",
      "0.0 0.22549500102973113 0.21875 00111\n",
      "0.0 0.2282912147771025 0.21875 00111\n",
      "0.0 0.2311569671586668 0.21875 00111\n",
      "0.0 0.23394021612507987 0.21875 00111\n",
      "0.0 0.236639295033238 0.21875 00111\n",
      "0.0 0.23925098069828715 0.21875 00111\n",
      "0.0 0.241767560805262 0.21875 00111\n",
      "0.0 0.24410499879058264 0.21875 00111\n",
      "0.0 0.24629423068652492 0.21875 00111\n",
      "0.0 0.24833630543502092 0.21875 00111\n",
      "0.0 0.2502438494329408 0.25 01000\n",
      "0.0 0.251943511356982 0.25 01000\n",
      "0.0 0.25354885681206885 0.25 01000\n",
      "0.0 0.25496331830017555 0.25 01000\n",
      "0.0 0.2562111192585807 0.25 01000\n",
      "0.0 0.25729828556632656 0.25 01000\n",
      "0.0 0.2582923355455055 0.25 01000\n",
      "0.0 0.2591754295545327 0.25 01000\n",
      "0.0 0.25991089825898855 0.25 01000\n",
      "0.0 0.2605963320896969 0.25 01000\n",
      "0.0 0.261177488651899 0.25 01000\n",
      "0.0 0.26163718469924 0.25 01000\n",
      "0.0 0.26209910180209056 0.25 01000\n",
      "0.0 0.26245415797948407 0.25 01000\n",
      "0.0 0.26274603884289277 0.25 01000\n",
      "0.0 0.2630320986314386 0.25 01000\n",
      "0.0 0.2632546141844961 0.25 01000\n",
      "0.0 0.2634451847318881 0.25 01000\n",
      "0.0 0.26363396899506714 0.25 01000\n",
      "0.0 0.26377826736653237 0.25 01000\n",
      "0.0 0.2638584333410955 0.25 01000\n",
      "0.0 0.2639624192228608 0.25 01000\n",
      "0.0 0.2640348153489435 0.25 01000\n",
      "0.0 0.26408393887873965 0.25 01000\n",
      "0.0 0.26419040226083457 0.25 01000\n",
      "0.0 0.26420689585203366 0.25 01000\n",
      "0.0 0.2642568740542996 0.25 01000\n"
     ]
    }
   ],
   "source": [
    "vals = []\n",
    "vals_apx = []\n",
    "Rs = []\n",
    "\n",
    "nBits = 5\n",
    "E_min = -2\n",
    "E_max = +2\n",
    "\n",
    "shift = 2\n",
    "\n",
    "dt = (2*np.pi) / float(E_max - E_min)\n",
    "#dt = 1. / float(E_max - E_min)\n",
    "\n",
    "K = 1\n",
    "\n",
    "for coeffs in l:\n",
    "    H = coeffs['I_coeff'] * I\n",
    "    H += coeffs['Z0_coeff'] * Z0\n",
    "    H += coeffs['Z1_coeff'] * Z1\n",
    "    H += coeffs['Z0Z1_coeff'] * Z0Z1\n",
    "    H += coeffs['X0X1_coeff'] * X0X1\n",
    "    H += coeffs['Y0Y1_coeff'] * Y0Y1\n",
    "    H += shift * I\n",
    "    w, v = np.linalg.eigh(H)\n",
    "    \n",
    "    E = w[0]\n",
    "\n",
    "#   phi = (dt * E) % 1\n",
    "    phi = ((dt * E) / (2* np.pi)) % 1\n",
    "\n",
    "    \n",
    "    K = (dt*E)/(2*np.pi) - phi\n",
    "    \n",
    "    \n",
    "    phi_apx = np.floor(2 ** nBits * phi) / 2 **nBits\n",
    "         \n",
    "    print(K,phi, phi_apx, np.binary_repr(int(np.floor(2**nBits * phi)), width=nBits))\n",
    "\n",
    "    \n",
    "    E_apx = (2*np.pi/dt)*(phi_apx + K)\n",
    "    \n",
    "    vals_apx.append(E_apx)\n",
    "    vals.append(E)\n",
    "    Rs.append(coeffs['R'])\n",
    "    #plt.matshow(H)"
   ]
  },
  {
   "cell_type": "code",
   "execution_count": 12,
   "metadata": {},
   "outputs": [
    {
     "data": {
      "text/plain": [
       "[<matplotlib.lines.Line2D at 0x7f63952567f0>]"
      ]
     },
     "execution_count": 12,
     "metadata": {},
     "output_type": "execute_result"
    },
    {
     "data": {
      "image/png": "[encoded data removed]",
      "text/plain": [
       "<Figure size 432x288 with 1 Axes>"
      ]
     },
     "metadata": {
      "needs_background": "light"
     },
     "output_type": "display_data"
    }
   ],
   "source": [
    "plt.plot(Rs, vals)\n",
    "plt.plot(Rs, vals_apx)"
   ]
  },
  {
   "cell_type": "code",
   "execution_count": 6,
   "metadata": {},
   "outputs": [
    {
     "name": "stdout",
     "output_type": "stream",
     "text": [
      "[[0.95775727-0.28757784j 0.        +0.j         0.        +0.j\n",
      "  0.        +0.j        ]\n",
      " [0.        +0.j         0.51037096+0.73476979j 0.37963778-0.23560561j\n",
      "  0.        +0.j        ]\n",
      " [0.        +0.j         0.37963778-0.23560561j 0.43186959+0.78348824j\n",
      "  0.        +0.j        ]\n",
      " [0.        +0.j         0.        +0.j         0.        +0.j\n",
      "  0.97349514+0.22870769j]]\n",
      "<class 'numpy.ndarray'>\n"
     ]
    }
   ],
   "source": [
    "from scipy import linalg\n",
    "U = linalg.expm(-1j * dt * H)\n",
    "print(U)\n",
    "print(type(U))"
   ]
  },
  {
   "cell_type": "code",
   "execution_count": null,
   "metadata": {},
   "outputs": [],
   "source": []
  }
 ],
 "metadata": {
  "kernelspec": {
   "display_name": "Python 3",
   "language": "python",
   "name": "python3"
  },
  "language_info": {
   "codemirror_mode": {
    "name": "ipython",
    "version": 3
   },
   "file_extension": ".py",
   "mimetype": "text/x-python",
   "name": "python",
   "nbconvert_exporter": "python",
   "pygments_lexer": "ipython3",
   "version": "3.6.12"
  }
 },
 "nbformat": 4,
 "nbformat_minor": 4
}
