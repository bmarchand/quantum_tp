{
 "cells": [
  {
   "cell_type": "code",
   "execution_count": null,
   "metadata": {},
   "outputs": [],
   "source": [
    "from qat.lang.AQASM import Program, H, CNOT, AbstractGate\n",
    "import numpy as np"
   ]
  },
  {
   "cell_type": "code",
   "execution_count": null,
   "metadata": {},
   "outputs": [],
   "source": [
    "import sys\n",
    "sys.version"
   ]
  },
  {
   "cell_type": "code",
   "execution_count": null,
   "metadata": {},
   "outputs": [],
   "source": [
    "from helpers import U_ZZ, U_XX, U_YY, U_IZ, U_ZI, U_II"
   ]
  },
  {
   "cell_type": "code",
   "execution_count": null,
   "metadata": {},
   "outputs": [],
   "source": [
    "prog = Program()\n",
    "\n",
    "n = 2\n",
    "t = 8\n",
    "\n",
    "q = prog.qalloc(n+t)\n",
    "\n",
    "prog.apply(U_ZZ(4.5).ctrl(), [q[0]]+q[t:])\n",
    "prog.apply(U_XX(2.85).ctrl(), [q[1]]+q[t:])\n",
    "prog.apply(U_YY(78.8).ctrl(), [q[2]]+q[t:])\n",
    "prog.apply(U_IZ(78.8).ctrl(), [q[3]]+q[t:])\n",
    "prog.apply(U_ZI(78.8).ctrl(), [q[4]]+q[t:])\n",
    "prog.apply(U_II(78.8).ctrl(), [q[5]]+q[t:])\n"
   ]
  },
  {
   "cell_type": "code",
   "execution_count": null,
   "metadata": {},
   "outputs": [],
   "source": [
    "circ = prog.to_circ(inline=True)\n",
    "\n",
    "%qatdisplay --svg circ"
   ]
  },
  {
   "cell_type": "code",
   "execution_count": null,
   "metadata": {},
   "outputs": [],
   "source": [
    "import json\n",
    "\n",
    "with open('hamiltonian_data.json','r') as f:\n",
    "    l = json.load(f)"
   ]
  },
  {
   "cell_type": "code",
   "execution_count": null,
   "metadata": {},
   "outputs": [],
   "source": [
    "print(l[0].keys())"
   ]
  },
  {
   "cell_type": "code",
   "execution_count": null,
   "metadata": {},
   "outputs": [],
   "source": [
    "from helpers import pea"
   ]
  },
  {
   "cell_type": "code",
   "execution_count": null,
   "metadata": {},
   "outputs": [],
   "source": [
    "t = 1\n",
    "\n",
    "prog = Program()\n",
    "\n",
    "qbits = prog.qalloc(t+2) \n",
    "\n",
    "prog.apply(pea(l[1],10,t,-0.3), qbits)\n",
    "\n",
    "circ = prog.to_circ()\n",
    "\n",
    "%qatdisplay --svg circ "
   ]
  },
  {
   "cell_type": "code",
   "execution_count": null,
   "metadata": {},
   "outputs": [],
   "source": [
    "from qat.qpus import get_default_qpu\n",
    "qpu = get_default_qpu()"
   ]
  },
  {
   "cell_type": "code",
   "execution_count": null,
   "metadata": {},
   "outputs": [],
   "source": [
    "job = circ.to_job(qubits = range(t))"
   ]
  },
  {
   "cell_type": "code",
   "execution_count": null,
   "metadata": {},
   "outputs": [],
   "source": [
    "result = qpu.submit(job)\n",
    "\n",
    "for sample in result:\n",
    "    print(sample.probability,sample.state)"
   ]
  },
  {
   "cell_type": "code",
   "execution_count": null,
   "metadata": {},
   "outputs": [],
   "source": [
    "import matplotlib.pylab as plt\n",
    "energy = []\n",
    "Rs = []\n",
    "\n",
    "t = 8\n",
    "p = 1\n",
    "\n",
    "for coeffs in l:\n",
    "    Rs.append(coeffs[\"R\"])\n",
    "\n",
    "    prog = Program()\n",
    "\n",
    "    qbits = prog.qalloc(t+2) \n",
    "\n",
    "    prog.apply(pea(coeffs,p,t,0.3), qbits)\n",
    "\n",
    "    circ = prog.to_circ()\n",
    "    job = circ.to_job(qubits = range(t))\n",
    "\n",
    "    result = qpu.submit(job)\n",
    "\n",
    "    prob = -1\n",
    "    \n",
    "\n",
    "    for sample in result:\n",
    "        if sample.probability > prob:\n",
    "            state = sample.state\n",
    "            prob = sample.probability\n",
    "            sam = sample\n",
    "    \n",
    "    print(state)\n",
    "    energy.append(sam._state)\n",
    "    \n"
   ]
  },
  {
   "cell_type": "code",
   "execution_count": null,
   "metadata": {},
   "outputs": [],
   "source": [
    "plt.plot(Rs, energy)\n",
    "plt.ylim([0,1000])\n",
    "    "
   ]
  },
  {
   "cell_type": "code",
   "execution_count": null,
   "metadata": {},
   "outputs": [],
   "source": [
    "U_ZZ = AbstractGate(\"U_ZZ\", [str], arity=2)"
   ]
  },
  {
   "cell_type": "code",
   "execution_count": null,
   "metadata": {},
   "outputs": [],
   "source": [
    "prog = Program()\n",
    "\n",
    "qbits = prog.qalloc(2)\n",
    "\n",
    "prog.apply(U_ZZ(\"dt\"), qbits)\n",
    "\n",
    "circ = prog.to_circ()\n",
    "\n",
    "%qatdisplay  circ"
   ]
  },
  {
   "cell_type": "code",
   "execution_count": null,
   "metadata": {},
   "outputs": [],
   "source": [
    "from qat.lang.AQASM import RZ\n",
    "prog = Program()\n",
    "\n",
    "qbits = prog.qalloc(2)\n",
    "\n",
    "prog.apply(CNOT, qbits)\n",
    "prog.apply(RZ(1.5), qbits[1])\n",
    "prog.apply(CNOT, qbits)\n",
    "\n",
    "circ = prog.to_circ()\n",
    "\n",
    "%qatdisplay circ"
   ]
  },
  {
   "cell_type": "code",
   "execution_count": null,
   "metadata": {},
   "outputs": [],
   "source": [
    "ZZ = np.diag([1,-1,-1,1])\n",
    "XX = np.diag([1,1,1,1])\n",
    "XX = np.fliplr(XX)\n",
    "YY = np.diag([-1,1,1,-1])\n",
    "YY = np.fliplr(YY)\n",
    "\n",
    "CNOT = np.array([[1,0,0,0],[0,1,0,0],[0,0,0,1],[0,0,1,0]])\n",
    "I = np.eye(2)\n",
    "Z = np.diag([1,-1])\n",
    "X = np.array([[0,1],[1,0]])\n",
    "Y = np.array([[0,-1j],[1j,0]])\n",
    "S = np.diag([1,1j])\n",
    "\n",
    "print(\"ZZ\",linalg.expm(-1j*ZZ)==np.dot(np.dot(CNOT,np.kron(I,linalg.expm(-1j*Z))),CNOT))\n",
    "print(\"---\")\n",
    "print(\"XX\",linalg.expm(-1j*XX)==np.dot(np.dot(CNOT,np.kron(linalg.expm(-1j*X),I)),CNOT)  )\n",
    "print(\"---\")\n",
    "A = np.dot(np.kron(I,S), CNOT)\n",
    "B = np.dot(np.kron(linalg.expm(-1j*Y),I),CNOT)\n",
    "C = np.kron(I,S.conj())\n",
    "print(\"YY\",linalg.expm(-1j*YY)==np.dot(A,np.dot(B,C)))"
   ]
  },
  {
   "cell_type": "code",
   "execution_count": null,
   "metadata": {},
   "outputs": [],
   "source": []
  }
 ],
 "metadata": {
  "kernelspec": {
   "display_name": "Python 3",
   "language": "python",
   "name": "python3"
  },
  "language_info": {
   "codemirror_mode": {
    "name": "ipython",
    "version": 3
   },
   "file_extension": ".py",
   "mimetype": "text/x-python",
   "name": "python",
   "nbconvert_exporter": "python",
   "pygments_lexer": "ipython3",
   "version": "3.6.12"
  }
 },
 "nbformat": 4,
 "nbformat_minor": 4
}
