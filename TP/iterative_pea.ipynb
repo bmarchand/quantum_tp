{
 "cells": [
  {
   "cell_type": "code",
   "execution_count": null,
   "metadata": {},
   "outputs": [],
   "source": [
    "from qat.lang.AQASM import Program, H, CNOT, RZ,  AbstractGate\n",
    "import numpy as np\n",
    "from helpers import ansatz, ham_simulation"
   ]
  },
  {
   "cell_type": "code",
   "execution_count": null,
   "metadata": {},
   "outputs": [],
   "source": [
    "nBits = 8\n",
    "\n",
    "import json\n",
    "import matplotlib.pylab as plt\n",
    "\n",
    "with open('hamiltonian_data.json','r') as f:\n",
    "    hams = json.load(f)"
   ]
  },
  {
   "cell_type": "code",
   "execution_count": null,
   "metadata": {},
   "outputs": [],
   "source": [
    "coeffs = hams[0]"
   ]
  },
  {
   "cell_type": "code",
   "execution_count": null,
   "metadata": {},
   "outputs": [],
   "source": [
    "import numpy as np\n",
    "\n",
    "I = np.eye(4)\n",
    "#plt.matshow(I)\n",
    "\n",
    "Z0 = np.diag([1,1,-1,-1])\n",
    "#plt.matshow(Z0)\n",
    "\n",
    "Z1 = np.diag([1,-1,1,-1])\n",
    "#plt.matshow(Z1)\n",
    "\n",
    "Z0Z1 = np.diag([1,-1,-1,1])\n",
    "#plt.matshow(Z0Z1)\n",
    "\n",
    "X0X1 = np.fliplr(np.eye(4))\n",
    "#plt.matshow(X0X1)\n",
    "\n",
    "Y0Y1 = np.fliplr(np.diag([-1, 1, 1, -1]))\n",
    "#plt.matshow(Y0Y1)"
   ]
  },
  {
   "cell_type": "code",
   "execution_count": null,
   "metadata": {},
   "outputs": [],
   "source": [
    "shift = 2.\n",
    "\n",
    "Ham = coeffs['I_coeff'] * I\n",
    "Ham += coeffs['Z0_coeff'] * Z0\n",
    "Ham += coeffs['Z1_coeff'] * Z1\n",
    "Ham += coeffs['Z0Z1_coeff'] * Z0Z1\n",
    "Ham += coeffs['X0X1_coeff'] * X0X1\n",
    "Ham += coeffs['Y0Y1_coeff'] * Y0Y1\n",
    "Ham += shift * I\n",
    "w, v = np.linalg.eigh(Ham)"
   ]
  },
  {
   "cell_type": "code",
   "execution_count": null,
   "metadata": {},
   "outputs": [],
   "source": [
    "def eigen_vecs(coeffs, shift):\n",
    "    Ham = coeffs['I_coeff'] * I\n",
    "    Ham += coeffs['Z0_coeff'] * Z0\n",
    "    Ham += coeffs['Z1_coeff'] * Z1\n",
    "    Ham += coeffs['Z0Z1_coeff'] * Z0Z1\n",
    "    Ham += coeffs['X0X1_coeff'] * X0X1\n",
    "    Ham += coeffs['Y0Y1_coeff'] * Y0Y1\n",
    "    Ham += shift * I\n",
    "    w, v = np.linalg.eigh(Ham)\n",
    "    return v\n",
    "\n",
    "eigen_prep = AbstractGate(\"eigen\", \n",
    "                          [dict, float], \n",
    "                          arity = 2, \n",
    "                          matrix_generator=eigen_vecs)"
   ]
  },
  {
   "cell_type": "code",
   "execution_count": null,
   "metadata": {},
   "outputs": [],
   "source": [
    "prog = Program()\n",
    "prog_ansatz = Program()\n",
    "\n",
    "q = prog.qalloc(3)\n",
    "q2 = prog_ansatz.qalloc(3)\n",
    "\n",
    "prog.apply(eigen_prep(coeffs, shift), q[1], q[2])\n",
    "prog_ansatz.apply(ansatz(0.), q[1], q[2])\n",
    "\n",
    "circ = prog.to_circ()\n",
    "circ_ansatz = prog_ansatz.to_circ()\n",
    "\n",
    "from qat.qpus import get_default_qpu\n",
    "qpu = get_default_qpu()"
   ]
  },
  {
   "cell_type": "code",
   "execution_count": null,
   "metadata": {},
   "outputs": [],
   "source": [
    "job = circ.to_job(qubits = [0,1,2])\n",
    "job_ansatz = circ_ansatz.to_job()\n",
    "\n",
    "result = qpu.submit(job)\n",
    "result_ansatz = qpu.submit(job_ansatz)\n",
    "\n",
    "print(\"Ground state:\")\n",
    "for sample in result:\n",
    "    print(sample.probability,sample.amplitude,sample.state)\n",
    "    \n",
    "print(\"Ansatz:\")\n",
    "for sample in result_ansatz:\n",
    "    print(sample.probability,sample.amplitude,sample.state)"
   ]
  },
  {
   "cell_type": "code",
   "execution_count": null,
   "metadata": {},
   "outputs": [],
   "source": [
    "print(v[:,0])\n"
   ]
  },
  {
   "cell_type": "code",
   "execution_count": null,
   "metadata": {},
   "outputs": [],
   "source": [
    "print(v,w)"
   ]
  },
  {
   "cell_type": "code",
   "execution_count": null,
   "metadata": {},
   "outputs": [],
   "source": [
    "from scipy import linalg\n",
    "\n",
    "E_max = 3\n",
    "E_min = 0.5\n",
    "    \n",
    "dt = (2 * np.pi) / float(E_max)\n",
    "    \n",
    "\n",
    "def unit_ev(coeffs, shift, k):\n",
    "    Ham = coeffs['I_coeff'] * I\n",
    "    Ham += coeffs['Z0_coeff'] * Z0\n",
    "    Ham += coeffs['Z1_coeff'] * Z1\n",
    "    Ham += coeffs['Z0Z1_coeff'] * Z0Z1\n",
    "    Ham += coeffs['X0X1_coeff'] * X0X1\n",
    "    Ham += coeffs['Y0Y1_coeff'] * Y0Y1\n",
    "    Ham += shift * I\n",
    "\n",
    "    return linalg.expm(-1j * Ham * (2**k) * dt)\n",
    "\n",
    "u_k = AbstractGate(\"uk\", \n",
    "                   [dict, float, int], \n",
    "                   arity=2, \n",
    "                   matrix_generator=unit_ev)"
   ]
  },
  {
   "cell_type": "code",
   "execution_count": null,
   "metadata": {},
   "outputs": [],
   "source": [
    "bits = {}\n",
    "\n",
    "for k in range(nBits, 0, -1):\n",
    "    prog = Program()\n",
    "    \n",
    "    q = prog.qalloc(3)\n",
    "    \n",
    "    prog.apply(H, q[0])    \n",
    "    prog.apply(eigen_prep(coeffs, shift), q[1], q[2])\n",
    "\n",
    "    prog.apply(u_k(coeffs, shift, k-1).ctrl(), q)\n",
    "    \n",
    "    phi_k = 0\n",
    "\n",
    "    for l in range(k+1, nBits+1, 1):\n",
    "        phi_k += bits[l] / float(2**(l-k+1))\n",
    "    \n",
    "    phi_k *= 2 * np.pi\n",
    "    \n",
    "    prog.apply(RZ(phi_k), q[0])\n",
    "    prog.apply(H, q[0])\n",
    "    \n",
    "    job = prog.to_circ().to_job(qubits=[0])\n",
    "    \n",
    "    result = qpu.submit(job)\n",
    "    \n",
    "    max_proba = -1\n",
    "    max_state = -1\n",
    "    for sample in result:\n",
    "        print(sample.probability, sample.state)\n",
    "        if sample.probability > max_proba:\n",
    "            max_proba = sample.probability\n",
    "            max_state = sample._state\n",
    "     \n",
    "    bits[k] = max_state\n",
    "    \n",
    "print(bits)\n",
    "print([bits[k] for k in range(1,nBits+1,1)])"
   ]
  },
  {
   "cell_type": "code",
   "execution_count": null,
   "metadata": {},
   "outputs": [],
   "source": [
    "phi = 0\n",
    "for l in range(1,nBits+1):\n",
    "    print(l)\n",
    "    phi += float(bits[l])/float(2**l)\n",
    "    \n",
    "print(phi)"
   ]
  },
  {
   "cell_type": "code",
   "execution_count": null,
   "metadata": {},
   "outputs": [],
   "source": [
    "def phase(coeffs, ansatz_prep=False, ansatz_angle=0., trotterization=False, trotter_number=4):\n",
    "    \n",
    "    bits = {}\n",
    "\n",
    "    for k in range(nBits, 0, -1):\n",
    "        prog = Program()\n",
    "\n",
    "        q = prog.qalloc(3)\n",
    "\n",
    "        prog.apply(H, q[0])\n",
    "        if ansatz_prep:\n",
    "            prog.apply(ansatz(ansatz_angle), q[1], q[2])\n",
    "        else:\n",
    "            prog.apply(eigen_prep(coeffs, shift), q[1], q[2])\n",
    "\n",
    "        if trotterization:\n",
    "            prog.apply(ham_simulation(coeffs, (2**(k-1)) * dt, trotter_number, shift).ctrl(), q)\n",
    "        else:\n",
    "            prog.apply(u_k(coeffs, shift, k-1).ctrl(), q)\n",
    "\n",
    "        phi_k = 0\n",
    "\n",
    "        for l in range(k+1, nBits+1, 1):\n",
    "            phi_k += bits[l] / float(2**(l-k+1))\n",
    "\n",
    "        phi_k *= 2 * np.pi\n",
    "\n",
    "        prog.apply(RZ(phi_k), q[0])\n",
    "        prog.apply(H, q[0])\n",
    "\n",
    "        job = prog.to_circ().to_job(qubits=[0])\n",
    "\n",
    "        result = qpu.submit(job)\n",
    "\n",
    "        max_proba = -1\n",
    "        max_state = -1\n",
    "        for sample in result:\n",
    "            if sample.probability > max_proba:\n",
    "                max_proba = sample.probability\n",
    "                max_state = sample._state\n",
    "     \n",
    "        bits[k] = max_state\n",
    "    \n",
    "#    print([bits[k] for k in range(1,nBits+1,1)])\n",
    "        \n",
    "    phi = 0\n",
    "    for l in range(1,nBits+1,1):\n",
    "        phi += float(bits[l])/float(2**l)\n",
    "            \n",
    "    return phi\n"
   ]
  },
  {
   "cell_type": "code",
   "execution_count": null,
   "metadata": {},
   "outputs": [],
   "source": [
    "vals = []\n",
    "vals_ansatz = []\n",
    "vals_trotter = []\n",
    "vals_all = []\n",
    "Rs = []\n",
    "for coeffs in hams:\n",
    "    phi_c = phase(coeffs)\n",
    "    phi_ansatz = phase(coeffs, ansatz_prep=True, ansatz_angle=0.)\n",
    "    phi_trotter = phase(coeffs, trotterization=True, trotter_number=100)\n",
    "    phi_all = phase(coeffs, trotterization = True, ansatz_prep=True, trotter_number=10)\n",
    "    \n",
    "    E = ((2*np.pi)/dt)*phi_c\n",
    "    E_ansatz = ((2*np.pi)/dt)*phi_ansatz\n",
    "    E_trotter = ((2*np.pi)/dt)*phi_trotter\n",
    "    E_all = ((2*np.pi)/dt)*phi_all\n",
    "    \n",
    "    print(\"R\", coeffs['R'])\n",
    "    Rs.append(coeffs['R'])\n",
    "    \n",
    "    vals.append(E-shift)\n",
    "    vals_ansatz.append(E_ansatz-shift)\n",
    "    vals_trotter.append(E_trotter-shift)\n",
    "    vals_all.append(E_all-shift)\n"
   ]
  },
  {
   "cell_type": "code",
   "execution_count": null,
   "metadata": {},
   "outputs": [],
   "source": [
    "plt.plot(Rs,vals, label=\"perfect\")\n",
    "plt.plot(Rs,vals_ansatz, label=\"perfect+ansatz\")\n",
    "plt.plot(Rs, vals_trotter, label=\"perfect+trotter\")\n",
    "plt.plot(Rs, vals_all, label=\"all\")\n",
    "plt.legend()"
   ]
  },
  {
   "cell_type": "code",
   "execution_count": null,
   "metadata": {},
   "outputs": [],
   "source": [
    "from helpers import u_yy_matrix\n",
    "\n",
    "print(u_yy_matrix(0.3))\n",
    "\n",
    "print(linalg.expm(-1j*Y0Y1*0.3))\n",
    "\n",
    "print(\"SUM of DIFF \",(u_yy_matrix(0.3)-linalg.expm(-1j*Y0Y1*0.3)).sum())"
   ]
  },
  {
   "cell_type": "code",
   "execution_count": null,
   "metadata": {},
   "outputs": [],
   "source": [
    "import numpy as np\n",
    "\n",
    "H = (1/np.sqrt(2))*np.array([[1,1],[1,-1]])\n",
    "S = np.diag([1,1j])\n",
    "Sd = np.diag([1,-1j])\n",
    "\n",
    "Y = np.array([[0,-1j],[1j, 0]])\n",
    "\n",
    "Z = np.diag([1,-1])\n",
    "\n",
    "W = np.dot(S,np.dot(H,S))\n",
    "Wd = np.dot(Sd, np.dot(H,Sd))\n",
    "\n",
    "\n",
    "print(np.dot(Wd,np.dot(Y,W)))"
   ]
  },
  {
   "cell_type": "code",
   "execution_count": null,
   "metadata": {},
   "outputs": [],
   "source": []
  }
 ],
 "metadata": {
  "kernelspec": {
   "display_name": "Python 3",
   "language": "python",
   "name": "python3"
  },
  "language_info": {
   "codemirror_mode": {
    "name": "ipython",
    "version": 3
   },
   "file_extension": ".py",
   "mimetype": "text/x-python",
   "name": "python",
   "nbconvert_exporter": "python",
   "pygments_lexer": "ipython3",
   "version": "3.6.12"
  }
 },
 "nbformat": 4,
 "nbformat_minor": 4
}
