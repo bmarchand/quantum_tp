{
 "cells": [
  {
   "cell_type": "markdown",
   "id": "bad09515",
   "metadata": {},
   "source": [
    "## Part 1 implementing QAOA\n"
   ]
  },
  {
   "cell_type": "markdown",
   "id": "536219fc",
   "metadata": {},
   "source": [
    "### Question1 :\n",
    "Write down in the cell below the Hamiltonian whose ground state is the solution to MaxCUT on an input graph $G=(V,E)$:"
   ]
  },
  {
   "cell_type": "markdown",
   "id": "fd36b562",
   "metadata": {},
   "source": [
    "$$ H = \\sum_{i,j\\in E} \\sigma_i \\cdot \\sigma_j $$"
   ]
  },
  {
   "cell_type": "markdown",
   "id": "b045f8b7",
   "metadata": {},
   "source": [
    "### Question 2:\n",
    "Complete the implementation below of a simple, brute-force enumeration of all states computing the optimal solution to MaxCUT for the graph represented by 'edges'"
   ]
  },
  {
   "cell_type": "code",
   "execution_count": 1,
   "id": "7bc976fa",
   "metadata": {},
   "outputs": [
    {
     "name": "stdout",
     "output_type": "stream",
     "text": [
      "-5\n",
      "[1, 0, 0, 1, 1]\n"
     ]
    }
   ],
   "source": [
    "import numpy as np\n",
    "\n",
    "graph1 = [(0,1),(0,2),(1,3),(2,3)]\n",
    "graph2 = [(0,1),(1,2),(0,3),(1,4),(2,5),(3,6),(4,7),(5,8),(3,4),(4,5),(6,7),(7,8)]\n",
    "graph3 = [(0,1),(1,2),(0,3),(1,4),(2,5),(3,6),(4,7),(3,4),(4,5),(6,7)]\n",
    "graph4 = [(0,1),(1,2),(2,3),(4,5),(5,6),(6,7),(0,4),(1,5),(2,6),(3,7)]\n",
    "graph5 = [(0,1),(0,2),(1,3),(2,4),(3,5),(4,5),(1,4)]\n",
    "graph6 = [(0,1),(0,2),(1,3),(2,4),(1,4)]\n",
    "\n",
    "\n",
    "# choice of graph\n",
    "edges = graph6\n",
    "\n",
    "nqubits = max([max(list(v)) for v in edges])+1\n",
    "\n",
    "#nqubits = 5\n",
    "graph7 = [(i,(i+1)%nqubits) for i in range(nqubits)]+[(1,4)]\n",
    "\n",
    "\n",
    "# COMPUTATION OF OPT.\n",
    "best_value = len(edges)\n",
    "best_b = 0\n",
    "for x in range(2**nqubits):\n",
    "    b = np.binary_repr(x, width=nqubits)\n",
    "    b = [int(b[i]) for i in range(nqubits)]\n",
    "    # TODO: Complete the computation below:\n",
    "    # b[i] is equal to 0 or 1 (binary decomposition of x) \n",
    "    val = 0\n",
    "    for i,j in edges:\n",
    "        val += (1-2*int(b[i])) * (1-2*int(b[j]))\n",
    "\n",
    "    # END TODO\n",
    "    if val <= best_value:\n",
    "        best_value = val\n",
    "        best_b = b\n",
    "print(best_value)\n",
    "print(best_b)"
   ]
  },
  {
   "cell_type": "markdown",
   "id": "4bed0ead",
   "metadata": {},
   "source": [
    "#### visualization of the graph"
   ]
  },
  {
   "cell_type": "code",
   "execution_count": 2,
   "id": "11a7d2a7",
   "metadata": {},
   "outputs": [
    {
     "data": {
      "image/png": "[encoded data removed]",
      "text/plain": [
       "<Figure size 432x288 with 1 Axes>"
      ]
     },
     "metadata": {},
     "output_type": "display_data"
    }
   ],
   "source": [
    "import networkx as nx\n",
    "G = nx.Graph()\n",
    "for i,j in edges:\n",
    "    G.add_edge(i,j)\n",
    "nx.draw_networkx(G)"
   ]
  },
  {
   "cell_type": "code",
   "execution_count": 3,
   "id": "1bcf8886",
   "metadata": {},
   "outputs": [],
   "source": [
    "from qat.lang.AQASM import Program, H, CNOT, RX, QRoutine, RZ, X, Z"
   ]
  },
  {
   "cell_type": "code",
   "execution_count": 4,
   "id": "f125405c",
   "metadata": {},
   "outputs": [],
   "source": [
    "def U_ZZ(theta):\n",
    "    \n",
    "    zz_r = QRoutine()\n",
    "    zz_r.apply(CNOT, 0, 1)\n",
    "    zz_r.apply(RZ(theta), 1) # difference of convention between implemented version and what we need.\n",
    "    zz_r.apply(CNOT, 0, 1)\n",
    "\n",
    "    return zz_r"
   ]
  },
  {
   "cell_type": "markdown",
   "id": "b87e91ed",
   "metadata": {},
   "source": [
    "### Question 3"
   ]
  },
  {
   "cell_type": "code",
   "execution_count": 5,
   "id": "27954bb3",
   "metadata": {},
   "outputs": [],
   "source": [
    "def one_qaoa_layer(n_qubits, edges, theta, beta):\n",
    "\n",
    "    layer = QRoutine()\n",
    "    #TODO: implement one qaoa layer\n",
    "    # first half:\n",
    "    for k in range(n_qubits):\n",
    "        layer.apply(RX(theta), k)\n",
    "    \n",
    "    # second half:\n",
    "    for k, (i,j) in enumerate(edges):\n",
    "        layer.apply(U_ZZ(beta), i , j)\n",
    "    \n",
    "    return layer"
   ]
  },
  {
   "cell_type": "markdown",
   "id": "bd0c36a5",
   "metadata": {},
   "source": [
    "### Question 4"
   ]
  },
  {
   "cell_type": "code",
   "execution_count": 6,
   "id": "655a9aaa",
   "metadata": {},
   "outputs": [],
   "source": [
    "from qat.qpus import get_default_qpu\n",
    "\n",
    "def evaluate_parameters(n_qubits, edges, parameters, n_layers):\n",
    "    \n",
    "    prog = Program()\n",
    "    qubits = prog.qalloc(n_qubits)\n",
    "    \n",
    "    # TODO: implement this part.\n",
    "\n",
    "    for k in range(n_qubits):\n",
    "        prog.apply(H, qubits[k])\n",
    "        \n",
    "    for l in range(n_layers):\n",
    "        theta, beta = parameters[2*l], parameters[2*l+1]\n",
    "        prog.apply(one_qaoa_layer(n_qubits, edges, theta, beta), qubits)\n",
    "        \n",
    "    # END TODO\n",
    "    circ = prog.to_circ()\n",
    "    \n",
    "    job = circ.to_job()\n",
    "    qpu = get_default_qpu()\n",
    "    \n",
    "    result = qpu.submit(job)\n",
    "    \n",
    "    # BEGIN TODO\n",
    "    obs = 0\n",
    "    for sample in result:\n",
    "        # this loop is over all 2**nqubits states.\n",
    "        # sample.state.bitstring contains the qubit values (nqubits 0 or 1)\n",
    "        state_val = 0\n",
    "        for i,j in edges:\n",
    "            state_val +=  (1-2*int(sample.state.bitstring[i])) * (1-2*int(sample.state.bitstring[j]))\n",
    "        obs += sample.probability * state_val\n",
    "    # END TODO\n",
    "    return obs\n",
    "    \n",
    "        "
   ]
  },
  {
   "cell_type": "code",
   "execution_count": 7,
   "id": "88963901",
   "metadata": {},
   "outputs": [
    {
     "data": {
      "text/plain": [
       "array([0.87113423, 0.02126664, 0.38767156])"
      ]
     },
     "execution_count": 7,
     "metadata": {},
     "output_type": "execute_result"
    }
   ],
   "source": [
    "import numpy as np\n",
    "np.random.random(3)"
   ]
  },
  {
   "cell_type": "code",
   "execution_count": 8,
   "id": "42557843",
   "metadata": {},
   "outputs": [],
   "source": [
    "from scipy.optimize import minimize\n"
   ]
  },
  {
   "cell_type": "markdown",
   "id": "0846a6dd",
   "metadata": {},
   "source": [
    "### Random initialisation"
   ]
  },
  {
   "cell_type": "markdown",
   "id": "f679d3e0",
   "metadata": {},
   "source": [
    "### Question 5: \n",
    "réponse à la question:"
   ]
  },
  {
   "cell_type": "code",
   "execution_count": 9,
   "id": "36f6e279",
   "metadata": {},
   "outputs": [
    {
     "name": "stdout",
     "output_type": "stream",
     "text": [
      "1.7257160980912936 0.6784335452958499 -0.5517338414766423 -0.7294321809631017 -2.7161784440570633 -3.014479901303468 -3.509485716063661 -4.118682367007303 -4.190062962180375 -4.2068012468270135 -4.224726216261317 -4.257809615967048 -4.313720766398691 -4.362771838683294 -4.408003029128921 -4.468071238741418 -4.532688601717766 -4.604728930835885 -4.646843078586752 -4.652289281819598 -4.659653723558392 -4.660248157284326 -4.66129149187362 -4.662540955604925 -4.662589476928932 -4.662589579691785 -4.662589586922148 -4.662589588214759 -4.662589588287162 -1.8886320081503292 -2.7284965909965733 -2.8094749625537934 -3.3681771555574254 -3.5800189274139735 -3.795082400074597 -4.0032988011833455 -4.037367733411476 -4.085764203184898 -4.140562876420415 -4.167289323419566 -4.206052931427575 -4.262834803185265 -4.329448730197705 -4.340169091114529 -4.351053697790059 -4.363012259021869 -4.371923011828695 -4.374978919337142 -4.3791247773123265 -4.3827019173422945 -4.385805038580017 -4.388676123979213 -4.389815446818156 -4.391554029743831 -4.394180440416536 -4.3976192311147315 -4.400368760827699 -4.401445758924404 -4.402349523634798 -4.402390182609969 -4.402465940805329 -4.4025956230616 -4.402741293059087 -4.40275616573306 -4.402764285641352 -4.40276476418205 -4.4027649195146275 -4.402764958046283 -4.40276496466713 -4.402764964789757 "
     ]
    },
    {
     "data": {
      "text/plain": [
       "<matplotlib.legend.Legend at 0x7f6f1af3e620>"
      ]
     },
     "execution_count": 9,
     "metadata": {},
     "output_type": "execute_result"
    },
    {
     "data": {
      "image/png": "[encoded data removed]",
      "text/plain": [
       "<Figure size 432x288 with 1 Axes>"
      ]
     },
     "metadata": {
      "needs_background": "light"
     },
     "output_type": "display_data"
    }
   ],
   "source": [
    "import matplotlib.pylab as plt\n",
    "\n",
    "\n",
    "for nlayers in range(4,6,1):\n",
    "    num_params = 2*nlayers\n",
    "\n",
    "    back_trace = []\n",
    "    def print_avg(xk):\n",
    "        eva = evaluate_parameters(nqubits, edges, xk,nlayers)\n",
    "        back_trace.append(eva)\n",
    "        print(eva, end=' ')\n",
    "\n",
    "    opt_res = minimize(lambda x : evaluate_parameters(nqubits, edges, x, nlayers), \n",
    "                       np.random.random(num_params),\n",
    "                       callback=print_avg,)\n",
    "    plt.plot(back_trace,label=str(nlayers))\n",
    "# there exists a classical polynomial algorithm returning solutions within a factor of 0.878 of the optimal\n",
    "# we must at least beat that. https://fr.wikipedia.org/wiki/Coupe_maximum\n",
    "plt.axhline(0.878*best_value, color='b', label=\"classical apx ratio\")\n",
    "plt.axhline(best_value,color='r',label='optimal value')\n",
    "plt.legend()\n"
   ]
  },
  {
   "cell_type": "markdown",
   "id": "e9dffce1",
   "metadata": {},
   "source": [
    "### Question 6: smart initialization"
   ]
  },
  {
   "cell_type": "code",
   "execution_count": 10,
   "id": "d1eb83de",
   "metadata": {},
   "outputs": [
    {
     "name": "stdout",
     "output_type": "stream",
     "text": [
      "-2.1359022554561484 -2.306776065464476 -2.3786302286584586 -2.9045333067443364 -2.9264881054511744 -3.099642484499871 -3.5940932070528433 -3.7466659352665554 -3.9225399327224832 -3.9731384756016843 -3.9774168125731735 -3.978216061979363 -3.9782679225184974 -3.9782690246237724 -3.9782690296436733 -3.978269029656433 -2.599981653802828 -3.365669937488377 -3.752963314097246 -3.927281721891532 -3.9688990528476964 -4.038229676942271 -4.103386074571563 -4.104857753078438 -4.10661798090159 -4.10953125918244 -4.114516849187229 -4.121888899534035 -4.135085308133915 -4.158063698065237 -4.1897058529735745 -4.2020498503168335 -4.2106212087023644 -4.215122577501769 -4.219179085284791 -4.224487825064949 -4.232017114759143 -4.234221082260475 -4.23433112679834 -4.234344703714801 -4.234345270256756 -4.234345296012444 -4.234345297607184 -4.234345297649698 -2.9000601975243523 -2.9620235020885404 -3.514442144393431 -3.833248912662027 -3.9183466252839443 -4.041166463547166 -4.085604340591704 -4.153148360741617 -4.239799624537141 -4.2932268373795095 -4.358520029355777 -4.384011612822582 -4.423379096353076 -4.465257312853876 -4.523245361875094 -4.606720720543431 -4.660322176815087 -4.68213690316301 -4.698929718729421 -4.7039298437751755 -4.707818983084227 -4.714449437018902 -4.723800443514356 -4.7276677779289225 -4.728426924101743 -4.728895343621736 -4.729107256277179 -4.729453827496595 -4.729937045531181 -4.730204596336403 -4.730401359806808 -4.730500414431812 -4.730515963941344 -4.730520138796647 -4.730520852598003 -4.730520925480644 -4.730520932298896 -4.730520932589894 -4.730520932602588 "
     ]
    },
    {
     "data": {
      "text/plain": [
       "<matplotlib.legend.Legend at 0x7f6f1ab394e0>"
      ]
     },
     "execution_count": 10,
     "metadata": {},
     "output_type": "execute_result"
    },
    {
     "data": {
      "image/png": "[encoded data removed]",
      "text/plain": [
       "<Figure size 432x288 with 1 Axes>"
      ]
     },
     "metadata": {
      "needs_background": "light"
     },
     "output_type": "display_data"
    }
   ],
   "source": [
    "T = 1.\n",
    "\n",
    "for nlayers in range(3,6,1):\n",
    "    num_params = 2*nlayers\n",
    "\n",
    "    back_trace = []\n",
    "    def print_avg(xk):\n",
    "        eva = evaluate_parameters(nqubits, edges, xk,nlayers)\n",
    "        back_trace.append(eva)\n",
    "        print(eva, end=' ')\n",
    "\n",
    "    # TODO implement parameter init\n",
    "    parameters_init = []\n",
    "    for l in range(nlayers):\n",
    "        parameters_init.append(T*(1-l/float(nlayers)))\n",
    "        parameters_init.append(T*l/float(nlayers))\n",
    "\n",
    "        \n",
    "    opt_res = minimize(lambda x : evaluate_parameters(nqubits, edges, x, nlayers), \n",
    "                       parameters_init, \n",
    "                       callback=print_avg,)\n",
    "    plt.plot(back_trace,label=str(nlayers))\n",
    "plt.axhline(0.878*best_value, color='b', label=\"classical apx ratio\")\n",
    "plt.axhline(best_value,color='r',label='optimal value')\n",
    "plt.legend()"
   ]
  }
 ],
 "metadata": {
  "kernelspec": {
   "display_name": "Python 3 (ipykernel)",
   "language": "python",
   "name": "python3"
  },
  "language_info": {
   "codemirror_mode": {
    "name": "ipython",
    "version": 3
   },
   "file_extension": ".py",
   "mimetype": "text/x-python",
   "name": "python",
   "nbconvert_exporter": "python",
   "pygments_lexer": "ipython3",
   "version": "3.10.6"
  }
 },
 "nbformat": 4,
 "nbformat_minor": 5
}
