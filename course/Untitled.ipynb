{
 "cells": [
  {
   "cell_type": "code",
   "execution_count": 9,
   "id": "413d16b9",
   "metadata": {},
   "outputs": [],
   "source": [
    "from qat.lang.AQASM import Program, H, AbstractGate"
   ]
  },
  {
   "cell_type": "code",
   "execution_count": 14,
   "id": "aa74ce0b",
   "metadata": {},
   "outputs": [
    {
     "ename": "AttributeError",
     "evalue": "'AbstractGate' object has no attribute 'extract_signatures'",
     "output_type": "error",
     "traceback": [
      "\u001b[0;31m---------------------------------------------------------------------------\u001b[0m",
      "\u001b[0;31mAttributeError\u001b[0m                            Traceback (most recent call last)",
      "\u001b[0;32m/tmp/ipykernel_129967/3667436753.py\u001b[0m in \u001b[0;36m<module>\u001b[0;34m\u001b[0m\n\u001b[1;32m     12\u001b[0m \u001b[0mmy_program\u001b[0m\u001b[0;34m.\u001b[0m\u001b[0mapply\u001b[0m\u001b[0;34m(\u001b[0m\u001b[0mO_f\u001b[0m\u001b[0;34m,\u001b[0m \u001b[0mqbits\u001b[0m\u001b[0;34m)\u001b[0m\u001b[0;34m\u001b[0m\u001b[0;34m\u001b[0m\u001b[0m\n\u001b[1;32m     13\u001b[0m \u001b[0;34m\u001b[0m\u001b[0m\n\u001b[0;32m---> 14\u001b[0;31m \u001b[0mcirc\u001b[0m \u001b[0;34m=\u001b[0m \u001b[0mmy_program\u001b[0m\u001b[0;34m.\u001b[0m\u001b[0mto_circ\u001b[0m\u001b[0;34m(\u001b[0m\u001b[0;34m)\u001b[0m\u001b[0;34m\u001b[0m\u001b[0;34m\u001b[0m\u001b[0m\n\u001b[0m\u001b[1;32m     15\u001b[0m \u001b[0;34m\u001b[0m\u001b[0m\n\u001b[1;32m     16\u001b[0m \u001b[0mget_ipython\u001b[0m\u001b[0;34m(\u001b[0m\u001b[0;34m)\u001b[0m\u001b[0;34m.\u001b[0m\u001b[0mrun_line_magic\u001b[0m\u001b[0;34m(\u001b[0m\u001b[0;34m'qatdisplay'\u001b[0m\u001b[0;34m,\u001b[0m \u001b[0;34m'--svg circ'\u001b[0m\u001b[0;34m)\u001b[0m\u001b[0;34m\u001b[0m\u001b[0;34m\u001b[0m\u001b[0m\n",
      "\u001b[0;32m~/.local/lib/python3.9/site-packages/qat/lang/AQASM/program.so\u001b[0m in \u001b[0;36mqat.lang.AQASM.program.Program.to_circ\u001b[0;34m()\u001b[0m\n",
      "\u001b[0;32m~/.local/lib/python3.9/site-packages/qat/lang/AQASM/program.so\u001b[0m in \u001b[0;36mqat.lang.AQASM.program.Program._build\u001b[0;34m()\u001b[0m\n",
      "\u001b[0;32m~/.local/lib/python3.9/site-packages/qat/lang/AQASM/operations.so\u001b[0m in \u001b[0;36mqat.lang.AQASM.operations.QGateOperation.extract_signatures\u001b[0;34m()\u001b[0m\n",
      "\u001b[0;31mAttributeError\u001b[0m: 'AbstractGate' object has no attribute 'extract_signatures'"
     ]
    }
   ],
   "source": [
    "my_program = Program()\n",
    "\n",
    "n = 10\n",
    "\n",
    "qbits = my_program.qalloc(n+1)\n",
    "\n",
    "O_f = AbstractGate(r'$O_f$', [], arity=n+1, matrix_generator=None)\n",
    "\n",
    "for i in range(n):\n",
    "    my_program.apply(H, qbits[i])\n",
    "\n",
    "my_program.apply(O_f, qbits)\n",
    "\n",
    "circ = my_program.to_circ()\n",
    "\n",
    "%qatdisplay --svg circ"
   ]
  },
  {
   "cell_type": "code",
   "execution_count": null,
   "id": "586c50a4",
   "metadata": {},
   "outputs": [],
   "source": []
  }
 ],
 "metadata": {
  "kernelspec": {
   "display_name": "Python 3 (ipykernel)",
   "language": "python",
   "name": "python3"
  },
  "language_info": {
   "codemirror_mode": {
    "name": "ipython",
    "version": 3
   },
   "file_extension": ".py",
   "mimetype": "text/x-python",
   "name": "python",
   "nbconvert_exporter": "python",
   "pygments_lexer": "ipython3",
   "version": "3.9.5"
  }
 },
 "nbformat": 4,
 "nbformat_minor": 5
}
