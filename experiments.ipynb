{
 "cells": [
  {
   "cell_type": "code",
   "execution_count": null,
   "metadata": {},
   "outputs": [],
   "source": [
    "from qat.lang.AQASM import Program, H, CNOT, AbstractGate\n",
    "import numpy as np"
   ]
  },
  {
   "cell_type": "code",
   "execution_count": null,
   "metadata": {},
   "outputs": [],
   "source": [
    "import sys\n",
    "sys.version"
   ]
  },
  {
   "cell_type": "code",
   "execution_count": null,
   "metadata": {},
   "outputs": [],
   "source": [
    "from helpers import U_ZZ, U_XX, U_YY, U_IZ, U_ZI, U_II"
   ]
  },
  {
   "cell_type": "code",
   "execution_count": null,
   "metadata": {},
   "outputs": [],
   "source": [
    "prog = Program()\n",
    "\n",
    "n = 2\n",
    "t = 6\n",
    "\n",
    "q = prog.qalloc(n+t)\n",
    "\n",
    "prog.apply(U_ZZ(4.5).ctrl(), [q[0]]+q[t:])\n",
    "prog.apply(U_XX(2.85).ctrl(), [q[1]]+q[t:])\n",
    "prog.apply(U_YY(78.8).ctrl(), [q[2]]+q[t:])\n",
    "prog.apply(U_IZ(78.8).ctrl(), [q[3]]+q[t:])\n",
    "prog.apply(U_ZI(78.8).ctrl(), [q[4]]+q[t:])\n",
    "prog.apply(U_II(78.8).ctrl(), [q[5]]+q[t:])\n"
   ]
  },
  {
   "cell_type": "code",
   "execution_count": null,
   "metadata": {},
   "outputs": [],
   "source": [
    "circ = prog.to_circ(inline=True)\n",
    "\n",
    "%qatdisplay --svg circ"
   ]
  },
  {
   "cell_type": "code",
   "execution_count": null,
   "metadata": {},
   "outputs": [],
   "source": [
    "import json\n",
    "\n",
    "with open('hamiltonian_data.json','r') as f:\n",
    "    l = json.load(f)"
   ]
  },
  {
   "cell_type": "code",
   "execution_count": null,
   "metadata": {},
   "outputs": [],
   "source": [
    "print(l[0].keys())"
   ]
  },
  {
   "cell_type": "code",
   "execution_count": null,
   "metadata": {},
   "outputs": [],
   "source": [
    "from helpers import pea"
   ]
  },
  {
   "cell_type": "code",
   "execution_count": null,
   "metadata": {},
   "outputs": [],
   "source": [
    "t = 10\n",
    "\n",
    "prog = Program()\n",
    "\n",
    "qbits = prog.qalloc(t+2) \n",
    "\n",
    "prog.apply(pea(l[0],4,t,0.1), qbits)\n",
    "\n",
    "circ = prog.to_circ()\n",
    "\n",
    "%qatdisplay --svg circ "
   ]
  },
  {
   "cell_type": "code",
   "execution_count": null,
   "metadata": {},
   "outputs": [],
   "source": [
    "from qat.qpus import get_default_qpu\n",
    "qpu = get_default_qpu()"
   ]
  },
  {
   "cell_type": "code",
   "execution_count": null,
   "metadata": {},
   "outputs": [],
   "source": [
    "job = circ.to_job(qubits = range(t), lsb_first=True)"
   ]
  },
  {
   "cell_type": "code",
   "execution_count": null,
   "metadata": {},
   "outputs": [],
   "source": [
    "result = qpu.submit(job)\n",
    "p = -1\n",
    "\n",
    "result.lsb_first = False\n",
    "for sample in result:\n",
    "    if sample.probability > p:\n",
    "        state = sample.state\n",
    "        p = sample.probability\n",
    "        sam = sample\n",
    "\n",
    "print(state, p)\n",
    "print(sam._state)\n",
    "print(sam)\n",
    "\n",
    "print(bin(sam._state))\n",
    "for b in state:\n",
    "    print(b)"
   ]
  },
  {
   "cell_type": "code",
   "execution_count": null,
   "metadata": {},
   "outputs": [],
   "source": [
    "import matplotlib.pylab as plt\n",
    "energy = []\n",
    "Rs = []\n",
    "\n",
    "t = 16\n",
    "p = 1\n",
    "\n",
    "for coeffs in l[::2]:\n",
    "    Rs.append(coeffs[\"R\"])\n",
    "\n",
    "    prog = Program()\n",
    "\n",
    "    qbits = prog.qalloc(t+2) \n",
    "\n",
    "    prog.apply(pea(coeffs,p,t,0.3), qbits)\n",
    "\n",
    "    circ = prog.to_circ()\n",
    "    job = circ.to_job(qubits = range(t))\n",
    "\n",
    "    result = qpu.submit(job)\n",
    "\n",
    "    prob = -1\n",
    "    \n",
    "\n",
    "    for sample in result:\n",
    "        if sample.probability > prob:\n",
    "            state = sample.state\n",
    "            prob = sample.probability\n",
    "            sam = sample\n",
    "    \n",
    "    print(state)\n",
    "    energy.append(sam._state)\n",
    "    \n"
   ]
  },
  {
   "cell_type": "code",
   "execution_count": null,
   "metadata": {},
   "outputs": [],
   "source": [
    "plt.plot(Rs, energy)\n",
    "plt.ylim([0,1000])\n",
    "    "
   ]
  },
  {
   "cell_type": "code",
   "execution_count": null,
   "metadata": {},
   "outputs": [],
   "source": []
  }
 ],
 "metadata": {
  "kernelspec": {
   "display_name": "Python 3",
   "language": "python",
   "name": "python3"
  },
  "language_info": {
   "codemirror_mode": {
    "name": "ipython",
    "version": 3
   },
   "file_extension": ".py",
   "mimetype": "text/x-python",
   "name": "python",
   "nbconvert_exporter": "python",
   "pygments_lexer": "ipython3",
   "version": "3.6.12"
  }
 },
 "nbformat": 4,
 "nbformat_minor": 4
}
