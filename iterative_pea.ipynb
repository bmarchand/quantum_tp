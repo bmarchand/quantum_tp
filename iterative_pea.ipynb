{
 "cells": [
  {
   "cell_type": "code",
   "execution_count": 1,
   "metadata": {},
   "outputs": [],
   "source": [
    "from qat.lang.AQASM import Program, H, CNOT, RZ,  AbstractGate\n",
    "import numpy as np\n",
    "from helpers import ansatz"
   ]
  },
  {
   "cell_type": "code",
   "execution_count": 2,
   "metadata": {},
   "outputs": [],
   "source": [
    "nBits = 8\n",
    "\n",
    "import json\n",
    "import matplotlib.pylab as plt\n",
    "\n",
    "with open('hamiltonian_data.json','r') as f:\n",
    "    hams = json.load(f)"
   ]
  },
  {
   "cell_type": "code",
   "execution_count": 3,
   "metadata": {},
   "outputs": [],
   "source": [
    "coeffs = hams[0]"
   ]
  },
  {
   "cell_type": "code",
   "execution_count": 4,
   "metadata": {},
   "outputs": [],
   "source": [
    "import numpy as np\n",
    "\n",
    "I = np.eye(4)\n",
    "#plt.matshow(I)\n",
    "\n",
    "Z0 = np.diag([1,1,-1,-1])\n",
    "#plt.matshow(Z0)\n",
    "\n",
    "Z1 = np.diag([1,-1,1,-1])\n",
    "#plt.matshow(Z1)\n",
    "\n",
    "Z0Z1 = np.diag([1,-1,-1,1])\n",
    "#plt.matshow(Z0Z1)\n",
    "\n",
    "X0X1 = np.fliplr(np.eye(4))\n",
    "#plt.matshow(X0X1)\n",
    "\n",
    "Y0Y1 = np.fliplr(np.diag([-1, 1, 1, -1]))\n",
    "#plt.matshow(Y0Y1)"
   ]
  },
  {
   "cell_type": "code",
   "execution_count": 5,
   "metadata": {},
   "outputs": [],
   "source": [
    "shift = 2.\n",
    "\n",
    "Ham = coeffs['I_coeff'] * I\n",
    "Ham += coeffs['Z0_coeff'] * Z0\n",
    "Ham += coeffs['Z1_coeff'] * Z1\n",
    "Ham += coeffs['Z0Z1_coeff'] * Z0Z1\n",
    "Ham += coeffs['X0X1_coeff'] * X0X1\n",
    "Ham += coeffs['Y0Y1_coeff'] * Y0Y1\n",
    "Ham += shift * I\n",
    "w, v = np.linalg.eigh(Ham)"
   ]
  },
  {
   "cell_type": "code",
   "execution_count": 6,
   "metadata": {},
   "outputs": [],
   "source": [
    "def eigen_vecs(coeffs, shift):\n",
    "    Ham = coeffs['I_coeff'] * I\n",
    "    Ham += coeffs['Z0_coeff'] * Z0\n",
    "    Ham += coeffs['Z1_coeff'] * Z1\n",
    "    Ham += coeffs['Z0Z1_coeff'] * Z0Z1\n",
    "    Ham += coeffs['X0X1_coeff'] * X0X1\n",
    "    Ham += coeffs['Y0Y1_coeff'] * Y0Y1\n",
    "    Ham += shift * I\n",
    "    w, v = np.linalg.eigh(Ham)\n",
    "    return v\n",
    "\n",
    "eigen_prep = AbstractGate(\"eigen\", \n",
    "                          [dict, float], \n",
    "                          arity = 2, \n",
    "                          matrix_generator=eigen_vecs)"
   ]
  },
  {
   "cell_type": "code",
   "execution_count": 7,
   "metadata": {},
   "outputs": [],
   "source": [
    "prog = Program()\n",
    "prog_ansatz = Program()\n",
    "\n",
    "q = prog.qalloc(3)\n",
    "q2 = prog_ansatz.qalloc(3)\n",
    "\n",
    "prog.apply(eigen_prep(coeffs, shift), q[1], q[2])\n",
    "prog_ansatz.apply(ansatz(0.), q[1], q[2])\n",
    "\n",
    "circ = prog.to_circ()\n",
    "circ_ansatz = prog_ansatz.to_circ()\n",
    "\n",
    "from qat.qpus import get_default_qpu\n",
    "qpu = get_default_qpu()"
   ]
  },
  {
   "cell_type": "code",
   "execution_count": 8,
   "metadata": {},
   "outputs": [
    {
     "name": "stdout",
     "output_type": "stream",
     "text": [
      "Ground state:\n",
      "0.0015284718671176797 (0.03909567581098554+0j) |001>\n",
      "0.9984715281328823 (-0.9992354718147681+0j) |010>\n",
      "Ansatz:\n",
      "1.0 (1+0j) |010>\n"
     ]
    }
   ],
   "source": [
    "job = circ.to_job(qubits = [0,1,2])\n",
    "job_ansatz = circ_ansatz.to_job()\n",
    "\n",
    "result = qpu.submit(job)\n",
    "result_ansatz = qpu.submit(job_ansatz)\n",
    "\n",
    "print(\"Ground state:\")\n",
    "for sample in result:\n",
    "    print(sample.probability,sample.amplitude,sample.state)\n",
    "    \n",
    "print(\"Ansatz:\")\n",
    "for sample in result_ansatz:\n",
    "    print(sample.probability,sample.amplitude,sample.state)"
   ]
  },
  {
   "cell_type": "code",
   "execution_count": 9,
   "metadata": {},
   "outputs": [
    {
     "name": "stdout",
     "output_type": "stream",
     "text": [
      "[ 0.          0.03909568 -0.99923547  0.        ]\n"
     ]
    }
   ],
   "source": [
    "print(v[:,0])\n"
   ]
  },
  {
   "cell_type": "code",
   "execution_count": 10,
   "metadata": {},
   "outputs": [
    {
     "name": "stdout",
     "output_type": "stream",
     "text": [
      "[[ 0.          1.         -0.          0.        ]\n",
      " [ 0.03909568  0.         -0.99923547  0.        ]\n",
      " [-0.99923547  0.         -0.03909568  0.        ]\n",
      " [ 0.          0.         -0.          1.        ]] [2.14421033 4.6458     6.19378967 6.4118    ]\n"
     ]
    }
   ],
   "source": [
    "print(v,w)"
   ]
  },
  {
   "cell_type": "code",
   "execution_count": 11,
   "metadata": {},
   "outputs": [],
   "source": [
    "from scipy import linalg\n",
    "\n",
    "E_max = 3\n",
    "E_min = 0.5\n",
    "    \n",
    "dt = (2 * np.pi) / float(E_max)\n",
    "    \n",
    "\n",
    "def unit_ev(coeffs, shift, k):\n",
    "    Ham = coeffs['I_coeff'] * I\n",
    "    Ham += coeffs['Z0_coeff'] * Z0\n",
    "    Ham += coeffs['Z1_coeff'] * Z1\n",
    "    Ham += coeffs['Z0Z1_coeff'] * Z0Z1\n",
    "    Ham += coeffs['X0X1_coeff'] * X0X1\n",
    "    Ham += coeffs['Y0Y1_coeff'] * Y0Y1\n",
    "    Ham += shift * I\n",
    "\n",
    "    return linalg.expm(-1j * Ham * (2**k) * dt)\n",
    "\n",
    "u_k = AbstractGate(\"uk\", \n",
    "                   [dict, float, int], \n",
    "                   arity=2, \n",
    "                   matrix_generator=unit_ev)"
   ]
  },
  {
   "cell_type": "code",
   "execution_count": 12,
   "metadata": {},
   "outputs": [
    {
     "name": "stdout",
     "output_type": "stream",
     "text": [
      "0.0018492587434176325 |0>\n",
      "0.998150741256493 |1>\n",
      "0.0004625286185774287 |0>\n",
      "0.9995374713813778 |1>\n",
      "0.00011564552853262693 |0>\n",
      "0.9998843544714447 |1>\n",
      "0.9999710877819391 |0>\n",
      "2.8912218049509923e-05 |1>\n",
      "7.22810675790479e-06 |0>\n",
      "0.9999927718932363 |1>\n",
      "1.8070299548334159e-06 |0>\n",
      "0.9999981929700423 |1>\n",
      "0.9999995482423056 |0>\n",
      "4.5175769279344695e-07 |1>\n",
      "1.1293943595363144e-07 |0>\n",
      "0.999999887060563 |1>\n",
      "{8: 1, 7: 1, 6: 1, 5: 0, 4: 1, 3: 1, 2: 0, 1: 1}\n",
      "[1, 0, 1, 1, 0, 1, 1, 1]\n"
     ]
    }
   ],
   "source": [
    "bits = {}\n",
    "\n",
    "for k in range(nBits, 0, -1):\n",
    "    prog = Program()\n",
    "    \n",
    "    q = prog.qalloc(3)\n",
    "    \n",
    "    prog.apply(H, q[0])    \n",
    "    prog.apply(eigen_prep(coeffs, shift), q[1], q[2])\n",
    "\n",
    "    prog.apply(u_k(coeffs, shift, k-1).ctrl(), q)\n",
    "    \n",
    "    phi_k = 0\n",
    "\n",
    "    for l in range(k+1, nBits+1, 1):\n",
    "        phi_k += bits[l] / float(2**(l-k+1))\n",
    "    \n",
    "    phi_k *= 2 * np.pi\n",
    "    \n",
    "    prog.apply(RZ(phi_k), q[0])\n",
    "    prog.apply(H, q[0])\n",
    "    \n",
    "    job = prog.to_circ().to_job(qubits=[0])\n",
    "    \n",
    "    result = qpu.submit(job)\n",
    "    \n",
    "    max_proba = -1\n",
    "    max_state = -1\n",
    "    for sample in result:\n",
    "        print(sample.probability, sample.state)\n",
    "        if sample.probability > max_proba:\n",
    "            max_proba = sample.probability\n",
    "            max_state = sample._state\n",
    "     \n",
    "    bits[k] = max_state\n",
    "    \n",
    "print(bits)\n",
    "print([bits[k] for k in range(1,nBits+1,1)])"
   ]
  },
  {
   "cell_type": "code",
   "execution_count": 13,
   "metadata": {},
   "outputs": [
    {
     "name": "stdout",
     "output_type": "stream",
     "text": [
      "1\n",
      "2\n",
      "3\n",
      "4\n",
      "5\n",
      "6\n",
      "7\n",
      "8\n",
      "0.71484375\n"
     ]
    }
   ],
   "source": [
    "phi = 0\n",
    "for l in range(1,nBits+1):\n",
    "    print(l)\n",
    "    phi += float(bits[l])/float(2**l)\n",
    "    \n",
    "print(phi)"
   ]
  },
  {
   "cell_type": "code",
   "execution_count": 14,
   "metadata": {},
   "outputs": [],
   "source": [
    "def phase(coeffs, ansatz_prep=False, ansatz_angle=0.01):\n",
    "    Ham = coeffs['I_coeff'] * I\n",
    "    Ham += coeffs['Z0_coeff'] * Z0\n",
    "    Ham += coeffs['Z1_coeff'] * Z1\n",
    "    Ham += coeffs['Z0Z1_coeff'] * Z0Z1\n",
    "    Ham += coeffs['X0X1_coeff'] * X0X1\n",
    "    Ham += coeffs['Y0Y1_coeff'] * Y0Y1\n",
    "    Ham += shift * I\n",
    "    w, v = np.linalg.eigh(Ham)\n",
    "    \n",
    "    bits = {}\n",
    "\n",
    "    for k in range(nBits, 0, -1):\n",
    "        prog = Program()\n",
    "\n",
    "        q = prog.qalloc(3)\n",
    "\n",
    "        prog.apply(H, q[0])\n",
    "        if ansatz_prep:\n",
    "            prog.apply(ansatz(ansatz_angle), q[1], q[2])\n",
    "        else:\n",
    "            prog.apply(eigen_prep(coeffs, shift), q[1], q[2])\n",
    "\n",
    "        prog.apply(u_k(coeffs, shift, k-1).ctrl(), q)\n",
    "\n",
    "        phi_k = 0\n",
    "\n",
    "        for l in range(k+1, nBits+1, 1):\n",
    "            phi_k += bits[l] / float(2**(l-k+1))\n",
    "\n",
    "        phi_k *= 2 * np.pi\n",
    "\n",
    "        prog.apply(RZ(phi_k), q[0])\n",
    "        prog.apply(H, q[0])\n",
    "\n",
    "        job = prog.to_circ().to_job(qubits=[0])\n",
    "\n",
    "        result = qpu.submit(job)\n",
    "\n",
    "        max_proba = -1\n",
    "        max_state = -1\n",
    "        for sample in result:\n",
    "            if sample.probability > max_proba:\n",
    "                max_proba = sample.probability\n",
    "                max_state = sample._state\n",
    "     \n",
    "        bits[k] = max_state\n",
    "    \n",
    "    print([bits[k] for k in range(1,nBits+1,1)])\n",
    "        \n",
    "    phi = 0\n",
    "    for l in range(1,nBits+1,1):\n",
    "        phi += float(bits[l])/float(2**l)\n",
    "            \n",
    "    return phi\n"
   ]
  },
  {
   "cell_type": "code",
   "execution_count": 15,
   "metadata": {},
   "outputs": [
    {
     "name": "stdout",
     "output_type": "stream",
     "text": [
      "[1, 0, 1, 1, 0, 1, 1, 1]\n",
      "[1, 0, 1, 1, 0, 1, 1, 1]\n",
      "[1, 0, 0, 0, 1, 1, 1, 1]\n",
      "[1, 0, 0, 0, 1, 1, 1, 1]\n",
      "[0, 1, 1, 1, 0, 1, 1, 0]\n",
      "[0, 1, 1, 1, 0, 1, 1, 0]\n",
      "[0, 1, 1, 0, 0, 1, 1, 0]\n",
      "[0, 1, 1, 0, 0, 1, 1, 0]\n",
      "[0, 1, 0, 1, 1, 1, 0, 0]\n",
      "[0, 1, 0, 1, 1, 1, 0, 0]\n",
      "[0, 1, 0, 1, 0, 1, 0, 1]\n",
      "[0, 1, 0, 1, 0, 1, 0, 1]\n",
      "[0, 1, 0, 1, 0, 0, 0, 0]\n",
      "[0, 1, 0, 1, 0, 0, 0, 0]\n",
      "[0, 1, 0, 0, 1, 1, 0, 1]\n",
      "[0, 1, 0, 0, 1, 1, 0, 1]\n",
      "[0, 1, 0, 0, 1, 0, 1, 1]\n",
      "[0, 1, 0, 0, 1, 0, 1, 1]\n",
      "[0, 1, 0, 0, 1, 0, 0, 1]\n",
      "[0, 1, 0, 0, 1, 0, 0, 1]\n",
      "[0, 1, 0, 0, 1, 0, 0, 1]\n",
      "[0, 1, 0, 0, 1, 0, 0, 1]\n",
      "[0, 1, 0, 0, 1, 0, 0, 1]\n",
      "[0, 1, 0, 0, 1, 0, 0, 1]\n",
      "[0, 1, 0, 0, 1, 0, 0, 1]\n",
      "[0, 1, 0, 0, 1, 0, 0, 1]\n",
      "[0, 1, 0, 0, 1, 0, 1, 0]\n",
      "[0, 1, 0, 0, 1, 0, 1, 0]\n",
      "[0, 1, 0, 0, 1, 0, 1, 0]\n",
      "[0, 1, 0, 0, 1, 0, 1, 0]\n",
      "[0, 1, 0, 0, 1, 0, 1, 1]\n",
      "[0, 1, 0, 0, 1, 0, 1, 1]\n",
      "[0, 1, 0, 0, 1, 1, 0, 0]\n",
      "[0, 1, 0, 0, 1, 1, 0, 0]\n",
      "[0, 1, 0, 0, 1, 1, 0, 1]\n",
      "[0, 1, 0, 0, 1, 1, 0, 1]\n",
      "[0, 1, 0, 0, 1, 1, 1, 0]\n",
      "[0, 1, 0, 0, 1, 1, 1, 0]\n",
      "[0, 1, 0, 0, 1, 1, 1, 1]\n",
      "[0, 1, 0, 0, 1, 1, 1, 1]\n",
      "[0, 1, 0, 1, 0, 0, 0, 0]\n",
      "[0, 1, 0, 1, 0, 0, 0, 0]\n",
      "[0, 1, 0, 1, 0, 0, 0, 1]\n",
      "[0, 1, 0, 1, 0, 0, 0, 1]\n",
      "[0, 1, 0, 1, 0, 0, 1, 0]\n",
      "[0, 1, 0, 1, 0, 0, 1, 0]\n",
      "[0, 1, 0, 1, 0, 0, 1, 1]\n",
      "[0, 1, 0, 1, 0, 0, 1, 1]\n",
      "[0, 1, 0, 1, 0, 0, 1, 1]\n",
      "[0, 1, 0, 1, 0, 0, 1, 1]\n",
      "[0, 1, 0, 1, 0, 1, 0, 0]\n",
      "[0, 1, 0, 1, 0, 1, 0, 0]\n",
      "[0, 1, 0, 1, 0, 1, 0, 1]\n",
      "[0, 1, 0, 1, 0, 1, 0, 1]\n",
      "[0, 1, 0, 1, 0, 1, 0, 1]\n",
      "[0, 1, 0, 1, 0, 1, 0, 1]\n",
      "[0, 1, 0, 1, 0, 1, 1, 0]\n",
      "[0, 1, 0, 1, 0, 1, 1, 0]\n",
      "[0, 1, 0, 1, 0, 1, 1, 1]\n",
      "[0, 1, 0, 1, 0, 1, 1, 1]\n",
      "[0, 1, 0, 1, 0, 1, 1, 1]\n",
      "[0, 1, 0, 1, 0, 1, 1, 1]\n",
      "[0, 1, 0, 1, 0, 1, 1, 1]\n",
      "[0, 1, 0, 1, 0, 1, 1, 1]\n",
      "[0, 1, 0, 1, 1, 0, 0, 0]\n",
      "[0, 1, 0, 1, 1, 0, 0, 0]\n",
      "[0, 1, 0, 1, 1, 0, 0, 0]\n",
      "[0, 1, 0, 1, 1, 0, 0, 0]\n",
      "[0, 1, 0, 1, 1, 0, 0, 0]\n",
      "[0, 1, 0, 1, 1, 0, 0, 0]\n",
      "[0, 1, 0, 1, 1, 0, 0, 1]\n",
      "[0, 1, 0, 1, 1, 0, 0, 1]\n",
      "[0, 1, 0, 1, 1, 0, 0, 1]\n",
      "[0, 1, 0, 1, 1, 0, 0, 1]\n",
      "[0, 1, 0, 1, 1, 0, 0, 1]\n",
      "[0, 1, 0, 1, 1, 0, 0, 1]\n",
      "[0, 1, 0, 1, 1, 0, 0, 1]\n",
      "[0, 1, 0, 1, 1, 0, 0, 1]\n",
      "[0, 1, 0, 1, 1, 0, 0, 1]\n",
      "[0, 1, 0, 1, 1, 0, 1, 0]\n",
      "[0, 1, 0, 1, 1, 0, 1, 0]\n",
      "[0, 1, 0, 1, 1, 0, 1, 0]\n",
      "[0, 1, 0, 1, 1, 0, 1, 0]\n",
      "[0, 1, 0, 1, 1, 0, 1, 0]\n",
      "[0, 1, 0, 1, 1, 0, 1, 0]\n",
      "[0, 1, 0, 1, 1, 0, 1, 0]\n",
      "[0, 1, 0, 1, 1, 0, 1, 0]\n",
      "[0, 1, 0, 1, 1, 0, 1, 0]\n",
      "[0, 1, 0, 1, 1, 0, 1, 0]\n",
      "[0, 1, 0, 1, 1, 0, 1, 0]\n",
      "[0, 1, 0, 1, 1, 0, 1, 0]\n",
      "[0, 1, 0, 1, 1, 0, 1, 0]\n",
      "[0, 1, 0, 1, 1, 0, 1, 0]\n",
      "[0, 1, 0, 1, 1, 0, 1, 0]\n",
      "[0, 1, 0, 1, 1, 0, 1, 0]\n",
      "[0, 1, 0, 1, 1, 0, 1, 0]\n",
      "[0, 1, 0, 1, 1, 0, 1, 0]\n",
      "[0, 1, 0, 1, 1, 0, 1, 0]\n",
      "[0, 1, 0, 1, 1, 0, 1, 0]\n",
      "[0, 1, 0, 1, 1, 0, 1, 0]\n",
      "[0, 1, 0, 1, 1, 0, 1, 0]\n",
      "[0, 1, 0, 1, 1, 0, 1, 0]\n",
      "[0, 1, 0, 1, 1, 0, 1, 0]\n",
      "[0, 1, 0, 1, 1, 0, 1, 0]\n",
      "[0, 1, 0, 1, 1, 0, 1, 0]\n",
      "[0, 1, 0, 1, 1, 0, 1, 0]\n",
      "[0, 1, 0, 1, 1, 0, 1, 0]\n",
      "[0, 1, 0, 1, 1, 0, 1, 0]\n"
     ]
    }
   ],
   "source": [
    "vals = []\n",
    "vals_ansatz = []\n",
    "Rs = []\n",
    "for coeffs in hams:\n",
    "    phi_c = phase(coeffs)\n",
    "    phi_ansatz = phase(coeffs, ansatz_prep=True, ansatz_angle=0.1)\n",
    "    \n",
    "    E = ((2*np.pi)/dt)*phi_c\n",
    "    E_ansatz = ((2*np.pi)/dt)*phi_ansatz\n",
    "\n",
    "    Rs.append(coeffs['R'])\n",
    "    \n",
    "    vals.append(E-shift)\n",
    "    vals_ansatz.append(E_ansatz-shift)\n",
    "    \n"
   ]
  },
  {
   "cell_type": "markdown",
   "metadata": {},
   "source": []
  },
  {
   "cell_type": "code",
   "execution_count": 16,
   "metadata": {},
   "outputs": [
    {
     "data": {
      "text/plain": [
       "[<matplotlib.lines.Line2D at 0x7f4381587fd0>]"
      ]
     },
     "execution_count": 16,
     "metadata": {},
     "output_type": "execute_result"
    },
    {
     "data": {
      "image/png": "[encoded data removed]",
      "text/plain": [
       "<Figure size 432x288 with 1 Axes>"
      ]
     },
     "metadata": {
      "needs_background": "light"
     },
     "output_type": "display_data"
    }
   ],
   "source": [
    "plt.plot(Rs,vals)\n",
    "plt.plot(Rs,vals_ansatz)"
   ]
  },
  {
   "cell_type": "code",
   "execution_count": null,
   "metadata": {},
   "outputs": [],
   "source": []
  }
 ],
 "metadata": {
  "kernelspec": {
   "display_name": "Python 3",
   "language": "python",
   "name": "python3"
  },
  "language_info": {
   "codemirror_mode": {
    "name": "ipython",
    "version": 3
   },
   "file_extension": ".py",
   "mimetype": "text/x-python",
   "name": "python",
   "nbconvert_exporter": "python",
   "pygments_lexer": "ipython3",
   "version": "3.6.12"
  }
 },
 "nbformat": 4,
 "nbformat_minor": 4
}
