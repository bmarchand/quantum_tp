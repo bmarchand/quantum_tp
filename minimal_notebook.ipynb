{
 "cells": [
  {
   "cell_type": "code",
   "execution_count": null,
   "metadata": {},
   "outputs": [],
   "source": [
    "# Imports you will need: \n",
    "from qat.lang.AQASM import Program, H, CNOT, RZ,  AbstractGate\n",
    "import numpy as np\n",
    "from scipy import linalg\n",
    "import matplotlib.pylab as plt"
   ]
  },
  {
   "cell_type": "markdown",
   "metadata": {},
   "source": [
    "## Programming a simple circuit:"
   ]
  },
  {
   "cell_type": "code",
   "execution_count": null,
   "metadata": {},
   "outputs": [],
   "source": [
    "prog = Program() # The object we use to \"accumulate\" the gates when building the circuits\n",
    "\n",
    "q = prog.qalloc(2) # Allocation of a register of 2 qubits called q. It is addressable with [.] like an array.\n",
    "                   # We will only work with one register in this session, but defining several is possible !\n",
    "\n",
    "prog.apply(H, q[0]) # The first instruction of the program is the application of an Hadamard gate onto q[0]\n",
    "prog.apply(CNOT, q) # The second is a CNOT\n",
    "\n",
    "def matrix(theta):\n",
    "    X = np.array([[0,1],[1,0]])\n",
    "    return linalg.expm(-1j * theta * X)\n",
    "\n",
    "ham_x = AbstractGate(\"ham_X\", [float], arity=1, matrix_generator=matrix) # definition of a custom parametrized gate\n",
    "\n",
    "prog.apply(ham_x(0.45), q[0]) # The third instuction is the application of our custom gate onto q[0]\n",
    "\n",
    "prog.apply(H.ctrl(), q) # .ctrl() can be used on any 1-qubit gate to get a 2-qubit controlled version\n",
    "\n",
    "circ = prog.to_circ() # The program is exported into a circuit.  \n",
    "\n",
    "# displaying the circuit:\n",
    "%qatdisplay --svg circ\n"
   ]
  },
  {
   "cell_type": "markdown",
   "metadata": {},
   "source": [
    "## Simulating it:"
   ]
  },
  {
   "cell_type": "code",
   "execution_count": null,
   "metadata": {},
   "outputs": [],
   "source": [
    "from qat.qpus import get_default_qpu # Here, the default qpu is a numerical simulator\n",
    "qpu = get_default_qpu()\n",
    "\n",
    "job = circ.to_job() # options could be fed here. choosing the default, like here, means\n",
    "# that we want to compute the amplitude/probability of all possible states.\n",
    "\n",
    "result = qpu.submit(job)\n",
    "\n",
    "for sample in result:\n",
    "    # print results\n",
    "    print(sample.amplitude, sample.state, sample.probability)"
   ]
  },
  {
   "cell_type": "markdown",
   "metadata": {},
   "source": [
    "### Feel free to consult https://myqlm.github.io/ and https://myqlm.github.io/myqlm_specific/notebooks.html for more details."
   ]
  }
 ],
 "metadata": {
  "kernelspec": {
   "display_name": "Python 3",
   "language": "python",
   "name": "python3"
  },
  "language_info": {
   "codemirror_mode": {
    "name": "ipython",
    "version": 3
   },
   "file_extension": ".py",
   "mimetype": "text/x-python",
   "name": "python",
   "nbconvert_exporter": "python",
   "pygments_lexer": "ipython3",
   "version": "3.6.12"
  }
 },
 "nbformat": 4,
 "nbformat_minor": 4
}
