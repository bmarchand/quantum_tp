{
 "cells": [
  {
   "cell_type": "markdown",
   "metadata": {},
   "source": [
    "## Question 1"
   ]
  },
  {
   "cell_type": "code",
   "execution_count": 1,
   "metadata": {},
   "outputs": [],
   "source": [
    "import numpy as np\n",
    "from qat.lang.AQASM import Program, H,  AbstractGate, QRoutine\n",
    "from scipy import linalg # for linalg.expm, the matrix exponential.\n",
    "from qat.qpus import get_default_qpu # numerical simulator for small quantum circuits.\n",
    "\n",
    "# TODO: put your implementation here. Take inspiration from the \"minimal notebook\" that was sent to you."
   ]
  },
  {
   "cell_type": "markdown",
   "metadata": {},
   "source": [
    "### Hamiltonian data\n",
    "\n",
    "The purpose of the TP is to reproduce, using numerical simulation, Figure 3.(a) of https://arxiv.org/abs/1512.06860.\n",
    "\n",
    "On this figure, the ground state energy of a dihydrogen molecule is plotted against the distance $R$ separating the hydrogen atoms. It allows to predict the **equilibrium bond length** of the molecule.\n",
    "\n",
    "*Note*: In more complicated settings with larger molecules, energy may be plotted against various distances and angles, forming an *energy landscape* that proves useful in predicting chemical reaction mechanisms, rates, etc.\n",
    "\n",
    "The cell below imports the data of Table I of https://arxiv.org/abs/1512.06860."
   ]
  },
  {
   "cell_type": "code",
   "execution_count": 2,
   "metadata": {},
   "outputs": [
    {
     "name": "stdout",
     "output_type": "stream",
     "text": [
      "{'R': 0.2, 'I_coeff': 2.8489, 'Z0_coeff': 0.5678, 'Z1_coeff': -1.4508, 'Z0Z1_coeff': 0.6799, 'X0X1_coeff': 0.0791, 'Y0Y1_coeff': 0.0791, 't0': 0.0791}\n",
      "{'R': 0.25, 'I_coeff': 2.1868, 'Z0_coeff': 0.5449, 'Z1_coeff': -1.287, 'Z0Z1_coeff': 0.6719, 'X0X1_coeff': 0.0798, 'Y0Y1_coeff': 0.0798, 't0': 0.0798}\n",
      "{'R': 0.3, 'I_coeff': 1.7252, 'Z0_coeff': 0.5215, 'Z1_coeff': -1.1458, 'Z0Z1_coeff': 0.6631, 'X0X1_coeff': 0.0806, 'Y0Y1_coeff': 0.0806, 't0': 0.0806}\n",
      "{'R': 0.35, 'I_coeff': 1.3827, 'Z0_coeff': 0.4982, 'Z1_coeff': -1.0226, 'Z0Z1_coeff': 0.6537, 'X0X1_coeff': 0.0815, 'Y0Y1_coeff': 0.0815, 't0': 0.0815}\n",
      "{'R': 0.4, 'I_coeff': 1.1182, 'Z0_coeff': 0.4754, 'Z1_coeff': -0.9145, 'Z0Z1_coeff': 0.6438, 'X0X1_coeff': 0.0825, 'Y0Y1_coeff': 0.0825, 't0': 0.0825}\n",
      "{'R': 0.45, 'I_coeff': 0.9083, 'Z0_coeff': 0.4534, 'Z1_coeff': -0.8194, 'Z0Z1_coeff': 0.6336, 'X0X1_coeff': 0.0835, 'Y0Y1_coeff': 0.0835, 't0': 0.0835}\n",
      "{'R': 0.5, 'I_coeff': 0.7381, 'Z0_coeff': 0.4325, 'Z1_coeff': -0.7355, 'Z0Z1_coeff': 0.6233, 'X0X1_coeff': 0.0846, 'Y0Y1_coeff': 0.0846, 't0': 0.0846}\n",
      "{'R': 0.55, 'I_coeff': 0.5979, 'Z0_coeff': 0.4125, 'Z1_coeff': -0.6612, 'Z0Z1_coeff': 0.6129, 'X0X1_coeff': 0.0858, 'Y0Y1_coeff': 0.0858, 't0': 0.0858}\n",
      "{'R': 0.6, 'I_coeff': 0.4808, 'Z0_coeff': 0.3937, 'Z1_coeff': -0.595, 'Z0Z1_coeff': 0.6025, 'X0X1_coeff': 0.087, 'Y0Y1_coeff': 0.087, 't0': 0.087}\n",
      "{'R': 0.65, 'I_coeff': 0.3819, 'Z0_coeff': 0.376, 'Z1_coeff': -0.5358, 'Z0Z1_coeff': 0.5921, 'X0X1_coeff': 0.0883, 'Y0Y1_coeff': 0.0883, 't0': 0.0883}\n",
      "{'R': 0.7, 'I_coeff': 0.2976, 'Z0_coeff': 0.3593, 'Z1_coeff': -0.4826, 'Z0Z1_coeff': 0.5818, 'X0X1_coeff': 0.0896, 'Y0Y1_coeff': 0.0896, 't0': 0.0896}\n",
      "{'R': 0.75, 'I_coeff': 0.2252, 'Z0_coeff': 0.3435, 'Z1_coeff': -0.4347, 'Z0Z1_coeff': 0.5716, 'X0X1_coeff': 0.091, 'Y0Y1_coeff': 0.091, 't0': 0.091}\n",
      "{'R': 0.8, 'I_coeff': 0.1626, 'Z0_coeff': 0.3288, 'Z1_coeff': -0.3915, 'Z0Z1_coeff': 0.5616, 'X0X1_coeff': 0.0925, 'Y0Y1_coeff': 0.0925, 't0': 0.0925}\n",
      "{'R': 0.85, 'I_coeff': 0.1083, 'Z0_coeff': 0.3149, 'Z1_coeff': -0.3523, 'Z0Z1_coeff': 0.5518, 'X0X1_coeff': 0.0939, 'Y0Y1_coeff': 0.0939, 't0': 0.0939}\n",
      "{'R': 0.9, 'I_coeff': 0.0609, 'Z0_coeff': 0.3018, 'Z1_coeff': -0.3168, 'Z0Z1_coeff': 0.5421, 'X0X1_coeff': 0.0954, 'Y0Y1_coeff': 0.0954, 't0': 0.0954}\n",
      "{'R': 0.95, 'I_coeff': 0.0193, 'Z0_coeff': 0.2895, 'Z1_coeff': -0.2845, 'Z0Z1_coeff': 0.5327, 'X0X1_coeff': 0.097, 'Y0Y1_coeff': 0.097, 't0': 0.097}\n",
      "{'R': 1.0, 'I_coeff': -0.0172, 'Z0_coeff': 0.2779, 'Z1_coeff': -0.255, 'Z0Z1_coeff': 0.5235, 'X0X1_coeff': 0.0986, 'Y0Y1_coeff': 0.0986, 't0': 0.0986}\n",
      "{'R': 1.05, 'I_coeff': -0.0493, 'Z0_coeff': 0.2669, 'Z1_coeff': -0.2282, 'Z0Z1_coeff': 0.5146, 'X0X1_coeff': 0.1002, 'Y0Y1_coeff': 0.1002, 't0': 0.1002}\n",
      "{'R': 1.1, 'I_coeff': -0.0778, 'Z0_coeff': 0.2565, 'Z1_coeff': -0.2036, 'Z0Z1_coeff': 0.5059, 'X0X1_coeff': 0.1018, 'Y0Y1_coeff': 0.1018, 't0': 0.1018}\n",
      "{'R': 1.15, 'I_coeff': -0.1029, 'Z0_coeff': 0.2467, 'Z1_coeff': -0.181, 'Z0Z1_coeff': 0.4974, 'X0X1_coeff': 0.1034, 'Y0Y1_coeff': 0.1034, 't0': 0.1034}\n",
      "{'R': 1.2, 'I_coeff': -0.1253, 'Z0_coeff': 0.2374, 'Z1_coeff': -0.1603, 'Z0Z1_coeff': 0.4892, 'X0X1_coeff': 0.105, 'Y0Y1_coeff': 0.105, 't0': 0.105}\n",
      "{'R': 1.25, 'I_coeff': -0.1452, 'Z0_coeff': 0.2286, 'Z1_coeff': -0.1413, 'Z0Z1_coeff': 0.4812, 'X0X1_coeff': 0.1067, 'Y0Y1_coeff': 0.1067, 't0': 0.1067}\n",
      "{'R': 1.3, 'I_coeff': -0.1629, 'Z0_coeff': 0.2203, 'Z1_coeff': -0.1238, 'Z0Z1_coeff': 0.4735, 'X0X1_coeff': 0.1083, 'Y0Y1_coeff': 0.1083, 't0': 0.1083}\n",
      "{'R': 1.35, 'I_coeff': -0.1786, 'Z0_coeff': 0.2123, 'Z1_coeff': -0.1077, 'Z0Z1_coeff': 0.466, 'X0X1_coeff': 0.11, 'Y0Y1_coeff': 0.11, 't0': 0.11}\n",
      "{'R': 1.4, 'I_coeff': -0.1927, 'Z0_coeff': 0.2048, 'Z1_coeff': -0.0929, 'Z0Z1_coeff': 0.4588, 'X0X1_coeff': 0.1116, 'Y0Y1_coeff': 0.1116, 't0': 0.1116}\n",
      "{'R': 1.45, 'I_coeff': -0.2053, 'Z0_coeff': 0.1976, 'Z1_coeff': -0.0792, 'Z0Z1_coeff': 0.4518, 'X0X1_coeff': 0.1133, 'Y0Y1_coeff': 0.1133, 't0': 0.1133}\n",
      "{'R': 1.5, 'I_coeff': -0.2165, 'Z0_coeff': 0.1908, 'Z1_coeff': -0.0666, 'Z0Z1_coeff': 0.4451, 'X0X1_coeff': 0.1149, 'Y0Y1_coeff': 0.1149, 't0': 0.1149}\n",
      "{'R': 1.55, 'I_coeff': -0.2265, 'Z0_coeff': 0.1843, 'Z1_coeff': -0.0549, 'Z0Z1_coeff': 0.4386, 'X0X1_coeff': 0.1165, 'Y0Y1_coeff': 0.1165, 't0': 0.1165}\n",
      "{'R': 1.6, 'I_coeff': -0.2355, 'Z0_coeff': 0.1782, 'Z1_coeff': -0.0442, 'Z0Z1_coeff': 0.4323, 'X0X1_coeff': 0.1181, 'Y0Y1_coeff': 0.1181, 't0': 0.1181}\n",
      "{'R': 1.65, 'I_coeff': -0.2436, 'Z0_coeff': 0.1723, 'Z1_coeff': -0.0342, 'Z0Z1_coeff': 0.4262, 'X0X1_coeff': 0.1196, 'Y0Y1_coeff': 0.1196, 't0': 0.1196}\n",
      "{'R': 1.7, 'I_coeff': -0.2508, 'Z0_coeff': 0.1667, 'Z1_coeff': -0.0251, 'Z0Z1_coeff': 0.4204, 'X0X1_coeff': 0.1211, 'Y0Y1_coeff': 0.1211, 't0': 0.1211}\n",
      "{'R': 1.75, 'I_coeff': -0.2573, 'Z0_coeff': 0.1615, 'Z1_coeff': -0.0166, 'Z0Z1_coeff': 0.4148, 'X0X1_coeff': 0.1226, 'Y0Y1_coeff': 0.1226, 't0': 0.1226}\n",
      "{'R': 1.8, 'I_coeff': -0.2632, 'Z0_coeff': 0.1565, 'Z1_coeff': -0.0088, 'Z0Z1_coeff': 0.4094, 'X0X1_coeff': 0.1241, 'Y0Y1_coeff': 0.1241, 't0': 0.1241}\n",
      "{'R': 1.85, 'I_coeff': -0.2684, 'Z0_coeff': 0.1517, 'Z1_coeff': -0.0015, 'Z0Z1_coeff': 0.4042, 'X0X1_coeff': 0.1256, 'Y0Y1_coeff': 0.1256, 't0': 0.1256}\n",
      "{'R': 1.9, 'I_coeff': -0.2731, 'Z0_coeff': 0.1472, 'Z1_coeff': 0.0052, 'Z0Z1_coeff': 0.3992, 'X0X1_coeff': 0.127, 'Y0Y1_coeff': 0.127, 't0': 0.127}\n",
      "{'R': 1.95, 'I_coeff': -0.2774, 'Z0_coeff': 0.143, 'Z1_coeff': 0.0114, 'Z0Z1_coeff': 0.3944, 'X0X1_coeff': 0.1284, 'Y0Y1_coeff': 0.1284, 't0': 0.1284}\n",
      "{'R': 2.0, 'I_coeff': -0.2812, 'Z0_coeff': 0.139, 'Z1_coeff': 0.0171, 'Z0Z1_coeff': 0.3898, 'X0X1_coeff': 0.1297, 'Y0Y1_coeff': 0.1297, 't0': 0.1297}\n",
      "{'R': 2.05, 'I_coeff': -0.2847, 'Z0_coeff': 0.1352, 'Z1_coeff': 0.0223, 'Z0Z1_coeff': 0.3853, 'X0X1_coeff': 0.131, 'Y0Y1_coeff': 0.131, 't0': 0.131}\n",
      "{'R': 2.1, 'I_coeff': -0.2879, 'Z0_coeff': 0.1316, 'Z1_coeff': 0.0272, 'Z0Z1_coeff': 0.3811, 'X0X1_coeff': 0.1323, 'Y0Y1_coeff': 0.1323, 't0': 0.1323}\n",
      "{'R': 2.15, 'I_coeff': -0.2908, 'Z0_coeff': 0.1282, 'Z1_coeff': 0.0317, 'Z0Z1_coeff': 0.3769, 'X0X1_coeff': 0.1335, 'Y0Y1_coeff': 0.1335, 't0': 0.1335}\n",
      "{'R': 2.2, 'I_coeff': -0.2934, 'Z0_coeff': 0.1251, 'Z1_coeff': 0.0359, 'Z0Z1_coeff': 0.373, 'X0X1_coeff': 0.1347, 'Y0Y1_coeff': 0.1347, 't0': 0.1347}\n",
      "{'R': 2.25, 'I_coeff': -0.2958, 'Z0_coeff': 0.1221, 'Z1_coeff': 0.0397, 'Z0Z1_coeff': 0.3692, 'X0X1_coeff': 0.1359, 'Y0Y1_coeff': 0.1359, 't0': 0.1359}\n",
      "{'R': 2.3, 'I_coeff': -0.298, 'Z0_coeff': 0.1193, 'Z1_coeff': 0.0432, 'Z0Z1_coeff': 0.3655, 'X0X1_coeff': 0.137, 'Y0Y1_coeff': 0.137, 't0': 0.137}\n",
      "{'R': 2.35, 'I_coeff': -0.3, 'Z0_coeff': 0.1167, 'Z1_coeff': 0.0465, 'Z0Z1_coeff': 0.362, 'X0X1_coeff': 0.1381, 'Y0Y1_coeff': 0.1381, 't0': 0.1381}\n",
      "{'R': 2.4, 'I_coeff': -0.3018, 'Z0_coeff': 0.1142, 'Z1_coeff': 0.0495, 'Z0Z1_coeff': 0.3586, 'X0X1_coeff': 0.1392, 'Y0Y1_coeff': 0.1392, 't0': 0.1392}\n",
      "{'R': 2.45, 'I_coeff': -0.3035, 'Z0_coeff': 0.1119, 'Z1_coeff': 0.0523, 'Z0Z1_coeff': 0.3553, 'X0X1_coeff': 0.1402, 'Y0Y1_coeff': 0.1402, 't0': 0.1402}\n",
      "{'R': 2.5, 'I_coeff': -0.3051, 'Z0_coeff': 0.1098, 'Z1_coeff': 0.0549, 'Z0Z1_coeff': 0.3521, 'X0X1_coeff': 0.1412, 'Y0Y1_coeff': 0.1412, 't0': 0.1412}\n",
      "{'R': 2.55, 'I_coeff': -0.3066, 'Z0_coeff': 0.1078, 'Z1_coeff': 0.0572, 'Z0Z1_coeff': 0.3491, 'X0X1_coeff': 0.1422, 'Y0Y1_coeff': 0.1422, 't0': 0.1422}\n",
      "{'R': 2.6, 'I_coeff': -0.3079, 'Z0_coeff': 0.1059, 'Z1_coeff': 0.0594, 'Z0Z1_coeff': 0.3461, 'X0X1_coeff': 0.1432, 'Y0Y1_coeff': 0.1432, 't0': 0.1432}\n",
      "{'R': 2.65, 'I_coeff': -0.3092, 'Z0_coeff': 0.1042, 'Z1_coeff': 0.0614, 'Z0Z1_coeff': 0.3433, 'X0X1_coeff': 0.1441, 'Y0Y1_coeff': 0.1441, 't0': 0.1441}\n",
      "{'R': 2.7, 'I_coeff': -0.3104, 'Z0_coeff': 0.1026, 'Z1_coeff': 0.0632, 'Z0Z1_coeff': 0.3406, 'X0X1_coeff': 0.145, 'Y0Y1_coeff': 0.145, 't0': 0.145}\n",
      "{'R': 2.75, 'I_coeff': -0.3115, 'Z0_coeff': 0.1011, 'Z1_coeff': 0.0649, 'Z0Z1_coeff': 0.3379, 'X0X1_coeff': 0.1458, 'Y0Y1_coeff': 0.1458, 't0': 0.1458}\n",
      "{'R': 2.8, 'I_coeff': -0.3125, 'Z0_coeff': 0.0997, 'Z1_coeff': 0.0665, 'Z0Z1_coeff': 0.3354, 'X0X1_coeff': 0.1467, 'Y0Y1_coeff': 0.1467, 't0': 0.1467}\n",
      "{'R': 2.85, 'I_coeff': -0.3135, 'Z0_coeff': 0.0984, 'Z1_coeff': 0.0679, 'Z0Z1_coeff': 0.3329, 'X0X1_coeff': 0.1475, 'Y0Y1_coeff': 0.1475, 't0': 0.1475}\n"
     ]
    }
   ],
   "source": [
    "#importing Hamiltonian data\n",
    "import json \n",
    "\n",
    "with open('hamiltonian_data.json','r') as f:\n",
    "    ham_data = json.load(f)\n",
    "    \n",
    "for coeffs in ham_data:\n",
    "    print(coeffs)"
   ]
  },
  {
   "cell_type": "markdown",
   "metadata": {},
   "source": [
    "### Question 2:\n",
    "Implement QRoutines for each of the Hamiltonian evolutions we need.\n",
    "\n"
   ]
  },
  {
   "cell_type": "code",
   "execution_count": 3,
   "metadata": {},
   "outputs": [],
   "source": [
    "from qat.lang.AQASM import CNOT, RZ, RX, RY, S, I\n",
    "from tp_library_pea import U_II, U_ZI, U_IZ, U_ZZ, U_XX, U_YY\n",
    "# TODO: implement U_II, U_ZI, U_IZ, U_ZZ, U_XX, U_YY in the file tp_library_pea.py\n",
    "# JUPYTER TRICK: you might have to kernel -> restart and run all to see the effect here of your code edition.\n",
    "\n",
    "test = False\n",
    "if test:\n",
    "    prog = Program()\n",
    "    q = prog.qalloc(2)\n",
    "    prog.apply(U_YY(3.), q)\n",
    "    circ = prog.to_circ()\n",
    "\n",
    "    %qatdisplay --svg circ\n",
    "\n",
    "!python3 -m pytest tp_pea_question2_tests.py"
   ]
  },
  {
   "cell_type": "markdown",
   "metadata": {},
   "source": [
    "### Question 3:\n",
    "Complete in 'tp_library_pea.py' the implementation of the function returning a Qroutine implementing a Trotterized evolution generated by our Hamiltonian."
   ]
  },
  {
   "cell_type": "code",
   "execution_count": 4,
   "metadata": {},
   "outputs": [],
   "source": [
    "from tp_library_pea import trotter_ham_simulation\n",
    "\n",
    "!python3 -m pytest tp_pea_question3_tests.py"
   ]
  },
  {
   "cell_type": "markdown",
   "metadata": {},
   "source": [
    "### Question 4: Implement iterative phase estimation\n",
    "As a function taking as input an Hamiltonian and execution parameters, and returning a phase."
   ]
  },
  {
   "cell_type": "code",
   "execution_count": null,
   "metadata": {},
   "outputs": [],
   "source": [
    "from tp_library_pea import compute_phi_k, perfect_ham_simulation\n",
    "# perfect_ham_simulation: ideal, non-Trotterized simulation.\n",
    "\n",
    "!python3 -m pytest tp_pea_question4_tests.py"
   ]
  },
  {
   "cell_type": "code",
   "execution_count": 8,
   "metadata": {},
   "outputs": [],
   "source": [
    "from qat.lang.AQASM import X\n",
    "\n",
    "E_max = 3\n",
    "E_min = -2\n",
    "    \n",
    "dt = (2 * np.pi) / float(E_max)\n",
    "\n",
    "def phase(coeffs, trotterization=False, trotter_number=4, shift=-E_min, nBits = 10):\n",
    "    \"\"\"\n",
    "    Given Hamiltonian coefficients, compute phi, s.t U|\\psi\\rangle = e^{-2i\\pi\\phi}|\\psi\\rangle\n",
    "    \n",
    "    Args:\n",
    "        - coeffs: a dictionary of coefficients as extracted from the list of dictionaries loaded\n",
    "        from hamiltonian_data.json\n",
    "        - trotterization: Boolean flag specifying whether to use the Trotterized evolution or the\n",
    "        ideal \"cheat mode\" which exponentiates the Hamiltonian.\n",
    "        - trotter_number: the \"p\" controlling the degree of approximation of the Trotterization.\n",
    "        - shift: the energy shift that we use to make sure that the phase we compute is 0 < phi < 1\n",
    "        \n",
    "    Returns:\n",
    "        - phi, a real number that should fall between 0 and 1.\n",
    "    \"\"\"\n",
    "    bits = {}\n",
    "\n",
    "    for k in range(nBits, 0, -1):\n",
    "        \n",
    "        # CIRCUIT CREATION\n",
    "        prog = Program()\n",
    "\n",
    "        q = prog.qalloc(3)\n",
    "\n",
    "        prog.apply(H, q[0])\n",
    "\n",
    "        # ansatz preparation, we are lucky it is so simple.\n",
    "        prog.apply(X, q[1])\n",
    "\n",
    "        # Trotterization\n",
    "        if trotterization:\n",
    "            prog.apply(trotter_ham_simulation(coeffs, (2**(k-1)) * dt, trotter_number, shift).ctrl(), q)\n",
    "        else:\n",
    "            prog.apply(perfect_ham_simulation(coeffs, (2**(k-1)) * dt, shift).ctrl(), q)\n",
    "\n",
    "        phi_k = compute_phi_k(bits, nBits)\n",
    "\n",
    "        # BEGIN IMPLEMENTATION. DO NOT MODIFY WHAT IS ABOVE.\n",
    "        \n",
    "        \n",
    "        # END IMPLEMENTATION. DO NOT MODIFY WHAT IS BELOW.\n",
    "        \n",
    "        circ = prog.to_circ()\n",
    "                \n",
    "        # CIRCUIT SIMULATION\n",
    "        job = circ.to_job(qubits=[0])\n",
    "\n",
    "        qpu = get_default_qpu()\n",
    "        result = qpu.submit(job)\n",
    "\n",
    "        # SELECTION OF MOST LIKELY RESULT \n",
    "        max_proba = -1\n",
    "        max_state = -1\n",
    "        for sample in result:\n",
    "            if sample.probability > max_proba:\n",
    "                max_proba = sample.probability\n",
    "                max_state = sample.state.int\n",
    "     \n",
    "        bits[k] = max_state\n",
    "          \n",
    "    # recompute phi\n",
    "    phi = 0\n",
    "    for l in range(1,nBits+1,1):\n",
    "        phi += float(bits[l])/float(2**l)\n",
    "            \n",
    "    return phi"
   ]
  },
  {
   "cell_type": "markdown",
   "metadata": {},
   "source": [
    "### Plotting dissociation curves\n",
    "Call the function you defined above to compute phases for each values of R. Convert them back to energies, and plot the result for two different Trotter number values: 4 and 10. Both should be wiggly approximations to the ideal curve, but 10 should be closer to it."
   ]
  },
  {
   "cell_type": "code",
   "execution_count": 7,
   "metadata": {},
   "outputs": [
    {
     "ename": "InvalidGateArguments",
     "evalue": "Gate None of arity 0 cannot be applied on [0,1]",
     "output_type": "error",
     "traceback": [
      "\u001b[0;31m---------------------------------------------------------------------------\u001b[0m",
      "\u001b[0;31mInvalidGateArguments\u001b[0m                      Traceback (most recent call last)",
      "Input \u001b[0;32mIn [7]\u001b[0m, in \u001b[0;36m<cell line: 8>\u001b[0;34m()\u001b[0m\n\u001b[1;32m      8\u001b[0m \u001b[38;5;28;01mfor\u001b[39;00m coeffs \u001b[38;5;129;01min\u001b[39;00m ham_data:\n\u001b[1;32m      9\u001b[0m     phi_perfect \u001b[38;5;241m=\u001b[39m phase(coeffs)\n\u001b[0;32m---> 10\u001b[0m     phi_trotter_4 \u001b[38;5;241m=\u001b[39m \u001b[43mphase\u001b[49m\u001b[43m(\u001b[49m\u001b[43mcoeffs\u001b[49m\u001b[43m,\u001b[49m\u001b[43m \u001b[49m\u001b[43mtrotterization\u001b[49m\u001b[38;5;241;43m=\u001b[39;49m\u001b[38;5;28;43;01mTrue\u001b[39;49;00m\u001b[43m,\u001b[49m\u001b[43m \u001b[49m\u001b[43mtrotter_number\u001b[49m\u001b[38;5;241;43m=\u001b[39;49m\u001b[38;5;241;43m4\u001b[39;49m\u001b[43m)\u001b[49m\n\u001b[1;32m     11\u001b[0m     phi_trotter_10 \u001b[38;5;241m=\u001b[39m phase(coeffs, trotterization\u001b[38;5;241m=\u001b[39m\u001b[38;5;28;01mTrue\u001b[39;00m, trotter_number\u001b[38;5;241m=\u001b[39m\u001b[38;5;241m10\u001b[39m)\n\u001b[1;32m     13\u001b[0m     \u001b[38;5;66;03m# CONVERT PHASES BACK TO ENERGY\u001b[39;00m\n",
      "Input \u001b[0;32mIn [6]\u001b[0m, in \u001b[0;36mphase\u001b[0;34m(coeffs, trotterization, trotter_number, shift, nBits)\u001b[0m\n\u001b[1;32m     37\u001b[0m \u001b[38;5;66;03m# Trotterization\u001b[39;00m\n\u001b[1;32m     38\u001b[0m \u001b[38;5;28;01mif\u001b[39;00m trotterization:\n\u001b[0;32m---> 39\u001b[0m     prog\u001b[38;5;241m.\u001b[39mapply(\u001b[43mtrotter_ham_simulation\u001b[49m\u001b[43m(\u001b[49m\u001b[43mcoeffs\u001b[49m\u001b[43m,\u001b[49m\u001b[43m \u001b[49m\u001b[43m(\u001b[49m\u001b[38;5;241;43m2\u001b[39;49m\u001b[38;5;241;43m*\u001b[39;49m\u001b[38;5;241;43m*\u001b[39;49m\u001b[43m(\u001b[49m\u001b[43mk\u001b[49m\u001b[38;5;241;43m-\u001b[39;49m\u001b[38;5;241;43m1\u001b[39;49m\u001b[43m)\u001b[49m\u001b[43m)\u001b[49m\u001b[43m \u001b[49m\u001b[38;5;241;43m*\u001b[39;49m\u001b[43m \u001b[49m\u001b[43mdt\u001b[49m\u001b[43m,\u001b[49m\u001b[43m \u001b[49m\u001b[43mtrotter_number\u001b[49m\u001b[43m,\u001b[49m\u001b[43m \u001b[49m\u001b[43mshift\u001b[49m\u001b[43m)\u001b[49m\u001b[38;5;241m.\u001b[39mctrl(), q)\n\u001b[1;32m     40\u001b[0m \u001b[38;5;28;01melse\u001b[39;00m:\n\u001b[1;32m     41\u001b[0m     prog\u001b[38;5;241m.\u001b[39mapply(perfect_ham_simulation(coeffs, (\u001b[38;5;241m2\u001b[39m\u001b[38;5;241m*\u001b[39m\u001b[38;5;241m*\u001b[39m(k\u001b[38;5;241m-\u001b[39m\u001b[38;5;241m1\u001b[39m)) \u001b[38;5;241m*\u001b[39m dt, shift)\u001b[38;5;241m.\u001b[39mctrl(), q)\n",
      "Input \u001b[0;32mIn [4]\u001b[0m, in \u001b[0;36mtrotter_ham_simulation\u001b[0;34m(ham_coeffs, dt, p, shift)\u001b[0m\n\u001b[1;32m     22\u001b[0m \u001b[38;5;28;01mfor\u001b[39;00m _ \u001b[38;5;129;01min\u001b[39;00m \u001b[38;5;28mrange\u001b[39m(p):\n\u001b[1;32m     23\u001b[0m     \u001b[38;5;28;01mfor\u001b[39;00m g \u001b[38;5;129;01min\u001b[39;00m gates:\n\u001b[0;32m---> 24\u001b[0m         \u001b[43mqroutine\u001b[49m\u001b[38;5;241;43m.\u001b[39;49m\u001b[43mapply\u001b[49m\u001b[43m(\u001b[49m\u001b[43mg\u001b[49m\u001b[43m,\u001b[49m\u001b[43m \u001b[49m\u001b[38;5;241;43m0\u001b[39;49m\u001b[43m,\u001b[49m\u001b[43m \u001b[49m\u001b[38;5;241;43m1\u001b[39;49m\u001b[43m)\u001b[49m\n\u001b[1;32m     26\u001b[0m \u001b[38;5;28;01mreturn\u001b[39;00m qroutine\n",
      "File \u001b[0;32mroutines.py:312\u001b[0m, in \u001b[0;36mqat.lang.AQASM.routines.QRoutine.apply\u001b[0;34m()\u001b[0m\n",
      "\u001b[0;31mInvalidGateArguments\u001b[0m: Gate None of arity 0 cannot be applied on [0,1]"
     ]
    }
   ],
   "source": [
    "vals_perfect = []\n",
    "vals_trotter_4 = []\n",
    "vals_trotter_10 = []\n",
    "Rs = []\n",
    "\n",
    "shift = -E_min\n",
    "\n",
    "for coeffs in ham_data:\n",
    "    phi_perfect = phase(coeffs)\n",
    "    phi_trotter_4 = phase(coeffs, trotterization=True, trotter_number=4)\n",
    "    phi_trotter_10 = phase(coeffs, trotterization=True, trotter_number=10)\n",
    "\n",
    "    # CONVERT PHASES BACK TO ENERGY\n",
    "    E = ((2*np.pi)/dt)*phi_perfect - shift\n",
    "    E_trotter_4 = ((2*np.pi)/dt)*phi_trotter_4 - shift \n",
    "    E_trotter_10 = ((2*np.pi)/dt)*phi_trotter_10 -shift\n",
    "\n",
    "    \n",
    "    print(\"R\", coeffs['R'])\n",
    "    Rs.append(coeffs['R'])\n",
    "    \n",
    "    vals_perfect.append(E)\n",
    "    vals_trotter_4.append(E_trotter_4)\n",
    "    vals_trotter_10.append(E_trotter_10)\n"
   ]
  },
  {
   "cell_type": "code",
   "execution_count": null,
   "metadata": {},
   "outputs": [],
   "source": [
    "import matplotlib.pylab as plt\n",
    "\n",
    "plt.plot(Rs, vals_perfect, label=\"perfect\")\n",
    "plt.plot(Rs, vals_trotter_4, label=\"p=4\")\n",
    "plt.plot(Rs, vals_trotter_10, label=\"p=10\")\n",
    "plt.legend()"
   ]
  }
 ],
 "metadata": {
  "kernelspec": {
   "display_name": "Python 3 (ipykernel)",
   "language": "python",
   "name": "python3"
  },
  "language_info": {
   "codemirror_mode": {
    "name": "ipython",
    "version": 3
   },
   "file_extension": ".py",
   "mimetype": "text/x-python",
   "name": "python",
   "nbconvert_exporter": "python",
   "pygments_lexer": "ipython3",
   "version": "3.10.6"
  }
 },
 "nbformat": 4,
 "nbformat_minor": 4
}
