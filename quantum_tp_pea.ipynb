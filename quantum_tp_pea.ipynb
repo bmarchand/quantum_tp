{
 "cells": [
  {
   "cell_type": "markdown",
   "metadata": {},
   "source": [
    "## Question 1"
   ]
  },
  {
   "cell_type": "code",
   "execution_count": 1,
   "metadata": {},
   "outputs": [],
   "source": [
    "import numpy as np\n",
    "from qat.lang.AQASM import Program, H,  AbstractGate, QRoutine\n",
    "from scipy import linalg # for linalg.expm, the matrix exponential.\n",
    "from qat.qpus import get_default_qpu # numerical simulator for small quantum circuits.\n",
    "\n",
    "# PUT YOUR IMPLEMENTATION HERE. Take inspiration from the \"minimal notebook\" that was sent you. "
   ]
  },
  {
   "cell_type": "markdown",
   "metadata": {},
   "source": [
    "### Hamiltonian data\n",
    "\n",
    "The purpose of the TP is to reproduce, using numerical simulation, Figure 3.(a) of https://arxiv.org/abs/1512.06860.\n",
    "\n",
    "On this figure, the ground state energy of a dihydrogen molecule is plotted against the distance $R$ separating the hydrogen atoms. It allows to predict the **equilibrium bond length** of the molecule.\n",
    "\n",
    "*Note*: In more complicated settings with larger molecules, energy may be plotted against various distances and angles, forming an *energy landscape* that proves useful in predicting chemical reaction mechanisms, rates, etc.\n",
    "\n",
    "The cell below imports the data of Table I of https://arxiv.org/abs/1512.06860."
   ]
  },
  {
   "cell_type": "code",
   "execution_count": 2,
   "metadata": {},
   "outputs": [
    {
     "name": "stdout",
     "output_type": "stream",
     "text": [
      "{'R': 0.2, 'I_coeff': 2.8489, 'Z0_coeff': 0.5678, 'Z1_coeff': -1.4508, 'Z0Z1_coeff': 0.6799, 'X0X1_coeff': 0.0791, 'Y0Y1_coeff': 0.0791, 't0': 0.0791}\n",
      "{'R': 0.25, 'I_coeff': 2.1868, 'Z0_coeff': 0.5449, 'Z1_coeff': -1.287, 'Z0Z1_coeff': 0.6719, 'X0X1_coeff': 0.0798, 'Y0Y1_coeff': 0.0798, 't0': 0.0798}\n",
      "{'R': 0.3, 'I_coeff': 1.7252, 'Z0_coeff': 0.5215, 'Z1_coeff': -1.1458, 'Z0Z1_coeff': 0.6631, 'X0X1_coeff': 0.0806, 'Y0Y1_coeff': 0.0806, 't0': 0.0806}\n",
      "{'R': 0.35, 'I_coeff': 1.3827, 'Z0_coeff': 0.4982, 'Z1_coeff': -1.0226, 'Z0Z1_coeff': 0.6537, 'X0X1_coeff': 0.0815, 'Y0Y1_coeff': 0.0815, 't0': 0.0815}\n",
      "{'R': 0.4, 'I_coeff': 1.1182, 'Z0_coeff': 0.4754, 'Z1_coeff': -0.9145, 'Z0Z1_coeff': 0.6438, 'X0X1_coeff': 0.0825, 'Y0Y1_coeff': 0.0825, 't0': 0.0825}\n",
      "{'R': 0.45, 'I_coeff': 0.9083, 'Z0_coeff': 0.4534, 'Z1_coeff': -0.8194, 'Z0Z1_coeff': 0.6336, 'X0X1_coeff': 0.0835, 'Y0Y1_coeff': 0.0835, 't0': 0.0835}\n",
      "{'R': 0.5, 'I_coeff': 0.7381, 'Z0_coeff': 0.4325, 'Z1_coeff': -0.7355, 'Z0Z1_coeff': 0.6233, 'X0X1_coeff': 0.0846, 'Y0Y1_coeff': 0.0846, 't0': 0.0846}\n",
      "{'R': 0.55, 'I_coeff': 0.5979, 'Z0_coeff': 0.4125, 'Z1_coeff': -0.6612, 'Z0Z1_coeff': 0.6129, 'X0X1_coeff': 0.0858, 'Y0Y1_coeff': 0.0858, 't0': 0.0858}\n",
      "{'R': 0.6, 'I_coeff': 0.4808, 'Z0_coeff': 0.3937, 'Z1_coeff': -0.595, 'Z0Z1_coeff': 0.6025, 'X0X1_coeff': 0.087, 'Y0Y1_coeff': 0.087, 't0': 0.087}\n",
      "{'R': 0.65, 'I_coeff': 0.3819, 'Z0_coeff': 0.376, 'Z1_coeff': -0.5358, 'Z0Z1_coeff': 0.5921, 'X0X1_coeff': 0.0883, 'Y0Y1_coeff': 0.0883, 't0': 0.0883}\n",
      "{'R': 0.7, 'I_coeff': 0.2976, 'Z0_coeff': 0.3593, 'Z1_coeff': -0.4826, 'Z0Z1_coeff': 0.5818, 'X0X1_coeff': 0.0896, 'Y0Y1_coeff': 0.0896, 't0': 0.0896}\n",
      "{'R': 0.75, 'I_coeff': 0.2252, 'Z0_coeff': 0.3435, 'Z1_coeff': -0.4347, 'Z0Z1_coeff': 0.5716, 'X0X1_coeff': 0.091, 'Y0Y1_coeff': 0.091, 't0': 0.091}\n",
      "{'R': 0.8, 'I_coeff': 0.1626, 'Z0_coeff': 0.3288, 'Z1_coeff': -0.3915, 'Z0Z1_coeff': 0.5616, 'X0X1_coeff': 0.0925, 'Y0Y1_coeff': 0.0925, 't0': 0.0925}\n",
      "{'R': 0.85, 'I_coeff': 0.1083, 'Z0_coeff': 0.3149, 'Z1_coeff': -0.3523, 'Z0Z1_coeff': 0.5518, 'X0X1_coeff': 0.0939, 'Y0Y1_coeff': 0.0939, 't0': 0.0939}\n",
      "{'R': 0.9, 'I_coeff': 0.0609, 'Z0_coeff': 0.3018, 'Z1_coeff': -0.3168, 'Z0Z1_coeff': 0.5421, 'X0X1_coeff': 0.0954, 'Y0Y1_coeff': 0.0954, 't0': 0.0954}\n",
      "{'R': 0.95, 'I_coeff': 0.0193, 'Z0_coeff': 0.2895, 'Z1_coeff': -0.2845, 'Z0Z1_coeff': 0.5327, 'X0X1_coeff': 0.097, 'Y0Y1_coeff': 0.097, 't0': 0.097}\n",
      "{'R': 1.0, 'I_coeff': -0.0172, 'Z0_coeff': 0.2779, 'Z1_coeff': -0.255, 'Z0Z1_coeff': 0.5235, 'X0X1_coeff': 0.0986, 'Y0Y1_coeff': 0.0986, 't0': 0.0986}\n",
      "{'R': 1.05, 'I_coeff': -0.0493, 'Z0_coeff': 0.2669, 'Z1_coeff': -0.2282, 'Z0Z1_coeff': 0.5146, 'X0X1_coeff': 0.1002, 'Y0Y1_coeff': 0.1002, 't0': 0.1002}\n",
      "{'R': 1.1, 'I_coeff': -0.0778, 'Z0_coeff': 0.2565, 'Z1_coeff': -0.2036, 'Z0Z1_coeff': 0.5059, 'X0X1_coeff': 0.1018, 'Y0Y1_coeff': 0.1018, 't0': 0.1018}\n",
      "{'R': 1.15, 'I_coeff': -0.1029, 'Z0_coeff': 0.2467, 'Z1_coeff': -0.181, 'Z0Z1_coeff': 0.4974, 'X0X1_coeff': 0.1034, 'Y0Y1_coeff': 0.1034, 't0': 0.1034}\n",
      "{'R': 1.2, 'I_coeff': -0.1253, 'Z0_coeff': 0.2374, 'Z1_coeff': -0.1603, 'Z0Z1_coeff': 0.4892, 'X0X1_coeff': 0.105, 'Y0Y1_coeff': 0.105, 't0': 0.105}\n",
      "{'R': 1.25, 'I_coeff': -0.1452, 'Z0_coeff': 0.2286, 'Z1_coeff': -0.1413, 'Z0Z1_coeff': 0.4812, 'X0X1_coeff': 0.1067, 'Y0Y1_coeff': 0.1067, 't0': 0.1067}\n",
      "{'R': 1.3, 'I_coeff': -0.1629, 'Z0_coeff': 0.2203, 'Z1_coeff': -0.1238, 'Z0Z1_coeff': 0.4735, 'X0X1_coeff': 0.1083, 'Y0Y1_coeff': 0.1083, 't0': 0.1083}\n",
      "{'R': 1.35, 'I_coeff': -0.1786, 'Z0_coeff': 0.2123, 'Z1_coeff': -0.1077, 'Z0Z1_coeff': 0.466, 'X0X1_coeff': 0.11, 'Y0Y1_coeff': 0.11, 't0': 0.11}\n",
      "{'R': 1.4, 'I_coeff': -0.1927, 'Z0_coeff': 0.2048, 'Z1_coeff': -0.0929, 'Z0Z1_coeff': 0.4588, 'X0X1_coeff': 0.1116, 'Y0Y1_coeff': 0.1116, 't0': 0.1116}\n",
      "{'R': 1.45, 'I_coeff': -0.2053, 'Z0_coeff': 0.1976, 'Z1_coeff': -0.0792, 'Z0Z1_coeff': 0.4518, 'X0X1_coeff': 0.1133, 'Y0Y1_coeff': 0.1133, 't0': 0.1133}\n",
      "{'R': 1.5, 'I_coeff': -0.2165, 'Z0_coeff': 0.1908, 'Z1_coeff': -0.0666, 'Z0Z1_coeff': 0.4451, 'X0X1_coeff': 0.1149, 'Y0Y1_coeff': 0.1149, 't0': 0.1149}\n",
      "{'R': 1.55, 'I_coeff': -0.2265, 'Z0_coeff': 0.1843, 'Z1_coeff': -0.0549, 'Z0Z1_coeff': 0.4386, 'X0X1_coeff': 0.1165, 'Y0Y1_coeff': 0.1165, 't0': 0.1165}\n",
      "{'R': 1.6, 'I_coeff': -0.2355, 'Z0_coeff': 0.1782, 'Z1_coeff': -0.0442, 'Z0Z1_coeff': 0.4323, 'X0X1_coeff': 0.1181, 'Y0Y1_coeff': 0.1181, 't0': 0.1181}\n",
      "{'R': 1.65, 'I_coeff': -0.2436, 'Z0_coeff': 0.1723, 'Z1_coeff': -0.0342, 'Z0Z1_coeff': 0.4262, 'X0X1_coeff': 0.1196, 'Y0Y1_coeff': 0.1196, 't0': 0.1196}\n",
      "{'R': 1.7, 'I_coeff': -0.2508, 'Z0_coeff': 0.1667, 'Z1_coeff': -0.0251, 'Z0Z1_coeff': 0.4204, 'X0X1_coeff': 0.1211, 'Y0Y1_coeff': 0.1211, 't0': 0.1211}\n",
      "{'R': 1.75, 'I_coeff': -0.2573, 'Z0_coeff': 0.1615, 'Z1_coeff': -0.0166, 'Z0Z1_coeff': 0.4148, 'X0X1_coeff': 0.1226, 'Y0Y1_coeff': 0.1226, 't0': 0.1226}\n",
      "{'R': 1.8, 'I_coeff': -0.2632, 'Z0_coeff': 0.1565, 'Z1_coeff': -0.0088, 'Z0Z1_coeff': 0.4094, 'X0X1_coeff': 0.1241, 'Y0Y1_coeff': 0.1241, 't0': 0.1241}\n",
      "{'R': 1.85, 'I_coeff': -0.2684, 'Z0_coeff': 0.1517, 'Z1_coeff': -0.0015, 'Z0Z1_coeff': 0.4042, 'X0X1_coeff': 0.1256, 'Y0Y1_coeff': 0.1256, 't0': 0.1256}\n",
      "{'R': 1.9, 'I_coeff': -0.2731, 'Z0_coeff': 0.1472, 'Z1_coeff': 0.0052, 'Z0Z1_coeff': 0.3992, 'X0X1_coeff': 0.127, 'Y0Y1_coeff': 0.127, 't0': 0.127}\n",
      "{'R': 1.95, 'I_coeff': -0.2774, 'Z0_coeff': 0.143, 'Z1_coeff': 0.0114, 'Z0Z1_coeff': 0.3944, 'X0X1_coeff': 0.1284, 'Y0Y1_coeff': 0.1284, 't0': 0.1284}\n",
      "{'R': 2.0, 'I_coeff': -0.2812, 'Z0_coeff': 0.139, 'Z1_coeff': 0.0171, 'Z0Z1_coeff': 0.3898, 'X0X1_coeff': 0.1297, 'Y0Y1_coeff': 0.1297, 't0': 0.1297}\n",
      "{'R': 2.05, 'I_coeff': -0.2847, 'Z0_coeff': 0.1352, 'Z1_coeff': 0.0223, 'Z0Z1_coeff': 0.3853, 'X0X1_coeff': 0.131, 'Y0Y1_coeff': 0.131, 't0': 0.131}\n",
      "{'R': 2.1, 'I_coeff': -0.2879, 'Z0_coeff': 0.1316, 'Z1_coeff': 0.0272, 'Z0Z1_coeff': 0.3811, 'X0X1_coeff': 0.1323, 'Y0Y1_coeff': 0.1323, 't0': 0.1323}\n",
      "{'R': 2.15, 'I_coeff': -0.2908, 'Z0_coeff': 0.1282, 'Z1_coeff': 0.0317, 'Z0Z1_coeff': 0.3769, 'X0X1_coeff': 0.1335, 'Y0Y1_coeff': 0.1335, 't0': 0.1335}\n",
      "{'R': 2.2, 'I_coeff': -0.2934, 'Z0_coeff': 0.1251, 'Z1_coeff': 0.0359, 'Z0Z1_coeff': 0.373, 'X0X1_coeff': 0.1347, 'Y0Y1_coeff': 0.1347, 't0': 0.1347}\n",
      "{'R': 2.25, 'I_coeff': -0.2958, 'Z0_coeff': 0.1221, 'Z1_coeff': 0.0397, 'Z0Z1_coeff': 0.3692, 'X0X1_coeff': 0.1359, 'Y0Y1_coeff': 0.1359, 't0': 0.1359}\n",
      "{'R': 2.3, 'I_coeff': -0.298, 'Z0_coeff': 0.1193, 'Z1_coeff': 0.0432, 'Z0Z1_coeff': 0.3655, 'X0X1_coeff': 0.137, 'Y0Y1_coeff': 0.137, 't0': 0.137}\n",
      "{'R': 2.35, 'I_coeff': -0.3, 'Z0_coeff': 0.1167, 'Z1_coeff': 0.0465, 'Z0Z1_coeff': 0.362, 'X0X1_coeff': 0.1381, 'Y0Y1_coeff': 0.1381, 't0': 0.1381}\n",
      "{'R': 2.4, 'I_coeff': -0.3018, 'Z0_coeff': 0.1142, 'Z1_coeff': 0.0495, 'Z0Z1_coeff': 0.3586, 'X0X1_coeff': 0.1392, 'Y0Y1_coeff': 0.1392, 't0': 0.1392}\n",
      "{'R': 2.45, 'I_coeff': -0.3035, 'Z0_coeff': 0.1119, 'Z1_coeff': 0.0523, 'Z0Z1_coeff': 0.3553, 'X0X1_coeff': 0.1402, 'Y0Y1_coeff': 0.1402, 't0': 0.1402}\n",
      "{'R': 2.5, 'I_coeff': -0.3051, 'Z0_coeff': 0.1098, 'Z1_coeff': 0.0549, 'Z0Z1_coeff': 0.3521, 'X0X1_coeff': 0.1412, 'Y0Y1_coeff': 0.1412, 't0': 0.1412}\n",
      "{'R': 2.55, 'I_coeff': -0.3066, 'Z0_coeff': 0.1078, 'Z1_coeff': 0.0572, 'Z0Z1_coeff': 0.3491, 'X0X1_coeff': 0.1422, 'Y0Y1_coeff': 0.1422, 't0': 0.1422}\n",
      "{'R': 2.6, 'I_coeff': -0.3079, 'Z0_coeff': 0.1059, 'Z1_coeff': 0.0594, 'Z0Z1_coeff': 0.3461, 'X0X1_coeff': 0.1432, 'Y0Y1_coeff': 0.1432, 't0': 0.1432}\n",
      "{'R': 2.65, 'I_coeff': -0.3092, 'Z0_coeff': 0.1042, 'Z1_coeff': 0.0614, 'Z0Z1_coeff': 0.3433, 'X0X1_coeff': 0.1441, 'Y0Y1_coeff': 0.1441, 't0': 0.1441}\n",
      "{'R': 2.7, 'I_coeff': -0.3104, 'Z0_coeff': 0.1026, 'Z1_coeff': 0.0632, 'Z0Z1_coeff': 0.3406, 'X0X1_coeff': 0.145, 'Y0Y1_coeff': 0.145, 't0': 0.145}\n",
      "{'R': 2.75, 'I_coeff': -0.3115, 'Z0_coeff': 0.1011, 'Z1_coeff': 0.0649, 'Z0Z1_coeff': 0.3379, 'X0X1_coeff': 0.1458, 'Y0Y1_coeff': 0.1458, 't0': 0.1458}\n",
      "{'R': 2.8, 'I_coeff': -0.3125, 'Z0_coeff': 0.0997, 'Z1_coeff': 0.0665, 'Z0Z1_coeff': 0.3354, 'X0X1_coeff': 0.1467, 'Y0Y1_coeff': 0.1467, 't0': 0.1467}\n",
      "{'R': 2.85, 'I_coeff': -0.3135, 'Z0_coeff': 0.0984, 'Z1_coeff': 0.0679, 'Z0Z1_coeff': 0.3329, 'X0X1_coeff': 0.1475, 'Y0Y1_coeff': 0.1475, 't0': 0.1475}\n"
     ]
    }
   ],
   "source": [
    "#importing Hamiltonian data\n",
    "import json \n",
    "\n",
    "with open('hamiltonian_data.json','r') as f:\n",
    "    ham_data = json.load(f)\n",
    "    \n",
    "for coeffs in ham_data:\n",
    "    print(coeffs)"
   ]
  },
  {
   "cell_type": "markdown",
   "metadata": {},
   "source": [
    "### Question 2:\n",
    "Implement QRoutines for each of the Hamiltonian evolutions we need.\n"
   ]
  },
  {
   "cell_type": "code",
   "execution_count": 5,
   "metadata": {},
   "outputs": [],
   "source": [
    "from qat.lang.AQASM import CNOT, RZ, RX, RY, S, I\n",
    "\n",
    "def u_11_matrix(dt):\n",
    "    # needed for accurate energy values.\n",
    "    return np.diag([np.exp(-1j*dt),np.exp(-1j*dt),np.exp(-1j*dt),np.exp(-1j*dt)])\n",
    "\n",
    "U_II = AbstractGate(\"II\",[float],arity=2,matrix_generator=u_11_matrix)\n",
    "    \n",
    "def U_ZZ(dt):\n",
    "    \n",
    "    zz_r = QRoutine()\n",
    "    zz_r.apply(CNOT, 0, 1)\n",
    "    zz_r.apply(RZ(2*dt), 1) # difference of convention between implemented version and what we need.\n",
    "    zz_r.apply(CNOT, 0, 1)\n",
    "\n",
    "    return zz_r\n",
    "\n",
    "#Implement, as above, all the other hamiltonian simulations here.\n",
    "def U_ZI(dt):\n",
    "    pass\n",
    "\n",
    "def U_IZ(dt):\n",
    "    pass\n",
    "\n",
    "def U_XX(dt):\n",
    "    pass\n",
    "\n",
    "def U_YY(dt):\n",
    "    pass\n",
    "    \n",
    "check = False # turn true to plot and see what you do\n",
    "\n",
    "if check:\n",
    "    prog = Program()\n",
    "    q = prog.qalloc(2)\n",
    "    prog.apply(U_YY(3.), q)\n",
    "    circ = prog.to_circ()\n",
    "\n",
    "    #%qatdisplay --svg circ"
   ]
  },
  {
   "cell_type": "markdown",
   "metadata": {},
   "source": [
    "### Question 3:\n",
    "Implement a function returning a Qroutine implementing a Trotterized evolution generated by our Hamiltonian."
   ]
  },
  {
   "cell_type": "code",
   "execution_count": 6,
   "metadata": {},
   "outputs": [],
   "source": [
    "def trotter_ham_simulation(ham_coeffs, dt, p, shift):\n",
    "    \"\"\"\n",
    "    Args:\n",
    "        - ham_coeffs: a dictionary from the list of dictionaries loaded from hamiltonian_data.json.\n",
    "        Therefore its keys are \"I_coeff\", \"Z0_coeff\", etc.\n",
    "        - dt: a float, corresponding to the interval of time whose value we will define later.\n",
    "        - p: the \"Trotter number\": the integer controlling the degree of approximation\n",
    "        - shift: an energy shift to the Hamiltonian to make sure that the value of the ground state energy\n",
    "        is positive. It consists in adding +shift*I to the Hamiltonian.\n",
    "    \"\"\"\n",
    "\n",
    "    # Hint: gates are regular python objects, they can be put in a list.\n",
    "            \n",
    "    return qroutine"
   ]
  },
  {
   "cell_type": "code",
   "execution_count": 5,
   "metadata": {},
   "outputs": [],
   "source": [
    "# IDEAL HAMILTONIAN SIMULATION: we will use it to compare to the Trotterized version.\n",
    "def perfect_ham_simulation(ham_coeffs, dt, shift):\n",
    "\n",
    "    I = np.eye(4)\n",
    "    Z0 = np.diag([1,1,-1,-1])\n",
    "    Z1 = np.diag([1,-1,1,-1])\n",
    "    Z0Z1 = np.diag([1,-1,-1,1])\n",
    "    X0X1 = np.fliplr(np.eye(4))\n",
    "    Y0Y1 = np.fliplr(np.diag([-1, 1, 1, -1]))\n",
    "\n",
    "    H = (ham_coeffs['I_coeff']+shift) * I\n",
    "    H += ham_coeffs['Z0_coeff'] * Z0\n",
    "    H += ham_coeffs['Z1_coeff'] * Z1\n",
    "    H += ham_coeffs['Z0Z1_coeff'] * Z0Z1\n",
    "    H += ham_coeffs['X0X1_coeff'] * X0X1\n",
    "    H += ham_coeffs['Y0Y1_coeff'] * Y0Y1\n",
    "\n",
    "    U = linalg.expm(-1j * dt * H)\n",
    "\n",
    "    def matrix():\n",
    "        return U\n",
    "\n",
    "    U_gate = AbstractGate(\"U\", [], arity=2,\n",
    "                     matrix_generator=matrix)\n",
    "\n",
    "    qroutine = QRoutine()\n",
    "\n",
    "    qroutine.apply(U_gate(), 0, 1)\n",
    "\n",
    "    return qroutine"
   ]
  },
  {
   "cell_type": "markdown",
   "metadata": {},
   "source": [
    "### Question 4"
   ]
  },
  {
   "cell_type": "code",
   "execution_count": 7,
   "metadata": {},
   "outputs": [],
   "source": [
    "from qat.lang.AQASM import X\n",
    "\n",
    "E_max = 3\n",
    "E_min = 0.5\n",
    "    \n",
    "dt = (2 * np.pi) / float(E_max)\n",
    "\n",
    "def phase(coeffs, trotterization=False, trotter_number=4, shift=2, nBits = 10):\n",
    "    \n",
    "    bits = {}\n",
    "\n",
    "    for k in range(nBits, 0, -1):\n",
    "        prog = Program()\n",
    "\n",
    "        q = prog.qalloc(3)\n",
    "\n",
    "        prog.apply(H, q[0])\n",
    "\n",
    "        # ansatz preparation, we are lucky it is so simple.\n",
    "        prog.apply(X, q[1])\n",
    "\n",
    "        # Trotterization\n",
    "        if trotterization:\n",
    "            prog.apply(trotter_ham_simulation(coeffs, (2**(k-1)) * dt, trotter_number, shift).ctrl(), q)\n",
    "        else:\n",
    "            prog.apply(perfect_ham_simulation(coeffs, (2**(k-1)) * dt, shift).ctrl(), q)\n",
    "\n",
    "        phi_k = 0\n",
    "\n",
    "        for l in range(k+1, nBits+1, 1):\n",
    "            phi_k += bits[l] / float(2**(l-k+1))\n",
    "\n",
    "        phi_k *= 2 * np.pi\n",
    "\n",
    "        prog.apply(RZ(phi_k), q[0])\n",
    "        prog.apply(H, q[0])\n",
    "\n",
    "        job = prog.to_circ().to_job(qubits=[0])\n",
    "\n",
    "        result = qpu.submit(job)\n",
    "\n",
    "        max_proba = -1\n",
    "        max_state = -1\n",
    "        for sample in result:\n",
    "            if sample.probability > max_proba:\n",
    "                max_proba = sample.probability\n",
    "                max_state = sample._state\n",
    "     \n",
    "        bits[k] = max_state\n",
    "            \n",
    "    phi = 0\n",
    "    for l in range(1,nBits+1,1):\n",
    "        phi += float(bits[l])/float(2**l)\n",
    "            \n",
    "    return phi"
   ]
  },
  {
   "cell_type": "code",
   "execution_count": 8,
   "metadata": {},
   "outputs": [
    {
     "name": "stdout",
     "output_type": "stream",
     "text": [
      "R 0.2\n",
      "R 0.25\n",
      "R 0.3\n",
      "R 0.35\n",
      "R 0.4\n",
      "R 0.45\n",
      "R 0.5\n",
      "R 0.55\n",
      "R 0.6\n",
      "R 0.65\n",
      "R 0.7\n",
      "R 0.75\n",
      "R 0.8\n",
      "R 0.85\n",
      "R 0.9\n",
      "R 0.95\n",
      "R 1.0\n",
      "R 1.05\n",
      "R 1.1\n",
      "R 1.15\n",
      "R 1.2\n",
      "R 1.25\n",
      "R 1.3\n",
      "R 1.35\n",
      "R 1.4\n",
      "R 1.45\n",
      "R 1.5\n",
      "R 1.55\n",
      "R 1.6\n",
      "R 1.65\n",
      "R 1.7\n",
      "R 1.75\n",
      "R 1.8\n",
      "R 1.85\n",
      "R 1.9\n",
      "R 1.95\n",
      "R 2.0\n",
      "R 2.05\n",
      "R 2.1\n",
      "R 2.15\n",
      "R 2.2\n",
      "R 2.25\n",
      "R 2.3\n",
      "R 2.35\n",
      "R 2.4\n",
      "R 2.45\n",
      "R 2.5\n",
      "R 2.55\n",
      "R 2.6\n",
      "R 2.65\n",
      "R 2.7\n",
      "R 2.75\n",
      "R 2.8\n",
      "R 2.85\n"
     ]
    }
   ],
   "source": [
    "vals_perfect = []\n",
    "vals_trotter_4 = []\n",
    "vals_trotter_10 = []\n",
    "Rs = []\n",
    "\n",
    "shift = 2\n",
    "\n",
    "for coeffs in ham_data:\n",
    "    phi_perfect = phase(coeffs)\n",
    "    phi_trotter_4 = phase(coeffs, trotterization=True, trotter_number=4)\n",
    "    phi_trotter_10 = phase(coeffs, trotterization=True, trotter_number=10)\n",
    "\n",
    "    \n",
    "    E = ((2*np.pi)/dt)*phi_perfect\n",
    "    E_trotter_4 = ((2*np.pi)/dt)*phi_trotter_4\n",
    "    E_trotter_10 = ((2*np.pi)/dt)*phi_trotter_10\n",
    "\n",
    "    \n",
    "    print(\"R\", coeffs['R'])\n",
    "    Rs.append(coeffs['R'])\n",
    "    \n",
    "    vals_perfect.append(E-shift)\n",
    "    vals_trotter_4.append(E_trotter_4-shift)\n",
    "    vals_trotter_10.append(E_trotter_10-shift)\n"
   ]
  },
  {
   "cell_type": "code",
   "execution_count": 9,
   "metadata": {},
   "outputs": [
    {
     "data": {
      "text/plain": [
       "<matplotlib.legend.Legend at 0x7f8190f125f8>"
      ]
     },
     "execution_count": 9,
     "metadata": {},
     "output_type": "execute_result"
    },
    {
     "data": {
      "image/png": "[encoded data removed]",
      "text/plain": [
       "<Figure size 432x288 with 1 Axes>"
      ]
     },
     "metadata": {
      "needs_background": "light"
     },
     "output_type": "display_data"
    }
   ],
   "source": [
    "import matplotlib.pylab as plt\n",
    "\n",
    "plt.plot(Rs, vals_perfect, label=\"le bertrand\")\n",
    "plt.plot(Rs, vals_trotter_4, label=\"p=4\")\n",
    "plt.plot(Rs, vals_trotter_10, label=\"p=10\")\n",
    "plt.legend()"
   ]
  }
 ],
 "metadata": {
  "kernelspec": {
   "display_name": "Python 3",
   "language": "python",
   "name": "python3"
  },
  "language_info": {
   "codemirror_mode": {
    "name": "ipython",
    "version": 3
   },
   "file_extension": ".py",
   "mimetype": "text/x-python",
   "name": "python",
   "nbconvert_exporter": "python",
   "pygments_lexer": "ipython3",
   "version": "3.6.12"
  }
 },
 "nbformat": 4,
 "nbformat_minor": 4
}
