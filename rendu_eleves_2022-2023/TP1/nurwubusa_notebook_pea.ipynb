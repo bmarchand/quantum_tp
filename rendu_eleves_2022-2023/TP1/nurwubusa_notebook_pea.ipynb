{
  "cells": [
    {
      "cell_type": "markdown",
      "metadata": {
        "id": "ST9HprPHbNrQ"
      },
      "source": [
        "# Quantum Phase Estimation - Maxime Nurwubusa"
      ]
    },
    {
      "cell_type": "markdown",
      "source": [
        "### Question 1"
      ],
      "metadata": {
        "id": "jqJWtQcxTwER"
      }
    },
    {
      "cell_type": "code",
      "execution_count": null,
      "metadata": {
        "id": "qiMFWQc6bNrV"
      },
      "outputs": [],
      "source": [
        "!pip install wand\n",
        "!apt install imagemagick\n",
        "!pip install myqlm\n",
        "!python -m qat.magics.install\n",
        "\n",
        "import numpy as np\n",
        "from scipy import linalg\n",
        "import matplotlib.pylab as plt\n",
        "\n",
        "\n",
        "\n",
        "from qat.lang.AQASM import Program, H,  AbstractGate, QRoutine, S, CNOT\n",
        "from scipy import linalg # for linalg.expm, the matrix exponential.\n",
        "from qat.qpus import get_default_qpu # numerical simulator for small quantum circuits.\n",
        "\n",
        "\n",
        "prog = Program()\n",
        "q = prog.qalloc(2)\n",
        "prog.apply(H, q[0])\n",
        "prog.apply(S.dag(), q[1])\n",
        "prog.apply(CNOT, [q[0],q[1]])\n",
        "\n",
        "def matrix(theta):\n",
        "    X = np.array([[0,1],[1,0]])\n",
        "    return linalg.expm(-1j * theta * X)\n",
        "\n",
        "ham_x = AbstractGate(\"ham_X\", [float], arity=1, matrix_generator=matrix)\n",
        "\n",
        "prog.apply(ham_x(0.3), q[0])\n",
        "prog.apply(H.ctrl(), q)\n",
        "circ = prog.to_circ()\n",
        "prog.apply(CNOT, q)\n",
        "circ2 = prog.to_circ()\n",
        "\n",
        "\n",
        "# TODO: put your implementation here. Take inspiration from the \"minimal notebook\" that was sent to you."
      ]
    },
    {
      "cell_type": "markdown",
      "metadata": {
        "id": "VZ-cZsKQbNrY"
      },
      "source": [
        "### Hamiltonian data\n",
        "\n",
        "The purpose of the TP is to plot the “dissociation curve” of H2, for\n",
        "various values of the Trotterization parameter p, which is done at the end\n",
        "of the notebook.\n",
        "\n",
        "This has already been done in the following document (Figure 3.a) : https://arxiv.org/abs/1512.06860.\n",
        "\n",
        "\n",
        "The code below imports the data of Table I of https://arxiv.org/abs/1512.06860.\n"
      ]
    },
    {
      "cell_type": "code",
      "execution_count": null,
      "metadata": {
        "id": "KTH7UFa3bNrZ"
      },
      "outputs": [],
      "source": [
        "#importing Hamiltonian data\n",
        "import json \n",
        "\n",
        "with open('hamiltonian_data.json','r') as f:\n",
        "    ham_data = json.load(f)\n",
        "    \n",
        "for coeffs in ham_data:\n",
        "    print(coeffs)"
      ]
    },
    {
      "cell_type": "markdown",
      "metadata": {
        "id": "KkL4EVlcbNrZ"
      },
      "source": [
        "### Question 2:\n",
        "The code below implements QRoutines for each of the Hamiltonians we will need later.\n",
        "\n"
      ]
    },
    {
      "cell_type": "code",
      "execution_count": null,
      "metadata": {
        "id": "trxXbUobbNra"
      },
      "outputs": [],
      "source": [
        "from qat.lang.AQASM import CNOT, RZ, RX, RY, S, I\n",
        "from tp_library_pea import U_II, U_ZI, U_IZ, U_ZZ, U_XX, U_YY\n",
        "# TODO: implement U_II, U_ZI, U_IZ, U_ZZ, U_XX, U_YY in the file tp_library_pea.py\n",
        "# JUPYTER TRICK: you might have to kernel -> restart and run all to see the effect here of your code edition.\n",
        "\n",
        "test = False\n",
        "if test:\n",
        "    prog = Program()\n",
        "    q = prog.qalloc(2)\n",
        "    prog.apply(U_YY(3.), q)\n",
        "    circ = prog.to_circ()\n",
        "\n",
        "    for op in circ.iterate_simple():\n",
        "        print(op)\n",
        "\n",
        "!python3 -m pytest tp_pea_question2_tests.py"
      ]
    },
    {
      "cell_type": "markdown",
      "metadata": {
        "id": "bXGU86m6bNrb"
      },
      "source": [
        "### Question 3:"
      ]
    },
    {
      "cell_type": "code",
      "execution_count": null,
      "metadata": {
        "id": "j7iwehXEbNrb"
      },
      "outputs": [],
      "source": [
        "from tp_library_pea import trotter_ham_simulation\n",
        "\n",
        "!python3 -m pytest tp_pea_question3_tests.py"
      ]
    },
    {
      "cell_type": "markdown",
      "metadata": {
        "id": "NdNXXckwbNrc"
      },
      "source": [
        "### Question 4: Iterative phase estimation\n",
        "\n"
      ]
    },
    {
      "cell_type": "code",
      "execution_count": null,
      "metadata": {
        "id": "kG6UbJw_bNre"
      },
      "outputs": [],
      "source": [
        "from tp_library_pea import compute_phi_k, perfect_ham_simulation\n",
        "# perfect_ham_simulation: ideal, non-Trotterized simulation.\n",
        "\n",
        "!python3 -m pytest tp_pea_question4_tests.py"
      ]
    },
    {
      "cell_type": "code",
      "execution_count": 6,
      "metadata": {
        "id": "e-wHgJUMbNre"
      },
      "outputs": [],
      "source": [
        "from qat.lang.AQASM import X\n",
        "\n",
        "E_max = 3\n",
        "E_min = -2\n",
        "    \n",
        "dt = (2 * np.pi) / float(E_max)\n",
        "\n",
        "def phase(coeffs, trotterization=False, trotter_number=4, shift=-E_min, nBits = 10):\n",
        "    \"\"\"\n",
        "    Given Hamiltonian coefficients, compute phi, s.t U|\\psi\\rangle = e^{-2i\\pi\\phi}|\\psi\\rangle\n",
        "    \n",
        "    Args:\n",
        "        - coeffs: a dictionary of coefficients as extracted from the list of dictionaries loaded\n",
        "        from hamiltonian_data.json\n",
        "        - trotterization: Boolean flag specifying whether to use the Trotterized evolution or the\n",
        "        ideal \"cheat mode\" which exponentiates the Hamiltonian.\n",
        "        - trotter_number: the \"p\" controlling the degree of approximation of the Trotterization.\n",
        "        - shift: the energy shift that we use to make sure that the phase we compute is 0 < phi < 1\n",
        "        \n",
        "    Returns:\n",
        "        - phi, a real number that should fall between 0 and 1.\n",
        "    \"\"\"\n",
        "    bits = {}\n",
        "\n",
        "    for k in range(nBits, 0, -1):\n",
        "        \n",
        "        # CIRCUIT CREATION\n",
        "        prog = Program()\n",
        "\n",
        "        q = prog.qalloc(3)\n",
        "\n",
        "        prog.apply(H, q[0])\n",
        "\n",
        "        # ansatz preparation, we are lucky it is so simple.\n",
        "        prog.apply(X, q[1])\n",
        "\n",
        "        # Trotterization\n",
        "        if trotterization:\n",
        "            prog.apply(trotter_ham_simulation(coeffs, (2**(k-1)) * dt, trotter_number, shift).ctrl(), q)\n",
        "        else:\n",
        "            prog.apply(perfect_ham_simulation(coeffs, (2**(k-1)) * dt, shift).ctrl(), q)\n",
        "\n",
        "        phi_k = compute_phi_k(bits, nBits, k) #I added k to the arguments\n",
        "\n",
        "        # BEGIN IMPLEMENTATION. DO NOT MODIFY WHAT IS ABOVE.\n",
        "        \n",
        "        prog.apply(RZ(phi_k), q[0])\n",
        "        prog.apply(H, q[0])\n",
        "\n",
        "\n",
        "        \n",
        "        # END IMPLEMENTATION. DO NOT MODIFY WHAT IS BELOW.\n",
        "        \n",
        "        circ = prog.to_circ()\n",
        "                \n",
        "        # CIRCUIT SIMULATION\n",
        "        job = circ.to_job(qubits=[0])\n",
        "\n",
        "        qpu = get_default_qpu()\n",
        "        result = qpu.submit(job)\n",
        "\n",
        "        # SELECTION OF MOST LIKELY RESULT \n",
        "        max_proba = -1\n",
        "        max_state = -1\n",
        "        for sample in result:\n",
        "            if sample.probability > max_proba:\n",
        "                max_proba = sample.probability\n",
        "                max_state = sample.state.int\n",
        "     \n",
        "        bits[k] = max_state\n",
        "          \n",
        "    # recompute phi\n",
        "    phi = 0\n",
        "    for l in range(1,nBits+1,1):\n",
        "        phi += float(bits[l])/float(2**l)\n",
        "            \n",
        "    return phi"
      ]
    },
    {
      "cell_type": "markdown",
      "metadata": {
        "id": "gCAXbR6BbNrf"
      },
      "source": [
        "### Question 4 - Dissociation curves\n",
        "\n",
        "The code below uses the function above to compute phases for each values of R, convert them back to energies and plot the result for different Trotter number values (4 and 10). One can notice that p=10 gives a very good result, with respect to the document https://arxiv.org/abs/1512.06860."
      ]
    },
    {
      "cell_type": "code",
      "execution_count": null,
      "metadata": {
        "id": "6o6JFnckbNrf"
      },
      "outputs": [],
      "source": [
        "vals_perfect = []\n",
        "vals_trotter_4 = []\n",
        "vals_trotter_10 = []\n",
        "Rs = []\n",
        "\n",
        "shift = -E_min\n",
        "\n",
        "for coeffs in ham_data:\n",
        "    phi_perfect = phase(coeffs)\n",
        "    phi_trotter_4 = phase(coeffs, trotterization=True, trotter_number=4)\n",
        "    phi_trotter_10 = phase(coeffs, trotterization=True, trotter_number=10)\n",
        "\n",
        "    # CONVERT PHASES BACK TO ENERGY\n",
        "    E = ((2*np.pi)/dt)*phi_perfect - shift\n",
        "    E_trotter_4 = ((2*np.pi)/dt)*phi_trotter_4 - shift \n",
        "    E_trotter_10 = ((2*np.pi)/dt)*phi_trotter_10 -shift\n",
        "\n",
        "    \n",
        "    print(\"R\", coeffs['R'])\n",
        "    Rs.append(coeffs['R'])\n",
        "    \n",
        "    vals_perfect.append(E)\n",
        "    vals_trotter_4.append(E_trotter_4)\n",
        "    vals_trotter_10.append(E_trotter_10)\n"
      ]
    },
    {
      "cell_type": "code",
      "execution_count": null,
      "metadata": {
        "id": "SV01G_7EbNrf"
      },
      "outputs": [],
      "source": [
        "import matplotlib.pylab as plt\n",
        "\n",
        "plt.plot(Rs, vals_perfect, label=\"perfect\")\n",
        "plt.plot(Rs, vals_trotter_4, label=\"p=4\")\n",
        "plt.plot(Rs, vals_trotter_10, label=\"p=10\")\n",
        "plt.legend()"
      ]
    },
    {
      "cell_type": "code",
      "execution_count": null,
      "metadata": {
        "id": "90jeo8MObNrf"
      },
      "outputs": [],
      "source": []
    }
  ],
  "metadata": {
    "kernelspec": {
      "display_name": "Python 3 (ipykernel)",
      "language": "python",
      "name": "python3"
    },
    "language_info": {
      "codemirror_mode": {
        "name": "ipython",
        "version": 3
      },
      "file_extension": ".py",
      "mimetype": "text/x-python",
      "name": "python",
      "nbconvert_exporter": "python",
      "pygments_lexer": "ipython3",
      "version": "3.10.6"
    },
    "colab": {
      "provenance": [],
      "toc_visible": true
    }
  },
  "nbformat": 4,
  "nbformat_minor": 0
}