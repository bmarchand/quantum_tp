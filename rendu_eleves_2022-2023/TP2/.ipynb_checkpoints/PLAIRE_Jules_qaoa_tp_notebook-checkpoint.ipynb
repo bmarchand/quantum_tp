{
 "cells": [
  {
   "cell_type": "code",
   "execution_count": 1,
   "id": "P_TkuxgYZ3Ti",
   "metadata": {
    "colab": {
     "base_uri": "https://localhost:8080/"
    },
    "id": "P_TkuxgYZ3Ti",
    "outputId": "6f4e0f57-c879-4322-d50f-dda6c55a9578"
   },
   "outputs": [
    {
     "name": "stdout",
     "output_type": "stream",
     "text": [
      "Looking in indexes: https://pypi.org/simple, https://us-python.pkg.dev/colab-wheels/public/simple/\n",
      "Collecting wand\n",
      "  Downloading Wand-0.6.10-py2.py3-none-any.whl (142 kB)\n",
      "\u001b[2K     \u001b[90m━━━━━━━━━━━━━━━━━━━━━━━━━━━━━━━━━━━━━━\u001b[0m \u001b[32m142.8/142.8 KB\u001b[0m \u001b[31m10.2 MB/s\u001b[0m eta \u001b[36m0:00:00\u001b[0m\n",
      "\u001b[?25hInstalling collected packages: wand\n",
      "Successfully installed wand-0.6.10\n",
      "Reading package lists... Done\n",
      "Building dependency tree       \n",
      "Reading state information... Done\n",
      "The following package was automatically installed and is no longer required:\n",
      "  libnvidia-common-460\n",
      "Use 'apt autoremove' to remove it.\n",
      "The following additional packages will be installed:\n",
      "  fonts-droid-fallback fonts-noto-mono ghostscript gsfonts\n",
      "  imagemagick-6-common imagemagick-6.q16 libcupsfilters1 libcupsimage2\n",
      "  libdjvulibre-text libdjvulibre21 libgs9 libgs9-common libijs-0.35\n",
      "  libjbig2dec0 liblqr-1-0 libmagickcore-6.q16-3 libmagickcore-6.q16-3-extra\n",
      "  libmagickwand-6.q16-3 libnetpbm10 libwmf0.2-7 netpbm poppler-data\n",
      "Suggested packages:\n",
      "  fonts-noto ghostscript-x imagemagick-doc autotrace cups-bsd | lpr | lprng\n",
      "  enscript gimp gnuplot grads hp2xx html2ps libwmf-bin mplayer povray radiance\n",
      "  sane-utils texlive-base-bin transfig ufraw-batch inkscape libjxr-tools\n",
      "  libwmf0.2-7-gtk poppler-utils fonts-japanese-mincho | fonts-ipafont-mincho\n",
      "  fonts-japanese-gothic | fonts-ipafont-gothic fonts-arphic-ukai\n",
      "  fonts-arphic-uming fonts-nanum\n",
      "The following NEW packages will be installed:\n",
      "  fonts-droid-fallback fonts-noto-mono ghostscript gsfonts imagemagick\n",
      "  imagemagick-6-common imagemagick-6.q16 libcupsfilters1 libcupsimage2\n",
      "  libdjvulibre-text libdjvulibre21 libgs9 libgs9-common libijs-0.35\n",
      "  libjbig2dec0 liblqr-1-0 libmagickcore-6.q16-3 libmagickcore-6.q16-3-extra\n",
      "  libmagickwand-6.q16-3 libnetpbm10 libwmf0.2-7 netpbm poppler-data\n",
      "0 upgraded, 23 newly installed, 0 to remove and 20 not upgraded.\n",
      "Need to get 18.4 MB of archives.\n",
      "After this operation, 66.3 MB of additional disk space will be used.\n",
      "Get:1 http://archive.ubuntu.com/ubuntu bionic/main amd64 fonts-droid-fallback all 1:6.0.1r16-1.1 [1,805 kB]\n",
      "Get:2 http://archive.ubuntu.com/ubuntu bionic/main amd64 liblqr-1-0 amd64 0.4.2-2.1 [27.7 kB]\n",
      "Get:3 http://archive.ubuntu.com/ubuntu bionic-updates/main amd64 imagemagick-6-common all 8:6.9.7.4+dfsg-16ubuntu6.14 [60.5 kB]\n",
      "Get:4 http://archive.ubuntu.com/ubuntu bionic-updates/main amd64 libmagickcore-6.q16-3 amd64 8:6.9.7.4+dfsg-16ubuntu6.14 [1,622 kB]\n",
      "Get:5 http://archive.ubuntu.com/ubuntu bionic-updates/main amd64 libmagickwand-6.q16-3 amd64 8:6.9.7.4+dfsg-16ubuntu6.14 [294 kB]\n",
      "Get:6 http://archive.ubuntu.com/ubuntu bionic/main amd64 poppler-data all 0.4.8-2 [1,479 kB]\n",
      "Get:7 http://archive.ubuntu.com/ubuntu bionic/main amd64 fonts-noto-mono all 20171026-2 [75.5 kB]\n",
      "Get:8 http://archive.ubuntu.com/ubuntu bionic-updates/main amd64 libcupsimage2 amd64 2.2.7-1ubuntu2.9 [18.6 kB]\n",
      "Get:9 http://archive.ubuntu.com/ubuntu bionic/main amd64 libijs-0.35 amd64 0.35-13 [15.5 kB]\n",
      "Get:10 http://archive.ubuntu.com/ubuntu bionic/main amd64 libjbig2dec0 amd64 0.13-6 [55.9 kB]\n",
      "Get:11 http://archive.ubuntu.com/ubuntu bionic-updates/main amd64 libgs9-common all 9.26~dfsg+0-0ubuntu0.18.04.17 [5,092 kB]\n",
      "Get:12 http://archive.ubuntu.com/ubuntu bionic-updates/main amd64 libgs9 amd64 9.26~dfsg+0-0ubuntu0.18.04.17 [2,267 kB]\n",
      "Get:13 http://archive.ubuntu.com/ubuntu bionic-updates/main amd64 ghostscript amd64 9.26~dfsg+0-0ubuntu0.18.04.17 [51.3 kB]\n",
      "Get:14 http://archive.ubuntu.com/ubuntu bionic/main amd64 gsfonts all 1:8.11+urwcyr1.0.7~pre44-4.4 [3,120 kB]\n",
      "Get:15 http://archive.ubuntu.com/ubuntu bionic-updates/main amd64 imagemagick-6.q16 amd64 8:6.9.7.4+dfsg-16ubuntu6.14 [423 kB]\n",
      "Get:16 http://archive.ubuntu.com/ubuntu bionic-updates/main amd64 imagemagick amd64 8:6.9.7.4+dfsg-16ubuntu6.14 [14.2 kB]\n",
      "Get:17 http://archive.ubuntu.com/ubuntu bionic-updates/main amd64 libcupsfilters1 amd64 1.20.2-0ubuntu3.1 [108 kB]\n",
      "Get:18 http://archive.ubuntu.com/ubuntu bionic-updates/main amd64 libdjvulibre-text all 3.5.27.1-8ubuntu0.4 [49.4 kB]\n",
      "Get:19 http://archive.ubuntu.com/ubuntu bionic-updates/main amd64 libdjvulibre21 amd64 3.5.27.1-8ubuntu0.4 [561 kB]\n",
      "Get:20 http://archive.ubuntu.com/ubuntu bionic/main amd64 libwmf0.2-7 amd64 0.2.8.4-12 [150 kB]\n",
      "Get:21 http://archive.ubuntu.com/ubuntu bionic-updates/main amd64 libmagickcore-6.q16-3-extra amd64 8:6.9.7.4+dfsg-16ubuntu6.14 [62.2 kB]\n",
      "Get:22 http://archive.ubuntu.com/ubuntu bionic/main amd64 libnetpbm10 amd64 2:10.0-15.3build1 [58.0 kB]\n",
      "Get:23 http://archive.ubuntu.com/ubuntu bionic/main amd64 netpbm amd64 2:10.0-15.3build1 [1,017 kB]\n",
      "Fetched 18.4 MB in 2s (11.2 MB/s)\n",
      "Selecting previously unselected package fonts-droid-fallback.\n",
      "(Reading database ... 124016 files and directories currently installed.)\n",
      "Preparing to unpack .../00-fonts-droid-fallback_1%3a6.0.1r16-1.1_all.deb ...\n",
      "Unpacking fonts-droid-fallback (1:6.0.1r16-1.1) ...\n",
      "Selecting previously unselected package liblqr-1-0:amd64.\n",
      "Preparing to unpack .../01-liblqr-1-0_0.4.2-2.1_amd64.deb ...\n",
      "Unpacking liblqr-1-0:amd64 (0.4.2-2.1) ...\n",
      "Selecting previously unselected package imagemagick-6-common.\n",
      "Preparing to unpack .../02-imagemagick-6-common_8%3a6.9.7.4+dfsg-16ubuntu6.14_all.deb ...\n",
      "Unpacking imagemagick-6-common (8:6.9.7.4+dfsg-16ubuntu6.14) ...\n",
      "Selecting previously unselected package libmagickcore-6.q16-3:amd64.\n",
      "Preparing to unpack .../03-libmagickcore-6.q16-3_8%3a6.9.7.4+dfsg-16ubuntu6.14_amd64.deb ...\n",
      "Unpacking libmagickcore-6.q16-3:amd64 (8:6.9.7.4+dfsg-16ubuntu6.14) ...\n",
      "Selecting previously unselected package libmagickwand-6.q16-3:amd64.\n",
      "Preparing to unpack .../04-libmagickwand-6.q16-3_8%3a6.9.7.4+dfsg-16ubuntu6.14_amd64.deb ...\n",
      "Unpacking libmagickwand-6.q16-3:amd64 (8:6.9.7.4+dfsg-16ubuntu6.14) ...\n",
      "Selecting previously unselected package poppler-data.\n",
      "Preparing to unpack .../05-poppler-data_0.4.8-2_all.deb ...\n",
      "Unpacking poppler-data (0.4.8-2) ...\n",
      "Selecting previously unselected package fonts-noto-mono.\n",
      "Preparing to unpack .../06-fonts-noto-mono_20171026-2_all.deb ...\n",
      "Unpacking fonts-noto-mono (20171026-2) ...\n",
      "Selecting previously unselected package libcupsimage2:amd64.\n",
      "Preparing to unpack .../07-libcupsimage2_2.2.7-1ubuntu2.9_amd64.deb ...\n",
      "Unpacking libcupsimage2:amd64 (2.2.7-1ubuntu2.9) ...\n",
      "Selecting previously unselected package libijs-0.35:amd64.\n",
      "Preparing to unpack .../08-libijs-0.35_0.35-13_amd64.deb ...\n",
      "Unpacking libijs-0.35:amd64 (0.35-13) ...\n",
      "Selecting previously unselected package libjbig2dec0:amd64.\n",
      "Preparing to unpack .../09-libjbig2dec0_0.13-6_amd64.deb ...\n",
      "Unpacking libjbig2dec0:amd64 (0.13-6) ...\n",
      "Selecting previously unselected package libgs9-common.\n",
      "Preparing to unpack .../10-libgs9-common_9.26~dfsg+0-0ubuntu0.18.04.17_all.deb ...\n",
      "Unpacking libgs9-common (9.26~dfsg+0-0ubuntu0.18.04.17) ...\n",
      "Selecting previously unselected package libgs9:amd64.\n",
      "Preparing to unpack .../11-libgs9_9.26~dfsg+0-0ubuntu0.18.04.17_amd64.deb ...\n",
      "Unpacking libgs9:amd64 (9.26~dfsg+0-0ubuntu0.18.04.17) ...\n",
      "Selecting previously unselected package ghostscript.\n",
      "Preparing to unpack .../12-ghostscript_9.26~dfsg+0-0ubuntu0.18.04.17_amd64.deb ...\n",
      "Unpacking ghostscript (9.26~dfsg+0-0ubuntu0.18.04.17) ...\n",
      "Selecting previously unselected package gsfonts.\n",
      "Preparing to unpack .../13-gsfonts_1%3a8.11+urwcyr1.0.7~pre44-4.4_all.deb ...\n",
      "Unpacking gsfonts (1:8.11+urwcyr1.0.7~pre44-4.4) ...\n",
      "Selecting previously unselected package imagemagick-6.q16.\n",
      "Preparing to unpack .../14-imagemagick-6.q16_8%3a6.9.7.4+dfsg-16ubuntu6.14_amd64.deb ...\n",
      "Unpacking imagemagick-6.q16 (8:6.9.7.4+dfsg-16ubuntu6.14) ...\n",
      "Selecting previously unselected package imagemagick.\n",
      "Preparing to unpack .../15-imagemagick_8%3a6.9.7.4+dfsg-16ubuntu6.14_amd64.deb ...\n",
      "Unpacking imagemagick (8:6.9.7.4+dfsg-16ubuntu6.14) ...\n",
      "Selecting previously unselected package libcupsfilters1:amd64.\n",
      "Preparing to unpack .../16-libcupsfilters1_1.20.2-0ubuntu3.1_amd64.deb ...\n",
      "Unpacking libcupsfilters1:amd64 (1.20.2-0ubuntu3.1) ...\n",
      "Selecting previously unselected package libdjvulibre-text.\n",
      "Preparing to unpack .../17-libdjvulibre-text_3.5.27.1-8ubuntu0.4_all.deb ...\n",
      "Unpacking libdjvulibre-text (3.5.27.1-8ubuntu0.4) ...\n",
      "Selecting previously unselected package libdjvulibre21:amd64.\n",
      "Preparing to unpack .../18-libdjvulibre21_3.5.27.1-8ubuntu0.4_amd64.deb ...\n",
      "Unpacking libdjvulibre21:amd64 (3.5.27.1-8ubuntu0.4) ...\n",
      "Selecting previously unselected package libwmf0.2-7:amd64.\n",
      "Preparing to unpack .../19-libwmf0.2-7_0.2.8.4-12_amd64.deb ...\n",
      "Unpacking libwmf0.2-7:amd64 (0.2.8.4-12) ...\n",
      "Selecting previously unselected package libmagickcore-6.q16-3-extra:amd64.\n",
      "Preparing to unpack .../20-libmagickcore-6.q16-3-extra_8%3a6.9.7.4+dfsg-16ubuntu6.14_amd64.deb ...\n",
      "Unpacking libmagickcore-6.q16-3-extra:amd64 (8:6.9.7.4+dfsg-16ubuntu6.14) ...\n",
      "Selecting previously unselected package libnetpbm10.\n",
      "Preparing to unpack .../21-libnetpbm10_2%3a10.0-15.3build1_amd64.deb ...\n",
      "Unpacking libnetpbm10 (2:10.0-15.3build1) ...\n",
      "Selecting previously unselected package netpbm.\n",
      "Preparing to unpack .../22-netpbm_2%3a10.0-15.3build1_amd64.deb ...\n",
      "Unpacking netpbm (2:10.0-15.3build1) ...\n",
      "Setting up libgs9-common (9.26~dfsg+0-0ubuntu0.18.04.17) ...\n",
      "Setting up imagemagick-6-common (8:6.9.7.4+dfsg-16ubuntu6.14) ...\n",
      "Setting up fonts-droid-fallback (1:6.0.1r16-1.1) ...\n",
      "Setting up gsfonts (1:8.11+urwcyr1.0.7~pre44-4.4) ...\n",
      "Setting up poppler-data (0.4.8-2) ...\n",
      "Setting up libdjvulibre-text (3.5.27.1-8ubuntu0.4) ...\n",
      "Setting up libnetpbm10 (2:10.0-15.3build1) ...\n",
      "Setting up fonts-noto-mono (20171026-2) ...\n",
      "Setting up libcupsfilters1:amd64 (1.20.2-0ubuntu3.1) ...\n",
      "Setting up libcupsimage2:amd64 (2.2.7-1ubuntu2.9) ...\n",
      "Setting up liblqr-1-0:amd64 (0.4.2-2.1) ...\n",
      "Setting up libjbig2dec0:amd64 (0.13-6) ...\n",
      "Setting up libijs-0.35:amd64 (0.35-13) ...\n",
      "Setting up netpbm (2:10.0-15.3build1) ...\n",
      "Setting up libgs9:amd64 (9.26~dfsg+0-0ubuntu0.18.04.17) ...\n",
      "Setting up libwmf0.2-7:amd64 (0.2.8.4-12) ...\n",
      "Setting up libmagickcore-6.q16-3:amd64 (8:6.9.7.4+dfsg-16ubuntu6.14) ...\n",
      "Setting up libdjvulibre21:amd64 (3.5.27.1-8ubuntu0.4) ...\n",
      "Setting up ghostscript (9.26~dfsg+0-0ubuntu0.18.04.17) ...\n",
      "Setting up libmagickwand-6.q16-3:amd64 (8:6.9.7.4+dfsg-16ubuntu6.14) ...\n",
      "Setting up imagemagick-6.q16 (8:6.9.7.4+dfsg-16ubuntu6.14) ...\n",
      "update-alternatives: using /usr/bin/compare-im6.q16 to provide /usr/bin/compare (compare) in auto mode\n",
      "update-alternatives: using /usr/bin/compare-im6.q16 to provide /usr/bin/compare-im6 (compare-im6) in auto mode\n",
      "update-alternatives: using /usr/bin/animate-im6.q16 to provide /usr/bin/animate (animate) in auto mode\n",
      "update-alternatives: using /usr/bin/animate-im6.q16 to provide /usr/bin/animate-im6 (animate-im6) in auto mode\n",
      "update-alternatives: using /usr/bin/convert-im6.q16 to provide /usr/bin/convert (convert) in auto mode\n",
      "update-alternatives: using /usr/bin/convert-im6.q16 to provide /usr/bin/convert-im6 (convert-im6) in auto mode\n",
      "update-alternatives: using /usr/bin/composite-im6.q16 to provide /usr/bin/composite (composite) in auto mode\n",
      "update-alternatives: using /usr/bin/composite-im6.q16 to provide /usr/bin/composite-im6 (composite-im6) in auto mode\n",
      "update-alternatives: using /usr/bin/conjure-im6.q16 to provide /usr/bin/conjure (conjure) in auto mode\n",
      "update-alternatives: using /usr/bin/conjure-im6.q16 to provide /usr/bin/conjure-im6 (conjure-im6) in auto mode\n",
      "update-alternatives: using /usr/bin/import-im6.q16 to provide /usr/bin/import (import) in auto mode\n",
      "update-alternatives: using /usr/bin/import-im6.q16 to provide /usr/bin/import-im6 (import-im6) in auto mode\n",
      "update-alternatives: using /usr/bin/identify-im6.q16 to provide /usr/bin/identify (identify) in auto mode\n",
      "update-alternatives: using /usr/bin/identify-im6.q16 to provide /usr/bin/identify-im6 (identify-im6) in auto mode\n",
      "update-alternatives: using /usr/bin/stream-im6.q16 to provide /usr/bin/stream (stream) in auto mode\n",
      "update-alternatives: using /usr/bin/stream-im6.q16 to provide /usr/bin/stream-im6 (stream-im6) in auto mode\n",
      "update-alternatives: using /usr/bin/display-im6.q16 to provide /usr/bin/display (display) in auto mode\n",
      "update-alternatives: using /usr/bin/display-im6.q16 to provide /usr/bin/display-im6 (display-im6) in auto mode\n",
      "update-alternatives: using /usr/bin/montage-im6.q16 to provide /usr/bin/montage (montage) in auto mode\n",
      "update-alternatives: using /usr/bin/montage-im6.q16 to provide /usr/bin/montage-im6 (montage-im6) in auto mode\n",
      "update-alternatives: using /usr/bin/mogrify-im6.q16 to provide /usr/bin/mogrify (mogrify) in auto mode\n",
      "update-alternatives: using /usr/bin/mogrify-im6.q16 to provide /usr/bin/mogrify-im6 (mogrify-im6) in auto mode\n",
      "Setting up libmagickcore-6.q16-3-extra:amd64 (8:6.9.7.4+dfsg-16ubuntu6.14) ...\n",
      "Setting up imagemagick (8:6.9.7.4+dfsg-16ubuntu6.14) ...\n",
      "Processing triggers for hicolor-icon-theme (0.17-2) ...\n",
      "Processing triggers for fontconfig (2.12.6-0ubuntu2) ...\n",
      "Processing triggers for mime-support (3.60ubuntu1) ...\n",
      "Processing triggers for libc-bin (2.27-3ubuntu1.6) ...\n",
      "Processing triggers for man-db (2.8.3-2ubuntu0.1) ...\n",
      "Looking in indexes: https://pypi.org/simple, https://us-python.pkg.dev/colab-wheels/public/simple/\n",
      "Collecting myqlm\n",
      "  Downloading myqlm-1.7.2-py3-none-any.whl (2.0 kB)\n",
      "Collecting qat-variational>=1.4.0\n",
      "  Downloading qat_variational-1.4.0-cp38-cp38-manylinux1_x86_64.whl (1.6 MB)\n",
      "\u001b[2K     \u001b[90m━━━━━━━━━━━━━━━━━━━━━━━━━━━━━━━━━━━━━━━━\u001b[0m \u001b[32m1.6/1.6 MB\u001b[0m \u001b[31m27.7 MB/s\u001b[0m eta \u001b[36m0:00:00\u001b[0m\n",
      "\u001b[?25hCollecting myqlm-fermion>=1.0.0\n",
      "  Downloading myqlm_fermion-1.0.0-py3-none-any.whl (90 kB)\n",
      "\u001b[2K     \u001b[90m━━━━━━━━━━━━━━━━━━━━━━━━━━━━━━━━━━━━━━━━\u001b[0m \u001b[32m90.0/90.0 KB\u001b[0m \u001b[31m12.0 MB/s\u001b[0m eta \u001b[36m0:00:00\u001b[0m\n",
      "\u001b[?25hCollecting myqlm-simulators>=1.7.1\n",
      "  Downloading myqlm_simulators-1.7.1-py3-none-any.whl (19 kB)\n",
      "Collecting myqlm-clinalg>=0.0.4\n",
      "  Downloading myqlm_clinalg-0.0.4-cp38-cp38-manylinux1_x86_64.whl (498 kB)\n",
      "\u001b[2K     \u001b[90m━━━━━━━━━━━━━━━━━━━━━━━━━━━━━━━━━━━━━━\u001b[0m \u001b[32m498.3/498.3 KB\u001b[0m \u001b[31m41.2 MB/s\u001b[0m eta \u001b[36m0:00:00\u001b[0m\n",
      "\u001b[?25hCollecting qat-core>=1.6.1\n",
      "  Downloading qat_core-1.6.1-cp38-cp38-manylinux1_x86_64.whl (3.9 MB)\n",
      "\u001b[2K     \u001b[90m━━━━━━━━━━━━━━━━━━━━━━━━━━━━━━━━━━━━━━━━\u001b[0m \u001b[32m3.9/3.9 MB\u001b[0m \u001b[31m91.3 MB/s\u001b[0m eta \u001b[36m0:00:00\u001b[0m\n",
      "\u001b[?25hCollecting myqlm-contrib>=1.7.1\n",
      "  Downloading myqlm_contrib-1.7.1-py3-none-any.whl (13 kB)\n",
      "Collecting qat-lang>=2.2.1\n",
      "  Downloading qat_lang-2.2.1-cp38-cp38-manylinux1_x86_64.whl (2.5 MB)\n",
      "\u001b[2K     \u001b[90m━━━━━━━━━━━━━━━━━━━━━━━━━━━━━━━━━━━━━━━━\u001b[0m \u001b[32m2.5/2.5 MB\u001b[0m \u001b[31m85.1 MB/s\u001b[0m eta \u001b[36m0:00:00\u001b[0m\n",
      "\u001b[?25hCollecting qat-comm>=1.4.2\n",
      "  Downloading qat_comm-1.4.2-cp38-cp38-manylinux1_x86_64.whl (2.9 MB)\n",
      "\u001b[2K     \u001b[90m━━━━━━━━━━━━━━━━━━━━━━━━━━━━━━━━━━━━━━━━\u001b[0m \u001b[32m2.9/2.9 MB\u001b[0m \u001b[31m75.6 MB/s\u001b[0m eta \u001b[36m0:00:00\u001b[0m\n",
      "\u001b[?25hCollecting qat-devices>=0.2.0\n",
      "  Downloading qat_devices-0.2.0-cp38-cp38-manylinux1_x86_64.whl (252 kB)\n",
      "\u001b[2K     \u001b[90m━━━━━━━━━━━━━━━━━━━━━━━━━━━━━━━━━━━━━━\u001b[0m \u001b[32m252.7/252.7 KB\u001b[0m \u001b[31m25.9 MB/s\u001b[0m eta \u001b[36m0:00:00\u001b[0m\n",
      "\u001b[?25hRequirement already satisfied: networkx in /usr/local/lib/python3.8/dist-packages (from myqlm-contrib>=1.7.1->myqlm) (2.8.8)\n",
      "Requirement already satisfied: pytest in /usr/local/lib/python3.8/dist-packages (from myqlm-fermion>=1.0.0->myqlm) (3.6.4)\n",
      "Requirement already satisfied: scipy in /usr/local/lib/python3.8/dist-packages (from myqlm-fermion>=1.0.0->myqlm) (1.7.3)\n",
      "Collecting anytree\n",
      "  Downloading anytree-2.8.0-py2.py3-none-any.whl (41 kB)\n",
      "\u001b[2K     \u001b[90m━━━━━━━━━━━━━━━━━━━━━━━━━━━━━━━━━━━━━━━━\u001b[0m \u001b[32m41.7/41.7 KB\u001b[0m \u001b[31m5.5 MB/s\u001b[0m eta \u001b[36m0:00:00\u001b[0m\n",
      "\u001b[?25hCollecting bitstring\n",
      "  Downloading bitstring-4.0.1-py3-none-any.whl (45 kB)\n",
      "\u001b[2K     \u001b[90m━━━━━━━━━━━━━━━━━━━━━━━━━━━━━━━━━━━━━━━━\u001b[0m \u001b[32m45.6/45.6 KB\u001b[0m \u001b[31m6.2 MB/s\u001b[0m eta \u001b[36m0:00:00\u001b[0m\n",
      "\u001b[?25hRequirement already satisfied: numpy in /usr/local/lib/python3.8/dist-packages (from myqlm-fermion>=1.0.0->myqlm) (1.21.6)\n",
      "Requirement already satisfied: tqdm in /usr/local/lib/python3.8/dist-packages (from myqlm-fermion>=1.0.0->myqlm) (4.64.1)\n",
      "Collecting thrift==0.16.0\n",
      "  Downloading thrift-0.16.0.tar.gz (59 kB)\n",
      "\u001b[2K     \u001b[90m━━━━━━━━━━━━━━━━━━━━━━━━━━━━━━━━━━━━━━━━\u001b[0m \u001b[32m59.6/59.6 KB\u001b[0m \u001b[31m7.7 MB/s\u001b[0m eta \u001b[36m0:00:00\u001b[0m\n",
      "\u001b[?25h  Preparing metadata (setup.py) ... \u001b[?25l\u001b[?25hdone\n",
      "Requirement already satisfied: six>=1.7.2 in /usr/local/lib/python3.8/dist-packages (from thrift==0.16.0->qat-comm>=1.4.2->myqlm) (1.15.0)\n",
      "Requirement already satisfied: Pillow in /usr/local/lib/python3.8/dist-packages (from qat-core>=1.6.1->myqlm) (7.1.2)\n",
      "Requirement already satisfied: matplotlib in /usr/local/lib/python3.8/dist-packages (from qat-core>=1.6.1->myqlm) (3.2.2)\n",
      "Requirement already satisfied: wand in /usr/local/lib/python3.8/dist-packages (from qat-core>=1.6.1->myqlm) (0.6.10)\n",
      "Requirement already satisfied: dill in /usr/local/lib/python3.8/dist-packages (from qat-core>=1.6.1->myqlm) (0.3.6)\n",
      "Collecting svgwrite\n",
      "  Downloading svgwrite-1.4.3-py3-none-any.whl (67 kB)\n",
      "\u001b[2K     \u001b[90m━━━━━━━━━━━━━━━━━━━━━━━━━━━━━━━━━━━━━━━━\u001b[0m \u001b[32m67.1/67.1 KB\u001b[0m \u001b[31m8.2 MB/s\u001b[0m eta \u001b[36m0:00:00\u001b[0m\n",
      "\u001b[?25hCollecting ply==3.11\n",
      "  Downloading ply-3.11-py2.py3-none-any.whl (49 kB)\n",
      "\u001b[2K     \u001b[90m━━━━━━━━━━━━━━━━━━━━━━━━━━━━━━━━━━━━━━━━\u001b[0m \u001b[32m49.6/49.6 KB\u001b[0m \u001b[31m6.1 MB/s\u001b[0m eta \u001b[36m0:00:00\u001b[0m\n",
      "\u001b[?25hCollecting pyDOE\n",
      "  Downloading pyDOE-0.3.8.zip (22 kB)\n",
      "  Preparing metadata (setup.py) ... \u001b[?25l\u001b[?25hdone\n",
      "Requirement already satisfied: cycler>=0.10 in /usr/local/lib/python3.8/dist-packages (from matplotlib->qat-core>=1.6.1->myqlm) (0.11.0)\n",
      "Requirement already satisfied: python-dateutil>=2.1 in /usr/local/lib/python3.8/dist-packages (from matplotlib->qat-core>=1.6.1->myqlm) (2.8.2)\n",
      "Requirement already satisfied: pyparsing!=2.0.4,!=2.1.2,!=2.1.6,>=2.0.1 in /usr/local/lib/python3.8/dist-packages (from matplotlib->qat-core>=1.6.1->myqlm) (3.0.9)\n",
      "Requirement already satisfied: kiwisolver>=1.0.1 in /usr/local/lib/python3.8/dist-packages (from matplotlib->qat-core>=1.6.1->myqlm) (1.4.4)\n",
      "Requirement already satisfied: setuptools in /usr/local/lib/python3.8/dist-packages (from pytest->myqlm-fermion>=1.0.0->myqlm) (57.4.0)\n",
      "Requirement already satisfied: more-itertools>=4.0.0 in /usr/local/lib/python3.8/dist-packages (from pytest->myqlm-fermion>=1.0.0->myqlm) (9.0.0)\n",
      "Requirement already satisfied: pluggy<0.8,>=0.5 in /usr/local/lib/python3.8/dist-packages (from pytest->myqlm-fermion>=1.0.0->myqlm) (0.7.1)\n",
      "Requirement already satisfied: attrs>=17.4.0 in /usr/local/lib/python3.8/dist-packages (from pytest->myqlm-fermion>=1.0.0->myqlm) (22.2.0)\n",
      "Requirement already satisfied: atomicwrites>=1.0 in /usr/local/lib/python3.8/dist-packages (from pytest->myqlm-fermion>=1.0.0->myqlm) (1.4.1)\n",
      "Requirement already satisfied: py>=1.5.0 in /usr/local/lib/python3.8/dist-packages (from pytest->myqlm-fermion>=1.0.0->myqlm) (1.11.0)\n",
      "Building wheels for collected packages: thrift, pyDOE\n",
      "  Building wheel for thrift (setup.py) ... \u001b[?25l\u001b[?25hdone\n",
      "  Created wheel for thrift: filename=thrift-0.16.0-cp38-cp38-linux_x86_64.whl size=349379 sha256=883020002963d71340c1f906f25bd83327f28e20fa5606e15b9deef027e4eed4\n",
      "  Stored in directory: /root/.cache/pip/wheels/c1/03/53/7220f8aeecbf2c66ef655a9cff1929299e38119502a316ae30\n",
      "  Building wheel for pyDOE (setup.py) ... \u001b[?25l\u001b[?25hdone\n",
      "  Created wheel for pyDOE: filename=pyDOE-0.3.8-py3-none-any.whl size=18184 sha256=2424889d58e42a3718ee056c33aeeef162f65b8cbaed415c6de8dc537b33cd2d\n",
      "  Stored in directory: /root/.cache/pip/wheels/00/3e/fa/5705bf59c2053c17c4799c3ab66a2e356c32f40a3044fe2134\n",
      "Successfully built thrift pyDOE\n",
      "Installing collected packages: ply, thrift, svgwrite, bitstring, anytree, qat-comm, pyDOE, qat-core, qat-lang, qat-devices, myqlm-contrib, qat-variational, myqlm-clinalg, myqlm-simulators, myqlm-fermion, myqlm\n",
      "Successfully installed anytree-2.8.0 bitstring-4.0.1 myqlm-1.7.2 myqlm-clinalg-0.0.4 myqlm-contrib-1.7.1 myqlm-fermion-1.0.0 myqlm-simulators-1.7.1 ply-3.11 pyDOE-0.3.8 qat-comm-1.4.2 qat-core-1.6.1 qat-devices-0.2.0 qat-lang-2.2.1 qat-variational-1.4.0 svgwrite-1.4.3 thrift-0.16.0\n",
      "/usr/bin/python3: Error while finding module specification for 'qat.magics.install' (ModuleNotFoundError: No module named 'qat.magics')\n"
     ]
    }
   ],
   "source": [
    "!pip install wand\n",
    "\n",
    "!apt install imagemagick\n",
    "\n",
    "!pip install myqlm\n",
    "\n",
    "!python -m qat.magics.install"
   ]
  },
  {
   "cell_type": "markdown",
   "id": "bad09515",
   "metadata": {
    "id": "bad09515"
   },
   "source": [
    "## Part 1 implementing QAOA\n"
   ]
  },
  {
   "cell_type": "markdown",
   "id": "536219fc",
   "metadata": {
    "id": "536219fc"
   },
   "source": [
    "### Question1 :\n",
    "Write down in the cell below the Hamiltonian whose ground state is the solution to MaxCUT on an input graph $G=(V,E)$:"
   ]
  },
  {
   "cell_type": "markdown",
   "id": "fd36b562",
   "metadata": {
    "id": "fd36b562"
   },
   "source": [
    "\n",
    "We are looking for a Hamiltonian such that the ground state minimizes the following cost function $C$: for every edge $(i,j)\\in E$, and if the system is in the state $x$\n",
    "- if $i,j\\in V$ belong to the same subset, then $C_{(i,j)}(x) = 1$\n",
    "- if $i,j\\in V$ belong to different subsets, then $C_{(i,j)}(x)=-1$\n",
    "\n",
    "(indeed we see that the cost function will be minimised if the number of edges with vertices in different subset is maximal, i.e. for the solution of MaxCUT)\n",
    "\n",
    "The total cost for configuration $x$ will then be: $$C(x) = \\sum_{(i,j)\\in V}C_{(i,j)}(x)$$\n",
    "We can notice that:\n",
    "$$\\langle x|\\sigma_z^i\\otimes\\sigma_z^j|x\\rangle = (1-2x_i)(1-2x_j)=\n",
    "\\left\\{\n",
    "\\begin{array}[c&c]\\\\\n",
    "1 & \\text{if }\\:x_i,x_j\\in S\\:\\text{ or }\\: x_i,x_j\\in V\\backslash S \\\\ -1 & \\text{if }\\:(x_i\\in S \\text{ and }x_j\\in V\\backslash S)\\:\\text{ or }\\: (x_i\\in V\\backslash S\\text{ and }x_j\\in S)\n",
    "\\end{array}\n",
    "\\right.$$\n",
    "Then :\n",
    "$$\\langle x|\\sigma_z^i\\otimes\\sigma_z^j|x\\rangle = C_{(i,j)}(x)$$\n",
    "So we take for the Hamiltonian:\n",
    "$$H=\\sum_{(i,j)\\in E}\\sigma_z^i\\otimes\\sigma_z^j$$"
   ]
  },
  {
   "cell_type": "markdown",
   "id": "b045f8b7",
   "metadata": {
    "id": "b045f8b7"
   },
   "source": [
    "### Question 2:\n",
    "Complete the implementation below of a simple, brute-force enumeration of all states computing the optimal solution to MaxCUT for the graph represented by 'edges'"
   ]
  },
  {
   "cell_type": "code",
   "execution_count": 18,
   "id": "7bc976fa",
   "metadata": {
    "colab": {
     "base_uri": "https://localhost:8080/"
    },
    "id": "7bc976fa",
    "outputId": "c4580b33-66e7-4271-c700-e2096bb13085"
   },
   "outputs": [
    {
     "name": "stdout",
     "output_type": "stream",
     "text": [
      "-5\n",
      "[1, 0, 0, 1, 1]\n"
     ]
    }
   ],
   "source": [
    "import numpy as np\n",
    "\n",
    "graph1 = [(0,1),(0,2),(1,3),(2,3)]\n",
    "graph2 = [(0,1),(1,2),(0,3),(1,4),(2,5),(3,6),(4,7),(5,8),(3,4),(4,5),(6,7),(7,8)]\n",
    "graph3 = [(0,1),(1,2),(0,3),(1,4),(2,5),(3,6),(4,7),(3,4),(4,5),(6,7)]\n",
    "graph4 = [(0,1),(1,2),(2,3),(4,5),(5,6),(6,7),(0,4),(1,5),(2,6),(3,7)]\n",
    "graph5 = [(0,1),(0,2),(1,3),(2,4),(3,5),(4,5),(1,4)]\n",
    "graph6 = [(0,1),(0,2),(1,3),(2,4),(1,4)]\n",
    "\n",
    "\n",
    "# choice of graph\n",
    "edges = graph6\n",
    "\n",
    "nqubits = max([max(list(v)) for v in edges])+1\n",
    "\n",
    "#nqubits = 5\n",
    "graph7 = [(i,(i+1)%nqubits) for i in range(nqubits)]+[(1,4)]\n",
    "\n",
    "\n",
    "# COMPUTATION OF OPT.\n",
    "best_value = len(edges)\n",
    "best_b = 0\n",
    "for x in range(2**nqubits):\n",
    "    b = np.binary_repr(x, width=nqubits)\n",
    "    b = [int(b[i]) for i in range(nqubits)]\n",
    "    # TODO: Complete the computation below:\n",
    "    val = 0 # we initialize the value of cost function at 0\n",
    "    for edge in edges:\n",
    "      val += (1-2*b[edge[0]])*(1-2*b[edge[1]]) # we use the value defines previously : C_(i,j)(x) = (1-2x_i)(1-2x_j)\n",
    "    # END TODO\n",
    "    if val <= best_value:\n",
    "        best_value = val\n",
    "        best_b = b\n",
    "print(best_value)\n",
    "print(best_b)"
   ]
  },
  {
   "cell_type": "markdown",
   "id": "4bed0ead",
   "metadata": {
    "id": "4bed0ead"
   },
   "source": [
    "#### visualization of the graph"
   ]
  },
  {
   "cell_type": "code",
   "execution_count": 3,
   "id": "11a7d2a7",
   "metadata": {
    "colab": {
     "base_uri": "https://localhost:8080/",
     "height": 248
    },
    "id": "11a7d2a7",
    "outputId": "47355a16-d9c3-48f5-ac96-4bf26af5e99f"
   },
   "outputs": [
    {
     "data": {
      "image/png": "[encoded data removed]",
      "text/plain": [
       "<Figure size 432x288 with 1 Axes>"
      ]
     },
     "metadata": {},
     "output_type": "display_data"
    }
   ],
   "source": [
    "import networkx as nx\n",
    "G = nx.Graph()\n",
    "for i,j in edges:\n",
    "    G.add_edge(i,j)\n",
    "nx.draw_networkx(G)"
   ]
  },
  {
   "cell_type": "code",
   "execution_count": 4,
   "id": "1bcf8886",
   "metadata": {
    "id": "1bcf8886"
   },
   "outputs": [],
   "source": [
    "from qat.lang.AQASM import Program, H, CNOT, RX, QRoutine, RZ, X, Z"
   ]
  },
  {
   "cell_type": "code",
   "execution_count": 5,
   "id": "f125405c",
   "metadata": {
    "id": "f125405c"
   },
   "outputs": [],
   "source": [
    "def U_ZZ(theta):\n",
    "    \n",
    "    zz_r = QRoutine()\n",
    "    zz_r.apply(CNOT, 0, 1)\n",
    "    zz_r.apply(RZ(theta), 1) # difference of convention between implemented version and what we need.\n",
    "    zz_r.apply(CNOT, 0, 1)\n",
    "\n",
    "    return zz_r"
   ]
  },
  {
   "cell_type": "markdown",
   "id": "b87e91ed",
   "metadata": {
    "id": "b87e91ed"
   },
   "source": [
    "### Question 3"
   ]
  },
  {
   "cell_type": "code",
   "execution_count": 7,
   "id": "27954bb3",
   "metadata": {
    "id": "27954bb3"
   },
   "outputs": [],
   "source": [
    "def one_qaoa_layer(n_qubits, edges, theta, beta):\n",
    "\n",
    "    layer = QRoutine()\n",
    "    #TODO: implement one qaoa layer\n",
    "\n",
    "    # RX layer\n",
    "    for i in range(n_qubits):\n",
    "      layer.apply(RX(theta), i) # we apply an RX gate on each qubit\n",
    "    \n",
    "    # Hc layer\n",
    "    for edge in edges:\n",
    "      layer.apply(U_ZZ(beta),[edge[0], edge[1]]) # for each edge, we apply a Uzz gate on qubits with indices the vertices of the edge\n",
    "    # NB: there might be a more clever way to implement this, using only one for loop but I haven't found it as the gates don't commute\n",
    "    \n",
    "    return layer"
   ]
  },
  {
   "cell_type": "markdown",
   "id": "bd0c36a5",
   "metadata": {
    "id": "bd0c36a5"
   },
   "source": [
    "### Question 4"
   ]
  },
  {
   "cell_type": "code",
   "execution_count": 16,
   "id": "655a9aaa",
   "metadata": {
    "id": "655a9aaa"
   },
   "outputs": [],
   "source": [
    "from qat.qpus import get_default_qpu\n",
    "\n",
    "def evaluate_parameters(n_qubits, edges, parameters, n_layers):\n",
    "    \n",
    "    prog = Program()\n",
    "    qubits = prog.qalloc(n_qubits)\n",
    "    \n",
    "    # TODO: implement initialization+parameterized circuit\n",
    "    # Initialization: apply hadamard on avery qubit\n",
    "    for i in range(n_qubits):\n",
    "      prog.apply(H, qubits[i]) \n",
    "\n",
    "    # Parametrized circuit\n",
    "    for k in range(n_layers):\n",
    "      prog.apply(one_qaoa_layer(n_qubits, edges, parameters[2*k], parameters[2*k+1]), qubits) # The parameters list is s.t.: [theta_0, beta_0, theta_1, beta_1, ..., theta_n-1, beta_n-1]\n",
    "        \n",
    "    # END TODO\n",
    "    circ = prog.to_circ()\n",
    "    \n",
    "    job = circ.to_job()\n",
    "    qpu = get_default_qpu()\n",
    "    \n",
    "    result = qpu.submit(job)\n",
    "    \n",
    "    # BEGIN TODO\n",
    "    obs = 0\n",
    "    for sample in result:\n",
    "        # this loop is over all 2**nqubits states.\n",
    "        # sample.state.bitstring contains the qubit values (nqubits 0 or 1)\n",
    "        h=0\n",
    "        for edge in edges:\n",
    "          if sample.state.bitstring[edge[0]]==sample.state.bitstring[edge[1]]:\n",
    "            h+=1\n",
    "          else:\n",
    "            h+=-1\n",
    "        obs+=h*sample.probability # obs is thus the mean value of the hamiltonian at the end of the circuit\n",
    "\n",
    "    # END TODO\n",
    "    return obs\n",
    "    \n",
    "        "
   ]
  },
  {
   "cell_type": "code",
   "execution_count": 13,
   "id": "88963901",
   "metadata": {
    "colab": {
     "base_uri": "https://localhost:8080/"
    },
    "id": "88963901",
    "outputId": "441c9a93-e9da-4eea-a52a-0b1f260373e5"
   },
   "outputs": [
    {
     "data": {
      "text/plain": [
       "array([0.36575342, 0.98627434, 0.60536478])"
      ]
     },
     "execution_count": 13,
     "metadata": {},
     "output_type": "execute_result"
    }
   ],
   "source": [
    "import numpy as np\n",
    "np.random.random(3)"
   ]
  },
  {
   "cell_type": "code",
   "execution_count": 14,
   "id": "42557843",
   "metadata": {
    "id": "42557843"
   },
   "outputs": [],
   "source": [
    "from scipy.optimize import minimize\n"
   ]
  },
  {
   "cell_type": "markdown",
   "id": "0846a6dd",
   "metadata": {
    "id": "0846a6dd"
   },
   "source": [
    "### Random initialisation"
   ]
  },
  {
   "cell_type": "markdown",
   "id": "f679d3e0",
   "metadata": {
    "id": "f679d3e0"
   },
   "source": [
    "### Question 5: \n",
    "réponse à la question: 5 layers"
   ]
  },
  {
   "cell_type": "code",
   "execution_count": 25,
   "id": "36f6e279",
   "metadata": {
    "colab": {
     "base_uri": "https://localhost:8080/",
     "height": 322
    },
    "id": "36f6e279",
    "outputId": "cf66a170-3edb-4c5d-f2b2-86b56cb9eb95"
   },
   "outputs": [
    {
     "name": "stdout",
     "output_type": "stream",
     "text": [
      "-1.2399621374103265 -3.28121037508 -3.4173007816021888 -3.6340238293566114 -3.8947813687137334 -3.926313670669983 -3.970151202612896 -3.9782384449993615 -3.9782688609845156 -3.978269014957226 -3.9782690296563343 -1.4407265395583302 -1.451847541646837 -2.5484343469547475 -2.954726363100906 -3.0515187599222227 -3.1987612925137583 -3.4651251477075156 -3.623872892343376 -3.6643232278571065 -3.736521627491015 -3.8608460617899 -4.0157298155589105 -4.041709744432793 -4.054348965815402 -4.058564565862713 -4.06144570866983 -4.066512198797057 -4.074079065374659 -4.076808073087644 -4.076878478226559 -4.076897083306973 -4.076917631468875 -4.076918648666219 -4.0769190196758 -4.076919034861323 -4.07691903564084 -0.2941684810135995 -2.077241598301272 -2.6646465912477555 -2.859368423049084 -3.0981144116927952 -3.241407820412593 -3.3021373094307247 -3.396057846543986 -3.841540698009072 -3.9258523383745376 -4.043267061576488 -4.225034029330335 -4.397301495394395 -4.439044546174415 -4.44834414677629 -4.461912720303992 -4.4660454488830315 -4.466221057345836 -4.466457876809536 -4.466516663430309 -4.466530456678806 -4.466534846707696 -4.466535042184021 -4.466535057707876 -4.466535059097672 -4.466535059159435 "
     ]
    },
    {
     "data": {
      "text/plain": [
       "<matplotlib.legend.Legend at 0x7f9264ea6d60>"
      ]
     },
     "execution_count": 25,
     "metadata": {},
     "output_type": "execute_result"
    },
    {
     "data": {
      "image/png": "[encoded data removed]",
      "text/plain": [
       "<Figure size 432x288 with 1 Axes>"
      ]
     },
     "metadata": {
      "needs_background": "light"
     },
     "output_type": "display_data"
    }
   ],
   "source": [
    "import matplotlib.pylab as plt\n",
    "\n",
    "\n",
    "for nlayers in range(3,6,1):\n",
    "    num_params = 2*nlayers\n",
    "\n",
    "    back_trace = []\n",
    "    def print_avg(xk):\n",
    "        eva = evaluate_parameters(nqubits, edges, xk,nlayers)\n",
    "        back_trace.append(eva)\n",
    "        print(eva, end=' ')\n",
    "\n",
    "    opt_res = minimize(lambda x : evaluate_parameters(nqubits, edges, x, nlayers), \n",
    "                       np.random.random(num_params),\n",
    "                       callback=print_avg,)\n",
    "    plt.plot(back_trace,label=str(nlayers))\n",
    "# there exists a classical polynomial algorithm returning solutions within a factor of 0.878 of the optimal\n",
    "# we must at least beat that. https://fr.wikipedia.org/wiki/Coupe_maximum\n",
    "plt.axhline(0.878*best_value, color='b', linestyle='--', label=\"classical apx ratio\")\n",
    "plt.axhline(best_value,color='r', linestyle='--',label='optimal value')\n",
    "plt.legend()"
   ]
  },
  {
   "cell_type": "markdown",
   "id": "e9dffce1",
   "metadata": {
    "id": "e9dffce1"
   },
   "source": [
    "### Question 6: smart initialization"
   ]
  },
  {
   "cell_type": "code",
   "execution_count": 32,
   "id": "d1eb83de",
   "metadata": {
    "colab": {
     "base_uri": "https://localhost:8080/",
     "height": 322
    },
    "id": "d1eb83de",
    "outputId": "3e0ddac3-2297-44c7-c00b-fd250b656226"
   },
   "outputs": [
    {
     "name": "stdout",
     "output_type": "stream",
     "text": [
      "-0.5865303785794733 -0.7799188043902412 -2.0428021288560347 -2.1949539113514014 -2.4079779555359098 -2.435434442510773 -2.447517045103999 -2.4503615103968026 -2.587572074939725 -2.5892000230634977 -2.7346274295765203 -2.804730943698553 -2.9371940730502564 -3.1774781699869177 -3.5046528183284016 -3.5756696373765644 -3.5925488781269848 -3.5956945123801254 -3.5957380391085993 -3.5957440534357663 -3.5957440580195863 -3.595744058132095 -0.8481615373208959 -2.6624167651465576 -2.9512000846945 -3.428425394136267 -3.928932044270194 -3.963124095537636 -3.9704579800322253 -3.9821600559794126 -3.992179556591188 -3.9952143955898234 -4.000759388320073 -4.005014417887693 -4.00954614218852 -4.016302946539075 -4.051801037593082 -4.06755617675935 -4.080474945104796 -4.087253632639156 -4.097944419863505 -4.1062069374426535 -4.106859200007256 -4.107228187928724 -4.10723973959848 -4.107239788907408 -4.107239789096263 -2.9987620959215295 -3.215675713183913 -3.587659226017731 -3.9195279470033095 -3.98615259425326 -4.020064389728598 -4.0376977639772855 -4.040661215451388 -4.045939450322393 -4.054378407910381 -4.0616414100084155 -4.099598475685749 -4.119687844801387 -4.154764279723443 -4.20718548054986 -4.242398279407961 -4.255492804992783 -4.2793548883488075 -4.322357975408693 -4.390856737769198 -4.430691253314583 -4.4641837913733085 -4.4868624305986895 -4.5202239469095185 -4.529795637305589 -4.545796760152569 -4.561605342340489 -4.564903040076418 -4.56510079584741 -4.565137234507685 -4.56514125355213 -4.565142654136423 -4.5651427548725465 -4.565142758177982 -4.565142758262067 "
     ]
    },
    {
     "data": {
      "text/plain": [
       "<matplotlib.legend.Legend at 0x7f9263cb0df0>"
      ]
     },
     "execution_count": 32,
     "metadata": {},
     "output_type": "execute_result"
    },
    {
     "data": {
      "image/png": "[encoded data removed]",
      "text/plain": [
       "<Figure size 432x288 with 1 Axes>"
      ]
     },
     "metadata": {
      "needs_background": "light"
     },
     "output_type": "display_data"
    }
   ],
   "source": [
    "T = 100000.\n",
    "\n",
    "for nlayers in range(3,6,1):\n",
    "    num_params = 2*nlayers\n",
    "\n",
    "    back_trace = []\n",
    "    def print_avg(xk):\n",
    "        eva = evaluate_parameters(nqubits, edges, xk,nlayers)\n",
    "        back_trace.append(eva)\n",
    "        print(eva, end=' ')\n",
    "\n",
    "    # TODO implement parameter init\n",
    "    parameters_init = []\n",
    "    for k in range(1, nlayers+1):\n",
    "      parameters_init.append((1-k/nlayers)*T/nlayers) # if we use the approximate value of the integral and put it in the exponential, this gives us the theoretical values of theta and beta\n",
    "      parameters_init.append(T*k/nlayers**2)\n",
    "\n",
    "    # END TODO        \n",
    "    opt_res = minimize(lambda x : evaluate_parameters(nqubits, edges, x, nlayers), \n",
    "                       parameters_init, \n",
    "                       callback=print_avg,)\n",
    "    plt.plot(back_trace,label=str(nlayers))\n",
    "plt.axhline(0.878*best_value, color='b', label=\"classical apx ratio\")\n",
    "plt.axhline(best_value,color='r',label='optimal value')\n",
    "plt.legend()"
   ]
  },
  {
   "cell_type": "markdown",
   "id": "cyoJTzlXV6wk",
   "metadata": {
    "id": "cyoJTzlXV6wk"
   },
   "source": [
    "This lowers the converging time of the algorithm"
   ]
  }
 ],
 "metadata": {
  "colab": {
   "provenance": []
  },
  "kernelspec": {
   "display_name": "Python 3 (ipykernel)",
   "language": "python",
   "name": "python3"
  },
  "language_info": {
   "codemirror_mode": {
    "name": "ipython",
    "version": 3
   },
   "file_extension": ".py",
   "mimetype": "text/x-python",
   "name": "python",
   "nbconvert_exporter": "python",
   "pygments_lexer": "ipython3",
   "version": "3.10.9"
  }
 },
 "nbformat": 4,
 "nbformat_minor": 5
}
