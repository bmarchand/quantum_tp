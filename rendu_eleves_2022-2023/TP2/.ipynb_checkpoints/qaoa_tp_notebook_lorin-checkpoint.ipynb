{
 "cells": [
  {
   "cell_type": "markdown",
   "id": "bad09515",
   "metadata": {
    "id": "bad09515"
   },
   "source": [
    "## Part 1 implementing QAOA\n"
   ]
  },
  {
   "cell_type": "code",
   "execution_count": 1,
   "id": "d-WRPHNoYWTZ",
   "metadata": {
    "colab": {
     "base_uri": "https://localhost:8080/"
    },
    "id": "d-WRPHNoYWTZ",
    "outputId": "50908eb3-b477-45e8-f294-8720d2b9f4ce"
   },
   "outputs": [
    {
     "name": "stdout",
     "output_type": "stream",
     "text": [
      "Looking in indexes: https://pypi.org/simple, https://us-python.pkg.dev/colab-wheels/public/simple/\n",
      "Collecting wand\n",
      "  Downloading Wand-0.6.11-py2.py3-none-any.whl (143 kB)\n",
      "\u001b[?25l     \u001b[90m━━━━━━━━━━━━━━━━━━━━━━━━━━━━━━━━━━━━━━━━\u001b[0m \u001b[32m0.0/143.6 KB\u001b[0m \u001b[31m?\u001b[0m eta \u001b[36m-:--:--\u001b[0m\r",
      "\u001b[2K     \u001b[90m━━━━━━━━━━━━━━━━━━━━━━━━━━━━━━━━━━━━━━━\u001b[0m \u001b[32m143.6/143.6 KB\u001b[0m \u001b[31m4.9 MB/s\u001b[0m eta \u001b[36m0:00:00\u001b[0m\n",
      "\u001b[?25hInstalling collected packages: wand\n",
      "Successfully installed wand-0.6.11\n",
      "Looking in indexes: https://pypi.org/simple, https://us-python.pkg.dev/colab-wheels/public/simple/\n",
      "Collecting myqlm\n",
      "  Downloading myqlm-1.7.2-py3-none-any.whl (2.0 kB)\n",
      "Collecting qat-devices>=0.2.0\n",
      "  Downloading qat_devices-0.2.0-cp38-cp38-manylinux1_x86_64.whl (252 kB)\n",
      "\u001b[2K     \u001b[90m━━━━━━━━━━━━━━━━━━━━━━━━━━━━━━━━━━━━━━━\u001b[0m \u001b[32m252.7/252.7 KB\u001b[0m \u001b[31m4.2 MB/s\u001b[0m eta \u001b[36m0:00:00\u001b[0m\n",
      "\u001b[?25hCollecting qat-comm>=1.4.2\n",
      "  Downloading qat_comm-1.4.2-cp38-cp38-manylinux1_x86_64.whl (2.9 MB)\n",
      "\u001b[2K     \u001b[90m━━━━━━━━━━━━━━━━━━━━━━━━━━━━━━━━━━━━━━━━\u001b[0m \u001b[32m2.9/2.9 MB\u001b[0m \u001b[31m28.8 MB/s\u001b[0m eta \u001b[36m0:00:00\u001b[0m\n",
      "\u001b[?25hCollecting myqlm-clinalg>=0.0.4\n",
      "  Downloading myqlm_clinalg-0.0.4-cp38-cp38-manylinux1_x86_64.whl (498 kB)\n",
      "\u001b[2K     \u001b[90m━━━━━━━━━━━━━━━━━━━━━━━━━━━━━━━━━━━━━━\u001b[0m \u001b[32m498.3/498.3 KB\u001b[0m \u001b[31m29.9 MB/s\u001b[0m eta \u001b[36m0:00:00\u001b[0m\n",
      "\u001b[?25hCollecting myqlm-simulators>=1.7.1\n",
      "  Downloading myqlm_simulators-1.7.1-py3-none-any.whl (19 kB)\n",
      "Collecting myqlm-contrib>=1.7.1\n",
      "  Downloading myqlm_contrib-1.7.1-py3-none-any.whl (13 kB)\n",
      "Collecting myqlm-fermion>=1.0.0\n",
      "  Downloading myqlm_fermion-1.0.0-py3-none-any.whl (90 kB)\n",
      "\u001b[2K     \u001b[90m━━━━━━━━━━━━━━━━━━━━━━━━━━━━━━━━━━━━━━━━\u001b[0m \u001b[32m90.0/90.0 KB\u001b[0m \u001b[31m7.3 MB/s\u001b[0m eta \u001b[36m0:00:00\u001b[0m\n",
      "\u001b[?25hCollecting qat-variational>=1.4.0\n",
      "  Downloading qat_variational-1.4.0-cp38-cp38-manylinux1_x86_64.whl (1.6 MB)\n",
      "\u001b[2K     \u001b[90m━━━━━━━━━━━━━━━━━━━━━━━━━━━━━━━━━━━━━━━━\u001b[0m \u001b[32m1.6/1.6 MB\u001b[0m \u001b[31m45.1 MB/s\u001b[0m eta \u001b[36m0:00:00\u001b[0m\n",
      "\u001b[?25hCollecting qat-core>=1.6.1\n",
      "  Downloading qat_core-1.6.2-cp38-cp38-manylinux1_x86_64.whl (4.0 MB)\n",
      "\u001b[2K     \u001b[90m━━━━━━━━━━━━━━━━━━━━━━━━━━━━━━━━━━━━━━━━\u001b[0m \u001b[32m4.0/4.0 MB\u001b[0m \u001b[31m40.3 MB/s\u001b[0m eta \u001b[36m0:00:00\u001b[0m\n",
      "\u001b[?25hCollecting qat-lang>=2.2.1\n",
      "  Downloading qat_lang-2.2.1-cp38-cp38-manylinux1_x86_64.whl (2.5 MB)\n",
      "\u001b[2K     \u001b[90m━━━━━━━━━━━━━━━━━━━━━━━━━━━━━━━━━━━━━━━━\u001b[0m \u001b[32m2.5/2.5 MB\u001b[0m \u001b[31m26.7 MB/s\u001b[0m eta \u001b[36m0:00:00\u001b[0m\n",
      "\u001b[?25hRequirement already satisfied: networkx in /usr/local/lib/python3.8/dist-packages (from myqlm-contrib>=1.7.1->myqlm) (2.8.8)\n",
      "Requirement already satisfied: scipy in /usr/local/lib/python3.8/dist-packages (from myqlm-fermion>=1.0.0->myqlm) (1.7.3)\n",
      "Requirement already satisfied: tqdm in /usr/local/lib/python3.8/dist-packages (from myqlm-fermion>=1.0.0->myqlm) (4.64.1)\n",
      "Collecting anytree\n",
      "  Downloading anytree-2.8.0-py2.py3-none-any.whl (41 kB)\n",
      "\u001b[2K     \u001b[90m━━━━━━━━━━━━━━━━━━━━━━━━━━━━━━━━━━━━━━━━\u001b[0m \u001b[32m41.7/41.7 KB\u001b[0m \u001b[31m4.0 MB/s\u001b[0m eta \u001b[36m0:00:00\u001b[0m\n",
      "\u001b[?25hRequirement already satisfied: numpy in /usr/local/lib/python3.8/dist-packages (from myqlm-fermion>=1.0.0->myqlm) (1.21.6)\n",
      "Collecting bitstring\n",
      "  Downloading bitstring-4.0.1-py3-none-any.whl (45 kB)\n",
      "\u001b[2K     \u001b[90m━━━━━━━━━━━━━━━━━━━━━━━━━━━━━━━━━━━━━━━━\u001b[0m \u001b[32m45.6/45.6 KB\u001b[0m \u001b[31m4.1 MB/s\u001b[0m eta \u001b[36m0:00:00\u001b[0m\n",
      "\u001b[?25hRequirement already satisfied: pytest in /usr/local/lib/python3.8/dist-packages (from myqlm-fermion>=1.0.0->myqlm) (3.6.4)\n",
      "Collecting thrift==0.16.0\n",
      "  Downloading thrift-0.16.0.tar.gz (59 kB)\n",
      "\u001b[2K     \u001b[90m━━━━━━━━━━━━━━━━━━━━━━━━━━━━━━━━━━━━━━━━\u001b[0m \u001b[32m59.6/59.6 KB\u001b[0m \u001b[31m6.3 MB/s\u001b[0m eta \u001b[36m0:00:00\u001b[0m\n",
      "\u001b[?25h  Preparing metadata (setup.py) ... \u001b[?25l\u001b[?25hdone\n",
      "Requirement already satisfied: six>=1.7.2 in /usr/local/lib/python3.8/dist-packages (from thrift==0.16.0->qat-comm>=1.4.2->myqlm) (1.15.0)\n",
      "Requirement already satisfied: Pillow in /usr/local/lib/python3.8/dist-packages (from qat-core>=1.6.1->myqlm) (7.1.2)\n",
      "Collecting svgwrite\n",
      "  Downloading svgwrite-1.4.3-py3-none-any.whl (67 kB)\n",
      "\u001b[2K     \u001b[90m━━━━━━━━━━━━━━━━━━━━━━━━━━━━━━━━━━━━━━━━\u001b[0m \u001b[32m67.1/67.1 KB\u001b[0m \u001b[31m6.8 MB/s\u001b[0m eta \u001b[36m0:00:00\u001b[0m\n",
      "\u001b[?25hRequirement already satisfied: wand in /usr/local/lib/python3.8/dist-packages (from qat-core>=1.6.1->myqlm) (0.6.11)\n",
      "Requirement already satisfied: dill in /usr/local/lib/python3.8/dist-packages (from qat-core>=1.6.1->myqlm) (0.3.6)\n",
      "Requirement already satisfied: matplotlib in /usr/local/lib/python3.8/dist-packages (from qat-core>=1.6.1->myqlm) (3.2.2)\n",
      "Collecting ply==3.11\n",
      "  Downloading ply-3.11-py2.py3-none-any.whl (49 kB)\n",
      "\u001b[2K     \u001b[90m━━━━━━━━━━━━━━━━━━━━━━━━━━━━━━━━━━━━━━━━\u001b[0m \u001b[32m49.6/49.6 KB\u001b[0m \u001b[31m4.6 MB/s\u001b[0m eta \u001b[36m0:00:00\u001b[0m\n",
      "\u001b[?25hCollecting pyDOE\n",
      "  Downloading pyDOE-0.3.8.zip (22 kB)\n",
      "  Preparing metadata (setup.py) ... \u001b[?25l\u001b[?25hdone\n",
      "Requirement already satisfied: python-dateutil>=2.1 in /usr/local/lib/python3.8/dist-packages (from matplotlib->qat-core>=1.6.1->myqlm) (2.8.2)\n",
      "Requirement already satisfied: kiwisolver>=1.0.1 in /usr/local/lib/python3.8/dist-packages (from matplotlib->qat-core>=1.6.1->myqlm) (1.4.4)\n",
      "Requirement already satisfied: pyparsing!=2.0.4,!=2.1.2,!=2.1.6,>=2.0.1 in /usr/local/lib/python3.8/dist-packages (from matplotlib->qat-core>=1.6.1->myqlm) (3.0.9)\n",
      "Requirement already satisfied: cycler>=0.10 in /usr/local/lib/python3.8/dist-packages (from matplotlib->qat-core>=1.6.1->myqlm) (0.11.0)\n",
      "Requirement already satisfied: attrs>=17.4.0 in /usr/local/lib/python3.8/dist-packages (from pytest->myqlm-fermion>=1.0.0->myqlm) (22.2.0)\n",
      "Requirement already satisfied: more-itertools>=4.0.0 in /usr/local/lib/python3.8/dist-packages (from pytest->myqlm-fermion>=1.0.0->myqlm) (9.0.0)\n",
      "Requirement already satisfied: py>=1.5.0 in /usr/local/lib/python3.8/dist-packages (from pytest->myqlm-fermion>=1.0.0->myqlm) (1.11.0)\n",
      "Requirement already satisfied: atomicwrites>=1.0 in /usr/local/lib/python3.8/dist-packages (from pytest->myqlm-fermion>=1.0.0->myqlm) (1.4.1)\n",
      "Requirement already satisfied: pluggy<0.8,>=0.5 in /usr/local/lib/python3.8/dist-packages (from pytest->myqlm-fermion>=1.0.0->myqlm) (0.7.1)\n",
      "Requirement already satisfied: setuptools in /usr/local/lib/python3.8/dist-packages (from pytest->myqlm-fermion>=1.0.0->myqlm) (57.4.0)\n",
      "Building wheels for collected packages: thrift, pyDOE\n",
      "  Building wheel for thrift (setup.py) ... \u001b[?25l\u001b[?25hdone\n",
      "  Created wheel for thrift: filename=thrift-0.16.0-cp38-cp38-linux_x86_64.whl size=349374 sha256=0ae4fd8c6133458e7d098620f83c851d3e6e1400ebb1a3e19cae0dfbbffd0c2a\n",
      "  Stored in directory: /root/.cache/pip/wheels/c1/03/53/7220f8aeecbf2c66ef655a9cff1929299e38119502a316ae30\n",
      "  Building wheel for pyDOE (setup.py) ... \u001b[?25l\u001b[?25hdone\n",
      "  Created wheel for pyDOE: filename=pyDOE-0.3.8-py3-none-any.whl size=18184 sha256=336a7e9679aa24711ba252c9818c7e07fc33e10eca353a3f0d8d76504535cc38\n",
      "  Stored in directory: /root/.cache/pip/wheels/00/3e/fa/5705bf59c2053c17c4799c3ab66a2e356c32f40a3044fe2134\n",
      "Successfully built thrift pyDOE\n",
      "Installing collected packages: ply, thrift, svgwrite, bitstring, anytree, qat-comm, pyDOE, qat-core, qat-lang, qat-devices, myqlm-contrib, qat-variational, myqlm-clinalg, myqlm-simulators, myqlm-fermion, myqlm\n",
      "Successfully installed anytree-2.8.0 bitstring-4.0.1 myqlm-1.7.2 myqlm-clinalg-0.0.4 myqlm-contrib-1.7.1 myqlm-fermion-1.0.0 myqlm-simulators-1.7.1 ply-3.11 pyDOE-0.3.8 qat-comm-1.4.2 qat-core-1.6.2 qat-devices-0.2.0 qat-lang-2.2.1 qat-variational-1.4.0 svgwrite-1.4.3 thrift-0.16.0\n",
      "Reading package lists... Done\n",
      "Building dependency tree       \n",
      "Reading state information... Done\n",
      "The following package was automatically installed and is no longer required:\n",
      "  libnvidia-common-460\n",
      "Use 'apt autoremove' to remove it.\n",
      "The following additional packages will be installed:\n",
      "  fonts-droid-fallback fonts-noto-mono ghostscript gsfonts\n",
      "  imagemagick-6-common imagemagick-6.q16 libcupsfilters1 libcupsimage2\n",
      "  libdjvulibre-text libdjvulibre21 libgs9 libgs9-common libijs-0.35\n",
      "  libjbig2dec0 liblqr-1-0 libmagickcore-6.q16-3 libmagickcore-6.q16-3-extra\n",
      "  libmagickwand-6.q16-3 libnetpbm10 libwmf0.2-7 netpbm poppler-data\n",
      "Suggested packages:\n",
      "  fonts-noto ghostscript-x imagemagick-doc autotrace cups-bsd | lpr | lprng\n",
      "  enscript gimp gnuplot grads hp2xx html2ps libwmf-bin mplayer povray radiance\n",
      "  sane-utils texlive-base-bin transfig ufraw-batch inkscape libjxr-tools\n",
      "  libwmf0.2-7-gtk poppler-utils fonts-japanese-mincho | fonts-ipafont-mincho\n",
      "  fonts-japanese-gothic | fonts-ipafont-gothic fonts-arphic-ukai\n",
      "  fonts-arphic-uming fonts-nanum\n",
      "The following NEW packages will be installed:\n",
      "  fonts-droid-fallback fonts-noto-mono ghostscript gsfonts imagemagick\n",
      "  imagemagick-6-common imagemagick-6.q16 libcupsfilters1 libcupsimage2\n",
      "  libdjvulibre-text libdjvulibre21 libgs9 libgs9-common libijs-0.35\n",
      "  libjbig2dec0 liblqr-1-0 libmagickcore-6.q16-3 libmagickcore-6.q16-3-extra\n",
      "  libmagickwand-6.q16-3 libnetpbm10 libwmf0.2-7 netpbm poppler-data\n",
      "0 upgraded, 23 newly installed, 0 to remove and 20 not upgraded.\n",
      "Need to get 18.4 MB of archives.\n",
      "After this operation, 66.3 MB of additional disk space will be used.\n",
      "Get:1 http://archive.ubuntu.com/ubuntu bionic/main amd64 fonts-droid-fallback all 1:6.0.1r16-1.1 [1,805 kB]\n",
      "Get:2 http://archive.ubuntu.com/ubuntu bionic/main amd64 liblqr-1-0 amd64 0.4.2-2.1 [27.7 kB]\n",
      "Get:3 http://archive.ubuntu.com/ubuntu bionic-updates/main amd64 imagemagick-6-common all 8:6.9.7.4+dfsg-16ubuntu6.14 [60.5 kB]\n",
      "Get:4 http://archive.ubuntu.com/ubuntu bionic-updates/main amd64 libmagickcore-6.q16-3 amd64 8:6.9.7.4+dfsg-16ubuntu6.14 [1,622 kB]\n",
      "Get:5 http://archive.ubuntu.com/ubuntu bionic-updates/main amd64 libmagickwand-6.q16-3 amd64 8:6.9.7.4+dfsg-16ubuntu6.14 [294 kB]\n",
      "Get:6 http://archive.ubuntu.com/ubuntu bionic/main amd64 poppler-data all 0.4.8-2 [1,479 kB]\n",
      "Get:7 http://archive.ubuntu.com/ubuntu bionic/main amd64 fonts-noto-mono all 20171026-2 [75.5 kB]\n",
      "Get:8 http://archive.ubuntu.com/ubuntu bionic-updates/main amd64 libcupsimage2 amd64 2.2.7-1ubuntu2.9 [18.6 kB]\n",
      "Get:9 http://archive.ubuntu.com/ubuntu bionic/main amd64 libijs-0.35 amd64 0.35-13 [15.5 kB]\n",
      "Get:10 http://archive.ubuntu.com/ubuntu bionic/main amd64 libjbig2dec0 amd64 0.13-6 [55.9 kB]\n",
      "Get:11 http://archive.ubuntu.com/ubuntu bionic-updates/main amd64 libgs9-common all 9.26~dfsg+0-0ubuntu0.18.04.17 [5,092 kB]\n",
      "Get:12 http://archive.ubuntu.com/ubuntu bionic-updates/main amd64 libgs9 amd64 9.26~dfsg+0-0ubuntu0.18.04.17 [2,267 kB]\n",
      "Get:13 http://archive.ubuntu.com/ubuntu bionic-updates/main amd64 ghostscript amd64 9.26~dfsg+0-0ubuntu0.18.04.17 [51.3 kB]\n",
      "Get:14 http://archive.ubuntu.com/ubuntu bionic/main amd64 gsfonts all 1:8.11+urwcyr1.0.7~pre44-4.4 [3,120 kB]\n",
      "Get:15 http://archive.ubuntu.com/ubuntu bionic-updates/main amd64 imagemagick-6.q16 amd64 8:6.9.7.4+dfsg-16ubuntu6.14 [423 kB]\n",
      "Get:16 http://archive.ubuntu.com/ubuntu bionic-updates/main amd64 imagemagick amd64 8:6.9.7.4+dfsg-16ubuntu6.14 [14.2 kB]\n",
      "Get:17 http://archive.ubuntu.com/ubuntu bionic-updates/main amd64 libcupsfilters1 amd64 1.20.2-0ubuntu3.1 [108 kB]\n",
      "Get:18 http://archive.ubuntu.com/ubuntu bionic-updates/main amd64 libdjvulibre-text all 3.5.27.1-8ubuntu0.4 [49.4 kB]\n",
      "Get:19 http://archive.ubuntu.com/ubuntu bionic-updates/main amd64 libdjvulibre21 amd64 3.5.27.1-8ubuntu0.4 [561 kB]\n",
      "Get:20 http://archive.ubuntu.com/ubuntu bionic/main amd64 libwmf0.2-7 amd64 0.2.8.4-12 [150 kB]\n",
      "Get:21 http://archive.ubuntu.com/ubuntu bionic-updates/main amd64 libmagickcore-6.q16-3-extra amd64 8:6.9.7.4+dfsg-16ubuntu6.14 [62.2 kB]\n",
      "Get:22 http://archive.ubuntu.com/ubuntu bionic/main amd64 libnetpbm10 amd64 2:10.0-15.3build1 [58.0 kB]\n",
      "Get:23 http://archive.ubuntu.com/ubuntu bionic/main amd64 netpbm amd64 2:10.0-15.3build1 [1,017 kB]\n",
      "Fetched 18.4 MB in 2s (8,784 kB/s)\n",
      "Selecting previously unselected package fonts-droid-fallback.\n",
      "(Reading database ... 124016 files and directories currently installed.)\n",
      "Preparing to unpack .../00-fonts-droid-fallback_1%3a6.0.1r16-1.1_all.deb ...\n",
      "Unpacking fonts-droid-fallback (1:6.0.1r16-1.1) ...\n",
      "Selecting previously unselected package liblqr-1-0:amd64.\n",
      "Preparing to unpack .../01-liblqr-1-0_0.4.2-2.1_amd64.deb ...\n",
      "Unpacking liblqr-1-0:amd64 (0.4.2-2.1) ...\n",
      "Selecting previously unselected package imagemagick-6-common.\n",
      "Preparing to unpack .../02-imagemagick-6-common_8%3a6.9.7.4+dfsg-16ubuntu6.14_all.deb ...\n",
      "Unpacking imagemagick-6-common (8:6.9.7.4+dfsg-16ubuntu6.14) ...\n",
      "Selecting previously unselected package libmagickcore-6.q16-3:amd64.\n",
      "Preparing to unpack .../03-libmagickcore-6.q16-3_8%3a6.9.7.4+dfsg-16ubuntu6.14_amd64.deb ...\n",
      "Unpacking libmagickcore-6.q16-3:amd64 (8:6.9.7.4+dfsg-16ubuntu6.14) ...\n",
      "Selecting previously unselected package libmagickwand-6.q16-3:amd64.\n",
      "Preparing to unpack .../04-libmagickwand-6.q16-3_8%3a6.9.7.4+dfsg-16ubuntu6.14_amd64.deb ...\n",
      "Unpacking libmagickwand-6.q16-3:amd64 (8:6.9.7.4+dfsg-16ubuntu6.14) ...\n",
      "Selecting previously unselected package poppler-data.\n",
      "Preparing to unpack .../05-poppler-data_0.4.8-2_all.deb ...\n",
      "Unpacking poppler-data (0.4.8-2) ...\n",
      "Selecting previously unselected package fonts-noto-mono.\n",
      "Preparing to unpack .../06-fonts-noto-mono_20171026-2_all.deb ...\n",
      "Unpacking fonts-noto-mono (20171026-2) ...\n",
      "Selecting previously unselected package libcupsimage2:amd64.\n",
      "Preparing to unpack .../07-libcupsimage2_2.2.7-1ubuntu2.9_amd64.deb ...\n",
      "Unpacking libcupsimage2:amd64 (2.2.7-1ubuntu2.9) ...\n",
      "Selecting previously unselected package libijs-0.35:amd64.\n",
      "Preparing to unpack .../08-libijs-0.35_0.35-13_amd64.deb ...\n",
      "Unpacking libijs-0.35:amd64 (0.35-13) ...\n",
      "Selecting previously unselected package libjbig2dec0:amd64.\n",
      "Preparing to unpack .../09-libjbig2dec0_0.13-6_amd64.deb ...\n",
      "Unpacking libjbig2dec0:amd64 (0.13-6) ...\n",
      "Selecting previously unselected package libgs9-common.\n",
      "Preparing to unpack .../10-libgs9-common_9.26~dfsg+0-0ubuntu0.18.04.17_all.deb ...\n",
      "Unpacking libgs9-common (9.26~dfsg+0-0ubuntu0.18.04.17) ...\n",
      "Selecting previously unselected package libgs9:amd64.\n",
      "Preparing to unpack .../11-libgs9_9.26~dfsg+0-0ubuntu0.18.04.17_amd64.deb ...\n",
      "Unpacking libgs9:amd64 (9.26~dfsg+0-0ubuntu0.18.04.17) ...\n",
      "Selecting previously unselected package ghostscript.\n",
      "Preparing to unpack .../12-ghostscript_9.26~dfsg+0-0ubuntu0.18.04.17_amd64.deb ...\n",
      "Unpacking ghostscript (9.26~dfsg+0-0ubuntu0.18.04.17) ...\n",
      "Selecting previously unselected package gsfonts.\n",
      "Preparing to unpack .../13-gsfonts_1%3a8.11+urwcyr1.0.7~pre44-4.4_all.deb ...\n",
      "Unpacking gsfonts (1:8.11+urwcyr1.0.7~pre44-4.4) ...\n",
      "Selecting previously unselected package imagemagick-6.q16.\n",
      "Preparing to unpack .../14-imagemagick-6.q16_8%3a6.9.7.4+dfsg-16ubuntu6.14_amd64.deb ...\n",
      "Unpacking imagemagick-6.q16 (8:6.9.7.4+dfsg-16ubuntu6.14) ...\n",
      "Selecting previously unselected package imagemagick.\n",
      "Preparing to unpack .../15-imagemagick_8%3a6.9.7.4+dfsg-16ubuntu6.14_amd64.deb ...\n",
      "Unpacking imagemagick (8:6.9.7.4+dfsg-16ubuntu6.14) ...\n",
      "Selecting previously unselected package libcupsfilters1:amd64.\n",
      "Preparing to unpack .../16-libcupsfilters1_1.20.2-0ubuntu3.1_amd64.deb ...\n",
      "Unpacking libcupsfilters1:amd64 (1.20.2-0ubuntu3.1) ...\n",
      "Selecting previously unselected package libdjvulibre-text.\n",
      "Preparing to unpack .../17-libdjvulibre-text_3.5.27.1-8ubuntu0.4_all.deb ...\n",
      "Unpacking libdjvulibre-text (3.5.27.1-8ubuntu0.4) ...\n",
      "Selecting previously unselected package libdjvulibre21:amd64.\n",
      "Preparing to unpack .../18-libdjvulibre21_3.5.27.1-8ubuntu0.4_amd64.deb ...\n",
      "Unpacking libdjvulibre21:amd64 (3.5.27.1-8ubuntu0.4) ...\n",
      "Selecting previously unselected package libwmf0.2-7:amd64.\n",
      "Preparing to unpack .../19-libwmf0.2-7_0.2.8.4-12_amd64.deb ...\n",
      "Unpacking libwmf0.2-7:amd64 (0.2.8.4-12) ...\n",
      "Selecting previously unselected package libmagickcore-6.q16-3-extra:amd64.\n",
      "Preparing to unpack .../20-libmagickcore-6.q16-3-extra_8%3a6.9.7.4+dfsg-16ubuntu6.14_amd64.deb ...\n",
      "Unpacking libmagickcore-6.q16-3-extra:amd64 (8:6.9.7.4+dfsg-16ubuntu6.14) ...\n",
      "Selecting previously unselected package libnetpbm10.\n",
      "Preparing to unpack .../21-libnetpbm10_2%3a10.0-15.3build1_amd64.deb ...\n",
      "Unpacking libnetpbm10 (2:10.0-15.3build1) ...\n",
      "Selecting previously unselected package netpbm.\n",
      "Preparing to unpack .../22-netpbm_2%3a10.0-15.3build1_amd64.deb ...\n",
      "Unpacking netpbm (2:10.0-15.3build1) ...\n",
      "Setting up libgs9-common (9.26~dfsg+0-0ubuntu0.18.04.17) ...\n",
      "Setting up imagemagick-6-common (8:6.9.7.4+dfsg-16ubuntu6.14) ...\n",
      "Setting up fonts-droid-fallback (1:6.0.1r16-1.1) ...\n",
      "Setting up gsfonts (1:8.11+urwcyr1.0.7~pre44-4.4) ...\n",
      "Setting up poppler-data (0.4.8-2) ...\n",
      "Setting up libdjvulibre-text (3.5.27.1-8ubuntu0.4) ...\n",
      "Setting up libnetpbm10 (2:10.0-15.3build1) ...\n",
      "Setting up fonts-noto-mono (20171026-2) ...\n",
      "Setting up libcupsfilters1:amd64 (1.20.2-0ubuntu3.1) ...\n",
      "Setting up libcupsimage2:amd64 (2.2.7-1ubuntu2.9) ...\n",
      "Setting up liblqr-1-0:amd64 (0.4.2-2.1) ...\n",
      "Setting up libjbig2dec0:amd64 (0.13-6) ...\n",
      "Setting up libijs-0.35:amd64 (0.35-13) ...\n",
      "Setting up netpbm (2:10.0-15.3build1) ...\n",
      "Setting up libgs9:amd64 (9.26~dfsg+0-0ubuntu0.18.04.17) ...\n",
      "Setting up libwmf0.2-7:amd64 (0.2.8.4-12) ...\n",
      "Setting up libmagickcore-6.q16-3:amd64 (8:6.9.7.4+dfsg-16ubuntu6.14) ...\n",
      "Setting up libdjvulibre21:amd64 (3.5.27.1-8ubuntu0.4) ...\n",
      "Setting up ghostscript (9.26~dfsg+0-0ubuntu0.18.04.17) ...\n",
      "Setting up libmagickwand-6.q16-3:amd64 (8:6.9.7.4+dfsg-16ubuntu6.14) ...\n",
      "Setting up imagemagick-6.q16 (8:6.9.7.4+dfsg-16ubuntu6.14) ...\n",
      "update-alternatives: using /usr/bin/compare-im6.q16 to provide /usr/bin/compare (compare) in auto mode\n",
      "update-alternatives: using /usr/bin/compare-im6.q16 to provide /usr/bin/compare-im6 (compare-im6) in auto mode\n",
      "update-alternatives: using /usr/bin/animate-im6.q16 to provide /usr/bin/animate (animate) in auto mode\n",
      "update-alternatives: using /usr/bin/animate-im6.q16 to provide /usr/bin/animate-im6 (animate-im6) in auto mode\n",
      "update-alternatives: using /usr/bin/convert-im6.q16 to provide /usr/bin/convert (convert) in auto mode\n",
      "update-alternatives: using /usr/bin/convert-im6.q16 to provide /usr/bin/convert-im6 (convert-im6) in auto mode\n",
      "update-alternatives: using /usr/bin/composite-im6.q16 to provide /usr/bin/composite (composite) in auto mode\n",
      "update-alternatives: using /usr/bin/composite-im6.q16 to provide /usr/bin/composite-im6 (composite-im6) in auto mode\n",
      "update-alternatives: using /usr/bin/conjure-im6.q16 to provide /usr/bin/conjure (conjure) in auto mode\n",
      "update-alternatives: using /usr/bin/conjure-im6.q16 to provide /usr/bin/conjure-im6 (conjure-im6) in auto mode\n",
      "update-alternatives: using /usr/bin/import-im6.q16 to provide /usr/bin/import (import) in auto mode\n",
      "update-alternatives: using /usr/bin/import-im6.q16 to provide /usr/bin/import-im6 (import-im6) in auto mode\n",
      "update-alternatives: using /usr/bin/identify-im6.q16 to provide /usr/bin/identify (identify) in auto mode\n",
      "update-alternatives: using /usr/bin/identify-im6.q16 to provide /usr/bin/identify-im6 (identify-im6) in auto mode\n",
      "update-alternatives: using /usr/bin/stream-im6.q16 to provide /usr/bin/stream (stream) in auto mode\n",
      "update-alternatives: using /usr/bin/stream-im6.q16 to provide /usr/bin/stream-im6 (stream-im6) in auto mode\n",
      "update-alternatives: using /usr/bin/display-im6.q16 to provide /usr/bin/display (display) in auto mode\n",
      "update-alternatives: using /usr/bin/display-im6.q16 to provide /usr/bin/display-im6 (display-im6) in auto mode\n",
      "update-alternatives: using /usr/bin/montage-im6.q16 to provide /usr/bin/montage (montage) in auto mode\n",
      "update-alternatives: using /usr/bin/montage-im6.q16 to provide /usr/bin/montage-im6 (montage-im6) in auto mode\n",
      "update-alternatives: using /usr/bin/mogrify-im6.q16 to provide /usr/bin/mogrify (mogrify) in auto mode\n",
      "update-alternatives: using /usr/bin/mogrify-im6.q16 to provide /usr/bin/mogrify-im6 (mogrify-im6) in auto mode\n",
      "Setting up libmagickcore-6.q16-3-extra:amd64 (8:6.9.7.4+dfsg-16ubuntu6.14) ...\n",
      "Setting up imagemagick (8:6.9.7.4+dfsg-16ubuntu6.14) ...\n",
      "Processing triggers for hicolor-icon-theme (0.17-2) ...\n",
      "Processing triggers for fontconfig (2.12.6-0ubuntu2) ...\n",
      "Processing triggers for mime-support (3.60ubuntu1) ...\n",
      "Processing triggers for libc-bin (2.27-3ubuntu1.6) ...\n",
      "Processing triggers for man-db (2.8.3-2ubuntu0.1) ...\n",
      "QLM magics have been sucessfully installed\n"
     ]
    }
   ],
   "source": [
    "!pip install wand\n",
    "!pip install myqlm\n",
    "!apt install imagemagick\n",
    "!python -m qat.magics.install"
   ]
  },
  {
   "cell_type": "markdown",
   "id": "536219fc",
   "metadata": {
    "id": "536219fc"
   },
   "source": [
    "### Question1 :\n",
    "Write down in the cell below the Hamiltonian whose ground state is the solution to MaxCUT on an input graph $G=(V,E)$:"
   ]
  },
  {
   "cell_type": "markdown",
   "id": "fd36b562",
   "metadata": {
    "id": "fd36b562"
   },
   "source": [
    "$$ H = \\sum_{i,j\\in E} \\sigma_i \\cdot \\sigma_j $$"
   ]
  },
  {
   "cell_type": "markdown",
   "id": "b045f8b7",
   "metadata": {
    "id": "b045f8b7"
   },
   "source": [
    "### Question 2:\n",
    "Complete the implementation below of a simple, brute-force enumeration of all states computing the optimal solution to MaxCUT for the graph represented by 'edges'"
   ]
  },
  {
   "cell_type": "code",
   "execution_count": 2,
   "id": "7bc976fa",
   "metadata": {
    "colab": {
     "base_uri": "https://localhost:8080/"
    },
    "id": "7bc976fa",
    "outputId": "21363fa0-f154-450d-f21c-cf4b2e070947"
   },
   "outputs": [
    {
     "name": "stdout",
     "output_type": "stream",
     "text": [
      "-5\n",
      "[1, 0, 0, 1, 1]\n"
     ]
    }
   ],
   "source": [
    "import numpy as np\n",
    "\n",
    "graph1 = [(0,1),(0,2),(1,3),(2,3)]\n",
    "graph2 = [(0,1),(1,2),(0,3),(1,4),(2,5),(3,6),(4,7),(5,8),(3,4),(4,5),(6,7),(7,8)]\n",
    "graph3 = [(0,1),(1,2),(0,3),(1,4),(2,5),(3,6),(4,7),(3,4),(4,5),(6,7)]\n",
    "graph4 = [(0,1),(1,2),(2,3),(4,5),(5,6),(6,7),(0,4),(1,5),(2,6),(3,7)]\n",
    "graph5 = [(0,1),(0,2),(1,3),(2,4),(3,5),(4,5),(1,4)]\n",
    "graph6 = [(0,1),(0,2),(1,3),(2,4),(1,4)]\n",
    "\n",
    "\n",
    "# choice of graph\n",
    "edges = graph6\n",
    "\n",
    "nqubits = max([max(list(v)) for v in edges])+1\n",
    "\n",
    "#nqubits = 5\n",
    "graph7 = [(i,(i+1)%nqubits) for i in range(nqubits)]+[(1,4)]\n",
    "\n",
    "\n",
    "# COMPUTATION OF OPT.\n",
    "best_value = len(edges)\n",
    "best_b = 0\n",
    "for x in range(2**nqubits):\n",
    "    b = np.binary_repr(x, width=nqubits)\n",
    "    b = [int(b[i]) for i in range(nqubits)]\n",
    "    # TODO: Complete the computation below:\n",
    "    val=sum([(1-2*b[v[0]])*(1-2*b[v[1]]) for v in edges])\n",
    "    # END TODO\n",
    "    if val <= best_value:\n",
    "        best_value = val\n",
    "        best_b = b\n",
    "print(best_value)\n",
    "print(best_b)"
   ]
  },
  {
   "cell_type": "markdown",
   "id": "4bed0ead",
   "metadata": {
    "id": "4bed0ead"
   },
   "source": [
    "#### visualization of the graph"
   ]
  },
  {
   "cell_type": "code",
   "execution_count": 3,
   "id": "11a7d2a7",
   "metadata": {
    "colab": {
     "base_uri": "https://localhost:8080/",
     "height": 248
    },
    "id": "11a7d2a7",
    "outputId": "1cc57a66-416d-4111-8fd2-4cb0eb9ac70e"
   },
   "outputs": [
    {
     "data": {
      "image/png": "[encoded data removed]",
      "text/plain": [
       "<Figure size 432x288 with 1 Axes>"
      ]
     },
     "metadata": {},
     "output_type": "display_data"
    }
   ],
   "source": [
    "import networkx as nx\n",
    "G = nx.Graph()\n",
    "for i,j in edges:\n",
    "    G.add_edge(i,j)\n",
    "nx.draw_networkx(G)"
   ]
  },
  {
   "cell_type": "code",
   "execution_count": 4,
   "id": "1bcf8886",
   "metadata": {
    "id": "1bcf8886"
   },
   "outputs": [],
   "source": [
    "from qat.lang.AQASM import Program, H, CNOT, RX, QRoutine, RZ, X, Z"
   ]
  },
  {
   "cell_type": "code",
   "execution_count": 5,
   "id": "f125405c",
   "metadata": {
    "id": "f125405c"
   },
   "outputs": [],
   "source": [
    "def U_ZZ(theta):\n",
    "    zz_r=QRoutine()\n",
    "    zz_r.apply(CNOT, 0,1)\n",
    "    zz_r.apply(RZ(theta), 1) # difference of convention between implemented version and what we need.\n",
    "    zz_r.apply(CNOT, 0,1)\n",
    "\n",
    "    return zz_r"
   ]
  },
  {
   "cell_type": "markdown",
   "id": "b87e91ed",
   "metadata": {
    "id": "b87e91ed"
   },
   "source": [
    "### Question 3"
   ]
  },
  {
   "cell_type": "code",
   "execution_count": 6,
   "id": "27954bb3",
   "metadata": {
    "id": "27954bb3"
   },
   "outputs": [],
   "source": [
    "def one_qaoa_layer(n_qubits, edges, theta, beta):\n",
    "\n",
    "    layer = QRoutine()\n",
    "    #TODO: implement one qaoa layer\n",
    "    for q in range(n_qubits):\n",
    "      layer.apply(RX(2*theta),q)\n",
    "    for (i,j) in edges:\n",
    "      layer.apply(U_ZZ(2*beta),i,j)\n",
    "    return layer"
   ]
  },
  {
   "cell_type": "markdown",
   "id": "bd0c36a5",
   "metadata": {
    "id": "bd0c36a5"
   },
   "source": [
    "### Question 4"
   ]
  },
  {
   "cell_type": "code",
   "execution_count": 7,
   "id": "655a9aaa",
   "metadata": {
    "id": "655a9aaa"
   },
   "outputs": [],
   "source": [
    "from qat.qpus import get_default_qpu\n",
    "\n",
    "def evaluate_parameters(n_qubits, edges, parameters, n_layers):\n",
    "    \n",
    "    prog = Program()\n",
    "    qubits = prog.qalloc(n_qubits)\n",
    "    \n",
    "    # TODO: implement initialization+parameterized circuit\n",
    "    for q in qubits:\n",
    "      prog.apply(H,q)\n",
    "    for i in range(n_layers):\n",
    "      [theta,beta] = parameters[2*i:(2*i+2)]\n",
    "      prog.apply(one_qaoa_layer(n_qubits,edges,theta,beta),qubits)\n",
    "        \n",
    "    # END TODO\n",
    "    circ = prog.to_circ()\n",
    "    \n",
    "    job = circ.to_job()\n",
    "    qpu = get_default_qpu()\n",
    "    \n",
    "    result = qpu.submit(job)\n",
    "    \n",
    "    # BEGIN TODO\n",
    "    obs = 0\n",
    "    for sample in result:\n",
    "        # this loop is over all 2**nqubits states.\n",
    "        # sample.state.bitstring contains the qubit values (nqubits 0 or 1)\n",
    "        b=sample.state.bitstring\n",
    "        val=sum([(1-2*int(b[v[0]]))*(1-2*int(b[v[1]])) for v in edges])\n",
    "        obs+=sample.probability*val\n",
    "    # END TODO\n",
    "    return obs\n",
    "    \n",
    "        "
   ]
  },
  {
   "cell_type": "code",
   "execution_count": 8,
   "id": "88963901",
   "metadata": {
    "colab": {
     "base_uri": "https://localhost:8080/"
    },
    "id": "88963901",
    "outputId": "a1b20bd8-11f3-42a3-c341-47e89f362b78"
   },
   "outputs": [
    {
     "data": {
      "text/plain": [
       "array([0.38474541, 0.39439198, 0.36968603])"
      ]
     },
     "execution_count": 8,
     "metadata": {},
     "output_type": "execute_result"
    }
   ],
   "source": [
    "import numpy as np\n",
    "np.random.random(3)"
   ]
  },
  {
   "cell_type": "code",
   "execution_count": 9,
   "id": "42557843",
   "metadata": {
    "id": "42557843"
   },
   "outputs": [],
   "source": [
    "from scipy.optimize import minimize\n"
   ]
  },
  {
   "cell_type": "markdown",
   "id": "0846a6dd",
   "metadata": {
    "id": "0846a6dd"
   },
   "source": [
    "### Random initialisation"
   ]
  },
  {
   "cell_type": "markdown",
   "id": "f679d3e0",
   "metadata": {
    "id": "f679d3e0"
   },
   "source": [
    "### Question 5: \n",
    "réponse à la question: 9 or 10 layers are needed. The optimization depends on the starting parameter vector which is random: the result change from one execution to another."
   ]
  },
  {
   "cell_type": "code",
   "execution_count": 10,
   "id": "j-aOgWOb0c4-",
   "metadata": {
    "id": "j-aOgWOb0c4-"
   },
   "outputs": [],
   "source": [
    "import matplotlib.pylab as plt"
   ]
  },
  {
   "cell_type": "code",
   "execution_count": 27,
   "id": "36f6e279",
   "metadata": {
    "colab": {
     "base_uri": "https://localhost:8080/",
     "height": 320
    },
    "id": "36f6e279",
    "outputId": "bdd13973-6879-45c9-98a0-8634d4c181fc"
   },
   "outputs": [
    {
     "name": "stdout",
     "output_type": "stream",
     "text": [
      "-1.4212432754099709 -1.9033525054712468 -2.4684722168131734 -2.775669020997626 -2.996365976860711 -3.092529370874583 -3.1861028795041797 -3.2253865731119573 -3.3014300522158826 -3.4024711526721036 -3.4479709752180203 -3.5200967113535975 -3.6320111189146003 -3.6681539073584126 -3.7173101693792687 -3.871288152178478 -3.8824754846610308 -3.9038687881585985 -4.078620717946911 -4.173306413192005 -4.231994913091364 -4.301564497537492 -4.377311530513517 -4.4071430640897304 -4.457484190919927 -4.534262740086802 -4.601224215391985 -4.636080971742621 -4.683982333414053 -4.707593086755438 -4.732909131977643 -4.741873501936047 -4.747343087511907 -4.750184873519845 -4.75497696429326 -4.762856768228683 -4.774695685400801 -4.783527950405622 -4.795729553552479 -4.8026250549812595 -4.8139649374875395 -4.825173094335354 -4.830872517333561 -4.836802864692767 -4.8392795184596125 -4.842334298460788 -4.844553916526237 -4.845848716552752 -4.8471325711463225 -4.848178530128644 -4.849469321195026 -4.850415870322179 -4.850587116580718 -4.850699634706402 -4.850895573724759 -4.851261986172256 -4.85312554658807 -4.8538603355652095 -4.854969820209402 -4.8564568353169575 -4.856740482927931 -4.857054349538393 -4.85716476296117 -4.857253073186108 -4.857286293545682 -4.857312576102061 -4.85735300797896 -4.857389835129697 -4.857404974808887 -4.8574113432026085 -4.857412685587926 -4.857414367557823 -4.857417246756152 -4.857422247512505 -4.857430468389817 -4.857441020377534 -4.857446992426951 -4.8574500500670785 -4.857450131831935 -4.857450177066589 -4.857450253585758 -4.857450387358983 -4.857450625752849 -4.8574510525205845 -4.857451808653321 -4.857453108101043 -4.8574552021251876 -4.857458112140883 -4.857460535318684 -4.857462361957435 -4.8574624905186665 -4.85746250434313 -4.857462511507056 -4.857462512931118 -4.857462513045074 -4.857462513057355 -0.39206994230702896 -1.4972359354161662 -2.2272464720825553 -2.5936936082211517 -2.9617958569670333 -3.152446196219329 -3.199090358980797 -3.275307787092673 -3.415037738522764 -3.682412858250404 -4.070006602816981 -4.136033899858936 -4.189563652769259 -4.227901039301253 -4.262407037784187 -4.304230513733842 -4.356581215229795 -4.397945484644271 -4.433279820022182 -4.474533204844022 -4.495203389653851 -4.508093091608571 -4.5171391467774855 -4.523407791863647 -4.529026914884366 -4.533450874497131 -4.536643880961317 -4.541580300380583 -4.549259907941709 -4.558800687904412 -4.5705551824315735 -4.58635180397189 -4.610729207202309 -4.64419445040693 -4.668355855782452 -4.7041377697493845 -4.732772844298261 -4.753715056845808 -4.781555813871192 -4.793345768606762 -4.804061346685365 -4.80812091767213 -4.81457063952956 -4.822504272591801 -4.826476781742519 -4.830503023959604 -4.832909254610179 -4.836381048350997 -4.839523357639729 -4.842209967881329 -4.844102804084671 -4.8449336616302885 -4.845665914587813 -4.8465511923876745 -4.8480361819385065 -4.850369688012973 -4.853744225769804 -4.857742808201653 -4.860629942509205 -4.862757402515896 -4.865770707177189 -4.868921101720063 -4.871406640611724 -4.87332074312126 -4.875843802777373 -4.878776900571608 -4.895547762480181 -4.911430664788857 -4.919742678033465 -4.923234276418435 -4.928493638171859 -4.93058814866666 -4.933247859648012 -4.935864861852389 -4.938553791942347 -4.94137387606001 -4.941860941850979 -4.942232210468048 -4.942433747465164 -4.94265012658196 -4.942763145484593 -4.942835638233536 -4.942905393953692 -4.942985597820845 -4.943035407541074 -4.9430495585759315 -4.943051718574267 -4.943052199917414 -4.943052598607227 -4.943053150896238 -4.943053428653633 -4.943053582060068 -4.943053734602167 -4.943053897960898 -4.9430540095140065 -4.943054044355499 -4.9430540492768085 -4.9430540499523286 -4.943054050147337 -4.94305405018673 -1.3991361164754603 -1.7368703462601542 -2.0642322191782485 -2.2732516248388315 -2.4223331463321376 -2.7062680163626194 -2.8259250782141296 -3.049595692832274 -3.286059509725087 -3.451976419170678 -3.7631203727987743 -4.1777230067478905 -4.325169440565959 -4.526100067073223 -4.68336442575958 -4.755898554028113 -4.801249953617099 -4.811556776307281 -4.829834956618995 -4.8581468986848355 -4.883000965296447 -4.893170326228607 -4.896142402418491 -4.900980035968037 -4.907709065702532 -4.912607664843603 -4.917217168810194 -4.922265077211638 -4.924562614999662 -4.925659407742772 -4.926692674764727 -4.927648952559814 -4.928716807032829 -4.930266303874185 -4.931776744759602 -4.933016287564738 -4.934399933555937 -4.934837600688633 -4.93526166950399 -4.935592831577842 -4.936089917768298 -4.936661069671918 -4.937097333177706 -4.937291941275057 -4.937350524577411 -4.937380297348012 -4.93743052291954 -4.937516521381793 -4.937656068291504 -4.9378218140202925 -4.937872497438331 -4.9378946743502405 -4.937897169297611 -4.9378985427616975 -4.937900010061355 -4.9379026595755215 -4.937907386499283 -4.937915372507607 -4.937926753593053 -4.937934297506854 -4.937939744053885 -4.937941848401691 -4.9379421791445095 -4.937942247092402 -4.937942311280403 -4.937942424146564 -4.937942631184026 -4.937943016682782 -4.937943733916671 -4.937945052081241 -4.937947423984012 -4.93795152026105 -4.937958074462956 -4.937967104667953 -4.937979562312206 -4.938001305868891 -4.938036778247474 -4.9380763522967195 -4.938080383628109 -4.938087497797687 -4.938100544396947 -4.938119955142932 -4.93812991180396 -4.938135890442335 -4.9381391019239915 -4.938144562354299 -4.938153116436753 -4.938163591385511 -4.938175884501137 -4.938181839798433 -4.938186977957774 -4.938189633783247 -4.938192568333055 -4.938193837249399 -4.9381952786293954 -4.938197064492165 -4.938198165089735 -4.938198711331173 -4.938199501333019 -4.938199815054419 -4.938199849595462 -4.938199851337263 -4.938199851774 -4.9381998522453046 -4.9381998525033906 -4.938199852570364 "
     ]
    },
    {
     "data": {
      "text/plain": [
       "<matplotlib.legend.Legend at 0x7f88190c7eb0>"
      ]
     },
     "execution_count": 27,
     "metadata": {},
     "output_type": "execute_result"
    },
    {
     "data": {
      "image/png": "[encoded data removed]",
      "text/plain": [
       "<Figure size 432x288 with 1 Axes>"
      ]
     },
     "metadata": {
      "needs_background": "light"
     },
     "output_type": "display_data"
    }
   ],
   "source": [
    "for nlayers in range(8,11,1):\n",
    "    num_params = 2*nlayers\n",
    "\n",
    "    back_trace = []\n",
    "    def print_avg(xk):\n",
    "        eva = evaluate_parameters(nqubits, edges, xk,nlayers)\n",
    "        back_trace.append(eva)\n",
    "        print(eva, end=' ')\n",
    "\n",
    "    opt_res = minimize(lambda x : evaluate_parameters(nqubits, edges, x, nlayers), \n",
    "                       np.random.random(num_params),\n",
    "                       callback=print_avg,)\n",
    "    plt.plot(back_trace,label=str(nlayers))\n",
    "# there exists a classical polynomial algorithm returning solutions within a factor of 0.878 of the optimal\n",
    "# we must at least beat that. https://fr.wikipedia.org/wiki/Coupe_maximum\n",
    "plt.axhline(0.878*best_value, color='b', label=\"classical apx ratio\")\n",
    "plt.axhline(best_value,color='r',label='optimal value')\n",
    "plt.legend()"
   ]
  },
  {
   "cell_type": "markdown",
   "id": "e9dffce1",
   "metadata": {
    "id": "e9dffce1"
   },
   "source": [
    "### Question 6: smart initialization"
   ]
  },
  {
   "cell_type": "markdown",
   "id": "9eRB2Nnh3hfU",
   "metadata": {
    "id": "9eRB2Nnh3hfU"
   },
   "source": [
    "By identifying the $\\theta_k, \\beta_k$ with the terms of the sum in the exponential, we get, for $p$ layers:\n",
    "$$ \\theta_{p+1-k}=T/p*(1-k/p)$$\n",
    "$$ \\beta_{p+1-k}=k*T/p^2$$\n",
    "We observe that the convergence is faster and the result (optimal value found) is better. This can be shown by executing Q5 with $p$ varying between 3 and 5.\n",
    "\n",
    "Changing T modifies the convergence result. They are worse for $T>1$. For $T<1$, it is not clear whether the results are better or not."
   ]
  },
  {
   "cell_type": "code",
   "execution_count": 28,
   "id": "d1eb83de",
   "metadata": {
    "colab": {
     "base_uri": "https://localhost:8080/",
     "height": 320
    },
    "id": "d1eb83de",
    "outputId": "9518469c-16df-4083-d758-7db58ee3153c"
   },
   "outputs": [
    {
     "name": "stdout",
     "output_type": "stream",
     "text": [
      "-0.785920920222829 -1.533620521348154 -1.8331154204100018 -2.386521301825272 -3.1111392193129226 -3.827595508450567 -3.973860684409014 -3.9782151730327024 -3.978267608423065 -3.9782690246787693 -3.9782690295462726 -3.9782690296553693 -2.106447027648938 -2.5678993234306806 -3.1448908318789988 -3.6690392076260276 -4.22773611971577 -4.556084001137752 -4.575525200764773 -4.610175019491198 -4.656507564779245 -4.662480269717987 -4.66255188993259 -4.662584862361844 -4.662589494432874 -4.66258958690101 -4.662589588261413 -4.66258958828925 -2.640939531177696 -2.856552058765455 -3.169340099601233 -3.4030317490099424 -3.740140346962377 -4.217175095157331 -4.48145809888044 -4.501582826357106 -4.6581801632304485 -4.69033850379667 -4.743507484211291 -4.81386800387467 -4.848961983790483 -4.871942891481295 -4.872843651247741 -4.874512666475354 -4.877311307619138 -4.880346636317672 -4.8810748558934405 -4.881667106850789 -4.881966727611579 -4.881968624687041 -4.881968642549762 -4.881968643040363 -4.881968643051598 "
     ]
    },
    {
     "data": {
      "text/plain": [
       "<matplotlib.legend.Legend at 0x7f8819609460>"
      ]
     },
     "execution_count": 28,
     "metadata": {},
     "output_type": "execute_result"
    },
    {
     "data": {
      "image/png": "[encoded data removed]",
      "text/plain": [
       "<Figure size 432x288 with 1 Axes>"
      ]
     },
     "metadata": {
      "needs_background": "light"
     },
     "output_type": "display_data"
    }
   ],
   "source": [
    "T = 1.\n",
    "\n",
    "for nlayers in range(3,6,1):\n",
    "    num_params = 2*nlayers\n",
    "\n",
    "    back_trace = []\n",
    "    def print_avg(xk):\n",
    "        eva = evaluate_parameters(nqubits, edges, xk,nlayers)\n",
    "        back_trace.append(eva)\n",
    "        print(eva, end=' ')\n",
    "\n",
    "    # TODO implement parameter init\n",
    "    parameters_init =[]\n",
    "    for k in range(nlayers,0,-1):\n",
    "      parameters_init.append(T/nlayers*(1-k/nlayers))\n",
    "      parameters_init.append(k*T/nlayers**2)\n",
    "    \n",
    "\n",
    "    # END TODO        \n",
    "    opt_res = minimize(lambda x : evaluate_parameters(nqubits, edges, x, nlayers), \n",
    "                       parameters_init, \n",
    "                       callback=print_avg,)\n",
    "    plt.plot(back_trace,label=str(nlayers))\n",
    "plt.axhline(0.878*best_value, color='b', label=\"classical apx ratio\")\n",
    "plt.axhline(best_value,color='r',label='optimal value')\n",
    "plt.legend()"
   ]
  }
 ],
 "metadata": {
  "colab": {
   "provenance": []
  },
  "kernelspec": {
   "display_name": "Python 3 (ipykernel)",
   "language": "python",
   "name": "python3"
  },
  "language_info": {
   "codemirror_mode": {
    "name": "ipython",
    "version": 3
   },
   "file_extension": ".py",
   "mimetype": "text/x-python",
   "name": "python",
   "nbconvert_exporter": "python",
   "pygments_lexer": "ipython3",
   "version": "3.10.9"
  }
 },
 "nbformat": 4,
 "nbformat_minor": 5
}
