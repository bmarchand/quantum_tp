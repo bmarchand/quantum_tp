{
  "cells": [
    {
      "cell_type": "markdown",
      "id": "bad09515",
      "metadata": {
        "id": "bad09515"
      },
      "source": [
        "## Part 1 implementing QAOA\n"
      ]
    },
    {
      "cell_type": "code",
      "source": [
        "!pip install myqlm"
      ],
      "metadata": {
        "colab": {
          "base_uri": "https://localhost:8080/"
        },
        "id": "-5nkRyo0O5S1",
        "outputId": "b4123ab6-edc5-4124-cf9e-03c49f02d617"
      },
      "id": "-5nkRyo0O5S1",
      "execution_count": null,
      "outputs": [
        {
          "output_type": "stream",
          "name": "stdout",
          "text": [
            "Looking in indexes: https://pypi.org/simple, https://us-python.pkg.dev/colab-wheels/public/simple/\n",
            "Collecting myqlm\n",
            "  Downloading myqlm-1.7.2-py3-none-any.whl (2.0 kB)\n",
            "Collecting qat-comm>=1.4.2\n",
            "  Downloading qat_comm-1.4.2-cp38-cp38-manylinux1_x86_64.whl (2.9 MB)\n",
            "\u001b[2K     \u001b[90m━━━━━━━━━━━━━━━━━━━━━━━━━━━━━━━━━━━━━━━━\u001b[0m \u001b[32m2.9/2.9 MB\u001b[0m \u001b[31m36.1 MB/s\u001b[0m eta \u001b[36m0:00:00\u001b[0m\n",
            "\u001b[?25hCollecting qat-core>=1.6.1\n",
            "  Downloading qat_core-1.6.2-cp38-cp38-manylinux1_x86_64.whl (4.0 MB)\n",
            "\u001b[2K     \u001b[90m━━━━━━━━━━━━━━━━━━━━━━━━━━━━━━━━━━━━━━━━\u001b[0m \u001b[32m4.0/4.0 MB\u001b[0m \u001b[31m17.8 MB/s\u001b[0m eta \u001b[36m0:00:00\u001b[0m\n",
            "\u001b[?25hCollecting myqlm-contrib>=1.7.1\n",
            "  Downloading myqlm_contrib-1.7.1-py3-none-any.whl (13 kB)\n",
            "Collecting qat-lang>=2.2.1\n",
            "  Downloading qat_lang-2.2.1-cp38-cp38-manylinux1_x86_64.whl (2.5 MB)\n",
            "\u001b[2K     \u001b[90m━━━━━━━━━━━━━━━━━━━━━━━━━━━━━━━━━━━━━━━━\u001b[0m \u001b[32m2.5/2.5 MB\u001b[0m \u001b[31m69.0 MB/s\u001b[0m eta \u001b[36m0:00:00\u001b[0m\n",
            "\u001b[?25hCollecting myqlm-fermion>=1.0.0\n",
            "  Downloading myqlm_fermion-1.0.0-py3-none-any.whl (90 kB)\n",
            "\u001b[2K     \u001b[90m━━━━━━━━━━━━━━━━━━━━━━━━━━━━━━━━━━━━━━━━\u001b[0m \u001b[32m90.0/90.0 KB\u001b[0m \u001b[31m11.1 MB/s\u001b[0m eta \u001b[36m0:00:00\u001b[0m\n",
            "\u001b[?25hCollecting myqlm-clinalg>=0.0.4\n",
            "  Downloading myqlm_clinalg-0.0.4-cp38-cp38-manylinux1_x86_64.whl (498 kB)\n",
            "\u001b[2K     \u001b[90m━━━━━━━━━━━━━━━━━━━━━━━━━━━━━━━━━━━━━━\u001b[0m \u001b[32m498.3/498.3 KB\u001b[0m \u001b[31m41.6 MB/s\u001b[0m eta \u001b[36m0:00:00\u001b[0m\n",
            "\u001b[?25hCollecting qat-devices>=0.2.0\n",
            "  Downloading qat_devices-0.2.0-cp38-cp38-manylinux1_x86_64.whl (252 kB)\n",
            "\u001b[2K     \u001b[90m━━━━━━━━━━━━━━━━━━━━━━━━━━━━━━━━━━━━━━\u001b[0m \u001b[32m252.7/252.7 KB\u001b[0m \u001b[31m25.3 MB/s\u001b[0m eta \u001b[36m0:00:00\u001b[0m\n",
            "\u001b[?25hCollecting myqlm-simulators>=1.7.1\n",
            "  Downloading myqlm_simulators-1.7.1-py3-none-any.whl (19 kB)\n",
            "Collecting qat-variational>=1.4.0\n",
            "  Downloading qat_variational-1.4.0-cp38-cp38-manylinux1_x86_64.whl (1.6 MB)\n",
            "\u001b[2K     \u001b[90m━━━━━━━━━━━━━━━━━━━━━━━━━━━━━━━━━━━━━━━━\u001b[0m \u001b[32m1.6/1.6 MB\u001b[0m \u001b[31m49.3 MB/s\u001b[0m eta \u001b[36m0:00:00\u001b[0m\n",
            "\u001b[?25hRequirement already satisfied: networkx in /usr/local/lib/python3.8/dist-packages (from myqlm-contrib>=1.7.1->myqlm) (2.8.8)\n",
            "Requirement already satisfied: pytest in /usr/local/lib/python3.8/dist-packages (from myqlm-fermion>=1.0.0->myqlm) (3.6.4)\n",
            "Collecting bitstring\n",
            "  Downloading bitstring-4.0.1-py3-none-any.whl (45 kB)\n",
            "\u001b[2K     \u001b[90m━━━━━━━━━━━━━━━━━━━━━━━━━━━━━━━━━━━━━━━━\u001b[0m \u001b[32m45.6/45.6 KB\u001b[0m \u001b[31m4.6 MB/s\u001b[0m eta \u001b[36m0:00:00\u001b[0m\n",
            "\u001b[?25hCollecting anytree\n",
            "  Downloading anytree-2.8.0-py2.py3-none-any.whl (41 kB)\n",
            "\u001b[2K     \u001b[90m━━━━━━━━━━━━━━━━━━━━━━━━━━━━━━━━━━━━━━━━\u001b[0m \u001b[32m41.7/41.7 KB\u001b[0m \u001b[31m4.9 MB/s\u001b[0m eta \u001b[36m0:00:00\u001b[0m\n",
            "\u001b[?25hRequirement already satisfied: numpy in /usr/local/lib/python3.8/dist-packages (from myqlm-fermion>=1.0.0->myqlm) (1.21.6)\n",
            "Requirement already satisfied: tqdm in /usr/local/lib/python3.8/dist-packages (from myqlm-fermion>=1.0.0->myqlm) (4.64.1)\n",
            "Requirement already satisfied: scipy in /usr/local/lib/python3.8/dist-packages (from myqlm-fermion>=1.0.0->myqlm) (1.7.3)\n",
            "Collecting thrift==0.16.0\n",
            "  Downloading thrift-0.16.0.tar.gz (59 kB)\n",
            "\u001b[2K     \u001b[90m━━━━━━━━━━━━━━━━━━━━━━━━━━━━━━━━━━━━━━━━\u001b[0m \u001b[32m59.6/59.6 KB\u001b[0m \u001b[31m6.7 MB/s\u001b[0m eta \u001b[36m0:00:00\u001b[0m\n",
            "\u001b[?25h  Preparing metadata (setup.py) ... \u001b[?25l\u001b[?25hdone\n",
            "Requirement already satisfied: six>=1.7.2 in /usr/local/lib/python3.8/dist-packages (from thrift==0.16.0->qat-comm>=1.4.2->myqlm) (1.15.0)\n",
            "Requirement already satisfied: Pillow in /usr/local/lib/python3.8/dist-packages (from qat-core>=1.6.1->myqlm) (7.1.2)\n",
            "Collecting svgwrite\n",
            "  Downloading svgwrite-1.4.3-py3-none-any.whl (67 kB)\n",
            "\u001b[2K     \u001b[90m━━━━━━━━━━━━━━━━━━━━━━━━━━━━━━━━━━━━━━━━\u001b[0m \u001b[32m67.1/67.1 KB\u001b[0m \u001b[31m7.2 MB/s\u001b[0m eta \u001b[36m0:00:00\u001b[0m\n",
            "\u001b[?25hRequirement already satisfied: matplotlib in /usr/local/lib/python3.8/dist-packages (from qat-core>=1.6.1->myqlm) (3.2.2)\n",
            "Requirement already satisfied: dill in /usr/local/lib/python3.8/dist-packages (from qat-core>=1.6.1->myqlm) (0.3.6)\n",
            "Collecting wand\n",
            "  Downloading Wand-0.6.10-py2.py3-none-any.whl (142 kB)\n",
            "\u001b[2K     \u001b[90m━━━━━━━━━━━━━━━━━━━━━━━━━━━━━━━━━━━━━━\u001b[0m \u001b[32m142.8/142.8 KB\u001b[0m \u001b[31m14.8 MB/s\u001b[0m eta \u001b[36m0:00:00\u001b[0m\n",
            "\u001b[?25hCollecting ply==3.11\n",
            "  Downloading ply-3.11-py2.py3-none-any.whl (49 kB)\n",
            "\u001b[2K     \u001b[90m━━━━━━━━━━━━━━━━━━━━━━━━━━━━━━━━━━━━━━━━\u001b[0m \u001b[32m49.6/49.6 KB\u001b[0m \u001b[31m5.8 MB/s\u001b[0m eta \u001b[36m0:00:00\u001b[0m\n",
            "\u001b[?25hCollecting pyDOE\n",
            "  Downloading pyDOE-0.3.8.zip (22 kB)\n",
            "  Preparing metadata (setup.py) ... \u001b[?25l\u001b[?25hdone\n",
            "Requirement already satisfied: cycler>=0.10 in /usr/local/lib/python3.8/dist-packages (from matplotlib->qat-core>=1.6.1->myqlm) (0.11.0)\n",
            "Requirement already satisfied: python-dateutil>=2.1 in /usr/local/lib/python3.8/dist-packages (from matplotlib->qat-core>=1.6.1->myqlm) (2.8.2)\n",
            "Requirement already satisfied: kiwisolver>=1.0.1 in /usr/local/lib/python3.8/dist-packages (from matplotlib->qat-core>=1.6.1->myqlm) (1.4.4)\n",
            "Requirement already satisfied: pyparsing!=2.0.4,!=2.1.2,!=2.1.6,>=2.0.1 in /usr/local/lib/python3.8/dist-packages (from matplotlib->qat-core>=1.6.1->myqlm) (3.0.9)\n",
            "Requirement already satisfied: py>=1.5.0 in /usr/local/lib/python3.8/dist-packages (from pytest->myqlm-fermion>=1.0.0->myqlm) (1.11.0)\n",
            "Requirement already satisfied: attrs>=17.4.0 in /usr/local/lib/python3.8/dist-packages (from pytest->myqlm-fermion>=1.0.0->myqlm) (22.2.0)\n",
            "Requirement already satisfied: pluggy<0.8,>=0.5 in /usr/local/lib/python3.8/dist-packages (from pytest->myqlm-fermion>=1.0.0->myqlm) (0.7.1)\n",
            "Requirement already satisfied: atomicwrites>=1.0 in /usr/local/lib/python3.8/dist-packages (from pytest->myqlm-fermion>=1.0.0->myqlm) (1.4.1)\n",
            "Requirement already satisfied: setuptools in /usr/local/lib/python3.8/dist-packages (from pytest->myqlm-fermion>=1.0.0->myqlm) (57.4.0)\n",
            "Requirement already satisfied: more-itertools>=4.0.0 in /usr/local/lib/python3.8/dist-packages (from pytest->myqlm-fermion>=1.0.0->myqlm) (9.0.0)\n",
            "Building wheels for collected packages: thrift, pyDOE\n",
            "  Building wheel for thrift (setup.py) ... \u001b[?25l\u001b[?25hdone\n",
            "  Created wheel for thrift: filename=thrift-0.16.0-cp38-cp38-linux_x86_64.whl size=349381 sha256=7ae47212d168fa945d17e5a569dc1c1cae8509cda4d643331cab938d58927129\n",
            "  Stored in directory: /root/.cache/pip/wheels/c1/03/53/7220f8aeecbf2c66ef655a9cff1929299e38119502a316ae30\n",
            "  Building wheel for pyDOE (setup.py) ... \u001b[?25l\u001b[?25hdone\n",
            "  Created wheel for pyDOE: filename=pyDOE-0.3.8-py3-none-any.whl size=18184 sha256=b452ca4e366408ef4b4ddba93b9a6e6ca4adfe3fa008b80e981b5ee074725619\n",
            "  Stored in directory: /root/.cache/pip/wheels/00/3e/fa/5705bf59c2053c17c4799c3ab66a2e356c32f40a3044fe2134\n",
            "Successfully built thrift pyDOE\n",
            "Installing collected packages: wand, ply, thrift, svgwrite, bitstring, anytree, qat-comm, pyDOE, qat-core, qat-lang, qat-devices, myqlm-contrib, qat-variational, myqlm-clinalg, myqlm-simulators, myqlm-fermion, myqlm\n",
            "Successfully installed anytree-2.8.0 bitstring-4.0.1 myqlm-1.7.2 myqlm-clinalg-0.0.4 myqlm-contrib-1.7.1 myqlm-fermion-1.0.0 myqlm-simulators-1.7.1 ply-3.11 pyDOE-0.3.8 qat-comm-1.4.2 qat-core-1.6.2 qat-devices-0.2.0 qat-lang-2.2.1 qat-variational-1.4.0 svgwrite-1.4.3 thrift-0.16.0 wand-0.6.10\n"
          ]
        }
      ]
    },
    {
      "cell_type": "markdown",
      "id": "536219fc",
      "metadata": {
        "id": "536219fc"
      },
      "source": [
        "### Question1 :\n",
        "Write down in the cell below the Hamiltonian whose ground state is the solution to MaxCUT on an input graph $G=(V,E)$:"
      ]
    },
    {
      "cell_type": "markdown",
      "id": "fd36b562",
      "metadata": {
        "id": "fd36b562"
      },
      "source": [
        "$$ H = \\sum_{i,j\\in E} \\sigma_i \\cdot \\sigma_j $$\n",
        "\n",
        "NB: The eigenvalue (so the energy) of this hamiltonian for a particular subgraph S is:\n",
        "\n",
        "$$ E_{S} = \\sum_{i \\in S, j \\in S}(1-2*1)(1-2*1) +  \\sum_{i \\in S, j \\in E\\setminus S}(1-2*1)(1-2*0) + \\sum_{i \\in S, j \\in E\\setminus S}(1-2*0)(1-2*0)\n",
        "\\\\\n",
        "= \\sum_{i \\in S, j \\in S}1 +  \\sum_{i \\in S, j \\in E\\setminus S}(-1) + \\sum_{i \\in S, j \\in E\\setminus S}1\n",
        "$$ \n",
        "Which is minimized when the number of \"cut\" edges (number of element inside $\\left\\lbrace (i,j)\\in V | \\quad  i \\in S, j \\in E\\setminus S \\right\\rbrace$)  is maximized. "
      ]
    },
    {
      "cell_type": "markdown",
      "id": "b045f8b7",
      "metadata": {
        "id": "b045f8b7"
      },
      "source": [
        "### Question 2:\n",
        "Complete the implementation below of a simple, brute-force enumeration of all states computing the optimal solution to MaxCUT for the graph represented by 'edges'"
      ]
    },
    {
      "cell_type": "code",
      "execution_count": null,
      "id": "7bc976fa",
      "metadata": {
        "colab": {
          "base_uri": "https://localhost:8080/"
        },
        "id": "7bc976fa",
        "outputId": "bb1a134b-7a57-4c49-dbf5-3cde2c80e1fb"
      },
      "outputs": [
        {
          "output_type": "stream",
          "name": "stdout",
          "text": [
            "-5\n",
            "[1, 0, 0, 1, 1]\n"
          ]
        }
      ],
      "source": [
        "import numpy as np\n",
        "\n",
        "graph1 = [(0,1),(0,2),(1,3),(2,3)]\n",
        "graph2 = [(0,1),(1,2),(0,3),(1,4),(2,5),(3,6),(4,7),(5,8),(3,4),(4,5),(6,7),(7,8)]\n",
        "graph3 = [(0,1),(1,2),(0,3),(1,4),(2,5),(3,6),(4,7),(3,4),(4,5),(6,7)]\n",
        "graph4 = [(0,1),(1,2),(2,3),(4,5),(5,6),(6,7),(0,4),(1,5),(2,6),(3,7)]\n",
        "graph5 = [(0,1),(0,2),(1,3),(2,4),(3,5),(4,5),(1,4)]\n",
        "graph6 = [(0,1),(0,2),(1,3),(2,4),(1,4)]\n",
        "\n",
        "\n",
        "# choice of graph\n",
        "edges = graph6\n",
        "\n",
        "nqubits = max([max(list(v)) for v in edges])+1 #Nombre d arretes\n",
        "\n",
        "#nqubits = 5\n",
        "graph7 = [(i,(i+1)%nqubits) for i in range(nqubits)]+[(1,4)]\n",
        "\n",
        "\n",
        "# COMPUTATION OF OPT.\n",
        "best_value = len(edges)\n",
        "best_b = 0\n",
        "for x in range(2**nqubits):\n",
        "    b = np.binary_repr(x, width=nqubits)\n",
        "    b = [int(b[i]) for i in range(nqubits)]\n",
        "    # TODO: Complete the computation below:\n",
        "    val = 0\n",
        "\n",
        "    for (i,j) in edges:                   #We check all the edges of the graph \n",
        "      val = val + (1-2*b[i])*(1-2*b[j])   #We compute the value of the hamiltonian\n",
        "\n",
        "    # END TODO\n",
        "    if val <= best_value:\n",
        "        best_value = val\n",
        "        best_b = b\n",
        "print(best_value)\n",
        "print(best_b)"
      ]
    },
    {
      "cell_type": "markdown",
      "id": "4bed0ead",
      "metadata": {
        "id": "4bed0ead"
      },
      "source": [
        "#### visualization of the graph"
      ]
    },
    {
      "cell_type": "code",
      "execution_count": null,
      "id": "11a7d2a7",
      "metadata": {
        "colab": {
          "base_uri": "https://localhost:8080/",
          "height": 247
        },
        "id": "11a7d2a7",
        "outputId": "6388099c-8688-4596-f6ec-b86f74d850e5"
      },
      "outputs": [
        {
          "output_type": "display_data",
          "data": {
            "text/plain": [
              "<Figure size 432x288 with 1 Axes>"
            ],
            "image/png": "[encoded data removed]"
          },
          "metadata": {}
        }
      ],
      "source": [
        "import networkx as nx\n",
        "G = nx.Graph()\n",
        "for i,j in edges:\n",
        "    G.add_edge(i,j)\n",
        "nx.draw_networkx(G)"
      ]
    },
    {
      "cell_type": "code",
      "execution_count": null,
      "id": "1bcf8886",
      "metadata": {
        "id": "1bcf8886"
      },
      "outputs": [],
      "source": [
        "from qat.lang.AQASM import Program, H, CNOT, RX, QRoutine, RZ, X, Z"
      ]
    },
    {
      "cell_type": "code",
      "execution_count": null,
      "id": "f125405c",
      "metadata": {
        "id": "f125405c"
      },
      "outputs": [],
      "source": [
        "def U_ZZ(theta):\n",
        "    \n",
        "    zz_r = QRoutine()\n",
        "    zz_r.apply(CNOT, 0, 1)\n",
        "    zz_r.apply(RZ(theta), 1) # difference of convention between implemented version and what we need.\n",
        "    zz_r.apply(CNOT, 0, 1)\n",
        "\n",
        "    return zz_r"
      ]
    },
    {
      "cell_type": "markdown",
      "id": "b87e91ed",
      "metadata": {
        "id": "b87e91ed"
      },
      "source": [
        "### Question 3"
      ]
    },
    {
      "cell_type": "markdown",
      "source": [
        "We know from Question 1 that \n",
        "$$H_e(i,j) = \\sigma_i \\sigma_j $$ \n",
        "Where $\\sigma_i$ and $\\sigma_j$ are rotation on the $z$-axis. So, dealing with the evolution of the system under this hamiltonian is equivalent to apply a $z$-rotation on two different qubits. Hence the need of $U_{zz}$ gate on every edges of the graph."
      ],
      "metadata": {
        "id": "MkoGTCXPQHcM"
      },
      "id": "MkoGTCXPQHcM"
    },
    {
      "cell_type": "code",
      "execution_count": null,
      "id": "27954bb3",
      "metadata": {
        "id": "27954bb3"
      },
      "outputs": [],
      "source": [
        "def one_qaoa_layer(n_qubits, edges, theta, beta):\n",
        "\n",
        "    layer = QRoutine()\n",
        "    #TODO: implement one qaoa layer\n",
        "\n",
        "    ## COMMENTS\n",
        "    #     We want to apply the following gates: rotation and temporal evolution \n",
        "\n",
        "    for qubit in range(n_qubits):           #Apply a rotation to each qubit\n",
        "      layer.apply(RX(theta), qubit)\n",
        "\n",
        "    for binome in edges:            #For every edges of the graphs... \n",
        "      q1, q2 = binome\n",
        "      layer.apply(U_ZZ(beta), q1, q2) #... we apply time evolution under the hamiltonian\n",
        "\n",
        "    return layer"
      ]
    },
    {
      "cell_type": "markdown",
      "id": "bd0c36a5",
      "metadata": {
        "id": "bd0c36a5"
      },
      "source": [
        "### Question 4"
      ]
    },
    {
      "cell_type": "code",
      "execution_count": null,
      "id": "655a9aaa",
      "metadata": {
        "id": "655a9aaa"
      },
      "outputs": [],
      "source": [
        "from qat.qpus import get_default_qpu\n",
        "\n",
        "def evaluate_parameters(n_qubits, edges, parameters, n_layers):\n",
        "    \n",
        "    prog = Program()\n",
        "    qubits = prog.qalloc(n_qubits)\n",
        "    \n",
        "    # TODO: implement initialization+parameterized circuit\n",
        "\n",
        "    for n in range(n_qubits):    #initialization\n",
        "      prog.apply(H, qubits[n])\n",
        "\n",
        "    for i in range(n_layers):   #We apply a the one_qaoa_layer n_layers times \n",
        "      prog.apply(one_qaoa_layer(n_qubits, edges, parameters[i*2], parameters[i*2+1]),qubits)\n",
        "        \n",
        "    # END TODO\n",
        "    circ = prog.to_circ()\n",
        "    \n",
        "    job = circ.to_job()\n",
        "    qpu = get_default_qpu()\n",
        "    \n",
        "    result = qpu.submit(job)\n",
        "    \n",
        "    # BEGIN TODO\n",
        "    obs = 0\n",
        "    for sample in result:\n",
        "        \n",
        "        # this loop is over all 2**nqubits states.\n",
        "        # sample.state.bitstring contains the qubit values (nqubits 0 or 1)\n",
        "\n",
        "        #We compute the mean value of the observable\n",
        "        b = sample.state.bitstring #get one state\n",
        "        val = 0\n",
        "        for (i,j) in edges :\n",
        "          val = val+(1-2*int(b[i]))*(1-2*int(b[j]))\n",
        "\n",
        "        obs = obs+ sample.probability*val #We add the value taking into account the probability\n",
        "\n",
        "    # END TODO\n",
        "    return obs\n",
        "    \n",
        "        "
      ]
    },
    {
      "cell_type": "code",
      "execution_count": null,
      "id": "88963901",
      "metadata": {
        "id": "88963901",
        "colab": {
          "base_uri": "https://localhost:8080/"
        },
        "outputId": "11168301-6721-4c76-81c0-b6587f76e2d6"
      },
      "outputs": [
        {
          "output_type": "execute_result",
          "data": {
            "text/plain": [
              "array([0.40211618, 0.86204044, 0.46493177])"
            ]
          },
          "metadata": {},
          "execution_count": 8
        }
      ],
      "source": [
        "import numpy as np\n",
        "np.random.random(3)"
      ]
    },
    {
      "cell_type": "code",
      "execution_count": null,
      "id": "42557843",
      "metadata": {
        "id": "42557843"
      },
      "outputs": [],
      "source": [
        "from scipy.optimize import minimize\n"
      ]
    },
    {
      "cell_type": "markdown",
      "id": "0846a6dd",
      "metadata": {
        "id": "0846a6dd"
      },
      "source": [
        "### Random initialisation"
      ]
    },
    {
      "cell_type": "markdown",
      "id": "f679d3e0",
      "metadata": {
        "id": "f679d3e0"
      },
      "source": [
        "### Question 5: \n",
        "réponse à la question: 8"
      ]
    },
    {
      "cell_type": "code",
      "execution_count": null,
      "id": "36f6e279",
      "metadata": {
        "id": "36f6e279",
        "colab": {
          "base_uri": "https://localhost:8080/",
          "height": 317
        },
        "outputId": "0aed57b0-85f1-4b0d-b2d3-bc8ebf21f211"
      },
      "outputs": [
        {
          "output_type": "stream",
          "name": "stdout",
          "text": [
            "-2.686096587488641 -3.407857530327894 -3.7913013668822964 -4.352165181833983 -4.557883383026735 -4.6473826344827955 -4.689454164759638 -4.699261277632343 -4.716980627254801 -4.747275686801405 -4.762816200026868 -4.768904211700426 -4.776106172080178 -4.780825596664474 -4.782595922736685 -4.785205337704405 -4.788851602766117 -4.79462434020766 -4.799184516555383 -4.807046867179494 -4.818968004712029 -4.82650760431935 -4.829953392968255 -4.834083295291339 -4.836595163133801 -4.83803579617727 -4.838713241552922 -4.839437120737601 -4.840150954677061 -4.840248484587405 -4.840386388089227 -4.840462614877146 -4.840517270720953 -4.840577242398784 -4.840637525900527 -4.840740602452171 -4.84092311267062 -4.8411715376449385 -4.841477432939292 -4.842022762196985 -4.842634477156187 -4.843583422219438 -4.844397745543969 -4.845601525095109 -4.8463039321638135 -4.847603110429983 -4.849842211245974 -4.852151838479716 -4.854985064544588 -4.857425068145012 -4.858554372623893 -4.85925060072604 -4.860321264124718 -4.861923602793136 -4.864308176468801 -4.867327877496203 -4.8693091356681455 -4.871651863004292 -4.8732014401580575 -4.874991484317258 -4.878354824789772 -4.880443564659108 -4.88299818028979 -4.885870730105674 -4.889858713403258 -4.891435005262988 -4.893046587358653 -4.893267565145795 -4.8936576036013335 -4.894264943772169 -4.894652680640257 -4.894728987115958 -4.89484295736437 -4.894966394431943 -4.89515425053683 -4.89547476402593 -4.8960120732388965 -4.896727350522534 -4.897077773498911 -4.897172708123018 -4.897190621035608 -4.897210421067988 -4.897213272927758 -4.897214651135153 -4.897215098572605 -4.897215396114766 -4.897215724955667 -4.897216221631996 -4.897216892485017 -4.8972179763354715 -4.8972197245992986 -4.897222314572905 -4.897224442213274 -4.8972253204866405 -4.897225465973051 -4.897225473941134 -4.8972254742300665 -0.4001766108653837 -1.5959428947129268 -2.976834153137534 -3.1745032214269244 -3.523952836653474 -3.7454742901785067 -3.8547881277867893 -3.951066639241384 -4.067162898699639 -4.109800668724502 -4.328446119812974 -4.431381407380423 -4.486083846896077 -4.563489981247777 -4.61061193235576 -4.647068232213212 -4.693835761965338 -4.714837290493812 -4.74270993361921 -4.750706135163152 -4.754682365823883 -4.75918223537388 -4.762526607789306 -4.763918433854396 -4.76566490171394 -4.767236811709897 -4.769086421417745 -4.771610338139598 -4.773855497453992 -4.7762694391111955 -4.776859397045788 -4.77748018777902 -4.778280495332895 -4.779287070568742 -4.780579706045167 -4.781125727011244 -4.781903420785391 -4.782783134914646 -4.784253451754456 -4.786515747242001 -4.7887126069940065 -4.789335521142372 -4.790471511662785 -4.792495602086625 -4.795614183492344 -4.7976286758078555 -4.79831806107326 -4.799285976376123 -4.799890821529169 -4.8001538650453766 -4.800379264777559 -4.800547988425731 -4.800777946190834 -4.801146074086023 -4.801746516235433 -4.802606074437 -4.803369540037442 -4.803866877918998 -4.8046165849183895 -4.805483021641094 -4.806342677221898 -4.807013060405765 -4.807528192916718 -4.80793229316426 -4.808131305102894 -4.80831255278323 -4.808451893314815 -4.808644007272012 -4.80895287342819 -4.809276184825135 -4.809355130325645 -4.809471433077794 -4.809564755761266 -4.8096914380804305 -4.809904929010374 -4.810245086864742 -4.810632082622876 -4.811138625167292 -4.811676955906431 -4.812064245961998 -4.812411810346176 -4.812595857093664 -4.812858538470791 -4.813186398744711 -4.813374826867522 -4.813597634520357 -4.813847265025413 -4.814039246345634 -4.814169174401594 -4.814296300930741 -4.81451869124904 -4.814884588534304 -4.815455188717561 -4.816447185147634 -4.818076469610519 -4.8202122351335195 -4.821576082350126 -4.823709170479012 -4.8258199782872975 -4.828731372748588 -4.830477242917928 -4.832720951879725 -4.834065241032697 -4.8358702353084535 -4.837563847181838 -4.838493987807648 -4.8395641894264525 -4.840397405443414 -4.84136163124934 -4.842027186440254 -4.842754891281741 -4.842828029649126 -4.842952708436728 -4.843115248900303 -4.843241885926035 -4.843377555743281 -4.843618227442804 -4.843948502770213 -4.84405669889972 -4.844119711964209 -4.844228931373412 -4.844431018822069 -4.844807408583325 -4.845486072501314 -4.846604707923634 -4.847290549076547 -4.848103657672481 -4.8486173329194315 -4.849058755901637 -4.849310471422287 -4.849496644789243 -4.849669105103195 -4.849962894738469 -4.860067894394415 -4.86031787573603 -4.860790671213358 -4.865268312410196 -4.873653898513344 -4.888308779392331 -4.908196844172663 -4.9137446647104 -4.917166999229625 -4.92034816518582 -4.923874041316012 -4.925811846181673 -4.92792695490964 -4.929204386176148 -4.930847179941787 -4.932817894259976 -4.934840838078704 -4.9380799378688875 -4.942989258085749 -4.945292494154169 -4.948793953129967 -4.951923203939438 -4.9528065317216265 -4.953145937006767 -4.953204034115916 -4.953252809001225 -4.953265528995515 -4.95327602456825 -4.953292157422453 -4.95331857046461 -4.953364878846298 -4.953447823354868 -4.953593899931741 -4.953833419487468 -4.954146822205184 -4.954334209664058 -4.954568509403053 -4.954711772018062 -4.954944129848051 -4.955319793902702 -4.955883321619541 -4.956613088513432 -4.957059828302421 -4.957726988410335 -4.958305465117944 -4.958657045498204 -4.95891422800096 -4.958960494649563 -4.958990806488324 -4.959014979014001 -4.959033825269444 -4.959060144118759 -4.959103053193336 -4.959169579212636 -4.959238717727742 -4.959338001867662 -4.959501078706541 -4.959629367940474 -4.959861331931352 -4.960251129841085 -4.9607648409748935 -4.9609329270304325 -4.961127548967996 -4.961448900147846 -4.961984671511987 -4.96234830327118 -4.962463343860585 -4.962512745653547 -4.962581794000282 -4.962651256571755 -4.962692604851341 -4.962725996497331 -4.962739066503722 -4.962744911802319 -4.962746656087756 -4.962747404885988 -4.96274796342964 -4.9627489307594335 -4.962750571597114 -4.962753211834101 -4.962757049369032 -4.962760692682799 -4.962763560102337 -4.962764072929491 -4.9627641105141675 -4.962764114382999 -4.962764114593223 -4.962764114713662 0.3959897513504987 -0.3772878632093918 -0.7886403619371488 -1.1151826008340298 -1.4077592707198063 -1.6757484483878056 -1.9973192733777883 -2.0716236480093437 -2.216356656999381 -2.4709343280541067 -2.8366071062610168 -3.070360495442838 -3.135056258502015 -3.2444583196805645 -3.6266711056199905 -3.724460922219397 -3.8189227362793963 -3.9911629134332305 -4.197551234265061 -4.237151167994542 -4.296425944228905 -4.386581567748513 -4.445739045748753 -4.516270826251525 -4.630998139020197 -4.65878368623247 -4.679863161528876 -4.694805692413942 -4.698339786361466 -4.704812454593651 -4.715533431045233 -4.725147935281326 -4.731514752688958 -4.741165924216541 -4.7526538306419415 -4.764751712839602 -4.775025887079853 -4.780225542104173 -4.782674224599416 -4.785934568703954 -4.787394615592192 -4.788308338794289 -4.78950345976287 -4.790319515351376 -4.791024226279564 -4.791855024737873 -4.7933182253557876 -4.795579219070499 -4.798149815732856 -4.802087593992264 -4.808372472691291 -4.8118757392160925 -4.815788010342388 -4.817287347779258 -4.81879384712347 -4.820798551332047 -4.821972783402959 -4.823614924786599 -4.825263222940725 -4.827651761384171 -4.8295922178233335 -4.8300593985584985 -4.830898800743141 -4.832304899027301 -4.834194061184876 -4.835327836445553 -4.836338828860196 -4.83751279551883 -4.838590891714157 -4.838995934488592 -4.839146698260655 -4.839419764871652 -4.839920824716437 -4.840783542193216 -4.841416276710201 -4.84186612129535 -4.842306326076037 -4.842855743209668 -4.843320178924203 -4.843774798409162 -4.844503535843286 -4.84501175557424 -4.8456483092297225 -4.846060226375597 -4.846539783956737 -4.846834451333507 -4.847156275760402 -4.847401835450792 -4.847671395064454 -4.8481530983272805 -4.849032533475932 -4.850567064345694 -4.85159251580394 -4.85202110178273 -4.852680037146572 -4.853575266764304 -4.8541789877360335 -4.854949841327607 -4.855760415342979 -4.856512201535848 -4.857601022796238 -4.859017004035485 -4.85994828809652 -4.861295902107714 -4.863537283752514 -4.866851915878987 -4.869469546853869 -4.871441474751871 -4.87451934808935 -4.876595220557286 -4.878482906616395 -4.88059492028185 -4.882746658828173 -4.885785061282058 -4.888800877447973 -4.894063311486556 -4.902143089785139 -4.90555009762467 -4.909791508759122 -4.9112112384450874 -4.913246088421819 -4.915243445214431 -4.916928316667909 -4.918282469682736 -4.919173121380166 -4.919766000586484 -4.9202957631403805 -4.921205461207441 -4.92244359086245 -4.922950825132884 -4.923602796060979 -4.9239024817283 -4.924012398107197 -4.924052914823185 -4.92406789501736 -4.924083863329365 -4.924104226399834 -4.924136110950377 -4.9241787012422575 -4.924210412572245 -4.9242388850087515 -4.924281434234948 -4.924337087370029 -4.924409332510995 -4.924521385203105 -4.924721543554403 -4.92508434573471 -4.925606110458743 -4.9259749509173805 -4.926525575755159 -4.927387634244536 -4.928431534006959 -4.9290496503728205 -4.929791541662039 -4.930080205699973 -4.930580212736624 -4.931435959090507 -4.9329732265118285 -4.935568463427027 -4.9388290806495485 -4.941643962790511 -4.944431865054903 -4.947064468162852 -4.948595430953156 -4.95074630969559 -4.952215568990113 -4.953332516739821 -4.953901705277543 -4.954261430175515 -4.954618466606272 -4.95498311645415 -4.955659249598624 -4.9565351156493165 -4.957511026082963 -4.958687182893106 -4.958880197660566 -4.958979748666157 -4.959075754708318 -4.959120301698857 -4.959202768755703 -4.959347975988534 -4.959566098808664 -4.959727575238624 -4.9598473983568185 -4.96004334096577 -4.960395914060218 -4.960872137139239 -4.9615009120040074 -4.962182491646959 -4.962994164929606 -4.963686047345333 -4.9640303837449755 -4.9640940596888825 -4.964119812017199 -4.964132982971582 -4.964144464878872 -4.964150844588561 -4.964162292029945 -4.964183173624951 -4.964221325576224 -4.964290642717383 -4.964372738272965 -4.964433082998271 -4.964506104801735 -4.964532160067393 -4.964574730039679 -4.964632657898169 -4.964731172169931 -4.964907214493486 -4.96518238199751 -4.965598494502499 -4.965913017298387 -4.966480601067235 -4.9674735024428545 -4.968874500183937 -4.9693260918874556 -4.969494947253454 -4.969763185330488 -4.970147506589334 -4.970376037028219 -4.970538449076169 -4.970729386215466 -4.9709341242765275 -4.971091969120663 -4.97134302384111 -4.971654077671935 -4.972198667264545 -4.9730896259050885 -4.97346611115281 -4.974053402400738 -4.9745470262919795 -4.974685228873204 -4.97489838644513 -4.975161430519953 -4.975465491163164 -4.975766619258828 -4.97620575846968 -4.97686122542367 -4.977399303065572 -4.977764577443391 -4.977946891904035 -4.978177877752624 -4.978272301769729 -4.978363971531698 -4.978492964440635 -4.978690788335707 -4.978813122469087 -4.978949947626209 -4.979042408273942 -4.979105749051848 -4.97912178834046 -4.979137848810342 -4.979164965406749 -4.9792133021457365 -4.979300851780724 -4.9794584838176155 -4.979738037880823 -4.980231397713177 -4.981048525917599 -4.981459285140196 -4.9819125448610615 -4.982227812851631 -4.982615266244483 -4.9826634473076465 -4.98273954373201 -4.982829536221835 -4.982892267140776 -4.982994757559699 -4.983085455830181 -4.98310763304712 -4.983122755322706 -4.983148289660728 -4.983187525212528 -4.983231297611678 -4.983269474898467 -4.983292162342934 -4.983307327898956 -4.983330279156008 -4.9833716941244495 -4.983449563553811 -4.983596679848023 -4.983866422708425 -4.984282716089817 -4.984648057449565 -4.985124411445456 -4.9857482743312636 -4.986453580933727 -4.986749637975819 -4.986875644002536 -4.9870408038717935 -4.987175395267037 -4.987336271478573 -4.9874341722079025 -4.987533336961895 -4.987721599722699 -4.98807719470579 -4.988723962834762 -4.98965846357225 -4.990857142504473 -4.991211514786777 -4.99169117787173 -4.992130101276234 -4.992324544729846 -4.992431450651729 -4.992493652122561 -4.992582865337776 -4.992712915324661 -4.992875435139679 -4.993074189140455 -4.993385944746679 -4.993848520789585 -4.994385078462063 -4.994628498518468 -4.99493938333374 -4.995072048602522 -4.995166197225248 -4.995228443966281 -4.995295834423687 -4.995356177942467 -4.995403361553306 -4.9954601752393035 -4.995512199387756 -4.99559804144292 -4.995722105248969 -4.995832490685118 -4.99596162239701 -4.995990726636273 -4.996040887429391 -4.996109960015577 -4.996142045089283 -4.996172881421856 -4.996214043407651 -4.996234746206726 -4.996270679924662 -4.996332725806797 -4.996429287789439 -4.996530048002986 -4.996588557129003 -4.996614308943155 -4.9966274451803745 -4.996643151851332 -4.996657027503831 -4.996672249479326 -4.996690508581223 -4.996717026737677 -4.996762737239007 -4.996837990678448 -4.99694058308958 -4.9970451795461415 -4.99716415295248 -4.997350880560547 -4.997516420263116 -4.997569320027408 -4.9976578036685595 -4.997786449602134 -4.997862180951854 -4.99788882959634 -4.99789482098456 -4.997905505129076 -4.997923404338453 -4.997943828691383 -4.997956771751239 -4.997976611465087 -4.9979995302153615 -4.998008319652839 -4.99801783344094 -4.998021089951317 -4.998021667722593 -4.998022266336241 -4.998022553811987 -4.9980227272780455 -4.998022912874506 -4.998023072274609 -4.998023191618558 -4.998023233527327 -4.998023248285689 -4.998023256851259 -4.99802325993217 -4.998023261040282 -4.998023261352982 -4.998023261924438 -4.998023262976968 -4.998023264980691 -4.998023268752147 -4.998023275770481 -4.998023288410128 -4.998023310443967 -4.998023347500289 -4.998023409400153 -4.998023514630471 -4.998023695999834 -4.998024021857136 -4.99802460909767 -4.998025634512057 -4.998027225493508 -4.998028970620836 -4.9980313350171315 -4.998032006137876 -4.9980332385012405 -4.99803488335797 -4.998035686896226 -4.998037005074249 -4.998039123943984 -4.998041083964685 -4.998042106974685 -4.998043718490484 -4.998045680715412 -4.998046589990687 -4.998047777289229 -4.9980487059787375 -4.998049925338708 -4.998051989236402 -4.998055325126198 -4.998057397793269 -4.9980586416401005 -4.998060220998863 -4.998062001843042 -4.998062565231574 -4.9980636063056005 -4.998065527747233 -4.9980688608835875 -4.998072502813682 -4.998073366424887 -4.998074838295557 -4.998077024087601 -4.998080122841878 -4.99808379623312 -4.998085834869622 -4.998088046173057 -4.998090634487496 -4.998092986049274 -4.998096345640471 -4.998101475426231 -4.998105672477215 -4.998106889501837 -4.998108866107058 -4.998112058816224 -4.998117027002779 -4.998123153099275 -4.99813050899276 -4.998134954018972 -4.998136641446014 -4.9981395708135015 -4.998144419435361 -4.998149131193192 -4.998155361003422 -4.998162352592055 -4.998166967866112 -4.998173678870325 -4.998181584462343 -4.998186892515632 -4.998190338524819 -4.998193372160479 -4.998197929012207 -4.998205880308788 -4.998217281576871 -4.998228315767356 -4.998236498087875 -4.998245861751081 -4.9982506916480975 -4.998258245067402 -4.998266011010043 -4.998271427363272 -4.9982741410202625 -4.9982784275088195 -4.9982822624202266 -4.998285958144047 -4.998291872214811 -4.998299277671817 -4.99830638476581 -4.998312168091464 -4.998313691493624 -4.998316573732557 -4.998321450415534 -4.998323554469765 -4.998325674527403 -4.998327059646072 -4.998328143350234 -4.99832964200894 -4.9983304883097475 -4.9983307586594306 -4.99833090651421 -4.998331079436067 -4.99833117662852 -4.998331189917214 -4.998331196801659 -4.998331202496135 -4.998331205509455 -4.998331207225314 -4.998331209717246 -4.998331213423984 -4.9983312176590315 -4.998331221049466 -4.998331222998417 -4.998331223193622 -4.998331223206 -4.998331223216277 -4.998331223216284 -4.998331223216306 0.24196377071446903 -0.3121777851444117 -1.1640277454799175 -1.7943917832600644 -1.8351836570178854 -2.4737904003440914 -2.627353481026884 -2.9088116465964897 -3.390083401166692 -3.784340280558404 -3.9395866729844125 -4.08997002128864 -4.211972251136517 -4.309559028266961 -4.434842422545151 -4.49978733919228 -4.528147780329318 -4.535716102836893 -4.5484311787528116 -4.5686052838530635 -4.59809425793179 -4.63079773796625 -4.648119105176479 -4.668369001403034 -4.692326690361572 -4.728663747093374 -4.751024110885247 -4.761555303010777 -4.778210278378629 -4.804671523036541 -4.833707149460843 -4.852323036137484 -4.875002223174245 -4.893266331768316 -4.9015877081284165 -4.907507835818967 -4.913869239351196 -4.91726496796834 -4.921780669977792 -4.929722444749321 -4.9408673233536105 -4.955481323314184 -4.9656523563213035 -4.970196394139393 -4.972468008831259 -4.975350732308486 -4.977266697978761 -4.9781108710206805 -4.979167173865793 -4.979842085512071 -4.98031465121653 -4.981147534083101 -4.982500079719481 -4.983833902536853 -4.9839943838919005 -4.984258459491552 -4.98450081122215 -4.9846069624308 -4.984752076923463 -4.984969547772331 -4.985136919170152 -4.985245244699546 -4.985412847971354 -4.9856433789967625 -4.985827384035951 -4.986045731928719 -4.986283171855608 -4.986539011590063 -4.986625333925205 -4.986748608463677 -4.986896388027555 -4.986984809194635 -4.987085102748677 -4.987189208821978 -4.987260183470232 -4.987351613001994 -4.987493083005325 -4.987678419636725 -4.987790101345395 -4.987946422625598 -4.988215180054604 -4.988469330666518 -4.988845531722218 -4.989296201592338 -4.989424615241734 -4.989566890497475 -4.98961611598329 -4.989690257559159 -4.9897442980735445 -4.989797826623755 -4.989857746316592 -4.989960655404597 -4.990101389199451 -4.990177896301436 -4.99029439525478 -4.990471219439765 -4.990653524865616 -4.990701760612261 -4.990774733716806 -4.990840000080124 -4.990869646175167 -4.9908894467968565 -4.990897930224009 -4.990906724921601 -4.990918228884937 -4.990936494146206 -4.9909649467220625 -4.990998899634969 -4.991023310411892 -4.991051565000771 -4.991065405675372 -4.991085543496216 -4.991114214725259 -4.9911599351294536 -4.991224757284171 -4.991302129815287 -4.991386477065678 -4.991472426576239 -4.991536610578996 -4.9916277913449045 -4.991754192064838 -4.991899299162699 -4.991986721696414 -4.992112186670978 -4.992210563731051 -4.9922963456898195 -4.992428813716073 -4.992571367572874 -4.992617607280782 -4.992674659214433 -4.992759556701128 -4.992843261088995 -4.992896346257009 -4.9929827070638675 -4.993106678223037 -4.9931970163693995 -4.993276817441371 -4.993358441514963 -4.993447282593232 -4.993532583479894 -4.993597906025455 -4.993687414946421 -4.993740941819838 -4.99381398067696 -4.9938451923484815 -4.993864059221099 -4.9938836145240275 -4.993909098096495 -4.993941614977354 -4.993986484401542 -4.9940508981936595 -4.994086391708091 -4.9941389474010816 -4.99417533732039 -4.994233433769531 -4.994295549054166 -4.994386120876325 -4.994470813524994 -4.994558887749381 -4.994622706624397 -4.994665985932083 -4.994722326163973 -4.994799912109028 -4.994897501905689 -4.994977319806119 -4.995075150619354 -4.995134078278487 -4.995178276122274 -4.995226248058013 -4.995260115323612 -4.995270827009102 -4.995284632945009 -4.995294500823606 -4.995309504820711 -4.995331448878744 -4.99536449014845 -4.99538778892628 -4.995424417123837 -4.995474590960187 -4.995521209989856 -4.995574844746295 -4.995603608110414 -4.995637306742184 -4.995646384433769 -4.995654654833728 -4.995658199190624 -4.995663373926555 -4.995668319629592 -4.995671582607409 -4.995676602876603 -4.9956832213735645 -4.995688433321009 -4.995691073364355 -4.995692528824148 -4.995693165861908 -4.9956935255172175 -4.995693634294889 -4.995693659828358 -4.995693699600639 -4.995693762465625 -4.995693866766627 -4.995694039408353 -4.995694311246548 -4.995694650238178 -4.995694923138459 -4.995695125448011 -4.99569519656851 -4.995695212513847 -4.995695216101621 -4.995695217989575 -4.9956952190940775 -4.995695220869412 -4.995695223947102 -4.99569522941058 -4.995695238355546 -4.9956952531713545 -4.995695276382848 -4.995695301584798 -4.995695315658125 -4.99569532255642 -4.995695323132338 -4.995695323141642 "
          ]
        },
        {
          "output_type": "execute_result",
          "data": {
            "text/plain": [
              "<matplotlib.legend.Legend at 0x7f51b9a85490>"
            ]
          },
          "metadata": {},
          "execution_count": 10
        },
        {
          "output_type": "display_data",
          "data": {
            "text/plain": [
              "<Figure size 432x288 with 1 Axes>"
            ],
            "image/png": "[encoded data removed]"
          },
          "metadata": {
            "needs_background": "light"
          }
        }
      ],
      "source": [
        "import matplotlib.pylab as plt\n",
        "\n",
        "for nlayers in range(7,11,1):\n",
        "    num_params = 2*nlayers\n",
        "\n",
        "    back_trace = []\n",
        "    def print_avg(xk):\n",
        "        eva = evaluate_parameters(nqubits, edges, xk,nlayers)\n",
        "        back_trace.append(eva)\n",
        "        print(eva, end=' ')\n",
        "\n",
        "    opt_res = minimize(lambda x : evaluate_parameters(nqubits, edges, x, nlayers), \n",
        "                       np.random.random(num_params),\n",
        "                       callback=print_avg,)\n",
        "    plt.plot(back_trace,label=str(nlayers))\n",
        "# there exists a classical polynomial algorithm returning solutions within a factor of 0.878 of the optimal\n",
        "# we must at least beat that. https://fr.wikipedia.org/wiki/Coupe_maximum\n",
        "plt.axhline(0.878*best_value, color='b', label=\"classical apx ratio\")\n",
        "plt.axhline(best_value,color='r',label='optimal value')\n",
        "plt.legend()"
      ]
    },
    {
      "cell_type": "markdown",
      "id": "e9dffce1",
      "metadata": {
        "id": "e9dffce1"
      },
      "source": [
        "### Question 6: smart initialization"
      ]
    },
    {
      "cell_type": "markdown",
      "source": [
        "We want to use AQC.\n",
        "\n",
        "For that, we start from the following hamiltonian $H_0 = \\sum_k \\sigma_x^k$ whose ground state is known ($\\left| \\psi_{0} \\right>$). Then we study the following hamiltonian:\n",
        "$$ H(s) = \\left( 1-\\frac{s}{T}\\right) H_0 + \\frac{s}{T}H_C$$\n",
        "\n",
        "From Schrodinger equation, we know that the final state is:\n",
        "\n",
        "$$ \\left| \\psi_{final} \\right> = e^{-i\\int_{0}^{T}H(s)ds}\\left| \\psi_{0} \\right> $$\n",
        "\n",
        "Using $\\int_{0}^{T}H(s)ds = \\frac{T}{p} \\sum_{k=1}^{p}H\\left( \\frac{k}{p}T\\right)$ and the approximation $e^{A+B} \\approx e^{A}e^{B}$, we get:\n",
        "\n",
        "$$ \\left| \\psi_{final} \\right> ≈ e^{-i \\frac{T}{p} \\sum_{k=1}^{p}H\\left( \\frac{k}{p}T\\right)}\\left| \\psi_{0} \\right> \\approx \\left( \\prod_{k=1}^{p} e^{-i\\frac{T}{p}H\\left( \\frac{k}{p}T\\right)} \\right)\\left| \\psi_{0} \\right>$$\n",
        "\n",
        "So we get :\n",
        "\n",
        "$$ \\left| \\psi_{final} \\right> \\approx \\left( \\prod_{k=1}^{p} e^{-i\\frac{T}{p}\\left(\\left( 1-\\frac{k}{p}\\right) H_0 + \\frac{k}{p}H_C\\right)} \\right)\\left| \\psi_{0} \\right> \\approx \\left( \\prod_{k=1}^{p} e^{-i\\frac{T}{p}\\left( 1-\\frac{k}{p}\\right) H_0 } e^{-i\\frac{T}{p}\\frac{k}{p}H_C} \\right)\\left| \\psi_{0} \\right> $$\n",
        "\n",
        "Then, we get $\\theta_k = \\frac{T}{p}\\left( 1-\\frac{k}{p}\\right)$ and $\\beta_k =\\frac{T}{p}\\frac{k}{p} $"
      ],
      "metadata": {
        "id": "7e15rfMu_NcB"
      },
      "id": "7e15rfMu_NcB"
    },
    {
      "cell_type": "code",
      "execution_count": null,
      "id": "d1eb83de",
      "metadata": {
        "id": "d1eb83de",
        "colab": {
          "base_uri": "https://localhost:8080/",
          "height": 317
        },
        "outputId": "46f92a57-40c1-4911-c9c2-56a1632ada72"
      },
      "outputs": [
        {
          "output_type": "stream",
          "name": "stdout",
          "text": [
            "-1.7496724116951932 -2.159163474004655 -2.2257811955427997 -2.3534906208810122 -2.5528847299457524 -2.7240780778780347 -2.874322107691809 -2.8928092113526835 -2.9138062895165358 -2.951885661328576 -3.007218455416463 -3.080013726019793 -3.1692372092004226 -3.2119971532026064 -3.2229714053476832 -3.226044278023791 -3.226055410833244 -3.226067350746946 -3.2260694909252363 -3.2260696446519033 -3.2260696472176247 -2.9467978832541255 -3.4846094952919033 -3.9338550665957257 -4.1001674026684265 -4.179862161775813 -4.23975487432686 -4.253494815453431 -4.278417096021153 -4.322082472356391 -4.3742470033803125 -4.397923449580794 -4.422466821118157 -4.451021376726025 -4.460779145053274 -4.4635192589411306 -4.463812295058821 -4.463828195965927 -4.463832547675751 -4.463832630335182 -4.4638326323040785 -3.2800269423080874 -3.783544812350102 -4.085574127790062 -4.14636777385958 -4.239221184597363 -4.357418830352334 -4.401448455517911 -4.47734389804056 -4.587797440347571 -4.633722278580964 -4.65840658822426 -4.673739008587772 -4.678108469289241 -4.685410023271901 -4.695042771125867 -4.695863241174811 -4.6970839690622785 -4.697757743662708 -4.697964841226867 -4.698327695166975 -4.698967665414831 -4.700089743155484 -4.702094243726965 -4.705226774235846 -4.707282087013766 -4.710982315457546 -4.717104955013163 -4.723794637859168 -4.727461215506534 -4.72833463502022 -4.729952237559374 -4.732531165838919 -4.734106795363324 -4.735489344613125 -4.737802430886947 -4.741811947649562 -4.748840254500795 -4.757410151195607 -4.764459719242383 -4.7677458542640965 -4.770127469472458 -4.772490148907725 -4.775313829602797 -4.776515757418595 -4.776628830428154 -4.776638431289771 -4.776640351293753 -4.776640451291088 -4.776640452229854 -4.776640452258933 -3.3649494586106385 -4.13144755522104 -4.27976524009024 -4.369514417552626 -4.475070783112258 -4.597161016903016 -4.648835299391638 -4.696166253009767 -4.7020240708217225 -4.710534474573604 -4.722133569362601 -4.729518680038533 -4.736648890833199 -4.738549068469622 -4.7417551950566 -4.747318165859065 -4.756931341363033 -4.770291311232617 -4.772140316737337 -4.775478112960563 -4.781329981927409 -4.787650346709045 -4.787941431177508 -4.788230467587654 -4.788683890307268 -4.789550760738508 -4.796529562444395 -4.799901343101648 -4.8058133666191285 -4.816110936448883 -4.832769510614075 -4.85533551766738 -4.867062343312965 -4.88171381050625 -4.885850322126578 -4.8904152714679014 -4.894123015283083 -4.897366252083425 -4.898648679404276 -4.900814427312447 -4.9045324013778995 -4.910187332477093 -4.914260654010057 -4.920358963926857 -4.92465709724138 -4.928764340533242 -4.932160343007971 -4.936285282311301 -4.93965271277533 -4.943764938511938 -4.94584475233607 -4.946425002978148 -4.946463095423329 -4.946530153865301 -4.946614665731841 -4.946626616466333 -4.946634835034273 -4.946642479304806 -4.9466470448114315 -4.946647667194503 -4.946647787013783 -4.946647812220124 -4.946647817084024 -4.946647817546687 -4.9466478175966175 -3.3816388832907833 -4.194292947633875 -4.290541758248357 -4.3638637981198425 -4.496229471361001 -4.570983961371179 -4.624536200361902 -4.690256525496693 -4.709913855417514 -4.7415933260589975 -4.78722886966337 -4.840129153066268 -4.859183328380128 -4.866284299701973 -4.876398698753724 -4.889852855340756 -4.898062913871981 -4.905916132212167 -4.9133249731187725 -4.917846532632941 -4.919529278137981 -4.9212309719439755 -4.9239877120472215 -4.927624286815901 -4.929297093339744 -4.930125909336534 -4.930936795564149 -4.931731458426321 -4.932945425267496 -4.934660606036121 -4.9366639023089025 -4.937447074736236 -4.938154597386412 -4.93859475948666 -4.939047526721396 -4.939862173195392 -4.9412995253141725 -4.943406386905527 -4.944584155351524 -4.9452224380311804 -4.945738892520778 -4.945984057239429 -4.94637900251869 -4.946977988715598 -4.947772701722752 -4.948371805249463 -4.948812115323213 -4.9490875965467875 -4.949480312263806 -4.950049456882146 -4.95032539070778 -4.950493200391164 -4.950717312293694 -4.950970740018374 -4.951216014610566 -4.95138198575498 -4.95141846547757 -4.951430188258597 -4.951432905738423 -4.951433346195216 -4.951433385348782 -4.951433387297924 -4.9514333873705425 "
          ]
        },
        {
          "output_type": "execute_result",
          "data": {
            "text/plain": [
              "<matplotlib.legend.Legend at 0x7f51b86f9280>"
            ]
          },
          "metadata": {},
          "execution_count": 12
        },
        {
          "output_type": "display_data",
          "data": {
            "text/plain": [
              "<Figure size 432x288 with 1 Axes>"
            ],
            "image/png": "[encoded data removed]"
          },
          "metadata": {
            "needs_background": "light"
          }
        }
      ],
      "source": [
        "T = 10.\n",
        "\n",
        "for nlayers in range(3,8,1):\n",
        "    num_params = 2*nlayers\n",
        "\n",
        "    back_trace = []\n",
        "    def print_avg(xk):\n",
        "        eva = evaluate_parameters(nqubits, edges, xk,nlayers)\n",
        "        back_trace.append(eva)\n",
        "        print(eva, end=' ')\n",
        "\n",
        "    # TODO implement parameter init\n",
        "    parameters_init = []\n",
        "\n",
        "    for k in range(nlayers): #here, nlayers is equal to p\n",
        "      parameters_init.append(1/2*T/nlayers*(1-(k+1)/nlayers))\n",
        "      parameters_init.append(1/2*T/nlayers*(k+1)/nlayers)\n",
        "\n",
        "    # END TODO        \n",
        "    opt_res = minimize(lambda x : evaluate_parameters(nqubits, edges, x, nlayers), \n",
        "                       parameters_init, \n",
        "                       callback=print_avg,)\n",
        "    plt.plot(back_trace,label=str(nlayers))\n",
        "plt.axhline(0.878*best_value, color='b', label=\"classical apx ratio\")\n",
        "plt.axhline(best_value,color='r',label='optimal value')\n",
        "plt.legend()"
      ]
    },
    {
      "cell_type": "markdown",
      "source": [
        "The convergence is faster (approximately 35 loop for optimizing the paramaters) and require less layers (here 6). "
      ],
      "metadata": {
        "id": "_YdlFCtWNYpA"
      },
      "id": "_YdlFCtWNYpA"
    }
  ],
  "metadata": {
    "kernelspec": {
      "display_name": "Python 3 (ipykernel)",
      "language": "python",
      "name": "python3"
    },
    "language_info": {
      "codemirror_mode": {
        "name": "ipython",
        "version": 3
      },
      "file_extension": ".py",
      "mimetype": "text/x-python",
      "name": "python",
      "nbconvert_exporter": "python",
      "pygments_lexer": "ipython3",
      "version": "3.10.6"
    },
    "colab": {
      "provenance": [],
      "toc_visible": true
    }
  },
  "nbformat": 4,
  "nbformat_minor": 5
}