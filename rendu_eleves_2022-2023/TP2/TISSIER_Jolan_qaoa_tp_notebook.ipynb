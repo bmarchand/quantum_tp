{
  "cells": [
    {
      "cell_type": "code",
      "execution_count": null,
      "metadata": {
        "colab": {
          "base_uri": "https://localhost:8080/"
        },
        "id": "JJyTDl3CyWUL",
        "outputId": "189479fe-4ef6-49e1-e807-d4b28dc7325d"
      },
      "outputs": [
        {
          "output_type": "stream",
          "name": "stdout",
          "text": [
            "Looking in indexes: https://pypi.org/simple, https://us-python.pkg.dev/colab-wheels/public/simple/\n",
            "Collecting wand\n",
            "  Downloading Wand-0.6.10-py2.py3-none-any.whl (142 kB)\n",
            "\u001b[2K     \u001b[90m━━━━━━━━━━━━━━━━━━━━━━━━━━━━━━━━━━━━━━━\u001b[0m \u001b[32m142.8/142.8 KB\u001b[0m \u001b[31m6.4 MB/s\u001b[0m eta \u001b[36m0:00:00\u001b[0m\n",
            "\u001b[?25hInstalling collected packages: wand\n",
            "Successfully installed wand-0.6.10\n",
            "Reading package lists... Done\n",
            "Building dependency tree       \n",
            "Reading state information... Done\n",
            "The following package was automatically installed and is no longer required:\n",
            "  libnvidia-common-460\n",
            "Use 'apt autoremove' to remove it.\n",
            "The following additional packages will be installed:\n",
            "  fonts-droid-fallback fonts-noto-mono ghostscript gsfonts\n",
            "  imagemagick-6-common imagemagick-6.q16 libcupsfilters1 libcupsimage2\n",
            "  libdjvulibre-text libdjvulibre21 libgs9 libgs9-common libijs-0.35\n",
            "  libjbig2dec0 liblqr-1-0 libmagickcore-6.q16-3 libmagickcore-6.q16-3-extra\n",
            "  libmagickwand-6.q16-3 libnetpbm10 libwmf0.2-7 netpbm poppler-data\n",
            "Suggested packages:\n",
            "  fonts-noto ghostscript-x imagemagick-doc autotrace cups-bsd | lpr | lprng\n",
            "  enscript gimp gnuplot grads hp2xx html2ps libwmf-bin mplayer povray radiance\n",
            "  sane-utils texlive-base-bin transfig ufraw-batch inkscape libjxr-tools\n",
            "  libwmf0.2-7-gtk poppler-utils fonts-japanese-mincho | fonts-ipafont-mincho\n",
            "  fonts-japanese-gothic | fonts-ipafont-gothic fonts-arphic-ukai\n",
            "  fonts-arphic-uming fonts-nanum\n",
            "The following NEW packages will be installed:\n",
            "  fonts-droid-fallback fonts-noto-mono ghostscript gsfonts imagemagick\n",
            "  imagemagick-6-common imagemagick-6.q16 libcupsfilters1 libcupsimage2\n",
            "  libdjvulibre-text libdjvulibre21 libgs9 libgs9-common libijs-0.35\n",
            "  libjbig2dec0 liblqr-1-0 libmagickcore-6.q16-3 libmagickcore-6.q16-3-extra\n",
            "  libmagickwand-6.q16-3 libnetpbm10 libwmf0.2-7 netpbm poppler-data\n",
            "0 upgraded, 23 newly installed, 0 to remove and 20 not upgraded.\n",
            "Need to get 18.4 MB of archives.\n",
            "After this operation, 66.3 MB of additional disk space will be used.\n",
            "Get:1 http://archive.ubuntu.com/ubuntu bionic/main amd64 fonts-droid-fallback all 1:6.0.1r16-1.1 [1,805 kB]\n",
            "Get:2 http://archive.ubuntu.com/ubuntu bionic/main amd64 liblqr-1-0 amd64 0.4.2-2.1 [27.7 kB]\n",
            "Get:3 http://archive.ubuntu.com/ubuntu bionic-updates/main amd64 imagemagick-6-common all 8:6.9.7.4+dfsg-16ubuntu6.14 [60.5 kB]\n",
            "Get:4 http://archive.ubuntu.com/ubuntu bionic-updates/main amd64 libmagickcore-6.q16-3 amd64 8:6.9.7.4+dfsg-16ubuntu6.14 [1,622 kB]\n",
            "Get:5 http://archive.ubuntu.com/ubuntu bionic-updates/main amd64 libmagickwand-6.q16-3 amd64 8:6.9.7.4+dfsg-16ubuntu6.14 [294 kB]\n",
            "Get:6 http://archive.ubuntu.com/ubuntu bionic/main amd64 poppler-data all 0.4.8-2 [1,479 kB]\n",
            "Get:7 http://archive.ubuntu.com/ubuntu bionic/main amd64 fonts-noto-mono all 20171026-2 [75.5 kB]\n",
            "Get:8 http://archive.ubuntu.com/ubuntu bionic-updates/main amd64 libcupsimage2 amd64 2.2.7-1ubuntu2.9 [18.6 kB]\n",
            "Get:9 http://archive.ubuntu.com/ubuntu bionic/main amd64 libijs-0.35 amd64 0.35-13 [15.5 kB]\n",
            "Get:10 http://archive.ubuntu.com/ubuntu bionic/main amd64 libjbig2dec0 amd64 0.13-6 [55.9 kB]\n",
            "Get:11 http://archive.ubuntu.com/ubuntu bionic-updates/main amd64 libgs9-common all 9.26~dfsg+0-0ubuntu0.18.04.17 [5,092 kB]\n",
            "Get:12 http://archive.ubuntu.com/ubuntu bionic-updates/main amd64 libgs9 amd64 9.26~dfsg+0-0ubuntu0.18.04.17 [2,267 kB]\n",
            "Get:13 http://archive.ubuntu.com/ubuntu bionic-updates/main amd64 ghostscript amd64 9.26~dfsg+0-0ubuntu0.18.04.17 [51.3 kB]\n",
            "Get:14 http://archive.ubuntu.com/ubuntu bionic/main amd64 gsfonts all 1:8.11+urwcyr1.0.7~pre44-4.4 [3,120 kB]\n",
            "Get:15 http://archive.ubuntu.com/ubuntu bionic-updates/main amd64 imagemagick-6.q16 amd64 8:6.9.7.4+dfsg-16ubuntu6.14 [423 kB]\n",
            "Get:16 http://archive.ubuntu.com/ubuntu bionic-updates/main amd64 imagemagick amd64 8:6.9.7.4+dfsg-16ubuntu6.14 [14.2 kB]\n",
            "Get:17 http://archive.ubuntu.com/ubuntu bionic-updates/main amd64 libcupsfilters1 amd64 1.20.2-0ubuntu3.1 [108 kB]\n",
            "Get:18 http://archive.ubuntu.com/ubuntu bionic-updates/main amd64 libdjvulibre-text all 3.5.27.1-8ubuntu0.4 [49.4 kB]\n",
            "Get:19 http://archive.ubuntu.com/ubuntu bionic-updates/main amd64 libdjvulibre21 amd64 3.5.27.1-8ubuntu0.4 [561 kB]\n",
            "Get:20 http://archive.ubuntu.com/ubuntu bionic/main amd64 libwmf0.2-7 amd64 0.2.8.4-12 [150 kB]\n",
            "Get:21 http://archive.ubuntu.com/ubuntu bionic-updates/main amd64 libmagickcore-6.q16-3-extra amd64 8:6.9.7.4+dfsg-16ubuntu6.14 [62.2 kB]\n",
            "Get:22 http://archive.ubuntu.com/ubuntu bionic/main amd64 libnetpbm10 amd64 2:10.0-15.3build1 [58.0 kB]\n",
            "Get:23 http://archive.ubuntu.com/ubuntu bionic/main amd64 netpbm amd64 2:10.0-15.3build1 [1,017 kB]\n",
            "Fetched 18.4 MB in 2s (12.2 MB/s)\n",
            "Selecting previously unselected package fonts-droid-fallback.\n",
            "(Reading database ... 124016 files and directories currently installed.)\n",
            "Preparing to unpack .../00-fonts-droid-fallback_1%3a6.0.1r16-1.1_all.deb ...\n",
            "Unpacking fonts-droid-fallback (1:6.0.1r16-1.1) ...\n",
            "Selecting previously unselected package liblqr-1-0:amd64.\n",
            "Preparing to unpack .../01-liblqr-1-0_0.4.2-2.1_amd64.deb ...\n",
            "Unpacking liblqr-1-0:amd64 (0.4.2-2.1) ...\n",
            "Selecting previously unselected package imagemagick-6-common.\n",
            "Preparing to unpack .../02-imagemagick-6-common_8%3a6.9.7.4+dfsg-16ubuntu6.14_all.deb ...\n",
            "Unpacking imagemagick-6-common (8:6.9.7.4+dfsg-16ubuntu6.14) ...\n",
            "Selecting previously unselected package libmagickcore-6.q16-3:amd64.\n",
            "Preparing to unpack .../03-libmagickcore-6.q16-3_8%3a6.9.7.4+dfsg-16ubuntu6.14_amd64.deb ...\n",
            "Unpacking libmagickcore-6.q16-3:amd64 (8:6.9.7.4+dfsg-16ubuntu6.14) ...\n",
            "Selecting previously unselected package libmagickwand-6.q16-3:amd64.\n",
            "Preparing to unpack .../04-libmagickwand-6.q16-3_8%3a6.9.7.4+dfsg-16ubuntu6.14_amd64.deb ...\n",
            "Unpacking libmagickwand-6.q16-3:amd64 (8:6.9.7.4+dfsg-16ubuntu6.14) ...\n",
            "Selecting previously unselected package poppler-data.\n",
            "Preparing to unpack .../05-poppler-data_0.4.8-2_all.deb ...\n",
            "Unpacking poppler-data (0.4.8-2) ...\n",
            "Selecting previously unselected package fonts-noto-mono.\n",
            "Preparing to unpack .../06-fonts-noto-mono_20171026-2_all.deb ...\n",
            "Unpacking fonts-noto-mono (20171026-2) ...\n",
            "Selecting previously unselected package libcupsimage2:amd64.\n",
            "Preparing to unpack .../07-libcupsimage2_2.2.7-1ubuntu2.9_amd64.deb ...\n",
            "Unpacking libcupsimage2:amd64 (2.2.7-1ubuntu2.9) ...\n",
            "Selecting previously unselected package libijs-0.35:amd64.\n",
            "Preparing to unpack .../08-libijs-0.35_0.35-13_amd64.deb ...\n",
            "Unpacking libijs-0.35:amd64 (0.35-13) ...\n",
            "Selecting previously unselected package libjbig2dec0:amd64.\n",
            "Preparing to unpack .../09-libjbig2dec0_0.13-6_amd64.deb ...\n",
            "Unpacking libjbig2dec0:amd64 (0.13-6) ...\n",
            "Selecting previously unselected package libgs9-common.\n",
            "Preparing to unpack .../10-libgs9-common_9.26~dfsg+0-0ubuntu0.18.04.17_all.deb ...\n",
            "Unpacking libgs9-common (9.26~dfsg+0-0ubuntu0.18.04.17) ...\n",
            "Selecting previously unselected package libgs9:amd64.\n",
            "Preparing to unpack .../11-libgs9_9.26~dfsg+0-0ubuntu0.18.04.17_amd64.deb ...\n",
            "Unpacking libgs9:amd64 (9.26~dfsg+0-0ubuntu0.18.04.17) ...\n",
            "Selecting previously unselected package ghostscript.\n",
            "Preparing to unpack .../12-ghostscript_9.26~dfsg+0-0ubuntu0.18.04.17_amd64.deb ...\n",
            "Unpacking ghostscript (9.26~dfsg+0-0ubuntu0.18.04.17) ...\n",
            "Selecting previously unselected package gsfonts.\n",
            "Preparing to unpack .../13-gsfonts_1%3a8.11+urwcyr1.0.7~pre44-4.4_all.deb ...\n",
            "Unpacking gsfonts (1:8.11+urwcyr1.0.7~pre44-4.4) ...\n",
            "Selecting previously unselected package imagemagick-6.q16.\n",
            "Preparing to unpack .../14-imagemagick-6.q16_8%3a6.9.7.4+dfsg-16ubuntu6.14_amd64.deb ...\n",
            "Unpacking imagemagick-6.q16 (8:6.9.7.4+dfsg-16ubuntu6.14) ...\n",
            "Selecting previously unselected package imagemagick.\n",
            "Preparing to unpack .../15-imagemagick_8%3a6.9.7.4+dfsg-16ubuntu6.14_amd64.deb ...\n",
            "Unpacking imagemagick (8:6.9.7.4+dfsg-16ubuntu6.14) ...\n",
            "Selecting previously unselected package libcupsfilters1:amd64.\n",
            "Preparing to unpack .../16-libcupsfilters1_1.20.2-0ubuntu3.1_amd64.deb ...\n",
            "Unpacking libcupsfilters1:amd64 (1.20.2-0ubuntu3.1) ...\n",
            "Selecting previously unselected package libdjvulibre-text.\n",
            "Preparing to unpack .../17-libdjvulibre-text_3.5.27.1-8ubuntu0.4_all.deb ...\n",
            "Unpacking libdjvulibre-text (3.5.27.1-8ubuntu0.4) ...\n",
            "Selecting previously unselected package libdjvulibre21:amd64.\n",
            "Preparing to unpack .../18-libdjvulibre21_3.5.27.1-8ubuntu0.4_amd64.deb ...\n",
            "Unpacking libdjvulibre21:amd64 (3.5.27.1-8ubuntu0.4) ...\n",
            "Selecting previously unselected package libwmf0.2-7:amd64.\n",
            "Preparing to unpack .../19-libwmf0.2-7_0.2.8.4-12_amd64.deb ...\n",
            "Unpacking libwmf0.2-7:amd64 (0.2.8.4-12) ...\n",
            "Selecting previously unselected package libmagickcore-6.q16-3-extra:amd64.\n",
            "Preparing to unpack .../20-libmagickcore-6.q16-3-extra_8%3a6.9.7.4+dfsg-16ubuntu6.14_amd64.deb ...\n",
            "Unpacking libmagickcore-6.q16-3-extra:amd64 (8:6.9.7.4+dfsg-16ubuntu6.14) ...\n",
            "Selecting previously unselected package libnetpbm10.\n",
            "Preparing to unpack .../21-libnetpbm10_2%3a10.0-15.3build1_amd64.deb ...\n",
            "Unpacking libnetpbm10 (2:10.0-15.3build1) ...\n",
            "Selecting previously unselected package netpbm.\n",
            "Preparing to unpack .../22-netpbm_2%3a10.0-15.3build1_amd64.deb ...\n",
            "Unpacking netpbm (2:10.0-15.3build1) ...\n",
            "Setting up libgs9-common (9.26~dfsg+0-0ubuntu0.18.04.17) ...\n",
            "Setting up imagemagick-6-common (8:6.9.7.4+dfsg-16ubuntu6.14) ...\n",
            "Setting up fonts-droid-fallback (1:6.0.1r16-1.1) ...\n",
            "Setting up gsfonts (1:8.11+urwcyr1.0.7~pre44-4.4) ...\n",
            "Setting up poppler-data (0.4.8-2) ...\n",
            "Setting up libdjvulibre-text (3.5.27.1-8ubuntu0.4) ...\n",
            "Setting up libnetpbm10 (2:10.0-15.3build1) ...\n",
            "Setting up fonts-noto-mono (20171026-2) ...\n",
            "Setting up libcupsfilters1:amd64 (1.20.2-0ubuntu3.1) ...\n",
            "Setting up libcupsimage2:amd64 (2.2.7-1ubuntu2.9) ...\n",
            "Setting up liblqr-1-0:amd64 (0.4.2-2.1) ...\n",
            "Setting up libjbig2dec0:amd64 (0.13-6) ...\n",
            "Setting up libijs-0.35:amd64 (0.35-13) ...\n",
            "Setting up netpbm (2:10.0-15.3build1) ...\n",
            "Setting up libgs9:amd64 (9.26~dfsg+0-0ubuntu0.18.04.17) ...\n",
            "Setting up libwmf0.2-7:amd64 (0.2.8.4-12) ...\n",
            "Setting up libmagickcore-6.q16-3:amd64 (8:6.9.7.4+dfsg-16ubuntu6.14) ...\n",
            "Setting up libdjvulibre21:amd64 (3.5.27.1-8ubuntu0.4) ...\n",
            "Setting up ghostscript (9.26~dfsg+0-0ubuntu0.18.04.17) ...\n",
            "Setting up libmagickwand-6.q16-3:amd64 (8:6.9.7.4+dfsg-16ubuntu6.14) ...\n",
            "Setting up imagemagick-6.q16 (8:6.9.7.4+dfsg-16ubuntu6.14) ...\n",
            "update-alternatives: using /usr/bin/compare-im6.q16 to provide /usr/bin/compare (compare) in auto mode\n",
            "update-alternatives: using /usr/bin/compare-im6.q16 to provide /usr/bin/compare-im6 (compare-im6) in auto mode\n",
            "update-alternatives: using /usr/bin/animate-im6.q16 to provide /usr/bin/animate (animate) in auto mode\n",
            "update-alternatives: using /usr/bin/animate-im6.q16 to provide /usr/bin/animate-im6 (animate-im6) in auto mode\n",
            "update-alternatives: using /usr/bin/convert-im6.q16 to provide /usr/bin/convert (convert) in auto mode\n",
            "update-alternatives: using /usr/bin/convert-im6.q16 to provide /usr/bin/convert-im6 (convert-im6) in auto mode\n",
            "update-alternatives: using /usr/bin/composite-im6.q16 to provide /usr/bin/composite (composite) in auto mode\n",
            "update-alternatives: using /usr/bin/composite-im6.q16 to provide /usr/bin/composite-im6 (composite-im6) in auto mode\n",
            "update-alternatives: using /usr/bin/conjure-im6.q16 to provide /usr/bin/conjure (conjure) in auto mode\n",
            "update-alternatives: using /usr/bin/conjure-im6.q16 to provide /usr/bin/conjure-im6 (conjure-im6) in auto mode\n",
            "update-alternatives: using /usr/bin/import-im6.q16 to provide /usr/bin/import (import) in auto mode\n",
            "update-alternatives: using /usr/bin/import-im6.q16 to provide /usr/bin/import-im6 (import-im6) in auto mode\n",
            "update-alternatives: using /usr/bin/identify-im6.q16 to provide /usr/bin/identify (identify) in auto mode\n",
            "update-alternatives: using /usr/bin/identify-im6.q16 to provide /usr/bin/identify-im6 (identify-im6) in auto mode\n",
            "update-alternatives: using /usr/bin/stream-im6.q16 to provide /usr/bin/stream (stream) in auto mode\n",
            "update-alternatives: using /usr/bin/stream-im6.q16 to provide /usr/bin/stream-im6 (stream-im6) in auto mode\n",
            "update-alternatives: using /usr/bin/display-im6.q16 to provide /usr/bin/display (display) in auto mode\n",
            "update-alternatives: using /usr/bin/display-im6.q16 to provide /usr/bin/display-im6 (display-im6) in auto mode\n",
            "update-alternatives: using /usr/bin/montage-im6.q16 to provide /usr/bin/montage (montage) in auto mode\n",
            "update-alternatives: using /usr/bin/montage-im6.q16 to provide /usr/bin/montage-im6 (montage-im6) in auto mode\n",
            "update-alternatives: using /usr/bin/mogrify-im6.q16 to provide /usr/bin/mogrify (mogrify) in auto mode\n",
            "update-alternatives: using /usr/bin/mogrify-im6.q16 to provide /usr/bin/mogrify-im6 (mogrify-im6) in auto mode\n",
            "Setting up libmagickcore-6.q16-3-extra:amd64 (8:6.9.7.4+dfsg-16ubuntu6.14) ...\n",
            "Setting up imagemagick (8:6.9.7.4+dfsg-16ubuntu6.14) ...\n",
            "Processing triggers for hicolor-icon-theme (0.17-2) ...\n",
            "Processing triggers for fontconfig (2.12.6-0ubuntu2) ...\n",
            "Processing triggers for mime-support (3.60ubuntu1) ...\n",
            "Processing triggers for libc-bin (2.27-3ubuntu1.6) ...\n",
            "Processing triggers for man-db (2.8.3-2ubuntu0.1) ...\n",
            "Looking in indexes: https://pypi.org/simple, https://us-python.pkg.dev/colab-wheels/public/simple/\n",
            "Collecting myqlm\n",
            "  Downloading myqlm-1.7.2-py3-none-any.whl (2.0 kB)\n",
            "Collecting myqlm-contrib>=1.7.1\n",
            "  Downloading myqlm_contrib-1.7.1-py3-none-any.whl (13 kB)\n",
            "Collecting qat-core>=1.6.1\n",
            "  Downloading qat_core-1.6.2-cp38-cp38-manylinux1_x86_64.whl (4.0 MB)\n",
            "\u001b[2K     \u001b[90m━━━━━━━━━━━━━━━━━━━━━━━━━━━━━━━━━━━━━━━━\u001b[0m \u001b[32m4.0/4.0 MB\u001b[0m \u001b[31m45.9 MB/s\u001b[0m eta \u001b[36m0:00:00\u001b[0m\n",
            "\u001b[?25hCollecting qat-lang>=2.2.1\n",
            "  Downloading qat_lang-2.2.1-cp38-cp38-manylinux1_x86_64.whl (2.5 MB)\n",
            "\u001b[2K     \u001b[90m━━━━━━━━━━━━━━━━━━━━━━━━━━━━━━━━━━━━━━━━\u001b[0m \u001b[32m2.5/2.5 MB\u001b[0m \u001b[31m81.1 MB/s\u001b[0m eta \u001b[36m0:00:00\u001b[0m\n",
            "\u001b[?25hCollecting myqlm-fermion>=1.0.0\n",
            "  Downloading myqlm_fermion-1.0.0-py3-none-any.whl (90 kB)\n",
            "\u001b[2K     \u001b[90m━━━━━━━━━━━━━━━━━━━━━━━━━━━━━━━━━━━━━━━━\u001b[0m \u001b[32m90.0/90.0 KB\u001b[0m \u001b[31m8.5 MB/s\u001b[0m eta \u001b[36m0:00:00\u001b[0m\n",
            "\u001b[?25hCollecting qat-devices>=0.2.0\n",
            "  Downloading qat_devices-0.2.0-cp38-cp38-manylinux1_x86_64.whl (252 kB)\n",
            "\u001b[2K     \u001b[90m━━━━━━━━━━━━━━━━━━━━━━━━━━━━━━━━━━━━━━\u001b[0m \u001b[32m252.7/252.7 KB\u001b[0m \u001b[31m23.0 MB/s\u001b[0m eta \u001b[36m0:00:00\u001b[0m\n",
            "\u001b[?25hCollecting myqlm-clinalg>=0.0.4\n",
            "  Downloading myqlm_clinalg-0.0.4-cp38-cp38-manylinux1_x86_64.whl (498 kB)\n",
            "\u001b[2K     \u001b[90m━━━━━━━━━━━━━━━━━━━━━━━━━━━━━━━━━━━━━━\u001b[0m \u001b[32m498.3/498.3 KB\u001b[0m \u001b[31m40.1 MB/s\u001b[0m eta \u001b[36m0:00:00\u001b[0m\n",
            "\u001b[?25hCollecting myqlm-simulators>=1.7.1\n",
            "  Downloading myqlm_simulators-1.7.1-py3-none-any.whl (19 kB)\n",
            "Collecting qat-variational>=1.4.0\n",
            "  Downloading qat_variational-1.4.0-cp38-cp38-manylinux1_x86_64.whl (1.6 MB)\n",
            "\u001b[2K     \u001b[90m━━━━━━━━━━━━━━━━━━━━━━━━━━━━━━━━━━━━━━━━\u001b[0m \u001b[32m1.6/1.6 MB\u001b[0m \u001b[31m69.8 MB/s\u001b[0m eta \u001b[36m0:00:00\u001b[0m\n",
            "\u001b[?25hCollecting qat-comm>=1.4.2\n",
            "  Downloading qat_comm-1.4.2-cp38-cp38-manylinux1_x86_64.whl (2.9 MB)\n",
            "\u001b[2K     \u001b[90m━━━━━━━━━━━━━━━━━━━━━━━━━━━━━━━━━━━━━━━━\u001b[0m \u001b[32m2.9/2.9 MB\u001b[0m \u001b[31m84.7 MB/s\u001b[0m eta \u001b[36m0:00:00\u001b[0m\n",
            "\u001b[?25hRequirement already satisfied: networkx in /usr/local/lib/python3.8/dist-packages (from myqlm-contrib>=1.7.1->myqlm) (2.8.8)\n",
            "Requirement already satisfied: pytest in /usr/local/lib/python3.8/dist-packages (from myqlm-fermion>=1.0.0->myqlm) (3.6.4)\n",
            "Requirement already satisfied: scipy in /usr/local/lib/python3.8/dist-packages (from myqlm-fermion>=1.0.0->myqlm) (1.7.3)\n",
            "Collecting bitstring\n",
            "  Downloading bitstring-4.0.1-py3-none-any.whl (45 kB)\n",
            "\u001b[2K     \u001b[90m━━━━━━━━━━━━━━━━━━━━━━━━━━━━━━━━━━━━━━━━\u001b[0m \u001b[32m45.6/45.6 KB\u001b[0m \u001b[31m5.0 MB/s\u001b[0m eta \u001b[36m0:00:00\u001b[0m\n",
            "\u001b[?25hCollecting anytree\n",
            "  Downloading anytree-2.8.0-py2.py3-none-any.whl (41 kB)\n",
            "\u001b[2K     \u001b[90m━━━━━━━━━━━━━━━━━━━━━━━━━━━━━━━━━━━━━━━━\u001b[0m \u001b[32m41.7/41.7 KB\u001b[0m \u001b[31m5.0 MB/s\u001b[0m eta \u001b[36m0:00:00\u001b[0m\n",
            "\u001b[?25hRequirement already satisfied: numpy in /usr/local/lib/python3.8/dist-packages (from myqlm-fermion>=1.0.0->myqlm) (1.21.6)\n",
            "Requirement already satisfied: tqdm in /usr/local/lib/python3.8/dist-packages (from myqlm-fermion>=1.0.0->myqlm) (4.64.1)\n",
            "Collecting thrift==0.16.0\n",
            "  Downloading thrift-0.16.0.tar.gz (59 kB)\n",
            "\u001b[2K     \u001b[90m━━━━━━━━━━━━━━━━━━━━━━━━━━━━━━━━━━━━━━━━\u001b[0m \u001b[32m59.6/59.6 KB\u001b[0m \u001b[31m7.0 MB/s\u001b[0m eta \u001b[36m0:00:00\u001b[0m\n",
            "\u001b[?25h  Preparing metadata (setup.py) ... \u001b[?25l\u001b[?25hdone\n",
            "Requirement already satisfied: six>=1.7.2 in /usr/local/lib/python3.8/dist-packages (from thrift==0.16.0->qat-comm>=1.4.2->myqlm) (1.15.0)\n",
            "Requirement already satisfied: Pillow in /usr/local/lib/python3.8/dist-packages (from qat-core>=1.6.1->myqlm) (7.1.2)\n",
            "Collecting svgwrite\n",
            "  Downloading svgwrite-1.4.3-py3-none-any.whl (67 kB)\n",
            "\u001b[2K     \u001b[90m━━━━━━━━━━━━━━━━━━━━━━━━━━━━━━━━━━━━━━━━\u001b[0m \u001b[32m67.1/67.1 KB\u001b[0m \u001b[31m8.1 MB/s\u001b[0m eta \u001b[36m0:00:00\u001b[0m\n",
            "\u001b[?25hRequirement already satisfied: wand in /usr/local/lib/python3.8/dist-packages (from qat-core>=1.6.1->myqlm) (0.6.10)\n",
            "Requirement already satisfied: matplotlib in /usr/local/lib/python3.8/dist-packages (from qat-core>=1.6.1->myqlm) (3.2.2)\n",
            "Requirement already satisfied: dill in /usr/local/lib/python3.8/dist-packages (from qat-core>=1.6.1->myqlm) (0.3.6)\n",
            "Collecting ply==3.11\n",
            "  Downloading ply-3.11-py2.py3-none-any.whl (49 kB)\n",
            "\u001b[2K     \u001b[90m━━━━━━━━━━━━━━━━━━━━━━━━━━━━━━━━━━━━━━━━\u001b[0m \u001b[32m49.6/49.6 KB\u001b[0m \u001b[31m6.4 MB/s\u001b[0m eta \u001b[36m0:00:00\u001b[0m\n",
            "\u001b[?25hCollecting pyDOE\n",
            "  Downloading pyDOE-0.3.8.zip (22 kB)\n",
            "  Preparing metadata (setup.py) ... \u001b[?25l\u001b[?25hdone\n",
            "Requirement already satisfied: kiwisolver>=1.0.1 in /usr/local/lib/python3.8/dist-packages (from matplotlib->qat-core>=1.6.1->myqlm) (1.4.4)\n",
            "Requirement already satisfied: python-dateutil>=2.1 in /usr/local/lib/python3.8/dist-packages (from matplotlib->qat-core>=1.6.1->myqlm) (2.8.2)\n",
            "Requirement already satisfied: cycler>=0.10 in /usr/local/lib/python3.8/dist-packages (from matplotlib->qat-core>=1.6.1->myqlm) (0.11.0)\n",
            "Requirement already satisfied: pyparsing!=2.0.4,!=2.1.2,!=2.1.6,>=2.0.1 in /usr/local/lib/python3.8/dist-packages (from matplotlib->qat-core>=1.6.1->myqlm) (3.0.9)\n",
            "Requirement already satisfied: atomicwrites>=1.0 in /usr/local/lib/python3.8/dist-packages (from pytest->myqlm-fermion>=1.0.0->myqlm) (1.4.1)\n",
            "Requirement already satisfied: pluggy<0.8,>=0.5 in /usr/local/lib/python3.8/dist-packages (from pytest->myqlm-fermion>=1.0.0->myqlm) (0.7.1)\n",
            "Requirement already satisfied: more-itertools>=4.0.0 in /usr/local/lib/python3.8/dist-packages (from pytest->myqlm-fermion>=1.0.0->myqlm) (9.0.0)\n",
            "Requirement already satisfied: attrs>=17.4.0 in /usr/local/lib/python3.8/dist-packages (from pytest->myqlm-fermion>=1.0.0->myqlm) (22.2.0)\n",
            "Requirement already satisfied: py>=1.5.0 in /usr/local/lib/python3.8/dist-packages (from pytest->myqlm-fermion>=1.0.0->myqlm) (1.11.0)\n",
            "Requirement already satisfied: setuptools in /usr/local/lib/python3.8/dist-packages (from pytest->myqlm-fermion>=1.0.0->myqlm) (57.4.0)\n",
            "Building wheels for collected packages: thrift, pyDOE\n",
            "  Building wheel for thrift (setup.py) ... \u001b[?25l\u001b[?25hdone\n",
            "  Created wheel for thrift: filename=thrift-0.16.0-cp38-cp38-linux_x86_64.whl size=349405 sha256=5bfa184905256860d39c5f93aaf3fabc89372bae873cd7b32fb2098e9f9d726d\n",
            "  Stored in directory: /root/.cache/pip/wheels/c1/03/53/7220f8aeecbf2c66ef655a9cff1929299e38119502a316ae30\n",
            "  Building wheel for pyDOE (setup.py) ... \u001b[?25l\u001b[?25hdone\n",
            "  Created wheel for pyDOE: filename=pyDOE-0.3.8-py3-none-any.whl size=18184 sha256=e417813890d00e49b964a573aedf4b9fdf892f3d9db92593f4f779f5ee2f09b1\n",
            "  Stored in directory: /root/.cache/pip/wheels/00/3e/fa/5705bf59c2053c17c4799c3ab66a2e356c32f40a3044fe2134\n",
            "Successfully built thrift pyDOE\n",
            "Installing collected packages: ply, thrift, svgwrite, bitstring, anytree, qat-comm, pyDOE, qat-core, qat-lang, qat-devices, myqlm-contrib, qat-variational, myqlm-clinalg, myqlm-simulators, myqlm-fermion, myqlm\n",
            "Successfully installed anytree-2.8.0 bitstring-4.0.1 myqlm-1.7.2 myqlm-clinalg-0.0.4 myqlm-contrib-1.7.1 myqlm-fermion-1.0.0 myqlm-simulators-1.7.1 ply-3.11 pyDOE-0.3.8 qat-comm-1.4.2 qat-core-1.6.2 qat-devices-0.2.0 qat-lang-2.2.1 qat-variational-1.4.0 svgwrite-1.4.3 thrift-0.16.0\n",
            "QLM magics have been sucessfully installed\n"
          ]
        }
      ],
      "source": [
        "!pip install wand\n",
        "!apt install imagemagick\n",
        "!pip install myqlm\n",
        "!python -m qat.magics.install"
      ],
      "id": "JJyTDl3CyWUL"
    },
    {
      "cell_type": "code",
      "execution_count": null,
      "metadata": {
        "id": "342upTzq43LC"
      },
      "outputs": [],
      "source": [
        "import os\n",
        "os.kill(os.getpid(), 9)"
      ],
      "id": "342upTzq43LC"
    },
    {
      "cell_type": "markdown",
      "metadata": {
        "id": "bad09515"
      },
      "source": [
        "## Part 1 implementing QAOA\n"
      ],
      "id": "bad09515"
    },
    {
      "cell_type": "markdown",
      "metadata": {
        "id": "536219fc"
      },
      "source": [
        "### Question1 :\n",
        "Write down in the cell below the Hamiltonian whose ground state is the solution to MaxCUT on an input graph $G=(V,E)$:"
      ],
      "id": "536219fc"
    },
    {
      "cell_type": "markdown",
      "metadata": {
        "id": "fd36b562"
      },
      "source": [
        "$$ H = \\sum_{i,j\\in E} \\sigma_i \\cdot \\sigma_j $$"
      ],
      "id": "fd36b562"
    },
    {
      "cell_type": "markdown",
      "metadata": {
        "id": "b045f8b7"
      },
      "source": [
        "### Question 2:\n",
        "Complete the implementation below of a simple, brute-force enumeration of all states computing the optimal solution to MaxCUT for the graph represented by 'edges'"
      ],
      "id": "b045f8b7"
    },
    {
      "cell_type": "code",
      "execution_count": null,
      "metadata": {
        "colab": {
          "base_uri": "https://localhost:8080/"
        },
        "id": "7bc976fa",
        "outputId": "f2499bfc-e2b4-47eb-9278-4899d9005995"
      },
      "outputs": [
        {
          "output_type": "stream",
          "name": "stdout",
          "text": [
            "-5\n",
            "[1, 0, 0, 1, 1]\n"
          ]
        }
      ],
      "source": [
        "import numpy as np\n",
        "\n",
        "graph1 = [(0,1),(0,2),(1,3),(2,3)]\n",
        "graph2 = [(0,1),(1,2),(0,3),(1,4),(2,5),(3,6),(4,7),(5,8),(3,4),(4,5),(6,7),(7,8)]\n",
        "graph3 = [(0,1),(1,2),(0,3),(1,4),(2,5),(3,6),(4,7),(3,4),(4,5),(6,7)]\n",
        "graph4 = [(0,1),(1,2),(2,3),(4,5),(5,6),(6,7),(0,4),(1,5),(2,6),(3,7)]\n",
        "graph5 = [(0,1),(0,2),(1,3),(2,4),(3,5),(4,5),(1,4)]\n",
        "graph6 = [(0,1),(0,2),(1,3),(2,4),(1,4)]\n",
        "\n",
        "\n",
        "# choice of graph\n",
        "edges = graph6\n",
        "\n",
        "nqubits = max([max(list(v)) for v in edges])+1\n",
        "\n",
        "#nqubits = 5\n",
        "graph7 = [(i,(i+1)%nqubits) for i in range(nqubits)]+[(1,4)]\n",
        "\n",
        "\n",
        "# COMPUTATION OF OPT.\n",
        "best_value = len(edges)\n",
        "best_b = 0\n",
        "for x in range(2**nqubits):\n",
        "  b = np.binary_repr(x, width=nqubits)\n",
        "  b = [int(b[i]) for i in range(nqubits)]\n",
        "  # TODO: Complete the computation below:\n",
        "  val = 0\n",
        "  for (s1, s2) in edges:\n",
        "    val += (2*b[s1]-1)*(2*b[s2]-1)\n",
        "  # END TODO\n",
        "  if val <= best_value:\n",
        "      best_value = val\n",
        "      best_b = b\n",
        "print(best_value)\n",
        "print(best_b)"
      ],
      "id": "7bc976fa"
    },
    {
      "cell_type": "markdown",
      "metadata": {
        "id": "4bed0ead"
      },
      "source": [
        "#### visualization of the graph"
      ],
      "id": "4bed0ead"
    },
    {
      "cell_type": "code",
      "execution_count": null,
      "metadata": {
        "colab": {
          "base_uri": "https://localhost:8080/",
          "height": 248
        },
        "id": "11a7d2a7",
        "outputId": "d4892ad9-3a98-469d-c86b-02db57e19ed5"
      },
      "outputs": [
        {
          "output_type": "display_data",
          "data": {
            "text/plain": [
              "<Figure size 432x288 with 1 Axes>"
            ],
            "image/png": "[encoded data removed]"
          },
          "metadata": {}
        }
      ],
      "source": [
        "import networkx as nx\n",
        "G = nx.Graph()\n",
        "for i,j in edges:\n",
        "    G.add_edge(i,j)\n",
        "nx.draw_networkx(G)"
      ],
      "id": "11a7d2a7"
    },
    {
      "cell_type": "code",
      "execution_count": null,
      "metadata": {
        "id": "1bcf8886"
      },
      "outputs": [],
      "source": [
        "from qat.lang.AQASM import Program, H, CNOT, RX, QRoutine, RZ, X, Z"
      ],
      "id": "1bcf8886"
    },
    {
      "cell_type": "code",
      "execution_count": null,
      "metadata": {
        "id": "f125405c"
      },
      "outputs": [],
      "source": [
        "def U_ZZ(theta):\n",
        "    \n",
        "    zz_r = QRoutine()\n",
        "    zz_r.apply(CNOT, 0, 1)\n",
        "    zz_r.apply(RZ(theta), 1) # difference of convention between implemented version and what we need.\n",
        "    zz_r.apply(CNOT, 0, 1)\n",
        "\n",
        "    return zz_r"
      ],
      "id": "f125405c"
    },
    {
      "cell_type": "markdown",
      "metadata": {
        "id": "b87e91ed"
      },
      "source": [
        "### Question 3\n",
        "One can see that $U_{ZZ}(\\beta)$ only changes the phase of the state. The phase becomes $e^{-i\\beta /2}$ if the qubits are equal and $e^{+i\\beta /2}$ when they are different. It can be shown that $e^{-i\\beta H_c} = U_{ZZ}(2\\beta)$. Indeed:\n",
        "$$e^{-i\\beta H_c} = e^{-\\beta \\sum_{i,j \\in E} \\sigma_i \\sigma_j} = \\prod_{i,j \\in E} e^{-i\\beta \\sigma_i \\sigma_j}$$\n",
        "Using $\\langle 1 |\\sigma |1 \\rangle = 1$ and $\\langle 0 |\\sigma |0 \\rangle = - 1$ (as defined in the instructions), we find:\n",
        "\n",
        "\n",
        "*   $\\langle x_i x_j |e^{-i\\beta \\sigma_i \\sigma_j} |x_i x_j \\rangle= e^{-i\\beta}$ when the qubits are equal ($x_i = x_j$).\n",
        "*   $\\langle x_i x_j |e^{-i\\beta \\sigma_i \\sigma_j} |x_i x_j \\rangle= e^{+i\\beta}$ when the qubits are opposite ($x_i = -x_j$).\n",
        "\n",
        "Which proves the result.\n"
      ],
      "id": "b87e91ed"
    },
    {
      "cell_type": "code",
      "execution_count": null,
      "metadata": {
        "id": "27954bb3"
      },
      "outputs": [],
      "source": [
        "def one_qaoa_layer(n_qubits, edges, theta, beta):\n",
        "\n",
        "    layer = QRoutine()\n",
        "    #TODO: implement one qaoa layer\n",
        "\n",
        "    # Layer of rotations RX(theta)\n",
        "    for qubit in range(n_qubits):\n",
        "      layer.apply(RX(theta), qubit)\n",
        "\n",
        "    # Layer of exp(-i beta H_C)\n",
        "    for (qubit1, qubit2) in edges:\n",
        "      layer.apply(U_ZZ(2*beta), qubit1, qubit2)\n",
        "    return layer"
      ],
      "id": "27954bb3"
    },
    {
      "cell_type": "markdown",
      "metadata": {
        "id": "bd0c36a5"
      },
      "source": [
        "### Question 4"
      ],
      "id": "bd0c36a5"
    },
    {
      "cell_type": "code",
      "execution_count": null,
      "metadata": {
        "id": "655a9aaa"
      },
      "outputs": [],
      "source": [
        "from qat.qpus import get_default_qpu\n",
        "import cmath\n",
        "from qat.lang.AQASM import Program, H,  AbstractGate, QRoutine\n",
        "\n",
        "def evaluate_parameters(n_qubits, edges, parameters, n_layers):\n",
        "    \n",
        "    prog = Program()\n",
        "    qubits = prog.qalloc(n_qubits)\n",
        "    \n",
        "    # TODO: implement initialization+parameterized circuit\n",
        "    # Hadamard tower\n",
        "    for qubit in qubits:\n",
        "      prog.apply(H, qubit)\n",
        "    \n",
        "    # parameterized circuit\n",
        "    num_iterations = len(parameters)//2\n",
        "    for i in range(num_iterations):\n",
        "      theta, beta = parameters[2*i], parameters[2*i+1]\n",
        "      prog.apply(one_qaoa_layer(n_qubits, edges, theta, beta), qubits)\n",
        "    \n",
        "        \n",
        "    # END TODO\n",
        "    circ = prog.to_circ()\n",
        "\n",
        "    \n",
        "    job = circ.to_job()\n",
        "    qpu = get_default_qpu()\n",
        "    \n",
        "    result = qpu.submit(job)\n",
        "    \n",
        "    # BEGIN TODO\n",
        "    obs = 0\n",
        "    for sample in result:\n",
        "      # this loop is over all 2**nqubits states.\n",
        "      # sample.state.bitstring contains the qubit values (nqubits 0 or 1)\n",
        "      b = [int(i)*2-1 for i in sample.state.bitstring] # transforme les 0 en -1 sans modifier les 1.\n",
        "      for i,j in edges:\n",
        "        obs += b[i]*b[j]*sample.probability\n",
        "    # END TODO\n",
        "    return obs"
      ],
      "id": "655a9aaa"
    },
    {
      "cell_type": "code",
      "execution_count": null,
      "metadata": {
        "colab": {
          "base_uri": "https://localhost:8080/"
        },
        "id": "88963901",
        "outputId": "52b0f492-033c-492e-8104-74f45775be0f"
      },
      "outputs": [
        {
          "output_type": "execute_result",
          "data": {
            "text/plain": [
              "array([0.80149158, 0.02008969, 0.85893368])"
            ]
          },
          "metadata": {},
          "execution_count": 8
        }
      ],
      "source": [
        "import numpy as np\n",
        "np.random.random(3)"
      ],
      "id": "88963901"
    },
    {
      "cell_type": "code",
      "execution_count": null,
      "metadata": {
        "id": "42557843"
      },
      "outputs": [],
      "source": [
        "from scipy.optimize import minimize"
      ],
      "id": "42557843"
    },
    {
      "cell_type": "markdown",
      "metadata": {
        "id": "0846a6dd"
      },
      "source": [
        "### Random initialisation"
      ],
      "id": "0846a6dd"
    },
    {
      "cell_type": "markdown",
      "metadata": {
        "id": "f679d3e0"
      },
      "source": [
        "### Question 5: \n",
        "réponse à la question:"
      ],
      "id": "f679d3e0"
    },
    {
      "cell_type": "code",
      "execution_count": null,
      "metadata": {
        "colab": {
          "base_uri": "https://localhost:8080/",
          "height": 320
        },
        "id": "36f6e279",
        "outputId": "f86fb826-744b-4dcf-ec34-dca1e09bb91a"
      },
      "outputs": [
        {
          "output_type": "stream",
          "name": "stdout",
          "text": [
            "-0.9010700029857371 -1.475038574037623 -1.7494599463092821 -2.2268784162630006 -2.3868245228819154 -2.5489655908684212 -2.649677766474337 -2.8033800530154966 -3.005881799332269 -3.138135925548933 -3.326530890992737 -3.4876664417536474 -3.5649678171023758 -3.5919246229798554 -3.594650098631919 -3.5957285972710653 -3.595745574867204 -3.5957470259365834 -3.595747093065027 -3.595747218025207 -3.5957474576183066 -3.5957494716252034 -3.595766462027333 -3.595782721842763 -3.595811052826924 -3.5971086391765112 -3.5975235261371985 -3.59825466070448 -3.5993034737512786 -3.599863017471446 -3.6002015882477925 -3.6008011044419383 -3.6011983061358634 -3.601732681401302 -3.6020897821138043 -3.602386739772238 -3.602683316141488 -3.602843328938349 -3.602894714606002 -3.6029172490309 -3.602918348435481 -3.602918354278881 -3.6029183547061674 -3.6029183547252344 -0.4327459144885901 -1.1763035008229454 -1.4453112655960112 -1.6480467865716142 -1.9303169294682585 -2.093002819382598 -2.330304728332389 -2.709873333335399 -3.221774453773589 -3.5269438370224706 -3.55754356340086 -3.591462258443838 -3.6438153406647427 -3.7153202233131353 -3.7322389339205606 -3.736548607613061 -3.743527387910527 -3.7500687113532334 -3.7509557712565247 -3.751036681263431 -3.751042104797138 -3.751045259626518 -3.7510716336915975 -3.751621544822908 -3.751748068425979 -3.7523679566128263 -3.7530735108883384 -3.7588962974214564 -3.7680869807946005 -3.773907359002377 -3.7743483310340578 -3.774439743373261 -3.7744515034941735 -3.7744533705264645 -3.7744562965407895 -3.7744606159083305 -3.774463629560384 -3.7744642812464164 -3.774464341252 -3.774464343028185 -0.14573010896485425 -0.6353050153339359 -2.472099577392931 -2.8905358746265657 -3.0604587787837483 -3.2407558399710266 -3.2687089751223763 -3.3198951016290383 -3.406706700740754 -3.5155478574919172 -3.5584369388796744 -3.6162942641994893 -3.637002967314171 -3.6437124151387374 -3.6472997037997357 -3.6490042973477252 -3.6509015720828306 -3.6537877461902393 -3.656441075365498 -3.659706175537477 -3.6652280492881366 -3.6702539961393303 -3.6720295051505083 -3.6723901292836088 -3.673065906854296 -3.6742976864344676 -3.6762508531575406 -3.6780175180101122 -3.6790874750898896 -3.680635767460917 -3.6823576968633898 -3.683103107117524 -3.6836838295769367 -3.683774152156561 -3.6838069374467035 -3.683821433499222 -3.683823993719983 -3.6838242924553555 -3.6838243405205033 -3.683824342470494 -3.6838243427268953 -3.6838243427433315 -0.5815661612340385 -1.4450835754521045 -1.7460266199449725 -2.123723659090213 -2.5834761903260817 -2.7947140751701025 -2.955809562962195 -2.993102023345856 -3.0080571503290354 -3.0352591703797724 -3.0885150580638965 -3.132318847200481 -3.2004823773199673 -3.262687502972368 -3.293771394561145 -3.3298030467566164 -3.3731424199758164 -3.4362454803506663 -3.511344091376375 -3.620933445440101 -3.757616267175376 -3.8938403556031638 -4.023563316060904 -4.057027148847284 -4.072044594135807 -4.0968500958640455 -4.126956294602616 -4.150783196406689 -4.1735916511930595 -4.2166296417716795 -4.298630965688535 -4.32518205657576 -4.370191065382017 -4.437834040938983 -4.493768674514105 -4.516053852498917 -4.53560340577992 -4.537065031649904 -4.537532095694651 -4.5379551558975395 -4.5386947317468564 -4.539627600687235 -4.539888699949447 -4.540114633338879 -4.540318470709766 -4.540670413529625 -4.541291164973444 -4.542320109052702 -4.543534211580316 -4.544953163315873 -4.5470297023211455 -4.549171724270151 -4.550513716182961 -4.551509485098082 -4.553275096259632 -4.556342046575516 -4.561227580464276 -4.569337918413442 -4.583407332022565 -4.608191347627497 -4.625991806777589 -4.634357775968578 -4.646965705611691 -4.667003602682859 -4.680225447626186 -4.697355420996997 -4.707332125801445 -4.719229407230639 -4.723915838583866 -4.727642857309986 -4.729546449046129 -4.730971869433054 -4.733203034425106 -4.7364808753248155 -4.740425498833391 -4.7444712460636795 -4.7461018200314085 -4.747700306113866 -4.748566348503403 -4.750065211235598 -4.752865364143522 -4.7578170664171475 -4.763476550741973 -4.770340407257124 -4.779930833705887 -4.784826152266387 -4.786103517005287 -4.78787240816332 -4.789032601942958 -4.7902524815048535 -4.792053687193961 -4.793580292632971 -4.7946436603660425 -4.794956841925359 -4.795223407699343 -4.795695975246339 -4.796486142028592 -4.7975514031858 -4.798700169745728 -4.8003133055244565 -4.802082659265116 -4.802622069284233 -4.803147709830766 -4.80398063464964 -4.805137468854441 -4.805943338913328 -4.806729799968369 -4.807286946927656 -4.80772551116583 -4.807980412598296 -4.808300897436775 -4.808835582371872 -4.809750925252707 -4.811144573553616 -4.812522143137642 -4.814030327484691 -4.816306986617337 -4.817215476958625 -4.818712147211028 -4.82126253521087 -4.825609214649479 -4.8305601488490195 -4.836009990704988 -4.844066580421056 -4.853752562513445 -4.867821018735277 -4.877176811991271 -4.8829957368142605 -4.889332118219424 -4.893861487644152 -4.901550017865973 -4.910712571952355 -4.915477439533362 -4.919694595032444 -4.920772425285984 -4.92250335831912 -4.924337947826038 -4.924985392835883 -4.925674282504233 -4.926210724588846 -4.926567233340943 -4.927076552849691 -4.927390688057272 -4.927482346713554 -4.927513706547923 -4.927534912998268 -4.927572185465896 -4.927639300880299 -4.927759347315511 -4.927966383594766 -4.928291498094663 -4.928661619590016 -4.928932611178566 -4.929154205585639 -4.9292227553433845 -4.929254823863324 -4.9292666562935565 -4.929268191549775 -4.929268711959534 -4.929268728155883 -4.929268729937124 -4.929268730086814 -4.929268730096154 -0.11797753110696751 -0.20891264380482408 -0.3797002476056406 -1.0654486817802822 -1.2289137551758949 -1.4822645644829182 -1.823336562925887 -2.0692356760038733 -2.386283101268315 -2.833704788041559 -3.5270745883079795 -3.688245332634987 -3.941347962420673 -4.17410735937949 -4.204270064290619 -4.260775010869506 -4.331643746905907 -4.425217057524099 -4.441149247401751 -4.469884117555621 -4.517264004679998 -4.584390108252123 -4.60888231852047 -4.624084687247121 -4.62811327426753 -4.6299891725099895 -4.632372178051875 -4.633428904604754 -4.634111233651718 -4.634724041874133 -4.635727759311881 -4.637359287667852 -4.6395969821746625 -4.641179489523098 -4.642286027818138 -4.642561198636511 -4.642990753658507 -4.643490768556563 -4.643731312061558 -4.6439276720711575 -4.644067883885733 -4.644269958682711 -4.644463489706715 -4.644599694953279 -4.6446598093782425 -4.644705745958912 -4.644781142899737 -4.6449175371155205 -4.645170429251288 -4.6456211867201835 -4.6462314194694345 -4.646616004424 -4.646989832692525 -4.647101788829453 -4.647137488830931 -4.647150941623637 -4.647160157002388 -4.6471674709194115 -4.64717234848768 -4.647174666101638 -4.647176727886772 -4.647180281147377 -4.647186625005836 -4.647197966170967 -4.64721757032032 -4.647248017232581 -4.647278467613852 -4.6472996278933545 -4.647308642427187 -4.647309076014181 -4.647309155959393 -4.647309175047939 -4.647309176170331 -4.647309176259012 -4.647309176267032 0.19099354401687446 -0.01046674393930936 -0.4169861914103453 -0.5874792642883023 -0.6782295973344182 -0.8434252101606541 -1.0964650460860497 -1.1559588481148826 -1.2719928545276116 -1.4450521278893291 -1.6238064582471525 -1.794160257600764 -1.8952551117897878 -2.073202687616697 -2.418624665694414 -2.8684250655552668 -2.984120854337531 -3.1208298814465976 -3.206180716876097 -3.319203308461498 -3.465709851570031 -3.5168439902074464 -3.5847720083368744 -3.6978048257960987 -3.7681274766779986 -3.893298562068208 -3.9759168924302304 -4.055565228798026 -4.1149149795152065 -4.208182635129836 -4.314658804568071 -4.359514884978504 -4.405652159546464 -4.437911560543974 -4.450193900180132 -4.463110069751449 -4.485841785744368 -4.505524304953196 -4.529712017283162 -4.536779043720804 -4.541429654196694 -4.548119887378788 -4.559438757961221 -4.570964095687212 -4.576784247657064 -4.58339131654156 -4.590059865692333 -4.593492865244444 -4.5968427164802925 -4.601029581494466 -4.608921123683436 -4.620880325790334 -4.6267582785926935 -4.637049975690316 -4.6502519283920485 -4.667468428370568 -4.67852155180544 -4.688085865590716 -4.692764149565626 -4.696120054069199 -4.698783352458945 -4.70243076258239 -4.706549120044532 -4.7077446384261235 -4.70944123952813 -4.710191635255111 -4.710494069624194 -4.710923614126374 -4.711344673856377 -4.711948291460096 -4.712999822051345 -4.714800299880411 -4.717472855587872 -4.719874401094735 -4.7214135055312045 -4.722024599129647 -4.723035641731227 -4.724387177199649 -4.725204402501895 -4.725924529432067 -4.7268160048713455 -4.728213856902353 -4.73015189254244 -4.732335859549616 -4.733835604201108 -4.735739074679572 -4.738337645557985 -4.742659494877696 -4.7465587816851444 -4.7524893241202895 -4.763501337686944 -4.780514021313607 -4.788260526714859 -4.796522468316702 -4.807877001480282 -4.813217406276459 -4.816418743579276 -4.82014361083237 -4.823068931345376 -4.82340157216965 -4.823997668306756 -4.824910111270876 -4.825436679405369 -4.82573893098884 -4.826168530526113 -4.826364850863507 -4.826397411723528 -4.826414624807857 -4.826430232599159 -4.826445387944561 -4.826457099831615 -4.8264757679386 -4.8265074899480975 -4.826563998999791 -4.826665973662622 -4.826837188608286 -4.827023716703935 -4.8273061883627175 -4.827799163393478 -4.82854381334585 -4.829083680813616 -4.829323038164831 -4.829773810147204 -4.8306032938785535 -4.831972880155184 -4.833692298527908 -4.834805204699264 -4.836344381427159 -4.83873954581724 -4.841988195931965 -4.843328421899984 -4.845073790256071 -4.846727849166149 -4.8477744536864416 -4.848786644306216 -4.848976648114386 -4.84927343913921 -4.849482454020462 -4.849529593234153 -4.849598096339569 -4.849685832372815 -4.8498449768780425 -4.850149549849152 -4.85062733475493 -4.851026174155958 -4.851755624931823 -4.853124041257854 -4.855555246690858 -4.858564225282643 -4.860484465838299 -4.86350089289053 -4.8670553759146005 -4.871415779174953 -4.8760973679483826 -4.878845364104713 -4.88073884162264 -4.882940373312581 -4.883936498551329 -4.8851786344697965 -4.8856684155133445 -4.885849944681921 -4.885891487566942 -4.8859662500823715 -4.886091473060734 -4.8862495155648755 -4.886311956901521 -4.886402479574527 -4.886462183224566 -4.886494581319292 -4.886526351600959 -4.88656344973165 -4.886614417982041 -4.886709187525624 -4.887281004089163 -4.887373436771534 -4.8882167799869425 -4.8896491441859045 -4.891563616510516 -4.893817883541685 -4.895375381664891 -4.89797418321834 -4.9016521872307806 -4.903577201278861 -4.9050005732466415 -4.906250114526492 -4.907858132342676 -4.909671382065278 -4.911025405231363 -4.9120442032596845 -4.913009454416208 -4.913785351981358 -4.914516650429765 -4.914935608779685 -4.915250787101617 -4.915560784744945 -4.91601944308071 -4.916663435990934 -4.917133168241238 -4.917438775178087 -4.917662500793248 -4.917786244894409 -4.917842736596115 -4.917907736035869 -4.917971818402304 -4.918039064322318 -4.918097467660961 -4.918134285495065 -4.918153522378375 -4.918164794589722 -4.9181713206027275 -4.91817572716222 -4.918178120649839 -4.918178783789364 -4.918178856920999 -4.918178859808295 -4.918178859922825 "
          ]
        },
        {
          "output_type": "execute_result",
          "data": {
            "text/plain": [
              "<matplotlib.legend.Legend at 0x7ffade01d5b0>"
            ]
          },
          "metadata": {},
          "execution_count": 23
        },
        {
          "output_type": "display_data",
          "data": {
            "text/plain": [
              "<Figure size 432x288 with 1 Axes>"
            ],
            "image/png": "[encoded data removed]"
          },
          "metadata": {
            "needs_background": "light"
          }
        }
      ],
      "source": [
        "import matplotlib.pylab as plt\n",
        "\n",
        "\n",
        "for nlayers in range(4,10,1):\n",
        "    num_params = 2*nlayers\n",
        "\n",
        "    back_trace = []\n",
        "    def print_avg(xk):\n",
        "        eva = evaluate_parameters(nqubits, edges, xk,nlayers)\n",
        "        back_trace.append(eva)\n",
        "        print(eva, end=' ')\n",
        "\n",
        "    opt_res = minimize(lambda x : evaluate_parameters(nqubits, edges, x, nlayers), \n",
        "                       np.random.random(num_params),\n",
        "                       callback=print_avg,)\n",
        "    plt.plot(back_trace,label=str(nlayers))\n",
        "# there exists a classical polynomial algorithm returning solutions within a factor of 0.878 of the optimal\n",
        "# we must at least beat that. https://fr.wikipedia.org/wiki/Coupe_maximum\n",
        "plt.axhline(0.878*best_value, color='b', label=\"classical apx ratio\")\n",
        "plt.axhline(best_value,color='r',label='optimal value')\n",
        "plt.legend()"
      ],
      "id": "36f6e279"
    },
    {
      "cell_type": "code",
      "source": [
        "import matplotlib.pylab as plt\n",
        "\n",
        "\n",
        "for nlayers in range(10,13,1):\n",
        "    num_params = 2*nlayers\n",
        "\n",
        "    back_trace = []\n",
        "    def print_avg(xk):\n",
        "        eva = evaluate_parameters(nqubits, edges, xk,nlayers)\n",
        "        back_trace.append(eva)\n",
        "        print(eva, end=' ')\n",
        "\n",
        "    opt_res = minimize(lambda x : evaluate_parameters(nqubits, edges, x, nlayers), \n",
        "                       np.random.random(num_params),\n",
        "                       callback=print_avg,)\n",
        "    plt.plot(back_trace,label=str(nlayers))\n",
        "# there exists a classical polynomial algorithm returning solutions within a factor of 0.878 of the optimal\n",
        "# we must at least beat that. https://fr.wikipedia.org/wiki/Coupe_maximum\n",
        "plt.axhline(0.878*best_value, color='b', label=\"classical apx ratio\")\n",
        "plt.axhline(best_value,color='r',label='optimal value')\n",
        "plt.legend()"
      ],
      "metadata": {
        "colab": {
          "base_uri": "https://localhost:8080/",
          "height": 320
        },
        "id": "QpH96QiVuHbE",
        "outputId": "96bbed90-35f5-4a39-c6d4-985d8d5326d3"
      },
      "id": "QpH96QiVuHbE",
      "execution_count": null,
      "outputs": [
        {
          "output_type": "stream",
          "name": "stdout",
          "text": [
            "-0.6261770496873996 -2.0133564320775665 -2.3606495163541057 -2.795838411181368 -3.262993629121712 -3.3349790253803646 -3.4590334696818537 -3.653043492576561 -3.7687936222099694 -3.9154604558710364 -3.9888496933969053 -4.010471490370738 -4.031070094145444 -4.065126917883615 -4.128148450668367 -4.166124351200789 -4.207474588121498 -4.249778465559927 -4.318498862256372 -4.381830975101282 -4.428130409636019 -4.47232377418382 -4.496835666686273 -4.518071381338943 -4.53554438388193 -4.555805245340927 -4.586359081130626 -4.613929868190911 -4.629123130774522 -4.652721016672261 -4.6706909073708855 -4.677503609968784 -4.680865719621137 -4.686029805781087 -4.694182588861584 -4.70479719648176 -4.716405526883535 -4.730555111179835 -4.736257182180367 -4.743401368655307 -4.7471399010216775 -4.750698354240532 -4.753689457650366 -4.755346197675221 -4.7558641784853455 -4.756694684661021 -4.758059145108308 -4.760186793431705 -4.763243258800959 -4.76664729505835 -4.771871365176666 -4.779676295062697 -4.791475668139091 -4.810987555956881 -4.837903782731937 -4.8527218010106425 -4.873970289735539 -4.895181846643054 -4.910019454299449 -4.920238800522332 -4.926743281226941 -4.935305810131043 -4.9393894834772825 -4.944019471149515 -4.9459766361716495 -4.948467878310571 -4.951293983138423 -4.952924290733108 -4.953696836826077 -4.95412174806726 -4.954373476780168 -4.954434195923679 -4.954461585841463 -4.95449162422823 -4.954526272252302 -4.954554982698375 -4.954576562909669 -4.954604979630607 -4.954652631546458 -4.9547337137319225 -4.954865316543984 -4.955043862121394 -4.955154261603726 -4.955212710198459 -4.955225058092692 -4.955245444928249 -4.955280240112842 -4.9553391115625764 -4.955430242339344 -4.955536062531866 -4.955648018968724 -4.95576489353558 -4.955789356677096 -4.955813033942859 -4.955818461948319 -4.955819420962034 -4.95581980770843 -4.955819955915915 -4.955819990402595 -4.955819997044805 -4.9558199995434995 -4.9558200000148425 -4.955820000095735 -0.4397610065253325 -0.8439355377891408 -1.5199670064907467 -1.8101704112466743 -2.241331223256755 -2.5229476596527416 -2.7094442938579104 -3.0443307368682864 -3.346804861795335 -3.5360203766620386 -3.9070276853427996 -4.130310308483858 -4.242837071131068 -4.427173243987037 -4.5330067898166675 -4.5864420482532875 -4.628733726814957 -4.660154206100334 -4.695619052817131 -4.704897261117504 -4.721608106483425 -4.748109542273926 -4.764560085435491 -4.781274658727713 -4.794140019646745 -4.811837135432436 -4.8193369460918545 -4.829077637266458 -4.837003482787621 -4.8410859656604766 -4.847175471278792 -4.856062818611716 -4.867536877175907 -4.876305262283997 -4.8855418888806055 -4.892011838983777 -4.89754365987733 -4.8996857125285995 -4.902904704524353 -4.905383430711378 -4.907089615941902 -4.909865362549374 -4.913745494650391 -4.915746556112928 -4.918266860728301 -4.919108297834301 -4.920514068549348 -4.9227987813147 -4.926327184080875 -4.930871551626633 -4.933156832214727 -4.935248046490652 -4.936566806154374 -4.937951602397273 -4.939392877257941 -4.941178638312795 -4.943316887096464 -4.9441586061784895 -4.944886380221456 -4.945627391964713 -4.946144145008976 -4.946493802618284 -4.946796283114711 -4.947200872297366 -4.9474935055556335 -4.94774847615875 -4.9481516153807 -4.948825852042105 -4.949741155872712 -4.950973170817931 -4.951751084537054 -4.952777107257068 -4.953324309848033 -4.954076489177312 -4.955115972370781 -4.956279084619923 -4.957056086038295 -4.957755799203981 -4.958370583844237 -4.958637371162088 -4.958824272147973 -4.959069321119571 -4.959489868952748 -4.960262788736315 -4.961626136443753 -4.963296539320062 -4.964772431692276 -4.966980227421167 -4.9698974366628175 -4.970731848460914 -4.971900858150957 -4.973315774353044 -4.974849652031907 -4.975857315987117 -4.977086463910887 -4.978673712719132 -4.979861094176547 -4.981438101634004 -4.982655086951304 -4.983220871198073 -4.984177867440742 -4.985335959381537 -4.985908977124199 -4.986560744983608 -4.986950801085178 -4.987195217621932 -4.987377871878145 -4.987618202597897 -4.987907807597657 -4.988105583313207 -4.9882925579658055 -4.988597370920512 -4.989057148412471 -4.989566306804473 -4.990088321794482 -4.99075793891388 -4.9912139250099905 -4.9915976422673705 -4.991841617772658 -4.992082558448474 -4.992371889245439 -4.992645928275992 -4.992782174963117 -4.99285934769301 -4.992933927078063 -4.993002425596779 -4.993038701791618 -4.9930573260912245 -4.993088246588586 -4.9931421538833405 -4.993235898306098 -4.9933840271820955 -4.993532382929764 -4.993626849164562 -4.993689251482593 -4.993707158654661 -4.993722123767071 -4.993734167959719 -4.993740917767558 -4.993745117582147 -4.993750244211576 -4.99375871585636 -4.993771310545756 -4.993781805366292 -4.993789252119821 -4.993793912450945 -4.993795436362029 -4.9937971973640884 -4.993800079932178 -4.9938050948800825 -4.9938137124956805 -4.993828251994927 -4.993852403231764 -4.9938911608187935 -4.993949764453632 -4.9939763312590735 -4.994023602745165 -4.994109377816816 -4.9942539320008335 -4.994421156512005 -4.994459497529968 -4.994525221702585 -4.9946244626770335 -4.994733030903392 -4.994784413919895 -4.994847039499192 -4.994892463849135 -4.994935002653818 -4.994967583125578 -4.994982497313849 -4.994996284191263 -4.995015309073542 -4.995027678365975 -4.995030742359277 -4.995033694100464 -4.9950360486422305 -4.995038606989745 -4.995042888891806 -4.995050509884187 -4.995064378942356 -4.995089299126714 -4.995130450195282 -4.995178627989796 -4.995209583791017 -4.995226567692563 -4.995235132626218 -4.995238322529434 -4.995240344970619 -4.995242604139873 -4.995245490257308 -4.995248849034586 -4.995252109051617 -4.995255746950642 -4.995261214443639 -4.995269926692813 -4.995282927138762 -4.995297347020507 -4.995301789146169 -4.99530901879998 -4.995317527952525 -4.995319746068412 -4.995323177742656 -4.995325813021441 -4.995326790802471 -4.9953275416260166 -4.995327905634898 -4.995328027374921 -4.995328073670245 -4.995328094111626 -4.995328108002408 -4.995328125544054 -4.9953281478820575 -4.995328169947628 -4.99532818822338 -4.995328205798602 -4.995328234960595 -4.995328286444443 -4.995328379207773 -4.995328550104683 -4.995328860893758 -4.995329420828057 -4.995330405880009 -4.995332046445668 -4.995334568013682 -4.995338541731278 -4.9953451750396045 -4.995355901682512 -4.995369201601761 -4.9953708109156 -4.995373452444198 -4.995376773294305 -4.9953780989085645 -4.995378704911338 -4.99537874171557 -4.995378809242567 -4.995378920015148 -4.995379011311849 -4.995379022343618 -4.9953790259771536 -4.995379026714294 -4.995379026741764 -4.995379026757234 -4.995379026758819 -1.2664485896820759 -1.4776204460978264 -1.7922012599111636 -2.1705584484484977 -2.4410352648059956 -2.737809990422899 -2.945737178954401 -3.1974567337194557 -3.554221718086747 -3.7286101474109983 -3.8127829194008536 -3.9022815308639536 -4.017683153375711 -4.0271683408505075 -4.109083843486727 -4.2317840319966455 -4.365635746602131 -4.4363476815671605 -4.5369528481286485 -4.594067626201727 -4.656887108257713 -4.671958111314379 -4.697294822806275 -4.7348528247826325 -4.770165669235027 -4.781222582347031 -4.792256716349139 -4.800935258850512 -4.814369679007677 -4.834774042947514 -4.848909423903194 -4.8600277703130725 -4.8692172479606315 -4.876896672138974 -4.888165721334617 -4.8962554194404655 -4.909238640563082 -4.919384058909349 -4.935106057418572 -4.950775185149715 -4.9543040814613475 -4.958568154781791 -4.9622393821295265 -4.965384070577749 -4.969639806944037 -4.973462584338214 -4.975310078022617 -4.977716131171331 -4.979599450488046 -4.981402702434867 -4.983927628606507 -4.986150441956701 -4.987703097128424 -4.989113870613608 -4.990675616765984 -4.9909682453820325 -4.9915240202231645 -4.992522055468336 -4.993955299599501 -4.9946028417726 -4.99477610513169 -4.995013348303065 -4.995143921446697 -4.995246666945324 -4.995280665064093 -4.99532899356 -4.995360402952683 -4.995379864371062 -4.995400514041367 -4.995419172069489 -4.995431776485991 -4.995439564257983 -4.995447116483675 -4.995458745932252 -4.995477456318064 -4.995505545807834 -4.995530691548905 -4.995545361084988 -4.995557645011851 -4.995571739989077 -4.995595466047504 -4.995635644015691 -4.995697438243734 -4.995779761522933 -4.995882548766527 -4.995951224018325 -4.996046730808275 -4.99611462169368 -4.996201399482472 -4.996249961344556 -4.996314999669921 -4.996411636229246 -4.996453726747968 -4.996522851460245 -4.996589052446284 -4.996641986383361 -4.99671741797037 -4.996783155492444 -4.996867728138612 -4.996957869393843 -4.997051636444137 -4.997097758994206 -4.997162721264241 -4.997241085555545 -4.997353964939004 -4.997488231864504 -4.997584620057986 -4.997634734852014 -4.9976646008836 -4.997685835303467 -4.997699214673395 -4.997707849419013 -4.997719437492126 -4.997731221732295 -4.997743527664389 -4.9977605237824205 -4.997777081048837 -4.99779975704161 -4.997832631476453 -4.997883180805602 -4.997951320424567 -4.998012152223645 -4.998072172600117 -4.998158364138155 -4.998262210054568 -4.998332490870149 -4.99843264189713 -4.998510559588512 -4.9985471721806665 -4.998596096940135 -4.998631767748535 -4.998651952398938 -4.99867438832214 -4.998688199865719 -4.998695615443827 -4.998699773460786 -4.998704800665536 -4.998713214183813 -4.998727024570639 -4.998749457230884 -4.998785129285266 -4.998839185981236 -4.998909278647631 -4.998952045740577 -4.999022935828267 -4.999107547856455 -4.999197417583246 -4.9992918997776306 -4.999381561597901 -4.9994383374394245 -4.999493026154269 -4.9995344921903335 -4.9995595419664935 -4.999576602824233 -4.999582805611972 -4.999586431476082 -4.999587995124625 -4.999588922214604 -4.99959005583655 -4.999591610275417 -4.999594098017519 -4.999597335014309 -4.999599155567413 -4.999600562095774 -4.999601034311256 -4.999601204399034 -4.999601362760629 -4.999601427342732 -4.999601544229322 -4.99960175845397 -4.9996021477743415 -4.999602837696884 -4.999604000218424 -4.999605768326081 -4.999607868335802 -4.999610692244884 -4.999615116429018 -4.999621603383862 -4.999625558382381 -4.999631505829168 -4.999640316578105 -4.999651413864001 -4.999658343802691 -4.999667844371534 -4.9996719074431075 -4.999672961511508 -4.999674170284082 -4.999676066579601 -4.999679179790568 -4.999684144982906 -4.999690401496037 -4.999692756507934 -4.999696921218512 -4.999699847748867 -4.9997016624018125 -4.999703038197297 -4.999704160697093 -4.9997058108054615 -4.999707185542937 -4.9997090198995995 -4.999710613349452 -4.999712589600862 -4.999714769904645 -4.999715515502196 -4.999716222886883 -4.999716773809257 -4.999717429206371 -4.999718010908964 -4.999718369167031 -4.999718417466113 -4.999718509645366 -4.999718672979431 -4.999718832964914 -4.999718926005711 -4.999718992201854 -4.999719091511544 -4.999719166898035 -4.999719197445132 -4.9997192134289 -4.999719230836758 -4.999719244742172 -4.999719260965424 -4.999719261122323 -4.99971926248347 -4.99971926387178 -4.999719263970914 -4.999719264120988 -4.99971926446725 -4.999719265088003 -4.999719265817157 -4.9997192669947195 -4.9997192692126475 -4.999719283710007 -4.999719295126292 -4.999719382007176 -4.9997194997134216 -4.999719678391877 -4.99971991616502 -4.99972009535775 -4.999720265547216 -4.999720306747927 -4.999720378652108 -4.99972050237199 -4.999720699251565 -4.999721010191629 -4.999721419883992 -4.999721494638283 -4.999721634988512 -4.999721873589812 -4.999722272216383 -4.999722598552248 -4.999722718280322 -4.999722804697129 -4.999722878332585 -4.999722903553693 -4.9997229343730805 -4.999722943624803 -4.999722950944529 -4.999722960451112 -4.999722965821548 -4.999722970167833 -4.999722976974868 -4.999722983465058 -4.999722985775071 -4.999722987730763 -4.999722989645954 -4.999722993248142 -4.999722998312253 -4.999723006036848 -4.999723014448131 -4.999723019764348 -4.999723025319659 -4.999723031837547 -4.999723038858204 -4.999723041489406 -4.999723043913399 -4.99972304582041 -4.999723046434428 -4.99972304651472 -4.999723046519162 -4.999723046687058 -4.999723046961214 -4.9997230472586836 -4.999723047410598 -4.999723047415487 -4.999723047415667 -4.99972304741578 -4.999723047415938 -4.999723047416211 -4.999723047416676 -4.999723047417424 -4.999723047418792 -4.9997230474207495 -4.999723047422722 "
          ]
        },
        {
          "output_type": "execute_result",
          "data": {
            "text/plain": [
              "<matplotlib.legend.Legend at 0x7ffade081bb0>"
            ]
          },
          "metadata": {},
          "execution_count": 24
        },
        {
          "output_type": "display_data",
          "data": {
            "text/plain": [
              "<Figure size 432x288 with 1 Axes>"
            ],
            "image/png": "[encoded data removed]"
          },
          "metadata": {
            "needs_background": "light"
          }
        }
      ]
    },
    {
      "cell_type": "markdown",
      "source": [
        "The optimization algorithm shows that for high numbers of levels, the computation time grows a lot, reaching 10 to 30 minutes. It also shows that the time until convergence is acknowledged increases a lot: this is why simulations for up to 9 layers and for 10 to 12 layers were separated into two distinct cells; so we could see the graphs.\n",
        "\n",
        "The simulations show that if it suffices to reach the classical apx ratio as fast as possible, then the 8 layers case is the best. Though, for 7 to 12 layers there is not much difference in this regard. It can clearly be seen that 7 layers at least are required: up to 6 layers the simulation converges to a value far from the optimal one. \n",
        "\n",
        "In our simulation, surprisingly, the 8 layers case yields a result worse than the 7 layers one. I would then argue that, to ensure finding the closest possible result to the optimal value during a reasonable computation time, one should choose 9 or 10 layers."
      ],
      "metadata": {
        "id": "T_IHuYfwJoom"
      },
      "id": "T_IHuYfwJoom"
    },
    {
      "cell_type": "markdown",
      "metadata": {
        "id": "e9dffce1"
      },
      "source": [
        "### Question 6: smart initialization\n",
        "One can rewrite the expression of $|\\psi_{final}\\rangle$ using the hypothesis that the exponential of the sum is equal to the product of the exponentials. Not forgetting that the factors do not necesarily commute, we get:\n",
        "$$|\\psi_{final}\\rangle = e^{-i\\int_0^T H(s) \\text{d} s} |\\psi_0\\rangle$$\n",
        "$$|\\psi_{final}\\rangle = \\prod_{k=1}^p e^{-i(1-\\frac k p) \\sigma_x^k \\frac T p} e^{-i\\frac{kT}{p^2} H_C}|\\psi_0\\rangle$$\n",
        "\n",
        "Here we recognize the expressions of the coefficients $\\beta_k$ and $\\theta_k$: $e^{-i\\beta_k H_C} = e^{-i\\frac{kT}{p^2}H_C}$ and $RX(\\theta_k) = e^{-i\\frac{\\theta_k} 2 X} = e^{-i(1-\\frac k p) \\sigma_x^k \\frac T p}$ from which we deduce:\n",
        "$\\beta_k = \\frac{kT}{p^2}$ and $\\theta_k = (1-\\frac k p)\\frac {2T} p$."
      ],
      "id": "e9dffce1"
    },
    {
      "cell_type": "code",
      "execution_count": null,
      "metadata": {
        "id": "d1eb83de",
        "colab": {
          "base_uri": "https://localhost:8080/",
          "height": 320
        },
        "outputId": "7d2b09a3-72c4-4130-c870-0cfc2f3cb63a"
      },
      "outputs": [
        {
          "output_type": "stream",
          "name": "stdout",
          "text": [
            "-1.0405715505168402 -1.5292954276981825 -1.9567108385017762 -3.963276100577071 -3.968420607250708 -3.975935176468193 -3.978042328390269 -3.9782499203275092 -3.9782688910945123 -3.978269025339624 -3.97826902959773 -3.9782690296559355 -0.5180161877983447 -1.7839330646231177 -3.0106922506674945 -3.170208207795462 -3.4666539479383283 -4.050282215427047 -4.193342767195923 -4.420928027565178 -4.553244482005365 -4.647187323056993 -4.652883714787907 -4.659906729479177 -4.661919292528216 -4.662441138246384 -4.662544665214668 -4.662579255904628 -4.662587688860361 -4.662589564966731 -4.662589588076014 -4.662589588288662 -0.8658690093077235 -1.2836836645212724 -1.8649633024736958 -2.09034531298824 -2.9367443714768626 -3.0662402957136625 -3.29086056863347 -3.717890161719934 -4.290960440536598 -4.37445409433623 -4.500485323640496 -4.624350844682501 -4.659931557501737 -4.710204239487717 -4.73397701211781 -4.739751304370875 -4.74499950295444 -4.750102340822735 -4.755804468199382 -4.764151196587207 -4.773263222147988 -4.77843389093428 -4.787145455965926 -4.801869086380213 -4.823172527429209 -4.837613106378316 -4.851050352729152 -4.869433794918328 -4.875067555115168 -4.87656283073411 -4.879035052546056 -4.881564017799344 -4.881821673758259 -4.8819367081465055 -4.881958031239046 -4.881966375472763 -4.881968611598083 -4.881968641949674 -4.8819686430049805 -4.881968643050599 -2.035498410846305 -2.422467400988603 -2.839182869020437 -3.061951262172992 -3.332829300817183 -3.419694252495177 -3.4486397343811213 -3.4923930615113346 -3.5105736653109783 -3.5315504565533127 -3.550454889689325 -3.5772394449790936 -3.6269625095988367 -3.713680348644329 -3.8310308971320644 -3.9703507939072797 -4.104826026940283 -4.15761069916217 -4.214383390152739 -4.265653888973792 -4.305556862247776 -4.331652200568548 -4.345979420224614 -4.356397039359454 -4.3594587032528525 -4.361365971231887 -4.361963598129239 -4.362379559871512 -4.362439712079979 -4.36250610195458 -4.362558708203353 -4.362571752271181 -4.362579439765321 -4.36257979920536 -4.362579814199571 -4.362579814390182 -1.0203190647899332 -1.550379683050947 -2.6521202801445525 -3.2482448059424063 -3.598181179698551 -3.9019189371135905 -4.28613294661465 -4.512138967279972 -4.596175789408249 -4.625660361195222 -4.661397335966074 -4.674035311772333 -4.691029552410042 -4.701718734364166 -4.7065040253574715 -4.714908884722097 -4.7279205511509765 -4.733722812702322 -4.7368088729618965 -4.738777131120732 -4.740592721789591 -4.743755537327816 -4.748839838904818 -4.754671315580373 -4.75760294626283 -4.761525035316727 -4.7643450147732835 -4.767146257717906 -4.770599365804028 -4.773331890502308 -4.7743653217242095 -4.775930028326954 -4.778046483341585 -4.779168707463817 -4.779463876808241 -4.779960939559055 -4.780594603440411 -4.780847773076301 -4.781190817229006 -4.781358001119014 -4.781585153805559 -4.7816887043965774 -4.781742293072817 -4.781779116934838 -4.781786547991412 -4.781798746968516 -4.781806884638485 -4.78180723130147 -4.781807573858783 -4.781807697295699 -4.781807917996234 -4.7818083231296225 -4.781809072145195 -4.781810450245388 -4.781812956846671 -4.781817424539328 -4.781825155288393 -4.781838100801278 -4.781859022107361 -4.78189016681093 -4.781939995638918 -4.781974515268066 -4.782037572321256 -4.782146743763 -4.782232349801919 -4.782348595583509 -4.782367625801491 -4.782402488188271 -4.782456342730543 -4.782529332173321 -4.782612679137126 -4.7827359034630215 -4.782766454242219 -4.782814923174399 -4.78288868737804 -4.782971257919391 -4.7830448044915785 -4.783095993089412 -4.783122744913756 -4.783130187332366 -4.783142785891749 -4.783163785362246 -4.783191642492602 -4.783201730801475 -4.7832120063718655 -4.783213093700931 -4.783213825875034 -4.7832142497906265 -4.783214348607375 -4.783214507418528 -4.783214766320213 -4.783215197769578 -4.783215907450454 -4.78321698788899 -4.783217912268098 -4.783218124730022 -4.783218160645646 -4.783218162873061 -4.783218162886472 "
          ]
        },
        {
          "output_type": "execute_result",
          "data": {
            "text/plain": [
              "<matplotlib.legend.Legend at 0x7f15b2e073a0>"
            ]
          },
          "metadata": {},
          "execution_count": 10
        },
        {
          "output_type": "display_data",
          "data": {
            "text/plain": [
              "<Figure size 432x288 with 1 Axes>"
            ],
            "image/png": "[encoded data removed]"
          },
          "metadata": {
            "needs_background": "light"
          }
        }
      ],
      "source": [
        "T = 1.\n",
        "import matplotlib.pyplot as plt\n",
        "\n",
        "for nlayers in range(3,8,1):\n",
        "    num_params = 2*nlayers\n",
        "\n",
        "    back_trace = []\n",
        "    def print_avg(xk):\n",
        "        eva = evaluate_parameters(nqubits, edges, xk,nlayers)\n",
        "        back_trace.append(eva)\n",
        "        print(eva, end=' ')\n",
        "\n",
        "    # TODO implement parameter init\n",
        "    parameters_init = []\n",
        "\n",
        "    for k in range(1,nlayers+1):\n",
        "      theta_k = (1-k/nlayers)*2*T/nlayers\n",
        "      beta_k = k*T/nlayers\n",
        "      parameters_init.append(theta_k)\n",
        "      parameters_init.append(beta_k)\n",
        "\n",
        "    # END TODO        \n",
        "    opt_res = minimize(lambda x : evaluate_parameters(nqubits, edges, x, nlayers), \n",
        "                       parameters_init, \n",
        "                       callback=print_avg,)\n",
        "    plt.plot(back_trace,label=str(nlayers))\n",
        "plt.axhline(0.878*best_value, color='b', label=\"classical apx ratio\")\n",
        "plt.axhline(best_value,color='r',label='optimal value')\n",
        "plt.legend()"
      ],
      "id": "d1eb83de"
    },
    {
      "cell_type": "markdown",
      "source": [
        "Indeed, the simulations works surprisingly better with the right initial parameters! Only 4 layers are needed for the simulation to converge to an acceptable result, and in less than 10 seconds. The results become visually very convincing for 7 layers. In all cases the final result is closer to the optimal value than what was obtained before."
      ],
      "metadata": {
        "id": "PZxFvRHjSct5"
      },
      "id": "PZxFvRHjSct5"
    },
    {
      "cell_type": "code",
      "source": [
        "T = 0.0000001\n",
        "\n",
        "for nlayers in range(3,8,1):\n",
        "    num_params = 2*nlayers\n",
        "\n",
        "    back_trace = []\n",
        "    def print_avg(xk):\n",
        "        eva = evaluate_parameters(nqubits, edges, xk,nlayers)\n",
        "        back_trace.append(eva)\n",
        "        print(eva, end=' ')\n",
        "\n",
        "    # TODO implement parameter init\n",
        "    parameters_init = []\n",
        "\n",
        "    for k in range(1,nlayers+1):\n",
        "      theta_k = (1-k/nlayers)*2*T/nlayers\n",
        "      beta_k = k*T/nlayers\n",
        "      parameters_init.append(theta_k)\n",
        "      parameters_init.append(beta_k)\n",
        "\n",
        "    # END TODO        \n",
        "    opt_res = minimize(lambda x : evaluate_parameters(nqubits, edges, x, nlayers), \n",
        "                       parameters_init, \n",
        "                       callback=print_avg,)\n",
        "    plt.plot(back_trace,label=str(nlayers))\n",
        "plt.axhline(0.878*best_value, color='b', label=\"classical apx ratio\")\n",
        "plt.axhline(best_value,color='r',label='optimal value')\n",
        "plt.legend()"
      ],
      "metadata": {
        "colab": {
          "base_uri": "https://localhost:8080/",
          "height": 282
        },
        "id": "qfSgfvOATqEC",
        "outputId": "f8818bc6-baef-4b5b-cb9e-def98a789f03"
      },
      "id": "qfSgfvOATqEC",
      "execution_count": null,
      "outputs": [
        {
          "output_type": "execute_result",
          "data": {
            "text/plain": [
              "<matplotlib.legend.Legend at 0x7f15b21f3550>"
            ]
          },
          "metadata": {},
          "execution_count": 15
        },
        {
          "output_type": "display_data",
          "data": {
            "text/plain": [
              "<Figure size 432x288 with 1 Axes>"
            ],
            "image/png": "[encoded data removed]"
          },
          "metadata": {
            "needs_background": "light"
          }
        }
      ]
    },
    {
      "cell_type": "markdown",
      "source": [
        "Changing the value of T does not change significantly the convergence. One has to change it by several orders of magnitude to see the convergence's success decrease."
      ],
      "metadata": {
        "id": "2EoScEI9mtYG"
      },
      "id": "2EoScEI9mtYG"
    }
  ],
  "metadata": {
    "colab": {
      "provenance": []
    },
    "kernelspec": {
      "display_name": "Python 3 (ipykernel)",
      "language": "python",
      "name": "python3"
    },
    "language_info": {
      "codemirror_mode": {
        "name": "ipython",
        "version": 3
      },
      "file_extension": ".py",
      "mimetype": "text/x-python",
      "name": "python",
      "nbconvert_exporter": "python",
      "pygments_lexer": "ipython3",
      "version": "3.10.6"
    }
  },
  "nbformat": 4,
  "nbformat_minor": 5
}