{
  "cells": [
    {
      "cell_type": "code",
      "source": [
        "!pip install myqlm\n",
        "!apt install imagemagick"
      ],
      "metadata": {
        "colab": {
          "base_uri": "https://localhost:8080/"
        },
        "id": "E2XKZ4stdot4",
        "outputId": "6ee41cd7-7015-4be0-8ee4-e99d5341a37b"
      },
      "id": "E2XKZ4stdot4",
      "execution_count": 4,
      "outputs": [
        {
          "output_type": "stream",
          "name": "stdout",
          "text": [
            "Looking in indexes: https://pypi.org/simple, https://us-python.pkg.dev/colab-wheels/public/simple/\n",
            "Collecting myqlm\n",
            "  Downloading myqlm-1.7.2-py3-none-any.whl (2.0 kB)\n",
            "Collecting qat-core>=1.6.1\n",
            "  Downloading qat_core-1.6.2-cp38-cp38-manylinux1_x86_64.whl (4.0 MB)\n",
            "\u001b[2K     \u001b[90m━━━━━━━━━━━━━━━━━━━━━━━━━━━━━━━━━━━━━━━━\u001b[0m \u001b[32m4.0/4.0 MB\u001b[0m \u001b[31m34.8 MB/s\u001b[0m eta \u001b[36m0:00:00\u001b[0m\n",
            "\u001b[?25hCollecting qat-comm>=1.4.2\n",
            "  Downloading qat_comm-1.4.2-cp38-cp38-manylinux1_x86_64.whl (2.9 MB)\n",
            "\u001b[2K     \u001b[90m━━━━━━━━━━━━━━━━━━━━━━━━━━━━━━━━━━━━━━━━\u001b[0m \u001b[32m2.9/2.9 MB\u001b[0m \u001b[31m67.2 MB/s\u001b[0m eta \u001b[36m0:00:00\u001b[0m\n",
            "\u001b[?25hCollecting qat-lang>=2.2.1\n",
            "  Downloading qat_lang-2.2.1-cp38-cp38-manylinux1_x86_64.whl (2.5 MB)\n",
            "\u001b[2K     \u001b[90m━━━━━━━━━━━━━━━━━━━━━━━━━━━━━━━━━━━━━━━━\u001b[0m \u001b[32m2.5/2.5 MB\u001b[0m \u001b[31m33.6 MB/s\u001b[0m eta \u001b[36m0:00:00\u001b[0m\n",
            "\u001b[?25hCollecting qat-devices>=0.2.0\n",
            "  Downloading qat_devices-0.2.0-cp38-cp38-manylinux1_x86_64.whl (252 kB)\n",
            "\u001b[2K     \u001b[90m━━━━━━━━━━━━━━━━━━━━━━━━━━━━━━━━━━━━━━\u001b[0m \u001b[32m252.7/252.7 KB\u001b[0m \u001b[31m26.5 MB/s\u001b[0m eta \u001b[36m0:00:00\u001b[0m\n",
            "\u001b[?25hCollecting myqlm-clinalg>=0.0.4\n",
            "  Downloading myqlm_clinalg-0.0.4-cp38-cp38-manylinux1_x86_64.whl (498 kB)\n",
            "\u001b[2K     \u001b[90m━━━━━━━━━━━━━━━━━━━━━━━━━━━━━━━━━━━━━━\u001b[0m \u001b[32m498.3/498.3 KB\u001b[0m \u001b[31m42.8 MB/s\u001b[0m eta \u001b[36m0:00:00\u001b[0m\n",
            "\u001b[?25hCollecting myqlm-contrib>=1.7.1\n",
            "  Downloading myqlm_contrib-1.7.1-py3-none-any.whl (13 kB)\n",
            "Collecting myqlm-simulators>=1.7.1\n",
            "  Downloading myqlm_simulators-1.7.1-py3-none-any.whl (19 kB)\n",
            "Collecting myqlm-fermion>=1.0.0\n",
            "  Downloading myqlm_fermion-1.0.0-py3-none-any.whl (90 kB)\n",
            "\u001b[2K     \u001b[90m━━━━━━━━━━━━━━━━━━━━━━━━━━━━━━━━━━━━━━━━\u001b[0m \u001b[32m90.0/90.0 KB\u001b[0m \u001b[31m13.2 MB/s\u001b[0m eta \u001b[36m0:00:00\u001b[0m\n",
            "\u001b[?25hCollecting qat-variational>=1.4.0\n",
            "  Downloading qat_variational-1.4.0-cp38-cp38-manylinux1_x86_64.whl (1.6 MB)\n",
            "\u001b[2K     \u001b[90m━━━━━━━━━━━━━━━━━━━━━━━━━━━━━━━━━━━━━━━━\u001b[0m \u001b[32m1.6/1.6 MB\u001b[0m \u001b[31m65.2 MB/s\u001b[0m eta \u001b[36m0:00:00\u001b[0m\n",
            "\u001b[?25hRequirement already satisfied: networkx in /usr/local/lib/python3.8/dist-packages (from myqlm-contrib>=1.7.1->myqlm) (2.8.8)\n",
            "Requirement already satisfied: scipy in /usr/local/lib/python3.8/dist-packages (from myqlm-fermion>=1.0.0->myqlm) (1.7.3)\n",
            "Collecting bitstring\n",
            "  Downloading bitstring-4.0.1-py3-none-any.whl (45 kB)\n",
            "\u001b[2K     \u001b[90m━━━━━━━━━━━━━━━━━━━━━━━━━━━━━━━━━━━━━━━━\u001b[0m \u001b[32m45.6/45.6 KB\u001b[0m \u001b[31m6.5 MB/s\u001b[0m eta \u001b[36m0:00:00\u001b[0m\n",
            "\u001b[?25hCollecting anytree\n",
            "  Downloading anytree-2.8.0-py2.py3-none-any.whl (41 kB)\n",
            "\u001b[2K     \u001b[90m━━━━━━━━━━━━━━━━━━━━━━━━━━━━━━━━━━━━━━━━\u001b[0m \u001b[32m41.7/41.7 KB\u001b[0m \u001b[31m5.8 MB/s\u001b[0m eta \u001b[36m0:00:00\u001b[0m\n",
            "\u001b[?25hRequirement already satisfied: pytest in /usr/local/lib/python3.8/dist-packages (from myqlm-fermion>=1.0.0->myqlm) (3.6.4)\n",
            "Requirement already satisfied: numpy in /usr/local/lib/python3.8/dist-packages (from myqlm-fermion>=1.0.0->myqlm) (1.21.6)\n",
            "Requirement already satisfied: tqdm in /usr/local/lib/python3.8/dist-packages (from myqlm-fermion>=1.0.0->myqlm) (4.64.1)\n",
            "Collecting thrift==0.16.0\n",
            "  Downloading thrift-0.16.0.tar.gz (59 kB)\n",
            "\u001b[2K     \u001b[90m━━━━━━━━━━━━━━━━━━━━━━━━━━━━━━━━━━━━━━━━\u001b[0m \u001b[32m59.6/59.6 KB\u001b[0m \u001b[31m8.4 MB/s\u001b[0m eta \u001b[36m0:00:00\u001b[0m\n",
            "\u001b[?25h  Preparing metadata (setup.py) ... \u001b[?25l\u001b[?25hdone\n",
            "Requirement already satisfied: six>=1.7.2 in /usr/local/lib/python3.8/dist-packages (from thrift==0.16.0->qat-comm>=1.4.2->myqlm) (1.15.0)\n",
            "Requirement already satisfied: matplotlib in /usr/local/lib/python3.8/dist-packages (from qat-core>=1.6.1->myqlm) (3.2.2)\n",
            "Requirement already satisfied: Pillow in /usr/local/lib/python3.8/dist-packages (from qat-core>=1.6.1->myqlm) (7.1.2)\n",
            "Requirement already satisfied: dill in /usr/local/lib/python3.8/dist-packages (from qat-core>=1.6.1->myqlm) (0.3.6)\n",
            "Collecting svgwrite\n",
            "  Downloading svgwrite-1.4.3-py3-none-any.whl (67 kB)\n",
            "\u001b[2K     \u001b[90m━━━━━━━━━━━━━━━━━━━━━━━━━━━━━━━━━━━━━━━━\u001b[0m \u001b[32m67.1/67.1 KB\u001b[0m \u001b[31m7.7 MB/s\u001b[0m eta \u001b[36m0:00:00\u001b[0m\n",
            "\u001b[?25hCollecting wand\n",
            "  Downloading Wand-0.6.11-py2.py3-none-any.whl (143 kB)\n",
            "\u001b[2K     \u001b[90m━━━━━━━━━━━━━━━━━━━━━━━━━━━━━━━━━━━━━━\u001b[0m \u001b[32m143.6/143.6 KB\u001b[0m \u001b[31m17.0 MB/s\u001b[0m eta \u001b[36m0:00:00\u001b[0m\n",
            "\u001b[?25hCollecting ply==3.11\n",
            "  Downloading ply-3.11-py2.py3-none-any.whl (49 kB)\n",
            "\u001b[2K     \u001b[90m━━━━━━━━━━━━━━━━━━━━━━━━━━━━━━━━━━━━━━━━\u001b[0m \u001b[32m49.6/49.6 KB\u001b[0m \u001b[31m6.1 MB/s\u001b[0m eta \u001b[36m0:00:00\u001b[0m\n",
            "\u001b[?25hCollecting pyDOE\n",
            "  Downloading pyDOE-0.3.8.zip (22 kB)\n",
            "  Preparing metadata (setup.py) ... \u001b[?25l\u001b[?25hdone\n",
            "Requirement already satisfied: python-dateutil>=2.1 in /usr/local/lib/python3.8/dist-packages (from matplotlib->qat-core>=1.6.1->myqlm) (2.8.2)\n",
            "Requirement already satisfied: kiwisolver>=1.0.1 in /usr/local/lib/python3.8/dist-packages (from matplotlib->qat-core>=1.6.1->myqlm) (1.4.4)\n",
            "Requirement already satisfied: cycler>=0.10 in /usr/local/lib/python3.8/dist-packages (from matplotlib->qat-core>=1.6.1->myqlm) (0.11.0)\n",
            "Requirement already satisfied: pyparsing!=2.0.4,!=2.1.2,!=2.1.6,>=2.0.1 in /usr/local/lib/python3.8/dist-packages (from matplotlib->qat-core>=1.6.1->myqlm) (3.0.9)\n",
            "Requirement already satisfied: py>=1.5.0 in /usr/local/lib/python3.8/dist-packages (from pytest->myqlm-fermion>=1.0.0->myqlm) (1.11.0)\n",
            "Requirement already satisfied: attrs>=17.4.0 in /usr/local/lib/python3.8/dist-packages (from pytest->myqlm-fermion>=1.0.0->myqlm) (22.2.0)\n",
            "Requirement already satisfied: atomicwrites>=1.0 in /usr/local/lib/python3.8/dist-packages (from pytest->myqlm-fermion>=1.0.0->myqlm) (1.4.1)\n",
            "Requirement already satisfied: setuptools in /usr/local/lib/python3.8/dist-packages (from pytest->myqlm-fermion>=1.0.0->myqlm) (57.4.0)\n",
            "Requirement already satisfied: pluggy<0.8,>=0.5 in /usr/local/lib/python3.8/dist-packages (from pytest->myqlm-fermion>=1.0.0->myqlm) (0.7.1)\n",
            "Requirement already satisfied: more-itertools>=4.0.0 in /usr/local/lib/python3.8/dist-packages (from pytest->myqlm-fermion>=1.0.0->myqlm) (9.0.0)\n",
            "Building wheels for collected packages: thrift, pyDOE\n",
            "  Building wheel for thrift (setup.py) ... \u001b[?25l\u001b[?25hdone\n",
            "  Created wheel for thrift: filename=thrift-0.16.0-cp38-cp38-linux_x86_64.whl size=349401 sha256=58a726a8746ed77757c64d40c2cb226107e8067ec7b01a894e45f3daa6b6ec67\n",
            "  Stored in directory: /root/.cache/pip/wheels/c1/03/53/7220f8aeecbf2c66ef655a9cff1929299e38119502a316ae30\n",
            "  Building wheel for pyDOE (setup.py) ... \u001b[?25l\u001b[?25hdone\n",
            "  Created wheel for pyDOE: filename=pyDOE-0.3.8-py3-none-any.whl size=18184 sha256=5e1c530d12d7a8f8398c3aa6a5596720d59def0b7807011271953cc8707d3ebf\n",
            "  Stored in directory: /root/.cache/pip/wheels/00/3e/fa/5705bf59c2053c17c4799c3ab66a2e356c32f40a3044fe2134\n",
            "Successfully built thrift pyDOE\n",
            "Installing collected packages: wand, ply, thrift, svgwrite, bitstring, anytree, qat-comm, pyDOE, qat-core, qat-lang, qat-devices, myqlm-contrib, qat-variational, myqlm-clinalg, myqlm-simulators, myqlm-fermion, myqlm\n",
            "Successfully installed anytree-2.8.0 bitstring-4.0.1 myqlm-1.7.2 myqlm-clinalg-0.0.4 myqlm-contrib-1.7.1 myqlm-fermion-1.0.0 myqlm-simulators-1.7.1 ply-3.11 pyDOE-0.3.8 qat-comm-1.4.2 qat-core-1.6.2 qat-devices-0.2.0 qat-lang-2.2.1 qat-variational-1.4.0 svgwrite-1.4.3 thrift-0.16.0 wand-0.6.11\n",
            "Reading package lists... Done\n",
            "Building dependency tree       \n",
            "Reading state information... Done\n",
            "The following package was automatically installed and is no longer required:\n",
            "  libnvidia-common-460\n",
            "Use 'apt autoremove' to remove it.\n",
            "The following additional packages will be installed:\n",
            "  fonts-droid-fallback fonts-noto-mono ghostscript gsfonts\n",
            "  imagemagick-6-common imagemagick-6.q16 libcupsfilters1 libcupsimage2\n",
            "  libdjvulibre-text libdjvulibre21 libgs9 libgs9-common libijs-0.35\n",
            "  libjbig2dec0 liblqr-1-0 libmagickcore-6.q16-3 libmagickcore-6.q16-3-extra\n",
            "  libmagickwand-6.q16-3 libnetpbm10 libwmf0.2-7 netpbm poppler-data\n",
            "Suggested packages:\n",
            "  fonts-noto ghostscript-x imagemagick-doc autotrace cups-bsd | lpr | lprng\n",
            "  enscript gimp gnuplot grads hp2xx html2ps libwmf-bin mplayer povray radiance\n",
            "  sane-utils texlive-base-bin transfig ufraw-batch inkscape libjxr-tools\n",
            "  libwmf0.2-7-gtk poppler-utils fonts-japanese-mincho | fonts-ipafont-mincho\n",
            "  fonts-japanese-gothic | fonts-ipafont-gothic fonts-arphic-ukai\n",
            "  fonts-arphic-uming fonts-nanum\n",
            "The following NEW packages will be installed:\n",
            "  fonts-droid-fallback fonts-noto-mono ghostscript gsfonts imagemagick\n",
            "  imagemagick-6-common imagemagick-6.q16 libcupsfilters1 libcupsimage2\n",
            "  libdjvulibre-text libdjvulibre21 libgs9 libgs9-common libijs-0.35\n",
            "  libjbig2dec0 liblqr-1-0 libmagickcore-6.q16-3 libmagickcore-6.q16-3-extra\n",
            "  libmagickwand-6.q16-3 libnetpbm10 libwmf0.2-7 netpbm poppler-data\n",
            "0 upgraded, 23 newly installed, 0 to remove and 21 not upgraded.\n",
            "Need to get 18.4 MB of archives.\n",
            "After this operation, 66.3 MB of additional disk space will be used.\n",
            "Get:1 http://archive.ubuntu.com/ubuntu bionic/main amd64 fonts-droid-fallback all 1:6.0.1r16-1.1 [1,805 kB]\n",
            "Get:2 http://archive.ubuntu.com/ubuntu bionic/main amd64 liblqr-1-0 amd64 0.4.2-2.1 [27.7 kB]\n",
            "Get:3 http://archive.ubuntu.com/ubuntu bionic-updates/main amd64 imagemagick-6-common all 8:6.9.7.4+dfsg-16ubuntu6.14 [60.5 kB]\n",
            "Get:4 http://archive.ubuntu.com/ubuntu bionic-updates/main amd64 libmagickcore-6.q16-3 amd64 8:6.9.7.4+dfsg-16ubuntu6.14 [1,622 kB]\n",
            "Get:5 http://archive.ubuntu.com/ubuntu bionic-updates/main amd64 libmagickwand-6.q16-3 amd64 8:6.9.7.4+dfsg-16ubuntu6.14 [294 kB]\n",
            "Get:6 http://archive.ubuntu.com/ubuntu bionic/main amd64 poppler-data all 0.4.8-2 [1,479 kB]\n",
            "Get:7 http://archive.ubuntu.com/ubuntu bionic/main amd64 fonts-noto-mono all 20171026-2 [75.5 kB]\n",
            "Get:8 http://archive.ubuntu.com/ubuntu bionic-updates/main amd64 libcupsimage2 amd64 2.2.7-1ubuntu2.9 [18.6 kB]\n",
            "Get:9 http://archive.ubuntu.com/ubuntu bionic/main amd64 libijs-0.35 amd64 0.35-13 [15.5 kB]\n",
            "Get:10 http://archive.ubuntu.com/ubuntu bionic/main amd64 libjbig2dec0 amd64 0.13-6 [55.9 kB]\n",
            "Get:11 http://archive.ubuntu.com/ubuntu bionic-updates/main amd64 libgs9-common all 9.26~dfsg+0-0ubuntu0.18.04.17 [5,092 kB]\n",
            "Get:12 http://archive.ubuntu.com/ubuntu bionic-updates/main amd64 libgs9 amd64 9.26~dfsg+0-0ubuntu0.18.04.17 [2,267 kB]\n",
            "Get:13 http://archive.ubuntu.com/ubuntu bionic-updates/main amd64 ghostscript amd64 9.26~dfsg+0-0ubuntu0.18.04.17 [51.3 kB]\n",
            "Get:14 http://archive.ubuntu.com/ubuntu bionic/main amd64 gsfonts all 1:8.11+urwcyr1.0.7~pre44-4.4 [3,120 kB]\n",
            "Get:15 http://archive.ubuntu.com/ubuntu bionic-updates/main amd64 imagemagick-6.q16 amd64 8:6.9.7.4+dfsg-16ubuntu6.14 [423 kB]\n",
            "Get:16 http://archive.ubuntu.com/ubuntu bionic-updates/main amd64 imagemagick amd64 8:6.9.7.4+dfsg-16ubuntu6.14 [14.2 kB]\n",
            "Get:17 http://archive.ubuntu.com/ubuntu bionic-updates/main amd64 libcupsfilters1 amd64 1.20.2-0ubuntu3.1 [108 kB]\n",
            "Get:18 http://archive.ubuntu.com/ubuntu bionic-updates/main amd64 libdjvulibre-text all 3.5.27.1-8ubuntu0.4 [49.4 kB]\n",
            "Get:19 http://archive.ubuntu.com/ubuntu bionic-updates/main amd64 libdjvulibre21 amd64 3.5.27.1-8ubuntu0.4 [561 kB]\n",
            "Get:20 http://archive.ubuntu.com/ubuntu bionic/main amd64 libwmf0.2-7 amd64 0.2.8.4-12 [150 kB]\n",
            "Get:21 http://archive.ubuntu.com/ubuntu bionic-updates/main amd64 libmagickcore-6.q16-3-extra amd64 8:6.9.7.4+dfsg-16ubuntu6.14 [62.2 kB]\n",
            "Get:22 http://archive.ubuntu.com/ubuntu bionic/main amd64 libnetpbm10 amd64 2:10.0-15.3build1 [58.0 kB]\n",
            "Get:23 http://archive.ubuntu.com/ubuntu bionic/main amd64 netpbm amd64 2:10.0-15.3build1 [1,017 kB]\n",
            "Fetched 18.4 MB in 1s (15.6 MB/s)\n",
            "Selecting previously unselected package fonts-droid-fallback.\n",
            "(Reading database ... 124016 files and directories currently installed.)\n",
            "Preparing to unpack .../00-fonts-droid-fallback_1%3a6.0.1r16-1.1_all.deb ...\n",
            "Unpacking fonts-droid-fallback (1:6.0.1r16-1.1) ...\n",
            "Selecting previously unselected package liblqr-1-0:amd64.\n",
            "Preparing to unpack .../01-liblqr-1-0_0.4.2-2.1_amd64.deb ...\n",
            "Unpacking liblqr-1-0:amd64 (0.4.2-2.1) ...\n",
            "Selecting previously unselected package imagemagick-6-common.\n",
            "Preparing to unpack .../02-imagemagick-6-common_8%3a6.9.7.4+dfsg-16ubuntu6.14_all.deb ...\n",
            "Unpacking imagemagick-6-common (8:6.9.7.4+dfsg-16ubuntu6.14) ...\n",
            "Selecting previously unselected package libmagickcore-6.q16-3:amd64.\n",
            "Preparing to unpack .../03-libmagickcore-6.q16-3_8%3a6.9.7.4+dfsg-16ubuntu6.14_amd64.deb ...\n",
            "Unpacking libmagickcore-6.q16-3:amd64 (8:6.9.7.4+dfsg-16ubuntu6.14) ...\n",
            "Selecting previously unselected package libmagickwand-6.q16-3:amd64.\n",
            "Preparing to unpack .../04-libmagickwand-6.q16-3_8%3a6.9.7.4+dfsg-16ubuntu6.14_amd64.deb ...\n",
            "Unpacking libmagickwand-6.q16-3:amd64 (8:6.9.7.4+dfsg-16ubuntu6.14) ...\n",
            "Selecting previously unselected package poppler-data.\n",
            "Preparing to unpack .../05-poppler-data_0.4.8-2_all.deb ...\n",
            "Unpacking poppler-data (0.4.8-2) ...\n",
            "Selecting previously unselected package fonts-noto-mono.\n",
            "Preparing to unpack .../06-fonts-noto-mono_20171026-2_all.deb ...\n",
            "Unpacking fonts-noto-mono (20171026-2) ...\n",
            "Selecting previously unselected package libcupsimage2:amd64.\n",
            "Preparing to unpack .../07-libcupsimage2_2.2.7-1ubuntu2.9_amd64.deb ...\n",
            "Unpacking libcupsimage2:amd64 (2.2.7-1ubuntu2.9) ...\n",
            "Selecting previously unselected package libijs-0.35:amd64.\n",
            "Preparing to unpack .../08-libijs-0.35_0.35-13_amd64.deb ...\n",
            "Unpacking libijs-0.35:amd64 (0.35-13) ...\n",
            "Selecting previously unselected package libjbig2dec0:amd64.\n",
            "Preparing to unpack .../09-libjbig2dec0_0.13-6_amd64.deb ...\n",
            "Unpacking libjbig2dec0:amd64 (0.13-6) ...\n",
            "Selecting previously unselected package libgs9-common.\n",
            "Preparing to unpack .../10-libgs9-common_9.26~dfsg+0-0ubuntu0.18.04.17_all.deb ...\n",
            "Unpacking libgs9-common (9.26~dfsg+0-0ubuntu0.18.04.17) ...\n",
            "Selecting previously unselected package libgs9:amd64.\n",
            "Preparing to unpack .../11-libgs9_9.26~dfsg+0-0ubuntu0.18.04.17_amd64.deb ...\n",
            "Unpacking libgs9:amd64 (9.26~dfsg+0-0ubuntu0.18.04.17) ...\n",
            "Selecting previously unselected package ghostscript.\n",
            "Preparing to unpack .../12-ghostscript_9.26~dfsg+0-0ubuntu0.18.04.17_amd64.deb ...\n",
            "Unpacking ghostscript (9.26~dfsg+0-0ubuntu0.18.04.17) ...\n",
            "Selecting previously unselected package gsfonts.\n",
            "Preparing to unpack .../13-gsfonts_1%3a8.11+urwcyr1.0.7~pre44-4.4_all.deb ...\n",
            "Unpacking gsfonts (1:8.11+urwcyr1.0.7~pre44-4.4) ...\n",
            "Selecting previously unselected package imagemagick-6.q16.\n",
            "Preparing to unpack .../14-imagemagick-6.q16_8%3a6.9.7.4+dfsg-16ubuntu6.14_amd64.deb ...\n",
            "Unpacking imagemagick-6.q16 (8:6.9.7.4+dfsg-16ubuntu6.14) ...\n",
            "Selecting previously unselected package imagemagick.\n",
            "Preparing to unpack .../15-imagemagick_8%3a6.9.7.4+dfsg-16ubuntu6.14_amd64.deb ...\n",
            "Unpacking imagemagick (8:6.9.7.4+dfsg-16ubuntu6.14) ...\n",
            "Selecting previously unselected package libcupsfilters1:amd64.\n",
            "Preparing to unpack .../16-libcupsfilters1_1.20.2-0ubuntu3.1_amd64.deb ...\n",
            "Unpacking libcupsfilters1:amd64 (1.20.2-0ubuntu3.1) ...\n",
            "Selecting previously unselected package libdjvulibre-text.\n",
            "Preparing to unpack .../17-libdjvulibre-text_3.5.27.1-8ubuntu0.4_all.deb ...\n",
            "Unpacking libdjvulibre-text (3.5.27.1-8ubuntu0.4) ...\n",
            "Selecting previously unselected package libdjvulibre21:amd64.\n",
            "Preparing to unpack .../18-libdjvulibre21_3.5.27.1-8ubuntu0.4_amd64.deb ...\n",
            "Unpacking libdjvulibre21:amd64 (3.5.27.1-8ubuntu0.4) ...\n",
            "Selecting previously unselected package libwmf0.2-7:amd64.\n",
            "Preparing to unpack .../19-libwmf0.2-7_0.2.8.4-12_amd64.deb ...\n",
            "Unpacking libwmf0.2-7:amd64 (0.2.8.4-12) ...\n",
            "Selecting previously unselected package libmagickcore-6.q16-3-extra:amd64.\n",
            "Preparing to unpack .../20-libmagickcore-6.q16-3-extra_8%3a6.9.7.4+dfsg-16ubuntu6.14_amd64.deb ...\n",
            "Unpacking libmagickcore-6.q16-3-extra:amd64 (8:6.9.7.4+dfsg-16ubuntu6.14) ...\n",
            "Selecting previously unselected package libnetpbm10.\n",
            "Preparing to unpack .../21-libnetpbm10_2%3a10.0-15.3build1_amd64.deb ...\n",
            "Unpacking libnetpbm10 (2:10.0-15.3build1) ...\n",
            "Selecting previously unselected package netpbm.\n",
            "Preparing to unpack .../22-netpbm_2%3a10.0-15.3build1_amd64.deb ...\n",
            "Unpacking netpbm (2:10.0-15.3build1) ...\n",
            "Setting up libgs9-common (9.26~dfsg+0-0ubuntu0.18.04.17) ...\n",
            "Setting up imagemagick-6-common (8:6.9.7.4+dfsg-16ubuntu6.14) ...\n",
            "Setting up fonts-droid-fallback (1:6.0.1r16-1.1) ...\n",
            "Setting up gsfonts (1:8.11+urwcyr1.0.7~pre44-4.4) ...\n",
            "Setting up poppler-data (0.4.8-2) ...\n",
            "Setting up libdjvulibre-text (3.5.27.1-8ubuntu0.4) ...\n",
            "Setting up libnetpbm10 (2:10.0-15.3build1) ...\n",
            "Setting up fonts-noto-mono (20171026-2) ...\n",
            "Setting up libcupsfilters1:amd64 (1.20.2-0ubuntu3.1) ...\n",
            "Setting up libcupsimage2:amd64 (2.2.7-1ubuntu2.9) ...\n",
            "Setting up liblqr-1-0:amd64 (0.4.2-2.1) ...\n",
            "Setting up libjbig2dec0:amd64 (0.13-6) ...\n",
            "Setting up libijs-0.35:amd64 (0.35-13) ...\n",
            "Setting up netpbm (2:10.0-15.3build1) ...\n",
            "Setting up libgs9:amd64 (9.26~dfsg+0-0ubuntu0.18.04.17) ...\n",
            "Setting up libwmf0.2-7:amd64 (0.2.8.4-12) ...\n",
            "Setting up libmagickcore-6.q16-3:amd64 (8:6.9.7.4+dfsg-16ubuntu6.14) ...\n",
            "Setting up libdjvulibre21:amd64 (3.5.27.1-8ubuntu0.4) ...\n",
            "Setting up ghostscript (9.26~dfsg+0-0ubuntu0.18.04.17) ...\n",
            "Setting up libmagickwand-6.q16-3:amd64 (8:6.9.7.4+dfsg-16ubuntu6.14) ...\n",
            "Setting up imagemagick-6.q16 (8:6.9.7.4+dfsg-16ubuntu6.14) ...\n",
            "update-alternatives: using /usr/bin/compare-im6.q16 to provide /usr/bin/compare (compare) in auto mode\n",
            "update-alternatives: using /usr/bin/compare-im6.q16 to provide /usr/bin/compare-im6 (compare-im6) in auto mode\n",
            "update-alternatives: using /usr/bin/animate-im6.q16 to provide /usr/bin/animate (animate) in auto mode\n",
            "update-alternatives: using /usr/bin/animate-im6.q16 to provide /usr/bin/animate-im6 (animate-im6) in auto mode\n",
            "update-alternatives: using /usr/bin/convert-im6.q16 to provide /usr/bin/convert (convert) in auto mode\n",
            "update-alternatives: using /usr/bin/convert-im6.q16 to provide /usr/bin/convert-im6 (convert-im6) in auto mode\n",
            "update-alternatives: using /usr/bin/composite-im6.q16 to provide /usr/bin/composite (composite) in auto mode\n",
            "update-alternatives: using /usr/bin/composite-im6.q16 to provide /usr/bin/composite-im6 (composite-im6) in auto mode\n",
            "update-alternatives: using /usr/bin/conjure-im6.q16 to provide /usr/bin/conjure (conjure) in auto mode\n",
            "update-alternatives: using /usr/bin/conjure-im6.q16 to provide /usr/bin/conjure-im6 (conjure-im6) in auto mode\n",
            "update-alternatives: using /usr/bin/import-im6.q16 to provide /usr/bin/import (import) in auto mode\n",
            "update-alternatives: using /usr/bin/import-im6.q16 to provide /usr/bin/import-im6 (import-im6) in auto mode\n",
            "update-alternatives: using /usr/bin/identify-im6.q16 to provide /usr/bin/identify (identify) in auto mode\n",
            "update-alternatives: using /usr/bin/identify-im6.q16 to provide /usr/bin/identify-im6 (identify-im6) in auto mode\n",
            "update-alternatives: using /usr/bin/stream-im6.q16 to provide /usr/bin/stream (stream) in auto mode\n",
            "update-alternatives: using /usr/bin/stream-im6.q16 to provide /usr/bin/stream-im6 (stream-im6) in auto mode\n",
            "update-alternatives: using /usr/bin/display-im6.q16 to provide /usr/bin/display (display) in auto mode\n",
            "update-alternatives: using /usr/bin/display-im6.q16 to provide /usr/bin/display-im6 (display-im6) in auto mode\n",
            "update-alternatives: using /usr/bin/montage-im6.q16 to provide /usr/bin/montage (montage) in auto mode\n",
            "update-alternatives: using /usr/bin/montage-im6.q16 to provide /usr/bin/montage-im6 (montage-im6) in auto mode\n",
            "update-alternatives: using /usr/bin/mogrify-im6.q16 to provide /usr/bin/mogrify (mogrify) in auto mode\n",
            "update-alternatives: using /usr/bin/mogrify-im6.q16 to provide /usr/bin/mogrify-im6 (mogrify-im6) in auto mode\n",
            "Setting up libmagickcore-6.q16-3-extra:amd64 (8:6.9.7.4+dfsg-16ubuntu6.14) ...\n",
            "Setting up imagemagick (8:6.9.7.4+dfsg-16ubuntu6.14) ...\n",
            "Processing triggers for hicolor-icon-theme (0.17-2) ...\n",
            "Processing triggers for fontconfig (2.12.6-0ubuntu2) ...\n",
            "Processing triggers for mime-support (3.60ubuntu1) ...\n",
            "Processing triggers for libc-bin (2.27-3ubuntu1.6) ...\n",
            "Processing triggers for man-db (2.8.3-2ubuntu0.1) ...\n"
          ]
        }
      ]
    },
    {
      "cell_type": "code",
      "source": [
        "!python3 -m qat.magics.install"
      ],
      "metadata": {
        "colab": {
          "base_uri": "https://localhost:8080/"
        },
        "id": "4bmGZ6t-krvk",
        "outputId": "b72cf383-12d9-4d19-8aa7-976d85eff90c"
      },
      "id": "4bmGZ6t-krvk",
      "execution_count": 5,
      "outputs": [
        {
          "output_type": "stream",
          "name": "stdout",
          "text": [
            "QLM magics have been sucessfully installed\n"
          ]
        }
      ]
    },
    {
      "cell_type": "markdown",
      "id": "bad09515",
      "metadata": {
        "id": "bad09515"
      },
      "source": [
        "## Part 1 implementing QAOA\n"
      ]
    },
    {
      "cell_type": "markdown",
      "id": "536219fc",
      "metadata": {
        "id": "536219fc"
      },
      "source": [
        "### Question1 :\n",
        "Write down in the cell below the Hamiltonian whose ground state is the solution to MaxCUT on an input graph $G=(V,E)$:"
      ]
    },
    {
      "cell_type": "markdown",
      "id": "fd36b562",
      "metadata": {
        "id": "fd36b562"
      },
      "source": [
        "$$ H = \\sum_{i,j\\in E} \\sigma_z^i \\cdot \\sigma_z^j $$"
      ]
    },
    {
      "cell_type": "markdown",
      "id": "b045f8b7",
      "metadata": {
        "id": "b045f8b7"
      },
      "source": [
        "### Question 2:\n",
        "Complete the implementation below of a simple, brute-force enumeration of all states computing the optimal solution to MaxCUT for the graph represented by 'edges'"
      ]
    },
    {
      "cell_type": "code",
      "execution_count": 17,
      "id": "7bc976fa",
      "metadata": {
        "colab": {
          "base_uri": "https://localhost:8080/"
        },
        "id": "7bc976fa",
        "outputId": "77c0e0b7-74a5-4b9f-adec-92bde7edbb59"
      },
      "outputs": [
        {
          "output_type": "stream",
          "name": "stdout",
          "text": [
            "-5\n",
            "[1, 0, 0, 1, 1]\n",
            "-5\n"
          ]
        }
      ],
      "source": [
        "import numpy as np\n",
        "\n",
        "graph1 = [(0,1),(0,2),(1,3),(2,3)]\n",
        "graph2 = [(0,1),(1,2),(0,3),(1,4),(2,5),(3,6),(4,7),(5,8),(3,4),(4,5),(6,7),(7,8)]\n",
        "graph3 = [(0,1),(1,2),(0,3),(1,4),(2,5),(3,6),(4,7),(3,4),(4,5),(6,7)]\n",
        "graph4 = [(0,1),(1,2),(2,3),(4,5),(5,6),(6,7),(0,4),(1,5),(2,6),(3,7)]\n",
        "graph5 = [(0,1),(0,2),(1,3),(2,4),(3,5),(4,5),(1,4)]\n",
        "graph6 = [(0,1),(0,2),(1,3),(2,4),(1,4)]\n",
        "\n",
        "\n",
        "# choice of graph\n",
        "edges = graph6\n",
        "\n",
        "nqubits = max([max(list(v)) for v in edges])+1\n",
        "\n",
        "#nqubits = 5\n",
        "graph7 = [(i,(i+1)%nqubits) for i in range(nqubits)]+[(1,4)]\n",
        "\n",
        "\n",
        "# COMPUTATION OF OPT.\n",
        "best_value = len(edges)\n",
        "best_b = 0\n",
        "for x in range(2**nqubits):\n",
        "    b = np.binary_repr(x, width=nqubits) # si x=3, b='00011'\n",
        "    b = [int(b[i]) for i in range(nqubits)]\n",
        "    # TODO: Complete the computation below:\n",
        "    val=0\n",
        "    for edge in edges:\n",
        "      num1=edge[0]\n",
        "      num2=edge[1]\n",
        "      if ((b[num1]==1) and (b[num2]==0)) or ((b[num1]==0) and (b[num2]==1)):\n",
        "        val-=1\n",
        "      else:\n",
        "        val+=1\n",
        "    # END TODO\n",
        "    if val <= best_value:\n",
        "        best_value = val\n",
        "        best_b = b\n",
        "print(best_value)\n",
        "print(best_b)\n",
        "\n",
        "def Calculate_Hamiltonian(edges,x_bit):\n",
        "  Hamiltonian=0\n",
        "  for edge in edges:\n",
        "    num1=edge[0]\n",
        "    num2=edge[1]\n",
        "    Hamiltonian+=(1-2*x_bit[num1])*(1-2*x_bit[num2])\n",
        "  return Hamiltonian\n",
        "print(Calculate_Hamiltonian(edges,best_b))"
      ]
    },
    {
      "cell_type": "markdown",
      "id": "4bed0ead",
      "metadata": {
        "id": "4bed0ead"
      },
      "source": [
        "#### visualization of the graph"
      ]
    },
    {
      "cell_type": "code",
      "execution_count": 2,
      "id": "11a7d2a7",
      "metadata": {
        "colab": {
          "base_uri": "https://localhost:8080/",
          "height": 248
        },
        "id": "11a7d2a7",
        "outputId": "0ee1e5f0-078b-445c-f766-9198ac37e648"
      },
      "outputs": [
        {
          "output_type": "display_data",
          "data": {
            "text/plain": [
              "<Figure size 432x288 with 1 Axes>"
            ],
            "image/png": "[encoded data removed]"
          },
          "metadata": {}
        }
      ],
      "source": [
        "import networkx as nx\n",
        "G = nx.Graph()\n",
        "for i,j in edges:\n",
        "    G.add_edge(i,j)\n",
        "nx.draw_networkx(G)"
      ]
    },
    {
      "cell_type": "code",
      "execution_count": 3,
      "id": "1bcf8886",
      "metadata": {
        "id": "1bcf8886"
      },
      "outputs": [],
      "source": [
        "from qat.lang.AQASM import Program, H, CNOT, RX, QRoutine, RZ, X, Z"
      ]
    },
    {
      "cell_type": "code",
      "execution_count": 4,
      "id": "f125405c",
      "metadata": {
        "id": "f125405c"
      },
      "outputs": [],
      "source": [
        "def U_ZZ(theta):\n",
        "    \n",
        "    zz_r = QRoutine()\n",
        "    zz_r.apply(CNOT, 0, 1)\n",
        "    zz_r.apply(RZ(theta), 1) # difference of convention between implemented version and what we need.\n",
        "    zz_r.apply(CNOT, 0, 1)\n",
        "\n",
        "    return zz_r"
      ]
    },
    {
      "cell_type": "markdown",
      "id": "b87e91ed",
      "metadata": {
        "id": "b87e91ed"
      },
      "source": [
        "### Question 3"
      ]
    },
    {
      "cell_type": "code",
      "execution_count": 10,
      "id": "27954bb3",
      "metadata": {
        "id": "27954bb3"
      },
      "outputs": [],
      "source": [
        "def one_qaoa_layer(n_qubits, edges, theta, beta):\n",
        "\n",
        "    layer = QRoutine()\n",
        "    #TODO: implement one qaoa layer\n",
        "    for i in range(n_qubits):\n",
        "      layer.apply(RX(theta),i)\n",
        "    for edge in edges:\n",
        "      layer.apply(U_ZZ(beta),edge[0],edge[1])\n",
        "\n",
        "    \n",
        "    return layer"
      ]
    },
    {
      "cell_type": "markdown",
      "id": "bd0c36a5",
      "metadata": {
        "id": "bd0c36a5"
      },
      "source": [
        "### Question 4"
      ]
    },
    {
      "cell_type": "code",
      "execution_count": 11,
      "id": "655a9aaa",
      "metadata": {
        "id": "655a9aaa"
      },
      "outputs": [],
      "source": [
        "from qat.qpus import get_default_qpu\n",
        "\n",
        "def evaluate_parameters(n_qubits, edges, parameters, n_layers):\n",
        "    \n",
        "    prog = Program()\n",
        "    qubits = prog.qalloc(n_qubits)\n",
        "    \n",
        "    # TODO: implement initialization+parameterized circuit\n",
        "    for i in range(n_qubits):\n",
        "      prog.apply(H,qubits[i])\n",
        "    for i in range(n_layers):    \n",
        "      prog.apply(one_qaoa_layer(n_qubits, edges, parameters[2*i], parameters[2*i+1]),qubits)\n",
        "\n",
        "        \n",
        "    # END TODO\n",
        "    circ = prog.to_circ()\n",
        "    \n",
        "    job = circ.to_job()\n",
        "    qpu = get_default_qpu()\n",
        "    \n",
        "    result = qpu.submit(job)\n",
        "    \n",
        "    # BEGIN TODO\n",
        "    obs = 0\n",
        "    for sample in result:\n",
        "        # this loop is over all 2**nqubits states.\n",
        "        # sample.state.bitstring contains the qubit values (nqubits 0 or 1)\n",
        "        x_bit=list(map(int,list(sample.state.bitstring)))\n",
        "        prob=sample.probability\n",
        "        obs+=Calculate_Hamiltonian(edges,x_bit)*prob\n",
        "\n",
        "    # END TODO\n",
        "    return obs\n",
        "    \n",
        "        "
      ]
    },
    {
      "cell_type": "code",
      "execution_count": 7,
      "id": "88963901",
      "metadata": {
        "id": "88963901",
        "colab": {
          "base_uri": "https://localhost:8080/"
        },
        "outputId": "d30bc7aa-b4c8-4e71-e4c5-760c479fa554"
      },
      "outputs": [
        {
          "output_type": "execute_result",
          "data": {
            "text/plain": [
              "array([0.82149003, 0.7582733 , 0.23714044])"
            ]
          },
          "metadata": {},
          "execution_count": 7
        }
      ],
      "source": [
        "import numpy as np\n",
        "np.random.random(3)"
      ]
    },
    {
      "cell_type": "code",
      "execution_count": 8,
      "id": "42557843",
      "metadata": {
        "id": "42557843"
      },
      "outputs": [],
      "source": [
        "from scipy.optimize import minimize\n"
      ]
    },
    {
      "cell_type": "markdown",
      "id": "0846a6dd",
      "metadata": {
        "id": "0846a6dd"
      },
      "source": [
        "### Random initialisation"
      ]
    },
    {
      "cell_type": "markdown",
      "id": "f679d3e0",
      "metadata": {
        "id": "f679d3e0"
      },
      "source": [
        "### Question 5: \n",
        "réponse à la question:9"
      ]
    },
    {
      "cell_type": "code",
      "execution_count": 18,
      "id": "36f6e279",
      "metadata": {
        "id": "36f6e279",
        "colab": {
          "base_uri": "https://localhost:8080/",
          "height": 322
        },
        "outputId": "c021764f-3861-46ab-e906-f00a7fc0b7e7"
      },
      "outputs": [
        {
          "output_type": "stream",
          "name": "stdout",
          "text": [
            "-0.23406385653284922 -0.6216144422194426 -1.0695944340074885 -1.3057292401996574 -1.482974982473742 -1.5748706878190049 -1.7173787600953527 -1.7498951205140492 -1.8106123441499744 -2.399291025604767 -2.553576409176887 -2.777796432622601 -2.969844451879275 -3.0973915553517593 -3.324850820422597 -3.6205865323348316 -3.709010724382461 -3.8157939611301375 -3.9451204660381656 -4.059018251385445 -4.110596484006958 -4.193277833093436 -4.242022772748547 -4.304537122257376 -4.342728324551018 -4.382046118956488 -4.393331342991102 -4.403860423225805 -4.415336844244601 -4.427149073589363 -4.435321080794562 -4.443391644718301 -4.452321081764737 -4.463466802361262 -4.47482551826989 -4.492404408363626 -4.507938486004028 -4.532985822362769 -4.566210543509842 -4.581302746105799 -4.601578168781949 -4.620370670363816 -4.630865778337662 -4.642651033747717 -4.649684028034748 -4.652146217562171 -4.655679242946155 -4.65724663484421 -4.6574969378236935 -4.65774679939437 -4.658049261998402 -4.658372884245135 -4.6585710542478616 -4.658699249589134 -4.6589132262665585 -4.659294482059055 -4.659970635544653 -4.661044990691651 -4.662047752598206 -4.663064060950274 -4.664366630532155 -4.66462142349918 -4.664818391985761 -4.665026814730041 -4.665329196091683 -4.66549523668861 -4.665650619918753 -4.666805518473948 -4.667613072478156 -4.668877631581607 -4.670894635286575 -4.673540736510397 -4.675033191011785 -4.676183697218638 -4.676935920744399 -4.67807593066014 -4.6786862937461455 -4.679586299187828 -4.680582019097026 -4.681282088717084 -4.6815569453843535 -4.681698363049151 -4.681788855964639 -4.681837390453473 -4.681844747978109 -4.681845635205315 -4.681845822326626 -4.6818459202461895 -4.681845965131795 -4.681845977173089 -4.681845978320717 -4.681845978444798 0.5056331599774415 -0.5862313464459152 -2.0376060315104483 -2.237318111917235 -3.7963216009087555 -3.8863925656302776 -4.033821010380997 -4.264604459507668 -4.4274342920896865 -4.479037595878493 -4.545805323017063 -4.5642986154756455 -4.587068764439255 -4.599090849469037 -4.6140170391679876 -4.634925111301273 -4.650065234694121 -4.670172175166426 -4.693887681991687 -4.701904648025836 -4.713797105559177 -4.731164581342059 -4.750664383889896 -4.766318360927852 -4.788640436332227 -4.816243168633249 -4.829326704210237 -4.84827075882267 -4.870412064255252 -4.871884680804188 -4.883907408822182 -4.897377962107167 -4.902622404386115 -4.906885636026099 -4.911591191977442 -4.915645407005332 -4.920754963309586 -4.923294643807134 -4.926580948068695 -4.93094840187765 -4.93794120694532 -4.942958460693067 -4.9438824534959975 -4.945141417308611 -4.9459467098620085 -4.946293898273734 -4.946860438367759 -4.947651326069443 -4.948248937114535 -4.948796846370808 -4.9494518408741195 -4.950573462003778 -4.951992019912058 -4.952530113176472 -4.953328881669817 -4.954316986792411 -4.955103629422221 -4.955409322317728 -4.9558388977128205 -4.956170484141691 -4.956333940017595 -4.9565300070507075 -4.956682708302977 -4.956910596860639 -4.957274454692018 -4.957650948338168 -4.957753134360073 -4.957882813876768 -4.9579389965114125 -4.958000136702166 -4.9580572699795535 -4.9581259933936055 -4.958169663101715 -4.958235620227 -4.958329754662837 -4.9584188949941455 -4.9585596572730815 -4.958749608475616 -4.958849993945424 -4.958998327351463 -4.95912599467749 -4.959149923266422 -4.959160214463149 -4.959178175887173 -4.959210249448047 -4.959266513844495 -4.95935152202128 -4.959419820066893 -4.959495614660391 -4.959541899550877 -4.959576795855903 -4.959599376914955 -4.959638864084659 -4.9597103093281705 -4.959839706453515 -4.960066712932854 -4.960411212227813 -4.9606333539748615 -4.9609410356502135 -4.961456471573283 -4.9622210328384595 -4.9625701988303605 -4.962719163705066 -4.9629357253203965 -4.963253409181404 -4.96347246792911 -4.963822239204823 -4.964311852228574 -4.964648506934006 -4.9651434927372575 -4.965681160238492 -4.966419956816244 -4.967019430610897 -4.967848873364927 -4.968390513652279 -4.968565764742811 -4.968864562764268 -4.969139491925499 -4.969485512072629 -4.9700350307705055 -4.970919193615854 -4.9718823039498785 -4.972387788220146 -4.972910234737711 -4.973072458022878 -4.973237008622524 -4.973457840520418 -4.973819784585163 -4.974369095099109 -4.9751587317171 -4.975680826076468 -4.976264986926352 -4.977040392635326 -4.978110502951701 -4.9793953047021295 -4.980583736688828 -4.982071696927483 -4.983429682326062 -4.985043476982279 -4.985360499614768 -4.985865185188311 -4.986472589779309 -4.986674287354133 -4.986782785143531 -4.986828745748396 -4.986861492500908 -4.986879477478677 -4.98688695377182 -4.986899509539482 -4.986918694848203 -4.986935059749247 -4.986941708415161 -4.9869453177599254 -4.986948657035878 -4.986954477943174 -4.986964711165504 -4.986981892712947 -4.987005389755926 -4.9870145292080865 -4.9870176194589915 -4.987018724079952 -4.987018888286994 -4.987019048230476 -4.987019314536115 -4.9870197550673945 -4.987020466674942 -4.987021612738831 -4.987023534612099 -4.987026915281535 -4.987032970858521 -4.987043274490936 -4.987054790414408 -4.98707313371095 -4.987102842225769 -4.987132193243426 -4.987138972385019 -4.987142938161583 -4.987148820378383 -4.987157708334908 -4.987169184104438 -4.98718330154774 -4.987191780233445 -4.987201156347993 -4.987206813654248 -4.987211650236186 -4.98721829880843 -4.987222591551711 -4.987226255142725 -4.9872285421085305 -4.987230195708908 -4.987232004218374 -4.98723322241673 -4.987234078568139 -4.987234987107184 -4.98723544732434 -4.987235964148935 -4.987236797585303 -4.987237648690797 -4.987237946287774 -4.9872384084257275 -4.987238604176479 -4.98723872348812 -4.987238809881887 -4.987238861619415 -4.987238884143537 -4.987238895536162 -4.98723890882051 -4.987238927507404 -4.987238950313486 -4.987238974771214 -4.9872390007092795 -4.98723903249267 -4.987239056325251 -4.987239078399 -4.987239090894085 -4.9872391077739255 -4.987239126861883 -4.987239155884584 -4.987239206379289 -4.987239239597306 -4.987239297198821 -4.987239404645593 -4.987239595551832 -4.987239919147741 -4.9872404502909395 -4.987241374685362 -4.987242795945672 -4.987245070281799 -4.987248646749042 -4.987251284273812 -4.987255147003325 -4.987261932072597 -4.987271394520215 -4.98728176153902 -4.987290305133821 -4.987304194583012 -4.987317196615056 -4.987326947214047 -4.987343016140864 -4.9873631519526 -4.987383000518552 -4.987402280359837 -4.987426311710757 -4.987446662588214 -4.987476897815791 -4.987485143106191 -4.987500186037826 -4.987520560088844 -4.987532917451012 -4.987543557701837 -4.987559370107748 -4.987574280336641 -4.987596114632019 -4.987621046381508 -4.987660411933854 -4.987677977850959 -4.987703433848344 -4.987726245881006 -4.987753078270416 -4.987766292647778 -4.987784303760889 -4.987796278384637 -4.987811059660115 -4.987819337392033 -4.987828836041097 -4.987836111432032 -4.98784022136389 -4.987843641641607 -4.987846340919477 -4.987847848972475 -4.987849737978312 -4.987851190977924 -4.987852698959716 -4.987854150273858 -4.987855869662846 -4.987856597547796 -4.987857700560921 -4.98785908517414 -4.9878604956207395 -4.987862667556204 -4.987866254291611 -4.987871521143032 -4.9878756613404525 -4.987877070399268 -4.987877555580156 -4.987878181424579 -4.9878788588403635 -4.987879716255408 -4.9878808101321175 -4.98788149209521 -4.987881882855815 -4.987882113993664 -4.987882538341379 -4.987883306190663 -4.987884611152608 -4.9878867262120705 -4.987887874503474 -4.987889945193986 -4.987893719837077 -4.987900344321386 -4.987904405209953 -4.987910432852474 -4.987914037665113 -4.987919678504039 -4.987928611763569 -4.987942275114513 -4.987949973691806 -4.987960875007375 -4.987978404959314 -4.988002036209448 -4.988021334513301 -4.988047621061638 -4.988073507128219 -4.988119937176287 -4.988184799686113 -4.988272078363346 -4.9883237187631035 -4.988412681535941 -4.988560846963817 -4.988638492946169 -4.988765126436826 -4.988929235451266 -4.989166626953667 -4.9892970330764745 -4.989458241076521 -4.989714795627317 -4.989841587355626 -4.990063666871625 -4.9901544036931975 -4.9902384835820515 -4.990368164986682 -4.990554706137617 -4.990700008792799 -4.990768925624422 -4.990808483252991 -4.990877552001863 -4.990977492042535 -4.9910563147355775 -4.9911166211161575 -4.991138259339293 -4.991165528745827 -4.991189224417525 -4.991213392478259 -4.991247061270622 -4.991271003120104 -4.991299736001537 -4.9913305549123645 -4.991351900094952 -4.9913764310970645 -4.991415763044139 -4.99147510737112 -4.991547379331493 -4.991675001297536 -4.991892226404303 -4.992171573504769 -4.992522858576927 -4.992618983623467 -4.99277106451893 -4.992823525234945 -4.9929040571008425 -4.9930151194392645 -4.993161790816179 -4.993395618853065 -4.993807543023484 -4.994376989801718 -4.9945892993110865 -4.994843785912396 -4.995179623259042 -4.995362440525155 -4.9955337036029634 -4.995575650656911 -4.995645782807222 -4.995757014402556 -4.995905506743482 -4.996056853179975 -4.9962894180960795 -4.996537548662726 -4.996664015870617 -4.9967017967112355 -4.996745837629009 -4.996768115502471 -4.996790793226433 -4.996805368709565 -4.996815493648493 -4.996819077024686 -4.996821642944972 -4.996824118196238 -4.996826564818651 -4.996827708437394 -4.996828453435376 -4.99682969909966 -4.996831951631649 -4.996836110238671 -4.996843716850543 -4.996856859896177 -4.996873795002803 -4.9968865765236865 -4.996900615067911 -4.996903517219696 -4.996904814921107 -4.996905337662187 -4.996906166041167 -4.99690749726679 -4.996909454824006 -4.996911962229964 -4.996916235494281 -4.996923402021152 -4.996933134514641 -4.996940665002671 -4.996946968968096 -4.996950639972503 -4.996951157313654 -4.996951361368947 -4.9969514977054 -4.996951521722655 -4.996951557218434 -4.996951616217776 -4.996951670597329 -4.996951679564872 -4.99695168431253 -4.996951684344485 1.8539235619885819 -0.4089834281206324 -0.5973120575302711 -1.1788824398787248 -1.8188823100728873 -3.006023627627889 -3.4709531741612705 -3.8343651186865917 -4.153092515462338 -4.221957254310754 -4.278911462031151 -4.379310376844618 -4.51838757822794 -4.586235622926684 -4.612105780842233 -4.646787998683515 -4.681565818621666 -4.712831925148016 -4.729726829387157 -4.7385130966273765 -4.7491925259779 -4.761206741823341 -4.779079438116915 -4.797101505084613 -4.803829410878732 -4.805941715766787 -4.80974563919274 -4.8150953448705724 -4.822000479468879 -4.824871475159295 -4.826076234459964 -4.827138134060688 -4.827688990338669 -4.828592327205555 -4.83008057098932 -4.832614340542055 -4.837081645446986 -4.843579350560975 -4.848258103167825 -4.85300573471702 -4.85999626390043 -4.870833158911303 -4.88697208882375 -4.89636710957003 -4.909899254086093 -4.918291213009342 -4.92958577338112 -4.939148714444171 -4.9437578660469494 -4.947494618238893 -4.951060932982062 -4.956241352038789 -4.960178649276898 -4.965164401035985 -4.966017294181542 -4.967203577467094 -4.967989312852917 -4.968380215416848 -4.968967590320857 -4.969575595297702 -4.96999513636633 -4.970374816779076 -4.970672395177203 -4.971043581054892 -4.971436907467942 -4.971815325312198 -4.9722517437014275 -4.972616604312381 -4.97272134454578 -4.972882514823592 -4.973064244339033 -4.973216325257075 -4.973489608042648 -4.973983673459124 -4.97471847711315 -4.975435101183053 -4.975748106430934 -4.975982312429138 -4.976119572014588 -4.976176409305359 -4.976229361892138 -4.97628930160263 -4.976364433162926 -4.976466940593639 -4.976624648143742 -4.976799512666542 -4.976929595682123 -4.977063531123874 -4.9770987935340845 -4.977144766644719 -4.977157984407766 -4.977166618479248 -4.977177522646663 -4.977191048768906 -4.977206075781608 -4.977229636614336 -4.977264887787368 -4.977305314417729 -4.977338437890229 -4.977376165809249 -4.9774351508942045 -4.977523185869097 -4.977646563888167 -4.977720528741453 -4.977837433520664 -4.977984926824492 -4.978098377954967 -4.9782200435528905 -4.978336673835597 -4.978402282761802 -4.978481047963077 -4.978523994709454 -4.978540695855494 -4.978548434796505 -4.978560187280961 -4.9785694203708735 -4.9785771407164905 -4.978590065627562 -4.978609482645855 -4.9786341957336155 -4.978648438014445 -4.978671985269256 -4.978712446141099 -4.978782955797118 -4.978902378533831 -4.9790772336520615 -4.979150643439794 -4.9792783999534445 -4.979498050463583 -4.979830548819597 -4.980235038410868 -4.980467470967495 -4.980839746905572 -4.9813530726748105 -4.98166170699987 -4.982070648680101 -4.982265924811816 -4.982502462855675 -4.982818319841326 -4.983190012045635 -4.983539327879935 -4.983855241176285 -4.984140711693356 -4.9845068751622605 -4.985047997140744 -4.985464003384667 -4.985838945470463 -4.986173439651822 -4.986695911152887 -4.98716747508717 -4.98744348060069 -4.987538815034508 -4.987597980575656 -4.9876260095943925 -4.987645687285556 -4.987654544137331 -4.987657775414987 -4.987661602000447 -4.987668066753964 -4.9876790299699865 -4.987696317644545 -4.987714464305028 -4.987722862281459 -4.9877296958109545 -4.987735368892663 -4.987744977477132 -4.987761609101546 -4.987789872861836 -4.987834228947797 -4.987885067867272 -4.987926009108823 -4.987992245108743 -4.988098193365713 -4.988243725433368 -4.988406913783076 -4.988613655554489 -4.988859732526013 -4.989182571402006 -4.989450044914839 -4.989599251380018 -4.989839347832924 -4.9899866809457425 -4.990205835841817 -4.990486182109898 -4.990899444431508 -4.991395002818522 -4.99191498447075 -4.992162484501791 -4.992368797513618 -4.992642893870209 -4.992981812961227 -4.9931517888996195 -4.993374087960504 -4.9935000761213635 -4.993556644498443 -4.993602673863076 -4.993627136719378 -4.993646097492577 -4.993669838404319 -4.99368921642219 -4.993703631125411 -4.993709508948567 -4.993711432902275 -4.993712646507046 -4.993714520476116 -4.993717598841321 -4.993722338345302 -4.993727070100281 -4.993729858240334 -4.993733079925474 -4.993737697300613 -4.993745942570397 -4.9937617158763885 -4.993815983307446 -4.9938494593464515 -4.993908235064187 -4.994012991082249 -4.994190386952729 -4.9944203874478355 -4.994565203100777 -4.994626602043131 -4.994724271010284 -4.9947877477618965 -4.994796195051605 -4.994806895581556 -4.9948255213834525 -4.994856594552858 -4.9948995239302 -4.994920319564422 -4.994921855385068 -4.994924563043607 -4.994928551064212 -4.994930940227459 -4.994932646718801 -4.99493550246861 -4.994940091284033 -4.994946181259718 -4.9949507162338245 -4.99495772272521 -4.994966829804061 -4.994975128271311 -4.994982813598556 -4.994988631226964 -4.9949943827827505 -4.995002953793489 -4.995014000414342 -4.995019538595273 -4.995024120441064 -4.995027903009966 -4.995029366245533 -4.995030128103262 -4.995030456015703 -4.995030613190625 -4.99503070632338 -4.995030746651003 -4.995030750078595 -4.995030750438159 -4.995030750504526 "
          ]
        },
        {
          "output_type": "execute_result",
          "data": {
            "text/plain": [
              "<matplotlib.legend.Legend at 0x7fc4c79b5880>"
            ]
          },
          "metadata": {},
          "execution_count": 18
        },
        {
          "output_type": "display_data",
          "data": {
            "text/plain": [
              "<Figure size 432x288 with 1 Axes>"
            ],
            "image/png": "[encoded data removed]"
          },
          "metadata": {
            "needs_background": "light"
          }
        }
      ],
      "source": [
        "import matplotlib.pylab as plt\n",
        "\n",
        "\n",
        "for nlayers in range(8,11,1):\n",
        "    num_params = 2*nlayers\n",
        "\n",
        "    back_trace = []\n",
        "    def print_avg(xk):\n",
        "        eva = evaluate_parameters(nqubits, edges, xk,nlayers)\n",
        "        back_trace.append(eva)\n",
        "        print(eva, end=' ')\n",
        "\n",
        "    opt_res = minimize(lambda x : evaluate_parameters(nqubits, edges, x, nlayers), \n",
        "                       np.random.random(num_params),\n",
        "                       callback=print_avg,)\n",
        "    plt.plot(back_trace,label=str(nlayers))\n",
        "# there exists a classical polynomial algorithm returning solutions within a factor of 0.878 of the optimal\n",
        "# we must at least beat that. https://fr.wikipedia.org/wiki/Coupe_maximum\n",
        "plt.axhline(0.878*best_value, color='b', label=\"classical apx ratio\")\n",
        "plt.axhline(best_value,color='r',label='optimal value')\n",
        "plt.legend()"
      ]
    },
    {
      "cell_type": "markdown",
      "id": "e9dffce1",
      "metadata": {
        "id": "e9dffce1"
      },
      "source": [
        "### Question 6: smart initialization"
      ]
    },
    {
      "cell_type": "code",
      "execution_count": 26,
      "id": "d1eb83de",
      "metadata": {
        "id": "d1eb83de",
        "colab": {
          "base_uri": "https://localhost:8080/",
          "height": 322
        },
        "outputId": "762a3aa3-ba4c-405c-d71f-e3f68045aeb4"
      },
      "outputs": [
        {
          "output_type": "stream",
          "name": "stdout",
          "text": [
            "-0.4040364558443024 -1.6451988236091197 -2.3947521925683604 -3.146416792379957 -3.1891919744450923 -3.218601194787409 -3.2253530923614324 -3.2260671504291762 -3.2260696302241536 -3.226069647206931 -3.2260696472290524 -1.6826058482852893 -2.6615514837749887 -2.889728543529119 -3.623846426827342 -3.670672405683039 -3.759944451051686 -3.917522878754114 -4.117832203894159 -4.1520967041675165 -4.178437089557348 -4.200961214817412 -4.23337835111092 -4.285853215842089 -4.3334087545699225 -4.339773679105125 -4.349567706820618 -4.365947166464228 -4.392182301429377 -4.428889271224552 -4.450512399641948 -4.456043649499483 -4.463136140405774 -4.463827877174874 -4.463832318834786 -4.463832624123568 -4.4638326322030295 -4.463832632301585 -0.1164333374580308 -2.4985814126090085 -3.4062826231956533 -3.8958814724303323 -4.037095649323113 -4.081491295912318 -4.143861089409081 -4.169445488201207 -4.211309212783348 -4.259573246289563 -4.318195502446467 -4.384777601853983 -4.419453642939059 -4.435553016167709 -4.4414399924062105 -4.444619052306385 -4.447298675056638 -4.448933502933749 -4.450833564604967 -4.4513207268620425 -4.452159714323697 -4.453570345785827 -4.455467314586677 -4.4581158320429255 -4.459697818403955 -4.462475884414977 -4.467170016770369 -4.474528537756527 -4.482662783617198 -4.493239424281786 -4.511149416885908 -4.520614899421709 -4.53303929871166 -4.53753336193801 -4.541439680555544 -4.547070832370284 -4.552890153939241 -4.553242746864262 -4.553669964559218 -4.55376419768099 -4.553773361821201 -4.553778650832133 -4.553780045273041 -4.553780473950134 -4.553780502267209 -4.553780503304166 -4.5537805033205405 "
          ]
        },
        {
          "output_type": "execute_result",
          "data": {
            "text/plain": [
              "<matplotlib.legend.Legend at 0x7fc4c77b7400>"
            ]
          },
          "metadata": {},
          "execution_count": 26
        },
        {
          "output_type": "display_data",
          "data": {
            "text/plain": [
              "<Figure size 432x288 with 1 Axes>"
            ],
            "image/png": "[encoded data removed]"
          },
          "metadata": {
            "needs_background": "light"
          }
        }
      ],
      "source": [
        "T = 2.\n",
        "\n",
        "for nlayers in range(3,6,1):\n",
        "    num_params = 2*nlayers\n",
        "\n",
        "    back_trace = []\n",
        "    def print_avg(xk):\n",
        "        eva = evaluate_parameters(nqubits, edges, xk,nlayers)\n",
        "        back_trace.append(eva)\n",
        "        print(eva, end=' ')\n",
        "\n",
        "    # TODO implement parameter init\n",
        "    parameters_init = []\n",
        "    for k in range(1,nlayers+1):\n",
        "      parameters_init.append(2*T/nlayers*(1-k/nlayers))\n",
        "      parameters_init.append(k*T/nlayers**2)\n",
        "\n",
        "    # END TODO        \n",
        "    opt_res = minimize(lambda x : evaluate_parameters(nqubits, edges, x, nlayers), \n",
        "                       parameters_init, \n",
        "                       callback=print_avg,)\n",
        "    plt.plot(back_trace,label=str(nlayers))\n",
        "\n",
        "plt.axhline(0.878*best_value, color='b', label=\"classical apx ratio\")\n",
        "plt.axhline(best_value,color='r',label='optimal value')\n",
        "plt.legend()"
      ]
    }
  ],
  "metadata": {
    "kernelspec": {
      "display_name": "Python 3 (ipykernel)",
      "language": "python",
      "name": "python3"
    },
    "language_info": {
      "codemirror_mode": {
        "name": "ipython",
        "version": 3
      },
      "file_extension": ".py",
      "mimetype": "text/x-python",
      "name": "python",
      "nbconvert_exporter": "python",
      "pygments_lexer": "ipython3",
      "version": "3.10.6"
    },
    "colab": {
      "provenance": []
    }
  },
  "nbformat": 4,
  "nbformat_minor": 5
}