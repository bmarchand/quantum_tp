{
 "cells": [
  {
   "cell_type": "code",
   "execution_count": null,
   "metadata": {},
   "outputs": [],
   "source": [
    "!pip install myqlm"
   ]
  },
  {
   "cell_type": "markdown",
   "metadata": {},
   "source": [
    "## Part 1 implementing QAOA"
   ]
  },
  {
   "cell_type": "markdown",
   "metadata": {},
   "source": [
    "### Question1 :\n",
    "Write down in the cell below the Hamiltonian whose ground state is the solution to MaxCUT on an input graph $G=(V,E)$:"
   ]
  },
  {
   "cell_type": "markdown",
   "metadata": {},
   "source": [
    "$$ H = \\sum_{i,j\\in E} \\sigma_i \\cdot \\sigma_j $$\n",
    "\n",
    "Hamiltonian whose ground state is the solution to MaxCUT:\n",
    "\n",
    "$$ <x|H|x>= \\sum_{i,j\\in E} (1-2 \\cdot\n",
    "x_i) \\cdot (1-2\\cdot x_j) $$"
   ]
  },
  {
   "cell_type": "markdown",
   "metadata": {},
   "source": [
    "### Question 2:\n",
    "Complete the implementation below of a simple, brute-force enumeration of all states computing the optimal solution to MaxCUT for the graph represented by 'edges'"
   ]
  },
  {
   "cell_type": "code",
   "execution_count": null,
   "metadata": {},
   "outputs": [],
   "source": [
    "import numpy as np\n",
    "\n",
    "graph1 = [(0,1),(0,2),(1,3),(2,3)]\n",
    "graph2 = [(0,1),(1,2),(0,3),(1,4),(2,5),(3,6),(4,7),(5,8),(3,4),(4,5),(6,7),(7,8)]\n",
    "graph3 = [(0,1),(1,2),(0,3),(1,4),(2,5),(3,6),(4,7),(3,4),(4,5),(6,7)]\n",
    "graph4 = [(0,1),(1,2),(2,3),(4,5),(5,6),(6,7),(0,4),(1,5),(2,6),(3,7)]\n",
    "graph5 = [(0,1),(0,2),(1,3),(2,4),(3,5),(4,5),(1,4)]\n",
    "graph6 = [(0,1),(0,2),(1,3),(2,4),(1,4)]\n",
    "\n",
    "\n",
    "# choice of graph\n",
    "edges = graph6\n",
    "\n",
    "nqubits = max([max(list(v)) for v in edges])+1\n",
    "\n",
    "#nqubits = 5\n",
    "graph7 = [(i,(i+1)%nqubits) for i in range(nqubits)]+[(1,4)]\n",
    "\n",
    "\n",
    "# COMPUTATION OF OPT.\n",
    "best_value = len(edges)\n",
    "best_b = 0\n",
    "for x in range(2**nqubits):\n",
    "    b = np.binary_repr(x, width=nqubits)\n",
    "    b = [int(b[i]) for i in range(nqubits)]\n",
    "    # TODO: Complete the computation below:\n",
    "    intermed = 0\n",
    "    for i,j in edges:\n",
    "        intermed = intermed + (1-2*b[i])*(1-2*b[j])\n",
    "\n",
    "    # END TODO\n",
    "    if val <= best_value:\n",
    "        best_value = val\n",
    "        best_b = b\n",
    "print(best_value)\n",
    "print(best_b)"
   ]
  },
  {
   "cell_type": "markdown",
   "metadata": {},
   "source": [
    "#### visualization of the graph"
   ]
  },
  {
   "cell_type": "code",
   "execution_count": null,
   "metadata": {},
   "outputs": [],
   "source": [
    "import networkx as nx\n",
    "G = nx.Graph()\n",
    "for i,j in edges:\n",
    "    G.add_edge(i,j)\n",
    "nx.draw_networkx(G)"
   ]
  },
  {
   "cell_type": "code",
   "execution_count": null,
   "metadata": {},
   "outputs": [],
   "source": [
    "from qat.lang.AQASM import Program, H, CNOT, RX, QRoutine, RZ, X, Z"
   ]
  },
  {
   "cell_type": "code",
   "execution_count": null,
   "metadata": {},
   "outputs": [],
   "source": [
    "def U_ZZ(theta):\n",
    "    \n",
    "    zz_r = QRoutine()\n",
    "    zz_r.apply(CNOT, 0, 1)\n",
    "    zz_r.apply(RZ(theta), 1) # difference of convention between implemented version and what we need.\n",
    "    zz_r.apply(CNOT, 0, 1)\n",
    "\n",
    "    return zz_r"
   ]
  },
  {
   "cell_type": "markdown",
   "metadata": {},
   "source": [
    "### Question 3"
   ]
  },
  {
   "cell_type": "code",
   "execution_count": null,
   "metadata": {},
   "outputs": [],
   "source": [
    "def one_qaoa_layer(n_qubits, edges, theta, beta):\n",
    "\n",
    "    layer = QRoutine()\n",
    "    #TODO: implement one qaoa layer\n",
    "    for i_qbits in n_qubits:\n",
    "      layer.apply(RX(theta),i_qbits)\n",
    "    for e_i,e_j in edges:\n",
    "      layer.apply(U_ZZ(beta),e_i,e_j)\n",
    "    \n",
    "    return layer"
   ]
  },
  {
   "cell_type": "markdown",
   "metadata": {},
   "source": [
    "### Question 4"
   ]
  },
  {
   "cell_type": "code",
   "execution_count": null,
   "metadata": {},
   "outputs": [],
   "source": [
    "from qat.qpus import get_default_qpu\n",
    "\n",
    "def evaluate_parameters(n_qubits, edges, parameters, n_layers):\n",
    "    \n",
    "    prog = Program()\n",
    "    qubits = prog.qalloc(n_qubits)\n",
    "    \n",
    "    # TODO: implement initialization+parameterized circuit\n",
    "    #initialization\n",
    "    for i in range(n_qubits):\n",
    "        prog.apply(H, qubits[i])\n",
    "        \n",
    "    #parameterized circuit\n",
    "    for j in range(n_layers):\n",
    "        prog.apply(XXX(n_qubits,edges,parameters[2*j],parameters[2*(j+1)],qubits))\n",
    "\n",
    "        \n",
    "    # END TODO\n",
    "    circ = prog.to_circ()\n",
    "    \n",
    "    job = circ.to_job()\n",
    "    qpu = get_default_qpu()\n",
    "    \n",
    "    result = qpu.submit(job)\n",
    "    \n",
    "    # BEGIN TODO\n",
    "    obs = 0\n",
    "    for sample in result:\n",
    "        # this loop is over all 2**nqubits states.\n",
    "        # sample.state.bitstring contains the qubit values (nqubits 0 or 1)\n",
    "        \n",
    "        intermediate = sample.state.bitstring\n",
    "        intermediate_2 = 0\n",
    "        \n",
    "        #incrementation for all edges\n",
    "        for e in edges:\n",
    "            intermediate_2 = intermediate_2 + (1-2*int(intermediate[e[0]]))*(1-2*int(intermediate[e[1]]))\n",
    "        obs = obs + sample.probability*val\n",
    "\n",
    "    # END TODO\n",
    "    return obs\n",
    "    \n",
    "        "
   ]
  },
  {
   "cell_type": "code",
   "execution_count": null,
   "metadata": {},
   "outputs": [],
   "source": [
    "import numpy as np\n",
    "np.random.random(3)"
   ]
  },
  {
   "cell_type": "code",
   "execution_count": null,
   "metadata": {},
   "outputs": [],
   "source": [
    "from scipy.optimize import minimize\n"
   ]
  },
  {
   "cell_type": "markdown",
   "metadata": {},
   "source": [
    "### Random initialisation"
   ]
  },
  {
   "cell_type": "markdown",
   "metadata": {},
   "source": [
    "### Question 5: \n",
    "réponse à la question: 9 is the number of layers needed for QAOA to reach the optimum value.\n",
    "The convergence starts from 9 layers (and then 10,11,...)"
   ]
  },
  {
   "cell_type": "code",
   "execution_count": null,
   "metadata": {},
   "outputs": [],
   "source": [
    "import matplotlib.pylab as plt\n",
    "\n",
    "\n",
    "for nlayers in range(8,11,1):\n",
    "    num_params = 2*nlayers\n",
    "\n",
    "    back_trace = []\n",
    "    def print_avg(xk):\n",
    "        eva = evaluate_parameters(nqubits, edges, xk,nlayers)\n",
    "        back_trace.append(eva)\n",
    "        print(eva, end=' ')\n",
    "\n",
    "    opt_res = minimize(lambda x : evaluate_parameters(nqubits, edges, x, nlayers), \n",
    "                       np.random.random(num_params),\n",
    "                       callback=print_avg,)\n",
    "    plt.plot(back_trace,label=str(nlayers))\n",
    "# there exists a classical polynomial algorithm returning solutions within a factor of 0.878 of the optimal\n",
    "# we must at least beat that. https://fr.wikipedia.org/wiki/Coupe_maximum\n",
    "plt.axhline(0.878*best_value, color='b', label=\"classical apx ratio\")\n",
    "plt.axhline(best_value,color='r',label='optimal value')\n",
    "plt.legend()"
   ]
  },
  {
   "cell_type": "markdown",
   "metadata": {},
   "source": [
    "### Question 6: smart initialization"
   ]
  },
  {
   "cell_type": "code",
   "execution_count": null,
   "metadata": {},
   "outputs": [],
   "source": [
    "T = 1.\n",
    "\n",
    "for nlayers in range(3,6,1):\n",
    "    num_params = 2*nlayers\n",
    "\n",
    "    back_trace = []\n",
    "    def print_avg(xk):\n",
    "        eva = evaluate_parameters(nqubits, edges, xk,nlayers)\n",
    "        back_trace.append(eva)\n",
    "        print(eva, end=' ')\n",
    "\n",
    "    # TODO implement parameter init\n",
    "    parameters_init = []\n",
    "\n",
    "    # END TODO        \n",
    "    opt_res = minimize(lambda x : evaluate_parameters(nqubits, edges, x, nlayers), \n",
    "                       parameters_init, \n",
    "                       callback=print_avg,)\n",
    "plt.axhline(0.878*best_value, color='b', label=\"classical apx ratio\")\n",
    "plt.axhline(best_value,color='r',label='optimal value')\n",
    "plt.legend()"
   ]
  }
 ],
 "metadata": {
  "kernelspec": {
   "display_name": "Python 3",
   "language": "python",
   "name": "python3"
  },
  "language_info": {
   "codemirror_mode": {
    "name": "ipython",
    "version": 3
   },
   "file_extension": ".py",
   "mimetype": "text/x-python",
   "name": "python",
   "nbconvert_exporter": "python",
   "pygments_lexer": "ipython3",
   "version": "3.7.6"
  }
 },
 "nbformat": 4,
 "nbformat_minor": 5
}
