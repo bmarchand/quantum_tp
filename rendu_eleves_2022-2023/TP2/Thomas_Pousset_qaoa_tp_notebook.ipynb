{
  "cells": [
    {
      "cell_type": "code",
      "execution_count": 1,
      "metadata": {
        "colab": {
          "base_uri": "https://localhost:8080/"
        },
        "id": "YpcbRuKsVTYO",
        "outputId": "f6136029-b461-43b3-dc77-877dd090c756"
      },
      "outputs": [
        {
          "output_type": "stream",
          "name": "stdout",
          "text": [
            "Looking in indexes: https://pypi.org/simple, https://us-python.pkg.dev/colab-wheels/public/simple/\n",
            "Collecting wand\n",
            "  Downloading Wand-0.6.11-py2.py3-none-any.whl (143 kB)\n",
            "\u001b[2K     \u001b[90m━━━━━━━━━━━━━━━━━━━━━━━━━━━━━━━━━━━━━━━\u001b[0m \u001b[32m143.6/143.6 KB\u001b[0m \u001b[31m4.8 MB/s\u001b[0m eta \u001b[36m0:00:00\u001b[0m\n",
            "\u001b[?25hInstalling collected packages: wand\n",
            "Successfully installed wand-0.6.11\n",
            "Reading package lists... Done\n",
            "Building dependency tree       \n",
            "Reading state information... Done\n",
            "The following package was automatically installed and is no longer required:\n",
            "  libnvidia-common-460\n",
            "Use 'apt autoremove' to remove it.\n",
            "The following additional packages will be installed:\n",
            "  fonts-droid-fallback fonts-noto-mono ghostscript gsfonts\n",
            "  imagemagick-6-common imagemagick-6.q16 libcupsfilters1 libcupsimage2\n",
            "  libdjvulibre-text libdjvulibre21 libgs9 libgs9-common libijs-0.35\n",
            "  libjbig2dec0 liblqr-1-0 libmagickcore-6.q16-3 libmagickcore-6.q16-3-extra\n",
            "  libmagickwand-6.q16-3 libnetpbm10 libwmf0.2-7 netpbm poppler-data\n",
            "Suggested packages:\n",
            "  fonts-noto ghostscript-x imagemagick-doc autotrace cups-bsd | lpr | lprng\n",
            "  enscript gimp gnuplot grads hp2xx html2ps libwmf-bin mplayer povray radiance\n",
            "  sane-utils texlive-base-bin transfig ufraw-batch inkscape libjxr-tools\n",
            "  libwmf0.2-7-gtk poppler-utils fonts-japanese-mincho | fonts-ipafont-mincho\n",
            "  fonts-japanese-gothic | fonts-ipafont-gothic fonts-arphic-ukai\n",
            "  fonts-arphic-uming fonts-nanum\n",
            "The following NEW packages will be installed:\n",
            "  fonts-droid-fallback fonts-noto-mono ghostscript gsfonts imagemagick\n",
            "  imagemagick-6-common imagemagick-6.q16 libcupsfilters1 libcupsimage2\n",
            "  libdjvulibre-text libdjvulibre21 libgs9 libgs9-common libijs-0.35\n",
            "  libjbig2dec0 liblqr-1-0 libmagickcore-6.q16-3 libmagickcore-6.q16-3-extra\n",
            "  libmagickwand-6.q16-3 libnetpbm10 libwmf0.2-7 netpbm poppler-data\n",
            "0 upgraded, 23 newly installed, 0 to remove and 20 not upgraded.\n",
            "Need to get 18.4 MB of archives.\n",
            "After this operation, 66.3 MB of additional disk space will be used.\n",
            "Get:1 http://archive.ubuntu.com/ubuntu bionic/main amd64 fonts-droid-fallback all 1:6.0.1r16-1.1 [1,805 kB]\n",
            "Get:2 http://archive.ubuntu.com/ubuntu bionic/main amd64 liblqr-1-0 amd64 0.4.2-2.1 [27.7 kB]\n",
            "Get:3 http://archive.ubuntu.com/ubuntu bionic-updates/main amd64 imagemagick-6-common all 8:6.9.7.4+dfsg-16ubuntu6.14 [60.5 kB]\n",
            "Get:4 http://archive.ubuntu.com/ubuntu bionic-updates/main amd64 libmagickcore-6.q16-3 amd64 8:6.9.7.4+dfsg-16ubuntu6.14 [1,622 kB]\n",
            "Get:5 http://archive.ubuntu.com/ubuntu bionic-updates/main amd64 libmagickwand-6.q16-3 amd64 8:6.9.7.4+dfsg-16ubuntu6.14 [294 kB]\n",
            "Get:6 http://archive.ubuntu.com/ubuntu bionic/main amd64 poppler-data all 0.4.8-2 [1,479 kB]\n",
            "Get:7 http://archive.ubuntu.com/ubuntu bionic/main amd64 fonts-noto-mono all 20171026-2 [75.5 kB]\n",
            "Get:8 http://archive.ubuntu.com/ubuntu bionic-updates/main amd64 libcupsimage2 amd64 2.2.7-1ubuntu2.9 [18.6 kB]\n",
            "Get:9 http://archive.ubuntu.com/ubuntu bionic/main amd64 libijs-0.35 amd64 0.35-13 [15.5 kB]\n",
            "Get:10 http://archive.ubuntu.com/ubuntu bionic/main amd64 libjbig2dec0 amd64 0.13-6 [55.9 kB]\n",
            "Get:11 http://archive.ubuntu.com/ubuntu bionic-updates/main amd64 libgs9-common all 9.26~dfsg+0-0ubuntu0.18.04.17 [5,092 kB]\n",
            "Get:12 http://archive.ubuntu.com/ubuntu bionic-updates/main amd64 libgs9 amd64 9.26~dfsg+0-0ubuntu0.18.04.17 [2,267 kB]\n",
            "Get:13 http://archive.ubuntu.com/ubuntu bionic-updates/main amd64 ghostscript amd64 9.26~dfsg+0-0ubuntu0.18.04.17 [51.3 kB]\n",
            "Get:14 http://archive.ubuntu.com/ubuntu bionic/main amd64 gsfonts all 1:8.11+urwcyr1.0.7~pre44-4.4 [3,120 kB]\n",
            "Get:15 http://archive.ubuntu.com/ubuntu bionic-updates/main amd64 imagemagick-6.q16 amd64 8:6.9.7.4+dfsg-16ubuntu6.14 [423 kB]\n",
            "Get:16 http://archive.ubuntu.com/ubuntu bionic-updates/main amd64 imagemagick amd64 8:6.9.7.4+dfsg-16ubuntu6.14 [14.2 kB]\n",
            "Get:17 http://archive.ubuntu.com/ubuntu bionic-updates/main amd64 libcupsfilters1 amd64 1.20.2-0ubuntu3.1 [108 kB]\n",
            "Get:18 http://archive.ubuntu.com/ubuntu bionic-updates/main amd64 libdjvulibre-text all 3.5.27.1-8ubuntu0.4 [49.4 kB]\n",
            "Get:19 http://archive.ubuntu.com/ubuntu bionic-updates/main amd64 libdjvulibre21 amd64 3.5.27.1-8ubuntu0.4 [561 kB]\n",
            "Get:20 http://archive.ubuntu.com/ubuntu bionic/main amd64 libwmf0.2-7 amd64 0.2.8.4-12 [150 kB]\n",
            "Get:21 http://archive.ubuntu.com/ubuntu bionic-updates/main amd64 libmagickcore-6.q16-3-extra amd64 8:6.9.7.4+dfsg-16ubuntu6.14 [62.2 kB]\n",
            "Get:22 http://archive.ubuntu.com/ubuntu bionic/main amd64 libnetpbm10 amd64 2:10.0-15.3build1 [58.0 kB]\n",
            "Get:23 http://archive.ubuntu.com/ubuntu bionic/main amd64 netpbm amd64 2:10.0-15.3build1 [1,017 kB]\n",
            "Fetched 18.4 MB in 1s (17.2 MB/s)\n",
            "Selecting previously unselected package fonts-droid-fallback.\n",
            "(Reading database ... 124016 files and directories currently installed.)\n",
            "Preparing to unpack .../00-fonts-droid-fallback_1%3a6.0.1r16-1.1_all.deb ...\n",
            "Unpacking fonts-droid-fallback (1:6.0.1r16-1.1) ...\n",
            "Selecting previously unselected package liblqr-1-0:amd64.\n",
            "Preparing to unpack .../01-liblqr-1-0_0.4.2-2.1_amd64.deb ...\n",
            "Unpacking liblqr-1-0:amd64 (0.4.2-2.1) ...\n",
            "Selecting previously unselected package imagemagick-6-common.\n",
            "Preparing to unpack .../02-imagemagick-6-common_8%3a6.9.7.4+dfsg-16ubuntu6.14_all.deb ...\n",
            "Unpacking imagemagick-6-common (8:6.9.7.4+dfsg-16ubuntu6.14) ...\n",
            "Selecting previously unselected package libmagickcore-6.q16-3:amd64.\n",
            "Preparing to unpack .../03-libmagickcore-6.q16-3_8%3a6.9.7.4+dfsg-16ubuntu6.14_amd64.deb ...\n",
            "Unpacking libmagickcore-6.q16-3:amd64 (8:6.9.7.4+dfsg-16ubuntu6.14) ...\n",
            "Selecting previously unselected package libmagickwand-6.q16-3:amd64.\n",
            "Preparing to unpack .../04-libmagickwand-6.q16-3_8%3a6.9.7.4+dfsg-16ubuntu6.14_amd64.deb ...\n",
            "Unpacking libmagickwand-6.q16-3:amd64 (8:6.9.7.4+dfsg-16ubuntu6.14) ...\n",
            "Selecting previously unselected package poppler-data.\n",
            "Preparing to unpack .../05-poppler-data_0.4.8-2_all.deb ...\n",
            "Unpacking poppler-data (0.4.8-2) ...\n",
            "Selecting previously unselected package fonts-noto-mono.\n",
            "Preparing to unpack .../06-fonts-noto-mono_20171026-2_all.deb ...\n",
            "Unpacking fonts-noto-mono (20171026-2) ...\n",
            "Selecting previously unselected package libcupsimage2:amd64.\n",
            "Preparing to unpack .../07-libcupsimage2_2.2.7-1ubuntu2.9_amd64.deb ...\n",
            "Unpacking libcupsimage2:amd64 (2.2.7-1ubuntu2.9) ...\n",
            "Selecting previously unselected package libijs-0.35:amd64.\n",
            "Preparing to unpack .../08-libijs-0.35_0.35-13_amd64.deb ...\n",
            "Unpacking libijs-0.35:amd64 (0.35-13) ...\n",
            "Selecting previously unselected package libjbig2dec0:amd64.\n",
            "Preparing to unpack .../09-libjbig2dec0_0.13-6_amd64.deb ...\n",
            "Unpacking libjbig2dec0:amd64 (0.13-6) ...\n",
            "Selecting previously unselected package libgs9-common.\n",
            "Preparing to unpack .../10-libgs9-common_9.26~dfsg+0-0ubuntu0.18.04.17_all.deb ...\n",
            "Unpacking libgs9-common (9.26~dfsg+0-0ubuntu0.18.04.17) ...\n",
            "Selecting previously unselected package libgs9:amd64.\n",
            "Preparing to unpack .../11-libgs9_9.26~dfsg+0-0ubuntu0.18.04.17_amd64.deb ...\n",
            "Unpacking libgs9:amd64 (9.26~dfsg+0-0ubuntu0.18.04.17) ...\n",
            "Selecting previously unselected package ghostscript.\n",
            "Preparing to unpack .../12-ghostscript_9.26~dfsg+0-0ubuntu0.18.04.17_amd64.deb ...\n",
            "Unpacking ghostscript (9.26~dfsg+0-0ubuntu0.18.04.17) ...\n",
            "Selecting previously unselected package gsfonts.\n",
            "Preparing to unpack .../13-gsfonts_1%3a8.11+urwcyr1.0.7~pre44-4.4_all.deb ...\n",
            "Unpacking gsfonts (1:8.11+urwcyr1.0.7~pre44-4.4) ...\n",
            "Selecting previously unselected package imagemagick-6.q16.\n",
            "Preparing to unpack .../14-imagemagick-6.q16_8%3a6.9.7.4+dfsg-16ubuntu6.14_amd64.deb ...\n",
            "Unpacking imagemagick-6.q16 (8:6.9.7.4+dfsg-16ubuntu6.14) ...\n",
            "Selecting previously unselected package imagemagick.\n",
            "Preparing to unpack .../15-imagemagick_8%3a6.9.7.4+dfsg-16ubuntu6.14_amd64.deb ...\n",
            "Unpacking imagemagick (8:6.9.7.4+dfsg-16ubuntu6.14) ...\n",
            "Selecting previously unselected package libcupsfilters1:amd64.\n",
            "Preparing to unpack .../16-libcupsfilters1_1.20.2-0ubuntu3.1_amd64.deb ...\n",
            "Unpacking libcupsfilters1:amd64 (1.20.2-0ubuntu3.1) ...\n",
            "Selecting previously unselected package libdjvulibre-text.\n",
            "Preparing to unpack .../17-libdjvulibre-text_3.5.27.1-8ubuntu0.4_all.deb ...\n",
            "Unpacking libdjvulibre-text (3.5.27.1-8ubuntu0.4) ...\n",
            "Selecting previously unselected package libdjvulibre21:amd64.\n",
            "Preparing to unpack .../18-libdjvulibre21_3.5.27.1-8ubuntu0.4_amd64.deb ...\n",
            "Unpacking libdjvulibre21:amd64 (3.5.27.1-8ubuntu0.4) ...\n",
            "Selecting previously unselected package libwmf0.2-7:amd64.\n",
            "Preparing to unpack .../19-libwmf0.2-7_0.2.8.4-12_amd64.deb ...\n",
            "Unpacking libwmf0.2-7:amd64 (0.2.8.4-12) ...\n",
            "Selecting previously unselected package libmagickcore-6.q16-3-extra:amd64.\n",
            "Preparing to unpack .../20-libmagickcore-6.q16-3-extra_8%3a6.9.7.4+dfsg-16ubuntu6.14_amd64.deb ...\n",
            "Unpacking libmagickcore-6.q16-3-extra:amd64 (8:6.9.7.4+dfsg-16ubuntu6.14) ...\n",
            "Selecting previously unselected package libnetpbm10.\n",
            "Preparing to unpack .../21-libnetpbm10_2%3a10.0-15.3build1_amd64.deb ...\n",
            "Unpacking libnetpbm10 (2:10.0-15.3build1) ...\n",
            "Selecting previously unselected package netpbm.\n",
            "Preparing to unpack .../22-netpbm_2%3a10.0-15.3build1_amd64.deb ...\n",
            "Unpacking netpbm (2:10.0-15.3build1) ...\n",
            "Setting up libgs9-common (9.26~dfsg+0-0ubuntu0.18.04.17) ...\n",
            "Setting up imagemagick-6-common (8:6.9.7.4+dfsg-16ubuntu6.14) ...\n",
            "Setting up fonts-droid-fallback (1:6.0.1r16-1.1) ...\n",
            "Setting up gsfonts (1:8.11+urwcyr1.0.7~pre44-4.4) ...\n",
            "Setting up poppler-data (0.4.8-2) ...\n",
            "Setting up libdjvulibre-text (3.5.27.1-8ubuntu0.4) ...\n",
            "Setting up libnetpbm10 (2:10.0-15.3build1) ...\n",
            "Setting up fonts-noto-mono (20171026-2) ...\n",
            "Setting up libcupsfilters1:amd64 (1.20.2-0ubuntu3.1) ...\n",
            "Setting up libcupsimage2:amd64 (2.2.7-1ubuntu2.9) ...\n",
            "Setting up liblqr-1-0:amd64 (0.4.2-2.1) ...\n",
            "Setting up libjbig2dec0:amd64 (0.13-6) ...\n",
            "Setting up libijs-0.35:amd64 (0.35-13) ...\n",
            "Setting up netpbm (2:10.0-15.3build1) ...\n",
            "Setting up libgs9:amd64 (9.26~dfsg+0-0ubuntu0.18.04.17) ...\n",
            "Setting up libwmf0.2-7:amd64 (0.2.8.4-12) ...\n",
            "Setting up libmagickcore-6.q16-3:amd64 (8:6.9.7.4+dfsg-16ubuntu6.14) ...\n",
            "Setting up libdjvulibre21:amd64 (3.5.27.1-8ubuntu0.4) ...\n",
            "Setting up ghostscript (9.26~dfsg+0-0ubuntu0.18.04.17) ...\n",
            "Setting up libmagickwand-6.q16-3:amd64 (8:6.9.7.4+dfsg-16ubuntu6.14) ...\n",
            "Setting up imagemagick-6.q16 (8:6.9.7.4+dfsg-16ubuntu6.14) ...\n",
            "update-alternatives: using /usr/bin/compare-im6.q16 to provide /usr/bin/compare (compare) in auto mode\n",
            "update-alternatives: using /usr/bin/compare-im6.q16 to provide /usr/bin/compare-im6 (compare-im6) in auto mode\n",
            "update-alternatives: using /usr/bin/animate-im6.q16 to provide /usr/bin/animate (animate) in auto mode\n",
            "update-alternatives: using /usr/bin/animate-im6.q16 to provide /usr/bin/animate-im6 (animate-im6) in auto mode\n",
            "update-alternatives: using /usr/bin/convert-im6.q16 to provide /usr/bin/convert (convert) in auto mode\n",
            "update-alternatives: using /usr/bin/convert-im6.q16 to provide /usr/bin/convert-im6 (convert-im6) in auto mode\n",
            "update-alternatives: using /usr/bin/composite-im6.q16 to provide /usr/bin/composite (composite) in auto mode\n",
            "update-alternatives: using /usr/bin/composite-im6.q16 to provide /usr/bin/composite-im6 (composite-im6) in auto mode\n",
            "update-alternatives: using /usr/bin/conjure-im6.q16 to provide /usr/bin/conjure (conjure) in auto mode\n",
            "update-alternatives: using /usr/bin/conjure-im6.q16 to provide /usr/bin/conjure-im6 (conjure-im6) in auto mode\n",
            "update-alternatives: using /usr/bin/import-im6.q16 to provide /usr/bin/import (import) in auto mode\n",
            "update-alternatives: using /usr/bin/import-im6.q16 to provide /usr/bin/import-im6 (import-im6) in auto mode\n",
            "update-alternatives: using /usr/bin/identify-im6.q16 to provide /usr/bin/identify (identify) in auto mode\n",
            "update-alternatives: using /usr/bin/identify-im6.q16 to provide /usr/bin/identify-im6 (identify-im6) in auto mode\n",
            "update-alternatives: using /usr/bin/stream-im6.q16 to provide /usr/bin/stream (stream) in auto mode\n",
            "update-alternatives: using /usr/bin/stream-im6.q16 to provide /usr/bin/stream-im6 (stream-im6) in auto mode\n",
            "update-alternatives: using /usr/bin/display-im6.q16 to provide /usr/bin/display (display) in auto mode\n",
            "update-alternatives: using /usr/bin/display-im6.q16 to provide /usr/bin/display-im6 (display-im6) in auto mode\n",
            "update-alternatives: using /usr/bin/montage-im6.q16 to provide /usr/bin/montage (montage) in auto mode\n",
            "update-alternatives: using /usr/bin/montage-im6.q16 to provide /usr/bin/montage-im6 (montage-im6) in auto mode\n",
            "update-alternatives: using /usr/bin/mogrify-im6.q16 to provide /usr/bin/mogrify (mogrify) in auto mode\n",
            "update-alternatives: using /usr/bin/mogrify-im6.q16 to provide /usr/bin/mogrify-im6 (mogrify-im6) in auto mode\n",
            "Setting up libmagickcore-6.q16-3-extra:amd64 (8:6.9.7.4+dfsg-16ubuntu6.14) ...\n",
            "Setting up imagemagick (8:6.9.7.4+dfsg-16ubuntu6.14) ...\n",
            "Processing triggers for hicolor-icon-theme (0.17-2) ...\n",
            "Processing triggers for fontconfig (2.12.6-0ubuntu2) ...\n",
            "Processing triggers for mime-support (3.60ubuntu1) ...\n",
            "Processing triggers for libc-bin (2.27-3ubuntu1.6) ...\n",
            "Processing triggers for man-db (2.8.3-2ubuntu0.1) ...\n",
            "Looking in indexes: https://pypi.org/simple, https://us-python.pkg.dev/colab-wheels/public/simple/\n",
            "Collecting myqlm\n",
            "  Downloading myqlm-1.7.2-py3-none-any.whl (2.0 kB)\n",
            "Collecting myqlm-fermion>=1.0.0\n",
            "  Downloading myqlm_fermion-1.0.0-py3-none-any.whl (90 kB)\n",
            "\u001b[2K     \u001b[90m━━━━━━━━━━━━━━━━━━━━━━━━━━━━━━━━━━━━━━━━\u001b[0m \u001b[32m90.0/90.0 KB\u001b[0m \u001b[31m4.5 MB/s\u001b[0m eta \u001b[36m0:00:00\u001b[0m\n",
            "\u001b[?25hCollecting qat-variational>=1.4.0\n",
            "  Downloading qat_variational-1.4.0-cp38-cp38-manylinux1_x86_64.whl (1.6 MB)\n",
            "\u001b[2K     \u001b[90m━━━━━━━━━━━━━━━━━━━━━━━━━━━━━━━━━━━━━━━━\u001b[0m \u001b[32m1.6/1.6 MB\u001b[0m \u001b[31m28.3 MB/s\u001b[0m eta \u001b[36m0:00:00\u001b[0m\n",
            "\u001b[?25hCollecting qat-devices>=0.2.0\n",
            "  Downloading qat_devices-0.2.0-cp38-cp38-manylinux1_x86_64.whl (252 kB)\n",
            "\u001b[2K     \u001b[90m━━━━━━━━━━━━━━━━━━━━━━━━━━━━━━━━━━━━━━\u001b[0m \u001b[32m252.7/252.7 KB\u001b[0m \u001b[31m28.1 MB/s\u001b[0m eta \u001b[36m0:00:00\u001b[0m\n",
            "\u001b[?25hCollecting myqlm-contrib>=1.7.1\n",
            "  Downloading myqlm_contrib-1.7.1-py3-none-any.whl (13 kB)\n",
            "Collecting qat-comm>=1.4.2\n",
            "  Downloading qat_comm-1.4.2-cp38-cp38-manylinux1_x86_64.whl (2.9 MB)\n",
            "\u001b[2K     \u001b[90m━━━━━━━━━━━━━━━━━━━━━━━━━━━━━━━━━━━━━━━━\u001b[0m \u001b[32m2.9/2.9 MB\u001b[0m \u001b[31m77.6 MB/s\u001b[0m eta \u001b[36m0:00:00\u001b[0m\n",
            "\u001b[?25hCollecting myqlm-simulators>=1.7.1\n",
            "  Downloading myqlm_simulators-1.7.1-py3-none-any.whl (19 kB)\n",
            "Collecting qat-lang>=2.2.1\n",
            "  Downloading qat_lang-2.2.1-cp38-cp38-manylinux1_x86_64.whl (2.5 MB)\n",
            "\u001b[2K     \u001b[90m━━━━━━━━━━━━━━━━━━━━━━━━━━━━━━━━━━━━━━━━\u001b[0m \u001b[32m2.5/2.5 MB\u001b[0m \u001b[31m84.0 MB/s\u001b[0m eta \u001b[36m0:00:00\u001b[0m\n",
            "\u001b[?25hCollecting myqlm-clinalg>=0.0.4\n",
            "  Downloading myqlm_clinalg-0.0.4-cp38-cp38-manylinux1_x86_64.whl (498 kB)\n",
            "\u001b[2K     \u001b[90m━━━━━━━━━━━━━━━━━━━━━━━━━━━━━━━━━━━━━━\u001b[0m \u001b[32m498.3/498.3 KB\u001b[0m \u001b[31m35.3 MB/s\u001b[0m eta \u001b[36m0:00:00\u001b[0m\n",
            "\u001b[?25hCollecting qat-core>=1.6.1\n",
            "  Downloading qat_core-1.6.2-cp38-cp38-manylinux1_x86_64.whl (4.0 MB)\n",
            "\u001b[2K     \u001b[90m━━━━━━━━━━━━━━━━━━━━━━━━━━━━━━━━━━━━━━━━\u001b[0m \u001b[32m4.0/4.0 MB\u001b[0m \u001b[31m88.5 MB/s\u001b[0m eta \u001b[36m0:00:00\u001b[0m\n",
            "\u001b[?25hRequirement already satisfied: networkx in /usr/local/lib/python3.8/dist-packages (from myqlm-contrib>=1.7.1->myqlm) (2.8.8)\n",
            "Collecting anytree\n",
            "  Downloading anytree-2.8.0-py2.py3-none-any.whl (41 kB)\n",
            "\u001b[2K     \u001b[90m━━━━━━━━━━━━━━━━━━━━━━━━━━━━━━━━━━━━━━━━\u001b[0m \u001b[32m41.7/41.7 KB\u001b[0m \u001b[31m4.5 MB/s\u001b[0m eta \u001b[36m0:00:00\u001b[0m\n",
            "\u001b[?25hRequirement already satisfied: tqdm in /usr/local/lib/python3.8/dist-packages (from myqlm-fermion>=1.0.0->myqlm) (4.64.1)\n",
            "Requirement already satisfied: pytest in /usr/local/lib/python3.8/dist-packages (from myqlm-fermion>=1.0.0->myqlm) (3.6.4)\n",
            "Requirement already satisfied: scipy in /usr/local/lib/python3.8/dist-packages (from myqlm-fermion>=1.0.0->myqlm) (1.7.3)\n",
            "Collecting bitstring\n",
            "  Downloading bitstring-4.0.1-py3-none-any.whl (45 kB)\n",
            "\u001b[2K     \u001b[90m━━━━━━━━━━━━━━━━━━━━━━━━━━━━━━━━━━━━━━━━\u001b[0m \u001b[32m45.6/45.6 KB\u001b[0m \u001b[31m5.2 MB/s\u001b[0m eta \u001b[36m0:00:00\u001b[0m\n",
            "\u001b[?25hRequirement already satisfied: numpy in /usr/local/lib/python3.8/dist-packages (from myqlm-fermion>=1.0.0->myqlm) (1.21.6)\n",
            "Collecting thrift==0.16.0\n",
            "  Downloading thrift-0.16.0.tar.gz (59 kB)\n",
            "\u001b[2K     \u001b[90m━━━━━━━━━━━━━━━━━━━━━━━━━━━━━━━━━━━━━━━━\u001b[0m \u001b[32m59.6/59.6 KB\u001b[0m \u001b[31m7.1 MB/s\u001b[0m eta \u001b[36m0:00:00\u001b[0m\n",
            "\u001b[?25h  Preparing metadata (setup.py) ... \u001b[?25l\u001b[?25hdone\n",
            "Requirement already satisfied: six>=1.7.2 in /usr/local/lib/python3.8/dist-packages (from thrift==0.16.0->qat-comm>=1.4.2->myqlm) (1.15.0)\n",
            "Requirement already satisfied: wand in /usr/local/lib/python3.8/dist-packages (from qat-core>=1.6.1->myqlm) (0.6.11)\n",
            "Requirement already satisfied: Pillow in /usr/local/lib/python3.8/dist-packages (from qat-core>=1.6.1->myqlm) (7.1.2)\n",
            "Collecting svgwrite\n",
            "  Downloading svgwrite-1.4.3-py3-none-any.whl (67 kB)\n",
            "\u001b[2K     \u001b[90m━━━━━━━━━━━━━━━━━━━━━━━━━━━━━━━━━━━━━━━━\u001b[0m \u001b[32m67.1/67.1 KB\u001b[0m \u001b[31m9.1 MB/s\u001b[0m eta \u001b[36m0:00:00\u001b[0m\n",
            "\u001b[?25hRequirement already satisfied: matplotlib in /usr/local/lib/python3.8/dist-packages (from qat-core>=1.6.1->myqlm) (3.2.2)\n",
            "Requirement already satisfied: dill in /usr/local/lib/python3.8/dist-packages (from qat-core>=1.6.1->myqlm) (0.3.6)\n",
            "Collecting ply==3.11\n",
            "  Downloading ply-3.11-py2.py3-none-any.whl (49 kB)\n",
            "\u001b[2K     \u001b[90m━━━━━━━━━━━━━━━━━━━━━━━━━━━━━━━━━━━━━━━━\u001b[0m \u001b[32m49.6/49.6 KB\u001b[0m \u001b[31m6.3 MB/s\u001b[0m eta \u001b[36m0:00:00\u001b[0m\n",
            "\u001b[?25hCollecting pyDOE\n",
            "  Downloading pyDOE-0.3.8.zip (22 kB)\n",
            "  Preparing metadata (setup.py) ... \u001b[?25l\u001b[?25hdone\n",
            "Requirement already satisfied: python-dateutil>=2.1 in /usr/local/lib/python3.8/dist-packages (from matplotlib->qat-core>=1.6.1->myqlm) (2.8.2)\n",
            "Requirement already satisfied: kiwisolver>=1.0.1 in /usr/local/lib/python3.8/dist-packages (from matplotlib->qat-core>=1.6.1->myqlm) (1.4.4)\n",
            "Requirement already satisfied: pyparsing!=2.0.4,!=2.1.2,!=2.1.6,>=2.0.1 in /usr/local/lib/python3.8/dist-packages (from matplotlib->qat-core>=1.6.1->myqlm) (3.0.9)\n",
            "Requirement already satisfied: cycler>=0.10 in /usr/local/lib/python3.8/dist-packages (from matplotlib->qat-core>=1.6.1->myqlm) (0.11.0)\n",
            "Requirement already satisfied: atomicwrites>=1.0 in /usr/local/lib/python3.8/dist-packages (from pytest->myqlm-fermion>=1.0.0->myqlm) (1.4.1)\n",
            "Requirement already satisfied: setuptools in /usr/local/lib/python3.8/dist-packages (from pytest->myqlm-fermion>=1.0.0->myqlm) (57.4.0)\n",
            "Requirement already satisfied: more-itertools>=4.0.0 in /usr/local/lib/python3.8/dist-packages (from pytest->myqlm-fermion>=1.0.0->myqlm) (9.0.0)\n",
            "Requirement already satisfied: py>=1.5.0 in /usr/local/lib/python3.8/dist-packages (from pytest->myqlm-fermion>=1.0.0->myqlm) (1.11.0)\n",
            "Requirement already satisfied: attrs>=17.4.0 in /usr/local/lib/python3.8/dist-packages (from pytest->myqlm-fermion>=1.0.0->myqlm) (22.2.0)\n",
            "Requirement already satisfied: pluggy<0.8,>=0.5 in /usr/local/lib/python3.8/dist-packages (from pytest->myqlm-fermion>=1.0.0->myqlm) (0.7.1)\n",
            "Building wheels for collected packages: thrift, pyDOE\n",
            "  Building wheel for thrift (setup.py) ... \u001b[?25l\u001b[?25hdone\n",
            "  Created wheel for thrift: filename=thrift-0.16.0-cp38-cp38-linux_x86_64.whl size=349410 sha256=3f04e0cd3985e7c861d125eee33447509ea3e7e40feec16636933e52daef2483\n",
            "  Stored in directory: /root/.cache/pip/wheels/c1/03/53/7220f8aeecbf2c66ef655a9cff1929299e38119502a316ae30\n",
            "  Building wheel for pyDOE (setup.py) ... \u001b[?25l\u001b[?25hdone\n",
            "  Created wheel for pyDOE: filename=pyDOE-0.3.8-py3-none-any.whl size=18184 sha256=eda4fe731c1602087a174f7e26fb95fc873ba8b0c98b66b7742220c6936c66a5\n",
            "  Stored in directory: /root/.cache/pip/wheels/00/3e/fa/5705bf59c2053c17c4799c3ab66a2e356c32f40a3044fe2134\n",
            "Successfully built thrift pyDOE\n",
            "Installing collected packages: ply, thrift, svgwrite, bitstring, anytree, qat-comm, pyDOE, qat-core, qat-lang, qat-devices, myqlm-contrib, qat-variational, myqlm-clinalg, myqlm-simulators, myqlm-fermion, myqlm\n",
            "Successfully installed anytree-2.8.0 bitstring-4.0.1 myqlm-1.7.2 myqlm-clinalg-0.0.4 myqlm-contrib-1.7.1 myqlm-fermion-1.0.0 myqlm-simulators-1.7.1 ply-3.11 pyDOE-0.3.8 qat-comm-1.4.2 qat-core-1.6.2 qat-devices-0.2.0 qat-lang-2.2.1 qat-variational-1.4.0 svgwrite-1.4.3 thrift-0.16.0\n",
            "QLM magics have been sucessfully installed\n"
          ]
        }
      ],
      "source": [
        "!pip install wand\n",
        "!apt install imagemagick\n",
        "!pip install myqlm\n",
        "!python -m qat.magics.install"
      ],
      "id": "YpcbRuKsVTYO"
    },
    {
      "cell_type": "markdown",
      "metadata": {
        "id": "bad09515"
      },
      "source": [
        "## Part 1 implementing QAOA\n"
      ],
      "id": "bad09515"
    },
    {
      "cell_type": "markdown",
      "metadata": {
        "id": "536219fc"
      },
      "source": [
        "### Question1 :\n",
        "Write down in the cell below the Hamiltonian whose ground state is the solution to MaxCUT on an input graph $G=(V,E)$:"
      ],
      "id": "536219fc"
    },
    {
      "cell_type": "markdown",
      "metadata": {
        "id": "fd36b562"
      },
      "source": [
        "$$ H = \\sum_{i,j\\in E} \\sigma_i \\cdot \\sigma_j $$\n",
        "With $(i,j)$ an edge connecting vertex i and j.\n",
        "Minimizing H means having the most $ -1 $ in the sum hence miximising the number of edges which connect opposite spins. "
      ],
      "id": "fd36b562"
    },
    {
      "cell_type": "markdown",
      "metadata": {
        "id": "b045f8b7"
      },
      "source": [
        "### Question 2:\n",
        "Complete the implementation below of a simple, brute-force enumeration of all states computing the optimal solution to MaxCUT for the graph represented by 'edges'"
      ],
      "id": "b045f8b7"
    },
    {
      "cell_type": "code",
      "execution_count": 2,
      "metadata": {
        "colab": {
          "base_uri": "https://localhost:8080/"
        },
        "id": "7bc976fa",
        "outputId": "e4dc5365-c32c-4099-de20-8abbc6c3e538"
      },
      "outputs": [
        {
          "output_type": "stream",
          "name": "stdout",
          "text": [
            "-5\n",
            "[1, 0, 0, 1, 1]\n"
          ]
        }
      ],
      "source": [
        "import numpy as np\n",
        "\n",
        "graph1 = [(0,1),(0,2),(1,3),(2,3)]\n",
        "graph2 = [(0,1),(1,2),(0,3),(1,4),(2,5),(3,6),(4,7),(5,8),(3,4),(4,5),(6,7),(7,8)]\n",
        "graph3 = [(0,1),(1,2),(0,3),(1,4),(2,5),(3,6),(4,7),(3,4),(4,5),(6,7)]\n",
        "graph4 = [(0,1),(1,2),(2,3),(4,5),(5,6),(6,7),(0,4),(1,5),(2,6),(3,7)]\n",
        "graph5 = [(0,1),(0,2),(1,3),(2,4),(3,5),(4,5),(1,4)]\n",
        "graph6 = [(0,1),(0,2),(1,3),(2,4),(1,4)]\n",
        "\n",
        "\n",
        "# choice of graph\n",
        "edges = graph6\n",
        "\n",
        "nqubits = max([max(list(v)) for v in edges])+1\n",
        "\n",
        "#nqubits = 5\n",
        "graph7 = [(i,(i+1)%nqubits) for i in range(nqubits)]+[(1,4)]\n",
        "\n",
        "\n",
        "# COMPUTATION OF OPT.\n",
        "best_value = len(edges)\n",
        "best_b = 0\n",
        "for x in range(2**nqubits):\n",
        "    b = np.binary_repr(x, width=nqubits)\n",
        "    b = [int(b[i]) for i in range(nqubits)]\n",
        "    # TODO: Complete the computation below:\n",
        "\n",
        "    # Assuming b is one configuration\n",
        "    val = 0\n",
        "    for edge in edges:\n",
        "      val = val + (1 if b[edge[0]]==b[edge[1]] else -1)\n",
        "      # Compute the energy associated to b\n",
        "    \n",
        "    # END TODO\n",
        "    if val <= best_value:\n",
        "        best_value = val\n",
        "        best_b = b\n",
        "print(best_value)\n",
        "print(best_b)"
      ],
      "id": "7bc976fa"
    },
    {
      "cell_type": "markdown",
      "metadata": {
        "id": "4bed0ead"
      },
      "source": [
        "#### visualization of the graph"
      ],
      "id": "4bed0ead"
    },
    {
      "cell_type": "code",
      "execution_count": 3,
      "metadata": {
        "colab": {
          "base_uri": "https://localhost:8080/",
          "height": 248
        },
        "id": "11a7d2a7",
        "outputId": "2bed2853-aedf-4ac8-9434-d8fcca35eac0"
      },
      "outputs": [
        {
          "output_type": "display_data",
          "data": {
            "text/plain": [
              "<Figure size 432x288 with 1 Axes>"
            ],
            "image/png": "[encoded data removed]"
          },
          "metadata": {}
        }
      ],
      "source": [
        "import networkx as nx\n",
        "G = nx.Graph()\n",
        "for i,j in edges:\n",
        "    G.add_edge(i,j)\n",
        "nx.draw_networkx(G)"
      ],
      "id": "11a7d2a7"
    },
    {
      "cell_type": "code",
      "execution_count": 4,
      "metadata": {
        "id": "1bcf8886"
      },
      "outputs": [],
      "source": [
        "from qat.lang.AQASM import Program, H, CNOT, RX, QRoutine, RZ, X, Z"
      ],
      "id": "1bcf8886"
    },
    {
      "cell_type": "code",
      "execution_count": 5,
      "metadata": {
        "id": "f125405c"
      },
      "outputs": [],
      "source": [
        "def U_ZZ(theta):\n",
        "    \n",
        "    zz_r = QRoutine()\n",
        "    zz_r.apply(CNOT, 0, 1)\n",
        "    zz_r.apply(RZ(theta), 1) # difference of convention between implemented version and what we need.\n",
        "    zz_r.apply(CNOT, 0, 1)\n",
        "\n",
        "    return zz_r"
      ],
      "id": "f125405c"
    },
    {
      "cell_type": "markdown",
      "metadata": {
        "id": "b87e91ed"
      },
      "source": [
        "### Question 3"
      ],
      "id": "b87e91ed"
    },
    {
      "cell_type": "code",
      "execution_count": 6,
      "metadata": {
        "id": "27954bb3"
      },
      "outputs": [],
      "source": [
        "def one_qaoa_layer(n_qubits, edges, theta, beta):\n",
        "\n",
        "    layer = QRoutine()\n",
        "    #TODO: implement one qaoa layer\n",
        "    #First RX on every qbits with angle theta\n",
        "    for i in range(n_qubits):\n",
        "      layer.apply(RX(theta), i)\n",
        "    #Then apply exp(-i Beta Hc)\n",
        "    #One can separate exp into a product of exponential since sigmai*sigmaj commutes.\n",
        "    for edge in edges:\n",
        "      layer.apply(U_ZZ(beta), edge[0], edge[1])\n",
        "    \n",
        "    return layer"
      ],
      "id": "27954bb3"
    },
    {
      "cell_type": "markdown",
      "metadata": {
        "id": "bd0c36a5"
      },
      "source": [
        "### Question 4"
      ],
      "id": "bd0c36a5"
    },
    {
      "cell_type": "code",
      "execution_count": 9,
      "metadata": {
        "id": "655a9aaa"
      },
      "outputs": [],
      "source": [
        "from qat.qpus import get_default_qpu\n",
        "\n",
        "def evaluate_parameters(n_qubits, edges, parameters, n_layers):\n",
        "    \n",
        "    prog = Program()\n",
        "    qubits = prog.qalloc(n_qubits)\n",
        "    \n",
        "    # TODO: implement initialization+parameterized circuit\n",
        "\n",
        "    #init phase (tower of Hadamard)\n",
        "    for i in range(n_qubits):\n",
        "      prog.apply(H, qubits[i])\n",
        "\n",
        "    # apply the layers\n",
        "    for p in range(n_layers):\n",
        "      prog.apply(one_qaoa_layer(n_qubits, edges, parameters[2*p], parameters[2*p + 1]), qubits)\n",
        "        \n",
        "    # END TODO\n",
        "    circ = prog.to_circ()\n",
        "    \n",
        "    job = circ.to_job()\n",
        "    qpu = get_default_qpu()\n",
        "    \n",
        "    result = qpu.submit(job)\n",
        "    \n",
        "    # BEGIN TODO\n",
        "    obs = 0\n",
        "    for sample in result:\n",
        "        # this loop is over all 2**nqubits states.\n",
        "        # int(sample.state.bitstring[i]) contains the qubit values\n",
        "        # sample.probability the probability of getting the state\n",
        "        contribution = 0\n",
        "        for edge in edges:\n",
        "          contribution = contribution + (1 if sample.state.bitstring[edge[0]] == sample.state.bitstring[edge[1]] else -1)\n",
        "        obs = obs + sample.probability*contribution\n",
        "\n",
        "    # END TODO\n",
        "    return obs\n",
        "    \n",
        "        "
      ],
      "id": "655a9aaa"
    },
    {
      "cell_type": "code",
      "execution_count": 10,
      "metadata": {
        "colab": {
          "base_uri": "https://localhost:8080/"
        },
        "id": "88963901",
        "outputId": "10a5c0a0-e33d-44f9-b08e-6ab11216a771"
      },
      "outputs": [
        {
          "output_type": "execute_result",
          "data": {
            "text/plain": [
              "array([0.1393448 , 0.16521417, 0.02068841])"
            ]
          },
          "metadata": {},
          "execution_count": 10
        }
      ],
      "source": [
        "import numpy as np\n",
        "np.random.random(3)"
      ],
      "id": "88963901"
    },
    {
      "cell_type": "code",
      "execution_count": 11,
      "metadata": {
        "id": "42557843"
      },
      "outputs": [],
      "source": [
        "from scipy.optimize import minimize\n"
      ],
      "id": "42557843"
    },
    {
      "cell_type": "markdown",
      "metadata": {
        "id": "0846a6dd"
      },
      "source": [
        "### Random initialisation"
      ],
      "id": "0846a6dd"
    },
    {
      "cell_type": "markdown",
      "metadata": {
        "id": "f679d3e0"
      },
      "source": [
        "### Question 5: \n",
        "réponse à la question: 8 environ"
      ],
      "id": "f679d3e0"
    },
    {
      "cell_type": "code",
      "execution_count": 14,
      "metadata": {
        "colab": {
          "base_uri": "https://localhost:8080/",
          "height": 387
        },
        "id": "36f6e279",
        "outputId": "45053471-1f4c-4611-f58d-c030e104b44c"
      },
      "outputs": [
        {
          "output_type": "stream",
          "name": "stdout",
          "text": [
            "-0.0653933446757361 -0.728594172716611 -1.353832710415996 -1.5706752234434571 -1.9608644269251223 -3.5706016610348787 -3.691573753266374 -3.7380390831989647 -3.7667402949869815 -3.7998987695481525 -3.8194658891998694 -4.0138427890947055 -4.0406710471133245 -4.09110005762796 -4.178551319115422 -4.231720778665656 -4.242212142347899 -4.261789074674092 -4.2952753084155715 -4.327283023916141 -4.3810211964255545 -4.460216700099359 -4.48937844474335 -4.498796330004911 -4.501648542790144 -4.504045048430268 -4.508267031315327 -4.5153086970353336 -4.521846594221539 -4.524270624891723 -4.524741783905333 -4.5247739338300486 -4.524777402806409 -4.5247801948066515 -4.524781310540866 -4.524781364461514 -4.524781365761203 -4.524781365780594 6\n",
            "-0.0012216636643493164 -0.6195945650258529 -1.0956501923752566 -2.670177610387618 -2.874197871693744 -3.193231712446146 -3.5743169012621685 -4.24776041256205 -4.369461514260577 -4.404082423194511 -4.4351331950612085 -4.483076122955211 -4.553055891546205 -4.583937237588783 -4.62168840453644 -4.6541246432057015 -4.679126891188332 -4.705269558813966 -4.725546382363089 -4.749425131514422 -4.757114304037177 -4.7613078582433905 -4.765400804673358 -4.771924703991449 -4.779074701918812 -4.780378217562583 -4.781940228689455 -4.784300114614189 -4.787778632561481 -4.78958917695462 -4.791140860464809 -4.792517527000892 -4.794222077912918 -4.797230127930307 -4.801828328668321 -4.806337612817428 -4.808508551802513 -4.811487169904014 -4.813507779760407 -4.814112933427778 -4.81455830931437 -4.814805559033219 -4.814949205107537 -4.815081381509805 -4.815306876273942 -4.815693762502299 -4.816303518268816 -4.817105702110898 -4.8183409145386795 -4.819772591955 -4.820481485361091 -4.821743535771432 -4.822374616378119 -4.823364122456046 -4.824703053739093 -4.82580512723338 -4.82742553974211 -4.828690094620745 -4.830818951034165 -4.833810612054645 -4.83793716269123 -4.8405165627325415 -4.844285558508172 -4.849592358482933 -4.858163045839602 -4.86072386716434 -4.865675452045712 -4.872758314466103 -4.878813846276489 -4.880570843630307 -4.8832310300477895 -4.8853732111940005 -4.885752063233909 -4.8863796888973265 -4.8873661617821895 -4.888872632209693 -4.891150226625776 -4.894540941512849 -4.898273974272063 -4.899622445179436 -4.901720983390828 -4.903487604513869 -4.906474427762945 -4.911820191454442 -4.921334766488793 -4.935445389142235 -4.942940232601751 -4.9487633168931895 -4.951145210374831 -4.952394825649563 -4.952846364285792 -4.953182049227714 -4.95334307602192 -4.95351637585632 -4.95362317111311 -4.953655551176811 -4.953660181577075 -4.953661100970099 -4.953661564839991 -4.95366173996766 -4.953661769322374 -4.9536617724554475 -4.953661772799706 -4.953661772823179 7\n",
            "-0.4133373090211952 -0.9304321344432744 -1.0660410618798117 -1.1448162744949932 -1.7792118474977145 -2.542005221252555 -2.6025615080131606 -3.1334809453872468 -3.8943102585077525 -4.244735448825476 -4.42767424293248 -4.538085204896476 -4.561356707698468 -4.595677176485024 -4.642988547938563 -4.672021124174403 -4.691041517818497 -4.709503632871824 -4.742542968826824 -4.783175188312459 -4.803545244187953 -4.8271521862654305 -4.836807976903125 -4.8415507283912 -4.8498530501563835 -4.86243898627356 -4.872237451041405 -4.879870185270275 -4.8879057449183 -4.896523249085924 -4.900796193761546 -4.9032451749737165 -4.903958696298839 -4.90460943050672 -4.905338752585861 -4.906656839802432 -4.908991976439772 -4.912144191409455 -4.915755746396734 -4.921781909960523 -4.9258156796222385 -4.931598632688752 -4.935360923676524 -4.93785362708675 -4.938677955441643 -4.9401848104782875 -4.942176526515066 -4.9431012185381595 -4.944101801305689 -4.944900715028003 -4.946310355470667 -4.948812704839656 -4.952709575278396 -4.954325513612382 -4.956624538779194 -4.957870214752606 -4.95822886294219 -4.958704899019516 -4.959373349199373 -4.960326905825729 -4.961346835027891 -4.962091155343626 -4.962325837968946 -4.962446623760928 -4.962580189115026 -4.962741966117531 -4.9627962966466646 -4.9628610928692405 -4.962964315190101 -4.9631346387986 -4.963400935652944 -4.963741151193509 -4.964097251969252 -4.964423524192178 -4.964459955815222 -4.9645097897194095 -4.964531309725292 -4.964537336690323 -4.9645388965133685 -4.964538998144039 -4.964539018046231 -4.964539022077164 -4.964539022332226 -4.964539022371089 8\n",
            "-0.639992042056515 -1.0991955564321125 -1.2696068891064953 -1.415598080596487 -1.541721130088527 -1.5576730621731893 -1.5764433095832942 -1.6051545782478256 -1.6210429047201578 -1.629860452776737 -1.6439262654241962 -1.6652493204986674 -1.745450724890225 -1.7535949924403134 -1.7685149879226993 -1.809785776645799 -1.8282723798133336 -1.862354197011371 -1.9248524535457534 -2.2653697054675 -2.3437985031414854 -2.482014266919782 -2.7584848542898524 -2.888912407727082 -3.08530732153307 -3.196730591220768 -3.34986400833413 -3.5395021736775427 -3.6671253499290093 -3.881509835508433 -4.042045781963059 -4.096992102735354 -4.166790826839067 -4.173491308853602 -4.186011884363457 -4.207747993343769 -4.224548057558246 -4.238742200976894 -4.258563595385161 -4.2875564655399785 -4.312242249247256 -4.336773537808856 -4.365487539713644 -4.376279527448994 -4.392809985434035 -4.419960057305691 -4.454988174436229 -4.487769435756058 -4.510666235750889 -4.524108302253727 -4.540131936176808 -4.555179445684795 -4.571619330122786 -4.5830830761183465 -4.59082145059479 -4.601757510114166 -4.606988376448304 -4.609010426525542 -4.611699832413711 -4.616609822051849 -4.625985183235035 -4.642597658069987 -4.649322467335697 -4.658548304971378 -4.672318271857928 -4.682956560208741 -4.68689552141323 -4.689356893359526 -4.693387957584611 -4.700210483581175 -4.711237524987951 -4.7258425372186545 -4.738798221826882 -4.748580725003251 -4.7636895180949805 -4.780490752367973 -4.787664315012633 -4.792676636508447 -4.794195505108744 -4.796142378053846 -4.797568402990868 -4.79871952252983 -4.800124334500504 -4.8008493949134 -4.80159015124087 -4.802773761587111 -4.804243314243171 -4.805246473370878 -4.80645400719237 -4.806981594753813 -4.8073939839716555 -4.807673442181992 -4.808088052707314 -4.8084957099294305 -4.80893547667859 -4.8093701657467705 -4.809755336736876 -4.810063992036327 -4.810305996972132 -4.810633209521711 -4.810996830526106 -4.811493274181378 -4.811971532569978 -4.81274860611077 -4.814002080718887 -4.816016190110422 -4.818783144321231 -4.822794013884965 -4.828004077599751 -4.830688066981083 -4.833595387229151 -4.834235133751028 -4.835451562544699 -4.8377185159856175 -4.841528026484302 -4.844806288759231 -4.8454459274576465 -4.845795754189742 -4.846320094986507 -4.847068697131744 -4.848066784276803 -4.849672860581938 -4.851321823865215 -4.853347022638873 -4.855119719528419 -4.856274243522533 -4.857700421360584 -4.858095666786857 -4.8586419213954155 -4.859077633132507 -4.85967390571504 -4.860333957391395 -4.861149465121982 -4.8617225901136525 -4.862415651410279 -4.863478194806897 -4.865185114488629 -4.868049796010483 -4.872354417892671 -4.8764187640686565 -4.880906673166972 -4.888153618131161 -4.898978833368918 -4.903005386778687 -4.909122631058354 -4.9164345940449 -4.922181078892154 -4.927527025604396 -4.931066672257102 -4.934049453807845 -4.936146632312343 -4.938668161230324 -4.940116033653799 -4.940962723160346 -4.941418845960031 -4.941751561011318 -4.9422056768600955 -4.942422633291026 -4.942480819966595 -4.942571607886251 -4.942736113836059 -4.943043830817077 -4.943631615237256 -4.944750801521911 -4.946081516212291 -4.947863684365145 -4.950641241606981 -4.952591895241419 -4.953607258818546 -4.954080739728602 -4.954380742180535 -4.9547081002463065 -4.954933996850093 -4.955027057305384 -4.955170463497287 -4.955415893267039 -4.95581638287236 -4.956418308114437 -4.957158694151337 -4.9580104546450166 -4.958550009336832 -4.959040949713144 -4.959636176510685 -4.960162260714049 -4.960726998314394 -4.9615796610862235 -4.962801490949069 -4.964047005337166 -4.964868237480293 -4.966032867400827 -4.967733198160359 -4.970074491478715 -4.9709366536964295 -4.971424649483475 -4.971606558184808 -4.971682123914597 -4.971693011988735 -4.971695894187522 -4.971696998532567 -4.971697173735707 -4.971697201634323 -4.9716972053071 -4.971697205690354 -4.9716972057042215 9\n",
            "-0.587629654864435 -1.1847334071356561 -1.52819155569034 -1.8950650702779335 -2.329311050237955 -2.4602908026452255 -2.643938821781531 -2.9505933783389864 -3.0948174926018357 -3.3069550944154438 -3.5177486660693384 -3.781502347592551 -3.925283276158424 -3.9882171838825036 -4.091405159909448 -4.277912592861129 -4.471923425354447 -4.515848381919794 -4.5872862767240425 -4.707973179261262 -4.781519231915538 -4.8233621729324 -4.837446582779566 -4.857360926077835 -4.874150399373454 -4.882510895030175 -4.895102271325983 -4.900865915657299 -4.902375245526569 -4.903335030938213 -4.904314098132455 -4.905484578034861 -4.907005894685119 -4.908224159634908 -4.909000388459408 -4.909676138158695 -4.9106916013951 -4.912320263855177 -4.913529274618349 -4.915472886276107 -4.918652440294611 -4.923867306371696 -4.930153002529975 -4.931113544966096 -4.932680542205946 -4.934334460052216 -4.934813908387969 -4.935596542091661 -4.937059386665001 -4.939699088792509 -4.941692734041667 -4.94336853970648 -4.944329100486097 -4.945514006205992 -4.94640300541763 -4.9473613408969985 -4.948288104704225 -4.949714021822014 -4.952290444530211 -4.956738042368297 -4.960811830944747 -4.961438557663345 -4.9623394919956985 -4.9626952722866235 -4.963168975825242 -4.963413122413675 -4.963683338312209 -4.9641279618088845 -4.96484430768281 -4.9659493689505245 -4.967190699784762 -4.968590887399034 -4.9700709640051715 -4.971685490583833 -4.973783249968234 -4.974984613013163 -4.976914437320303 -4.979527563407292 -4.980124613774254 -4.981127852615265 -4.982704368331701 -4.984363826597447 -4.985298790487179 -4.98657484755724 -4.988302558704015 -4.989152645016271 -4.98970817983764 -4.990493393309094 -4.991051693428055 -4.991521192654247 -4.992031193272635 -4.992796509196894 -4.993339074386593 -4.993538839808659 -4.993701274525432 -4.993761426825211 -4.993843250864908 -4.993954421847222 -4.994015227220472 -4.994045054755221 -4.994082845142723 -4.994146674089501 -4.99425736772507 -4.994445938693975 -4.994728980790692 -4.9949103788180285 -4.994971460323209 -4.995056374363786 -4.995151285912732 -4.995244480987721 -4.99540550093382 -4.9956658062295904 -4.9958922751250325 -4.99597468986312 -4.996055778015486 -4.9961071997546815 -4.996113191258605 -4.996116191114211 -4.996117042560408 -4.996118044930974 -4.996119706499852 -4.996122426706984 -4.9961267652692545 -4.996133529251109 -4.996144135383392 -4.996161042250053 -4.99618513946907 -4.996199392049787 -4.996207688627542 -4.9962111376347025 -4.996211973613283 -4.996213437393364 -4.99621606265259 -4.99622078654818 -4.996229181660136 -4.996243667674038 -4.996267189216736 -4.996300694511464 -4.996331194830926 -4.996372200106471 -4.99640137764814 -4.996415815369629 -4.996422022686752 -4.996424904163885 -4.9964253706355475 -4.996425598966212 -4.996425648560619 -4.996425724479409 -4.996425843954907 -4.996426051596352 -4.996426430740045 -4.9964271292985085 -4.996428399662438 -4.996430623065376 -4.996434059758113 -4.996436927033519 -4.996438428251784 -4.996439356138515 -4.99643948255244 -4.996439521697137 -4.996439529737782 -4.996439531205747 -4.996439531732428 -4.996439531872453 -4.996439531909702 -4.9964395319503465 -4.996439531952928 -4.99643953195608 -4.996439531960377 -4.99643953196701 -4.996439531977162 -4.996439531991869 -4.996439532011022 -4.996439532035889 -4.996439532075026 -4.996439532148005 -4.996439532766992 -4.996439533489128 -4.996439534016373 -4.996439538110515 -4.996439544258906 -4.996439553380166 -4.99643956655024 -4.996439578982828 -4.996439585323433 -4.996439590309117 -4.996439592772139 -4.996439596265892 -4.9964396010690075 -4.996439607681566 -4.996439614375522 -4.996439618472978 -4.996439619961177 -4.996439621034127 -4.996439622179328 -4.996439623244857 -4.996439623629526 -4.996439623660742 -4.996439623686032 -4.996439623697663 10\n"
          ]
        },
        {
          "output_type": "execute_result",
          "data": {
            "text/plain": [
              "<matplotlib.legend.Legend at 0x7f7fa16306d0>"
            ]
          },
          "metadata": {},
          "execution_count": 14
        },
        {
          "output_type": "display_data",
          "data": {
            "text/plain": [
              "<Figure size 432x288 with 1 Axes>"
            ],
            "image/png": "[encoded data removed]"
          },
          "metadata": {
            "needs_background": "light"
          }
        }
      ],
      "source": [
        "import matplotlib.pylab as plt\n",
        "\n",
        "\n",
        "for nlayers in range(6,11,1):\n",
        "    num_params = 2*nlayers\n",
        "\n",
        "    back_trace = []\n",
        "    def print_avg(xk):\n",
        "        eva = evaluate_parameters(nqubits, edges, xk,nlayers)\n",
        "        back_trace.append(eva)\n",
        "        print(eva, end=' ')\n",
        "\n",
        "    opt_res = minimize(lambda x : evaluate_parameters(nqubits, edges, x, nlayers), \n",
        "                       np.random.random(num_params),\n",
        "                       callback=print_avg,)\n",
        "    print(nlayers)\n",
        "    plt.plot(back_trace,label=str(nlayers))\n",
        "# there exists a classical polynomial algorithm returning solutions within a factor of 0.878 of the optimal\n",
        "# we must at least beat that. https://fr.wikipedia.org/wiki/Coupe_maximum\n",
        "plt.axhline(0.878*best_value, color='b', label=\"classical apx ratio\")\n",
        "plt.axhline(best_value,color='r',label='optimal value')\n",
        "plt.legend()\n",
        "\n",
        "#8 layers seem to be enough"
      ],
      "id": "36f6e279"
    },
    {
      "cell_type": "markdown",
      "metadata": {
        "id": "e9dffce1"
      },
      "source": [
        "### Question 6: smart initialization"
      ],
      "id": "e9dffce1"
    },
    {
      "cell_type": "markdown",
      "source": [
        "$ H(\\frac{k}{p} T)\\frac{T}{p} = ((1-\\frac{k}{p}T \\frac{1}{T})\\sum_{k}{\\sigma _{x} ^{k}} + \\frac{k}{p}T \\frac{1}{T} H_c)\\frac{T}{p} = (1-\\frac{k}{p}) \\frac{T}{p}\\sum_{k}{\\sigma _{x} ^{k}} + \\frac{k}{p} \\frac{T}{p} H_c$\n",
        "<br/>\n",
        "We fix p = nlayers.\n",
        "<br/>\n",
        "$ \\theta _k = (1-\\frac{k}{p})\\frac{T}{p} $ and $ \\beta _k = \\frac {k}{p}\\frac{T}{p} $ with k going from 1 to p.\n",
        "\n",
        "One notices that the curves decrease faster. The optimal value for the number of parameter is reached more rapidly for the smart initialization.\n",
        "For small T it converges faster than for high values of T."
      ],
      "metadata": {
        "id": "0vo0fYpL8vdE"
      },
      "id": "0vo0fYpL8vdE"
    },
    {
      "cell_type": "code",
      "execution_count": 17,
      "metadata": {
        "id": "d1eb83de",
        "colab": {
          "base_uri": "https://localhost:8080/",
          "height": 404
        },
        "outputId": "e4def2bd-2e69-4d6a-cca9-c33465b97754"
      },
      "outputs": [
        {
          "output_type": "stream",
          "name": "stdout",
          "text": [
            "-8.101682124325715e-05 -1.5449260827383722 -2.4209419513789108 -2.4210028090708584 -2.5799624408825084 -2.857854041715631 -3.1289726846950012 -3.1884667219619067 -3.196461490111761 -3.197917602565196 -3.2005852027291217 -3.205404697485715 -3.213464905006102 -3.222874095708079 -3.2248660236779596 -3.226047235881934 -3.226069070337021 -3.2260696437063086 -3.226069647207668 -3.2260696472309895 3\n",
            "-5.899317738852772e-05 -2.1856829073475037 -2.1857380267009625 -2.3189825650529188 -2.5597560900048473 -2.781728768274743 -3.1060438610395615 -3.665181702804994 -4.151821749467713 -4.326435615711672 -4.4082167937285215 -4.446842389276301 -4.461331110212986 -4.46328357590295 -4.463780240476473 -4.463808036085563 -4.463828447821802 -4.463832372921013 -4.463832626764446 -4.4638326322676605 -4.463832632304969 4\n",
            "-5.239994542416415e-05 -2.43354926628051 -2.4336018829542687 -2.5647558516787896 -3.729288192542632 -3.7724066073399376 -3.8525174667667246 -3.9930539483389906 -4.12215472261747 -4.184239428226364 -4.270640481552694 -4.369938251232703 -4.505272042286928 -4.5493219636931785 -4.603958304710758 -4.631594850537465 -4.660782425153195 -4.673335313363755 -4.679795799895908 -4.68213556967676 -4.682495708629537 -4.6830684932439 -4.6836971371389655 -4.683979093781052 -4.684087390332476 -4.684106146344081 -4.6841185646480055 -4.684127926998401 -4.684144299774147 -4.6841746130464115 -4.684401426535011 -4.684637585356231 -4.686286510426279 -4.687781485821966 -4.6896800247391095 -4.690649519899924 -4.692191127517793 -4.693675752811252 -4.69554319273106 -4.698920499183531 -4.704380432988707 -4.707885169624756 -4.713713428433349 -4.721765972418463 -4.7234553985988 -4.725749656666872 -4.7264459232039195 -4.727481316820738 -4.728656752144965 -4.730603903185504 -4.7340257039437 -4.740006565321269 -4.749294544630573 -4.7532788252183575 -4.758170787169633 -4.763970037880225 -4.770470059900987 -4.772759955345726 -4.774914546268982 -4.775866231839371 -4.776536480051293 -4.776623292209063 -4.776639882046538 -4.776640435097752 -4.776640451899204 -4.776640452255196 -4.776640452260002 5\n",
            "-4.971622912544604e-05 -2.5425762592194783 -2.542633514073045 -3.125121411098279 -3.3972903667700933 -3.6811650579108064 -3.8652567588406197 -4.002250912386337 -4.155662597893472 -4.416900096122238 -4.577307830174818 -4.644154656063371 -4.656180255874572 -4.667747147861487 -4.6739013929858215 -4.682374868317534 -4.695892387162876 -4.704903525081687 -4.709369404774511 -4.715203546017758 -4.723130444542234 -4.72802977877257 -4.735305091779989 -4.743427297069303 -4.754073010439669 -4.771142852006704 -4.786495982982709 -4.790185669411849 -4.794480569654749 -4.796890126836575 -4.798040747292286 -4.800072299378455 -4.812882483908081 -4.826475937297072 -4.8436909195732625 -4.851486134270892 -4.860606149378979 -4.8639542338498165 -4.869005187055246 -4.8745256743513234 -4.877887799579274 -4.87991163761287 -4.880875955406583 -4.881874927313391 -4.882186729176876 -4.882299233245305 -4.882407237199502 -4.883433111262263 -4.884024254966837 -4.884835584650991 -4.886268412916549 -4.888753901683365 -4.892714098952994 -4.895003408196675 -4.899128634898141 -4.90621954517339 -4.912526913525326 -4.919147738170627 -4.922076698086623 -4.926683999008459 -4.932634156379357 -4.939317981307618 -4.942609853476451 -4.945447832204889 -4.946231044871845 -4.946350400787895 -4.946510980366466 -4.94659441451413 -4.9466262821725175 -4.946641083717051 -4.946646671347753 -4.946647723957239 -4.946647810877366 -4.946647816637438 -4.946647817422924 -4.946647817571606 -4.9466478175956965 6\n",
            "-4.8512203334766246e-05 -2.6097842251407894 -2.609840835055357 -3.4946942050745737 -3.634998733633122 -3.6682533975467004 -3.953689151268257 -4.19169850547581 -4.333515286674609 -4.413755146360816 -4.528883299078842 -4.650676276792815 -4.690012984493601 -4.7480657270617055 -4.769329870895776 -4.784187618720641 -4.805485363453064 -4.816087847566725 -4.834278057048456 -4.858994226218004 -4.873722338647841 -4.888503622917022 -4.89306944612912 -4.900572343469282 -4.909092669294739 -4.910455562597953 -4.912522144355997 -4.913979329594479 -4.915030001272535 -4.9161297689094 -4.917501242582494 -4.917932488931679 -4.9183835488908345 -4.918885905733526 -4.919280242678133 -4.9196822041997414 -4.9200992194825695 -4.920782698705399 -4.921745175274552 -4.922059790055391 -4.922543701087654 -4.923044922985215 -4.92337832726101 -4.923762557863269 -4.924254579109372 -4.924446161362773 -4.924784902911017 -4.925410820737486 -4.926466048565841 -4.927754201553041 -4.92822070479512 -4.928915104533503 -4.929857936218867 -4.930676168402196 -4.931290802619466 -4.93192164940485 -4.932156954793819 -4.932577320574371 -4.9333442560825596 -4.9346442965755015 -4.936142613111203 -4.936729201422875 -4.93709307798994 -4.937607902574266 -4.937943195222393 -4.9381609489142075 -4.9385050713492555 -4.938937019364224 -4.939156602712841 -4.939203514255025 -4.939286562104778 -4.9394222859010615 -4.939522872780577 -4.939631662029374 -4.939762752486776 -4.94000361012297 -4.940450484660106 -4.941169001751026 -4.942358615191197 -4.944479037545862 -4.947701428101576 -4.951139094732226 -4.953981389056136 -4.95626861589746 -4.959570507524879 -4.962515264504044 -4.964090406736211 -4.964691573159277 -4.964823624868105 -4.964965648334011 -4.96521442893614 -4.9656224724901445 -4.966195396742231 -4.966604054323066 -4.966977953054717 -4.967149623577151 -4.967205130615472 -4.9672271783819 -4.967259275447525 -4.967288113294585 -4.967309203141603 -4.96731890366738 -4.967322658991873 -4.967323323443376 -4.967323408863754 -4.96732342797856 -4.967323438062507 -4.967323442373556 -4.967323443417134 -4.967323443540736 7\n",
            "-4.797305653964079e-05 -2.6660100846220205 -2.666066854627247 -3.123735104375173 -3.4489324961376853 -3.660295601308057 -3.9732967622711195 -4.178519824991922 -4.286714281738525 -4.433348808178972 -4.581557358038532 -4.722555533330616 -4.734400576016423 -4.752646484122847 -4.780869304359734 -4.805196543605027 -4.828283978002871 -4.850894758358492 -4.880812371767951 -4.89826122166984 -4.903033371283052 -4.908261331662083 -4.911369762215385 -4.916311753809767 -4.923813120473345 -4.9330557683529594 -4.9360355297135365 -4.937333444384014 -4.938126579355482 -4.9395786649929985 -4.942157061247924 -4.946026515626401 -4.947733051625291 -4.950299861811984 -4.953821521936194 -4.954643667543492 -4.9550814956648574 -4.955402836974688 -4.955983281871138 -4.956984232349521 -4.95844509818243 -4.959681926245215 -4.961092928120976 -4.962290418688935 -4.963781999121441 -4.96462534086294 -4.965496414625589 -4.9666495605362675 -4.968411930379886 -4.969637195474832 -4.9715917221643995 -4.973886481592702 -4.974418527135503 -4.974645722475941 -4.974891619720233 -4.975221220879351 -4.975365703912957 -4.975425957779902 -4.975462980871508 -4.975520365038844 -4.975606515141465 -4.975728407676521 -4.975887295001125 -4.976115650346615 -4.976371001778741 -4.976575092038103 -4.976639857366961 -4.9767493635158 -4.976842069193865 -4.976958010549074 -4.97705438627186 -4.9771888833614 -4.977235396195023 -4.97730806496717 -4.977415717702899 -4.97748269870439 -4.977594782844443 -4.977767101303455 -4.9779116875079605 -4.977942666287541 -4.977978470644511 -4.977986798180888 -4.977988570910525 -4.977988916746265 -4.977989237380039 -4.977989827100525 -4.977990902752749 -4.97799280196078 -4.9779959225793196 -4.978000330349201 -4.978004235681201 -4.978008673469295 -4.978010018032998 -4.978010327727074 -4.978010533837867 -4.97801068837204 -4.978010820025182 -4.978010963022779 -4.978011167861513 -4.978011499465211 -4.978012057880112 -4.978013026524422 -4.978014724653341 -4.9780176861338274 -4.978022730933998 -4.978030934712633 -4.978044028565698 -4.97806156426534 -4.978079779045571 -4.978093397001823 -4.978107226613975 -4.9781149535849245 -4.978127974069172 -4.97814229474408 -4.97814890397811 -4.97816142627979 -4.978177685970996 -4.978187230727553 -4.978201732128976 -4.978220798262658 -4.97823948469364 -4.9782655797174185 -4.978284868535523 -4.9783079334594165 -4.978341573497764 -4.978363593144378 -4.978398106430857 -4.978449753243774 -4.978478735474153 -4.9785288748534295 -4.9786092736574785 -4.978740612290657 -4.978812353358688 -4.978931667394991 -4.9791126017393 -4.979331157353315 -4.979614208938295 -4.979970180745807 -4.980224387723054 -4.980321655320391 -4.9804458551623485 -4.980657383583128 -4.981008774982696 -4.98128861294274 -4.981703140682327 -4.981946101310342 -4.982297322907334 -4.982439210726724 -4.982492182622637 -4.982578164828081 -4.982705982175811 -4.982768846238265 -4.982859263405915 -4.982908305668481 -4.982940315458379 -4.982991114474763 -4.983080770434568 -4.983227596005559 -4.983363154276219 -4.983430944021094 -4.98347316222243 -4.983514455881732 -4.983520259812349 -4.983528920369397 -4.983537745973988 -4.983548224495282 -4.9835652361091265 -4.983593088231863 -4.983638508499498 -4.98371083774468 -4.98381789046442 -4.9839157540859045 -4.983951569097114 -4.9839541826610185 -4.983954284709338 -4.983954394699971 -4.983954412801808 -4.983954416758222 -4.983954417014663 -4.983954417054434 8\n"
          ]
        },
        {
          "output_type": "execute_result",
          "data": {
            "text/plain": [
              "<matplotlib.legend.Legend at 0x7f7fa0d26820>"
            ]
          },
          "metadata": {},
          "execution_count": 17
        },
        {
          "output_type": "display_data",
          "data": {
            "text/plain": [
              "<Figure size 432x288 with 1 Axes>"
            ],
            "image/png": "[encoded data removed]"
          },
          "metadata": {
            "needs_background": "light"
          }
        }
      ],
      "source": [
        "T = 0.01\n",
        "\n",
        "for nlayers in range(3,9,1):\n",
        "    num_params = 2*nlayers\n",
        "\n",
        "    back_trace = []\n",
        "    def print_avg(xk):\n",
        "        eva = evaluate_parameters(nqubits, edges, xk,nlayers)\n",
        "        back_trace.append(eva)\n",
        "        print(eva, end=' ')\n",
        "\n",
        "    # TODO implement parameter init\n",
        "    parameters_init = []\n",
        "    for i in range(nlayers):\n",
        "      beta = (i+1)/nlayers*T/nlayers\n",
        "      theta = (1-(i+1)/nlayers)*T/nlayers\n",
        "      parameters_init.append(theta)\n",
        "      parameters_init.append(beta)\n",
        "    # END TODO       \n",
        "    opt_res = minimize(lambda x : evaluate_parameters(nqubits, edges, x, nlayers), \n",
        "                       parameters_init, \n",
        "                       callback=print_avg,)\n",
        "    print(nlayers)\n",
        "    plt.plot(back_trace,label=str(nlayers))\n",
        "plt.axhline(0.878*best_value, color='b', label=\"classical apx ratio\")\n",
        "plt.axhline(best_value,color='r',label='optimal value')\n",
        "plt.legend()"
      ],
      "id": "d1eb83de"
    }
  ],
  "metadata": {
    "colab": {
      "provenance": []
    },
    "kernelspec": {
      "display_name": "Python 3 (ipykernel)",
      "language": "python",
      "name": "python3"
    },
    "language_info": {
      "codemirror_mode": {
        "name": "ipython",
        "version": 3
      },
      "file_extension": ".py",
      "mimetype": "text/x-python",
      "name": "python",
      "nbconvert_exporter": "python",
      "pygments_lexer": "ipython3",
      "version": "3.10.6"
    }
  },
  "nbformat": 4,
  "nbformat_minor": 5
}