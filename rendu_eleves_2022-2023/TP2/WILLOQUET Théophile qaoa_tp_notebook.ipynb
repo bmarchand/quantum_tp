{
  "cells": [
    {
      "cell_type": "markdown",
      "id": "bad09515",
      "metadata": {
        "id": "bad09515"
      },
      "source": [
        "## Part 1 implementing QAOA\n"
      ]
    },
    {
      "cell_type": "code",
      "source": [
        "!pip install myqlm\n",
        "\n",
        "!pip install wand\n",
        "\n",
        "!apt install imagemagick\n",
        "\n",
        "!pip install myqlm\n",
        "\n",
        "!python -m qat.magics.install"
      ],
      "metadata": {
        "colab": {
          "base_uri": "https://localhost:8080/"
        },
        "id": "nsjlBat7l7ks",
        "outputId": "15eeaac4-14ac-41fb-a828-de2ecf0a45ee"
      },
      "id": "nsjlBat7l7ks",
      "execution_count": 10,
      "outputs": [
        {
          "output_type": "stream",
          "name": "stdout",
          "text": [
            "Looking in indexes: https://pypi.org/simple, https://us-python.pkg.dev/colab-wheels/public/simple/\n",
            "Requirement already satisfied: myqlm in /usr/local/lib/python3.8/dist-packages (1.7.2)\n",
            "Requirement already satisfied: qat-core>=1.6.1 in /usr/local/lib/python3.8/dist-packages (from myqlm) (1.6.2)\n",
            "Requirement already satisfied: myqlm-contrib>=1.7.1 in /usr/local/lib/python3.8/dist-packages (from myqlm) (1.7.1)\n",
            "Requirement already satisfied: myqlm-simulators>=1.7.1 in /usr/local/lib/python3.8/dist-packages (from myqlm) (1.7.1)\n",
            "Requirement already satisfied: qat-devices>=0.2.0 in /usr/local/lib/python3.8/dist-packages (from myqlm) (0.2.0)\n",
            "Requirement already satisfied: myqlm-fermion>=1.0.0 in /usr/local/lib/python3.8/dist-packages (from myqlm) (1.0.0)\n",
            "Requirement already satisfied: myqlm-clinalg>=0.0.4 in /usr/local/lib/python3.8/dist-packages (from myqlm) (0.0.4)\n",
            "Requirement already satisfied: qat-comm>=1.4.2 in /usr/local/lib/python3.8/dist-packages (from myqlm) (1.4.2)\n",
            "Requirement already satisfied: qat-variational>=1.4.0 in /usr/local/lib/python3.8/dist-packages (from myqlm) (1.4.0)\n",
            "Requirement already satisfied: qat-lang>=2.2.1 in /usr/local/lib/python3.8/dist-packages (from myqlm) (2.2.1)\n",
            "Requirement already satisfied: networkx in /usr/local/lib/python3.8/dist-packages (from myqlm-contrib>=1.7.1->myqlm) (2.8.8)\n",
            "Requirement already satisfied: scipy in /usr/local/lib/python3.8/dist-packages (from myqlm-fermion>=1.0.0->myqlm) (1.7.3)\n",
            "Requirement already satisfied: bitstring in /usr/local/lib/python3.8/dist-packages (from myqlm-fermion>=1.0.0->myqlm) (4.0.1)\n",
            "Requirement already satisfied: numpy in /usr/local/lib/python3.8/dist-packages (from myqlm-fermion>=1.0.0->myqlm) (1.21.6)\n",
            "Requirement already satisfied: anytree in /usr/local/lib/python3.8/dist-packages (from myqlm-fermion>=1.0.0->myqlm) (2.8.0)\n",
            "Requirement already satisfied: pytest in /usr/local/lib/python3.8/dist-packages (from myqlm-fermion>=1.0.0->myqlm) (3.6.4)\n",
            "Requirement already satisfied: tqdm in /usr/local/lib/python3.8/dist-packages (from myqlm-fermion>=1.0.0->myqlm) (4.64.1)\n",
            "Requirement already satisfied: thrift==0.16.0 in /usr/local/lib/python3.8/dist-packages (from qat-comm>=1.4.2->myqlm) (0.16.0)\n",
            "Requirement already satisfied: six>=1.7.2 in /usr/local/lib/python3.8/dist-packages (from thrift==0.16.0->qat-comm>=1.4.2->myqlm) (1.15.0)\n",
            "Requirement already satisfied: Pillow in /usr/local/lib/python3.8/dist-packages (from qat-core>=1.6.1->myqlm) (7.1.2)\n",
            "Requirement already satisfied: matplotlib in /usr/local/lib/python3.8/dist-packages (from qat-core>=1.6.1->myqlm) (3.2.2)\n",
            "Requirement already satisfied: svgwrite in /usr/local/lib/python3.8/dist-packages (from qat-core>=1.6.1->myqlm) (1.4.3)\n",
            "Requirement already satisfied: dill in /usr/local/lib/python3.8/dist-packages (from qat-core>=1.6.1->myqlm) (0.3.6)\n",
            "Requirement already satisfied: wand in /usr/local/lib/python3.8/dist-packages (from qat-core>=1.6.1->myqlm) (0.6.11)\n",
            "Requirement already satisfied: ply==3.11 in /usr/local/lib/python3.8/dist-packages (from qat-lang>=2.2.1->myqlm) (3.11)\n",
            "Requirement already satisfied: pyDOE in /usr/local/lib/python3.8/dist-packages (from qat-variational>=1.4.0->myqlm) (0.3.8)\n",
            "Requirement already satisfied: pyparsing!=2.0.4,!=2.1.2,!=2.1.6,>=2.0.1 in /usr/local/lib/python3.8/dist-packages (from matplotlib->qat-core>=1.6.1->myqlm) (3.0.9)\n",
            "Requirement already satisfied: kiwisolver>=1.0.1 in /usr/local/lib/python3.8/dist-packages (from matplotlib->qat-core>=1.6.1->myqlm) (1.4.4)\n",
            "Requirement already satisfied: cycler>=0.10 in /usr/local/lib/python3.8/dist-packages (from matplotlib->qat-core>=1.6.1->myqlm) (0.11.0)\n",
            "Requirement already satisfied: python-dateutil>=2.1 in /usr/local/lib/python3.8/dist-packages (from matplotlib->qat-core>=1.6.1->myqlm) (2.8.2)\n",
            "Requirement already satisfied: atomicwrites>=1.0 in /usr/local/lib/python3.8/dist-packages (from pytest->myqlm-fermion>=1.0.0->myqlm) (1.4.1)\n",
            "Requirement already satisfied: setuptools in /usr/local/lib/python3.8/dist-packages (from pytest->myqlm-fermion>=1.0.0->myqlm) (57.4.0)\n",
            "Requirement already satisfied: pluggy<0.8,>=0.5 in /usr/local/lib/python3.8/dist-packages (from pytest->myqlm-fermion>=1.0.0->myqlm) (0.7.1)\n",
            "Requirement already satisfied: more-itertools>=4.0.0 in /usr/local/lib/python3.8/dist-packages (from pytest->myqlm-fermion>=1.0.0->myqlm) (9.0.0)\n",
            "Requirement already satisfied: py>=1.5.0 in /usr/local/lib/python3.8/dist-packages (from pytest->myqlm-fermion>=1.0.0->myqlm) (1.11.0)\n",
            "Requirement already satisfied: attrs>=17.4.0 in /usr/local/lib/python3.8/dist-packages (from pytest->myqlm-fermion>=1.0.0->myqlm) (22.2.0)\n",
            "Looking in indexes: https://pypi.org/simple, https://us-python.pkg.dev/colab-wheels/public/simple/\n",
            "Requirement already satisfied: wand in /usr/local/lib/python3.8/dist-packages (0.6.11)\n",
            "Reading package lists... Done\n",
            "Building dependency tree       \n",
            "Reading state information... Done\n",
            "imagemagick is already the newest version (8:6.9.7.4+dfsg-16ubuntu6.14).\n",
            "The following package was automatically installed and is no longer required:\n",
            "  libnvidia-common-460\n",
            "Use 'apt autoremove' to remove it.\n",
            "0 upgraded, 0 newly installed, 0 to remove and 20 not upgraded.\n",
            "Looking in indexes: https://pypi.org/simple, https://us-python.pkg.dev/colab-wheels/public/simple/\n",
            "Requirement already satisfied: myqlm in /usr/local/lib/python3.8/dist-packages (1.7.2)\n",
            "Requirement already satisfied: qat-devices>=0.2.0 in /usr/local/lib/python3.8/dist-packages (from myqlm) (0.2.0)\n",
            "Requirement already satisfied: qat-variational>=1.4.0 in /usr/local/lib/python3.8/dist-packages (from myqlm) (1.4.0)\n",
            "Requirement already satisfied: qat-comm>=1.4.2 in /usr/local/lib/python3.8/dist-packages (from myqlm) (1.4.2)\n",
            "Requirement already satisfied: myqlm-contrib>=1.7.1 in /usr/local/lib/python3.8/dist-packages (from myqlm) (1.7.1)\n",
            "Requirement already satisfied: myqlm-simulators>=1.7.1 in /usr/local/lib/python3.8/dist-packages (from myqlm) (1.7.1)\n",
            "Requirement already satisfied: myqlm-clinalg>=0.0.4 in /usr/local/lib/python3.8/dist-packages (from myqlm) (0.0.4)\n",
            "Requirement already satisfied: qat-core>=1.6.1 in /usr/local/lib/python3.8/dist-packages (from myqlm) (1.6.2)\n",
            "Requirement already satisfied: qat-lang>=2.2.1 in /usr/local/lib/python3.8/dist-packages (from myqlm) (2.2.1)\n",
            "Requirement already satisfied: myqlm-fermion>=1.0.0 in /usr/local/lib/python3.8/dist-packages (from myqlm) (1.0.0)\n",
            "Requirement already satisfied: networkx in /usr/local/lib/python3.8/dist-packages (from myqlm-contrib>=1.7.1->myqlm) (2.8.8)\n",
            "Requirement already satisfied: tqdm in /usr/local/lib/python3.8/dist-packages (from myqlm-fermion>=1.0.0->myqlm) (4.64.1)\n",
            "Requirement already satisfied: pytest in /usr/local/lib/python3.8/dist-packages (from myqlm-fermion>=1.0.0->myqlm) (3.6.4)\n",
            "Requirement already satisfied: bitstring in /usr/local/lib/python3.8/dist-packages (from myqlm-fermion>=1.0.0->myqlm) (4.0.1)\n",
            "Requirement already satisfied: numpy in /usr/local/lib/python3.8/dist-packages (from myqlm-fermion>=1.0.0->myqlm) (1.21.6)\n",
            "Requirement already satisfied: anytree in /usr/local/lib/python3.8/dist-packages (from myqlm-fermion>=1.0.0->myqlm) (2.8.0)\n",
            "Requirement already satisfied: scipy in /usr/local/lib/python3.8/dist-packages (from myqlm-fermion>=1.0.0->myqlm) (1.7.3)\n",
            "Requirement already satisfied: thrift==0.16.0 in /usr/local/lib/python3.8/dist-packages (from qat-comm>=1.4.2->myqlm) (0.16.0)\n",
            "Requirement already satisfied: six>=1.7.2 in /usr/local/lib/python3.8/dist-packages (from thrift==0.16.0->qat-comm>=1.4.2->myqlm) (1.15.0)\n",
            "Requirement already satisfied: Pillow in /usr/local/lib/python3.8/dist-packages (from qat-core>=1.6.1->myqlm) (7.1.2)\n",
            "Requirement already satisfied: svgwrite in /usr/local/lib/python3.8/dist-packages (from qat-core>=1.6.1->myqlm) (1.4.3)\n",
            "Requirement already satisfied: wand in /usr/local/lib/python3.8/dist-packages (from qat-core>=1.6.1->myqlm) (0.6.11)\n",
            "Requirement already satisfied: matplotlib in /usr/local/lib/python3.8/dist-packages (from qat-core>=1.6.1->myqlm) (3.2.2)\n",
            "Requirement already satisfied: dill in /usr/local/lib/python3.8/dist-packages (from qat-core>=1.6.1->myqlm) (0.3.6)\n",
            "Requirement already satisfied: ply==3.11 in /usr/local/lib/python3.8/dist-packages (from qat-lang>=2.2.1->myqlm) (3.11)\n",
            "Requirement already satisfied: pyDOE in /usr/local/lib/python3.8/dist-packages (from qat-variational>=1.4.0->myqlm) (0.3.8)\n",
            "Requirement already satisfied: kiwisolver>=1.0.1 in /usr/local/lib/python3.8/dist-packages (from matplotlib->qat-core>=1.6.1->myqlm) (1.4.4)\n",
            "Requirement already satisfied: cycler>=0.10 in /usr/local/lib/python3.8/dist-packages (from matplotlib->qat-core>=1.6.1->myqlm) (0.11.0)\n",
            "Requirement already satisfied: pyparsing!=2.0.4,!=2.1.2,!=2.1.6,>=2.0.1 in /usr/local/lib/python3.8/dist-packages (from matplotlib->qat-core>=1.6.1->myqlm) (3.0.9)\n",
            "Requirement already satisfied: python-dateutil>=2.1 in /usr/local/lib/python3.8/dist-packages (from matplotlib->qat-core>=1.6.1->myqlm) (2.8.2)\n",
            "Requirement already satisfied: py>=1.5.0 in /usr/local/lib/python3.8/dist-packages (from pytest->myqlm-fermion>=1.0.0->myqlm) (1.11.0)\n",
            "Requirement already satisfied: atomicwrites>=1.0 in /usr/local/lib/python3.8/dist-packages (from pytest->myqlm-fermion>=1.0.0->myqlm) (1.4.1)\n",
            "Requirement already satisfied: more-itertools>=4.0.0 in /usr/local/lib/python3.8/dist-packages (from pytest->myqlm-fermion>=1.0.0->myqlm) (9.0.0)\n",
            "Requirement already satisfied: pluggy<0.8,>=0.5 in /usr/local/lib/python3.8/dist-packages (from pytest->myqlm-fermion>=1.0.0->myqlm) (0.7.1)\n",
            "Requirement already satisfied: setuptools in /usr/local/lib/python3.8/dist-packages (from pytest->myqlm-fermion>=1.0.0->myqlm) (57.4.0)\n",
            "Requirement already satisfied: attrs>=17.4.0 in /usr/local/lib/python3.8/dist-packages (from pytest->myqlm-fermion>=1.0.0->myqlm) (22.2.0)\n",
            "Traceback (most recent call last):\n",
            "  File \"/usr/lib/python3.8/runpy.py\", line 194, in _run_module_as_main\n",
            "    return _run_code(code, main_globals, None,\n",
            "  File \"/usr/lib/python3.8/runpy.py\", line 87, in _run_code\n",
            "    exec(code, run_globals)\n",
            "  File \"/usr/local/lib/python3.8/dist-packages/qat/magics/install.py\", line 25, in <module>\n",
            "    install_qlm_magics()\n",
            "  File \"install.py\", line 72, in qat.core.magic.install.install_qlm_magics\n",
            "FileExistsError: Cannot install QLM magics bacause an IPython configuration is already defined. Please remove your IPython configuration to install QLM magics. The IPython config file is /root/.ipython/profile_default/startup/myqlm.py\n"
          ]
        }
      ]
    },
    {
      "cell_type": "markdown",
      "id": "536219fc",
      "metadata": {
        "id": "536219fc"
      },
      "source": [
        "### Question1 :\n",
        "Write down in the cell below the Hamiltonian whose ground state is the solution to MaxCUT on an input graph $G=(V,E)$:"
      ]
    },
    {
      "cell_type": "markdown",
      "id": "fd36b562",
      "metadata": {
        "id": "fd36b562"
      },
      "source": [
        "$$ H = \\sum_{i,j\\in E} \\sigma_i \\cdot \\sigma_j $$"
      ]
    },
    {
      "cell_type": "markdown",
      "id": "b045f8b7",
      "metadata": {
        "id": "b045f8b7"
      },
      "source": [
        "### Question 2:\n",
        "Complete the implementation below of a simple, brute-force enumeration of all states computing the optimal solution to MaxCUT for the graph represented by 'edges'"
      ]
    },
    {
      "cell_type": "code",
      "execution_count": 11,
      "id": "7bc976fa",
      "metadata": {
        "colab": {
          "base_uri": "https://localhost:8080/"
        },
        "id": "7bc976fa",
        "outputId": "cec85a51-b866-4650-9033-308b57e6b5b6"
      },
      "outputs": [
        {
          "output_type": "stream",
          "name": "stdout",
          "text": [
            "-12\n",
            "[1, -1, 1, -1, 1, -1, 1, -1, 1]\n"
          ]
        }
      ],
      "source": [
        "import numpy as np\n",
        "\n",
        "graph1 = [(0,1),(0,2),(1,3),(2,3)]\n",
        "graph2 = [(0,1),(1,2),(0,3),(1,4),(2,5),(3,6),(4,7),(5,8),(3,4),(4,5),(6,7),(7,8)]\n",
        "graph3 = [(0,1),(1,2),(0,3),(1,4),(2,5),(3,6),(4,7),(3,4),(4,5),(6,7)]\n",
        "graph4 = [(0,1),(1,2),(2,3),(4,5),(5,6),(6,7),(0,4),(1,5),(2,6),(3,7)]\n",
        "graph5 = [(0,1),(0,2),(1,3),(2,4),(3,5),(4,5),(1,4)]\n",
        "graph6 = [(0,1),(0,2),(1,3),(2,4),(1,4)]\n",
        "\n",
        "\n",
        "# choice of graph\n",
        "edges = graph2\n",
        "\n",
        "nqubits = max([max(list(v)) for v in edges])+1\n",
        "\n",
        "#nqubits = 5\n",
        "graph7 = [(i,(i+1)%nqubits) for i in range(nqubits)]+[(1,4)]\n",
        "\n",
        "\n",
        "# COMPUTATION OF OPT.\n",
        "best_value = len(edges)\n",
        "best_b = 0\n",
        "for x in range(2**nqubits):\n",
        "    b = np.binary_repr(x, width=nqubits)\n",
        "    b = [int(b[i]) for i in range(nqubits)]\n",
        "    # TODO: Complete the computation below:\n",
        "\n",
        "    for i in range(len(b)):\n",
        "      if b[i] == 0:\n",
        "        b[i] = -1\n",
        "\n",
        "    val = 0\n",
        "\n",
        "    for c in edges:\n",
        "      val += b[c[0]] * b[c[1]]\n",
        "      \n",
        "    \n",
        "    # On conserve la solution contenant le plus d'arêtes reliant deux noeuds de valeurs différentes\n",
        "\n",
        "    # END TODO\n",
        "    if val <= best_value:\n",
        "        best_value = val\n",
        "        best_b = b\n",
        "print(best_value)\n",
        "print(best_b)"
      ]
    },
    {
      "cell_type": "markdown",
      "id": "4bed0ead",
      "metadata": {
        "id": "4bed0ead"
      },
      "source": [
        "#### visualization of the graph"
      ]
    },
    {
      "cell_type": "code",
      "execution_count": 12,
      "id": "11a7d2a7",
      "metadata": {
        "colab": {
          "base_uri": "https://localhost:8080/",
          "height": 248
        },
        "id": "11a7d2a7",
        "outputId": "d94968d1-41c7-4623-ee2c-6ee1e94ce4c0"
      },
      "outputs": [
        {
          "output_type": "display_data",
          "data": {
            "text/plain": [
              "<Figure size 432x288 with 1 Axes>"
            ],
            "image/png": "[encoded data removed]"
          },
          "metadata": {}
        }
      ],
      "source": [
        "import networkx as nx\n",
        "G = nx.Graph()\n",
        "for i,j in edges:\n",
        "    G.add_edge(i,j)\n",
        "nx.draw_networkx(G)"
      ]
    },
    {
      "cell_type": "code",
      "execution_count": 13,
      "id": "1bcf8886",
      "metadata": {
        "id": "1bcf8886"
      },
      "outputs": [],
      "source": [
        "from qat.lang.AQASM import Program, H, CNOT, RX, QRoutine, RZ, X, Z"
      ]
    },
    {
      "cell_type": "code",
      "execution_count": 14,
      "id": "f125405c",
      "metadata": {
        "id": "f125405c"
      },
      "outputs": [],
      "source": [
        "def U_ZZ(theta):\n",
        "    \n",
        "    zz_r = QRoutine()\n",
        "    zz_r.apply(CNOT, 0, 1)\n",
        "    zz_r.apply(RZ(theta), 1) # difference of convention between implemented version and what we need.\n",
        "    zz_r.apply(CNOT, 0, 1)\n",
        "\n",
        "    return zz_r"
      ]
    },
    {
      "cell_type": "markdown",
      "id": "b87e91ed",
      "metadata": {
        "id": "b87e91ed"
      },
      "source": [
        "### Question 3"
      ]
    },
    {
      "cell_type": "code",
      "execution_count": 16,
      "id": "27954bb3",
      "metadata": {
        "id": "27954bb3"
      },
      "outputs": [],
      "source": [
        "def one_qaoa_layer(n_qubits, edges, theta, beta):\n",
        "\n",
        "    layer = QRoutine()\n",
        "    #TODO: implement one qaoa layer\n",
        "\n",
        "    for i in range(n_qubits):\n",
        "      layer.apply(RX(theta), i)\n",
        "    \n",
        "    for (j,k) in edges:\n",
        "      layer.apply(U_ZZ(beta), j, k)\n",
        "\n",
        "    \n",
        "\n",
        "    return layer"
      ]
    },
    {
      "cell_type": "markdown",
      "id": "bd0c36a5",
      "metadata": {
        "id": "bd0c36a5"
      },
      "source": [
        "### Question 4"
      ]
    },
    {
      "cell_type": "code",
      "execution_count": 19,
      "id": "655a9aaa",
      "metadata": {
        "colab": {
          "base_uri": "https://localhost:8080/",
          "height": 130
        },
        "id": "655a9aaa",
        "outputId": "13c035d7-50fc-4bbf-9253-90faf707e423"
      },
      "outputs": [
        {
          "output_type": "error",
          "ename": "IndentationError",
          "evalue": "ignored",
          "traceback": [
            "\u001b[0;36m  File \u001b[0;32m\"<ipython-input-19-e530a30c764d>\"\u001b[0;36m, line \u001b[0;32m30\u001b[0m\n\u001b[0;31m    return obs\u001b[0m\n\u001b[0m    ^\u001b[0m\n\u001b[0;31mIndentationError\u001b[0m\u001b[0;31m:\u001b[0m expected an indented block\n"
          ]
        }
      ],
      "source": [
        "from qat.qpus import get_default_qpu\n",
        "\n",
        "def evaluate_parameters(n_qubits, edges, parameters, n_layers):\n",
        "    \n",
        "    prog = Program()\n",
        "    qubits = prog.qalloc(n_qubits)\n",
        "    \n",
        "    # TODO: implement initialization+parameterized circuit\n",
        "\n",
        "    for l in range(len(parameters)//2):\n",
        "      for i in range(n_qubits):\n",
        "        prog.apply(H, q[i])\n",
        "      prog.apply(one_qaoa_layer(n_qubits, edges, parameters[2*l], parameters[2*l + 1]))\n",
        "    \n",
        "    # END TODO\n",
        "    circ = prog.to_circ()\n",
        "    \n",
        "    job = circ.to_job()\n",
        "    qpu = get_default_qpu()\n",
        "    \n",
        "    result = qpu.submit(job)\n",
        "    \n",
        "    # BEGIN TODO\n",
        "    obs = 0\n",
        "    for sample in result:\n",
        "        # this loop is over all 2**nqubits states.\n",
        "        # sample.state.bitstring contains the qubit values (nqubits 0 or 1)\n",
        "\n",
        "    # END TODO\n",
        "    return obs\n",
        "    \n",
        "        "
      ]
    },
    {
      "cell_type": "code",
      "execution_count": null,
      "id": "88963901",
      "metadata": {
        "id": "88963901"
      },
      "outputs": [],
      "source": [
        "import numpy as np\n",
        "np.random.random(3)"
      ]
    },
    {
      "cell_type": "code",
      "execution_count": null,
      "id": "42557843",
      "metadata": {
        "id": "42557843"
      },
      "outputs": [],
      "source": [
        "from scipy.optimize import minimize\n"
      ]
    },
    {
      "cell_type": "markdown",
      "id": "0846a6dd",
      "metadata": {
        "id": "0846a6dd"
      },
      "source": [
        "### Random initialisation"
      ]
    },
    {
      "cell_type": "markdown",
      "id": "f679d3e0",
      "metadata": {
        "id": "f679d3e0"
      },
      "source": [
        "### Question 5: \n",
        "réponse à la question:"
      ]
    },
    {
      "cell_type": "code",
      "execution_count": null,
      "id": "36f6e279",
      "metadata": {
        "id": "36f6e279"
      },
      "outputs": [],
      "source": [
        "import matplotlib.pylab as plt\n",
        "\n",
        "\n",
        "for nlayers in range(8,11,1):\n",
        "    num_params = 2*nlayers\n",
        "\n",
        "    back_trace = []\n",
        "    def print_avg(xk):\n",
        "        eva = evaluate_parameters(nqubits, edges, xk,nlayers)\n",
        "        back_trace.append(eva)\n",
        "        print(eva, end=' ')\n",
        "\n",
        "    opt_res = minimize(lambda x : evaluate_parameters(nqubits, edges, x, nlayers), \n",
        "                       np.random.random(num_params),\n",
        "                       callback=print_avg,)\n",
        "    plt.plot(back_trace,label=str(nlayers))\n",
        "# there exists a classical polynomial algorithm returning solutions within a factor of 0.878 of the optimal\n",
        "# we must at least beat that. https://fr.wikipedia.org/wiki/Coupe_maximum\n",
        "plt.axhline(0.878*best_value, color='b', label=\"classical apx ratio\")\n",
        "plt.axhline(best_value,color='r',label='optimal value')\n",
        "plt.legend()"
      ]
    },
    {
      "cell_type": "markdown",
      "id": "e9dffce1",
      "metadata": {
        "id": "e9dffce1"
      },
      "source": [
        "### Question 6: smart initialization"
      ]
    },
    {
      "cell_type": "code",
      "execution_count": null,
      "id": "d1eb83de",
      "metadata": {
        "id": "d1eb83de"
      },
      "outputs": [],
      "source": [
        "T = 1.\n",
        "\n",
        "for nlayers in range(3,6,1):\n",
        "    num_params = 2*nlayers\n",
        "\n",
        "    back_trace = []\n",
        "    def print_avg(xk):\n",
        "        eva = evaluate_parameters(nqubits, edges, xk,nlayers)\n",
        "        back_trace.append(eva)\n",
        "        print(eva, end=' ')\n",
        "\n",
        "    # TODO implement parameter init\n",
        "    parameters_init = []\n",
        "\n",
        "    # END TODO        \n",
        "    opt_res = minimize(lambda x : evaluate_parameters(nqubits, edges, x, nlayers), \n",
        "                       parameters_init, \n",
        "                       callback=print_avg,)\n",
        "plt.axhline(0.878*best_value, color='b', label=\"classical apx ratio\")\n",
        "plt.axhline(best_value,color='r',label='optimal value')\n",
        "plt.legend()"
      ]
    }
  ],
  "metadata": {
    "kernelspec": {
      "display_name": "Python 3 (ipykernel)",
      "language": "python",
      "name": "python3"
    },
    "language_info": {
      "codemirror_mode": {
        "name": "ipython",
        "version": 3
      },
      "file_extension": ".py",
      "mimetype": "text/x-python",
      "name": "python",
      "nbconvert_exporter": "python",
      "pygments_lexer": "ipython3",
      "version": "3.10.6"
    },
    "colab": {
      "provenance": []
    }
  },
  "nbformat": 4,
  "nbformat_minor": 5
}