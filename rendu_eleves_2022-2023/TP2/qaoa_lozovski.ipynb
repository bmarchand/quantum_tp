{
  "cells": [
    {
      "cell_type": "markdown",
      "id": "bad09515",
      "metadata": {
        "id": "bad09515"
      },
      "source": [
        "## Part 1 implementing QAOA\n"
      ]
    },
    {
      "cell_type": "markdown",
      "id": "536219fc",
      "metadata": {
        "id": "536219fc"
      },
      "source": [
        "### Question1 :\n",
        "Write down in the cell below the Hamiltonian whose ground state is the solution to MaxCUT on an input graph $G=(V,E)$:"
      ]
    },
    {
      "cell_type": "markdown",
      "id": "fd36b562",
      "metadata": {
        "id": "fd36b562"
      },
      "source": [
        "$$ H = \\sum_{i,j\\in E} \\sigma_i \\cdot \\sigma_j $$"
      ]
    },
    {
      "cell_type": "markdown",
      "id": "b045f8b7",
      "metadata": {
        "id": "b045f8b7"
      },
      "source": [
        "### Question 2:\n",
        "Complete the implementation below of a simple, brute-force enumeration of all states computing the optimal solution to MaxCUT for the graph represented by 'edges'"
      ]
    },
    {
      "cell_type": "code",
      "execution_count": 6,
      "id": "7bc976fa",
      "metadata": {
        "colab": {
          "base_uri": "https://localhost:8080/"
        },
        "id": "7bc976fa",
        "outputId": "d401c795-48bb-4e17-814a-27e0712c352f"
      },
      "outputs": [
        {
          "output_type": "stream",
          "name": "stdout",
          "text": [
            "-5\n",
            "[1, 0, 0, 1, 1]\n"
          ]
        }
      ],
      "source": [
        "\n",
        "import numpy as np\n",
        "from qat.lang.AQASM import Program, H,  AbstractGate, QRoutine, CNOT, RZ, S\n",
        "from scipy import linalg # for linalg.expm, the matrix exponential.\n",
        "from qat.qpus import get_default_qpu # numerical simulator for small quantum circuits.\n",
        "import matplotlib.pylab as plt\n",
        "\n",
        "graph1 = [(0,1),(0,2),(1,3),(2,3)]\n",
        "graph2 = [(0,1),(1,2),(0,3),(1,4),(2,5),(3,6),(4,7),(5,8),(3,4),(4,5),(6,7),(7,8)]\n",
        "graph3 = [(0,1),(1,2),(0,3),(1,4),(2,5),(3,6),(4,7),(3,4),(4,5),(6,7)]\n",
        "graph4 = [(0,1),(1,2),(2,3),(4,5),(5,6),(6,7),(0,4),(1,5),(2,6),(3,7)]\n",
        "graph5 = [(0,1),(0,2),(1,3),(2,4),(3,5),(4,5),(1,4)]\n",
        "graph6 = [(0,1),(0,2),(1,3),(2,4),(1,4)]\n",
        "\n",
        "\n",
        "# choice of graph\n",
        "edges = graph6\n",
        "\n",
        "nqubits = max([max(list(v)) for v in edges])+1\n",
        "\n",
        "#nqubits = 5\n",
        "graph7 = [(i,(i+1)%nqubits) for i in range(nqubits)]+[(1,4)]\n",
        "\n",
        "\n",
        "# COMPUTATION OF OPT.\n",
        "best_value = len(edges)\n",
        "best_b = 0\n",
        "for x in range(2**nqubits):\n",
        "    b = np.binary_repr(x, width=nqubits)\n",
        "    b = [int(b[i]) for i in range(nqubits)]\n",
        "    # TODO: Complete the computation below:\n",
        "    val=0\n",
        "    for (i,j) in edges:\n",
        "       if b[i]==b[j]:\n",
        "         val+=1\n",
        "       else:\n",
        "         val=val-1\n",
        "    # END TODO\n",
        "    if val <= best_value:\n",
        "        best_value = val\n",
        "        best_b = b\n",
        "print(best_value)\n",
        "print(best_b)"
      ]
    },
    {
      "cell_type": "markdown",
      "id": "4bed0ead",
      "metadata": {
        "id": "4bed0ead"
      },
      "source": [
        "#### visualization of the graph"
      ]
    },
    {
      "cell_type": "code",
      "execution_count": 2,
      "id": "11a7d2a7",
      "metadata": {
        "colab": {
          "base_uri": "https://localhost:8080/",
          "height": 248
        },
        "id": "11a7d2a7",
        "outputId": "46232309-594e-4e40-99cc-aa3e7c1c6b4e"
      },
      "outputs": [
        {
          "output_type": "display_data",
          "data": {
            "text/plain": [
              "<Figure size 432x288 with 1 Axes>"
            ],
            "image/png": "[encoded data removed]"
          },
          "metadata": {}
        }
      ],
      "source": [
        "import networkx as nx\n",
        "G = nx.Graph()\n",
        "for i,j in edges:\n",
        "    G.add_edge(i,j)\n",
        "nx.draw_networkx(G)"
      ]
    },
    {
      "cell_type": "code",
      "execution_count": 4,
      "id": "1bcf8886",
      "metadata": {
        "colab": {
          "base_uri": "https://localhost:8080/"
        },
        "id": "1bcf8886",
        "outputId": "b0eb4b43-40bf-4a19-d6c4-f431214d90de"
      },
      "outputs": [
        {
          "output_type": "stream",
          "name": "stdout",
          "text": [
            "Looking in indexes: https://pypi.org/simple, https://us-python.pkg.dev/colab-wheels/public/simple/\n",
            "Requirement already satisfied: wand in /usr/local/lib/python3.8/dist-packages (0.6.11)\n",
            "Reading package lists... Done\n",
            "Building dependency tree       \n",
            "Reading state information... Done\n",
            "imagemagick is already the newest version (8:6.9.7.4+dfsg-16ubuntu6.14).\n",
            "The following package was automatically installed and is no longer required:\n",
            "  libnvidia-common-460\n",
            "Use 'apt autoremove' to remove it.\n",
            "0 upgraded, 0 newly installed, 0 to remove and 20 not upgraded.\n",
            "Looking in indexes: https://pypi.org/simple, https://us-python.pkg.dev/colab-wheels/public/simple/\n",
            "Requirement already satisfied: myqlm in /usr/local/lib/python3.8/dist-packages (1.7.2)\n",
            "Requirement already satisfied: qat-core>=1.6.1 in /usr/local/lib/python3.8/dist-packages (from myqlm) (1.6.2)\n",
            "Requirement already satisfied: myqlm-clinalg>=0.0.4 in /usr/local/lib/python3.8/dist-packages (from myqlm) (0.0.4)\n",
            "Requirement already satisfied: qat-lang>=2.2.1 in /usr/local/lib/python3.8/dist-packages (from myqlm) (2.2.1)\n",
            "Requirement already satisfied: qat-variational>=1.4.0 in /usr/local/lib/python3.8/dist-packages (from myqlm) (1.4.0)\n",
            "Requirement already satisfied: qat-devices>=0.2.0 in /usr/local/lib/python3.8/dist-packages (from myqlm) (0.2.0)\n",
            "Requirement already satisfied: qat-comm>=1.4.2 in /usr/local/lib/python3.8/dist-packages (from myqlm) (1.4.2)\n",
            "Requirement already satisfied: myqlm-simulators>=1.7.1 in /usr/local/lib/python3.8/dist-packages (from myqlm) (1.7.1)\n",
            "Requirement already satisfied: myqlm-contrib>=1.7.1 in /usr/local/lib/python3.8/dist-packages (from myqlm) (1.7.1)\n",
            "Requirement already satisfied: myqlm-fermion>=1.0.0 in /usr/local/lib/python3.8/dist-packages (from myqlm) (1.0.0)\n",
            "Requirement already satisfied: networkx in /usr/local/lib/python3.8/dist-packages (from myqlm-contrib>=1.7.1->myqlm) (2.8.8)\n",
            "Requirement already satisfied: scipy in /usr/local/lib/python3.8/dist-packages (from myqlm-fermion>=1.0.0->myqlm) (1.7.3)\n",
            "Requirement already satisfied: numpy in /usr/local/lib/python3.8/dist-packages (from myqlm-fermion>=1.0.0->myqlm) (1.21.6)\n",
            "Requirement already satisfied: anytree in /usr/local/lib/python3.8/dist-packages (from myqlm-fermion>=1.0.0->myqlm) (2.8.0)\n",
            "Requirement already satisfied: tqdm in /usr/local/lib/python3.8/dist-packages (from myqlm-fermion>=1.0.0->myqlm) (4.64.1)\n",
            "Requirement already satisfied: bitstring in /usr/local/lib/python3.8/dist-packages (from myqlm-fermion>=1.0.0->myqlm) (4.0.1)\n",
            "Requirement already satisfied: pytest in /usr/local/lib/python3.8/dist-packages (from myqlm-fermion>=1.0.0->myqlm) (3.6.4)\n",
            "Requirement already satisfied: thrift==0.16.0 in /usr/local/lib/python3.8/dist-packages (from qat-comm>=1.4.2->myqlm) (0.16.0)\n",
            "Requirement already satisfied: six>=1.7.2 in /usr/local/lib/python3.8/dist-packages (from thrift==0.16.0->qat-comm>=1.4.2->myqlm) (1.15.0)\n",
            "Requirement already satisfied: Pillow in /usr/local/lib/python3.8/dist-packages (from qat-core>=1.6.1->myqlm) (7.1.2)\n",
            "Requirement already satisfied: svgwrite in /usr/local/lib/python3.8/dist-packages (from qat-core>=1.6.1->myqlm) (1.4.3)\n",
            "Requirement already satisfied: wand in /usr/local/lib/python3.8/dist-packages (from qat-core>=1.6.1->myqlm) (0.6.11)\n",
            "Requirement already satisfied: matplotlib in /usr/local/lib/python3.8/dist-packages (from qat-core>=1.6.1->myqlm) (3.2.2)\n",
            "Requirement already satisfied: dill in /usr/local/lib/python3.8/dist-packages (from qat-core>=1.6.1->myqlm) (0.3.6)\n",
            "Requirement already satisfied: ply==3.11 in /usr/local/lib/python3.8/dist-packages (from qat-lang>=2.2.1->myqlm) (3.11)\n",
            "Requirement already satisfied: pyDOE in /usr/local/lib/python3.8/dist-packages (from qat-variational>=1.4.0->myqlm) (0.3.8)\n",
            "Requirement already satisfied: pyparsing!=2.0.4,!=2.1.2,!=2.1.6,>=2.0.1 in /usr/local/lib/python3.8/dist-packages (from matplotlib->qat-core>=1.6.1->myqlm) (3.0.9)\n",
            "Requirement already satisfied: kiwisolver>=1.0.1 in /usr/local/lib/python3.8/dist-packages (from matplotlib->qat-core>=1.6.1->myqlm) (1.4.4)\n",
            "Requirement already satisfied: cycler>=0.10 in /usr/local/lib/python3.8/dist-packages (from matplotlib->qat-core>=1.6.1->myqlm) (0.11.0)\n",
            "Requirement already satisfied: python-dateutil>=2.1 in /usr/local/lib/python3.8/dist-packages (from matplotlib->qat-core>=1.6.1->myqlm) (2.8.2)\n",
            "Requirement already satisfied: py>=1.5.0 in /usr/local/lib/python3.8/dist-packages (from pytest->myqlm-fermion>=1.0.0->myqlm) (1.11.0)\n",
            "Requirement already satisfied: pluggy<0.8,>=0.5 in /usr/local/lib/python3.8/dist-packages (from pytest->myqlm-fermion>=1.0.0->myqlm) (0.7.1)\n",
            "Requirement already satisfied: setuptools in /usr/local/lib/python3.8/dist-packages (from pytest->myqlm-fermion>=1.0.0->myqlm) (57.4.0)\n",
            "Requirement already satisfied: attrs>=17.4.0 in /usr/local/lib/python3.8/dist-packages (from pytest->myqlm-fermion>=1.0.0->myqlm) (22.2.0)\n",
            "Requirement already satisfied: atomicwrites>=1.0 in /usr/local/lib/python3.8/dist-packages (from pytest->myqlm-fermion>=1.0.0->myqlm) (1.4.1)\n",
            "Requirement already satisfied: more-itertools>=4.0.0 in /usr/local/lib/python3.8/dist-packages (from pytest->myqlm-fermion>=1.0.0->myqlm) (9.0.0)\n",
            "Traceback (most recent call last):\n",
            "  File \"/usr/lib/python3.8/runpy.py\", line 194, in _run_module_as_main\n",
            "    return _run_code(code, main_globals, None,\n",
            "  File \"/usr/lib/python3.8/runpy.py\", line 87, in _run_code\n",
            "    exec(code, run_globals)\n",
            "  File \"/usr/local/lib/python3.8/dist-packages/qat/magics/install.py\", line 25, in <module>\n",
            "    install_qlm_magics()\n",
            "  File \"install.py\", line 72, in qat.core.magic.install.install_qlm_magics\n",
            "FileExistsError: Cannot install QLM magics bacause an IPython configuration is already defined. Please remove your IPython configuration to install QLM magics. The IPython config file is /root/.ipython/profile_default/startup/myqlm.py\n"
          ]
        }
      ],
      "source": [
        "\n",
        "import numpy as np\n",
        "from qat.lang.AQASM import Program, H, CNOT, RX, QRoutine, RZ, X, Z"
      ]
    },
    {
      "cell_type": "code",
      "execution_count": 5,
      "id": "f125405c",
      "metadata": {
        "id": "f125405c"
      },
      "outputs": [],
      "source": [
        "def U_ZZ(theta):\n",
        "    \n",
        "    zz_r = QRoutine()\n",
        "    zz_r.apply(CNOT, 0, 1)\n",
        "    zz_r.apply(RZ(theta), 1) # difference of convention between implemented version and what we need.\n",
        "    zz_r.apply(CNOT, 0, 1)\n",
        "\n",
        "    return zz_r"
      ]
    },
    {
      "cell_type": "markdown",
      "id": "b87e91ed",
      "metadata": {
        "id": "b87e91ed"
      },
      "source": [
        "### Question 3"
      ]
    },
    {
      "cell_type": "code",
      "execution_count": 19,
      "id": "27954bb3",
      "metadata": {
        "id": "27954bb3"
      },
      "outputs": [],
      "source": [
        "def U_ZZ(theta):\n",
        "    \n",
        "    zz_r = QRoutine()\n",
        "    zz_r.apply(CNOT, 0, 1)\n",
        "    zz_r.apply(RZ(theta), 1) # difference of convention between implemented version and what we need.\n",
        "    zz_r.apply(CNOT, 0, 1)\n",
        "\n",
        "    return zz_r\n",
        "    \n",
        "def one_qaoa_layer(n_qubits, edges, theta, beta):\n",
        "    from qat.lang.AQASM import Program, H, CNOT, RX, QRoutine, RZ, X, Z\n",
        "    layer = QRoutine()\n",
        "    #TODO: implement one qaoa layer\n",
        "    for i in range(n_qubits):\n",
        "      layer.apply(RX(theta), i)\n",
        "    for q in edges:\n",
        "      layer.apply(U_ZZ(beta), q)\n",
        "        \n",
        "    return layer"
      ]
    },
    {
      "cell_type": "markdown",
      "id": "bd0c36a5",
      "metadata": {
        "id": "bd0c36a5"
      },
      "source": [
        "### Question 4"
      ]
    },
    {
      "cell_type": "code",
      "execution_count": 22,
      "id": "655a9aaa",
      "metadata": {
        "id": "655a9aaa"
      },
      "outputs": [],
      "source": [
        "\n",
        "import numpy as np\n",
        "from qat.lang.AQASM import Program, H,  AbstractGate, QRoutine, CNOT, RZ, S\n",
        "from qat.qpus import get_default_qpu\n",
        "\n",
        "def evaluate_parameters(n_qubits, edges, parameters, n_layers):\n",
        "    \n",
        "    prog = Program()\n",
        "    qubits = prog.qalloc(n_qubits)\n",
        "    \n",
        "    # TODO: implement initialization+parameterized circuit\n",
        "\n",
        "    for i in range(0, n_qubits):\n",
        "        prog.apply(H, qubits[i])\n",
        "\n",
        "    for p in range(n_layers):\n",
        "        prog.apply(one_qaoa_layer(n_qubits, edges, parameters[2*p], parameters[2*p+1]),qubits)\n",
        "\n",
        "\n",
        "      # END TODO\n",
        "    circ = prog.to_circ()\n",
        "    \n",
        "    job = circ.to_job()\n",
        "    qpu = get_default_qpu()\n",
        "    \n",
        "    result = qpu.submit(job)\n",
        "    \n",
        "    # BEGIN TODO\n",
        "    obs = 0\n",
        "    for sample in result:\n",
        "        # this loop is over all 2**nqubits states.\n",
        "        # sample.state.bitstring contains the qubit values (nqubits 0 or 1)\n",
        "        bit=sample.state.bitstring\n",
        "        val=0\n",
        "        for i,j in edges:\n",
        "          if bit[i]==bit[j]:\n",
        "            val+=1\n",
        "          else:\n",
        "            val+=-1\n",
        "        val=val*sample.probability\n",
        "        obs+=val\n",
        "\n",
        "    # END TODO\n",
        "    return obs\n",
        "    \n",
        "        "
      ]
    },
    {
      "cell_type": "code",
      "execution_count": 16,
      "id": "88963901",
      "metadata": {
        "colab": {
          "base_uri": "https://localhost:8080/"
        },
        "id": "88963901",
        "outputId": "20664687-310e-4e22-80a1-35b1e86c4d28"
      },
      "outputs": [
        {
          "output_type": "execute_result",
          "data": {
            "text/plain": [
              "array([0.93373825, 0.6642395 , 0.85179852])"
            ]
          },
          "metadata": {},
          "execution_count": 16
        }
      ],
      "source": [
        "import numpy as np\n",
        "np.random.random(3)"
      ]
    },
    {
      "cell_type": "code",
      "execution_count": 17,
      "id": "42557843",
      "metadata": {
        "id": "42557843"
      },
      "outputs": [],
      "source": [
        "from scipy.optimize import minimize\n"
      ]
    },
    {
      "cell_type": "markdown",
      "id": "0846a6dd",
      "metadata": {
        "id": "0846a6dd"
      },
      "source": [
        "### Random initialisation"
      ]
    },
    {
      "cell_type": "markdown",
      "id": "f679d3e0",
      "metadata": {
        "id": "f679d3e0"
      },
      "source": [
        "### Question 5: \n",
        "réponse à la question: 9"
      ]
    },
    {
      "cell_type": "code",
      "execution_count": 23,
      "id": "36f6e279",
      "metadata": {
        "colab": {
          "base_uri": "https://localhost:8080/",
          "height": 320
        },
        "id": "36f6e279",
        "outputId": "8ca3cce0-6ee4-4547-ea28-34a7a54109d5"
      },
      "outputs": [
        {
          "output_type": "stream",
          "name": "stdout",
          "text": [
            "-3.30897806902614 -3.7329572407640206 -3.880906185203035 -3.946923228806202 -4.034352978933196 -4.15732702191293 -4.296733768781471 -4.385181466142216 -4.480308687624606 -4.536885178183307 -4.584128660488891 -4.628876732469006 -4.67492063719086 -4.685398918592755 -4.694320340769463 -4.698018557690518 -4.701569555373599 -4.70322097867343 -4.704510157904352 -4.705560032485587 -4.706384449541957 -4.707428138193335 -4.708956172258544 -4.710749331189605 -4.711569086170669 -4.711963155045709 -4.712230473165283 -4.712251369721414 -4.712290875115574 -4.712365448886516 -4.712502052393168 -4.712736787447019 -4.713080792057967 -4.713298015362462 -4.713427268608658 -4.713530645242701 -4.713672006613707 -4.713875170747031 -4.714047625235652 -4.714123625401579 -4.714185107876872 -4.714200087726265 -4.71422584874716 -4.714267559866071 -4.7143250840932405 -4.714373613897721 -4.714447037321139 -4.714510004946557 -4.71453235688203 -4.714556607804046 -4.714596483087895 -4.714657501721798 -4.714699437114939 -4.714707891666529 -4.714716797250176 -4.71472410986344 -4.714726226929535 -4.714726539141992 -4.714726627025561 -4.7147266791188835 -4.714726708984391 -4.714726759596058 -4.714726836145861 -4.71472691400947 -4.714727030904099 -4.714727237582048 -4.714727611753981 -4.714728280241854 -4.714729398096111 -4.714730726240428 -4.714731306627057 -4.714731687199495 -4.714731726700738 -4.714731766065802 -4.714731816450835 -4.714731903194736 -4.714732053559621 -4.7147322996919225 -4.7147326050515765 -4.714732715920806 -4.714732770761261 -4.714732775149304 -4.714732775371046 -4.714732775376991 1.2924503680256463 0.04169015380800652 -1.9819800425022096 -2.110690643266602 -2.2215386625336557 -2.424444210470823 -2.817727601726146 -3.478524140903989 -3.897031690259578 -3.990240192479843 -4.126479580624484 -4.277727170933257 -4.404569506749151 -4.4776045190280955 -4.59246344547291 -4.7524144824151175 -4.799641155422521 -4.844975884444748 -4.850027008275476 -4.859266685848941 -4.874782645732197 -4.888855450357257 -4.8903418840850295 -4.892308140772933 -4.895179415412242 -4.899022509920657 -4.905461014170618 -4.915996073766361 -4.9249494169372054 -4.92552722673042 -4.926620169959151 -4.928589293857724 -4.931239259894715 -4.931866699010484 -4.932623631515362 -4.933475165658098 -4.934983116653803 -4.937562015297858 -4.9409497129529285 -4.942072314929198 -4.942511989804434 -4.943286349259897 -4.944615684082227 -4.946727557168488 -4.949118237748445 -4.950769566160586 -4.952410136108174 -4.953852054498801 -4.955762659695204 -4.957567464296075 -4.959217696773444 -4.960842037790003 -4.961845312123581 -4.963100260328319 -4.964752486531655 -4.965467917925586 -4.966727406879314 -4.967613251975332 -4.968467848510778 -4.969070016079417 -4.970071289988722 -4.971545826475697 -4.972443053824939 -4.973086792613834 -4.973792232493506 -4.974532013370587 -4.9756286262768175 -4.976210583577791 -4.97684732357567 -4.977406078722543 -4.977766767194595 -4.977947570049714 -4.978187375522653 -4.978377738145777 -4.97867494163427 -4.979164922750709 -4.979895419309686 -4.980583456291691 -4.981090215491514 -4.981836744910023 -4.982583103227249 -4.9834048456598845 -4.983757427911396 -4.984167878700049 -4.984323758942483 -4.984411144954993 -4.984482516574423 -4.984516156478959 -4.984529750153331 -4.984537728711155 -4.984544331463111 -4.984555972872177 -4.984577047919982 -4.984615240535878 -4.9846837183699915 -4.984802747246417 -4.984985959221084 -4.985208682569536 -4.985312296231825 -4.98549719503929 -4.98577863775248 -4.985972860581819 -4.986040411682563 -4.986079312747491 -4.9861149330751635 -4.98613927933496 -4.98614914656316 -4.986152026312114 -4.98615627855095 -4.986163594788507 -4.986176524774008 -4.986199729260046 -4.986241490377856 -4.9863158568335315 -4.986442993743375 -4.986618587186967 -4.98679526589643 -4.986975480116293 -4.987161459174755 -4.9873242773686 -4.987383403725412 -4.987440348278974 -4.987465058066618 -4.987479897156872 -4.987491855457097 -4.987502918689275 -4.9875144173576444 -4.987522087396713 -4.987533772426028 -4.9875480878484195 -4.987554047745765 -4.987555496243549 -4.987556036279353 -4.987556280257473 -4.987556711737547 -4.987557459886979 -4.987558707531015 -4.987560675703753 -4.987563612321857 -4.987567298924204 -4.987571492120104 -4.987573124669314 -4.98757346574234 -4.9875738528419955 -4.987574501884202 -4.987575593636203 -4.987577303494146 -4.987579136615994 -4.98757980099389 -4.987579970187249 -4.987579989154218 -4.987579991409899 -4.987579991622446 -4.987579991655479 -1.4260280351378074 -2.569345449602246 -3.1458233026513693 -3.3760027361150517 -3.74305206510657 -4.120269183529367 -4.598854952920554 -4.754823796378155 -4.798579291522367 -4.826776460508014 -4.836669996355207 -4.853724376231046 -4.882172129841276 -4.913902745276696 -4.9324062282347745 -4.9556738720182345 -4.96863583663554 -4.971457419188642 -4.9754370454275145 -4.978483167242349 -4.980029535200374 -4.980538265707431 -4.9813324154772 -4.982619630346962 -4.984078837495128 -4.985438821728872 -4.987689200369812 -4.989323526300745 -4.991317506156061 -4.992845649733621 -4.9938140193147715 -4.995017738100257 -4.996181600247467 -4.997414971206821 -4.997620537835353 -4.997801894819071 -4.997910620009495 -4.998030881633409 -4.998085125487454 -4.998103546243112 -4.998111962179605 -4.9981172891665 -4.998121276670494 -4.998125205819438 -4.998130332200476 -4.998138433992295 -4.998150834611632 -4.998165181753379 -4.9981748340584184 -4.99817934891178 -4.998181165043129 -4.99818394878085 -4.998188304786395 -4.998194154016454 -4.998197406972952 -4.99819860171826 -4.9981991538332 -4.998199934276321 -4.998201385863696 -4.99820411965549 -4.998209247373541 -4.998218698802934 -4.998235437621362 -4.9982623972877045 -4.998296923727864 -4.998322503888828 -4.99836344829355 -4.998432426486618 -4.998546578768905 -4.998671786521212 -4.998794267162851 -4.998889955440647 -4.998934537797147 -4.9989949668364435 -4.999088907338683 -4.999194812098589 -4.999222362568365 -4.999271851938815 -4.999322329028157 -4.99933644760944 -4.999342409855283 -4.999351951076018 -4.999366457946088 -4.999387731084444 -4.99942213476111 -4.999474687249486 -4.999541438465015 -4.999574630324215 -4.999581007508685 -4.999592375483264 -4.999611038578955 -4.9996322022673185 -4.999639118283321 -4.999649457317391 -4.999657096185727 -4.999661873569782 -4.999669368677285 -4.999679928927935 -4.999690359971752 -4.999701929322159 -4.999712215587192 -4.999722359544021 -4.999729526966757 -4.999732373102924 -4.999732976061604 -4.999733465150018 -4.999733793264306 -4.999733937026672 -4.999734016944045 -4.9997341256025996 -4.999734305957365 -4.999734619926446 -4.999735168698663 -4.999736121090578 -4.9997377375749075 -4.999740289132023 -4.999743865868593 -4.999750072892257 -4.999760728711478 -4.999775672899775 -4.999787218104665 -4.9997913181142986 -4.999796158668015 -4.999798493450526 -4.999800811627885 -4.99980235923872 -4.999803225865264 -4.9998037995066635 -4.999804522682707 -4.999805443050088 -4.999806966909754 -4.999809630034048 -4.9998143729607225 -4.99982232823821 -4.99983407963924 -4.999840101313996 -4.999849994741503 -4.999862140880875 -4.999865239530872 -4.999866365124878 -4.999867023665489 -4.999867251693283 -4.999867394048244 -4.999867494747361 -4.999867551927378 -4.999867645157007 -4.999867776053071 -4.999867845997789 -4.99986786986193 -4.999867872202075 -4.999867872661455 "
          ]
        },
        {
          "output_type": "execute_result",
          "data": {
            "text/plain": [
              "<matplotlib.legend.Legend at 0x7f1f4d33a670>"
            ]
          },
          "metadata": {},
          "execution_count": 23
        },
        {
          "output_type": "display_data",
          "data": {
            "text/plain": [
              "<Figure size 432x288 with 1 Axes>"
            ],
            "image/png": "[encoded data removed]"
          },
          "metadata": {
            "needs_background": "light"
          }
        }
      ],
      "source": [
        "import matplotlib.pylab as plt\n",
        "\n",
        "\n",
        "for nlayers in range(8,11,1):\n",
        "    num_params = 2*nlayers\n",
        "\n",
        "    back_trace = []\n",
        "    def print_avg(xk):\n",
        "        eva = evaluate_parameters(nqubits, edges, xk,nlayers)\n",
        "        back_trace.append(eva)\n",
        "        print(eva, end=' ')\n",
        "\n",
        "    opt_res = minimize(lambda x : evaluate_parameters(nqubits, edges, x, nlayers), \n",
        "                       np.random.random(num_params),\n",
        "                       callback=print_avg,)\n",
        "    plt.plot(back_trace,label=str(nlayers))\n",
        "# there exists a classical polynomial algorithm returning solutions within a factor of 0.878 of the optimal\n",
        "# we must at least beat that. https://fr.wikipedia.org/wiki/Coupe_maximum\n",
        "plt.axhline(0.878*best_value, color='b', label=\"classical apx ratio\")\n",
        "plt.axhline(best_value,color='r',label='optimal value')\n",
        "plt.legend()"
      ]
    },
    {
      "cell_type": "markdown",
      "id": "e9dffce1",
      "metadata": {
        "id": "e9dffce1"
      },
      "source": [
        "### Question 6: smart initialization"
      ]
    },
    {
      "cell_type": "code",
      "execution_count": null,
      "id": "d1eb83de",
      "metadata": {
        "id": "d1eb83de"
      },
      "outputs": [],
      "source": [
        "T = 1.\n",
        "\n",
        "for nlayers in range(3,6,1):\n",
        "    num_params = 2*nlayers\n",
        "\n",
        "    back_trace = []\n",
        "    def print_avg(xk):\n",
        "        eva = evaluate_parameters(nqubits, edges, xk,nlayers)\n",
        "        back_trace.append(eva)\n",
        "        print(eva, end=' ')\n",
        "\n",
        "    # TODO implement parameter init\n",
        "    parameters_init = []\n",
        "\n",
        "    # END TODO        \n",
        "    opt_res = minimize(lambda x : evaluate_parameters(nqubits, edges, x, nlayers), \n",
        "                       parameters_init, \n",
        "                       callback=print_avg,)\n",
        "plt.axhline(0.878*best_value, color='b', label=\"classical apx ratio\")\n",
        "plt.axhline(best_value,color='r',label='optimal value')\n",
        "plt.legend()"
      ]
    }
  ],
  "metadata": {
    "kernelspec": {
      "display_name": "Python 3 (ipykernel)",
      "language": "python",
      "name": "python3"
    },
    "language_info": {
      "codemirror_mode": {
        "name": "ipython",
        "version": 3
      },
      "file_extension": ".py",
      "mimetype": "text/x-python",
      "name": "python",
      "nbconvert_exporter": "python",
      "pygments_lexer": "ipython3",
      "version": "3.10.6"
    },
    "colab": {
      "provenance": []
    }
  },
  "nbformat": 4,
  "nbformat_minor": 5
}