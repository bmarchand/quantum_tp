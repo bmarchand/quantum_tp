{
  "cells": [
    {
      "cell_type": "markdown",
      "id": "bad09515",
      "metadata": {
        "id": "bad09515"
      },
      "source": [
        "# Maxime Nurwubusa _ TP QAOA\n",
        "\n"
      ]
    },
    {
      "cell_type": "markdown",
      "source": [
        "## Part 1 implementing QAOA"
      ],
      "metadata": {
        "id": "XEt_Jm0-gMC3"
      },
      "id": "XEt_Jm0-gMC3"
    },
    {
      "cell_type": "markdown",
      "id": "536219fc",
      "metadata": {
        "id": "536219fc"
      },
      "source": [
        "### Question1 :\n",
        "Write down in the cell below the Hamiltonian whose ground state is the solution to MaxCUT on an input graph $G=(V,E)$:"
      ]
    },
    {
      "cell_type": "markdown",
      "id": "fd36b562",
      "metadata": {
        "id": "fd36b562"
      },
      "source": [
        "$$ H = \\sum_{i,j\\in E} \\sigma_i \\cdot \\sigma_j $$"
      ]
    },
    {
      "cell_type": "markdown",
      "source": [
        "Comment : \n",
        "Let's recall the physical interpretation : \"If you imagine that there is a 1/2-spin at each vertex of the graph, then the solution is the\n",
        "ground state of an Hamiltonian with pairwise anti-ferromagnetic interaction at\n",
        "each edge.\"\n",
        "\n",
        "Once we understand that, it is natural to choose the Hamiltonian that represents the ferromagnetic interaction (Heisenberg/Exchange energy)\n"
      ],
      "metadata": {
        "id": "nMSSVCj1YjA-"
      },
      "id": "nMSSVCj1YjA-"
    },
    {
      "cell_type": "markdown",
      "id": "b045f8b7",
      "metadata": {
        "id": "b045f8b7"
      },
      "source": [
        "### Question 2:\n",
        "Complete the implementation below of a simple, brute-force enumeration of all states computing the optimal solution to MaxCUT for the graph represented by 'edges'"
      ]
    },
    {
      "cell_type": "code",
      "execution_count": 1,
      "id": "7bc976fa",
      "metadata": {
        "colab": {
          "base_uri": "https://localhost:8080/"
        },
        "id": "7bc976fa",
        "outputId": "94024cab-651a-4a8f-d2ba-3ada23eaca35"
      },
      "outputs": [
        {
          "output_type": "stream",
          "name": "stdout",
          "text": [
            "-5\n",
            "[1, 0, 0, 1, 1]\n"
          ]
        }
      ],
      "source": [
        "import numpy as np\n",
        "\n",
        "graph1 = [(0,1),(0,2),(1,3),(2,3)]\n",
        "graph2 = [(0,1),(1,2),(0,3),(1,4),(2,5),(3,6),(4,7),(5,8),(3,4),(4,5),(6,7),(7,8)]\n",
        "graph3 = [(0,1),(1,2),(0,3),(1,4),(2,5),(3,6),(4,7),(3,4),(4,5),(6,7)]\n",
        "graph4 = [(0,1),(1,2),(2,3),(4,5),(5,6),(6,7),(0,4),(1,5),(2,6),(3,7)]\n",
        "graph5 = [(0,1),(0,2),(1,3),(2,4),(3,5),(4,5),(1,4)]\n",
        "graph6 = [(0,1),(0,2),(1,3),(2,4),(1,4)]\n",
        "\n",
        "\n",
        "# choice of graph\n",
        "edges = graph6\n",
        "\n",
        "nqubits = max([max(list(v)) for v in edges])+1\n",
        "\n",
        "#nqubits = 5\n",
        "graph7 = [(i,(i+1)%nqubits) for i in range(nqubits)]+[(1,4)]\n",
        "\n",
        "\n",
        "# COMPUTATION OF OPT.\n",
        "best_value = len(edges)\n",
        "best_b = 0\n",
        "for x in range(2**nqubits):\n",
        "    b = np.binary_repr(x, width=nqubits)\n",
        "    b = [int(b[i]) for i in range(nqubits)]\n",
        "    # TODO: Complete the computation below:\n",
        "    val=0\n",
        "    for i,j in edges:\n",
        "      val=val +(1 if b[i]==b[j] else -1)\n",
        "    # END TODO\n",
        "    if val <= best_value:\n",
        "        best_value = val\n",
        "        best_b = b\n",
        "print(best_value)\n",
        "print(best_b)"
      ]
    },
    {
      "cell_type": "markdown",
      "id": "4bed0ead",
      "metadata": {
        "id": "4bed0ead"
      },
      "source": [
        "#### visualization of the graph"
      ]
    },
    {
      "cell_type": "code",
      "execution_count": 2,
      "id": "11a7d2a7",
      "metadata": {
        "colab": {
          "base_uri": "https://localhost:8080/",
          "height": 248
        },
        "id": "11a7d2a7",
        "outputId": "3341e0d7-f5c8-4a27-e98a-fade7ab0bbf0"
      },
      "outputs": [
        {
          "output_type": "display_data",
          "data": {
            "text/plain": [
              "<Figure size 432x288 with 1 Axes>"
            ],
            "image/png": "[encoded data removed]"
          },
          "metadata": {}
        }
      ],
      "source": [
        "import networkx as nx\n",
        "G = nx.Graph()\n",
        "for i,j in edges:\n",
        "    G.add_edge(i,j)\n",
        "nx.draw_networkx(G)"
      ]
    },
    {
      "cell_type": "code",
      "execution_count": 7,
      "id": "1bcf8886",
      "metadata": {
        "id": "1bcf8886"
      },
      "outputs": [],
      "source": [
        "#!pip install wand\n",
        "#!apt install imagemagick\n",
        "#!pip install myqlm\n",
        "#!python -m qat.magics.install\n",
        "from qat.lang.AQASM import Program, H, CNOT, RX, QRoutine, RZ, X, Z"
      ]
    },
    {
      "cell_type": "code",
      "execution_count": 4,
      "id": "f125405c",
      "metadata": {
        "id": "f125405c"
      },
      "outputs": [],
      "source": [
        "def U_ZZ(theta):\n",
        "    \n",
        "    zz_r = QRoutine()\n",
        "    zz_r.apply(CNOT, 0, 1)\n",
        "    zz_r.apply(RZ(theta), 1) # difference of convention between implemented version and what we need.\n",
        "    zz_r.apply(CNOT, 0, 1)\n",
        "\n",
        "    return zz_r"
      ]
    },
    {
      "cell_type": "markdown",
      "id": "b87e91ed",
      "metadata": {
        "id": "b87e91ed"
      },
      "source": [
        "### Question 3"
      ]
    },
    {
      "cell_type": "code",
      "execution_count": 5,
      "id": "27954bb3",
      "metadata": {
        "id": "27954bb3"
      },
      "outputs": [],
      "source": [
        "def one_qaoa_layer(n_qubits, edges, theta, beta):\n",
        "\n",
        "    layer = QRoutine()\n",
        "    #TODO: implement one qaoa layer\n",
        "    for k in range(n_qubits):\n",
        "      layer.apply(RX(theta),k)\n",
        "    for k,l in edges:\n",
        "      layer.apply(U_ZZ(beta),k,l)\n",
        "    \n",
        "    return layer"
      ]
    },
    {
      "cell_type": "markdown",
      "id": "bd0c36a5",
      "metadata": {
        "id": "bd0c36a5"
      },
      "source": [
        "### Question 4"
      ]
    },
    {
      "cell_type": "code",
      "execution_count": 12,
      "id": "655a9aaa",
      "metadata": {
        "id": "655a9aaa"
      },
      "outputs": [],
      "source": [
        "from qat.qpus import get_default_qpu\n",
        "\n",
        "def evaluate_parameters(n_qubits, edges, parameters, n_layers):\n",
        "    \n",
        "    prog = Program()\n",
        "    qubits = prog.qalloc(n_qubits)\n",
        "    \n",
        "    # TODO: implement initialization+parameterized circuit\n",
        "    for k in range(n_qubits):\n",
        "      prog.apply(H,qubits[k])\n",
        "\n",
        "    for k in range(n_layers):\n",
        "      prog.apply(one_qaoa_layer(n_qubits,edges,parameters[2*k],parameters[2*k+1]),qubits)\n",
        "        \n",
        "    # END TODO\n",
        "    circ = prog.to_circ()\n",
        "    \n",
        "    job = circ.to_job()\n",
        "    qpu = get_default_qpu()\n",
        "    \n",
        "    result = qpu.submit(job)\n",
        "    \n",
        "    # BEGIN TODO\n",
        "    obs = 0\n",
        "    for sample in result:\n",
        "        # this loop is over all 2**nqubits states.\n",
        "        # sample.state.bitstring contains the qubit values (nqubits 0 or 1)\n",
        "        counting=0 #counting is the contribution\n",
        "        for i,j in edges:\n",
        "          counting = counting + (1 if sample.state.bitstring[i]==sample.state.bitstring[j] else -1)\n",
        "        obs= obs + sample.probability*counting\n",
        "    # END TODO\n",
        "    return obs\n",
        "    \n",
        "        "
      ]
    },
    {
      "cell_type": "code",
      "execution_count": 9,
      "id": "88963901",
      "metadata": {
        "colab": {
          "base_uri": "https://localhost:8080/"
        },
        "id": "88963901",
        "outputId": "5ca2221e-9cdd-4b63-bc54-f443c885fe86"
      },
      "outputs": [
        {
          "output_type": "execute_result",
          "data": {
            "text/plain": [
              "array([0.22316587, 0.48139389, 0.00802278])"
            ]
          },
          "metadata": {},
          "execution_count": 9
        }
      ],
      "source": [
        "import numpy as np\n",
        "np.random.random(3)"
      ]
    },
    {
      "cell_type": "code",
      "execution_count": 10,
      "id": "42557843",
      "metadata": {
        "id": "42557843"
      },
      "outputs": [],
      "source": [
        "from scipy.optimize import minimize\n"
      ]
    },
    {
      "cell_type": "markdown",
      "id": "0846a6dd",
      "metadata": {
        "id": "0846a6dd"
      },
      "source": [
        "### Random initialisation"
      ]
    },
    {
      "cell_type": "markdown",
      "id": "f679d3e0",
      "metadata": {
        "id": "f679d3e0"
      },
      "source": [
        "### Question 5: \n",
        "réponse à la question:"
      ]
    },
    {
      "cell_type": "code",
      "execution_count": 13,
      "id": "36f6e279",
      "metadata": {
        "colab": {
          "base_uri": "https://localhost:8080/",
          "height": 320
        },
        "id": "36f6e279",
        "outputId": "5a0e0a34-f29b-4941-ca98-53f56ee01f64"
      },
      "outputs": [
        {
          "output_type": "stream",
          "name": "stdout",
          "text": [
            "0.8681467498172307 -0.6334509016491089 -0.8943354354086044 -0.9802439085141438 -1.466099943958694 -1.509694041509824 -1.592100312849005 -2.2514730123543263 -2.66609082865626 -2.8063875099826054 -2.9725917470267684 -3.0099620021539666 -3.0594296827014014 -3.159659291110295 -3.215526440074881 -3.2815183089263606 -3.3766720336345166 -3.52053516312572 -3.7178580202167666 -3.9691119059360127 -4.10994568824813 -4.152518023109168 -4.203028481959739 -4.237251701921939 -4.251778573547854 -4.254462001376108 -4.2577047789195435 -4.2630806116977435 -4.269999247272631 -4.272820545396884 -4.274064330561233 -4.274957181427793 -4.276511880638976 -4.279053637259787 -4.282274291226011 -4.2843065842314445 -4.2847435867480295 -4.285209462691377 -4.285250047100957 -4.285255453654296 -4.2852566483466505 -4.285256739583425 -4.285256763029343 -4.285256768027926 -4.285256768425523 -2.9094380249678986 -3.9652688801887552 -4.063529994249529 -4.182470304073747 -4.3465972500401335 -4.459642507987148 -4.529580588221539 -4.558170626310953 -4.567822399600014 -4.583853518256969 -4.6091919120657705 -4.645465039764561 -4.6640851706178355 -4.676153577771896 -4.690621878489475 -4.70464366982205 -4.714620841667184 -4.718599388592856 -4.721909287676309 -4.725011896985241 -4.730859537403424 -4.739797175104456 -4.748320801527294 -4.75161369723031 -4.75568547684599 -4.758105831603808 -4.761181488093626 -4.7641708244322585 -4.768704809025618 -4.7746953972015 -4.782413445389115 -4.7867202615858 -4.79312860444558 -4.801803356964824 -4.802939218914579 -4.80501722726813 -4.808533114029057 -4.81278226014219 -4.81436715186918 -4.815870684720462 -4.817171665423583 -4.818024413206759 -4.818663143445206 -4.819715981341697 -4.821401436151184 -4.823573220224855 -4.826142866228283 -4.829608568076272 -4.832594901562049 -4.833914446288919 -4.835291176233894 -4.836873150740381 -4.838623501097943 -4.841600486989859 -4.845293315231299 -4.84623462164042 -4.84708569012187 -4.847719052991466 -4.848535801579984 -4.848853052350689 -4.848950729054614 -4.849116135488553 -4.84937078716878 -4.849671235892616 -4.850016982887537 -4.850541692831615 -4.851278011500976 -4.851811351808479 -4.851933937081832 -4.852092551421657 -4.852138611458301 -4.852153671831134 -4.852168916433184 -4.852180133644015 -4.85219234972634 -4.852210939486898 -4.8522322250773815 -4.852245205541612 -4.852248430900954 -4.852248627933851 -4.852248646286379 -4.85224864881182 -4.8522486489890255 0.1318893115632932 -0.5987699976709752 -0.7525399578831147 -1.3097363651187846 -1.5412422223300217 -1.9999719023509936 -2.1815956309595816 -2.9725868545773118 -3.2148824504342937 -3.4776572133163928 -3.6907220993215186 -3.91315278817679 -4.047843062047038 -4.172947153630824 -4.333203929506598 -4.434475202703182 -4.456916149672578 -4.492062516788559 -4.533014664287365 -4.553487012430203 -4.567929190001208 -4.576324701249893 -4.5812084512301565 -4.588729271769523 -4.593210548767316 -4.594205132353248 -4.595693738261625 -4.5977770205183495 -4.601082947392896 -4.606828310569733 -4.615943580050388 -4.631183456767187 -4.640693515442293 -4.6526382845276615 -4.663853092882768 -4.682354693338672 -4.713969514514688 -4.7512849506020975 -4.789071132818364 -4.825841054836832 -4.866079036460748 -4.869210143715324 -4.874887149081305 -4.884269902586049 -4.89291414968243 -4.895277071040672 -4.897216368932459 -4.898321672159375 -4.898631521539438 -4.898780069104075 -4.89884067565204 -4.898896956758823 -4.898951290389443 -4.899018200763916 -4.899074942067495 -4.899141594662111 -4.899229003401368 -4.899344943366949 -4.899446946548834 -4.899504514091445 -4.899540615614383 -4.89958527083211 -4.899635951975075 -4.899670174139994 -4.899693013832301 -4.899701950084814 -4.8997112074365265 -4.899722781895078 -4.899733149989986 -4.899739022338179 -4.899742793473344 -4.899749113752263 -4.899760268344614 -4.899780346946327 -4.899816272353167 -4.899878281236447 -4.899973264035678 -4.900076616238819 -4.900119808306804 -4.900139395708699 -4.900146665165377 -4.900149768324319 -4.9001503114551195 -4.900150442010105 -4.9001504877521755 -4.9001505214758705 -4.900150579058459 -4.900150680939776 -4.90015086258483 -4.9001511857196265 -4.900151741462548 -4.900152609879765 -4.900153445414534 -4.900153832241074 -4.90015407044306 -4.9001540983424885 -4.900154101104477 -4.900154101583902 -4.90015410177686 -4.900154101803821 -4.900154101814212 "
          ]
        },
        {
          "output_type": "execute_result",
          "data": {
            "text/plain": [
              "<matplotlib.legend.Legend at 0x7f99293f1af0>"
            ]
          },
          "metadata": {},
          "execution_count": 13
        },
        {
          "output_type": "display_data",
          "data": {
            "text/plain": [
              "<Figure size 432x288 with 1 Axes>"
            ],
            "image/png": "[encoded data removed]"
          },
          "metadata": {
            "needs_background": "light"
          }
        }
      ],
      "source": [
        "import matplotlib.pylab as plt\n",
        "\n",
        "\n",
        "for nlayers in range(6,9,1):\n",
        "    num_params = 2*nlayers\n",
        "\n",
        "    back_trace = []\n",
        "    def print_avg(xk):\n",
        "        eva = evaluate_parameters(nqubits, edges, xk,nlayers)\n",
        "        back_trace.append(eva)\n",
        "        print(eva, end=' ')\n",
        "\n",
        "    opt_res = minimize(lambda x : evaluate_parameters(nqubits, edges, x, nlayers), \n",
        "                       np.random.random(num_params),\n",
        "                       callback=print_avg,)\n",
        "    plt.plot(back_trace,label=str(nlayers))\n",
        "# there exists a classical polynomial algorithm returning solutions within a factor of 0.878 of the optimal\n",
        "# we must at least beat that. https://fr.wikipedia.org/wiki/Coupe_maximum\n",
        "plt.axhline(0.878*best_value, color='b', label=\"classical apx ratio\")\n",
        "plt.axhline(best_value,color='r',label='optimal value')\n",
        "plt.legend()"
      ]
    },
    {
      "cell_type": "markdown",
      "source": [
        "8 layers are needed for QAOA to reach the optimum value"
      ],
      "metadata": {
        "id": "a4i4M4pGe9gG"
      },
      "id": "a4i4M4pGe9gG"
    },
    {
      "cell_type": "markdown",
      "id": "e9dffce1",
      "metadata": {
        "id": "e9dffce1"
      },
      "source": [
        "### Question 6: smart initialization"
      ]
    },
    {
      "cell_type": "code",
      "execution_count": 15,
      "id": "d1eb83de",
      "metadata": {
        "colab": {
          "base_uri": "https://localhost:8080/",
          "height": 320
        },
        "id": "d1eb83de",
        "outputId": "8373f541-e837-4fc9-adeb-2d31d616a3fd"
      },
      "outputs": [
        {
          "output_type": "stream",
          "name": "stdout",
          "text": [
            "-1.8530607786758873 -2.0646648674966066 -2.3675649106088534 -2.8757759103486737 -3.1807622701857627 -3.536865546504489 -3.7773847084784857 -3.970437821584704 -3.974932294169126 -3.978229369142069 -3.978268365459454 -3.9782690269931313 -3.978269029653921 -1.4016060998502564 -2.9537639191073417 -3.246376417484305 -3.7700008387386914 -4.069081231913725 -4.304302917875617 -4.3566443496386915 -4.430330272298612 -4.522202204021294 -4.586646600922829 -4.631549346497703 -4.644919708066271 -4.6573114191696705 -4.661343354005026 -4.662357088807134 -4.662578599519375 -4.662589368146721 -4.662589586527569 -4.662589588268692 -4.6625895882885855 -0.9981740929049627 -2.7491651601098033 -3.0680088472222304 -4.298647031282944 -4.497641305536561 -4.537600083543945 -4.5989438200275785 -4.674534020265669 -4.70813980538198 -4.721172141007853 -4.738371799751424 -4.754604262436232 -4.773055892991503 -4.801192385535539 -4.840535308918268 -4.8529821192682485 -4.8630396936336595 -4.875901371961213 -4.880664940232405 -4.8813540109895515 -4.881826292724427 -4.881869189141283 -4.881900794618353 -4.8819194237739945 -4.881947552979796 -4.881966027026917 -4.881968388460792 -4.8819686401462725 -4.881968642977562 -4.881968643051619 "
          ]
        },
        {
          "output_type": "execute_result",
          "data": {
            "text/plain": [
              "<matplotlib.legend.Legend at 0x7f9927f5cb80>"
            ]
          },
          "metadata": {},
          "execution_count": 15
        },
        {
          "output_type": "display_data",
          "data": {
            "text/plain": [
              "<Figure size 432x288 with 1 Axes>"
            ],
            "image/png": "[encoded data removed]"
          },
          "metadata": {
            "needs_background": "light"
          }
        }
      ],
      "source": [
        "T = 1.\n",
        "\n",
        "for nlayers in range(3,6,1):\n",
        "    num_params = 2*nlayers\n",
        "\n",
        "    back_trace = []\n",
        "    def print_avg(xk):\n",
        "        eva = evaluate_parameters(nqubits, edges, xk,nlayers)\n",
        "        back_trace.append(eva)\n",
        "        print(eva, end=' ')\n",
        "\n",
        "    # TODO implement parameter init\n",
        "    parameters_init = []\n",
        "    for k in range(nlayers):\n",
        "      beta=(k+1)*T/(nlayers**2)\n",
        "      theta=(1-k-1)*T/(nlayers**2)\n",
        "      parameters_init.append(theta)\n",
        "      parameters_init.append(beta)\n",
        "\n",
        "    # END TODO        \n",
        "    opt_res = minimize(lambda x : evaluate_parameters(nqubits, edges, x, nlayers), \n",
        "                       parameters_init, \n",
        "                       callback=print_avg,)\n",
        "plt.axhline(0.878*best_value, color='b', label=\"classical apx ratio\")\n",
        "plt.axhline(best_value,color='r',label='optimal value')\n",
        "plt.legend()"
      ]
    },
    {
      "cell_type": "markdown",
      "source": [
        "I may have done an error for this part."
      ],
      "metadata": {
        "id": "3ocXMR8XiekF"
      },
      "id": "3ocXMR8XiekF"
    },
    {
      "cell_type": "markdown",
      "source": [
        "End."
      ],
      "metadata": {
        "id": "OzNuT83Ciut2"
      },
      "id": "OzNuT83Ciut2"
    }
  ],
  "metadata": {
    "kernelspec": {
      "display_name": "Python 3 (ipykernel)",
      "language": "python",
      "name": "python3"
    },
    "language_info": {
      "codemirror_mode": {
        "name": "ipython",
        "version": 3
      },
      "file_extension": ".py",
      "mimetype": "text/x-python",
      "name": "python",
      "nbconvert_exporter": "python",
      "pygments_lexer": "ipython3",
      "version": "3.10.6"
    },
    "colab": {
      "provenance": []
    }
  },
  "nbformat": 4,
  "nbformat_minor": 5
}