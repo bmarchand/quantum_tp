{
  "cells": [
    {
      "cell_type": "markdown",
      "id": "bad09515",
      "metadata": {
        "id": "bad09515"
      },
      "source": [
        "## Part 1 implementing QAOA\n"
      ]
    },
    {
      "cell_type": "code",
      "source": [
        "!pip install myqlm"
      ],
      "metadata": {
        "colab": {
          "base_uri": "https://localhost:8080/"
        },
        "id": "PahTti56IZGb",
        "outputId": "f921be95-a289-4bda-ea0e-113e069e745c"
      },
      "id": "PahTti56IZGb",
      "execution_count": 114,
      "outputs": [
        {
          "output_type": "stream",
          "name": "stdout",
          "text": [
            "Looking in indexes: https://pypi.org/simple, https://us-python.pkg.dev/colab-wheels/public/simple/\n",
            "Requirement already satisfied: myqlm in /usr/local/lib/python3.8/dist-packages (1.7.2)\n",
            "Requirement already satisfied: myqlm-fermion>=1.0.0 in /usr/local/lib/python3.8/dist-packages (from myqlm) (1.0.0)\n",
            "Requirement already satisfied: myqlm-clinalg>=0.0.4 in /usr/local/lib/python3.8/dist-packages (from myqlm) (0.0.4)\n",
            "Requirement already satisfied: qat-comm>=1.4.2 in /usr/local/lib/python3.8/dist-packages (from myqlm) (1.4.2)\n",
            "Requirement already satisfied: qat-core>=1.6.1 in /usr/local/lib/python3.8/dist-packages (from myqlm) (1.6.1)\n",
            "Requirement already satisfied: qat-variational>=1.4.0 in /usr/local/lib/python3.8/dist-packages (from myqlm) (1.4.0)\n",
            "Requirement already satisfied: qat-devices>=0.2.0 in /usr/local/lib/python3.8/dist-packages (from myqlm) (0.2.0)\n",
            "Requirement already satisfied: myqlm-contrib>=1.7.1 in /usr/local/lib/python3.8/dist-packages (from myqlm) (1.7.1)\n",
            "Requirement already satisfied: myqlm-simulators>=1.7.1 in /usr/local/lib/python3.8/dist-packages (from myqlm) (1.7.1)\n",
            "Requirement already satisfied: qat-lang>=2.2.1 in /usr/local/lib/python3.8/dist-packages (from myqlm) (2.2.1)\n",
            "Requirement already satisfied: networkx in /usr/local/lib/python3.8/dist-packages (from myqlm-contrib>=1.7.1->myqlm) (2.8.8)\n",
            "Requirement already satisfied: numpy in /usr/local/lib/python3.8/dist-packages (from myqlm-fermion>=1.0.0->myqlm) (1.21.6)\n",
            "Requirement already satisfied: pytest in /usr/local/lib/python3.8/dist-packages (from myqlm-fermion>=1.0.0->myqlm) (3.6.4)\n",
            "Requirement already satisfied: anytree in /usr/local/lib/python3.8/dist-packages (from myqlm-fermion>=1.0.0->myqlm) (2.8.0)\n",
            "Requirement already satisfied: tqdm in /usr/local/lib/python3.8/dist-packages (from myqlm-fermion>=1.0.0->myqlm) (4.64.1)\n",
            "Requirement already satisfied: bitstring in /usr/local/lib/python3.8/dist-packages (from myqlm-fermion>=1.0.0->myqlm) (4.0.1)\n",
            "Requirement already satisfied: scipy in /usr/local/lib/python3.8/dist-packages (from myqlm-fermion>=1.0.0->myqlm) (1.7.3)\n",
            "Requirement already satisfied: thrift==0.16.0 in /usr/local/lib/python3.8/dist-packages (from qat-comm>=1.4.2->myqlm) (0.16.0)\n",
            "Requirement already satisfied: six>=1.7.2 in /usr/local/lib/python3.8/dist-packages (from thrift==0.16.0->qat-comm>=1.4.2->myqlm) (1.15.0)\n",
            "Requirement already satisfied: Pillow in /usr/local/lib/python3.8/dist-packages (from qat-core>=1.6.1->myqlm) (7.1.2)\n",
            "Requirement already satisfied: svgwrite in /usr/local/lib/python3.8/dist-packages (from qat-core>=1.6.1->myqlm) (1.4.3)\n",
            "Requirement already satisfied: matplotlib in /usr/local/lib/python3.8/dist-packages (from qat-core>=1.6.1->myqlm) (3.2.2)\n",
            "Requirement already satisfied: dill in /usr/local/lib/python3.8/dist-packages (from qat-core>=1.6.1->myqlm) (0.3.6)\n",
            "Requirement already satisfied: wand in /usr/local/lib/python3.8/dist-packages (from qat-core>=1.6.1->myqlm) (0.6.10)\n",
            "Requirement already satisfied: ply==3.11 in /usr/local/lib/python3.8/dist-packages (from qat-lang>=2.2.1->myqlm) (3.11)\n",
            "Requirement already satisfied: pyDOE in /usr/local/lib/python3.8/dist-packages (from qat-variational>=1.4.0->myqlm) (0.3.8)\n",
            "Requirement already satisfied: python-dateutil>=2.1 in /usr/local/lib/python3.8/dist-packages (from matplotlib->qat-core>=1.6.1->myqlm) (2.8.2)\n",
            "Requirement already satisfied: pyparsing!=2.0.4,!=2.1.2,!=2.1.6,>=2.0.1 in /usr/local/lib/python3.8/dist-packages (from matplotlib->qat-core>=1.6.1->myqlm) (3.0.9)\n",
            "Requirement already satisfied: cycler>=0.10 in /usr/local/lib/python3.8/dist-packages (from matplotlib->qat-core>=1.6.1->myqlm) (0.11.0)\n",
            "Requirement already satisfied: kiwisolver>=1.0.1 in /usr/local/lib/python3.8/dist-packages (from matplotlib->qat-core>=1.6.1->myqlm) (1.4.4)\n",
            "Requirement already satisfied: atomicwrites>=1.0 in /usr/local/lib/python3.8/dist-packages (from pytest->myqlm-fermion>=1.0.0->myqlm) (1.4.1)\n",
            "Requirement already satisfied: attrs>=17.4.0 in /usr/local/lib/python3.8/dist-packages (from pytest->myqlm-fermion>=1.0.0->myqlm) (22.2.0)\n",
            "Requirement already satisfied: pluggy<0.8,>=0.5 in /usr/local/lib/python3.8/dist-packages (from pytest->myqlm-fermion>=1.0.0->myqlm) (0.7.1)\n",
            "Requirement already satisfied: py>=1.5.0 in /usr/local/lib/python3.8/dist-packages (from pytest->myqlm-fermion>=1.0.0->myqlm) (1.11.0)\n",
            "Requirement already satisfied: setuptools in /usr/local/lib/python3.8/dist-packages (from pytest->myqlm-fermion>=1.0.0->myqlm) (57.4.0)\n",
            "Requirement already satisfied: more-itertools>=4.0.0 in /usr/local/lib/python3.8/dist-packages (from pytest->myqlm-fermion>=1.0.0->myqlm) (9.0.0)\n"
          ]
        }
      ]
    },
    {
      "cell_type": "markdown",
      "id": "536219fc",
      "metadata": {
        "id": "536219fc"
      },
      "source": [
        "### Question1 :\n",
        "Write down in the cell below the Hamiltonian whose ground state is the solution to MaxCUT on an input graph $G=(V,E)$:"
      ]
    },
    {
      "cell_type": "markdown",
      "id": "fd36b562",
      "metadata": {
        "id": "fd36b562"
      },
      "source": [
        "$$ H = \\sum_{i,j\\in E} \\sigma_i \\cdot \\sigma_j $$"
      ]
    },
    {
      "cell_type": "markdown",
      "id": "b045f8b7",
      "metadata": {
        "id": "b045f8b7"
      },
      "source": [
        "### Question 2:\n",
        "Complete the implementation below of a simple, brute-force enumeration of all states computing the optimal solution to MaxCUT for the graph represented by 'edges'"
      ]
    },
    {
      "cell_type": "code",
      "execution_count": 115,
      "id": "7bc976fa",
      "metadata": {
        "colab": {
          "base_uri": "https://localhost:8080/"
        },
        "id": "7bc976fa",
        "outputId": "dbc8ef52-cde9-4951-fbd1-f81aaacc0932"
      },
      "outputs": [
        {
          "output_type": "stream",
          "name": "stdout",
          "text": [
            "state = [0, 0, 0, 0, 0] value = 5.0\n",
            "state = [0, 0, 0, 0, 1] value = 1.0\n",
            "state = [0, 0, 0, 1, 0] value = 3.0\n",
            "state = [0, 0, 0, 1, 1] value = -1.0\n",
            "state = [0, 0, 1, 0, 0] value = 1.0\n",
            "state = [0, 0, 1, 0, 1] value = 1.0\n",
            "state = [0, 0, 1, 1, 0] value = -1.0\n",
            "state = [0, 0, 1, 1, 1] value = -1.0\n",
            "state = [0, 1, 0, 0, 0] value = -1.0\n",
            "state = [0, 1, 0, 0, 1] value = -1.0\n",
            "state = [0, 1, 0, 1, 0] value = 1.0\n",
            "state = [0, 1, 0, 1, 1] value = 1.0\n",
            "state = [0, 1, 1, 0, 0] value = -5.0\n",
            "state = [0, 1, 1, 0, 1] value = -1.0\n",
            "state = [0, 1, 1, 1, 0] value = -3.0\n",
            "state = [0, 1, 1, 1, 1] value = 1.0\n",
            "state = [1, 0, 0, 0, 0] value = 1.0\n",
            "state = [1, 0, 0, 0, 1] value = -3.0\n",
            "state = [1, 0, 0, 1, 0] value = -1.0\n",
            "state = [1, 0, 0, 1, 1] value = -5.0\n",
            "state = [1, 0, 1, 0, 0] value = 1.0\n",
            "state = [1, 0, 1, 0, 1] value = 1.0\n",
            "state = [1, 0, 1, 1, 0] value = -1.0\n",
            "state = [1, 0, 1, 1, 1] value = -1.0\n",
            "state = [1, 1, 0, 0, 0] value = -1.0\n",
            "state = [1, 1, 0, 0, 1] value = -1.0\n",
            "state = [1, 1, 0, 1, 0] value = 1.0\n",
            "state = [1, 1, 0, 1, 1] value = 1.0\n",
            "state = [1, 1, 1, 0, 0] value = -1.0\n",
            "state = [1, 1, 1, 0, 1] value = 3.0\n",
            "state = [1, 1, 1, 1, 0] value = 1.0\n",
            "state = [1, 1, 1, 1, 1] value = 5.0\n",
            "-5.0\n",
            "[1, 0, 0, 1, 1]\n"
          ]
        }
      ],
      "source": [
        "import numpy as np\n",
        "\n",
        "graph1 = [(0,1),(0,2),(1,3),(2,3)]\n",
        "graph2 = [(0,1),(1,2),(0,3),(1,4),(2,5),(3,6),(4,7),(5,8),(3,4),(4,5),(6,7),(7,8)]\n",
        "graph3 = [(0,1),(1,2),(0,3),(1,4),(2,5),(3,6),(4,7),(3,4),(4,5),(6,7)]\n",
        "graph4 = [(0,1),(1,2),(2,3),(4,5),(5,6),(6,7),(0,4),(1,5),(2,6),(3,7)]\n",
        "graph5 = [(0,1),(0,2),(1,3),(2,4),(3,5),(4,5),(1,4)]\n",
        "graph6 = [(0,1),(0,2),(1,3),(2,4),(1,4)]\n",
        "\n",
        "\n",
        "# choice of graph\n",
        "edges = graph6\n",
        "\n",
        "nqubits = max([max(list(v)) for v in edges])+1\n",
        "\n",
        "#nqubits = 5\n",
        "graph7 = [(i,(i+1)%nqubits) for i in range(nqubits)]+[(1,4)]\n",
        "\n",
        "\n",
        "# COMPUTATION OF OPT.\n",
        "best_value = len(edges) \n",
        "best_b = 0\n",
        "\n",
        "for x in range(2**nqubits):\n",
        "    b = np.binary_repr(x, width=nqubits)\n",
        "    b = [int(b[i]) for i in range(nqubits)]\n",
        "    # TODO: Complete the computation below:\n",
        "    val = 0.     \n",
        "    for i,j in edges:\n",
        "        val += (2*b[i]-1)*(2*b[j]-1) #Compute the hamiltonian of the state b with Z-pauli gates\n",
        "    # END TODO\n",
        "    if val <= best_value:  #We want to minimize the hamiltonian\n",
        "        best_value = val\n",
        "        best_b = b\n",
        "        \n",
        "    print('state = ' + str(b)+ ' value = ' + str(val)) #I added this to see every state with their correspondant value\n",
        "\n",
        "print(best_value)\n",
        "print(best_b)"
      ]
    },
    {
      "cell_type": "markdown",
      "id": "4bed0ead",
      "metadata": {
        "id": "4bed0ead"
      },
      "source": [
        "#### visualization of the graph"
      ]
    },
    {
      "cell_type": "code",
      "execution_count": 116,
      "id": "11a7d2a7",
      "metadata": {
        "colab": {
          "base_uri": "https://localhost:8080/",
          "height": 248
        },
        "id": "11a7d2a7",
        "outputId": "375936b9-05c2-496f-cdf7-134c12c7f620"
      },
      "outputs": [
        {
          "output_type": "display_data",
          "data": {
            "text/plain": [
              "<Figure size 432x288 with 1 Axes>"
            ],
            "image/png": "[encoded data removed]"
          },
          "metadata": {}
        }
      ],
      "source": [
        "import networkx as nx\n",
        "G = nx.Graph()\n",
        "for i,j in edges:\n",
        "    G.add_edge(i,j)\n",
        "nx.draw_networkx(G)"
      ]
    },
    {
      "cell_type": "code",
      "execution_count": 117,
      "id": "1bcf8886",
      "metadata": {
        "id": "1bcf8886"
      },
      "outputs": [],
      "source": [
        "from qat.lang.AQASM import Program, H, CNOT, RX, QRoutine, RZ, X, Z"
      ]
    },
    {
      "cell_type": "code",
      "execution_count": 118,
      "id": "f125405c",
      "metadata": {
        "id": "f125405c"
      },
      "outputs": [],
      "source": [
        "def U_ZZ(theta):\n",
        "    \n",
        "    zz_r = QRoutine()\n",
        "    zz_r.apply(CNOT, 0, 1)\n",
        "    zz_r.apply(RZ(theta), 1) # difference of convention between implemented version and what we need.\n",
        "    zz_r.apply(CNOT, 0, 1)\n",
        "\n",
        "    return zz_r"
      ]
    },
    {
      "cell_type": "markdown",
      "id": "b87e91ed",
      "metadata": {
        "id": "b87e91ed"
      },
      "source": [
        "### Question 3"
      ]
    },
    {
      "cell_type": "code",
      "execution_count": 119,
      "id": "27954bb3",
      "metadata": {
        "id": "27954bb3"
      },
      "outputs": [],
      "source": [
        "def one_qaoa_layer(n_qubits, edges, theta, beta):\n",
        "\n",
        "    layer = QRoutine()\n",
        "    #TODO: implement one qaoa layer\n",
        "    for i in range(n_qubits): \n",
        "      layer.apply(RX(theta), i) #We apply one rotation RX(θ) on each qubit\n",
        "    \n",
        "    for pair in edges: \n",
        "       layer.apply(U_ZZ(beta), pair[0], pair[1]) #“Cost function” layer : Each rotation is decomposed using a sub-circuit of 2 CNOT gates and a single RZ rotation.\n",
        "    \n",
        "    return layer"
      ]
    },
    {
      "cell_type": "markdown",
      "id": "bd0c36a5",
      "metadata": {
        "id": "bd0c36a5"
      },
      "source": [
        "### Question 4"
      ]
    },
    {
      "cell_type": "code",
      "execution_count": 120,
      "id": "655a9aaa",
      "metadata": {
        "id": "655a9aaa"
      },
      "outputs": [],
      "source": [
        "from qat.qpus import get_default_qpu\n",
        "\n",
        "def evaluate_parameters(n_qubits, edges, parameters, n_layers):\n",
        "    \n",
        "    prog = Program()\n",
        "    qubits = prog.qalloc(n_qubits)\n",
        "    \n",
        "    # TODO: implement initialization+parameterized circuit\n",
        "    for i in range(0, n_qubits): \n",
        "        H(qubits[i]) #layer of Hadamard gates\n",
        "\n",
        "    for i in range(0,len(parameters),2):\n",
        "        one_qaoa_layer(n_qubits, edges, parameters[i], parameters[i+1])(qubits) #qaoa layer routine implemented in Question 3\n",
        "        \n",
        "    # END TODO\n",
        "    circ = prog.to_circ()\n",
        "    \n",
        "    job = circ.to_job()\n",
        "    qpu = get_default_qpu()\n",
        "    \n",
        "    result = qpu.submit(job)\n",
        "    \n",
        "    # BEGIN TODO\n",
        "    obs = 0\n",
        "    for sample in result:\n",
        "        # this loop is over all 2**nqubits states.\n",
        "        # sample.state.bitstring contains the qubit values (nqubits 0 or 1)\n",
        "\n",
        "        b=[int(i) for i in sample.state.bitstring] #Recover the qubit values (nqubits 0 or 1)\n",
        "\n",
        "        for i,j in edges:\n",
        "          obs+=(2*b[i]-1)*(2*b[j]-1)*sample.probability #Compute the value of the observable on the state vector\n",
        "    # END TODO\n",
        "    return obs\n",
        "    \n",
        "        "
      ]
    },
    {
      "cell_type": "code",
      "execution_count": 121,
      "id": "88963901",
      "metadata": {
        "id": "88963901",
        "colab": {
          "base_uri": "https://localhost:8080/"
        },
        "outputId": "1b66c5c2-89ec-4d97-b3a3-f8f91cd6c988"
      },
      "outputs": [
        {
          "output_type": "execute_result",
          "data": {
            "text/plain": [
              "array([0.9506814 , 0.20464632, 0.67347878])"
            ]
          },
          "metadata": {},
          "execution_count": 121
        }
      ],
      "source": [
        "import numpy as np\n",
        "np.random.random(3)"
      ]
    },
    {
      "cell_type": "code",
      "execution_count": 122,
      "id": "42557843",
      "metadata": {
        "id": "42557843"
      },
      "outputs": [],
      "source": [
        "from scipy.optimize import minimize\n"
      ]
    },
    {
      "cell_type": "markdown",
      "id": "0846a6dd",
      "metadata": {
        "id": "0846a6dd"
      },
      "source": [
        "### Random initialisation"
      ]
    },
    {
      "cell_type": "markdown",
      "id": "f679d3e0",
      "metadata": {
        "id": "f679d3e0"
      },
      "source": [
        "### Question 5: \n",
        "# Réponse à la question: To reach the ultimum value for **graph 6**, we can see that a minimimum of **6 layers** is needed."
      ]
    },
    {
      "cell_type": "code",
      "execution_count": 126,
      "id": "36f6e279",
      "metadata": {
        "id": "36f6e279",
        "colab": {
          "base_uri": "https://localhost:8080/",
          "height": 320
        },
        "outputId": "4300aa06-5b19-41b6-c962-864ed4576e57"
      },
      "outputs": [
        {
          "output_type": "stream",
          "name": "stdout",
          "text": [
            "-2.798556261404529 -3.0677268239453563 -3.5846209098231245 -3.8602614520568026 -4.026592272672698 -4.089507548196499 -4.099542010482528 -4.111935363595633 -4.133584096894213 -4.168405902390412 -4.194865330629363 -4.225058818787059 -4.232301665696414 -4.233321702872744 -4.233809816073815 -4.233931991945127 -4.234125513672794 -4.234310848916469 -4.234341476298028 -4.234345199574411 -4.234345296302358 -4.23434529764901 -0.1556016730622185 -0.7220013177225292 -1.0848186570452236 -1.408002740302953 -2.9574402603560985 -3.7181419866323875 -4.036880880837724 -4.077909074271486 -4.115631155291287 -4.17493846836403 -4.222665236139131 -4.261656469431477 -4.277747973745763 -4.295741266588998 -4.310789333730135 -4.322157241001399 -4.331892720483354 -4.339475309860564 -4.344133013015669 -4.346806757261983 -4.349871894492021 -4.355193067928342 -4.3614102034134055 -4.36893869769043 -4.381251427902869 -4.39844564678085 -4.401539805035577 -4.407119381590592 -4.416949452203173 -4.432557296935365 -4.44114325909042 -4.454012822777378 -4.459376220060252 -4.464963117163851 -4.4659892597020745 -4.466477712788492 -4.466581720303833 -4.466586528003267 -4.46658963986299 -4.466590127368365 -4.466590882236421 -4.466592304780776 -4.466603365331816 -4.466623266435479 -4.466734699706498 -4.467607283107742 -4.468010600571499 -4.471035950818133 -4.474975465367874 -4.479245519792457 -4.485140381771075 -4.491783713238852 -4.503198065462304 -4.515092308998233 -4.524995063014189 -4.529147677742852 -4.533253611480478 -4.536006824835162 -4.538459338013049 -4.542805942274387 -4.5499741059030905 -4.558682142979066 -4.567118408405238 -4.572742881119275 -4.581466141168389 -4.5926393924571896 -4.597127163171456 -4.603859770889211 -4.609333273179918 -4.615048618393666 -4.617497227099328 -4.619913592292234 -4.6204907326654965 -4.620678986929778 -4.6207684872671555 -4.620786123929132 -4.620787591990061 -4.620787682011324 -4.620787683907098 -4.6207876840885 -4.620787684120096 -0.007263675837750654 -0.14504070317902257 -0.3924394539301377 -0.8843896768126458 -1.4497314921408024 -2.6920220046927437 -2.8595676756630435 -3.101896992960023 -3.5589212713827867 -3.920649807415833 -4.0956156155370556 -4.3819997323874205 -4.578938891622666 -4.654785020719974 -4.699567254950876 -4.716036192750213 -4.738082781253551 -4.764718934877129 -4.804644261165579 -4.848003283066053 -4.861490586500913 -4.872347566178677 -4.877966092010535 -4.883365700239766 -4.884795529533468 -4.885818327936266 -4.886242671980922 -4.886964210371357 -4.888211177314116 -4.890241704082237 -4.892449313337428 -4.893130929139162 -4.893397399821366 -4.893429144977205 -4.893486945113137 -4.893594250771884 -4.893794071575059 -4.894163417965292 -4.894832963405426 -4.8959960508080345 -4.89781155547486 -4.900074639295256 -4.904213335438485 -4.91152472872119 -4.920550307924103 -4.923146593398747 -4.925441567010288 -4.927993214210324 -4.9288349523313135 -4.9299263163291025 -4.930481731152906 -4.930783520621415 -4.9308351150438 -4.9308401325917375 -4.930840818759451 -4.930840903541071 -4.9308409071115475 -4.930840907347417 "
          ]
        },
        {
          "output_type": "execute_result",
          "data": {
            "text/plain": [
              "<matplotlib.legend.Legend at 0x7fe65650a610>"
            ]
          },
          "metadata": {},
          "execution_count": 126
        },
        {
          "output_type": "display_data",
          "data": {
            "text/plain": [
              "<Figure size 432x288 with 1 Axes>"
            ],
            "image/png": "[encoded data removed]"
          },
          "metadata": {
            "needs_background": "light"
          }
        }
      ],
      "source": [
        "import matplotlib.pylab as plt\n",
        "\n",
        "\n",
        "for nlayers in range(4,7,1):\n",
        "    num_params = 2*nlayers\n",
        "\n",
        "    back_trace = []\n",
        "    def print_avg(xk):\n",
        "        eva = evaluate_parameters(nqubits, edges, xk,nlayers)\n",
        "        back_trace.append(eva)\n",
        "        print(eva, end=' ')\n",
        "\n",
        "    opt_res = minimize(lambda x : evaluate_parameters(nqubits, edges, x, nlayers), \n",
        "                       np.random.random(num_params),\n",
        "                       callback=print_avg,)\n",
        "    plt.plot(back_trace,label=str(nlayers))\n",
        "# there exists a classical polynomial algorithm returning solutions within a factor of 0.878 of the optimal\n",
        "# we must at least beat that. https://fr.wikipedia.org/wiki/Coupe_maximum\n",
        "plt.axhline(0.878*best_value, color='b', label=\"classical apx ratio\")\n",
        "plt.axhline(best_value,color='r',label='optimal value')\n",
        "plt.legend()"
      ]
    },
    {
      "cell_type": "markdown",
      "id": "e9dffce1",
      "metadata": {
        "id": "e9dffce1"
      },
      "source": [
        "### Question 6: smart initialization"
      ]
    },
    {
      "cell_type": "markdown",
      "source": [
        "With the integral approximation and by passing at the exponential, we can obtain the two parameters we want:\n",
        "Θ=kT/$p^2$ and β=T/p - k/$p^2$"
      ],
      "metadata": {
        "id": "L3njWDNP30h0"
      },
      "id": "L3njWDNP30h0"
    },
    {
      "cell_type": "markdown",
      "source": [
        "With the graph below, we can see a important acceleration on convergence : With T=0.01 and only 5 layers (against 6 before), the optimum value is reached in 10-15 steps (against 25-30 before)"
      ],
      "metadata": {
        "id": "iiBjIyll4lEi"
      },
      "id": "iiBjIyll4lEi"
    },
    {
      "cell_type": "code",
      "execution_count": 124,
      "id": "d1eb83de",
      "metadata": {
        "id": "d1eb83de",
        "colab": {
          "base_uri": "https://localhost:8080/",
          "height": 320
        },
        "outputId": "d18cbc94-3b65-4aeb-927a-47e33a9284db"
      },
      "outputs": [
        {
          "output_type": "stream",
          "name": "stdout",
          "text": [
            "-1.5259216440733028 -2.2961598145307147 -2.77159606116672 -3.4868292027201595 -3.858364031935637 -3.936096992172265 -3.9781944749185856 -3.9782683940920487 -3.9782690228147346 -3.9782690293576337 -3.9782690296547822 -1.0376625893701463 -2.7811481004036716 -3.7470232186055195 -4.099957547598142 -4.366955490311715 -4.502932590644833 -4.575676764686746 -4.6396022384228415 -4.657163181089284 -4.662138997703945 -4.6625836027151415 -4.662588086596154 -4.66258947154618 -4.662589586163619 -4.662589588174398 -4.662589588288394 -0.6248902414938772 -2.927283307350381 -3.8123424643177617 -4.226911673512273 -4.5326357110082185 -4.636481421649798 -4.700211078667277 -4.76833966375014 -4.783020337702686 -4.806025590138394 -4.838898251899169 -4.862375232640605 -4.87191946784428 -4.880325060815913 -4.881124327563138 -4.881619664484411 -4.8818051150781585 -4.881926931642994 -4.88196145185069 -4.881968457924519 -4.881968639624016 -4.881968643024792 -4.881968643051354 "
          ]
        },
        {
          "output_type": "execute_result",
          "data": {
            "text/plain": [
              "<matplotlib.legend.Legend at 0x7fe656761160>"
            ]
          },
          "metadata": {},
          "execution_count": 124
        },
        {
          "output_type": "display_data",
          "data": {
            "text/plain": [
              "<Figure size 432x288 with 1 Axes>"
            ],
            "image/png": "[encoded data removed]"
          },
          "metadata": {
            "needs_background": "light"
          }
        }
      ],
      "source": [
        "T = 0.01\n",
        "\n",
        "for nlayers in range(3,6,1):\n",
        "    num_params = 2*nlayers\n",
        "\n",
        "    back_trace = []\n",
        "    def print_avg(xk):\n",
        "        eva = evaluate_parameters(nqubits, edges, xk,nlayers)\n",
        "        back_trace.append(eva)\n",
        "        print(eva, end=' ')\n",
        "\n",
        "    # TODO implement parameter init\n",
        "\n",
        "    beta=[k*T/(nlayers**2)for k in range(1,nlayers+1)] #Compute beta theoretical optimal values\n",
        "    \n",
        "    theta=[(T/nlayers)-(k/nlayers**2) for k in range(1,nlayers+1)] #Compute theta theoretical optimal values\n",
        "\n",
        "    parameters_init = []\n",
        "\n",
        "    for i in range(nlayers): #We add the parameters values to the parameters_init list\n",
        "        parameters_init.append(theta[i])\n",
        "        parameters_init.append(beta[i])\n",
        "\n",
        "    # END TODO        \n",
        "    opt_res = minimize(lambda x : evaluate_parameters(nqubits, edges, x, nlayers), \n",
        "                       parameters_init, \n",
        "                       callback=print_avg,)\n",
        "    \n",
        "    plt.plot(back_trace,label=str(nlayers))\n",
        "plt.axhline(0.878*best_value, color='b', label=\"classical apx ratio\")\n",
        "plt.axhline(best_value,color='r',label='optimal value')\n",
        "plt.legend()"
      ]
    }
  ],
  "metadata": {
    "kernelspec": {
      "display_name": "Python 3 (ipykernel)",
      "language": "python",
      "name": "python3"
    },
    "language_info": {
      "codemirror_mode": {
        "name": "ipython",
        "version": 3
      },
      "file_extension": ".py",
      "mimetype": "text/x-python",
      "name": "python",
      "nbconvert_exporter": "python",
      "pygments_lexer": "ipython3",
      "version": "3.10.6"
    },
    "colab": {
      "provenance": []
    }
  },
  "nbformat": 4,
  "nbformat_minor": 5
}