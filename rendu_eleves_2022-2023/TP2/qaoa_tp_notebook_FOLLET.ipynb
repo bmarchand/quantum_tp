{
  "cells": [
    {
      "cell_type": "markdown",
      "id": "bad09515",
      "metadata": {
        "id": "bad09515"
      },
      "source": [
        "## Part 1 implementing QAOA\n"
      ]
    },
    {
      "cell_type": "code",
      "source": [
        "!pip install myqlm"
      ],
      "metadata": {
        "id": "hOcyjm3KpaNC"
      },
      "id": "hOcyjm3KpaNC",
      "execution_count": null,
      "outputs": []
    },
    {
      "cell_type": "markdown",
      "id": "536219fc",
      "metadata": {
        "id": "536219fc"
      },
      "source": [
        "### Question1 :\n",
        "Write down in the cell below the Hamiltonian whose ground state is the solution to MaxCUT on an input graph $G=(V,E)$:"
      ]
    },
    {
      "cell_type": "markdown",
      "id": "fd36b562",
      "metadata": {
        "id": "fd36b562"
      },
      "source": [
        "$$ H = \\sum_{i,j\\in E} \\sigma_i \\cdot \\sigma_j $$"
      ]
    },
    {
      "cell_type": "markdown",
      "id": "b045f8b7",
      "metadata": {
        "id": "b045f8b7"
      },
      "source": [
        "### Question 2:\n",
        "Complete the implementation below of a simple, brute-force enumeration of all states computing the optimal solution to MaxCUT for the graph represented by 'edges'"
      ]
    },
    {
      "cell_type": "code",
      "execution_count": 3,
      "id": "7bc976fa",
      "metadata": {
        "colab": {
          "base_uri": "https://localhost:8080/"
        },
        "id": "7bc976fa",
        "outputId": "a4ecfd5a-884a-42e3-d4b9-bc0461bda8ae"
      },
      "outputs": [
        {
          "output_type": "stream",
          "name": "stdout",
          "text": [
            "-5\n",
            "[1, 0, 0, 1, 1]\n"
          ]
        }
      ],
      "source": [
        "import numpy as np\n",
        "\n",
        "graph1 = [(0,1),(0,2),(1,3),(2,3)]\n",
        "graph2 = [(0,1),(1,2),(0,3),(1,4),(2,5),(3,6),(4,7),(5,8),(3,4),(4,5),(6,7),(7,8)]\n",
        "graph3 = [(0,1),(1,2),(0,3),(1,4),(2,5),(3,6),(4,7),(3,4),(4,5),(6,7)]\n",
        "graph4 = [(0,1),(1,2),(2,3),(4,5),(5,6),(6,7),(0,4),(1,5),(2,6),(3,7)]\n",
        "graph5 = [(0,1),(0,2),(1,3),(2,4),(3,5),(4,5),(1,4)]\n",
        "graph6 = [(0,1),(0,2),(1,3),(2,4),(1,4)]\n",
        "\n",
        "\n",
        "# choice of graph\n",
        "edges = graph6\n",
        "\n",
        "nqubits = max([max(list(v)) for v in edges])+1\n",
        "\n",
        "#nqubits = 5\n",
        "graph7 = [(i,(i+1)%nqubits) for i in range(nqubits)]+[(1,4)]\n",
        "\n",
        "\n",
        "# COMPUTATION OF OPT.\n",
        "best_value = len(edges)\n",
        "best_b = 0\n",
        "for x in range(2**nqubits):\n",
        "    b = np.binary_repr(x, width=nqubits)\n",
        "    b = [int(b[i]) for i in range(nqubits)]\n",
        "    # TODO: Complete the computation below:\n",
        "    val = 0\n",
        "    for i,j in edges:\n",
        "      if b[i]==b[j]:\n",
        "        val = val + 1\n",
        "      else :\n",
        "        val = val - 1\n",
        "    # END TODO\n",
        "    if val <= best_value:\n",
        "        best_value = val\n",
        "        best_b = b\n",
        "print(best_value)\n",
        "print(best_b)"
      ]
    },
    {
      "cell_type": "markdown",
      "id": "4bed0ead",
      "metadata": {
        "id": "4bed0ead"
      },
      "source": [
        "#### visualization of the graph"
      ]
    },
    {
      "cell_type": "code",
      "execution_count": 4,
      "id": "11a7d2a7",
      "metadata": {
        "id": "11a7d2a7",
        "colab": {
          "base_uri": "https://localhost:8080/",
          "height": 248
        },
        "outputId": "18c2d105-2d5d-41fc-8278-f359d53db8a2"
      },
      "outputs": [
        {
          "output_type": "display_data",
          "data": {
            "text/plain": [
              "<Figure size 432x288 with 1 Axes>"
            ],
            "image/png": "[encoded data removed]"
          },
          "metadata": {}
        }
      ],
      "source": [
        "import networkx as nx\n",
        "G = nx.Graph()\n",
        "for i,j in edges:\n",
        "    G.add_edge(i,j)\n",
        "nx.draw_networkx(G)"
      ]
    },
    {
      "cell_type": "code",
      "execution_count": 5,
      "id": "1bcf8886",
      "metadata": {
        "id": "1bcf8886"
      },
      "outputs": [],
      "source": [
        "from qat.lang.AQASM import Program, H, CNOT, RX, QRoutine, RZ, X, Z"
      ]
    },
    {
      "cell_type": "code",
      "execution_count": 6,
      "id": "f125405c",
      "metadata": {
        "id": "f125405c"
      },
      "outputs": [],
      "source": [
        "def U_ZZ(theta):\n",
        "    \n",
        "    zz_r = QRoutine()\n",
        "    zz_r.apply(CNOT, 0, 1)\n",
        "    zz_r.apply(RZ(theta), 1) # difference of convention between implemented version and what we need.\n",
        "    zz_r.apply(CNOT, 0, 1)\n",
        "\n",
        "    return zz_r"
      ]
    },
    {
      "cell_type": "markdown",
      "id": "b87e91ed",
      "metadata": {
        "id": "b87e91ed"
      },
      "source": [
        "### Question 3"
      ]
    },
    {
      "cell_type": "code",
      "execution_count": 7,
      "id": "27954bb3",
      "metadata": {
        "id": "27954bb3"
      },
      "outputs": [],
      "source": [
        "def one_qaoa_layer(n_qubits, edges, theta, beta):\n",
        "\n",
        "    layer = QRoutine()\n",
        "    #TODO: implement one qaoa layer\n",
        "    for j in range(n_qubits):\n",
        "      layer.apply(RX(theta),j)\n",
        "    for k,l in edges:\n",
        "      layer.apply(U_ZZ(theta),k,l)\n",
        "    \n",
        "    return layer"
      ]
    },
    {
      "cell_type": "markdown",
      "id": "bd0c36a5",
      "metadata": {
        "id": "bd0c36a5"
      },
      "source": [
        "### Question 4"
      ]
    },
    {
      "cell_type": "code",
      "execution_count": 8,
      "id": "655a9aaa",
      "metadata": {
        "id": "655a9aaa"
      },
      "outputs": [],
      "source": [
        "from qat.qpus import get_default_qpu\n",
        "\n",
        "def evaluate_parameters(n_qubits, edges, parameters, n_layers):\n",
        "    \n",
        "    prog = Program()\n",
        "    qubits = prog.qalloc(n_qubits)\n",
        "    \n",
        "    # TODO: implement initialization+parameterized circuit\n",
        "    \n",
        "    for j in range(n_qubits):\n",
        "      prog.apply(H,qubits[j])\n",
        "    for j in range(n_layers):\n",
        "      prog.apply(one_qaoa_layer(n_qubits, edges, parameters[2*j], parameters[2*j+1]), qubits)  \n",
        "    # END TODO\n",
        "    circ = prog.to_circ()\n",
        "    \n",
        "    job = circ.to_job()\n",
        "    qpu = get_default_qpu()\n",
        "    \n",
        "    result = qpu.submit(job)\n",
        "    \n",
        "    # BEGIN TODO\n",
        "    obs = 0\n",
        "    for sample in result:\n",
        "        # this loop is over all 2**nqubits states.\n",
        "        cont = 0  #contribution\n",
        "        for k,l in edges:\n",
        "          if sample.state.bitstring[k] == sample.state.bitstring[l]:\n",
        "            cont = cont + 1\n",
        "          else :\n",
        "            cont = cont - 1\n",
        "          \n",
        "        # sample.state.bitstring contains the qubit values (nqubits 0 or 1)\n",
        "\n",
        "    # END TODO\n",
        "    return obs\n",
        "    \n",
        "        "
      ]
    },
    {
      "cell_type": "code",
      "execution_count": 9,
      "id": "88963901",
      "metadata": {
        "id": "88963901",
        "colab": {
          "base_uri": "https://localhost:8080/"
        },
        "outputId": "fad47494-c63e-474d-d276-2c7ba5724796"
      },
      "outputs": [
        {
          "output_type": "execute_result",
          "data": {
            "text/plain": [
              "array([0.62745455, 0.11029337, 0.46745423])"
            ]
          },
          "metadata": {},
          "execution_count": 9
        }
      ],
      "source": [
        "import numpy as np\n",
        "np.random.random(3)"
      ]
    },
    {
      "cell_type": "code",
      "execution_count": 10,
      "id": "42557843",
      "metadata": {
        "id": "42557843"
      },
      "outputs": [],
      "source": [
        "from scipy.optimize import minimize\n"
      ]
    },
    {
      "cell_type": "markdown",
      "id": "0846a6dd",
      "metadata": {
        "id": "0846a6dd"
      },
      "source": [
        "### Random initialisation"
      ]
    },
    {
      "cell_type": "markdown",
      "id": "f679d3e0",
      "metadata": {
        "id": "f679d3e0"
      },
      "source": [
        "### Question 5: \n",
        "réponse à la question:"
      ]
    },
    {
      "cell_type": "code",
      "source": [
        "print(best_value)"
      ],
      "metadata": {
        "colab": {
          "base_uri": "https://localhost:8080/"
        },
        "id": "1odjW_usNHzF",
        "outputId": "ba19386d-82ae-4c1d-c0b6-c0a201a0fc8d"
      },
      "id": "1odjW_usNHzF",
      "execution_count": 24,
      "outputs": [
        {
          "output_type": "stream",
          "name": "stdout",
          "text": [
            "-5\n"
          ]
        }
      ]
    },
    {
      "cell_type": "markdown",
      "source": [
        "Pour le graphe 6, huit couches de QAOA semblent donner la valeur optimale battant l'algorithme classique."
      ],
      "metadata": {
        "id": "mtFIZWAliGd7"
      },
      "id": "mtFIZWAliGd7"
    },
    {
      "cell_type": "code",
      "execution_count": 39,
      "id": "36f6e279",
      "metadata": {
        "id": "36f6e279",
        "colab": {
          "base_uri": "https://localhost:8080/",
          "height": 1000
        },
        "outputId": "3e762c46-7c85-4d65-f64e-7741ef40e3c7"
      },
      "outputs": [
        {
          "output_type": "stream",
          "name": "stdout",
          "text": [
            "      fun: 0\n",
            " hess_inv: array([[1, 0, 0, 0, 0, 0, 0, 0, 0, 0, 0, 0],\n",
            "       [0, 1, 0, 0, 0, 0, 0, 0, 0, 0, 0, 0],\n",
            "       [0, 0, 1, 0, 0, 0, 0, 0, 0, 0, 0, 0],\n",
            "       [0, 0, 0, 1, 0, 0, 0, 0, 0, 0, 0, 0],\n",
            "       [0, 0, 0, 0, 1, 0, 0, 0, 0, 0, 0, 0],\n",
            "       [0, 0, 0, 0, 0, 1, 0, 0, 0, 0, 0, 0],\n",
            "       [0, 0, 0, 0, 0, 0, 1, 0, 0, 0, 0, 0],\n",
            "       [0, 0, 0, 0, 0, 0, 0, 1, 0, 0, 0, 0],\n",
            "       [0, 0, 0, 0, 0, 0, 0, 0, 1, 0, 0, 0],\n",
            "       [0, 0, 0, 0, 0, 0, 0, 0, 0, 1, 0, 0],\n",
            "       [0, 0, 0, 0, 0, 0, 0, 0, 0, 0, 1, 0],\n",
            "       [0, 0, 0, 0, 0, 0, 0, 0, 0, 0, 0, 1]])\n",
            "      jac: array([0., 0., 0., 0., 0., 0., 0., 0., 0., 0., 0., 0.])\n",
            "  message: 'Optimization terminated successfully.'\n",
            "     nfev: 13\n",
            "      nit: 0\n",
            "     njev: 1\n",
            "   status: 0\n",
            "  success: True\n",
            "        x: array([0.0967059 , 0.48354692, 0.37628511, 0.95962719, 0.22864556,\n",
            "       0.83748712, 0.60958678, 0.13353671, 0.89879111, 0.43799699,\n",
            "       0.58012964, 0.99831037])\n",
            "      fun: 0\n",
            " hess_inv: array([[1, 0, 0, 0, 0, 0, 0, 0, 0, 0, 0, 0, 0, 0],\n",
            "       [0, 1, 0, 0, 0, 0, 0, 0, 0, 0, 0, 0, 0, 0],\n",
            "       [0, 0, 1, 0, 0, 0, 0, 0, 0, 0, 0, 0, 0, 0],\n",
            "       [0, 0, 0, 1, 0, 0, 0, 0, 0, 0, 0, 0, 0, 0],\n",
            "       [0, 0, 0, 0, 1, 0, 0, 0, 0, 0, 0, 0, 0, 0],\n",
            "       [0, 0, 0, 0, 0, 1, 0, 0, 0, 0, 0, 0, 0, 0],\n",
            "       [0, 0, 0, 0, 0, 0, 1, 0, 0, 0, 0, 0, 0, 0],\n",
            "       [0, 0, 0, 0, 0, 0, 0, 1, 0, 0, 0, 0, 0, 0],\n",
            "       [0, 0, 0, 0, 0, 0, 0, 0, 1, 0, 0, 0, 0, 0],\n",
            "       [0, 0, 0, 0, 0, 0, 0, 0, 0, 1, 0, 0, 0, 0],\n",
            "       [0, 0, 0, 0, 0, 0, 0, 0, 0, 0, 1, 0, 0, 0],\n",
            "       [0, 0, 0, 0, 0, 0, 0, 0, 0, 0, 0, 1, 0, 0],\n",
            "       [0, 0, 0, 0, 0, 0, 0, 0, 0, 0, 0, 0, 1, 0],\n",
            "       [0, 0, 0, 0, 0, 0, 0, 0, 0, 0, 0, 0, 0, 1]])\n",
            "      jac: array([0., 0., 0., 0., 0., 0., 0., 0., 0., 0., 0., 0., 0., 0.])\n",
            "  message: 'Optimization terminated successfully.'\n",
            "     nfev: 15\n",
            "      nit: 0\n",
            "     njev: 1\n",
            "   status: 0\n",
            "  success: True\n",
            "        x: array([0.22069437, 0.79187544, 0.93833205, 0.91629715, 0.77808205,\n",
            "       0.85847629, 0.61350361, 0.30107871, 0.02775521, 0.20118421,\n",
            "       0.27444446, 0.5497308 , 0.94566434, 0.47922192])\n",
            "      fun: 0\n",
            " hess_inv: array([[1, 0, 0, 0, 0, 0, 0, 0, 0, 0, 0, 0, 0, 0, 0, 0],\n",
            "       [0, 1, 0, 0, 0, 0, 0, 0, 0, 0, 0, 0, 0, 0, 0, 0],\n",
            "       [0, 0, 1, 0, 0, 0, 0, 0, 0, 0, 0, 0, 0, 0, 0, 0],\n",
            "       [0, 0, 0, 1, 0, 0, 0, 0, 0, 0, 0, 0, 0, 0, 0, 0],\n",
            "       [0, 0, 0, 0, 1, 0, 0, 0, 0, 0, 0, 0, 0, 0, 0, 0],\n",
            "       [0, 0, 0, 0, 0, 1, 0, 0, 0, 0, 0, 0, 0, 0, 0, 0],\n",
            "       [0, 0, 0, 0, 0, 0, 1, 0, 0, 0, 0, 0, 0, 0, 0, 0],\n",
            "       [0, 0, 0, 0, 0, 0, 0, 1, 0, 0, 0, 0, 0, 0, 0, 0],\n",
            "       [0, 0, 0, 0, 0, 0, 0, 0, 1, 0, 0, 0, 0, 0, 0, 0],\n",
            "       [0, 0, 0, 0, 0, 0, 0, 0, 0, 1, 0, 0, 0, 0, 0, 0],\n",
            "       [0, 0, 0, 0, 0, 0, 0, 0, 0, 0, 1, 0, 0, 0, 0, 0],\n",
            "       [0, 0, 0, 0, 0, 0, 0, 0, 0, 0, 0, 1, 0, 0, 0, 0],\n",
            "       [0, 0, 0, 0, 0, 0, 0, 0, 0, 0, 0, 0, 1, 0, 0, 0],\n",
            "       [0, 0, 0, 0, 0, 0, 0, 0, 0, 0, 0, 0, 0, 1, 0, 0],\n",
            "       [0, 0, 0, 0, 0, 0, 0, 0, 0, 0, 0, 0, 0, 0, 1, 0],\n",
            "       [0, 0, 0, 0, 0, 0, 0, 0, 0, 0, 0, 0, 0, 0, 0, 1]])\n",
            "      jac: array([0., 0., 0., 0., 0., 0., 0., 0., 0., 0., 0., 0., 0., 0., 0., 0.])\n",
            "  message: 'Optimization terminated successfully.'\n",
            "     nfev: 17\n",
            "      nit: 0\n",
            "     njev: 1\n",
            "   status: 0\n",
            "  success: True\n",
            "        x: array([0.02591907, 0.86254046, 0.18796248, 0.8031438 , 0.41285527,\n",
            "       0.90125265, 0.11362378, 0.33177073, 0.54549533, 0.8910057 ,\n",
            "       0.79793807, 0.9949312 , 0.16879777, 0.3739367 , 0.16803223,\n",
            "       0.81859027])\n",
            "      fun: 0\n",
            " hess_inv: array([[1, 0, 0, 0, 0, 0, 0, 0, 0, 0, 0, 0, 0, 0, 0, 0, 0, 0],\n",
            "       [0, 1, 0, 0, 0, 0, 0, 0, 0, 0, 0, 0, 0, 0, 0, 0, 0, 0],\n",
            "       [0, 0, 1, 0, 0, 0, 0, 0, 0, 0, 0, 0, 0, 0, 0, 0, 0, 0],\n",
            "       [0, 0, 0, 1, 0, 0, 0, 0, 0, 0, 0, 0, 0, 0, 0, 0, 0, 0],\n",
            "       [0, 0, 0, 0, 1, 0, 0, 0, 0, 0, 0, 0, 0, 0, 0, 0, 0, 0],\n",
            "       [0, 0, 0, 0, 0, 1, 0, 0, 0, 0, 0, 0, 0, 0, 0, 0, 0, 0],\n",
            "       [0, 0, 0, 0, 0, 0, 1, 0, 0, 0, 0, 0, 0, 0, 0, 0, 0, 0],\n",
            "       [0, 0, 0, 0, 0, 0, 0, 1, 0, 0, 0, 0, 0, 0, 0, 0, 0, 0],\n",
            "       [0, 0, 0, 0, 0, 0, 0, 0, 1, 0, 0, 0, 0, 0, 0, 0, 0, 0],\n",
            "       [0, 0, 0, 0, 0, 0, 0, 0, 0, 1, 0, 0, 0, 0, 0, 0, 0, 0],\n",
            "       [0, 0, 0, 0, 0, 0, 0, 0, 0, 0, 1, 0, 0, 0, 0, 0, 0, 0],\n",
            "       [0, 0, 0, 0, 0, 0, 0, 0, 0, 0, 0, 1, 0, 0, 0, 0, 0, 0],\n",
            "       [0, 0, 0, 0, 0, 0, 0, 0, 0, 0, 0, 0, 1, 0, 0, 0, 0, 0],\n",
            "       [0, 0, 0, 0, 0, 0, 0, 0, 0, 0, 0, 0, 0, 1, 0, 0, 0, 0],\n",
            "       [0, 0, 0, 0, 0, 0, 0, 0, 0, 0, 0, 0, 0, 0, 1, 0, 0, 0],\n",
            "       [0, 0, 0, 0, 0, 0, 0, 0, 0, 0, 0, 0, 0, 0, 0, 1, 0, 0],\n",
            "       [0, 0, 0, 0, 0, 0, 0, 0, 0, 0, 0, 0, 0, 0, 0, 0, 1, 0],\n",
            "       [0, 0, 0, 0, 0, 0, 0, 0, 0, 0, 0, 0, 0, 0, 0, 0, 0, 1]])\n",
            "      jac: array([0., 0., 0., 0., 0., 0., 0., 0., 0., 0., 0., 0., 0., 0., 0., 0., 0.,\n",
            "       0.])\n",
            "  message: 'Optimization terminated successfully.'\n",
            "     nfev: 19\n",
            "      nit: 0\n",
            "     njev: 1\n",
            "   status: 0\n",
            "  success: True\n",
            "        x: array([0.3624451 , 0.74181588, 0.31698144, 0.85210454, 0.12939774,\n",
            "       0.17971902, 0.43753391, 0.59919569, 0.25373268, 0.10782565,\n",
            "       0.67254587, 0.30154003, 0.5043125 , 0.81671044, 0.95783727,\n",
            "       0.97285247, 0.34991995, 0.18090967])\n",
            "      fun: 0\n",
            " hess_inv: array([[1, 0, 0, 0, 0, 0, 0, 0, 0, 0, 0, 0, 0, 0, 0, 0, 0, 0, 0, 0],\n",
            "       [0, 1, 0, 0, 0, 0, 0, 0, 0, 0, 0, 0, 0, 0, 0, 0, 0, 0, 0, 0],\n",
            "       [0, 0, 1, 0, 0, 0, 0, 0, 0, 0, 0, 0, 0, 0, 0, 0, 0, 0, 0, 0],\n",
            "       [0, 0, 0, 1, 0, 0, 0, 0, 0, 0, 0, 0, 0, 0, 0, 0, 0, 0, 0, 0],\n",
            "       [0, 0, 0, 0, 1, 0, 0, 0, 0, 0, 0, 0, 0, 0, 0, 0, 0, 0, 0, 0],\n",
            "       [0, 0, 0, 0, 0, 1, 0, 0, 0, 0, 0, 0, 0, 0, 0, 0, 0, 0, 0, 0],\n",
            "       [0, 0, 0, 0, 0, 0, 1, 0, 0, 0, 0, 0, 0, 0, 0, 0, 0, 0, 0, 0],\n",
            "       [0, 0, 0, 0, 0, 0, 0, 1, 0, 0, 0, 0, 0, 0, 0, 0, 0, 0, 0, 0],\n",
            "       [0, 0, 0, 0, 0, 0, 0, 0, 1, 0, 0, 0, 0, 0, 0, 0, 0, 0, 0, 0],\n",
            "       [0, 0, 0, 0, 0, 0, 0, 0, 0, 1, 0, 0, 0, 0, 0, 0, 0, 0, 0, 0],\n",
            "       [0, 0, 0, 0, 0, 0, 0, 0, 0, 0, 1, 0, 0, 0, 0, 0, 0, 0, 0, 0],\n",
            "       [0, 0, 0, 0, 0, 0, 0, 0, 0, 0, 0, 1, 0, 0, 0, 0, 0, 0, 0, 0],\n",
            "       [0, 0, 0, 0, 0, 0, 0, 0, 0, 0, 0, 0, 1, 0, 0, 0, 0, 0, 0, 0],\n",
            "       [0, 0, 0, 0, 0, 0, 0, 0, 0, 0, 0, 0, 0, 1, 0, 0, 0, 0, 0, 0],\n",
            "       [0, 0, 0, 0, 0, 0, 0, 0, 0, 0, 0, 0, 0, 0, 1, 0, 0, 0, 0, 0],\n",
            "       [0, 0, 0, 0, 0, 0, 0, 0, 0, 0, 0, 0, 0, 0, 0, 1, 0, 0, 0, 0],\n",
            "       [0, 0, 0, 0, 0, 0, 0, 0, 0, 0, 0, 0, 0, 0, 0, 0, 1, 0, 0, 0],\n",
            "       [0, 0, 0, 0, 0, 0, 0, 0, 0, 0, 0, 0, 0, 0, 0, 0, 0, 1, 0, 0],\n",
            "       [0, 0, 0, 0, 0, 0, 0, 0, 0, 0, 0, 0, 0, 0, 0, 0, 0, 0, 1, 0],\n",
            "       [0, 0, 0, 0, 0, 0, 0, 0, 0, 0, 0, 0, 0, 0, 0, 0, 0, 0, 0, 1]])\n",
            "      jac: array([0., 0., 0., 0., 0., 0., 0., 0., 0., 0., 0., 0., 0., 0., 0., 0., 0.,\n",
            "       0., 0., 0.])\n",
            "  message: 'Optimization terminated successfully.'\n",
            "     nfev: 21\n",
            "      nit: 0\n",
            "     njev: 1\n",
            "   status: 0\n",
            "  success: True\n",
            "        x: array([0.33502718, 0.68034846, 0.05291332, 0.41799254, 0.62916669,\n",
            "       0.95566446, 0.9137691 , 0.69107694, 0.69062592, 0.11117035,\n",
            "       0.51055485, 0.65745708, 0.2352729 , 0.93131501, 0.92815279,\n",
            "       0.11798737, 0.30528748, 0.83579749, 0.63402577, 0.33499397])\n"
          ]
        },
        {
          "output_type": "execute_result",
          "data": {
            "text/plain": [
              "<matplotlib.legend.Legend at 0x7f1d8c1edf10>"
            ]
          },
          "metadata": {},
          "execution_count": 39
        },
        {
          "output_type": "display_data",
          "data": {
            "text/plain": [
              "<Figure size 432x288 with 1 Axes>"
            ],
            "image/png": "[encoded data removed]"
          },
          "metadata": {
            "needs_background": "light"
          }
        }
      ],
      "source": [
        "import matplotlib.pylab as plt\n",
        "\n",
        "plt.figure()\n",
        "\n",
        "for nlayers in range(6,11,1):\n",
        "    num_params = 2*nlayers\n",
        "\n",
        "    back_trace = []\n",
        "    def print_avg(xk):\n",
        "        eva = evaluate_parameters(nqubits, edges, xk,nlayers)\n",
        "        back_trace.append(eva)\n",
        "        print(eva, end=' ')\n",
        "\n",
        "    opt_res = minimize(lambda x : evaluate_parameters(nqubits, edges, x, nlayers), \n",
        "                       np.random.random(num_params),\n",
        "                       callback=print_avg,)\n",
        "    print(opt_res)\n",
        "    plt.plot(back_trace,label=str(nlayers))\n",
        "# there exists a classical polynomial algorithm returning solutions within a factor of 0.878 of the optimal\n",
        "# we must at least beat that. https://fr.wikipedia.org/wiki/Coupe_maximum\n",
        "plt.axhline(0.878*best_value, color='b', label=\"classical apx ratio\")\n",
        "plt.axhline(best_value,color='r',label='optimal value')\n",
        "plt.legend()"
      ]
    },
    {
      "cell_type": "markdown",
      "id": "e9dffce1",
      "metadata": {
        "id": "e9dffce1"
      },
      "source": [
        "### Question 6: smart initialization"
      ]
    },
    {
      "cell_type": "code",
      "execution_count": 38,
      "id": "d1eb83de",
      "metadata": {
        "id": "d1eb83de",
        "colab": {
          "base_uri": "https://localhost:8080/",
          "height": 334
        },
        "outputId": "bf457563-4108-4f25-c49a-6392b0b39fe7"
      },
      "outputs": [
        {
          "output_type": "stream",
          "name": "stdout",
          "text": [
            "3\n",
            "4\n",
            "5\n"
          ]
        },
        {
          "output_type": "execute_result",
          "data": {
            "text/plain": [
              "<matplotlib.legend.Legend at 0x7f1d8cf36550>"
            ]
          },
          "metadata": {},
          "execution_count": 38
        },
        {
          "output_type": "display_data",
          "data": {
            "text/plain": [
              "<Figure size 432x288 with 1 Axes>"
            ],
            "image/png": "[encoded data removed]"
          },
          "metadata": {
            "needs_background": "light"
          }
        }
      ],
      "source": [
        "T = 1.\n",
        "\n",
        "for nlayers in range(3,6,1):\n",
        "    num_params = 2*nlayers\n",
        "\n",
        "    back_trace = []\n",
        "    def print_avg(xk):\n",
        "        eva = evaluate_parameters(nqubits, edges, xk,nlayers)\n",
        "        back_trace.append(eva)\n",
        "        print(eva, end=' ')\n",
        "\n",
        "    # TODO implement parameter init\n",
        "    parameters_init = []\n",
        "    for j in range(nlayers):\n",
        "      beta = (j+1)*T/(nlayers*nlayers)\n",
        "      theta = (1-(j+1))*T/(nlayers*nlayers)\n",
        "      parameters_init.append(theta)\n",
        "      parameters_init.append(beta)\n",
        "\n",
        "    # END TODO        \n",
        "    opt_res = minimize(lambda x : evaluate_parameters(nqubits, edges, x, nlayers), \n",
        "                       parameters_init, \n",
        "                       callback=print_avg,)\n",
        "    \n",
        "    plt.plot(back_trace, label = str(nlayers))\n",
        "plt.axhline(0.878*best_value, color='b', label=\"classical apx ratio\")\n",
        "plt.axhline(best_value,color='r',label='optimal value')\n",
        "plt.legend()"
      ]
    },
    {
      "cell_type": "markdown",
      "source": [
        "En utilisant des paramètres d'initialisation judicieusement choisis (ou du moins non aléatoires), on obtient une convergence bien plus rapide."
      ],
      "metadata": {
        "id": "gFtkqDIkioc8"
      },
      "id": "gFtkqDIkioc8"
    }
  ],
  "metadata": {
    "kernelspec": {
      "display_name": "Python 3 (ipykernel)",
      "language": "python",
      "name": "python3"
    },
    "language_info": {
      "codemirror_mode": {
        "name": "ipython",
        "version": 3
      },
      "file_extension": ".py",
      "mimetype": "text/x-python",
      "name": "python",
      "nbconvert_exporter": "python",
      "pygments_lexer": "ipython3",
      "version": "3.10.6"
    },
    "colab": {
      "provenance": []
    }
  },
  "nbformat": 4,
  "nbformat_minor": 5
}