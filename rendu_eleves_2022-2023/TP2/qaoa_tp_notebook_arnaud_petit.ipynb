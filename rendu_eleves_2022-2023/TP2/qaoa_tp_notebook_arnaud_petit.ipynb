{
  "cells": [
    {
      "cell_type": "markdown",
      "id": "bad09515",
      "metadata": {
        "id": "bad09515"
      },
      "source": [
        "## Part 1 implementing QAOA\n"
      ]
    },
    {
      "cell_type": "markdown",
      "id": "536219fc",
      "metadata": {
        "id": "536219fc"
      },
      "source": [
        "### Question1 :\n",
        "Write down in the cell below the Hamiltonian whose ground state is the solution to MaxCUT on an input graph $G=(V,E)$:"
      ]
    },
    {
      "cell_type": "markdown",
      "id": "fd36b562",
      "metadata": {
        "id": "fd36b562"
      },
      "source": [
        "$$ H = \\sum_{i,j\\in E} \\sigma_i \\cdot \\sigma_j $$"
      ]
    },
    {
      "cell_type": "markdown",
      "id": "b045f8b7",
      "metadata": {
        "id": "b045f8b7"
      },
      "source": [
        "### Question 2:\n",
        "Complete the implementation below of a simple, brute-force enumeration of all states computing the optimal solution to MaxCUT for the graph represented by 'edges'"
      ]
    },
    {
      "cell_type": "code",
      "execution_count": 1,
      "id": "7bc976fa",
      "metadata": {
        "colab": {
          "base_uri": "https://localhost:8080/"
        },
        "id": "7bc976fa",
        "outputId": "133476b0-9152-4659-dae2-0046a001d7b2"
      },
      "outputs": [
        {
          "output_type": "stream",
          "name": "stdout",
          "text": [
            "-5\n",
            "[1, 0, 0, 1, 1]\n"
          ]
        }
      ],
      "source": [
        "import numpy as np\n",
        "\n",
        "graph1 = [(0,1),(0,2),(1,3),(2,3)]\n",
        "graph2 = [(0,1),(1,2),(0,3),(1,4),(2,5),(3,6),(4,7),(5,8),(3,4),(4,5),(6,7),(7,8)]\n",
        "graph3 = [(0,1),(1,2),(0,3),(1,4),(2,5),(3,6),(4,7),(3,4),(4,5),(6,7)]\n",
        "graph4 = [(0,1),(1,2),(2,3),(4,5),(5,6),(6,7),(0,4),(1,5),(2,6),(3,7)]\n",
        "graph5 = [(0,1),(0,2),(1,3),(2,4),(3,5),(4,5),(1,4)]\n",
        "graph6 = [(0,1),(0,2),(1,3),(2,4),(1,4)]\n",
        "\n",
        "\n",
        "# choice of graph\n",
        "edges = graph6\n",
        "\n",
        "nqubits = max([max(list(v)) for v in edges])+1\n",
        "\n",
        "#nqubits = 5\n",
        "graph7 = [(i,(i+1)%nqubits) for i in range(nqubits)]+[(1,4)]\n",
        "\n",
        "\n",
        "# COMPUTATION OF OPT.\n",
        "best_value = len(edges)\n",
        "best_b = 0\n",
        "for x in range(2**nqubits):\n",
        "    b = np.binary_repr(x, width=nqubits)\n",
        "    b = [int(b[i]) for i in range(nqubits)]\n",
        "    val = sum(((1-2*int(b[k]))*(1-2*int(b[l])) for k,l in edges))\n",
        "    # END TODO\n",
        "    if val <= best_value:\n",
        "        best_value = val\n",
        "        best_b = b\n",
        "print(best_value)\n",
        "print(best_b)"
      ]
    },
    {
      "cell_type": "markdown",
      "id": "4bed0ead",
      "metadata": {
        "id": "4bed0ead"
      },
      "source": [
        "#### visualization of the graph"
      ]
    },
    {
      "cell_type": "code",
      "execution_count": 2,
      "id": "11a7d2a7",
      "metadata": {
        "colab": {
          "base_uri": "https://localhost:8080/",
          "height": 248
        },
        "id": "11a7d2a7",
        "outputId": "5c464334-9e0d-440a-b56d-06b4b42bdee8"
      },
      "outputs": [
        {
          "output_type": "display_data",
          "data": {
            "text/plain": [
              "<Figure size 432x288 with 1 Axes>"
            ],
            "image/png": "[encoded data removed]"
          },
          "metadata": {}
        }
      ],
      "source": [
        "import networkx as nx\n",
        "G = nx.Graph()\n",
        "for i,j in edges:\n",
        "    G.add_edge(i,j)\n",
        "nx.draw_networkx(G)"
      ]
    },
    {
      "cell_type": "code",
      "execution_count": 3,
      "id": "1bcf8886",
      "metadata": {
        "colab": {
          "base_uri": "https://localhost:8080/"
        },
        "id": "1bcf8886",
        "outputId": "3b890497-dddc-4039-da3a-2a4bf516c873"
      },
      "outputs": [
        {
          "output_type": "stream",
          "name": "stdout",
          "text": [
            "Looking in indexes: https://pypi.org/simple, https://us-python.pkg.dev/colab-wheels/public/simple/\n",
            "Collecting wand\n",
            "  Downloading Wand-0.6.11-py2.py3-none-any.whl (143 kB)\n",
            "\u001b[2K     \u001b[90m━━━━━━━━━━━━━━━━━━━━━━━━━━━━━━━━━━━━━━━\u001b[0m \u001b[32m143.6/143.6 KB\u001b[0m \u001b[31m5.8 MB/s\u001b[0m eta \u001b[36m0:00:00\u001b[0m\n",
            "\u001b[?25hInstalling collected packages: wand\n",
            "Successfully installed wand-0.6.11\n",
            "Reading package lists... Done\n",
            "Building dependency tree       \n",
            "Reading state information... Done\n",
            "The following additional packages will be installed:\n",
            "  fonts-droid-fallback fonts-noto-mono fonts-urw-base35 ghostscript gsfonts\n",
            "  imagemagick-6-common imagemagick-6.q16 libdjvulibre-text libdjvulibre21\n",
            "  libgs9 libgs9-common libidn11 libijs-0.35 libjbig2dec0 liblqr-1-0\n",
            "  libmagickcore-6.q16-6 libmagickcore-6.q16-6-extra libmagickwand-6.q16-6\n",
            "  libnetpbm10 libwmf0.2-7 netpbm poppler-data\n",
            "Suggested packages:\n",
            "  fonts-noto fonts-freefont-otf | fonts-freefont-ttf fonts-texgyre\n",
            "  ghostscript-x imagemagick-doc autotrace cups-bsd | lpr | lprng enscript gimp\n",
            "  gnuplot grads hp2xx html2ps libwmf-bin mplayer povray radiance sane-utils\n",
            "  texlive-base-bin transfig ufraw-batch inkscape libjxr-tools libwmf0.2-7-gtk\n",
            "  poppler-utils fonts-japanese-mincho | fonts-ipafont-mincho\n",
            "  fonts-japanese-gothic | fonts-ipafont-gothic fonts-arphic-ukai\n",
            "  fonts-arphic-uming fonts-nanum\n",
            "The following NEW packages will be installed:\n",
            "  fonts-droid-fallback fonts-noto-mono fonts-urw-base35 ghostscript gsfonts\n",
            "  imagemagick imagemagick-6-common imagemagick-6.q16 libdjvulibre-text\n",
            "  libdjvulibre21 libgs9 libgs9-common libidn11 libijs-0.35 libjbig2dec0\n",
            "  liblqr-1-0 libmagickcore-6.q16-6 libmagickcore-6.q16-6-extra\n",
            "  libmagickwand-6.q16-6 libnetpbm10 libwmf0.2-7 netpbm poppler-data\n",
            "0 upgraded, 23 newly installed, 0 to remove and 19 not upgraded.\n",
            "Need to get 20.2 MB of archives.\n",
            "After this operation, 73.9 MB of additional disk space will be used.\n",
            "Get:1 http://archive.ubuntu.com/ubuntu focal/main amd64 fonts-droid-fallback all 1:6.0.1r16-1.1 [1,805 kB]\n",
            "Get:2 http://archive.ubuntu.com/ubuntu focal/universe amd64 liblqr-1-0 amd64 0.4.2-2.1 [27.7 kB]\n",
            "Ign:3 http://archive.ubuntu.com/ubuntu focal-updates/universe amd64 imagemagick-6-common all 8:6.9.10.23+dfsg-2.1ubuntu11.4\n",
            "Ign:4 http://archive.ubuntu.com/ubuntu focal-updates/universe amd64 libmagickcore-6.q16-6 amd64 8:6.9.10.23+dfsg-2.1ubuntu11.4\n",
            "Ign:5 http://archive.ubuntu.com/ubuntu focal-updates/universe amd64 libmagickwand-6.q16-6 amd64 8:6.9.10.23+dfsg-2.1ubuntu11.4\n",
            "Err:3 http://security.ubuntu.com/ubuntu focal-updates/universe amd64 imagemagick-6-common all 8:6.9.10.23+dfsg-2.1ubuntu11.4\n",
            "  404  Not Found [IP: 91.189.91.38 80]\n",
            "Err:4 http://security.ubuntu.com/ubuntu focal-updates/universe amd64 libmagickcore-6.q16-6 amd64 8:6.9.10.23+dfsg-2.1ubuntu11.4\n",
            "  404  Not Found [IP: 91.189.91.38 80]\n",
            "Err:5 http://security.ubuntu.com/ubuntu focal-updates/universe amd64 libmagickwand-6.q16-6 amd64 8:6.9.10.23+dfsg-2.1ubuntu11.4\n",
            "  404  Not Found [IP: 91.189.91.38 80]\n",
            "Get:6 http://archive.ubuntu.com/ubuntu focal/main amd64 poppler-data all 0.4.9-2 [1,475 kB]\n",
            "Get:7 http://archive.ubuntu.com/ubuntu focal-updates/main amd64 fonts-noto-mono all 20200323-1build1~ubuntu20.04.1 [80.6 kB]\n",
            "Get:8 http://archive.ubuntu.com/ubuntu focal/main amd64 fonts-urw-base35 all 20170801.1-3 [6,333 kB]\n",
            "Get:9 http://archive.ubuntu.com/ubuntu focal-updates/main amd64 libgs9-common all 9.50~dfsg-5ubuntu4.6 [681 kB]\n",
            "Get:10 http://archive.ubuntu.com/ubuntu focal/main amd64 libidn11 amd64 1.33-2.2ubuntu2 [46.2 kB]\n",
            "Get:11 http://archive.ubuntu.com/ubuntu focal/main amd64 libijs-0.35 amd64 0.35-15 [15.7 kB]\n",
            "Get:12 http://archive.ubuntu.com/ubuntu focal/main amd64 libjbig2dec0 amd64 0.18-1ubuntu1 [60.0 kB]\n",
            "Get:13 http://archive.ubuntu.com/ubuntu focal-updates/main amd64 libgs9 amd64 9.50~dfsg-5ubuntu4.6 [2,173 kB]\n",
            "Get:14 http://archive.ubuntu.com/ubuntu focal-updates/main amd64 ghostscript amd64 9.50~dfsg-5ubuntu4.6 [51.8 kB]\n",
            "Get:15 http://archive.ubuntu.com/ubuntu focal/universe amd64 gsfonts all 1:8.11+urwcyr1.0.7~pre44-4.4 [3,120 kB]\n",
            "Ign:16 http://archive.ubuntu.com/ubuntu focal-updates/universe amd64 imagemagick-6.q16 amd64 8:6.9.10.23+dfsg-2.1ubuntu11.4\n",
            "Ign:17 http://archive.ubuntu.com/ubuntu focal-updates/universe amd64 imagemagick amd64 8:6.9.10.23+dfsg-2.1ubuntu11.4\n",
            "Get:18 http://archive.ubuntu.com/ubuntu focal-updates/main amd64 libdjvulibre-text all 3.5.27.1-14ubuntu0.1 [49.2 kB]\n",
            "Get:19 http://archive.ubuntu.com/ubuntu focal-updates/main amd64 libdjvulibre21 amd64 3.5.27.1-14ubuntu0.1 [578 kB]\n",
            "Get:20 http://archive.ubuntu.com/ubuntu focal/main amd64 libwmf0.2-7 amd64 0.2.8.4-17ubuntu1 [149 kB]\n",
            "Ign:21 http://archive.ubuntu.com/ubuntu focal-updates/universe amd64 libmagickcore-6.q16-6-extra amd64 8:6.9.10.23+dfsg-2.1ubuntu11.4\n",
            "Get:22 http://archive.ubuntu.com/ubuntu focal/universe amd64 libnetpbm10 amd64 2:10.0-15.3build1 [58.0 kB]\n",
            "Get:23 http://archive.ubuntu.com/ubuntu focal/universe amd64 netpbm amd64 2:10.0-15.3build1 [1,017 kB]\n",
            "Err:16 http://security.ubuntu.com/ubuntu focal-updates/universe amd64 imagemagick-6.q16 amd64 8:6.9.10.23+dfsg-2.1ubuntu11.4\n",
            "  404  Not Found [IP: 91.189.91.38 80]\n",
            "Err:17 http://security.ubuntu.com/ubuntu focal-updates/universe amd64 imagemagick amd64 8:6.9.10.23+dfsg-2.1ubuntu11.4\n",
            "  404  Not Found [IP: 91.189.91.38 80]\n",
            "Err:21 http://security.ubuntu.com/ubuntu focal-updates/universe amd64 libmagickcore-6.q16-6-extra amd64 8:6.9.10.23+dfsg-2.1ubuntu11.4\n",
            "  404  Not Found [IP: 91.189.91.38 80]\n",
            "Fetched 17.7 MB in 7s (2,577 kB/s)\n",
            "\u001b[1;31mE: \u001b[0mFailed to fetch http://security.ubuntu.com/ubuntu/pool/universe/i/imagemagick/imagemagick-6-common_6.9.10.23+dfsg-2.1ubuntu11.4_all.deb  404  Not Found [IP: 91.189.91.38 80]\u001b[0m\n",
            "\u001b[1;31mE: \u001b[0mFailed to fetch http://security.ubuntu.com/ubuntu/pool/universe/i/imagemagick/libmagickcore-6.q16-6_6.9.10.23+dfsg-2.1ubuntu11.4_amd64.deb  404  Not Found [IP: 91.189.91.38 80]\u001b[0m\n",
            "\u001b[1;31mE: \u001b[0mFailed to fetch http://security.ubuntu.com/ubuntu/pool/universe/i/imagemagick/libmagickwand-6.q16-6_6.9.10.23+dfsg-2.1ubuntu11.4_amd64.deb  404  Not Found [IP: 91.189.91.38 80]\u001b[0m\n",
            "\u001b[1;31mE: \u001b[0mFailed to fetch http://security.ubuntu.com/ubuntu/pool/universe/i/imagemagick/imagemagick-6.q16_6.9.10.23+dfsg-2.1ubuntu11.4_amd64.deb  404  Not Found [IP: 91.189.91.38 80]\u001b[0m\n",
            "\u001b[1;31mE: \u001b[0mFailed to fetch http://security.ubuntu.com/ubuntu/pool/universe/i/imagemagick/imagemagick_6.9.10.23+dfsg-2.1ubuntu11.4_amd64.deb  404  Not Found [IP: 91.189.91.38 80]\u001b[0m\n",
            "\u001b[1;31mE: \u001b[0mFailed to fetch http://security.ubuntu.com/ubuntu/pool/universe/i/imagemagick/libmagickcore-6.q16-6-extra_6.9.10.23+dfsg-2.1ubuntu11.4_amd64.deb  404  Not Found [IP: 91.189.91.38 80]\u001b[0m\n",
            "\u001b[1;31mE: \u001b[0mUnable to fetch some archives, maybe run apt-get update or try with --fix-missing?\u001b[0m\n",
            "Looking in indexes: https://pypi.org/simple, https://us-python.pkg.dev/colab-wheels/public/simple/\n",
            "Collecting myqlm\n",
            "  Downloading myqlm-1.7.3-py3-none-any.whl (2.0 kB)\n",
            "Collecting qat-devices>=0.2.0\n",
            "  Downloading qat_devices-0.2.0-cp38-cp38-manylinux1_x86_64.whl (252 kB)\n",
            "\u001b[2K     \u001b[90m━━━━━━━━━━━━━━━━━━━━━━━━━━━━━━━━━━━━━━\u001b[0m \u001b[32m252.7/252.7 KB\u001b[0m \u001b[31m12.0 MB/s\u001b[0m eta \u001b[36m0:00:00\u001b[0m\n",
            "\u001b[?25hCollecting qat-core>=1.6.4\n",
            "  Downloading qat_core-1.6.4-cp38-cp38-manylinux1_x86_64.whl (4.0 MB)\n",
            "\u001b[2K     \u001b[90m━━━━━━━━━━━━━━━━━━━━━━━━━━━━━━━━━━━━━━━━\u001b[0m \u001b[32m4.0/4.0 MB\u001b[0m \u001b[31m17.7 MB/s\u001b[0m eta \u001b[36m0:00:00\u001b[0m\n",
            "\u001b[?25hCollecting myqlm-contrib>=1.7.1\n",
            "  Downloading myqlm_contrib-1.7.1-py3-none-any.whl (13 kB)\n",
            "Collecting qat-comm>=1.4.2\n",
            "  Downloading qat_comm-1.4.2-cp38-cp38-manylinux1_x86_64.whl (2.9 MB)\n",
            "\u001b[2K     \u001b[90m━━━━━━━━━━━━━━━━━━━━━━━━━━━━━━━━━━━━━━━━\u001b[0m \u001b[32m2.9/2.9 MB\u001b[0m \u001b[31m21.0 MB/s\u001b[0m eta \u001b[36m0:00:00\u001b[0m\n",
            "\u001b[?25hCollecting qat-variational>=1.4.0\n",
            "  Downloading qat_variational-1.4.0-cp38-cp38-manylinux1_x86_64.whl (1.6 MB)\n",
            "\u001b[2K     \u001b[90m━━━━━━━━━━━━━━━━━━━━━━━━━━━━━━━━━━━━━━━━\u001b[0m \u001b[32m1.6/1.6 MB\u001b[0m \u001b[31m10.9 MB/s\u001b[0m eta \u001b[36m0:00:00\u001b[0m\n",
            "\u001b[?25hCollecting myqlm-fermion>=1.0.0\n",
            "  Downloading myqlm_fermion-1.0.0-py3-none-any.whl (90 kB)\n",
            "\u001b[2K     \u001b[90m━━━━━━━━━━━━━━━━━━━━━━━━━━━━━━━━━━━━━━━━\u001b[0m \u001b[32m90.0/90.0 KB\u001b[0m \u001b[31m10.4 MB/s\u001b[0m eta \u001b[36m0:00:00\u001b[0m\n",
            "\u001b[?25hCollecting myqlm-simulators>=1.7.1\n",
            "  Downloading myqlm_simulators-1.7.1-py3-none-any.whl (19 kB)\n",
            "Collecting myqlm-clinalg>=0.0.5\n",
            "  Downloading myqlm_clinalg-0.0.5-cp38-cp38-manylinux1_x86_64.whl (497 kB)\n",
            "\u001b[2K     \u001b[90m━━━━━━━━━━━━━━━━━━━━━━━━━━━━━━━━━━━━━━\u001b[0m \u001b[32m497.1/497.1 KB\u001b[0m \u001b[31m21.5 MB/s\u001b[0m eta \u001b[36m0:00:00\u001b[0m\n",
            "\u001b[?25hCollecting qat-lang>=2.2.1\n",
            "  Downloading qat_lang-2.2.1-cp38-cp38-manylinux1_x86_64.whl (2.5 MB)\n",
            "\u001b[2K     \u001b[90m━━━━━━━━━━━━━━━━━━━━━━━━━━━━━━━━━━━━━━━━\u001b[0m \u001b[32m2.5/2.5 MB\u001b[0m \u001b[31m14.4 MB/s\u001b[0m eta \u001b[36m0:00:00\u001b[0m\n",
            "\u001b[?25hRequirement already satisfied: networkx in /usr/local/lib/python3.8/dist-packages (from myqlm-contrib>=1.7.1->myqlm) (3.0)\n",
            "Collecting anytree\n",
            "  Downloading anytree-2.8.0-py2.py3-none-any.whl (41 kB)\n",
            "\u001b[2K     \u001b[90m━━━━━━━━━━━━━━━━━━━━━━━━━━━━━━━━━━━━━━━━\u001b[0m \u001b[32m41.7/41.7 KB\u001b[0m \u001b[31m4.5 MB/s\u001b[0m eta \u001b[36m0:00:00\u001b[0m\n",
            "\u001b[?25hRequirement already satisfied: pytest in /usr/local/lib/python3.8/dist-packages (from myqlm-fermion>=1.0.0->myqlm) (3.6.4)\n",
            "Requirement already satisfied: scipy in /usr/local/lib/python3.8/dist-packages (from myqlm-fermion>=1.0.0->myqlm) (1.7.3)\n",
            "Requirement already satisfied: numpy in /usr/local/lib/python3.8/dist-packages (from myqlm-fermion>=1.0.0->myqlm) (1.22.4)\n",
            "Collecting bitstring\n",
            "  Downloading bitstring-4.0.1-py3-none-any.whl (45 kB)\n",
            "\u001b[2K     \u001b[90m━━━━━━━━━━━━━━━━━━━━━━━━━━━━━━━━━━━━━━━━\u001b[0m \u001b[32m45.6/45.6 KB\u001b[0m \u001b[31m4.9 MB/s\u001b[0m eta \u001b[36m0:00:00\u001b[0m\n",
            "\u001b[?25hRequirement already satisfied: tqdm in /usr/local/lib/python3.8/dist-packages (from myqlm-fermion>=1.0.0->myqlm) (4.64.1)\n",
            "Collecting thrift==0.16.0\n",
            "  Downloading thrift-0.16.0.tar.gz (59 kB)\n",
            "\u001b[2K     \u001b[90m━━━━━━━━━━━━━━━━━━━━━━━━━━━━━━━━━━━━━━━━\u001b[0m \u001b[32m59.6/59.6 KB\u001b[0m \u001b[31m2.9 MB/s\u001b[0m eta \u001b[36m0:00:00\u001b[0m\n",
            "\u001b[?25h  Preparing metadata (setup.py) ... \u001b[?25l\u001b[?25hdone\n",
            "Requirement already satisfied: six>=1.7.2 in /usr/local/lib/python3.8/dist-packages (from thrift==0.16.0->qat-comm>=1.4.2->myqlm) (1.15.0)\n",
            "Requirement already satisfied: dill in /usr/local/lib/python3.8/dist-packages (from qat-core>=1.6.4->myqlm) (0.3.6)\n",
            "Requirement already satisfied: matplotlib in /usr/local/lib/python3.8/dist-packages (from qat-core>=1.6.4->myqlm) (3.5.3)\n",
            "Requirement already satisfied: Pillow in /usr/local/lib/python3.8/dist-packages (from qat-core>=1.6.4->myqlm) (8.4.0)\n",
            "Collecting svgwrite\n",
            "  Downloading svgwrite-1.4.3-py3-none-any.whl (67 kB)\n",
            "\u001b[2K     \u001b[90m━━━━━━━━━━━━━━━━━━━━━━━━━━━━━━━━━━━━━━━━\u001b[0m \u001b[32m67.1/67.1 KB\u001b[0m \u001b[31m7.4 MB/s\u001b[0m eta \u001b[36m0:00:00\u001b[0m\n",
            "\u001b[?25hRequirement already satisfied: wand in /usr/local/lib/python3.8/dist-packages (from qat-core>=1.6.4->myqlm) (0.6.11)\n",
            "Collecting ply==3.11\n",
            "  Downloading ply-3.11-py2.py3-none-any.whl (49 kB)\n",
            "\u001b[2K     \u001b[90m━━━━━━━━━━━━━━━━━━━━━━━━━━━━━━━━━━━━━━━━\u001b[0m \u001b[32m49.6/49.6 KB\u001b[0m \u001b[31m5.3 MB/s\u001b[0m eta \u001b[36m0:00:00\u001b[0m\n",
            "\u001b[?25hCollecting pyDOE\n",
            "  Downloading pyDOE-0.3.8.zip (22 kB)\n",
            "  Preparing metadata (setup.py) ... \u001b[?25l\u001b[?25hdone\n",
            "Requirement already satisfied: packaging>=20.0 in /usr/local/lib/python3.8/dist-packages (from matplotlib->qat-core>=1.6.4->myqlm) (23.0)\n",
            "Requirement already satisfied: pyparsing>=2.2.1 in /usr/local/lib/python3.8/dist-packages (from matplotlib->qat-core>=1.6.4->myqlm) (3.0.9)\n",
            "Requirement already satisfied: kiwisolver>=1.0.1 in /usr/local/lib/python3.8/dist-packages (from matplotlib->qat-core>=1.6.4->myqlm) (1.4.4)\n",
            "Requirement already satisfied: python-dateutil>=2.7 in /usr/local/lib/python3.8/dist-packages (from matplotlib->qat-core>=1.6.4->myqlm) (2.8.2)\n",
            "Requirement already satisfied: cycler>=0.10 in /usr/local/lib/python3.8/dist-packages (from matplotlib->qat-core>=1.6.4->myqlm) (0.11.0)\n",
            "Requirement already satisfied: fonttools>=4.22.0 in /usr/local/lib/python3.8/dist-packages (from matplotlib->qat-core>=1.6.4->myqlm) (4.38.0)\n",
            "Requirement already satisfied: atomicwrites>=1.0 in /usr/local/lib/python3.8/dist-packages (from pytest->myqlm-fermion>=1.0.0->myqlm) (1.4.1)\n",
            "Requirement already satisfied: more-itertools>=4.0.0 in /usr/local/lib/python3.8/dist-packages (from pytest->myqlm-fermion>=1.0.0->myqlm) (9.0.0)\n",
            "Requirement already satisfied: pluggy<0.8,>=0.5 in /usr/local/lib/python3.8/dist-packages (from pytest->myqlm-fermion>=1.0.0->myqlm) (0.7.1)\n",
            "Requirement already satisfied: attrs>=17.4.0 in /usr/local/lib/python3.8/dist-packages (from pytest->myqlm-fermion>=1.0.0->myqlm) (22.2.0)\n",
            "Requirement already satisfied: setuptools in /usr/local/lib/python3.8/dist-packages (from pytest->myqlm-fermion>=1.0.0->myqlm) (57.4.0)\n",
            "Requirement already satisfied: py>=1.5.0 in /usr/local/lib/python3.8/dist-packages (from pytest->myqlm-fermion>=1.0.0->myqlm) (1.11.0)\n",
            "Building wheels for collected packages: thrift, pyDOE\n",
            "  Building wheel for thrift (setup.py) ... \u001b[?25l\u001b[?25hdone\n",
            "  Created wheel for thrift: filename=thrift-0.16.0-cp38-cp38-linux_x86_64.whl size=400555 sha256=4ece67103042f35ab55d036e8fc45a744f8c3e596299759d3f5661d7c76bf555\n",
            "  Stored in directory: /root/.cache/pip/wheels/c1/03/53/7220f8aeecbf2c66ef655a9cff1929299e38119502a316ae30\n",
            "  Building wheel for pyDOE (setup.py) ... \u001b[?25l\u001b[?25hdone\n",
            "  Created wheel for pyDOE: filename=pyDOE-0.3.8-py3-none-any.whl size=18184 sha256=b615034d8e0deb85efe56d0fe45879280e8f1aabee0106847ec90c59c3a45973\n",
            "  Stored in directory: /root/.cache/pip/wheels/00/3e/fa/5705bf59c2053c17c4799c3ab66a2e356c32f40a3044fe2134\n",
            "Successfully built thrift pyDOE\n",
            "Installing collected packages: ply, thrift, svgwrite, bitstring, anytree, qat-comm, pyDOE, qat-core, qat-lang, qat-devices, myqlm-contrib, qat-variational, myqlm-clinalg, myqlm-simulators, myqlm-fermion, myqlm\n",
            "Successfully installed anytree-2.8.0 bitstring-4.0.1 myqlm-1.7.3 myqlm-clinalg-0.0.5 myqlm-contrib-1.7.1 myqlm-fermion-1.0.0 myqlm-simulators-1.7.1 ply-3.11 pyDOE-0.3.8 qat-comm-1.4.2 qat-core-1.6.4 qat-devices-0.2.0 qat-lang-2.2.1 qat-variational-1.4.0 svgwrite-1.4.3 thrift-0.16.0\n",
            "QLM magics have been sucessfully installed\n"
          ]
        }
      ],
      "source": [
        "!pip install wand\n",
        "!apt install imagemagick\n",
        "!pip install myqlm\n",
        "!python -m qat.magics.install\n",
        "\n",
        "from qat.lang.AQASM import Program, H, CNOT, RX, QRoutine, RZ, X, Z"
      ]
    },
    {
      "cell_type": "code",
      "execution_count": 4,
      "id": "f125405c",
      "metadata": {
        "id": "f125405c"
      },
      "outputs": [],
      "source": [
        "def U_ZZ(theta):\n",
        "    \n",
        "    zz_r = QRoutine()\n",
        "    zz_r.apply(CNOT, 0, 1)\n",
        "    zz_r.apply(RZ(theta), 1) # difference of convention between implemented version and what we need.\n",
        "    zz_r.apply(CNOT, 0, 1)\n",
        "\n",
        "    return zz_r"
      ]
    },
    {
      "cell_type": "markdown",
      "id": "b87e91ed",
      "metadata": {
        "id": "b87e91ed"
      },
      "source": [
        "### Question 3"
      ]
    },
    {
      "cell_type": "code",
      "execution_count": 5,
      "id": "27954bb3",
      "metadata": {
        "id": "27954bb3"
      },
      "outputs": [],
      "source": [
        "def one_qaoa_layer(n_qubits, edges, theta, beta):\n",
        "\n",
        "    layer = QRoutine()\n",
        "\n",
        "    #in layer: use index instead of qbit instance\n",
        "    for index_qbit in range(n_qubits):\n",
        "      layer.apply(RX(theta), index_qbit)\n",
        "    \n",
        "    for k,l in edges:\n",
        "      #(matrix use half angle)\n",
        "      layer.apply(U_ZZ(2*beta), k, l)\n",
        "\n",
        "    return layer"
      ]
    },
    {
      "cell_type": "markdown",
      "id": "bd0c36a5",
      "metadata": {
        "id": "bd0c36a5"
      },
      "source": [
        "### Question 4"
      ]
    },
    {
      "cell_type": "code",
      "execution_count": 6,
      "id": "655a9aaa",
      "metadata": {
        "id": "655a9aaa"
      },
      "outputs": [],
      "source": [
        "from qat.qpus import get_default_qpu\n",
        "\n",
        "\n",
        "def evaluate_parameters(n_qubits, edges, parameters, n_layers):\n",
        "    prog = Program()\n",
        "    qubits = prog.qalloc(n_qubits)\n",
        "\n",
        "    # TODO: implement initialization+parameterized circuit\n",
        "    for q in qubits:\n",
        "        # must iterate unlile qiskit\n",
        "        prog.apply(H, q)\n",
        "\n",
        "    for theta, beta in zip(parameters[::2], parameters[1::2]):\n",
        "        prog.apply(\n",
        "            one_qaoa_layer(n_qubits=n_qubits, edges=edges, theta=theta, beta=beta),\n",
        "            qubits,\n",
        "        )\n",
        "\n",
        "    # END TODO\n",
        "    circ = prog.to_circ()\n",
        "\n",
        "    job = circ.to_job()\n",
        "    qpu = get_default_qpu()\n",
        "\n",
        "    result = qpu.submit(job)\n",
        "\n",
        "    # BEGIN TODO\n",
        "    for sample in result:\n",
        "        # this loop is over all 2**nqubits states.\n",
        "        # sample.state.bitstring contains the qubit values (nqubits 0 or 1)\n",
        "        # sample.probability\n",
        "\n",
        "        b = sample.state.bitstring\n",
        "        p = sample.probability\n",
        "\n",
        "        v = sum(((1 - 2 * int(b[k])) * (1 - 2 * int(b[l])) for k, l in edges))\n",
        "        obs += v * p\n",
        "\n",
        "    # END TODO\n",
        "    return obs\n"
      ]
    },
    {
      "cell_type": "code",
      "execution_count": 7,
      "id": "88963901",
      "metadata": {
        "colab": {
          "base_uri": "https://localhost:8080/"
        },
        "id": "88963901",
        "outputId": "a4040d79-666d-43c5-e95d-aca23844703e"
      },
      "outputs": [
        {
          "output_type": "execute_result",
          "data": {
            "text/plain": [
              "array([0.39918484, 0.79448265, 0.51223719])"
            ]
          },
          "metadata": {},
          "execution_count": 7
        }
      ],
      "source": [
        "import numpy as np\n",
        "np.random.random(3)"
      ]
    },
    {
      "cell_type": "code",
      "execution_count": 8,
      "id": "42557843",
      "metadata": {
        "id": "42557843"
      },
      "outputs": [],
      "source": [
        "from scipy.optimize import minimize\n"
      ]
    },
    {
      "cell_type": "markdown",
      "id": "0846a6dd",
      "metadata": {
        "id": "0846a6dd"
      },
      "source": [
        "### Random initialisation"
      ]
    },
    {
      "cell_type": "markdown",
      "id": "f679d3e0",
      "metadata": {
        "id": "f679d3e0"
      },
      "source": [
        "### Question 5: \n",
        "On the cell below, we observe we need at least 8 layers to reach the optimal value"
      ]
    },
    {
      "cell_type": "code",
      "source": [
        "import matplotlib.pylab as plt\n",
        "\n",
        "\n",
        "for nlayers in range(4,11,1):\n",
        "    num_params = 2*nlayers\n",
        "\n",
        "    back_trace = []\n",
        "    def print_avg(xk):\n",
        "        eva = evaluate_parameters(nqubits, edges, xk,nlayers)\n",
        "        back_trace.append(eva)\n",
        "        print(eva, end=' ')\n",
        "\n",
        "    opt_res = minimize(lambda x : evaluate_parameters(nqubits, edges, x, nlayers), \n",
        "                       np.random.random(num_params),\n",
        "                       callback=print_avg,)\n",
        "    plt.plot(back_trace,label=str(nlayers))\n",
        "# there exists a classical polynomial algorithm returning solutions within a factor of 0.878 of the optimal\n",
        "# we must at least beat that. https://fr.wikipedia.org/wiki/Coupe_maximum\n",
        "plt.axhline(0.878*best_value, color='b', label=\"classical apx ratio\")\n",
        "plt.axhline(best_value,color='r',label='optimal value')\n",
        "plt.legend()"
      ],
      "metadata": {
        "colab": {
          "base_uri": "https://localhost:8080/",
          "height": 319
        },
        "id": "JU1fx7-UNZNC",
        "outputId": "fa7f2f78-b433-44ab-a7b9-ab8dfae493a5"
      },
      "id": "JU1fx7-UNZNC",
      "execution_count": 10,
      "outputs": [
        {
          "output_type": "stream",
          "name": "stdout",
          "text": [
            "-0.9043604995027555 -1.4505048383265613 -1.7770927934321672 -2.4387478821105923 -2.7446930140393366 -2.7824915426184536 -3.6599789945504035 -3.730382765853735 -3.833500548082177 -4.018539838968493 -4.298874801776839 -4.421485975240828 -4.439538828947252 -4.451898883540425 -4.460882431360367 -4.463340281035797 -4.463781539077345 -4.46383054684203 -4.463832584326183 -4.463832631685121 -4.463832632296118 -4.463832632305431 -0.09898770086049088 -0.8811843258067811 -1.1027836746533421 -1.46602765180641 -2.080941638057093 -2.463808587601653 -2.5049074877260336 -2.796864392710569 -2.9676781443837874 -3.0002965351937765 -3.0598788092243465 -3.170520215862554 -3.3417928386917977 -3.6073759063397994 -3.615270588506559 -3.6826318646581107 -3.7926383969874604 -3.970783118028425 -4.068663693662876 -4.086912867579153 -4.116348827234024 -4.151324162596466 -4.167160780320119 -4.192740615509721 -4.2253573288632325 -4.235997290167278 -4.241778295365007 -4.245442644762251 -4.250003826063117 -4.25285371043401 -4.257092579454865 -4.264374125054963 -4.276362754482367 -4.29262489046947 -4.313423642453797 -4.341256004825404 -4.3479778073071715 -4.357899952899359 -4.363620678155876 -4.371653294586603 -4.377695643667456 -4.381054047857575 -4.382532242315478 -4.38282466646366 -4.38287093770996 -4.3828716458801384 -4.382871685246455 -4.382871685742287 -4.382871685746941 1.4476837594061776 0.40484682648674103 -0.3523405724260992 -0.7353804716024742 -1.3216752663856486 -1.8564771353258223 -2.233379048229182 -2.443078099186857 -2.609033895945611 -2.8611252215484204 -2.8764679458730185 -3.0130357495757862 -3.2020983915647596 -3.288765446695972 -3.3248375710100317 -3.3407294465915367 -3.3547663011709026 -3.361543433573405 -3.4251419813932684 -3.4571841876386404 -3.50894033642102 -3.593619548860259 -3.7126564229559116 -3.855908483749783 -4.002543024296201 -4.2437741690126645 -4.427313462815901 -4.486768506901875 -4.498388380684675 -4.516107230309509 -4.533094167320729 -4.546317547497436 -4.563340657901003 -4.573096633851833 -4.575444321717216 -4.576373069971573 -4.579224185081839 -4.58411590331271 -4.590374189399181 -4.595147697045843 -4.602953136620663 -4.611723418262193 -4.6185573016290835 -4.622720596839398 -4.628966724156313 -4.638414459242715 -4.648442285424486 -4.657415653492838 -4.665916016275292 -4.672811293945045 -4.678489173698693 -4.683335834850879 -4.689344580729617 -4.695148359250955 -4.70566748655347 -4.718380333887416 -4.72564307288989 -4.737306218750613 -4.745527008719964 -4.74671666775357 -4.747131071684261 -4.747819914996627 -4.7489013504627335 -4.750381349292984 -4.752471039581983 -4.755388663208342 -4.757706793392156 -4.758997985819771 -4.7591626315171505 -4.759191129113365 -4.759199169487897 -4.759201828901583 -4.759205341097586 -4.7592088840053615 -4.759214680737952 -4.759223639371944 -4.759232727786048 -4.75923648233135 -4.759237484436175 -4.759237570125367 -4.759237577250038 -4.7592375779917635 -4.759237578060729 -1.5624998810285131 -2.432253107519375 -3.370402827447858 -3.74256991612021 -3.947229032701115 -3.998606148631974 -4.075488285794499 -4.181755193938551 -4.240358140044817 -4.321810507945639 -4.368260351798737 -4.416442926636215 -4.425285372425553 -4.44175340906322 -4.551274461633197 -4.561519355363919 -4.578851059610754 -4.609558215792726 -4.648083714910656 -4.676529500268841 -4.709607274025632 -4.723959129226044 -4.7433938495669485 -4.7666447510841765 -4.792609769987707 -4.826056355273213 -4.855044421003542 -4.865116849959063 -4.876281875919067 -4.886785017716678 -4.89238051680163 -4.899310121652192 -4.901157477364368 -4.90200045286463 -4.902377150639356 -4.90295800787386 -4.903920305287017 -4.905474013893111 -4.907761397806776 -4.909735604047341 -4.910695839593331 -4.9110758427083985 -4.9113034621300855 -4.9114737425444375 -4.911680804320269 -4.912039334815617 -4.912615518290199 -4.913341213502929 -4.913812242086608 -4.914261029453556 -4.91458899946991 -4.914889854850342 -4.916850573316506 -4.919365006904567 -4.92273240941521 -4.925177454851826 -4.928195304277664 -4.93002171423872 -4.930869215975477 -4.931469923662125 -4.932033252536678 -4.932877548976071 -4.934038490780192 -4.93571756508436 -4.93752444995137 -4.940576276067571 -4.944178148078082 -4.944867388542936 -4.945625450031846 -4.946060636547068 -4.946804039743262 -4.947859637923318 -4.948356647610161 -4.948548969877096 -4.948603159424886 -4.948663584617041 -4.948668978469541 -4.948671364162231 -4.948672250734348 -4.94867240454305 -4.94867242509304 -4.948672428466412 -4.948672428745754 -4.9486724287584964 -0.31970238536382456 -0.5076811910259861 -0.8694150159197682 -1.3963586015982565 -1.7352514223098108 -3.0109506421796643 -3.1453647865963896 -3.3686452981450428 -3.6757177906264253 -4.151636563103504 -4.290082795876935 -4.417848550835636 -4.528065095539942 -4.58325464767834 -4.661444692601729 -4.71062305291084 -4.7634672152866715 -4.809219693704923 -4.838410562776351 -4.849921793630758 -4.8535957463129975 -4.856701114526311 -4.859001579366586 -4.8608673236219815 -4.863251498232657 -4.865619926268402 -4.868757512827693 -4.8710891844514395 -4.872926053831225 -4.873964229770364 -4.874754239838011 -4.8751451987755665 -4.875867682700381 -4.877210761850984 -4.879582108622587 -4.882397476213482 -4.8853191481434 -4.8883876930644705 -4.892528860393284 -4.89464124951662 -4.89572225170792 -4.897277360540515 -4.898051519321228 -4.898507846532679 -4.898773958073061 -4.898969643686784 -4.899218511462171 -4.8993177771449465 -4.899421458586302 -4.899505076045829 -4.8996131571392425 -4.899732208972903 -4.8998887681537 -4.900111781582235 -4.900349785913121 -4.9004933809332405 -4.900552269811328 -4.900584298657561 -4.900642350551494 -4.901134158919692 -4.901418936495979 -4.901647378398153 -4.901803467632856 -4.901919835589013 -4.901976641555097 -4.9020055508680915 -4.902018589292631 -4.902023801189456 -4.902030725527025 -4.902035925647706 -4.90204346094621 -4.902048429296015 -4.902050133328656 -4.902050502786278 -4.902050588365952 -4.902050602989913 -4.9020506042002 -4.902050604317466 -4.902050604333249 0.920567378458063 0.4063942479332515 0.29074055834039647 -0.6414118342869747 -1.4231717628467304 -2.166060166586169 -2.5992394277598234 -2.7371282357625315 -2.8623439433444346 -3.03243590145177 -3.234454360384926 -3.3181232336081097 -3.479941716462952 -3.642639421448366 -3.6568330039083863 -3.7678397887148853 -3.9169345826116815 -4.0927081483558885 -4.295684975548212 -4.38882443665046 -4.5092471499799105 -4.546412419915614 -4.585662442685695 -4.61612726464764 -4.638425999493642 -4.667598366489777 -4.680432256971971 -4.6915839772998655 -4.693477154641296 -4.696660903158367 -4.702014838805034 -4.708275758564442 -4.710794259781095 -4.714029385345705 -4.7160987056313 -4.716510212525989 -4.717159759966775 -4.717616575449947 -4.7176788757721 -4.717778970046839 -4.717870032278481 -4.71789696811853 -4.717929083305554 -4.71793718950355 -4.717941752269397 -4.717945581022638 -4.717949029130763 -4.717949849673482 -4.717949946897703 -4.717949961420235 -4.717949973093466 -4.717949977527406 -4.717949978283409 -4.717949978327941 -0.49405514736812556 -1.392988387413133 -1.9662141564332245 -2.2680436582204675 -2.5396625188845583 -2.650822409107586 -2.8694170271805746 -3.177019756230577 -3.42397446981525 -3.5679908003571685 -3.7024239040512836 -3.8126339260886124 -3.904959184877086 -3.971008437297135 -4.060103694917359 -4.123712059695843 -4.1551467455418925 -4.205011461098613 -4.283376052064679 -4.325237088335091 -4.388176472146063 -4.479890725215751 -4.581245686066426 -4.614068833159432 -4.629150660585661 -4.651471630515642 -4.672846285035028 -4.68812929170366 -4.704323733638113 -4.724599992788595 -4.736242232487132 -4.747092828153348 -4.751129969542892 -4.7532177494829595 -4.756308082805406 -4.757872274741799 -4.758617673651636 -4.75960321425041 -4.7604381369498645 -4.761681516223374 -4.76371629097088 -4.765825045359115 -4.768285638766493 -4.7710777998800555 -4.772192666849288 -4.773921235448617 -4.776987146927446 -4.782491078661561 -4.785700429152256 -4.7911457049295505 -4.798422359514207 -4.800892125504865 -4.804598308926456 -4.806426770846557 -4.808656387518502 -4.810553141324155 -4.813749587209375 -4.8181595324309505 -4.821071688533627 -4.822060051003973 -4.822975654809386 -4.824225381217184 -4.825727287600577 -4.827536120314104 -4.82873086145603 -4.829952403830786 -4.831052251984326 -4.833003796411867 -4.836731875742508 -4.842289222580113 -4.849647567137031 -4.860865218759118 -4.875873174549362 -4.8974662132260285 -4.911209183664221 -4.930597627304052 -4.938420347456647 -4.939157233704634 -4.9404352317423355 -4.942329551135283 -4.943712206873964 -4.94482059815054 -4.946482746525431 -4.9482592957107885 -4.9488408280451415 -4.949543883070369 -4.950325534848193 -4.951274179870006 -4.951576651821255 -4.951802527140903 -4.952158264984407 -4.952706848115982 -4.953286975842006 -4.953507004302454 -4.953561496603026 -4.953578076252076 -4.953586825099568 -4.953594422827897 -4.953604522058042 -4.95361998667265 -4.953645448010375 -4.953686243031789 -4.953739431305558 -4.953762832218478 -4.9537704316277065 -4.953770895627253 -4.9537709266811865 -4.953770932613949 -4.953770935532105 -4.953770935707795 -4.953770935727721 "
          ]
        },
        {
          "output_type": "execute_result",
          "data": {
            "text/plain": [
              "<matplotlib.legend.Legend at 0x7f84456826a0>"
            ]
          },
          "metadata": {},
          "execution_count": 10
        },
        {
          "output_type": "display_data",
          "data": {
            "text/plain": [
              "<Figure size 432x288 with 1 Axes>"
            ],
            "image/png": "[encoded data removed]"
          },
          "metadata": {
            "needs_background": "light"
          }
        }
      ]
    },
    {
      "cell_type": "markdown",
      "id": "e9dffce1",
      "metadata": {
        "id": "e9dffce1"
      },
      "source": [
        "### Question 6: smart initialization"
      ]
    },
    {
      "cell_type": "code",
      "execution_count": 23,
      "id": "d1eb83de",
      "metadata": {
        "id": "d1eb83de",
        "colab": {
          "base_uri": "https://localhost:8080/",
          "height": 320
        },
        "outputId": "17862cc5-2e62-43d3-8c22-0e307e4fa776"
      },
      "outputs": [
        {
          "output_type": "stream",
          "name": "stdout",
          "text": [
            "-0.14670987184304096 -0.895758004198362 -2.0308904847316818 -2.082794443622834 -2.1800476619570346 -2.3578588437582813 -2.6428424204039414 -2.9225319771493536 -3.017905956919383 -3.0803720902712377 -3.121610699311152 -3.313935636681837 -3.379604092241094 -3.4708850053802527 -3.5421843179530246 -3.565060253761964 -3.588438085864945 -3.595304752289351 -3.5957274633924063 -3.5957415367145535 -3.595744056714017 -3.595744058123532 -3.59574405813209 -0.7435656965801564 -2.482734442848728 -2.8032199014678514 -3.3970049482412152 -3.78716493872046 -3.941249597154956 -4.1529407921254196 -4.27091643572453 -4.312714769207924 -4.3439596879770965 -4.353268854212599 -4.369061641820127 -4.395296823666351 -4.42298993502176 -4.439612461895817 -4.461474538127258 -4.463772404277465 -4.463831445897166 -4.463832350620099 -4.463832540835234 -4.463832607351121 -4.463832632075398 -4.463832632303559 -0.7327863011627878 -2.7289570794034765 -3.230870019099371 -3.55148734103363 -3.9873857914356448 -4.157441507491045 -4.398733657436349 -4.448520614798921 -4.5055123587113615 -4.592942135260076 -4.682226680913495 -4.69629711276143 -4.698886962843602 -4.700383974468035 -4.702010485817756 -4.703575182619986 -4.706257567331436 -4.708818427767093 -4.713073901764291 -4.72033062323465 -4.7238329386289 -4.728288452285591 -4.730160762805597 -4.733202226770409 -4.737489415609763 -4.7434574857352505 -4.749178402849918 -4.750991878760284 -4.7543396157097115 -4.759600872853097 -4.764241054264527 -4.7702139490557665 -4.774015695039609 -4.775713110005934 -4.776360530036078 -4.776586951798337 -4.776626607480581 -4.7766380354604525 -4.776640310610917 -4.776640442783922 -4.7766404520715575 -4.776640452256321 -4.776640452260132 "
          ]
        },
        {
          "output_type": "execute_result",
          "data": {
            "text/plain": [
              "<matplotlib.legend.Legend at 0x7f843bcc8ca0>"
            ]
          },
          "metadata": {},
          "execution_count": 23
        },
        {
          "output_type": "display_data",
          "data": {
            "text/plain": [
              "<Figure size 432x288 with 1 Axes>"
            ],
            "image/png": "[encoded data removed]"
          },
          "metadata": {
            "needs_background": "light"
          }
        }
      ],
      "source": [
        "T = 1.\n",
        "\n",
        "##we have a better convergence for the same number of layers: 5 layers model \n",
        "#was reaching classical apx ratio previously, now it is around avg of apx ratio and optimal value\n",
        "\n",
        "for nlayers in range(3,6,1):\n",
        "    num_params = 2*nlayers\n",
        "\n",
        "    back_trace = []\n",
        "    def print_avg(xk):\n",
        "        eva = evaluate_parameters(nqubits, edges, xk,nlayers)\n",
        "        back_trace.append(eva)\n",
        "        print(eva, end=' ')\n",
        "\n",
        "    # TODO implement parameter init\n",
        "    p = nlayers\n",
        "    deltaT = T/p\n",
        "\n",
        "    #beta from algorithm 1 in paper is theta and gamma is beta\n",
        "    theta_ = [(1-(k+1)/(p))*deltaT for k in range(p)]\n",
        "    beta_ = [(k+1)*deltaT/(p) for k in range(p)]\n",
        "\n",
        "    #combine them into (theta_1 beta_1 ... theta_p+1 beta_p+1)\n",
        "\n",
        "    parameters_init = sum(zip(theta_, beta_), ())\n",
        "    \"\"\"parameters_init = sum(zip(theta_, beta_+[0]), ())[:-1]\n",
        "    parameters_init = [None]*2*len(theta_)\n",
        "    parameters_init[::2] = theta_\n",
        "    parameters_init[1::2] = beta_\"\"\"\n",
        "\n",
        "\n",
        "    # END TODO        \n",
        "    opt_res = minimize(lambda x : evaluate_parameters(nqubits, edges, x, nlayers), \n",
        "                       parameters_init, \n",
        "                       callback=print_avg,)\n",
        "    \n",
        "    plt.plot(back_trace,label=str(nlayers))\n",
        "\n",
        "plt.axhline(0.878*best_value, color='b', label=\"classical apx ratio\")\n",
        "plt.axhline(best_value,color='r',label='optimal value')\n",
        "plt.legend()"
      ]
    },
    {
      "cell_type": "code",
      "source": [
        "T = .2\n",
        "\n",
        "\n",
        "for nlayers in range(3,6,1):\n",
        "    num_params = 2*nlayers\n",
        "\n",
        "    back_trace = []\n",
        "    def print_avg(xk):\n",
        "        eva = evaluate_parameters(nqubits, edges, xk,nlayers)\n",
        "        back_trace.append(eva)\n",
        "        print(eva, end=' ')\n",
        "\n",
        "    # TODO implement parameter init\n",
        "    p = nlayers\n",
        "    deltaT = T/p\n",
        "\n",
        "    #beta from algorithm 1 in paper is theta and gamma is beta\n",
        "    theta_ = [(1-(k+1)/(p))*deltaT for k in range(p)]\n",
        "    beta_ = [(k+1)*deltaT/(p) for k in range(p)]\n",
        "\n",
        "    #combine them into (theta_1 beta_1 ... theta_p+1 beta_p+1)\n",
        "\n",
        "    parameters_init = sum(zip(theta_, beta_), ())\n",
        "    \"\"\"parameters_init = sum(zip(theta_, beta_+[0]), ())[:-1]\n",
        "    parameters_init = [None]*2*len(theta_)\n",
        "    parameters_init[::2] = theta_\n",
        "    parameters_init[1::2] = beta_\"\"\"\n",
        "\n",
        "\n",
        "    # END TODO        \n",
        "    opt_res = minimize(lambda x : evaluate_parameters(nqubits, edges, x, nlayers), \n",
        "                       parameters_init, \n",
        "                       callback=print_avg,)\n",
        "    \n",
        "    plt.plot(back_trace,label=str(nlayers))\n",
        "\n",
        "plt.axhline(0.878*best_value, color='b', label=\"classical apx ratio\")\n",
        "plt.axhline(best_value,color='r',label='optimal value')\n",
        "plt.legend()"
      ],
      "metadata": {
        "colab": {
          "base_uri": "https://localhost:8080/",
          "height": 319
        },
        "id": "upBT2sfV4tLN",
        "outputId": "539aa4fc-987c-481b-f14c-2e73225ba241"
      },
      "id": "upBT2sfV4tLN",
      "execution_count": 24,
      "outputs": [
        {
          "output_type": "stream",
          "name": "stdout",
          "text": [
            "-0.0620362686001297 -2.3718480377073305 -2.5744419673954315 -2.8482124836544687 -2.9885229663331234 -3.253326186016537 -3.7027579486677062 -3.9476416538695607 -3.975234728323882 -3.9759845987028415 -3.9772388602749453 -3.9782566430425663 -3.978267575555725 -3.978269029553248 -3.9782690296551024 -3.978269029656531 -0.04363057304221277 -2.572037526604155 -2.6156739305471417 -4.017363116132033 -4.030484639583899 -4.052927405623807 -4.235365198749605 -4.294392972343509 -4.375760370138558 -4.411082892960173 -4.430956509787124 -4.452585224269958 -4.4594058548489 -4.462054395682591 -4.463812040120011 -4.4638283029503105 -4.463832158976759 -4.463832615738463 -4.463832632056974 -4.463832632302245 -4.463832632305393 -0.04135866068321692 -0.27842515650587196 -0.7167936296871864 -0.9808232505848408 -2.9726786304361763 -3.036219491457607 -3.5397515742233323 -3.782938162372587 -3.8931902305136212 -4.084494782056308 -4.324074487382783 -4.575651238756079 -4.6234939661316945 -4.650677760162701 -4.668411492268381 -4.6813798137742575 -4.684550944569987 -4.6856433992856505 -4.687096981301703 -4.689307532266614 -4.693385949556787 -4.698230952205725 -4.706353740378126 -4.720240928758595 -4.739758849735982 -4.749303825342445 -4.758191805826955 -4.762787722552835 -4.7699718000096825 -4.779313740353533 -4.784609326644151 -4.788982866913209 -4.790954946733797 -4.792006784334681 -4.7922132871206635 -4.7923302071161515 -4.792392132573084 -4.792400838670814 -4.792403527989656 -4.792403815074466 -4.792403853558352 -4.792403855093642 -4.792403855159303 "
          ]
        },
        {
          "output_type": "execute_result",
          "data": {
            "text/plain": [
              "<matplotlib.legend.Legend at 0x7f843b9bb160>"
            ]
          },
          "metadata": {},
          "execution_count": 24
        },
        {
          "output_type": "display_data",
          "data": {
            "text/plain": [
              "<Figure size 432x288 with 1 Axes>"
            ],
            "image/png": "[encoded data removed]"
          },
          "metadata": {
            "needs_background": "light"
          }
        }
      ]
    },
    {
      "cell_type": "code",
      "source": [
        "T = 5\n",
        "\n",
        "\n",
        "for nlayers in range(3,6,1):\n",
        "    num_params = 2*nlayers\n",
        "\n",
        "    back_trace = []\n",
        "    def print_avg(xk):\n",
        "        eva = evaluate_parameters(nqubits, edges, xk,nlayers)\n",
        "        back_trace.append(eva)\n",
        "        print(eva, end=' ')\n",
        "\n",
        "    # TODO implement parameter init\n",
        "    p = nlayers\n",
        "    deltaT = T/p\n",
        "\n",
        "    #beta from algorithm 1 in paper is theta and gamma is beta\n",
        "    theta_ = [(1-(k+1)/(p))*deltaT for k in range(p)]\n",
        "    beta_ = [(k+1)*deltaT/(p) for k in range(p)]\n",
        "\n",
        "    #combine them into (theta_1 beta_1 ... theta_p+1 beta_p+1)\n",
        "\n",
        "    parameters_init = sum(zip(theta_, beta_), ())\n",
        "    \"\"\"parameters_init = sum(zip(theta_, beta_+[0]), ())[:-1]\n",
        "    parameters_init = [None]*2*len(theta_)\n",
        "    parameters_init[::2] = theta_\n",
        "    parameters_init[1::2] = beta_\"\"\"\n",
        "\n",
        "\n",
        "    # END TODO        \n",
        "    opt_res = minimize(lambda x : evaluate_parameters(nqubits, edges, x, nlayers), \n",
        "                       parameters_init, \n",
        "                       callback=print_avg,)\n",
        "    \n",
        "    plt.plot(back_trace,label=str(nlayers))\n",
        "\n",
        "plt.axhline(0.878*best_value, color='b', label=\"classical apx ratio\")\n",
        "plt.axhline(best_value,color='r',label='optimal value')\n",
        "plt.legend()"
      ],
      "metadata": {
        "colab": {
          "base_uri": "https://localhost:8080/",
          "height": 319
        },
        "id": "nQXSozTA7-op",
        "outputId": "2b938c84-7ad8-4ae5-cd98-b11cbefaecdf"
      },
      "id": "nQXSozTA7-op",
      "execution_count": 25,
      "outputs": [
        {
          "output_type": "stream",
          "name": "stdout",
          "text": [
            "-0.0016935449068443131 -1.5493208571611203 -2.262712253707379 -2.7034249181069328 -2.8988868273414954 -3.2412640290913344 -3.519180006975825 -3.566782760920546 -3.5841392236886724 -3.5931410644201374 -3.595678858353 -3.5957404069230465 -3.5957440551329927 -3.5957440581271016 -3.5957440581321047 -0.49487079267755724 -1.3365744370785118 -1.6547009101374706 -2.168074154416835 -2.317288823533968 -2.439585719954364 -2.471750487476664 -2.472855916481553 -2.4744307690125282 -2.4759564414711597 -2.478677912795066 -2.483387245888406 -2.4885232762729577 -2.4894053082721754 -2.489494570390441 -2.48953081606158 -2.489538438833705 -2.4895431398596117 -2.4895521581608593 -2.489569461736158 -2.489601975100418 -2.4896584668571795 -2.4897163920158056 -2.489750547750753 -2.4897869128047883 -2.48979427393911 -2.4897943752424907 -2.4897944121819493 -2.489794412709149 -2.489794412863757 -2.489794413019954 -2.4897944130241534 -1.6017616840859943 -2.163251951507414 -2.973880817949452 -3.2148868705924514 -3.3395241601101975 -3.393633030561026 -3.419307488922451 -3.4533691580976638 -3.5002247247686613 -3.577803377050117 -3.7134182237648794 -3.7569925002477276 -3.8385297004048504 -3.9776365795597672 -4.207234873052223 -4.414334856959774 -4.443710743710222 -4.453063324814235 -4.463156477730376 -4.467184422831456 -4.47070425942681 -4.475221878440741 -4.477488895360744 -4.488939222058076 -4.491047877909666 -4.4947104441567385 -4.500642478886587 -4.507392803000286 -4.5110662279063725 -4.515567436379633 -4.516235975420891 -4.5163661664863755 -4.516417855829753 -4.51641833310694 -4.51641841265212 -4.516418414040259 -4.516418414116905 "
          ]
        },
        {
          "output_type": "execute_result",
          "data": {
            "text/plain": [
              "<matplotlib.legend.Legend at 0x7f843bcc95b0>"
            ]
          },
          "metadata": {},
          "execution_count": 25
        },
        {
          "output_type": "display_data",
          "data": {
            "text/plain": [
              "<Figure size 432x288 with 1 Axes>"
            ],
            "image/png": "[encoded data removed]"
          },
          "metadata": {
            "needs_background": "light"
          }
        }
      ]
    }
  ],
  "metadata": {
    "kernelspec": {
      "display_name": "Python 3 (ipykernel)",
      "language": "python",
      "name": "python3"
    },
    "language_info": {
      "codemirror_mode": {
        "name": "ipython",
        "version": 3
      },
      "file_extension": ".py",
      "mimetype": "text/x-python",
      "name": "python",
      "nbconvert_exporter": "python",
      "pygments_lexer": "ipython3",
      "version": "3.10.6"
    },
    "colab": {
      "provenance": []
    }
  },
  "nbformat": 4,
  "nbformat_minor": 5
}