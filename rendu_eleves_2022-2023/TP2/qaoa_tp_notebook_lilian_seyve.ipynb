{
  "cells": [
    {
      "cell_type": "code",
      "source": [
        "!pip install wand\n",
        "!apt install imagemagick\n",
        "!pip install myqlm\n",
        "!python -m qat.magics.install"
      ],
      "metadata": {
        "colab": {
          "base_uri": "https://localhost:8080/"
        },
        "id": "ZxiyiSpxjmd-",
        "outputId": "4c66db4b-d274-46f8-e46a-e35e005effef"
      },
      "id": "ZxiyiSpxjmd-",
      "execution_count": null,
      "outputs": [
        {
          "output_type": "stream",
          "name": "stdout",
          "text": [
            "Looking in indexes: https://pypi.org/simple, https://us-python.pkg.dev/colab-wheels/public/simple/\n",
            "Requirement already satisfied: wand in /usr/local/lib/python3.8/dist-packages (0.6.10)\n",
            "Reading package lists... Done\n",
            "Building dependency tree       \n",
            "Reading state information... Done\n",
            "imagemagick is already the newest version (8:6.9.7.4+dfsg-16ubuntu6.14).\n",
            "The following package was automatically installed and is no longer required:\n",
            "  libnvidia-common-460\n",
            "Use 'apt autoremove' to remove it.\n",
            "0 upgraded, 0 newly installed, 0 to remove and 20 not upgraded.\n",
            "Looking in indexes: https://pypi.org/simple, https://us-python.pkg.dev/colab-wheels/public/simple/\n",
            "Requirement already satisfied: myqlm in /usr/local/lib/python3.8/dist-packages (1.7.2)\n",
            "Requirement already satisfied: qat-comm>=1.4.2 in /usr/local/lib/python3.8/dist-packages (from myqlm) (1.4.2)\n",
            "Requirement already satisfied: myqlm-simulators>=1.7.1 in /usr/local/lib/python3.8/dist-packages (from myqlm) (1.7.1)\n",
            "Requirement already satisfied: qat-core>=1.6.1 in /usr/local/lib/python3.8/dist-packages (from myqlm) (1.6.1)\n",
            "Requirement already satisfied: myqlm-fermion>=1.0.0 in /usr/local/lib/python3.8/dist-packages (from myqlm) (1.0.0)\n",
            "Requirement already satisfied: qat-variational>=1.4.0 in /usr/local/lib/python3.8/dist-packages (from myqlm) (1.4.0)\n",
            "Requirement already satisfied: qat-lang>=2.2.1 in /usr/local/lib/python3.8/dist-packages (from myqlm) (2.2.1)\n",
            "Requirement already satisfied: qat-devices>=0.2.0 in /usr/local/lib/python3.8/dist-packages (from myqlm) (0.2.0)\n",
            "Requirement already satisfied: myqlm-clinalg>=0.0.4 in /usr/local/lib/python3.8/dist-packages (from myqlm) (0.0.4)\n",
            "Requirement already satisfied: myqlm-contrib>=1.7.1 in /usr/local/lib/python3.8/dist-packages (from myqlm) (1.7.1)\n",
            "Requirement already satisfied: networkx in /usr/local/lib/python3.8/dist-packages (from myqlm-contrib>=1.7.1->myqlm) (2.8.8)\n",
            "Requirement already satisfied: numpy in /usr/local/lib/python3.8/dist-packages (from myqlm-fermion>=1.0.0->myqlm) (1.21.6)\n",
            "Requirement already satisfied: pytest in /usr/local/lib/python3.8/dist-packages (from myqlm-fermion>=1.0.0->myqlm) (3.6.4)\n",
            "Requirement already satisfied: bitstring in /usr/local/lib/python3.8/dist-packages (from myqlm-fermion>=1.0.0->myqlm) (4.0.1)\n",
            "Requirement already satisfied: tqdm in /usr/local/lib/python3.8/dist-packages (from myqlm-fermion>=1.0.0->myqlm) (4.64.1)\n",
            "Requirement already satisfied: anytree in /usr/local/lib/python3.8/dist-packages (from myqlm-fermion>=1.0.0->myqlm) (2.8.0)\n",
            "Requirement already satisfied: scipy in /usr/local/lib/python3.8/dist-packages (from myqlm-fermion>=1.0.0->myqlm) (1.7.3)\n",
            "Requirement already satisfied: thrift==0.16.0 in /usr/local/lib/python3.8/dist-packages (from qat-comm>=1.4.2->myqlm) (0.16.0)\n",
            "Requirement already satisfied: six>=1.7.2 in /usr/local/lib/python3.8/dist-packages (from thrift==0.16.0->qat-comm>=1.4.2->myqlm) (1.15.0)\n",
            "Requirement already satisfied: wand in /usr/local/lib/python3.8/dist-packages (from qat-core>=1.6.1->myqlm) (0.6.10)\n",
            "Requirement already satisfied: Pillow in /usr/local/lib/python3.8/dist-packages (from qat-core>=1.6.1->myqlm) (7.1.2)\n",
            "Requirement already satisfied: svgwrite in /usr/local/lib/python3.8/dist-packages (from qat-core>=1.6.1->myqlm) (1.4.3)\n",
            "Requirement already satisfied: dill in /usr/local/lib/python3.8/dist-packages (from qat-core>=1.6.1->myqlm) (0.3.6)\n",
            "Requirement already satisfied: matplotlib in /usr/local/lib/python3.8/dist-packages (from qat-core>=1.6.1->myqlm) (3.2.2)\n",
            "Requirement already satisfied: ply==3.11 in /usr/local/lib/python3.8/dist-packages (from qat-lang>=2.2.1->myqlm) (3.11)\n",
            "Requirement already satisfied: pyDOE in /usr/local/lib/python3.8/dist-packages (from qat-variational>=1.4.0->myqlm) (0.3.8)\n",
            "Requirement already satisfied: pyparsing!=2.0.4,!=2.1.2,!=2.1.6,>=2.0.1 in /usr/local/lib/python3.8/dist-packages (from matplotlib->qat-core>=1.6.1->myqlm) (3.0.9)\n",
            "Requirement already satisfied: kiwisolver>=1.0.1 in /usr/local/lib/python3.8/dist-packages (from matplotlib->qat-core>=1.6.1->myqlm) (1.4.4)\n",
            "Requirement already satisfied: python-dateutil>=2.1 in /usr/local/lib/python3.8/dist-packages (from matplotlib->qat-core>=1.6.1->myqlm) (2.8.2)\n",
            "Requirement already satisfied: cycler>=0.10 in /usr/local/lib/python3.8/dist-packages (from matplotlib->qat-core>=1.6.1->myqlm) (0.11.0)\n",
            "Requirement already satisfied: py>=1.5.0 in /usr/local/lib/python3.8/dist-packages (from pytest->myqlm-fermion>=1.0.0->myqlm) (1.11.0)\n",
            "Requirement already satisfied: attrs>=17.4.0 in /usr/local/lib/python3.8/dist-packages (from pytest->myqlm-fermion>=1.0.0->myqlm) (22.2.0)\n",
            "Requirement already satisfied: more-itertools>=4.0.0 in /usr/local/lib/python3.8/dist-packages (from pytest->myqlm-fermion>=1.0.0->myqlm) (9.0.0)\n",
            "Requirement already satisfied: setuptools in /usr/local/lib/python3.8/dist-packages (from pytest->myqlm-fermion>=1.0.0->myqlm) (57.4.0)\n",
            "Requirement already satisfied: atomicwrites>=1.0 in /usr/local/lib/python3.8/dist-packages (from pytest->myqlm-fermion>=1.0.0->myqlm) (1.4.1)\n",
            "Requirement already satisfied: pluggy<0.8,>=0.5 in /usr/local/lib/python3.8/dist-packages (from pytest->myqlm-fermion>=1.0.0->myqlm) (0.7.1)\n",
            "/usr/bin/python3: Error while finding module specification for 'qat.magics.install' (ModuleNotFoundError: No module named 'qat.magics')\n"
          ]
        }
      ]
    },
    {
      "cell_type": "markdown",
      "id": "bad09515",
      "metadata": {
        "id": "bad09515"
      },
      "source": [
        "## Part 1 implementing QAOA\n"
      ]
    },
    {
      "cell_type": "markdown",
      "id": "536219fc",
      "metadata": {
        "id": "536219fc"
      },
      "source": [
        "### Question1 :\n",
        "Write down in the cell below the Hamiltonian whose ground state is the solution to MaxCUT on an input graph $G=(V,E)$:"
      ]
    },
    {
      "cell_type": "markdown",
      "id": "fd36b562",
      "metadata": {
        "id": "fd36b562"
      },
      "source": [
        "$$ H = \\sum_{i,j\\in E} \\sigma_z^i \\cdot \\sigma_z^j $$"
      ]
    },
    {
      "cell_type": "markdown",
      "id": "b045f8b7",
      "metadata": {
        "id": "b045f8b7"
      },
      "source": [
        "### Question 2:\n",
        "Complete the implementation below of a simple, brute-force enumeration of all states computing the optimal solution to MaxCUT for the graph represented by 'edges'"
      ]
    },
    {
      "cell_type": "markdown",
      "source": [
        "$$ \\langle x | H |x \\rangle =\\sum_{i,j\\in E}{\\langle x_i | \\sigma_z^i |x_i \\rangle \\langle x_j | \\sigma_z^j |x_j \\rangle } = \\sum_{i,j\\in E} (1-2x_i)  (1-2x_j) $$\n",
        "\n"
      ],
      "metadata": {
        "id": "IemSc-vIokQD"
      },
      "id": "IemSc-vIokQD"
    },
    {
      "cell_type": "code",
      "execution_count": null,
      "id": "7bc976fa",
      "metadata": {
        "colab": {
          "base_uri": "https://localhost:8080/"
        },
        "id": "7bc976fa",
        "outputId": "6ca14193-ce20-4ace-b45e-331e5a091443"
      },
      "outputs": [
        {
          "output_type": "stream",
          "name": "stdout",
          "text": [
            "-5\n",
            "[1, 0, 0, 1, 1]\n"
          ]
        }
      ],
      "source": [
        "import numpy as np\n",
        "\n",
        "graph1 = [(0,1),(0,2),(1,3),(2,3)]\n",
        "graph2 = [(0,1),(1,2),(0,3),(1,4),(2,5),(3,6),(4,7),(5,8),(3,4),(4,5),(6,7),(7,8)]\n",
        "graph3 = [(0,1),(1,2),(0,3),(1,4),(2,5),(3,6),(4,7),(3,4),(4,5),(6,7)]\n",
        "graph4 = [(0,1),(1,2),(2,3),(4,5),(5,6),(6,7),(0,4),(1,5),(2,6),(3,7)]\n",
        "graph5 = [(0,1),(0,2),(1,3),(2,4),(3,5),(4,5),(1,4)]\n",
        "graph6 = [(0,1),(0,2),(1,3),(2,4),(1,4)]\n",
        "\n",
        "\n",
        "# choice of graph\n",
        "edges = graph6\n",
        "\n",
        "nqubits = max([max(list(v)) for v in edges])+1\n",
        "\n",
        "#nqubits = 5\n",
        "graph7 = [(i,(i+1)%nqubits) for i in range(nqubits)]+[(1,4)]\n",
        "\n",
        "\n",
        "# COMPUTATION OF OPT.\n",
        "best_value = len(edges)\n",
        "best_b = 0\n",
        "for x in range(2**nqubits):\n",
        "    b = np.binary_repr(x, width=nqubits)\n",
        "    b = [int(b[i]) for i in range(nqubits)]\n",
        "    # TODO: Complete the computation below:\n",
        "\n",
        "    #We calculate the average value of H in state x using the properties of vector products given in the pdf file.\n",
        "    val = 0\n",
        "    for edge in edges:\n",
        "      i=edge[0]\n",
        "      j=edge[1]\n",
        "      val+=(1-2*b[i])*(1-2*b[j])\n",
        "\n",
        "    # END TODO\n",
        "    if val <= best_value:\n",
        "        best_value = val\n",
        "        best_b = b\n",
        "print(best_value)\n",
        "print(best_b)"
      ]
    },
    {
      "cell_type": "markdown",
      "id": "4bed0ead",
      "metadata": {
        "id": "4bed0ead"
      },
      "source": [
        "#### visualization of the graph"
      ]
    },
    {
      "cell_type": "code",
      "execution_count": null,
      "id": "11a7d2a7",
      "metadata": {
        "colab": {
          "base_uri": "https://localhost:8080/",
          "height": 248
        },
        "id": "11a7d2a7",
        "outputId": "3689b0be-168d-4cef-a476-b8969a19c9ba"
      },
      "outputs": [
        {
          "output_type": "display_data",
          "data": {
            "text/plain": [
              "<Figure size 432x288 with 1 Axes>"
            ],
            "image/png": "[encoded data removed]"
          },
          "metadata": {}
        }
      ],
      "source": [
        "import networkx as nx\n",
        "G = nx.Graph()\n",
        "for i,j in edges:\n",
        "    G.add_edge(i,j)\n",
        "nx.draw_networkx(G)"
      ]
    },
    {
      "cell_type": "code",
      "execution_count": null,
      "id": "1bcf8886",
      "metadata": {
        "id": "1bcf8886"
      },
      "outputs": [],
      "source": [
        "from qat.lang.AQASM import Program, H, CNOT, RX, QRoutine, RZ, X, Z"
      ]
    },
    {
      "cell_type": "code",
      "execution_count": null,
      "id": "f125405c",
      "metadata": {
        "id": "f125405c"
      },
      "outputs": [],
      "source": [
        "def U_ZZ(theta):\n",
        "    \n",
        "    zz_r = QRoutine()\n",
        "    zz_r.apply(CNOT, 0, 1)\n",
        "    zz_r.apply(RZ(theta), 1) # difference of convention between implemented version and what we need.\n",
        "    zz_r.apply(CNOT, 0, 1)\n",
        "\n",
        "    return zz_r"
      ]
    },
    {
      "cell_type": "markdown",
      "id": "b87e91ed",
      "metadata": {
        "id": "b87e91ed"
      },
      "source": [
        "### Question 3"
      ]
    },
    {
      "cell_type": "markdown",
      "source": [
        "$$e^{-i\\beta H_c} = e^{-i\\beta \\sum \\sigma_z^i \\cdot \\sigma_z^j}= \\prod_{i,j\\in E}e^{-i\\beta \\sigma_z^i \\cdot \\sigma_z^j} = \\prod_{i,j\\in E}U_{ZZ}(2\\beta)$$"
      ],
      "metadata": {
        "id": "w1-xpT1fmnOO"
      },
      "id": "w1-xpT1fmnOO"
    },
    {
      "cell_type": "code",
      "execution_count": null,
      "id": "27954bb3",
      "metadata": {
        "id": "27954bb3"
      },
      "outputs": [],
      "source": [
        "def one_qaoa_layer(n_qubits, edges, theta, beta):\n",
        "    layer = QRoutine()\n",
        "    #TODO: implement one qaoa layer\n",
        "    #we apply the x rotation on each qubit\n",
        "    for qubit in range(n_qubits):\n",
        "      layer.apply(RX(theta), qubit)\n",
        "    #we then apply the the cost function hamiltonian using the previous calculation (looping over all edges)\n",
        "    for edge in edges:\n",
        "      i = edge[0]\n",
        "      j = edge[1]\n",
        "      layer.apply(U_ZZ(2*beta),i,j)\n",
        "    \n",
        "    return layer"
      ]
    },
    {
      "cell_type": "markdown",
      "id": "bd0c36a5",
      "metadata": {
        "id": "bd0c36a5"
      },
      "source": [
        "### Question 4"
      ]
    },
    {
      "cell_type": "code",
      "execution_count": null,
      "id": "655a9aaa",
      "metadata": {
        "id": "655a9aaa"
      },
      "outputs": [],
      "source": [
        "from qat.qpus import get_default_qpu\n",
        "\n",
        "def evaluate_parameters(n_qubits, edges, parameters, n_layers):\n",
        "    \n",
        "    prog = Program()\n",
        "    qubits = prog.qalloc(n_qubits)\n",
        "    \n",
        "    # TODO: implement initialization+parameterized circuit\n",
        "    #we create an hadamard gate between each qubit\n",
        "    for qubit_num in range(n_qubits):\n",
        "      prog.apply(H, qubits[qubit_num])\n",
        "    \n",
        "    list_thetas=parameters[::2]\n",
        "    list_betas=parameters[1::2]\n",
        "\n",
        "    #we apply each layer of the qaoa\n",
        "    for parameter_num in range(len(list_thetas)):\n",
        "      theta=list_thetas[parameter_num]\n",
        "      beta=list_betas[parameter_num]\n",
        "      prog.apply(one_qaoa_layer(n_qubits,edges,theta,beta),qubits)\n",
        "\n",
        "    # END TODO\n",
        "    circ = prog.to_circ()\n",
        "    \n",
        "    job = circ.to_job()\n",
        "    qpu = get_default_qpu()\n",
        "    \n",
        "    result = qpu.submit(job)\n",
        "    \n",
        "    # BEGIN TODO\n",
        "    obs = 0\n",
        "    for sample in result:\n",
        "      # this loop is over all 2**nqubits states.\n",
        "      # sample.state.bitstring contains the qubit values (nqubits 0 or 1)\n",
        "      b = [int(i)*2-1 for i in sample.state.bitstring] # transforms the 0s into -1s to calculate the observable\n",
        "      for i,j in edges:\n",
        "        obs += b[i]*b[j]*sample.probability\n",
        "    # END TODO\n",
        "    return obs\n",
        "    \n",
        "        "
      ]
    },
    {
      "cell_type": "code",
      "execution_count": null,
      "id": "88963901",
      "metadata": {
        "id": "88963901",
        "colab": {
          "base_uri": "https://localhost:8080/"
        },
        "outputId": "cccf38fd-058d-444c-99bb-f172f7c6725f"
      },
      "outputs": [
        {
          "output_type": "execute_result",
          "data": {
            "text/plain": [
              "array([0.34182044, 0.64276177, 0.40884052])"
            ]
          },
          "metadata": {},
          "execution_count": 31
        }
      ],
      "source": [
        "import numpy as np\n",
        "np.random.random(3)"
      ]
    },
    {
      "cell_type": "code",
      "execution_count": null,
      "id": "42557843",
      "metadata": {
        "id": "42557843"
      },
      "outputs": [],
      "source": [
        "from scipy.optimize import minimize\n"
      ]
    },
    {
      "cell_type": "markdown",
      "id": "0846a6dd",
      "metadata": {
        "id": "0846a6dd"
      },
      "source": [
        "### Random initialisation"
      ]
    },
    {
      "cell_type": "markdown",
      "id": "f679d3e0",
      "metadata": {
        "id": "f679d3e0"
      },
      "source": [
        "### Question 5: \n",
        "réponse à la question: 9 layers seems to be the minimum required to obtain the optimal value for graph 6."
      ]
    },
    {
      "cell_type": "code",
      "execution_count": null,
      "id": "36f6e279",
      "metadata": {
        "id": "36f6e279",
        "colab": {
          "base_uri": "https://localhost:8080/",
          "height": 321
        },
        "outputId": "8ebdce33-9519-4466-9081-3af1f4d0d96a"
      },
      "outputs": [
        {
          "output_type": "stream",
          "name": "stdout",
          "text": [
            "-0.7190174919306476 -1.2024515715487234 -2.220771520309979 -2.5389505752650043 -2.622717525107237 -3.458980231229559 -3.7590251934587844 -4.042373049868073 -4.174866605984626 -4.300355843877002 -4.48412126408999 -4.586267748616452 -4.651379861681671 -4.688503843855768 -4.700477597390018 -4.713036311822046 -4.7180770449746285 -4.726026943137179 -4.738099146276247 -4.750758743764885 -4.7687515741860125 -4.800342796896575 -4.819201886804337 -4.826980041113568 -4.832569310249304 -4.834161096197706 -4.834561085913171 -4.835285600976903 -4.8365882241536875 -4.838760355953781 -4.8416015920187725 -4.843482592079561 -4.846453934185363 -4.850167472874729 -4.850873841118802 -4.851923419306545 -4.852351523759763 -4.852892861298216 -4.853098619925499 -4.853309437679137 -4.8535993007791935 -4.853784610314881 -4.853886454372457 -4.853924907945998 -4.853938205902227 -4.853955273352404 -4.85398615702539 -4.854044243619911 -4.854155349963412 -4.854360857712637 -4.854510998326301 -4.8546507074296406 -4.85472772363375 -4.854780531513016 -4.854788007249185 -4.854795446224836 -4.854805168355177 -4.8548107977145785 -4.854817785218019 -4.854822203080894 -4.85482866191968 -4.8548391863216285 -4.854856590996768 -4.854883663760141 -4.854910844132476 -4.8549234415702145 -4.8549271080925935 -4.854929546349477 -4.854932798441124 -4.85493791949818 -4.854944033756663 -4.854949695255273 -4.854953472608814 -4.854959956005422 -4.854971705990509 -4.854992463803223 -4.855025436215034 -4.855043297698634 -4.855054966885778 -4.85507237344389 -4.855097753913218 -4.855128687341943 -4.855149124701962 -4.855180765382189 -4.855217920170906 -4.855227638220077 -4.855240610335604 -4.855249715775355 -4.855256962032628 -4.855266113740654 -4.8552709324081835 -4.855273294952439 -4.855277197925261 -4.855284280707139 -4.855297475245668 -4.855322536838637 -4.85536971724124 -4.855450753364851 -4.855488531221392 -4.855524463849876 -4.855573494481431 -4.85561670459459 -4.855629263111989 -4.855638680130543 -4.855654221456061 -4.855677428281794 -4.855703799544636 -4.855707758009231 -4.8557144627341025 -4.8557222517807865 -4.85572364817139 -4.855725209224371 -4.855725859676342 -4.8557261132568135 -4.85572626019462 -4.855726414775559 -4.855726604360434 -4.855726715703491 -4.855726744724491 -4.855726747141385 -4.855726747215863 -4.855726747227701 -0.13523186143614876 -1.1634090797869876 -1.4647649572374588 -1.6956851693445347 -1.887959747843518 -2.0689465299529735 -2.2552998934184036 -2.3659093992577644 -2.5409721116689905 -2.7446436064815996 -2.808094450797056 -2.911767382025005 -3.5131656294611657 -3.7396226353554556 -3.8590035490485852 -3.9146376186587672 -4.004066957079667 -4.152653481450864 -4.236572893946259 -4.355247411059445 -4.470288654424866 -4.652090051768578 -4.743051571343538 -4.764751208447236 -4.795333568326404 -4.803266090534359 -4.808053405879895 -4.8139978959130145 -4.819468309774884 -4.828557004547449 -4.844314492801318 -4.862029224484992 -4.869188512238399 -4.878901711640085 -4.889734742225217 -4.896975271934859 -4.898231074001898 -4.899331966352243 -4.899966403250872 -4.900590171964151 -4.901771966331092 -4.903965177506755 -4.907608856471244 -4.910381916130141 -4.914001106148234 -4.917955411917216 -4.922987611113866 -4.9253333243460125 -4.928120115227437 -4.929269872421465 -4.930931690264265 -4.931873131426521 -4.9329944156956005 -4.933577079548155 -4.934229736447498 -4.9350484224672835 -4.936470684380733 -4.939031100475426 -4.943263743119741 -4.946701715144824 -4.949761000739063 -4.9505783619001456 -4.951670769247381 -4.952500442265369 -4.9529700385082185 -4.953511688340518 -4.953763074174258 -4.95418238180383 -4.954742915674798 -4.955128980638703 -4.9556423267080545 -4.955925314171625 -4.955982388629669 -4.956023148573864 -4.956052945662355 -4.956091172589277 -4.956137811079729 -4.956221290425744 -4.956379663849468 -4.956670748993022 -4.956977692918157 -4.957469498741717 -4.95840216969752 -4.960112467028134 -4.962278764473183 -4.963006527318116 -4.963738635318833 -4.964253951651716 -4.964718487620052 -4.965347129431703 -4.966388440995824 -4.967572669116191 -4.968264700702342 -4.96934116485265 -4.970823122319267 -4.9710509420498585 -4.9724782604574775 -4.973060786623438 -4.973540894285242 -4.974105954067152 -4.974595747633511 -4.9749841068900436 -4.975187478675745 -4.975259838930128 -4.975326567274263 -4.97536400568573 -4.975432378061167 -4.975556096946721 -4.975769091751754 -4.976076041864341 -4.976543600206004 -4.977364445425269 -4.978699644535189 -4.979519699249863 -4.980625996474197 -4.981468059853212 -4.9817231151886965 -4.981873808618075 -4.9819711797521755 -4.982022389102239 -4.982084010860246 -4.982187564234889 -4.982331343882775 -4.982430521421851 -4.982511926786301 -4.982617308099678 -4.982728040355639 -4.982781237038016 -4.982855738698722 -4.982973232730745 -4.983149448264052 -4.983383301898629 -4.9834809702622875 -4.983645675030604 -4.98379639773018 -4.983946341034376 -4.9840188246476185 -4.9841251416893835 -4.984226437573283 -4.984327276580427 -4.9843655661318165 -4.984405804469569 -4.984422895488661 -4.984436293576613 -4.9844473708389225 -4.984464515474079 -4.984488224626265 -4.984513228369106 -4.984529036427945 -4.984553954172539 -4.984586470531269 -4.9846082212696965 -4.984623382213154 -4.9846311905336 -4.984637797226758 -4.9846415714791155 -4.984647435693915 -4.984656462198547 -4.9846695258361855 -4.984685038535323 -4.9846959734373195 -4.984702790252337 -4.984710572127981 -4.984721883478059 -4.984740059573695 -4.984769731300881 -4.984818648209293 -4.9848905345191845 -4.984970802683751 -4.985079353721506 -4.98517266427538 -4.985229354660781 -4.985272236179847 -4.985298995609612 -4.985316569876736 -4.985326904190607 -4.9853360522068995 -4.985340563354124 -4.985345007951544 -4.985346148061875 -4.985346559526431 -4.985346615804925 -4.9853466313656405 -4.985346637619269 -4.985346641643082 -4.98534664515459 -4.985346651482132 -4.985346663153748 -4.985346684611853 -4.985346724082632 -4.98534679508356 -4.985346918490897 -4.985347119837823 -4.985347418586853 -4.985347760593943 -4.985348175443502 -4.985348369710992 -4.985348397870816 -4.985348399709857 -4.985348399755331 -0.739644776626616 -1.1883364606249693 -1.5919918628138392 -1.7973424916979683 -2.165195931648332 -3.3009182626584077 -3.6170825860238205 -3.927410507689975 -4.092390541657207 -4.113035512340004 -4.149017943397143 -4.320262523265384 -4.4069386499921395 -4.447582683332419 -4.512024102545581 -4.550041066346265 -4.574230864091289 -4.589132891185796 -4.613310802632341 -4.640644890611884 -4.659501596436708 -4.6676355428638 -4.682769190881091 -4.709191208965968 -4.74405172661768 -4.7597732431115185 -4.772105930611042 -4.785231126819277 -4.793755207297624 -4.804138279113838 -4.808925535409 -4.814969252500492 -4.819528018108748 -4.826333878485049 -4.832740208102039 -4.8379410829862515 -4.843125188435412 -4.848059817445716 -4.851182395583216 -4.853486348464437 -4.855434456827572 -4.8565447319967445 -4.857563941419289 -4.859347450991576 -4.860472343408818 -4.861748595134815 -4.862801705559103 -4.864442979810277 -4.872675683809075 -4.875647888481089 -4.879660148933769 -4.884801540679002 -4.8908199545303646 -4.897960255753716 -4.905093397148536 -4.915491812091347 -4.920017778163962 -4.9230522511429315 -4.925001828863849 -4.927995619264263 -4.932451452894815 -4.938266770536394 -4.941807753793834 -4.946803360901154 -4.9511184618046755 -4.956450651756949 -4.95922028843918 -4.9613780973539106 -4.962971064261496 -4.964344239781022 -4.96475365081151 -4.96510448644769 -4.965465995397569 -4.966020966984532 -4.966795782510648 -4.967453542547545 -4.967882626891789 -4.968247754886394 -4.968702267873939 -4.969196752182324 -4.969500762702055 -4.969670014414743 -4.969803542122975 -4.970019862100273 -4.970352216077851 -4.97070641680862 -4.970867966145255 -4.970917623839124 -4.970952863694867 -4.970986849876777 -4.971021386880621 -4.971075706206872 -4.971151682434675 -4.97122400600885 -4.971302905218162 -4.971344203534237 -4.971368608764057 -4.971406166622078 -4.971470627509531 -4.971564322650441 -4.971629486500623 -4.971650582235749 -4.971657465877978 -4.971660980715072 -4.971663076855821 -4.971666594424394 -4.971672306793146 -4.971681401004661 -4.971696562954372 -4.971723276191991 -4.971771425973276 -4.971856621129752 -4.971987875746824 -4.972145048114129 -4.972386651771322 -4.9725235821858575 -4.972702038874612 -4.972734306955174 -4.972772004710647 -4.972802196912969 -4.972825764389979 -4.972863230814805 -4.972913061794357 -4.972995429160215 -4.973142095254861 -4.973389309766606 -4.973786900897286 -4.974317015426624 -4.974572555456786 -4.974969227320674 -4.975423179741932 -4.975644304935273 -4.975791394792067 -4.975851809023989 -4.975951453225072 -4.976124903005593 -4.976435083464267 -4.9769891108816156 -4.977813010764096 -4.978588761732335 -4.979286143653153 -4.979586421792437 -4.979941978249858 -4.980124908016811 -4.98024108119221 -4.980257053804234 -4.980283074656235 -4.980308089386762 -4.980314048621314 -4.980324171220192 -4.980339084237621 -4.980346125335505 -4.980349434256554 -4.9803550490040465 -4.980364618643505 -4.9803800988649485 -4.98039968209032 -4.980406666067969 -4.980410757317038 -4.980411587772237 -4.980412104580497 -4.98041299425301 -4.980414589479917 -4.980417495437277 -4.980422799181409 -4.9804323895263884 -4.980449381914968 -4.9804784720110975 -4.980526645595658 -4.980607746488323 -4.980747383081516 -4.980949726550112 -4.981151065860043 -4.9814425846892805 -4.981559654860695 -4.981637297405023 -4.981648895451144 -4.9817359740748275 -4.981825885723428 -4.9818432959133006 -4.981970058786059 -4.982021558386802 -4.982085443787365 -4.982158168918729 -4.982262235740174 -4.982318465778753 -4.982371172425374 -4.9824451031316315 -4.982464959600106 -4.982494053284341 -4.982542322750934 -4.982628319066903 -4.98268300274193 -4.9827585236459555 -4.982866931393073 -4.982917650187003 -4.982982187334215 -4.983037993470589 -4.983104768625322 -4.983177504191346 -4.983216583255984 -4.983275544083029 -4.983350152068898 -4.983397225568519 -4.9834558731372365 -4.9835335023046765 -4.983653975829999 -4.983841273758494 -4.984108619567346 -4.984276485669012 -4.984519889039204 -4.984729618654404 -4.984840806089845 -4.984978951173545 -4.9850676513882615 -4.985126472166034 -4.985186507831242 -4.985230725483206 -4.985258021515881 -4.98526867779124 -4.985273306730985 -4.985280484160663 -4.985287644486501 -4.985290439109445 -4.985291488878913 -4.985291854950143 -4.98529218622438 -4.985292507564026 -4.985292763632442 -4.985292874532692 -4.985292920321517 -4.98529294962426 -4.9852929857552395 -4.985293043742017 -4.985293138997961 -4.985293297953214 -4.985293569394599 -4.985294041565774 -4.985294874448874 -4.985296343203197 -4.985298884049848 -4.985302905992747 -4.98530836395025 -4.98531641200527 -4.985327565156906 -4.985332355760759 -4.985336879962142 -4.985341075002058 -4.985347166110146 -4.985352666268856 -4.9853578738939435 -4.985364271281488 -4.985368596478215 -4.985375433041868 -4.985386432696455 -4.985400802378513 -4.985419494767463 -4.9854279227319065 -4.985434145750184 -4.98544406712391 -4.985455065598896 -4.985472301825223 -4.985486096232177 -4.985509564140014 -4.985546471404863 -4.9856026871246755 -4.985672964454429 -4.985715506215548 -4.985739990276 -4.985780661151755 -4.985845838951959 -4.9859284899521095 -4.985970122073033 -4.986037740485507 -4.986152365830767 -4.98632764179365 -4.986409746654235 -4.986521286588428 -4.986688817723375 -4.986818621446678 -4.987019330428672 -4.987146895906771 -4.987350025036254 -4.987623556887403 -4.987879976454025 -4.988080158938248 -4.988139004055827 -4.988231432586445 -4.988361705717305 -4.988453359058749 -4.9885261750491035 -4.988574764780499 -4.988604383279408 -4.988646893729727 -4.9886678372927165 -4.988685112295414 -4.988701106108718 -4.98870752679126 -4.988713884289361 -4.988718953627954 -4.988727492086048 -4.988742589364885 -4.988767445396117 -4.988801114607852 -4.9888320566156 -4.988888502799615 -4.9889914319727575 -4.989169803765312 -4.989425169025045 -4.989635976547313 -4.989703032658783 -4.989809262737508 -4.989854990899084 -4.9898832204419055 -4.989895367479037 -4.989903944623429 -4.989906432803863 -4.989908522987313 -4.989909853590591 -4.989910386253504 -4.989910485047951 -4.989910505290352 -4.98991051360653 -4.989910519547311 -4.989910522189908 -4.9899105228024565 -4.9899105228679135 "
          ]
        },
        {
          "output_type": "execute_result",
          "data": {
            "text/plain": [
              "<matplotlib.legend.Legend at 0x7fe0d25a0610>"
            ]
          },
          "metadata": {},
          "execution_count": 33
        },
        {
          "output_type": "display_data",
          "data": {
            "text/plain": [
              "<Figure size 432x288 with 1 Axes>"
            ],
            "image/png": "[encoded data removed]"
          },
          "metadata": {
            "needs_background": "light"
          }
        }
      ],
      "source": [
        "import matplotlib.pylab as plt\n",
        "\n",
        "\n",
        "for nlayers in range(8,11,1):\n",
        "    num_params = 2*nlayers\n",
        "\n",
        "    back_trace = []\n",
        "    def print_avg(xk):\n",
        "        eva = evaluate_parameters(nqubits, edges, xk,nlayers)\n",
        "        back_trace.append(eva)\n",
        "        print(eva, end=' ')\n",
        "\n",
        "    opt_res = minimize(lambda x : evaluate_parameters(nqubits, edges, x, nlayers), \n",
        "                       np.random.random(num_params),\n",
        "                       callback=print_avg,)\n",
        "    plt.plot(back_trace,label=str(nlayers))\n",
        "# there exists a classical polynomial algorithm returning solutions within a factor of 0.878 of the optimal\n",
        "# we must at least beat that. https://fr.wikipedia.org/wiki/Coupe_maximum\n",
        "plt.axhline(0.878*best_value, color='b', label=\"classical apx ratio\")\n",
        "plt.axhline(best_value,color='r',label='optimal value')\n",
        "plt.legend()"
      ]
    },
    {
      "cell_type": "markdown",
      "id": "e9dffce1",
      "metadata": {
        "id": "e9dffce1"
      },
      "source": [
        "### Question 6: smart initialization"
      ]
    },
    {
      "cell_type": "markdown",
      "source": [
        "Using the information given in the pdf, we introduce the summ approximation in the exponential and find: \n",
        "$$e^{-i∫_0^T H(s)ds}=\\prod_{k=1}^p \\left[\\prod_{l=1}^{n_q} e^{-i \\frac{T}{P}(1-\\frac{k}{P})\\sigma_x^l}\\right]\\left[e^{-i \\frac{kT}{p^2}H_c}\\right]$$\n",
        "\n",
        "Therefore \n",
        "$$ \\begin{cases}\n",
        "\\theta_k=2\\frac{T}{p}(1-\\frac{k}{p})\\\\\n",
        "\\beta_k=\\frac{Tk}{p^2}\n",
        "\\end{cases}\\,$$\n",
        "\n",
        "We see that the new implementation significantly speeds up the convergence."
      ],
      "metadata": {
        "id": "eXleKNxruJW1"
      },
      "id": "eXleKNxruJW1"
    },
    {
      "cell_type": "code",
      "execution_count": null,
      "id": "d1eb83de",
      "metadata": {
        "id": "d1eb83de",
        "colab": {
          "base_uri": "https://localhost:8080/",
          "height": 321
        },
        "outputId": "ad895517-db24-4ae2-d75f-bf81886da1e9"
      },
      "outputs": [
        {
          "output_type": "stream",
          "name": "stdout",
          "text": [
            "0.6270900144038261 0.28038324827800004 -0.34508436926488484 -0.7805367459348913 -1.3427084653182404 -1.4364372632488147 -1.6000527644112443 -1.8148159480659838 -1.973761951980846 -2.2491643440283906 -2.8008128599432287 -3.1288695973895764 -3.376452313859183 -3.7731112753823095 -3.860669840349649 -3.9561306857594456 -3.965797715301357 -3.9739290855357847 -3.977751985582893 -3.9782482765837326 -3.9782687935086853 -3.978269029213505 -3.9782690296553334 0.33328156101133344 -0.07056468104330738 -0.7441981885014652 -1.6747264224772032 -2.0176916919674817 -2.6963385050289905 -3.3451823826398552 -3.5413731840306393 -3.6145345860386016 -3.6639142936710956 -3.703294007082281 -3.7295930762107465 -3.740648406429719 -3.7435113825451194 -3.7439672444287564 -3.744118439217816 -3.7441213545470275 -3.7441216156212214 -3.7441216166309 -3.7441216166405935 -1.5993592070257328 -2.2878186814030452 -2.719448921835742 -2.9508701977248193 -3.0707793624987216 -3.84239056562277 -3.92618443379188 -4.080278124635068 -4.351443059328758 -4.45784991925701 -4.482939472776441 -4.527066935408699 -4.587087761918731 -4.599324680332208 -4.605184675021164 -4.615884767793145 -4.63455860297569 -4.655704251026942 -4.67097131968412 -4.6933158081865205 -4.708850164312775 -4.730794003978002 -4.74741371364541 -4.755379694546686 -4.760219788214756 -4.764556443993604 -4.767674256431308 -4.769251338228199 -4.769962969256095 -4.770183196110032 -4.77059169671047 -4.7713368055622025 -4.772625677086504 -4.7745187204569195 -4.775666803485259 -4.7762218220950645 -4.776580082993379 -4.7766291151770055 -4.776637079742132 -4.776640387508457 -4.7766404501744635 -4.776640452252192 -4.7766404522602475 "
          ]
        },
        {
          "output_type": "execute_result",
          "data": {
            "text/plain": [
              "[<matplotlib.lines.Line2D at 0x7fe0c65a03d0>]"
            ]
          },
          "metadata": {},
          "execution_count": 42
        },
        {
          "output_type": "display_data",
          "data": {
            "text/plain": [
              "<Figure size 432x288 with 1 Axes>"
            ],
            "image/png": "[encoded data removed]"
          },
          "metadata": {
            "needs_background": "light"
          }
        }
      ],
      "source": [
        "T = 1.\n",
        "\n",
        "for nlayers in range(3,6,1):\n",
        "    num_params = 2*nlayers\n",
        "\n",
        "    back_trace = []\n",
        "    def print_avg(xk):\n",
        "        eva = evaluate_parameters(nqubits, edges, xk,nlayers)\n",
        "        back_trace.append(eva)\n",
        "        print(eva, end=' ')\n",
        "\n",
        "    # TODO implement parameter init\n",
        "    #we implement the creation of the initial parameters expressed earlier\n",
        "    parameters_init = []\n",
        "    p=nlayers\n",
        "    for k in range(p):\n",
        "      theta_k=((2*T)/p)*(1-k/p)\n",
        "      beta_k=(T*k)/p\n",
        "      parameters_init.append(theta_k)\n",
        "      parameters_init.append(beta_k)\n",
        "\n",
        "    # END TODO        \n",
        "    opt_res = minimize(lambda x : evaluate_parameters(nqubits, edges, x, nlayers), \n",
        "                       parameters_init, \n",
        "                       callback=print_avg,)\n",
        "plt.axhline(0.878*best_value, color='b', label=\"classical apx ratio\")\n",
        "plt.axhline(best_value,color='r',label='optimal value')\n",
        "plt.legend()\n",
        "plt.plot(back_trace,label=str(nlayers)) #we add this line to plot"
      ]
    }
  ],
  "metadata": {
    "kernelspec": {
      "display_name": "Python 3 (ipykernel)",
      "language": "python",
      "name": "python3"
    },
    "language_info": {
      "codemirror_mode": {
        "name": "ipython",
        "version": 3
      },
      "file_extension": ".py",
      "mimetype": "text/x-python",
      "name": "python",
      "nbconvert_exporter": "python",
      "pygments_lexer": "ipython3",
      "version": "3.10.6"
    },
    "colab": {
      "provenance": []
    }
  },
  "nbformat": 4,
  "nbformat_minor": 5
}