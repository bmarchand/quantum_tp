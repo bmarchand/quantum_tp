{
  "cells": [
    {
      "cell_type": "markdown",
      "id": "bad09515",
      "metadata": {
        "id": "bad09515"
      },
      "source": [
        "## Part 1 implementing QAOA\n"
      ]
    },
    {
      "cell_type": "code",
      "source": [
        "!pip install wand\n",
        "\n",
        "!apt install imagemagick\n",
        "\n",
        "!pip install myqlm\n",
        "\n",
        "!python -m qat.magics.install"
      ],
      "metadata": {
        "colab": {
          "base_uri": "https://localhost:8080/"
        },
        "id": "U069yXVNcRpM",
        "outputId": "730cf323-af19-4702-f3b0-e524e6301d6f"
      },
      "id": "U069yXVNcRpM",
      "execution_count": 1,
      "outputs": [
        {
          "output_type": "stream",
          "name": "stdout",
          "text": [
            "Looking in indexes: https://pypi.org/simple, https://us-python.pkg.dev/colab-wheels/public/simple/\n",
            "Collecting wand\n",
            "  Downloading Wand-0.6.11-py2.py3-none-any.whl (143 kB)\n",
            "\u001b[2K     \u001b[90m━━━━━━━━━━━━━━━━━━━━━━━━━━━━━━━━━━━━━━━\u001b[0m \u001b[32m143.6/143.6 KB\u001b[0m \u001b[31m6.0 MB/s\u001b[0m eta \u001b[36m0:00:00\u001b[0m\n",
            "\u001b[?25hInstalling collected packages: wand\n",
            "Successfully installed wand-0.6.11\n",
            "Reading package lists... Done\n",
            "Building dependency tree       \n",
            "Reading state information... Done\n",
            "The following package was automatically installed and is no longer required:\n",
            "  libnvidia-common-460\n",
            "Use 'apt autoremove' to remove it.\n",
            "The following additional packages will be installed:\n",
            "  fonts-droid-fallback fonts-noto-mono ghostscript gsfonts\n",
            "  imagemagick-6-common imagemagick-6.q16 libcupsfilters1 libcupsimage2\n",
            "  libdjvulibre-text libdjvulibre21 libgs9 libgs9-common libijs-0.35\n",
            "  libjbig2dec0 liblqr-1-0 libmagickcore-6.q16-3 libmagickcore-6.q16-3-extra\n",
            "  libmagickwand-6.q16-3 libnetpbm10 libwmf0.2-7 netpbm poppler-data\n",
            "Suggested packages:\n",
            "  fonts-noto ghostscript-x imagemagick-doc autotrace cups-bsd | lpr | lprng\n",
            "  enscript gimp gnuplot grads hp2xx html2ps libwmf-bin mplayer povray radiance\n",
            "  sane-utils texlive-base-bin transfig ufraw-batch inkscape libjxr-tools\n",
            "  libwmf0.2-7-gtk poppler-utils fonts-japanese-mincho | fonts-ipafont-mincho\n",
            "  fonts-japanese-gothic | fonts-ipafont-gothic fonts-arphic-ukai\n",
            "  fonts-arphic-uming fonts-nanum\n",
            "The following NEW packages will be installed:\n",
            "  fonts-droid-fallback fonts-noto-mono ghostscript gsfonts imagemagick\n",
            "  imagemagick-6-common imagemagick-6.q16 libcupsfilters1 libcupsimage2\n",
            "  libdjvulibre-text libdjvulibre21 libgs9 libgs9-common libijs-0.35\n",
            "  libjbig2dec0 liblqr-1-0 libmagickcore-6.q16-3 libmagickcore-6.q16-3-extra\n",
            "  libmagickwand-6.q16-3 libnetpbm10 libwmf0.2-7 netpbm poppler-data\n",
            "0 upgraded, 23 newly installed, 0 to remove and 20 not upgraded.\n",
            "Need to get 18.4 MB of archives.\n",
            "After this operation, 66.3 MB of additional disk space will be used.\n",
            "Get:1 http://archive.ubuntu.com/ubuntu bionic/main amd64 fonts-droid-fallback all 1:6.0.1r16-1.1 [1,805 kB]\n",
            "Get:2 http://archive.ubuntu.com/ubuntu bionic/main amd64 liblqr-1-0 amd64 0.4.2-2.1 [27.7 kB]\n",
            "Get:3 http://archive.ubuntu.com/ubuntu bionic-updates/main amd64 imagemagick-6-common all 8:6.9.7.4+dfsg-16ubuntu6.14 [60.5 kB]\n",
            "Get:4 http://archive.ubuntu.com/ubuntu bionic-updates/main amd64 libmagickcore-6.q16-3 amd64 8:6.9.7.4+dfsg-16ubuntu6.14 [1,622 kB]\n",
            "Get:5 http://archive.ubuntu.com/ubuntu bionic-updates/main amd64 libmagickwand-6.q16-3 amd64 8:6.9.7.4+dfsg-16ubuntu6.14 [294 kB]\n",
            "Get:6 http://archive.ubuntu.com/ubuntu bionic/main amd64 poppler-data all 0.4.8-2 [1,479 kB]\n",
            "Get:7 http://archive.ubuntu.com/ubuntu bionic/main amd64 fonts-noto-mono all 20171026-2 [75.5 kB]\n",
            "Get:8 http://archive.ubuntu.com/ubuntu bionic-updates/main amd64 libcupsimage2 amd64 2.2.7-1ubuntu2.9 [18.6 kB]\n",
            "Get:9 http://archive.ubuntu.com/ubuntu bionic/main amd64 libijs-0.35 amd64 0.35-13 [15.5 kB]\n",
            "Get:10 http://archive.ubuntu.com/ubuntu bionic/main amd64 libjbig2dec0 amd64 0.13-6 [55.9 kB]\n",
            "Get:11 http://archive.ubuntu.com/ubuntu bionic-updates/main amd64 libgs9-common all 9.26~dfsg+0-0ubuntu0.18.04.17 [5,092 kB]\n",
            "Get:12 http://archive.ubuntu.com/ubuntu bionic-updates/main amd64 libgs9 amd64 9.26~dfsg+0-0ubuntu0.18.04.17 [2,267 kB]\n",
            "Get:13 http://archive.ubuntu.com/ubuntu bionic-updates/main amd64 ghostscript amd64 9.26~dfsg+0-0ubuntu0.18.04.17 [51.3 kB]\n",
            "Get:14 http://archive.ubuntu.com/ubuntu bionic/main amd64 gsfonts all 1:8.11+urwcyr1.0.7~pre44-4.4 [3,120 kB]\n",
            "Get:15 http://archive.ubuntu.com/ubuntu bionic-updates/main amd64 imagemagick-6.q16 amd64 8:6.9.7.4+dfsg-16ubuntu6.14 [423 kB]\n",
            "Get:16 http://archive.ubuntu.com/ubuntu bionic-updates/main amd64 imagemagick amd64 8:6.9.7.4+dfsg-16ubuntu6.14 [14.2 kB]\n",
            "Get:17 http://archive.ubuntu.com/ubuntu bionic-updates/main amd64 libcupsfilters1 amd64 1.20.2-0ubuntu3.1 [108 kB]\n",
            "Get:18 http://archive.ubuntu.com/ubuntu bionic-updates/main amd64 libdjvulibre-text all 3.5.27.1-8ubuntu0.4 [49.4 kB]\n",
            "Get:19 http://archive.ubuntu.com/ubuntu bionic-updates/main amd64 libdjvulibre21 amd64 3.5.27.1-8ubuntu0.4 [561 kB]\n",
            "Get:20 http://archive.ubuntu.com/ubuntu bionic/main amd64 libwmf0.2-7 amd64 0.2.8.4-12 [150 kB]\n",
            "Get:21 http://archive.ubuntu.com/ubuntu bionic-updates/main amd64 libmagickcore-6.q16-3-extra amd64 8:6.9.7.4+dfsg-16ubuntu6.14 [62.2 kB]\n",
            "Get:22 http://archive.ubuntu.com/ubuntu bionic/main amd64 libnetpbm10 amd64 2:10.0-15.3build1 [58.0 kB]\n",
            "Get:23 http://archive.ubuntu.com/ubuntu bionic/main amd64 netpbm amd64 2:10.0-15.3build1 [1,017 kB]\n",
            "Fetched 18.4 MB in 3s (7,182 kB/s)\n",
            "Selecting previously unselected package fonts-droid-fallback.\n",
            "(Reading database ... 124016 files and directories currently installed.)\n",
            "Preparing to unpack .../00-fonts-droid-fallback_1%3a6.0.1r16-1.1_all.deb ...\n",
            "Unpacking fonts-droid-fallback (1:6.0.1r16-1.1) ...\n",
            "Selecting previously unselected package liblqr-1-0:amd64.\n",
            "Preparing to unpack .../01-liblqr-1-0_0.4.2-2.1_amd64.deb ...\n",
            "Unpacking liblqr-1-0:amd64 (0.4.2-2.1) ...\n",
            "Selecting previously unselected package imagemagick-6-common.\n",
            "Preparing to unpack .../02-imagemagick-6-common_8%3a6.9.7.4+dfsg-16ubuntu6.14_all.deb ...\n",
            "Unpacking imagemagick-6-common (8:6.9.7.4+dfsg-16ubuntu6.14) ...\n",
            "Selecting previously unselected package libmagickcore-6.q16-3:amd64.\n",
            "Preparing to unpack .../03-libmagickcore-6.q16-3_8%3a6.9.7.4+dfsg-16ubuntu6.14_amd64.deb ...\n",
            "Unpacking libmagickcore-6.q16-3:amd64 (8:6.9.7.4+dfsg-16ubuntu6.14) ...\n",
            "Selecting previously unselected package libmagickwand-6.q16-3:amd64.\n",
            "Preparing to unpack .../04-libmagickwand-6.q16-3_8%3a6.9.7.4+dfsg-16ubuntu6.14_amd64.deb ...\n",
            "Unpacking libmagickwand-6.q16-3:amd64 (8:6.9.7.4+dfsg-16ubuntu6.14) ...\n",
            "Selecting previously unselected package poppler-data.\n",
            "Preparing to unpack .../05-poppler-data_0.4.8-2_all.deb ...\n",
            "Unpacking poppler-data (0.4.8-2) ...\n",
            "Selecting previously unselected package fonts-noto-mono.\n",
            "Preparing to unpack .../06-fonts-noto-mono_20171026-2_all.deb ...\n",
            "Unpacking fonts-noto-mono (20171026-2) ...\n",
            "Selecting previously unselected package libcupsimage2:amd64.\n",
            "Preparing to unpack .../07-libcupsimage2_2.2.7-1ubuntu2.9_amd64.deb ...\n",
            "Unpacking libcupsimage2:amd64 (2.2.7-1ubuntu2.9) ...\n",
            "Selecting previously unselected package libijs-0.35:amd64.\n",
            "Preparing to unpack .../08-libijs-0.35_0.35-13_amd64.deb ...\n",
            "Unpacking libijs-0.35:amd64 (0.35-13) ...\n",
            "Selecting previously unselected package libjbig2dec0:amd64.\n",
            "Preparing to unpack .../09-libjbig2dec0_0.13-6_amd64.deb ...\n",
            "Unpacking libjbig2dec0:amd64 (0.13-6) ...\n",
            "Selecting previously unselected package libgs9-common.\n",
            "Preparing to unpack .../10-libgs9-common_9.26~dfsg+0-0ubuntu0.18.04.17_all.deb ...\n",
            "Unpacking libgs9-common (9.26~dfsg+0-0ubuntu0.18.04.17) ...\n",
            "Selecting previously unselected package libgs9:amd64.\n",
            "Preparing to unpack .../11-libgs9_9.26~dfsg+0-0ubuntu0.18.04.17_amd64.deb ...\n",
            "Unpacking libgs9:amd64 (9.26~dfsg+0-0ubuntu0.18.04.17) ...\n",
            "Selecting previously unselected package ghostscript.\n",
            "Preparing to unpack .../12-ghostscript_9.26~dfsg+0-0ubuntu0.18.04.17_amd64.deb ...\n",
            "Unpacking ghostscript (9.26~dfsg+0-0ubuntu0.18.04.17) ...\n",
            "Selecting previously unselected package gsfonts.\n",
            "Preparing to unpack .../13-gsfonts_1%3a8.11+urwcyr1.0.7~pre44-4.4_all.deb ...\n",
            "Unpacking gsfonts (1:8.11+urwcyr1.0.7~pre44-4.4) ...\n",
            "Selecting previously unselected package imagemagick-6.q16.\n",
            "Preparing to unpack .../14-imagemagick-6.q16_8%3a6.9.7.4+dfsg-16ubuntu6.14_amd64.deb ...\n",
            "Unpacking imagemagick-6.q16 (8:6.9.7.4+dfsg-16ubuntu6.14) ...\n",
            "Selecting previously unselected package imagemagick.\n",
            "Preparing to unpack .../15-imagemagick_8%3a6.9.7.4+dfsg-16ubuntu6.14_amd64.deb ...\n",
            "Unpacking imagemagick (8:6.9.7.4+dfsg-16ubuntu6.14) ...\n",
            "Selecting previously unselected package libcupsfilters1:amd64.\n",
            "Preparing to unpack .../16-libcupsfilters1_1.20.2-0ubuntu3.1_amd64.deb ...\n",
            "Unpacking libcupsfilters1:amd64 (1.20.2-0ubuntu3.1) ...\n",
            "Selecting previously unselected package libdjvulibre-text.\n",
            "Preparing to unpack .../17-libdjvulibre-text_3.5.27.1-8ubuntu0.4_all.deb ...\n",
            "Unpacking libdjvulibre-text (3.5.27.1-8ubuntu0.4) ...\n",
            "Selecting previously unselected package libdjvulibre21:amd64.\n",
            "Preparing to unpack .../18-libdjvulibre21_3.5.27.1-8ubuntu0.4_amd64.deb ...\n",
            "Unpacking libdjvulibre21:amd64 (3.5.27.1-8ubuntu0.4) ...\n",
            "Selecting previously unselected package libwmf0.2-7:amd64.\n",
            "Preparing to unpack .../19-libwmf0.2-7_0.2.8.4-12_amd64.deb ...\n",
            "Unpacking libwmf0.2-7:amd64 (0.2.8.4-12) ...\n",
            "Selecting previously unselected package libmagickcore-6.q16-3-extra:amd64.\n",
            "Preparing to unpack .../20-libmagickcore-6.q16-3-extra_8%3a6.9.7.4+dfsg-16ubuntu6.14_amd64.deb ...\n",
            "Unpacking libmagickcore-6.q16-3-extra:amd64 (8:6.9.7.4+dfsg-16ubuntu6.14) ...\n",
            "Selecting previously unselected package libnetpbm10.\n",
            "Preparing to unpack .../21-libnetpbm10_2%3a10.0-15.3build1_amd64.deb ...\n",
            "Unpacking libnetpbm10 (2:10.0-15.3build1) ...\n",
            "Selecting previously unselected package netpbm.\n",
            "Preparing to unpack .../22-netpbm_2%3a10.0-15.3build1_amd64.deb ...\n",
            "Unpacking netpbm (2:10.0-15.3build1) ...\n",
            "Setting up libgs9-common (9.26~dfsg+0-0ubuntu0.18.04.17) ...\n",
            "Setting up imagemagick-6-common (8:6.9.7.4+dfsg-16ubuntu6.14) ...\n",
            "Setting up fonts-droid-fallback (1:6.0.1r16-1.1) ...\n",
            "Setting up gsfonts (1:8.11+urwcyr1.0.7~pre44-4.4) ...\n",
            "Setting up poppler-data (0.4.8-2) ...\n",
            "Setting up libdjvulibre-text (3.5.27.1-8ubuntu0.4) ...\n",
            "Setting up libnetpbm10 (2:10.0-15.3build1) ...\n",
            "Setting up fonts-noto-mono (20171026-2) ...\n",
            "Setting up libcupsfilters1:amd64 (1.20.2-0ubuntu3.1) ...\n",
            "Setting up libcupsimage2:amd64 (2.2.7-1ubuntu2.9) ...\n",
            "Setting up liblqr-1-0:amd64 (0.4.2-2.1) ...\n",
            "Setting up libjbig2dec0:amd64 (0.13-6) ...\n",
            "Setting up libijs-0.35:amd64 (0.35-13) ...\n",
            "Setting up netpbm (2:10.0-15.3build1) ...\n",
            "Setting up libgs9:amd64 (9.26~dfsg+0-0ubuntu0.18.04.17) ...\n",
            "Setting up libwmf0.2-7:amd64 (0.2.8.4-12) ...\n",
            "Setting up libmagickcore-6.q16-3:amd64 (8:6.9.7.4+dfsg-16ubuntu6.14) ...\n",
            "Setting up libdjvulibre21:amd64 (3.5.27.1-8ubuntu0.4) ...\n",
            "Setting up ghostscript (9.26~dfsg+0-0ubuntu0.18.04.17) ...\n",
            "Setting up libmagickwand-6.q16-3:amd64 (8:6.9.7.4+dfsg-16ubuntu6.14) ...\n",
            "Setting up imagemagick-6.q16 (8:6.9.7.4+dfsg-16ubuntu6.14) ...\n",
            "update-alternatives: using /usr/bin/compare-im6.q16 to provide /usr/bin/compare (compare) in auto mode\n",
            "update-alternatives: using /usr/bin/compare-im6.q16 to provide /usr/bin/compare-im6 (compare-im6) in auto mode\n",
            "update-alternatives: using /usr/bin/animate-im6.q16 to provide /usr/bin/animate (animate) in auto mode\n",
            "update-alternatives: using /usr/bin/animate-im6.q16 to provide /usr/bin/animate-im6 (animate-im6) in auto mode\n",
            "update-alternatives: using /usr/bin/convert-im6.q16 to provide /usr/bin/convert (convert) in auto mode\n",
            "update-alternatives: using /usr/bin/convert-im6.q16 to provide /usr/bin/convert-im6 (convert-im6) in auto mode\n",
            "update-alternatives: using /usr/bin/composite-im6.q16 to provide /usr/bin/composite (composite) in auto mode\n",
            "update-alternatives: using /usr/bin/composite-im6.q16 to provide /usr/bin/composite-im6 (composite-im6) in auto mode\n",
            "update-alternatives: using /usr/bin/conjure-im6.q16 to provide /usr/bin/conjure (conjure) in auto mode\n",
            "update-alternatives: using /usr/bin/conjure-im6.q16 to provide /usr/bin/conjure-im6 (conjure-im6) in auto mode\n",
            "update-alternatives: using /usr/bin/import-im6.q16 to provide /usr/bin/import (import) in auto mode\n",
            "update-alternatives: using /usr/bin/import-im6.q16 to provide /usr/bin/import-im6 (import-im6) in auto mode\n",
            "update-alternatives: using /usr/bin/identify-im6.q16 to provide /usr/bin/identify (identify) in auto mode\n",
            "update-alternatives: using /usr/bin/identify-im6.q16 to provide /usr/bin/identify-im6 (identify-im6) in auto mode\n",
            "update-alternatives: using /usr/bin/stream-im6.q16 to provide /usr/bin/stream (stream) in auto mode\n",
            "update-alternatives: using /usr/bin/stream-im6.q16 to provide /usr/bin/stream-im6 (stream-im6) in auto mode\n",
            "update-alternatives: using /usr/bin/display-im6.q16 to provide /usr/bin/display (display) in auto mode\n",
            "update-alternatives: using /usr/bin/display-im6.q16 to provide /usr/bin/display-im6 (display-im6) in auto mode\n",
            "update-alternatives: using /usr/bin/montage-im6.q16 to provide /usr/bin/montage (montage) in auto mode\n",
            "update-alternatives: using /usr/bin/montage-im6.q16 to provide /usr/bin/montage-im6 (montage-im6) in auto mode\n",
            "update-alternatives: using /usr/bin/mogrify-im6.q16 to provide /usr/bin/mogrify (mogrify) in auto mode\n",
            "update-alternatives: using /usr/bin/mogrify-im6.q16 to provide /usr/bin/mogrify-im6 (mogrify-im6) in auto mode\n",
            "Setting up libmagickcore-6.q16-3-extra:amd64 (8:6.9.7.4+dfsg-16ubuntu6.14) ...\n",
            "Setting up imagemagick (8:6.9.7.4+dfsg-16ubuntu6.14) ...\n",
            "Processing triggers for hicolor-icon-theme (0.17-2) ...\n",
            "Processing triggers for fontconfig (2.12.6-0ubuntu2) ...\n",
            "Processing triggers for mime-support (3.60ubuntu1) ...\n",
            "Processing triggers for libc-bin (2.27-3ubuntu1.6) ...\n",
            "Processing triggers for man-db (2.8.3-2ubuntu0.1) ...\n",
            "Looking in indexes: https://pypi.org/simple, https://us-python.pkg.dev/colab-wheels/public/simple/\n",
            "Collecting myqlm\n",
            "  Downloading myqlm-1.7.2-py3-none-any.whl (2.0 kB)\n",
            "Collecting qat-core>=1.6.1\n",
            "  Downloading qat_core-1.6.2-cp38-cp38-manylinux1_x86_64.whl (4.0 MB)\n",
            "\u001b[2K     \u001b[90m━━━━━━━━━━━━━━━━━━━━━━━━━━━━━━━━━━━━━━━━\u001b[0m \u001b[32m4.0/4.0 MB\u001b[0m \u001b[31m31.3 MB/s\u001b[0m eta \u001b[36m0:00:00\u001b[0m\n",
            "\u001b[?25hCollecting myqlm-contrib>=1.7.1\n",
            "  Downloading myqlm_contrib-1.7.1-py3-none-any.whl (13 kB)\n",
            "Collecting myqlm-simulators>=1.7.1\n",
            "  Downloading myqlm_simulators-1.7.1-py3-none-any.whl (19 kB)\n",
            "Collecting qat-lang>=2.2.1\n",
            "  Downloading qat_lang-2.2.1-cp38-cp38-manylinux1_x86_64.whl (2.5 MB)\n",
            "\u001b[2K     \u001b[90m━━━━━━━━━━━━━━━━━━━━━━━━━━━━━━━━━━━━━━━━\u001b[0m \u001b[32m2.5/2.5 MB\u001b[0m \u001b[31m45.6 MB/s\u001b[0m eta \u001b[36m0:00:00\u001b[0m\n",
            "\u001b[?25hCollecting qat-comm>=1.4.2\n",
            "  Downloading qat_comm-1.4.2-cp38-cp38-manylinux1_x86_64.whl (2.9 MB)\n",
            "\u001b[2K     \u001b[90m━━━━━━━━━━━━━━━━━━━━━━━━━━━━━━━━━━━━━━━━\u001b[0m \u001b[32m2.9/2.9 MB\u001b[0m \u001b[31m91.4 MB/s\u001b[0m eta \u001b[36m0:00:00\u001b[0m\n",
            "\u001b[?25hCollecting qat-devices>=0.2.0\n",
            "  Downloading qat_devices-0.2.0-cp38-cp38-manylinux1_x86_64.whl (252 kB)\n",
            "\u001b[2K     \u001b[90m━━━━━━━━━━━━━━━━━━━━━━━━━━━━━━━━━━━━━━\u001b[0m \u001b[32m252.7/252.7 KB\u001b[0m \u001b[31m30.2 MB/s\u001b[0m eta \u001b[36m0:00:00\u001b[0m\n",
            "\u001b[?25hCollecting myqlm-clinalg>=0.0.4\n",
            "  Downloading myqlm_clinalg-0.0.4-cp38-cp38-manylinux1_x86_64.whl (498 kB)\n",
            "\u001b[2K     \u001b[90m━━━━━━━━━━━━━━━━━━━━━━━━━━━━━━━━━━━━━━\u001b[0m \u001b[32m498.3/498.3 KB\u001b[0m \u001b[31m43.9 MB/s\u001b[0m eta \u001b[36m0:00:00\u001b[0m\n",
            "\u001b[?25hCollecting myqlm-fermion>=1.0.0\n",
            "  Downloading myqlm_fermion-1.0.0-py3-none-any.whl (90 kB)\n",
            "\u001b[2K     \u001b[90m━━━━━━━━━━━━━━━━━━━━━━━━━━━━━━━━━━━━━━━━\u001b[0m \u001b[32m90.0/90.0 KB\u001b[0m \u001b[31m11.9 MB/s\u001b[0m eta \u001b[36m0:00:00\u001b[0m\n",
            "\u001b[?25hCollecting qat-variational>=1.4.0\n",
            "  Downloading qat_variational-1.4.0-cp38-cp38-manylinux1_x86_64.whl (1.6 MB)\n",
            "\u001b[2K     \u001b[90m━━━━━━━━━━━━━━━━━━━━━━━━━━━━━━━━━━━━━━━━\u001b[0m \u001b[32m1.6/1.6 MB\u001b[0m \u001b[31m78.6 MB/s\u001b[0m eta \u001b[36m0:00:00\u001b[0m\n",
            "\u001b[?25hRequirement already satisfied: networkx in /usr/local/lib/python3.8/dist-packages (from myqlm-contrib>=1.7.1->myqlm) (2.8.8)\n",
            "Requirement already satisfied: scipy in /usr/local/lib/python3.8/dist-packages (from myqlm-fermion>=1.0.0->myqlm) (1.7.3)\n",
            "Requirement already satisfied: numpy in /usr/local/lib/python3.8/dist-packages (from myqlm-fermion>=1.0.0->myqlm) (1.21.6)\n",
            "Collecting bitstring\n",
            "  Downloading bitstring-4.0.1-py3-none-any.whl (45 kB)\n",
            "\u001b[2K     \u001b[90m━━━━━━━━━━━━━━━━━━━━━━━━━━━━━━━━━━━━━━━━\u001b[0m \u001b[32m45.6/45.6 KB\u001b[0m \u001b[31m6.8 MB/s\u001b[0m eta \u001b[36m0:00:00\u001b[0m\n",
            "\u001b[?25hRequirement already satisfied: pytest in /usr/local/lib/python3.8/dist-packages (from myqlm-fermion>=1.0.0->myqlm) (3.6.4)\n",
            "Requirement already satisfied: tqdm in /usr/local/lib/python3.8/dist-packages (from myqlm-fermion>=1.0.0->myqlm) (4.64.1)\n",
            "Collecting anytree\n",
            "  Downloading anytree-2.8.0-py2.py3-none-any.whl (41 kB)\n",
            "\u001b[2K     \u001b[90m━━━━━━━━━━━━━━━━━━━━━━━━━━━━━━━━━━━━━━━━\u001b[0m \u001b[32m41.7/41.7 KB\u001b[0m \u001b[31m5.6 MB/s\u001b[0m eta \u001b[36m0:00:00\u001b[0m\n",
            "\u001b[?25hCollecting thrift==0.16.0\n",
            "  Downloading thrift-0.16.0.tar.gz (59 kB)\n",
            "\u001b[2K     \u001b[90m━━━━━━━━━━━━━━━━━━━━━━━━━━━━━━━━━━━━━━━━\u001b[0m \u001b[32m59.6/59.6 KB\u001b[0m \u001b[31m7.9 MB/s\u001b[0m eta \u001b[36m0:00:00\u001b[0m\n",
            "\u001b[?25h  Preparing metadata (setup.py) ... \u001b[?25l\u001b[?25hdone\n",
            "Requirement already satisfied: six>=1.7.2 in /usr/local/lib/python3.8/dist-packages (from thrift==0.16.0->qat-comm>=1.4.2->myqlm) (1.15.0)\n",
            "Requirement already satisfied: dill in /usr/local/lib/python3.8/dist-packages (from qat-core>=1.6.1->myqlm) (0.3.6)\n",
            "Requirement already satisfied: Pillow in /usr/local/lib/python3.8/dist-packages (from qat-core>=1.6.1->myqlm) (7.1.2)\n",
            "Requirement already satisfied: matplotlib in /usr/local/lib/python3.8/dist-packages (from qat-core>=1.6.1->myqlm) (3.2.2)\n",
            "Requirement already satisfied: wand in /usr/local/lib/python3.8/dist-packages (from qat-core>=1.6.1->myqlm) (0.6.11)\n",
            "Collecting svgwrite\n",
            "  Downloading svgwrite-1.4.3-py3-none-any.whl (67 kB)\n",
            "\u001b[2K     \u001b[90m━━━━━━━━━━━━━━━━━━━━━━━━━━━━━━━━━━━━━━━━\u001b[0m \u001b[32m67.1/67.1 KB\u001b[0m \u001b[31m10.9 MB/s\u001b[0m eta \u001b[36m0:00:00\u001b[0m\n",
            "\u001b[?25hCollecting ply==3.11\n",
            "  Downloading ply-3.11-py2.py3-none-any.whl (49 kB)\n",
            "\u001b[2K     \u001b[90m━━━━━━━━━━━━━━━━━━━━━━━━━━━━━━━━━━━━━━━━\u001b[0m \u001b[32m49.6/49.6 KB\u001b[0m \u001b[31m6.8 MB/s\u001b[0m eta \u001b[36m0:00:00\u001b[0m\n",
            "\u001b[?25hCollecting pyDOE\n",
            "  Downloading pyDOE-0.3.8.zip (22 kB)\n",
            "  Preparing metadata (setup.py) ... \u001b[?25l\u001b[?25hdone\n",
            "Requirement already satisfied: pyparsing!=2.0.4,!=2.1.2,!=2.1.6,>=2.0.1 in /usr/local/lib/python3.8/dist-packages (from matplotlib->qat-core>=1.6.1->myqlm) (3.0.9)\n",
            "Requirement already satisfied: python-dateutil>=2.1 in /usr/local/lib/python3.8/dist-packages (from matplotlib->qat-core>=1.6.1->myqlm) (2.8.2)\n",
            "Requirement already satisfied: cycler>=0.10 in /usr/local/lib/python3.8/dist-packages (from matplotlib->qat-core>=1.6.1->myqlm) (0.11.0)\n",
            "Requirement already satisfied: kiwisolver>=1.0.1 in /usr/local/lib/python3.8/dist-packages (from matplotlib->qat-core>=1.6.1->myqlm) (1.4.4)\n",
            "Requirement already satisfied: py>=1.5.0 in /usr/local/lib/python3.8/dist-packages (from pytest->myqlm-fermion>=1.0.0->myqlm) (1.11.0)\n",
            "Requirement already satisfied: setuptools in /usr/local/lib/python3.8/dist-packages (from pytest->myqlm-fermion>=1.0.0->myqlm) (57.4.0)\n",
            "Requirement already satisfied: atomicwrites>=1.0 in /usr/local/lib/python3.8/dist-packages (from pytest->myqlm-fermion>=1.0.0->myqlm) (1.4.1)\n",
            "Requirement already satisfied: pluggy<0.8,>=0.5 in /usr/local/lib/python3.8/dist-packages (from pytest->myqlm-fermion>=1.0.0->myqlm) (0.7.1)\n",
            "Requirement already satisfied: attrs>=17.4.0 in /usr/local/lib/python3.8/dist-packages (from pytest->myqlm-fermion>=1.0.0->myqlm) (22.2.0)\n",
            "Requirement already satisfied: more-itertools>=4.0.0 in /usr/local/lib/python3.8/dist-packages (from pytest->myqlm-fermion>=1.0.0->myqlm) (9.0.0)\n",
            "Building wheels for collected packages: thrift, pyDOE\n",
            "  Building wheel for thrift (setup.py) ... \u001b[?25l\u001b[?25hdone\n",
            "  Created wheel for thrift: filename=thrift-0.16.0-cp38-cp38-linux_x86_64.whl size=349379 sha256=2f79dce88b3118b93d387108c800e4c9a7f3d2216ecff29dcde530459059f104\n",
            "  Stored in directory: /root/.cache/pip/wheels/c1/03/53/7220f8aeecbf2c66ef655a9cff1929299e38119502a316ae30\n",
            "  Building wheel for pyDOE (setup.py) ... \u001b[?25l\u001b[?25hdone\n",
            "  Created wheel for pyDOE: filename=pyDOE-0.3.8-py3-none-any.whl size=18184 sha256=484bdae823399aba90ed621ef068172c9eaabd06cffbee721efd52dc961a4809\n",
            "  Stored in directory: /root/.cache/pip/wheels/00/3e/fa/5705bf59c2053c17c4799c3ab66a2e356c32f40a3044fe2134\n",
            "Successfully built thrift pyDOE\n",
            "Installing collected packages: ply, thrift, svgwrite, bitstring, anytree, qat-comm, pyDOE, qat-core, qat-lang, qat-devices, myqlm-contrib, qat-variational, myqlm-clinalg, myqlm-simulators, myqlm-fermion, myqlm\n",
            "Successfully installed anytree-2.8.0 bitstring-4.0.1 myqlm-1.7.2 myqlm-clinalg-0.0.4 myqlm-contrib-1.7.1 myqlm-fermion-1.0.0 myqlm-simulators-1.7.1 ply-3.11 pyDOE-0.3.8 qat-comm-1.4.2 qat-core-1.6.2 qat-devices-0.2.0 qat-lang-2.2.1 qat-variational-1.4.0 svgwrite-1.4.3 thrift-0.16.0\n",
            "QLM magics have been sucessfully installed\n"
          ]
        }
      ]
    },
    {
      "cell_type": "markdown",
      "id": "536219fc",
      "metadata": {
        "id": "536219fc"
      },
      "source": [
        "### Question1 :\n",
        "Write down in the cell below the Hamiltonian whose ground state is the solution to MaxCUT on an input graph $G=(V,E)$:"
      ]
    },
    {
      "cell_type": "markdown",
      "id": "fd36b562",
      "metadata": {
        "id": "fd36b562"
      },
      "source": [
        "$$ H = \\sum_{i,j\\in E} \\sigma_i \\cdot \\sigma_j $$"
      ]
    },
    {
      "cell_type": "markdown",
      "id": "b045f8b7",
      "metadata": {
        "id": "b045f8b7"
      },
      "source": [
        "### Question 2:\n",
        "Complete the implementation below of a simple, brute-force enumeration of all states computing the optimal solution to MaxCUT for the graph represented by 'edges'"
      ]
    },
    {
      "cell_type": "code",
      "execution_count": 1,
      "id": "7bc976fa",
      "metadata": {
        "colab": {
          "base_uri": "https://localhost:8080/"
        },
        "id": "7bc976fa",
        "outputId": "41f30506-0fed-4903-f09e-2dd53feaa4e1"
      },
      "outputs": [
        {
          "output_type": "stream",
          "name": "stdout",
          "text": [
            "-5\n",
            "[1, 0, 0, 1, 1]\n"
          ]
        }
      ],
      "source": [
        "import numpy as np\n",
        "\n",
        "graph1 = [(0,1),(0,2),(1,3),(2,3)]\n",
        "graph2 = [(0,1),(1,2),(0,3),(1,4),(2,5),(3,6),(4,7),(5,8),(3,4),(4,5),(6,7),(7,8)]\n",
        "graph3 = [(0,1),(1,2),(0,3),(1,4),(2,5),(3,6),(4,7),(3,4),(4,5),(6,7)]\n",
        "graph4 = [(0,1),(1,2),(2,3),(4,5),(5,6),(6,7),(0,4),(1,5),(2,6),(3,7)]\n",
        "graph5 = [(0,1),(0,2),(1,3),(2,4),(3,5),(4,5),(1,4)]\n",
        "graph6 = [(0,1),(0,2),(1,3),(2,4),(1,4)]\n",
        "\n",
        "\n",
        "# choice of graph\n",
        "edges = graph6\n",
        "\n",
        "nqubits = max([max(list(v)) for v in edges])+1\n",
        "\n",
        "#nqubits = 5\n",
        "graph7 = [(i,(i+1)%nqubits) for i in range(nqubits)]+[(1,4)]\n",
        "\n",
        "\n",
        "# COMPUTATION OF OPT.\n",
        "best_value = len(edges)\n",
        "best_b = 0\n",
        "for x in range(2**nqubits):\n",
        "    b = np.binary_repr(x, width=nqubits)\n",
        "    b = [int(b[i]) for i in range(nqubits)]\n",
        "    # TODO: Complete the computation below:\n",
        "    val = 0\n",
        "    for i,j in edges:\n",
        "      # val is the hamiltonian of the system, thus we add the product of sigma i and sigma j for all edges (i,j)\n",
        "      val += (1-2*b[i])*(1-2*b[j])   \n",
        "    # END TODO\n",
        "    if val <= best_value:\n",
        "        best_value = val\n",
        "        best_b = b\n",
        "print(best_value)\n",
        "print(best_b)"
      ]
    },
    {
      "cell_type": "markdown",
      "id": "4bed0ead",
      "metadata": {
        "id": "4bed0ead"
      },
      "source": [
        "#### visualization of the graph"
      ]
    },
    {
      "cell_type": "code",
      "execution_count": 2,
      "id": "11a7d2a7",
      "metadata": {
        "colab": {
          "base_uri": "https://localhost:8080/",
          "height": 248
        },
        "id": "11a7d2a7",
        "outputId": "e80c3ae1-16ec-4ef3-c44f-726ce00f8b31"
      },
      "outputs": [
        {
          "output_type": "display_data",
          "data": {
            "text/plain": [
              "<Figure size 432x288 with 1 Axes>"
            ],
            "image/png": "[encoded data removed]"
          },
          "metadata": {}
        }
      ],
      "source": [
        "import networkx as nx\n",
        "G = nx.Graph()\n",
        "for i,j in edges:\n",
        "    G.add_edge(i,j)\n",
        "nx.draw_networkx(G)"
      ]
    },
    {
      "cell_type": "code",
      "execution_count": 3,
      "id": "1bcf8886",
      "metadata": {
        "id": "1bcf8886"
      },
      "outputs": [],
      "source": [
        "from qat.lang.AQASM import Program, H, CNOT, RX, QRoutine, RZ, X, Z"
      ]
    },
    {
      "cell_type": "code",
      "execution_count": 4,
      "id": "f125405c",
      "metadata": {
        "id": "f125405c"
      },
      "outputs": [],
      "source": [
        "def U_ZZ(theta):\n",
        "    \n",
        "    zz_r = QRoutine()\n",
        "    zz_r.apply(CNOT, 0, 1)\n",
        "    zz_r.apply(RZ(theta), 1) # difference of convention between implemented version and what we need.\n",
        "    zz_r.apply(CNOT, 0, 1)\n",
        "\n",
        "    return zz_r"
      ]
    },
    {
      "cell_type": "markdown",
      "id": "b87e91ed",
      "metadata": {
        "id": "b87e91ed"
      },
      "source": [
        "### Question 3"
      ]
    },
    {
      "cell_type": "code",
      "execution_count": 6,
      "id": "27954bb3",
      "metadata": {
        "id": "27954bb3"
      },
      "outputs": [],
      "source": [
        "def one_qaoa_layer(n_qubits, edges, theta, beta):\n",
        "\n",
        "    layer = QRoutine()\n",
        "    #TODO: implement one qaoa layer\n",
        "    for k in range(n_qubits):\n",
        "      layer.apply(RX(theta),k)  # We apply a rotation of angle beta to each qubit \n",
        "    for i,j in edges :           # After some computation by hand we can see that applying the cost function hamiltonian is the same as applying Uzz to each vertex of all edges \n",
        "      layer.apply(U_ZZ(beta),i,j)\n",
        "    return layer"
      ]
    },
    {
      "cell_type": "markdown",
      "id": "bd0c36a5",
      "metadata": {
        "id": "bd0c36a5"
      },
      "source": [
        "### Question 4"
      ]
    },
    {
      "cell_type": "code",
      "execution_count": 7,
      "id": "655a9aaa",
      "metadata": {
        "id": "655a9aaa"
      },
      "outputs": [],
      "source": [
        "from qat.qpus import get_default_qpu\n",
        "\n",
        "def evaluate_parameters(n_qubits, edges, parameters, n_layers):\n",
        "    \n",
        "    prog = Program()\n",
        "    qubits = prog.qalloc(n_qubits)\n",
        "    \n",
        "    # TODO: implement initialization+parameterized circuit\n",
        "    for i in range(n_qubits):\n",
        "      prog.apply(H,qubits[i])                                                   #initialization : we apply an hadamard gate to all qubits\n",
        "    for i in range(int(len(parameters)/2)) :\n",
        "      prog.apply(one_qaoa_layer(n_qubits, edges, parameters[2*i], parameters[2*i+1]),qubits)           #parametrized circuit : we apply each qaoa layer successively with the parameters given \n",
        "        \n",
        "    # END TODO\n",
        "    circ = prog.to_circ()\n",
        "    \n",
        "    job = circ.to_job()\n",
        "    qpu = get_default_qpu()\n",
        "    \n",
        "    result = qpu.submit(job)\n",
        "    \n",
        "    # BEGIN TODO\n",
        "    obs = 0\n",
        "    for sample in result:\n",
        "        # this loop is over all 2**nqubits states.\n",
        "        # sample.state.bitstring contains the qubit values (nqubits 0 or 1)\n",
        "\n",
        "        b = sample.state.bitstring\n",
        "        val = 0\n",
        "        for i,j in edges :\n",
        "          val += (1-2*int(b[i]))*(1-2*int(b[j]))                                # As in Q2 we compute the observable for each sample\n",
        "        obs += sample.probability * val                                         # We compute the mean observable\n",
        "    # END TODO\n",
        "    return obs\n",
        "    \n",
        "        "
      ]
    },
    {
      "cell_type": "code",
      "execution_count": 8,
      "id": "88963901",
      "metadata": {
        "colab": {
          "base_uri": "https://localhost:8080/"
        },
        "id": "88963901",
        "outputId": "dbb85b6b-f1b1-4c06-ed43-589dcc662e65"
      },
      "outputs": [
        {
          "output_type": "execute_result",
          "data": {
            "text/plain": [
              "array([0.36769014, 0.53422943, 0.53473805])"
            ]
          },
          "metadata": {},
          "execution_count": 8
        }
      ],
      "source": [
        "import numpy as np\n",
        "np.random.random(3)"
      ]
    },
    {
      "cell_type": "code",
      "execution_count": 9,
      "id": "42557843",
      "metadata": {
        "id": "42557843"
      },
      "outputs": [],
      "source": [
        "from scipy.optimize import minimize\n"
      ]
    },
    {
      "cell_type": "markdown",
      "id": "0846a6dd",
      "metadata": {
        "id": "0846a6dd"
      },
      "source": [
        "### Random initialisation"
      ]
    },
    {
      "cell_type": "markdown",
      "id": "f679d3e0",
      "metadata": {
        "id": "f679d3e0"
      },
      "source": [
        "### Question 5: \n",
        "Réponse à la question: À partir de nlayers = 6 on voit que l'algorithme commence à converger, cependant la convergence reste aléatoire (pour 6 cela converge mais pour 7 non) puisque les paramètres d'entrée sont aléatoires. Cependant l'lagorithme reste plus efficace que l'algorithme classique."
      ]
    },
    {
      "cell_type": "code",
      "execution_count": 11,
      "id": "36f6e279",
      "metadata": {
        "colab": {
          "base_uri": "https://localhost:8080/",
          "height": 320
        },
        "id": "36f6e279",
        "outputId": "bb32ef38-a847-4edc-d324-a9b726e4ff8a"
      },
      "outputs": [
        {
          "output_type": "stream",
          "name": "stdout",
          "text": [
            "-0.5982065375346156 -2.4239157118060892 -2.4636390474231304 -3.489774082627941 -4.1570005683445705 -4.30087696935644 -4.430663335207162 -4.589134133615018 -4.637465636129852 -4.7010833327663075 -4.731055267615449 -4.75911299693983 -4.772741951518742 -4.791793742952126 -4.809608142075859 -4.822000051182287 -4.840799473365308 -4.855666182332198 -4.864541530914141 -4.8744369616481285 -4.879099300708194 -4.880464788213681 -4.881828619739267 -4.8819464431203325 -4.881976934506841 -4.881982748775018 -4.881983356476833 -4.881984503808519 -4.881986668632629 -4.881990681782027 -4.881997799294155 -4.882009093993089 -4.882020310982669 -4.8820268437566705 -4.882033683820482 -4.882034847526856 -4.882035360656565 -4.882036149372738 -4.882037552981201 -4.882040168160849 -4.882045156242458 -4.882087607357074 -4.882443151567176 -4.882458867793289 -4.882974548014911 -4.8836585450364165 -4.884156166617767 -4.884738974162444 -4.885154623299102 -4.8882455025895375 -4.893313148259329 -4.895297815726828 -4.898523851919126 -4.9034020743075235 -4.904744900031916 -4.9069912468618115 -4.909781138767832 -4.911326923309862 -4.912174961700155 -4.913213833273789 -4.914008014981487 -4.914895411240573 -4.915882798888949 -4.916800807575202 -4.918240312631276 -4.920709343784222 -4.924833992702723 -4.930523979238431 -4.938248788273879 -4.94307069111155 -4.9505132130653005 -4.9582245927115665 -4.962682820636481 -4.9631783704599055 -4.963713914899303 -4.963977177335315 -4.96411706160568 -4.964138910415362 -4.96414637475012 -4.964148147033704 -4.964149988102089 -4.964150219490787 -4.964150262874011 -4.964150265622784 -4.964150265926152 -4.9641502660106145 -1.1263844138996773 -1.5551465227629917 -1.8352244092657228 -2.318343512508142 -2.8617994937896865 -3.139648116428068 -3.2843499711555157 -3.391640790035906 -3.5338931339604023 -3.7371110020111633 -3.863401925711304 -3.952302294215327 -3.970821750678035 -4.002789196938786 -4.052560609147661 -4.09060206965749 -4.108848654571666 -4.120941886857877 -4.141673921709296 -4.17653652938812 -4.198453565018446 -4.225152680633009 -4.244734630012428 -4.258797520080555 -4.269828154249293 -4.2744596177212655 -4.28143325494987 -4.288841434626513 -4.294927815974588 -4.305014223809473 -4.3213689742816745 -4.33032225157012 -4.343615073036687 -4.356765392300764 -4.364083874266915 -4.374194283901167 -4.387744923034896 -4.4006571051552354 -4.410992813921357 -4.417593135056299 -4.424753420073743 -4.433120510348503 -4.443370834588494 -4.454112783279232 -4.470847011539753 -4.4838998232575635 -4.488660596388139 -4.491750785717143 -4.496441123171191 -4.498496012609099 -4.501304773891277 -4.5041912032140905 -4.50675945062327 -4.5088349640255085 -4.509970301759495 -4.511962938958974 -4.515302333850437 -4.517194291335276 -4.5197040198228 -4.520652668927781 -4.5220869509310475 -4.523646647584412 -4.524491036732099 -4.52485676295789 -4.52528077188255 -4.525521916695177 -4.5256921609533105 -4.525818201452178 -4.52598155267485 -4.526205219790634 -4.526291549105732 -4.526322512041485 -4.526364928076339 -4.5264411295343026 -4.526577385023857 -4.526808877834564 -4.527155161930638 -4.527493342465596 -4.527582659433099 -4.5277328754289705 -4.527895645412876 -4.52791029272817 -4.527919756810091 -4.52792527248993 -4.527933537395903 -4.527941206927667 -4.527945092257439 -4.527946144908029 -4.527946272598534 -4.527946309577206 -4.527946315293139 -4.527946315735572 -4.527946315784296 0.33001919100348087 -0.7275582259860244 -0.7520312792997761 -1.5942054004857242 -1.7298656426057943 -2.876639171159746 -3.3739140967987606 -4.232529266720984 -4.379492143379742 -4.440458618482001 -4.498627425774448 -4.566638922160947 -4.608867977154478 -4.678231555183981 -4.712946770036267 -4.777447909654001 -4.817413611818585 -4.8316851054172485 -4.837026607213125 -4.846053828179304 -4.857401583760827 -4.862253549441448 -4.868220595127169 -4.874138211042174 -4.877207449045377 -4.878560721654154 -4.879767140831482 -4.880930829695639 -4.881440058128535 -4.881636091673848 -4.881684014034231 -4.881756677655173 -4.881845960934375 -4.881983301046202 -4.882177840111543 -4.882432068082797 -4.8826991851243315 -4.882749251714355 -4.882804350063967 -4.882827153600064 -4.882852584719775 -4.882867043906853 -4.8828894485241205 -4.882913033802388 -4.8829268826756715 -4.882936533502896 -4.8829442689963525 -4.882947977429139 -4.882948911809024 -4.88294942352626 -4.882949895320357 -4.8829502458401395 -4.882950366935242 -4.882950408625443 -4.882950479423589 -4.882950606931381 -4.88295084313481 -4.882951284861373 -4.882952118176887 -4.882953701723434 -4.882956701992624 -4.882961990870487 -4.882968603613436 -4.882976716381333 -4.882982397961477 -4.882993243361219 -4.883013789249329 -4.8830480611816665 -4.8830902077328915 -4.883118662885817 -4.8831647154748605 -4.8831949442145905 -4.8832330630924865 -4.883263839889011 -4.883308285868926 -4.883360904871478 -4.883374702077248 -4.8833941230318665 -4.88341306923314 -4.883428362685181 -4.883440522408991 -4.883460633916949 -4.883487823539163 -4.883525907637673 -4.883547939312767 -4.883575793272135 -4.8836103887967965 -4.883667016739665 -4.883729274997587 -4.883762466914127 -4.883802149754663 -4.883874362338647 -4.88400123010236 -4.884212090911866 -4.884310442070641 -4.884482978857642 -4.884792329676283 -4.885356522732941 -4.88584790743089 -4.886608461370984 -4.8876193479007615 -4.888763523880521 -4.8904704948541555 -4.891720308916636 -4.894041322630372 -4.90678785795324 -4.910125727084297 -4.915846088822401 -4.921412409056169 -4.928137470154472 -4.934615826396818 -4.939882515656271 -4.941602026112265 -4.942376929755527 -4.943323143018738 -4.944609177970986 -4.9458857488652646 -4.947263192570099 -4.948566321577699 -4.949549045612096 -4.950412941762659 -4.951186265679612 -4.951502700844132 -4.952046396567689 -4.952983125461361 -4.954479752158269 -4.956540835037973 -4.958645487316034 -4.96200986472239 -4.967719849918213 -4.973507584800162 -4.977095050010201 -4.979242998614674 -4.979921471050701 -4.980178743292165 -4.980377032097805 -4.980525453020651 -4.98058780119057 -4.980598132277022 -4.980600110961307 -4.980601473126277 -4.9806032532090825 -4.980605162924121 -4.980606867565365 -4.980608329241713 -4.980609444483962 -4.98060995452542 -4.980610077430674 -4.980610109623225 -4.980610148730001 -4.980610209725809 -4.980610286503858 -4.980610325845134 -4.980610335708662 -4.980610336414372 -4.980610336440044 0.3510692899915533 -0.06872382348262739 -0.7605885653121045 -1.7047331141921305 -1.8252361944658555 -3.002413570464272 -3.339326827915625 -3.376272086651637 -3.691314675282119 -4.115508839088523 -4.355207091711051 -4.419936396707501 -4.527272074068107 -4.626032642167906 -4.633856928488819 -4.641336367962697 -4.651913592889957 -4.662262451907015 -4.669750170790364 -4.681634432339003 -4.696119925665467 -4.700277095483944 -4.703369023931494 -4.706225284972529 -4.7100956051117295 -4.713753582173829 -4.716854049875263 -4.721646507518876 -4.724249766004976 -4.7277920885109355 -4.73132500366141 -4.737105998465958 -4.740607113814676 -4.74451498676972 -4.747256019150842 -4.751172441980165 -4.757519722555126 -4.765946254195646 -4.770094091157752 -4.773770923461273 -4.774158664798804 -4.774869837889827 -4.776087490263504 -4.777442045646402 -4.778033226235446 -4.779058201300936 -4.7805537269432525 -4.781534383447834 -4.782347017841243 -4.783717488739656 -4.7857051073005 -4.7873797771953965 -4.787959027782066 -4.788430142539178 -4.788807414504151 -4.789354758467357 -4.790080716190088 -4.790677168839147 -4.79101218167011 -4.791156195308484 -4.791253280944918 -4.79133407679027 -4.7914409739843355 -4.791571626269205 -4.791725369659861 -4.791872965669296 -4.792013558004484 -4.792180442358047 -4.792337675630013 -4.792527721661767 -4.792777390441376 -4.793162398511591 -4.793699822907007 -4.794119242289137 -4.794403336974562 -4.794610348281915 -4.794852728221855 -4.795002092485453 -4.795218370347208 -4.795559002530349 -4.796029805101287 -4.7965164527913435 -4.796963453311133 -4.797395220677247 -4.797779850876962 -4.798373234390691 -4.79940433458311 -4.800882570839776 -4.801216754604725 -4.801834206563648 -4.802882113996876 -4.8042283929954355 -4.805398615666521 -4.807030709000592 -4.809816592815436 -4.815061007901814 -4.819771287461234 -4.821188925573447 -4.823759944367996 -4.827047237855051 -4.832726724420174 -4.840670020513258 -4.844347716295188 -4.850437715400366 -4.856600087558943 -4.861678571315815 -4.86924811525111 -4.876865959520502 -4.880939330636392 -4.887895885055129 -4.898211762695634 -4.903556409142764 -4.908802349672797 -4.90982880904175 -4.911484830904986 -4.9133042763032435 -4.914270232538575 -4.915163328557383 -4.916709858781759 -4.919242106070931 -4.922737445779086 -4.925677854457366 -4.928190152047244 -4.9290178571091285 -4.92979451238182 -4.930532106163064 -4.931586542839997 -4.932811695494878 -4.933656554771257 -4.934886083275282 -4.936308068674211 -4.937362927021141 -4.937942139192251 -4.938743709639366 -4.939771876953101 -4.941030892308377 -4.942985770835196 -4.945337353220045 -4.946101242691801 -4.946975305285835 -4.947724096768431 -4.948090405650402 -4.948669604665381 -4.949113935222701 -4.949324244075464 -4.949483178174005 -4.94960808894557 -4.949679169676659 -4.949711453469851 -4.949718980320964 -4.949722228005682 -4.949723991619635 -4.949725423290978 -4.949726345286711 -4.949727506006866 -4.949729395557754 -4.949732532622483 -4.949737540988052 -4.949744069225088 -4.9497476702130045 -4.949749387826245 -4.949749707599142 -4.9497498195758425 -4.949749853703256 -4.9497498624108545 -4.949749864187157 -4.949749864542288 -4.949749864556905 -0.23959705183149188 -0.5971811747349175 -0.8864238597148079 -1.3137187336662224 -1.87318943612849 -2.2339109122637284 -2.643126742889333 -2.8933976447837457 -3.3455907005984917 -3.6956220439264817 -4.10971722485106 -4.2341312156960935 -4.305558169843181 -4.383795543338339 -4.41807081963058 -4.44872577010732 -4.475682638033886 -4.70455734715316 -4.724794643192192 -4.755244536899822 -4.781354040913141 -4.790349182060322 -4.797041394105326 -4.8038196130492326 -4.810366472814325 -4.817767943827401 -4.819789000388721 -4.820783879144698 -4.82260079183742 -4.825947526832024 -4.831502388284004 -4.83548645394779 -4.841312814213752 -4.849820379064181 -4.8542444186461795 -4.860138554294498 -4.868416773544847 -4.874799510627939 -4.877221330165451 -4.881286163553019 -4.8874100240825875 -4.891308317225037 -4.892303130499936 -4.893432054890281 -4.8954976073215395 -4.899213327082988 -4.905019471534343 -4.911627277284988 -4.9217972499982166 -4.929873615586514 -4.941315139995673 -4.945089778852809 -4.94992603616919 -4.952314926180684 -4.9537436794626455 -4.955767493634361 -4.957968409481351 -4.959243454465961 -4.9602707392764005 -4.960738920558257 -4.961363441057057 -4.96195467384707 -4.962613173435042 -4.963032024991341 -4.963662073955085 -4.964435154186988 -4.965258981200061 -4.966094465978602 -4.966740446354241 -4.967652267764699 -4.9684048311805515 -4.96870141043233 -4.969043280241283 -4.969193426718957 -4.969280868680967 -4.969331047415891 -4.969398340786786 -4.9694285629019115 -4.969449950889249 -4.969464250422213 -4.9694741129748135 -4.969481687592534 -4.969485843316817 -4.9694877318550015 -4.969488729305418 -4.969489889382683 -4.969491777879774 -4.969494668791281 -4.9694973298181475 -4.9694982839215305 -4.96949860481601 -4.969498787099688 -4.9694991120166865 -4.969499707876148 -4.969500804798546 -4.969502800466666 -4.969506316596278 -4.969512055291611 -4.969519206699492 -4.96952369988416 -4.96952705758946 -4.969527618671129 -4.969527820973696 -4.9695278887989724 -4.969527908517537 -4.9695279192050545 -4.969527933929916 -4.969527958646122 -4.969528002777054 -4.969528083564583 -4.969528232845047 -4.969528504628335 -4.969528996695549 -4.969529857157368 -4.9695313033573685 -4.969533532935807 -4.969537048192471 -4.969543023019276 -4.969552994389031 -4.96955957818369 -4.969572126248426 -4.96968201173539 -4.969720349450067 -4.969787170368528 -4.969899974969632 -4.97009081080878 -4.970412882893406 -4.970776066332398 -4.971404550007904 -4.971976394496971 -4.9728324477037145 -4.97414747792689 -4.975546162637067 -4.976703782574684 -4.977199482621257 -4.978129719529659 -4.9797447954684 -4.980842060660604 -4.981447956594424 -4.982369540869239 -4.983580815053098 -4.98447017645319 -4.984958859275681 -4.985375574688535 -4.9855695167094884 -4.985727972361992 -4.985892890885591 -4.986092786579478 -4.986427727949678 -4.986947113211326 -4.987570431702723 -4.9879632891470305 -4.988066941185429 -4.9882552074325055 -4.988569799784163 -4.988936244591214 -4.989191176721608 -4.9896501461880485 -4.990443881847953 -4.991519636524776 -4.991919138940566 -4.9921425300787 -4.992457524087147 -4.992699357404259 -4.992897699123165 -4.993106721214824 -4.99343017441335 -4.99391156745498 -4.994390168384211 -4.994841252608976 -4.995051661039188 -4.995221341438559 -4.99538339001213 -4.9954533022254175 -4.995513370965299 -4.99554535916739 -4.9955846502439645 -4.995606991383128 -4.995628967903711 -4.9956471913744025 -4.9956679733261735 -4.995687258779323 -4.995713595567218 -4.995747317205828 -4.995800234950248 -4.995876207949315 -4.995957830744359 -4.996014701433626 -4.996038837102778 -4.996068635791386 -4.996080047246121 -4.9960981238556466 -4.996127237828385 -4.996172137898482 -4.996224529501454 -4.996233615359083 -4.996239591585494 -4.996243766645896 -4.996246348100136 -4.996249405783753 -4.99625293054131 -4.996255360571823 -4.996255868642056 -4.996256072907403 -4.996256148245906 -4.996256176487907 -4.996256183517802 -4.996256184280534 -4.996256184463218 -4.996256184560406 -4.996256184596943 "
          ]
        },
        {
          "output_type": "execute_result",
          "data": {
            "text/plain": [
              "<matplotlib.legend.Legend at 0x7f39713a0c70>"
            ]
          },
          "metadata": {},
          "execution_count": 11
        },
        {
          "output_type": "display_data",
          "data": {
            "text/plain": [
              "<Figure size 432x288 with 1 Axes>"
            ],
            "image/png": "[encoded data removed]"
          },
          "metadata": {
            "needs_background": "light"
          }
        }
      ],
      "source": [
        "import matplotlib.pylab as plt\n",
        "\n",
        "\n",
        "for nlayers in range(6,11,1):\n",
        "    num_params = 2*nlayers\n",
        "\n",
        "    back_trace = []\n",
        "    def print_avg(xk):\n",
        "        eva = evaluate_parameters(nqubits, edges, xk,nlayers)\n",
        "        back_trace.append(eva)\n",
        "        print(eva, end=' ')\n",
        "\n",
        "    opt_res = minimize(lambda x : evaluate_parameters(nqubits, edges, x, nlayers), \n",
        "                       np.random.random(num_params),\n",
        "                       callback=print_avg,)\n",
        "    plt.plot(back_trace,label=str(nlayers))\n",
        "# there exists a classical polynomial algorithm returning solutions within a factor of 0.878 of the optimal\n",
        "# we must at least beat that. https://fr.wikipedia.org/wiki/Coupe_maximum\n",
        "plt.axhline(0.878*best_value, color='b', label=\"classical apx ratio\")\n",
        "plt.axhline(best_value,color='r',label='optimal value')\n",
        "plt.legend()"
      ]
    },
    {
      "cell_type": "markdown",
      "id": "e9dffce1",
      "metadata": {
        "id": "e9dffce1"
      },
      "source": [
        "### Question 6: smart initialization"
      ]
    },
    {
      "cell_type": "markdown",
      "source": [
        "Explication du choix des paramètres dans l'algorithme : \n",
        "\n",
        "$e^{-i\\int_0^T H(s)ds} = e^{-i \\frac{T}{p} \\sum_{k=1}^p H(\\frac{Tk}{p})} = \\prod_{k=1}^p e^{-i\\frac{T}{p} (1 - \\frac{k}{p}) \\sum_i \\sigma_x^i} e^{-i\\frac{Tk}{p^2}H_c} = \\prod_{k=1}^p RX(\\theta_k) e^{-i\\beta_k H_c}$\n",
        "\n",
        "Par identification : $\\theta_k = \\frac{2T}{p}(1-\\frac{k}{p})$ et $\\beta_k = \\frac{Tk}{p^2}$\n"
      ],
      "metadata": {
        "id": "exKsF02tefdb"
      },
      "id": "exKsF02tefdb"
    },
    {
      "cell_type": "code",
      "execution_count": 16,
      "id": "d1eb83de",
      "metadata": {
        "id": "d1eb83de",
        "colab": {
          "base_uri": "https://localhost:8080/",
          "height": 320
        },
        "outputId": "ad2fe176-9f79-4e21-8232-b0500df5060e"
      },
      "outputs": [
        {
          "output_type": "stream",
          "name": "stdout",
          "text": [
            "-1.8599369066173035 -1.9792523697487014 -2.8654344066984394 -3.0939371111244993 -3.395025760787612 -3.7329978496527323 -3.889355433882277 -3.9693434799371943 -3.977424098471434 -3.9781781794961715 -3.9782686622876158 -3.978269027568936 -3.97826902965222 -3.9782690296564724 -1.7485106703326065 -1.8144011265135445 -2.3172780679458076 -3.2096705861895183 -3.6092504612106002 -3.8870468817080273 -4.248442765396564 -4.424086643329558 -4.494829694422574 -4.575615639975264 -4.63138587051854 -4.651671306310404 -4.66176660266787 -4.662433825622503 -4.662568180699104 -4.662589557638748 -4.662589583785779 -4.66258958828735 -1.6251857179019253 -2.2735140499915425 -2.9833992719484583 -3.3955254880636128 -4.116335846495604 -4.378782833833872 -4.433853000603348 -4.50845809133071 -4.528756287050583 -4.564470307255118 -4.624283500296796 -4.657136667551608 -4.666535165902283 -4.674531831963444 -4.687682422329888 -4.704475219462517 -4.710923527098481 -4.714145347189767 -4.714844792459342 -4.7151901824597475 -4.715628163537978 -4.715975236106292 -4.716146156772086 -4.71625469927409 -4.716448272573902 -4.7168153247747675 -4.717488074671869 -4.718030005766946 -4.718867634344612 -4.7203754239041285 -4.722775450037005 -4.724315342799379 -4.725156907703396 -4.726266423568684 -4.727806074219001 -4.729263606970652 -4.7315026331442125 -4.733520443495756 -4.736252431856083 -4.737504503990658 -4.738659886826507 -4.73958336081868 -4.739895703587875 -4.7399828004645626 -4.740012997760295 -4.7400195519120025 -4.74002412974612 -4.740025666334779 -4.740025791384688 -4.740025792961092 -4.740025793049982 -1.5621849190188557 -2.4141109263248874 -3.3454151679310224 -3.7358996226995274 -4.222862948695641 -4.339774619374297 -4.50276312794019 -4.543112292306525 -4.6094117119034745 -4.707841442724672 -4.7446448132307895 -4.792824283571982 -4.820118200741317 -4.834154400972415 -4.843921154240809 -4.8498572656355385 -4.854221110665454 -4.859097233926342 -4.867960018408969 -4.8812367255951825 -4.889160584989033 -4.901029461192881 -4.91558449346491 -4.922206120487808 -4.927854240952145 -4.936017908847042 -4.9423454105772375 -4.945646598334897 -4.950191337122662 -4.954849248285793 -4.959287608745549 -4.960702731280904 -4.961788259860277 -4.961907976284356 -4.961918772123573 -4.961919951836712 -4.961920114453002 -4.961920242802559 -4.961920357626543 -4.961920473868834 -4.961920538316025 -4.961920558022734 -4.961920562121203 -4.961920563018012 -4.961920563162043 "
          ]
        },
        {
          "output_type": "execute_result",
          "data": {
            "text/plain": [
              "<matplotlib.legend.Legend at 0x7f39713b81f0>"
            ]
          },
          "metadata": {},
          "execution_count": 16
        },
        {
          "output_type": "display_data",
          "data": {
            "text/plain": [
              "<Figure size 432x288 with 1 Axes>"
            ],
            "image/png": "[encoded data removed]"
          },
          "metadata": {
            "needs_background": "light"
          }
        }
      ],
      "source": [
        "T = 1.\n",
        "\n",
        "for nlayers in range(3,7,1):\n",
        "    num_params = 2*nlayers\n",
        "\n",
        "    back_trace = []\n",
        "    def print_avg(xk):\n",
        "        eva = evaluate_parameters(nqubits, edges, xk,nlayers)\n",
        "        back_trace.append(eva)\n",
        "        print(eva, end=' ')\n",
        "\n",
        "    # TODO implement parameter init\n",
        "    parameters_init = []\n",
        "    for i in range (nlayers):\n",
        "      parameters_init.append(T/nlayers*(1-i/nlayers)*2)                         #Compute the theta coefficient\n",
        "      parameters_init.append(T*i/(nlayers**2))                                  #Compute the beta coefficient \n",
        "    # END TODO        \n",
        "    opt_res = minimize(lambda x : evaluate_parameters(nqubits, edges, x, nlayers), \n",
        "                       parameters_init, \n",
        "                       callback=print_avg,)\n",
        "    plt.plot(back_trace,label=str(nlayers))\n",
        "plt.axhline(0.878*best_value, color='b', label=\"classical apx ratio\")\n",
        "plt.axhline(best_value,color='r',label='optimal value')\n",
        "plt.legend()"
      ]
    },
    {
      "cell_type": "markdown",
      "source": [
        "On voit que la convergence est nettement plus rapide, dès 4 layers on a des meilleures performances que l'algorithme classique. A partir de 6 layers on atteint la valeur optimale. "
      ],
      "metadata": {
        "id": "lf8RVazulqKT"
      },
      "id": "lf8RVazulqKT"
    },
    {
      "cell_type": "code",
      "source": [
        "T = 5.\n",
        "\n",
        "for nlayers in range(3,7,1):\n",
        "    num_params = 2*nlayers\n",
        "\n",
        "    back_trace = []\n",
        "    def print_avg(xk):\n",
        "        eva = evaluate_parameters(nqubits, edges, xk,nlayers)\n",
        "        back_trace.append(eva)\n",
        "        print(eva, end=' ')\n",
        "\n",
        "    # TODO implement parameter init\n",
        "    parameters_init = []\n",
        "    for i in range (nlayers):\n",
        "      parameters_init.append(T/nlayers*(1-i/nlayers)*2)\n",
        "      parameters_init.append(T*i/(nlayers**2))\n",
        "    # END TODO        \n",
        "    opt_res = minimize(lambda x : evaluate_parameters(nqubits, edges, x, nlayers), \n",
        "                       parameters_init, \n",
        "                       callback=print_avg,)\n",
        "    plt.plot(back_trace,label=str(nlayers))\n",
        "plt.axhline(0.878*best_value, color='b', label=\"classical apx ratio\")\n",
        "plt.axhline(best_value,color='r',label='optimal value')\n",
        "plt.legend()"
      ],
      "metadata": {
        "colab": {
          "base_uri": "https://localhost:8080/",
          "height": 320
        },
        "id": "Pe5QcRpImPLQ",
        "outputId": "ec2e1f38-dc03-40e8-8773-a8d9d60c04d6"
      },
      "id": "Pe5QcRpImPLQ",
      "execution_count": 18,
      "outputs": [
        {
          "output_type": "stream",
          "name": "stdout",
          "text": [
            "-0.8126041072635957 -1.2072616371328666 -1.9587056823766036 -2.5640698033311398 -2.9155238979165463 -3.1079420643986935 -3.206502652143127 -3.31886551641864 -3.4125039900060377 -3.5438391471984607 -3.586180366177297 -3.5944489843505814 -3.595701634425584 -3.5957420343479534 -3.5957440576717197 -3.5957440581315834 -2.5122011159839044 -2.896955316286939 -2.939559113164728 -3.016501296929048 -3.1357395343666092 -3.2891890867480664 -3.511288600551369 -3.5705688706848933 -3.59811650593659 -3.6205898334979345 -3.635856951342875 -3.6467765590452252 -3.648036911434316 -3.648249091583184 -3.648263452699018 -3.6482678711542547 -3.648267928968146 -3.648267931146946 -3.6482679312161945 -3.6482679313191584 -3.648267931509554 -3.648267931873401 -3.6482679348332647 -3.6482679404774183 -3.6482687209990323 -3.648268742463795 -3.648271325074783 -3.6482760604061544 -3.6482850402694877 -3.6483011607622573 -3.648327871811107 -3.648373754271705 -3.648456071286946 -3.648602638634479 -3.64884498761609 -3.6491322996400917 -3.6492213042500787 -3.649289357556298 -3.64931365359415 -3.6493585224012874 -3.649432491541699 -3.6495149444669646 -3.649630487683394 -3.6497193344609236 -3.649759082992535 -3.649804589427475 -3.64982912738758 -3.6498314367511595 -3.6498319346802783 -3.6498319707631897 -3.649831971267666 -2.8094850508157436 -3.0094391508438343 -3.1861220718315986 -3.2165126650111 -3.4747802498387053 -3.6024599861869855 -3.844849682546986 -3.956526746780716 -3.9917542751722275 -4.025827238412764 -4.048938156289403 -4.082450482656561 -4.113790660815188 -4.137811531614682 -4.152779136980009 -4.165331801767228 -4.18434848662277 -4.220146992244026 -4.255831815506665 -4.2930378610514515 -4.317269890955016 -4.354791863335258 -4.3834399962686765 -4.3920714068458295 -4.397591049279795 -4.400137645378034 -4.401454953321576 -4.401810052076936 -4.402108207030011 -4.402262426000845 -4.402361713088515 -4.402510899735443 -4.402635120597835 -4.402671401807602 -4.402679491832166 -4.402683311985944 -4.4026899074194725 -4.4027014183452735 -4.402720550001415 -4.402746557691381 -4.4027587780583985 -4.402764327290544 -4.40276494010547 -4.402764964315022 -4.402764964790534 -2.4126177018721298 -2.656658703693707 -3.055457609091345 -3.2104829098250116 -3.387752445374561 -3.6691653784294536 -3.7886979872146127 -3.838183019624768 -3.9070404071815106 -3.9607722954703597 -4.009073057249142 -4.031352089772943 -4.070142171842711 -4.093795183531074 -4.122318764724126 -4.139621417365799 -4.1688595156756065 -4.186750702296959 -4.2164990477953115 -4.250593474639043 -4.263506343269507 -4.284619612546016 -4.314872697338615 -4.352304951852761 -4.360062636494244 -4.410165692258479 -4.447145832176683 -4.512506281259719 -4.5745263365002025 -4.610884396329562 -4.651159529374557 -4.658611723724474 -4.661179457950782 -4.663101506142751 -4.6643097358375085 -4.665522577964913 -4.666328533403241 -4.6672264979376115 -4.66868960378167 -4.6707059997690825 -4.672832388898504 -4.675749290667206 -4.677491567024956 -4.678717376772894 -4.679705299647211 -4.680418825732494 -4.680984172018124 -4.681622862328781 -4.682810469041096 -4.685054867793474 -4.689160734529271 -4.695087649039081 -4.7005890634185015 -4.710018555220494 -4.721915985219655 -4.724963963531156 -4.726454608992718 -4.727838245575312 -4.728147329536892 -4.728317409335747 -4.72840854525338 -4.728464358594136 -4.728484134212965 -4.728488612705542 -4.72848904994122 -4.728489096063056 -4.728489110993717 -4.728489111798489 -4.728489111827967 "
          ]
        },
        {
          "output_type": "execute_result",
          "data": {
            "text/plain": [
              "<matplotlib.legend.Legend at 0x7f3971024b20>"
            ]
          },
          "metadata": {},
          "execution_count": 18
        },
        {
          "output_type": "display_data",
          "data": {
            "text/plain": [
              "<Figure size 432x288 with 1 Axes>"
            ],
            "image/png": "[encoded data removed]"
          },
          "metadata": {
            "needs_background": "light"
          }
        }
      ]
    },
    {
      "cell_type": "markdown",
      "source": [
        "Pour un T plus grand ici 5, les performances ont moins bonnes : 6 layers ne convergent pas vers la solution optimale et les performances ne sont meilleures que celle de l'algo classique qu'à partir de 5 layers."
      ],
      "metadata": {
        "id": "-sizxlZPmhTO"
      },
      "id": "-sizxlZPmhTO"
    }
  ],
  "metadata": {
    "kernelspec": {
      "display_name": "Python 3 (ipykernel)",
      "language": "python",
      "name": "python3"
    },
    "language_info": {
      "codemirror_mode": {
        "name": "ipython",
        "version": 3
      },
      "file_extension": ".py",
      "mimetype": "text/x-python",
      "name": "python",
      "nbconvert_exporter": "python",
      "pygments_lexer": "ipython3",
      "version": "3.10.6"
    },
    "colab": {
      "provenance": []
    }
  },
  "nbformat": 4,
  "nbformat_minor": 5
}