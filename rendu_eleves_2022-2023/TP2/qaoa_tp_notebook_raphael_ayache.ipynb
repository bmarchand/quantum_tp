{
  "cells": [
    {
      "cell_type": "code",
      "source": [
        "!pip install wand\n",
        "!apt install imagemagick\n",
        "!pip install myqlm\n",
        "!python -m qat.magics.install"
      ],
      "metadata": {
        "id": "wb8T-dWUZ3qs"
      },
      "id": "wb8T-dWUZ3qs",
      "execution_count": null,
      "outputs": []
    },
    {
      "cell_type": "code",
      "source": [
        "import os\n",
        "os.kill(os.getpid(), 9)"
      ],
      "metadata": {
        "id": "-p71qv9KaUjb"
      },
      "id": "-p71qv9KaUjb",
      "execution_count": null,
      "outputs": []
    },
    {
      "cell_type": "markdown",
      "id": "bad09515",
      "metadata": {
        "id": "bad09515"
      },
      "source": [
        "## Part 1 implementing QAOA\n"
      ]
    },
    {
      "cell_type": "markdown",
      "id": "536219fc",
      "metadata": {
        "id": "536219fc"
      },
      "source": [
        "### Question1 :\n",
        "Write down in the cell below the Hamiltonian whose ground state is the solution to MaxCUT on an input graph $G=(V,E)$:"
      ]
    },
    {
      "cell_type": "markdown",
      "id": "fd36b562",
      "metadata": {
        "id": "fd36b562"
      },
      "source": [
        "$$ H = \\sum_{i,j\\in E} \\sigma_i \\cdot \\sigma_j $$"
      ]
    },
    {
      "cell_type": "markdown",
      "id": "b045f8b7",
      "metadata": {
        "id": "b045f8b7"
      },
      "source": [
        "### Question 2:\n",
        "Complete the implementation below of a simple, brute-force enumeration of all states computing the optimal solution to MaxCUT for the graph represented by 'edges'"
      ]
    },
    {
      "cell_type": "code",
      "execution_count": null,
      "id": "7bc976fa",
      "metadata": {
        "colab": {
          "base_uri": "https://localhost:8080/"
        },
        "id": "7bc976fa",
        "outputId": "91bd22f4-c24c-4025-d2e3-09992745511f"
      },
      "outputs": [
        {
          "output_type": "stream",
          "name": "stdout",
          "text": [
            "-5\n",
            "[1, -1, -1, 1, 1]\n"
          ]
        }
      ],
      "source": [
        "import numpy as np\n",
        "\n",
        "graph1 = [(0,1),(0,2),(1,3),(2,3)]\n",
        "graph2 = [(0,1),(1,2),(0,3),(1,4),(2,5),(3,6),(4,7),(5,8),(3,4),(4,5),(6,7),(7,8)]\n",
        "graph3 = [(0,1),(1,2),(0,3),(1,4),(2,5),(3,6),(4,7),(3,4),(4,5),(6,7)]\n",
        "graph4 = [(0,1),(1,2),(2,3),(4,5),(5,6),(6,7),(0,4),(1,5),(2,6),(3,7)]\n",
        "graph5 = [(0,1),(0,2),(1,3),(2,4),(3,5),(4,5),(1,4)]\n",
        "graph6 = [(0,1),(0,2),(1,3),(2,4),(1,4)]\n",
        "\n",
        "\n",
        "# choice of graph\n",
        "edges = graph6\n",
        "\n",
        "nqubits = max([max(list(v)) for v in edges])+1\n",
        "\n",
        "#nqubits = 5\n",
        "graph7 = [(i,(i+1)%nqubits) for i in range(nqubits)]+[(1,4)]\n",
        "\n",
        "\n",
        "# COMPUTATION OF OPT.\n",
        "best_value = len(edges)\n",
        "best_b = 0\n",
        "for x in range(2**nqubits):\n",
        "    b = np.binary_repr(x, width=nqubits)\n",
        "    b = [int(b[i]) for i in range(nqubits)]\n",
        "    # TODO: Complete the computation below:\n",
        "    b = [i*2-1 for i in b] # transformer les 0 en -1 et sans modifier les 1.\n",
        "    val = 0\n",
        "    for i,j in edges:\n",
        "      val += b[i]*b[j]\n",
        "    # END TODO\n",
        "    if val <= best_value:\n",
        "        best_value = val\n",
        "        best_b = b\n",
        "print(best_value)\n",
        "print(best_b)"
      ]
    },
    {
      "cell_type": "markdown",
      "id": "4bed0ead",
      "metadata": {
        "id": "4bed0ead"
      },
      "source": [
        "#### visualization of the graph"
      ]
    },
    {
      "cell_type": "code",
      "execution_count": null,
      "id": "11a7d2a7",
      "metadata": {
        "colab": {
          "base_uri": "https://localhost:8080/",
          "height": 248
        },
        "id": "11a7d2a7",
        "outputId": "41e13e03-27a0-4f86-d814-d8f20d213196"
      },
      "outputs": [
        {
          "output_type": "display_data",
          "data": {
            "text/plain": [
              "<Figure size 432x288 with 1 Axes>"
            ],
            "image/png": "[encoded data removed]"
          },
          "metadata": {}
        }
      ],
      "source": [
        "import networkx as nx\n",
        "G = nx.Graph()\n",
        "for i,j in edges:\n",
        "    G.add_edge(i,j)\n",
        "nx.draw_networkx(G)"
      ]
    },
    {
      "cell_type": "code",
      "execution_count": null,
      "id": "1bcf8886",
      "metadata": {
        "id": "1bcf8886"
      },
      "outputs": [],
      "source": [
        "from qat.lang.AQASM import Program, H, CNOT, RX, QRoutine, RZ, X, Z"
      ]
    },
    {
      "cell_type": "code",
      "execution_count": null,
      "id": "f125405c",
      "metadata": {
        "id": "f125405c"
      },
      "outputs": [],
      "source": [
        "def U_ZZ(theta):\n",
        "    \n",
        "    zz_r = QRoutine()\n",
        "    zz_r.apply(CNOT, 0, 1)\n",
        "    zz_r.apply(RZ(theta), 1) # difference of convention between implemented version and what we need.\n",
        "    zz_r.apply(CNOT, 0, 1)\n",
        "\n",
        "    return zz_r"
      ]
    },
    {
      "cell_type": "markdown",
      "id": "b87e91ed",
      "metadata": {
        "id": "b87e91ed"
      },
      "source": [
        "### Question 3"
      ]
    },
    {
      "cell_type": "markdown",
      "source": [
        "Puisque $e^{-i\\beta H_c} = U_{ZZ}(2\\beta)$,\n",
        "$$e^{-i\\beta H_c} = e^{-\\beta \\sum_{i,j \\in E} \\sigma_i \\sigma_j} = \\prod_{i,j \\in E} e^{-i\\beta \\sigma_i \\sigma_j}$$\n",
        "Sachant que $\\langle 1 |\\sigma |1 \\rangle = 1$ et $\\langle 0 |\\sigma |0 \\rangle = - 1$  on obtient,\n",
        "\n",
        "\n",
        "$$\\langle x_i x_j |e^{-i\\beta \\sigma_i \\sigma_j} |x_i x_j \\rangle= e^{-i\\beta}\\text{,    si } x_i=x_j$$\n",
        "$$\\langle x_i x_j |e^{-i\\beta \\sigma_i \\sigma_j} |x_i x_j \\rangle= e^{+i\\beta} \\text{,    si } x_i=-x_j$$"
      ],
      "metadata": {
        "id": "sLRVmXSsVsH_"
      },
      "id": "sLRVmXSsVsH_"
    },
    {
      "cell_type": "code",
      "execution_count": null,
      "id": "27954bb3",
      "metadata": {
        "id": "27954bb3"
      },
      "outputs": [],
      "source": [
        "def one_qaoa_layer(n_qubits, edges, theta, beta):\n",
        "\n",
        "    layer = QRoutine()\n",
        "    #TODO: implement one qaoa layer\n",
        "    for i in range(n_qubits):\n",
        "      layer.apply(RX(theta), i)\n",
        "\n",
        "    for i,j in edges:\n",
        "      layer.apply(U_ZZ(2*beta), i, j)\n",
        "    return layer"
      ]
    },
    {
      "cell_type": "markdown",
      "id": "bd0c36a5",
      "metadata": {
        "id": "bd0c36a5"
      },
      "source": [
        "### Question 4"
      ]
    },
    {
      "cell_type": "code",
      "execution_count": null,
      "id": "655a9aaa",
      "metadata": {
        "id": "655a9aaa"
      },
      "outputs": [],
      "source": [
        "from qat.qpus import get_default_qpu\n",
        "\n",
        "def evaluate_parameters(n_qubits, edges, parameters, n_layers):\n",
        "    \n",
        "    prog = Program()\n",
        "    qubits = prog.qalloc(n_qubits)\n",
        "    \n",
        "    # TODO: implement initialization+parameterized circuit\n",
        "    for i in range(n_qubits): #initialization\n",
        "      prog.apply(H, qubits[i])\n",
        "\n",
        "    for i in range(n_layers):\n",
        "      prog.apply(one_qaoa_layer(n_qubits, edges, parameters[2*i], parameters[2*i+1]), qubits)\n",
        "        \n",
        "    # END TODO\n",
        "    circ = prog.to_circ()\n",
        "\n",
        "    job = circ.to_job()\n",
        "    qpu = get_default_qpu()\n",
        "    \n",
        "    result = qpu.submit(job)\n",
        "    # BEGIN TODO\n",
        "    obs = 0\n",
        "    for sample in result:\n",
        "        # this loop is over all 2**nqubits states.\n",
        "        # sample.state.bitstring contains the qubit values (nqubits 0 or 1)\n",
        "      b = [int(i)*2-1 for i in sample.state.bitstring] # transforme les 0 en -1 sans modifier les 1.\n",
        "      for i,j in edges:\n",
        "        obs += b[i]*b[j]*sample.probability\n",
        "    # END TODO\n",
        "    return obs\n"
      ]
    },
    {
      "cell_type": "code",
      "execution_count": null,
      "id": "88963901",
      "metadata": {
        "colab": {
          "base_uri": "https://localhost:8080/"
        },
        "id": "88963901",
        "outputId": "43dafd25-faa2-45f5-abf5-46859dd6c704"
      },
      "outputs": [
        {
          "output_type": "execute_result",
          "data": {
            "text/plain": [
              "array([0.24710518, 0.50033595, 0.02287886])"
            ]
          },
          "metadata": {},
          "execution_count": 8
        }
      ],
      "source": [
        "import numpy as np\n",
        "np.random.random(3)"
      ]
    },
    {
      "cell_type": "code",
      "execution_count": null,
      "id": "42557843",
      "metadata": {
        "id": "42557843"
      },
      "outputs": [],
      "source": [
        "from scipy.optimize import minimize"
      ]
    },
    {
      "cell_type": "markdown",
      "id": "0846a6dd",
      "metadata": {
        "id": "0846a6dd"
      },
      "source": [
        "### Random initialisation"
      ]
    },
    {
      "cell_type": "markdown",
      "id": "f679d3e0",
      "metadata": {
        "id": "f679d3e0"
      },
      "source": [
        "### Question 5: \n",
        "réponse à la question:"
      ]
    },
    {
      "cell_type": "code",
      "execution_count": null,
      "id": "36f6e279",
      "metadata": {
        "colab": {
          "base_uri": "https://localhost:8080/",
          "height": 265
        },
        "id": "36f6e279",
        "outputId": "068c1b03-1bbf-4c38-c48b-7a6f80605c46"
      },
      "outputs": [
        {
          "output_type": "display_data",
          "data": {
            "text/plain": [
              "<Figure size 432x288 with 1 Axes>"
            ],
            "image/png": "[encoded data removed]"
          },
          "metadata": {
            "needs_background": "light"
          }
        }
      ],
      "source": [
        "import matplotlib.pylab as plt\n",
        "\n",
        "\n",
        "for nlayers in range(8,11,1):\n",
        "    num_params = 2*nlayers\n",
        "\n",
        "    back_trace = []\n",
        "    def print_avg(xk):\n",
        "        eva = evaluate_parameters(nqubits, edges, xk, nlayers)\n",
        "        back_trace.append(eva)\n",
        "        #print(eva, end=' ')\n",
        "\n",
        "    opt_res = minimize(lambda x : evaluate_parameters(nqubits, edges, x, nlayers), \n",
        "                       np.random.random(num_params),\n",
        "                       callback=print_avg,)\n",
        "    plt.plot(back_trace,label=str(nlayers))\n",
        "# there exists a classical polynomial algorithm returning solutions within a factor of 0.878 of the optimal\n",
        "# we must at least beat that. https://fr.wikipedia.org/wiki/Coupe_maximum\n",
        "plt.axhline(0.878*best_value, color='b', label=\"classical apx ratio\")\n",
        "plt.axhline(best_value,color='r',label='optimal value')\n",
        "plt.legend();"
      ]
    },
    {
      "cell_type": "markdown",
      "source": [
        "à partir de 10 couches l'algorithme converge vers la solution optimale.  "
      ],
      "metadata": {
        "id": "S_Qk5CuCH6G6"
      },
      "id": "S_Qk5CuCH6G6"
    },
    {
      "cell_type": "markdown",
      "id": "e9dffce1",
      "metadata": {
        "id": "e9dffce1"
      },
      "source": [
        "### Question 6: smart initialization"
      ]
    },
    {
      "cell_type": "markdown",
      "source": [
        "En utilisant l'hypothèse selon laquelle $e^{A+B} \\approx e^A e^B$, il est possible de réécrire $|\\psi_{final}\\rangle$:\n",
        "\n",
        "$$|\\psi_{final}\\rangle = e^{-i\\int_0^T H(s) \\text{d} s} |\\psi_0\\rangle \\approx \\prod_{k=1}^p e^{-i(1-\\frac k p) \\sigma_x^{~k} \\frac T p} e^{-i\\frac{kT}{p^2} H_C}|\\psi_0\\rangle$$\n",
        "\n",
        "On peut alors identifier $\\beta_k$ et $\\theta_k$: \n",
        "\n",
        "$e^{-i\\beta_k H_C} = e^{-i\\frac{kT}{p^2}H_C}$ et $RX(\\theta_k) = e^{-i\\frac{\\theta_k} 2 X} = e^{-i(1-\\frac k p) \\sigma_x^{~k} \\frac T p}$\n",
        "\n",
        "On en déduit:\n",
        "$$\\beta_k = \\frac{kT}{p^2} \\text{, et }\\theta_k = (1-\\frac k p)\\frac {2T} p$$"
      ],
      "metadata": {
        "id": "iL__ewVtOm0d"
      },
      "id": "iL__ewVtOm0d"
    },
    {
      "cell_type": "code",
      "source": [
        "import matplotlib.pyplot as plt"
      ],
      "metadata": {
        "id": "xjZMC3YhKOdl"
      },
      "id": "xjZMC3YhKOdl",
      "execution_count": 14,
      "outputs": []
    },
    {
      "cell_type": "code",
      "execution_count": 18,
      "id": "d1eb83de",
      "metadata": {
        "colab": {
          "base_uri": "https://localhost:8080/",
          "height": 265
        },
        "id": "d1eb83de",
        "outputId": "7c117ab9-bac7-4594-b03a-d6262817c1ce"
      },
      "outputs": [
        {
          "output_type": "display_data",
          "data": {
            "text/plain": [
              "<Figure size 432x288 with 1 Axes>"
            ],
            "image/png": "[encoded data removed]"
          },
          "metadata": {
            "needs_background": "light"
          }
        }
      ],
      "source": [
        "T = 1\n",
        "\n",
        "for nlayers in range(3,6,1):\n",
        "    num_params = 2*nlayers\n",
        "\n",
        "    back_trace = []\n",
        "    def print_avg(xk):\n",
        "        eva = evaluate_parameters(nqubits, edges, xk,nlayers)\n",
        "        back_trace.append(eva)\n",
        "        #print(eva, end=' ')\n",
        "\n",
        "    # TODO implement parameter init\n",
        "    parameters_init = []\n",
        "\n",
        "    for k in range(1,nlayers+1):\n",
        "      theta_k = (1-k/nlayers)*2*T/nlayers\n",
        "      beta_k = k*T/nlayers\n",
        "      parameters_init.append(theta_k)\n",
        "      parameters_init.append(beta_k)\n",
        "\n",
        "    # END TODO        \n",
        "    opt_res = minimize(lambda x : evaluate_parameters(nqubits, edges, x, nlayers), \n",
        "                       parameters_init, \n",
        "                       callback=print_avg,)\n",
        "    plt.plot(back_trace,label=str(nlayers))\n",
        "plt.axhline(0.878*best_value, color='b', label=\"classical apx ratio\")\n",
        "plt.axhline(best_value,color='r',label='optimal value')\n",
        "plt.legend();"
      ]
    },
    {
      "cell_type": "markdown",
      "source": [
        "Une meilleur innitialisation des paramètres permet de restreindre le nombre de layers nécéssaires à la convergence de l'algorithme. En effet, ici seulement 4 couches permettent d'obtenir un résultat satisfaisant. "
      ],
      "metadata": {
        "id": "RUdcY6I5LWuU"
      },
      "id": "RUdcY6I5LWuU"
    },
    {
      "cell_type": "code",
      "source": [
        "T = 100\n",
        "\n",
        "for nlayers in range(3,6,1):\n",
        "    num_params = 2*nlayers\n",
        "\n",
        "    back_trace = []\n",
        "    def print_avg(xk):\n",
        "        eva = evaluate_parameters(nqubits, edges, xk,nlayers)\n",
        "        back_trace.append(eva)\n",
        "        #print(eva, end=' ')\n",
        "\n",
        "    # TODO implement parameter init\n",
        "    parameters_init = []\n",
        "\n",
        "    for k in range(1,nlayers+1):\n",
        "      theta_k = (1-k/nlayers)*2*T/nlayers\n",
        "      beta_k = k*T/nlayers\n",
        "      parameters_init.append(theta_k)\n",
        "      parameters_init.append(beta_k)\n",
        "\n",
        "    # END TODO        \n",
        "    opt_res = minimize(lambda x : evaluate_parameters(nqubits, edges, x, nlayers), \n",
        "                       parameters_init, \n",
        "                       callback=print_avg,)\n",
        "    plt.plot(back_trace,label=str(nlayers))\n",
        "plt.axhline(0.878*best_value, color='b', label=\"classical apx ratio\")\n",
        "plt.axhline(best_value,color='r',label='optimal value')\n",
        "plt.legend();"
      ],
      "metadata": {
        "colab": {
          "base_uri": "https://localhost:8080/",
          "height": 265
        },
        "id": "GpVxo8LAMb8d",
        "outputId": "69f1167f-6295-45fa-c6ed-de5a40cb18be"
      },
      "id": "GpVxo8LAMb8d",
      "execution_count": 19,
      "outputs": [
        {
          "output_type": "display_data",
          "data": {
            "text/plain": [
              "<Figure size 432x288 with 1 Axes>"
            ],
            "image/png": "[encoded data removed]"
          },
          "metadata": {
            "needs_background": "light"
          }
        }
      ]
    },
    {
      "cell_type": "code",
      "source": [
        "T = 0.01\n",
        "\n",
        "for nlayers in range(3,6,1):\n",
        "    num_params = 2*nlayers\n",
        "\n",
        "    back_trace = []\n",
        "    def print_avg(xk):\n",
        "        eva = evaluate_parameters(nqubits, edges, xk,nlayers)\n",
        "        back_trace.append(eva)\n",
        "        #print(eva, end=' ')\n",
        "\n",
        "    # TODO implement parameter init\n",
        "    parameters_init = []\n",
        "\n",
        "    for k in range(1,nlayers+1):\n",
        "      theta_k = (1-k/nlayers)*2*T/nlayers\n",
        "      beta_k = k*T/nlayers\n",
        "      parameters_init.append(theta_k)\n",
        "      parameters_init.append(beta_k)\n",
        "\n",
        "    # END TODO        \n",
        "    opt_res = minimize(lambda x : evaluate_parameters(nqubits, edges, x, nlayers), \n",
        "                       parameters_init, \n",
        "                       callback=print_avg,)\n",
        "    plt.plot(back_trace,label=str(nlayers))\n",
        "plt.axhline(0.878*best_value, color='b', label=\"classical apx ratio\")\n",
        "plt.axhline(best_value,color='r',label='optimal value')\n",
        "plt.legend();"
      ],
      "metadata": {
        "colab": {
          "base_uri": "https://localhost:8080/",
          "height": 265
        },
        "id": "uvTTNU_gMyqt",
        "outputId": "33f64315-c10a-4cb6-f0fe-df04741582dc"
      },
      "id": "uvTTNU_gMyqt",
      "execution_count": 20,
      "outputs": [
        {
          "output_type": "display_data",
          "data": {
            "text/plain": [
              "<Figure size 432x288 with 1 Axes>"
            ],
            "image/png": "[encoded data removed]"
          },
          "metadata": {
            "needs_background": "light"
          }
        }
      ]
    },
    {
      "cell_type": "markdown",
      "source": [
        "Choisir un $T>1$ (ici $T=100$) semble dégradé la qualité de l'algorithme, il converge plus lentement et vers un résultat moins pertinant.\n",
        "Choisir un $T<1$ (ici $T=0.01$) ne semble pas avoir de conséquences particuliètement positive sur la vitesse de l'algorithme ou la qualité de la solution."
      ],
      "metadata": {
        "id": "VefUt9vGNDt5"
      },
      "id": "VefUt9vGNDt5"
    }
  ],
  "metadata": {
    "kernelspec": {
      "display_name": "Python 3 (ipykernel)",
      "language": "python",
      "name": "python3"
    },
    "language_info": {
      "codemirror_mode": {
        "name": "ipython",
        "version": 3
      },
      "file_extension": ".py",
      "mimetype": "text/x-python",
      "name": "python",
      "nbconvert_exporter": "python",
      "pygments_lexer": "ipython3",
      "version": "3.10.6"
    },
    "colab": {
      "provenance": []
    }
  },
  "nbformat": 4,
  "nbformat_minor": 5
}