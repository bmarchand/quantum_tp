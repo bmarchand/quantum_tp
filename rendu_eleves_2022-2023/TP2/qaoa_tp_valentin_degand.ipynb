{
  "cells": [
    {
      "cell_type": "code",
      "source": [
        "!pip install myqlm"
      ],
      "metadata": {
        "colab": {
          "base_uri": "https://localhost:8080/",
          "height": 1000
        },
        "id": "z2K8fCR1hBfk",
        "outputId": "984789e7-80e4-4261-c90c-668b08353ee7"
      },
      "id": "z2K8fCR1hBfk",
      "execution_count": 1,
      "outputs": [
        {
          "output_type": "stream",
          "name": "stdout",
          "text": [
            "Looking in indexes: https://pypi.org/simple, https://us-python.pkg.dev/colab-wheels/public/simple/\n",
            "Collecting myqlm\n",
            "  Downloading myqlm-1.7.1-py3-none-any.whl (2.0 kB)\n",
            "Collecting qat-lang>=2.2.0\n",
            "  Downloading qat_lang-2.2.0-cp38-cp38-manylinux1_x86_64.whl (2.5 MB)\n",
            "\u001b[K     |████████████████████████████████| 2.5 MB 10.8 MB/s \n",
            "\u001b[?25hCollecting myqlm-clinalg>=0.0.1\n",
            "  Downloading myqlm_clinalg-0.0.3-cp38-cp38-manylinux1_x86_64.whl (495 kB)\n",
            "\u001b[K     |████████████████████████████████| 495 kB 62.5 MB/s \n",
            "\u001b[?25hCollecting qat-core>=1.6.0\n",
            "  Downloading qat_core-1.6.0-cp38-cp38-manylinux1_x86_64.whl (4.0 MB)\n",
            "\u001b[K     |████████████████████████████████| 4.0 MB 62.6 MB/s \n",
            "\u001b[?25hCollecting myqlm-simulators>=1.7.1\n",
            "  Downloading myqlm_simulators-1.7.1-py3-none-any.whl (19 kB)\n",
            "Collecting myqlm-fermion>=1.0.0\n",
            "  Downloading myqlm_fermion-1.0.0-py3-none-any.whl (90 kB)\n",
            "\u001b[K     |████████████████████████████████| 90 kB 7.2 MB/s \n",
            "\u001b[?25hCollecting qat-comm>=1.4.0\n",
            "  Downloading qat_comm-1.4.1-cp38-cp38-manylinux1_x86_64.whl (2.9 MB)\n",
            "\u001b[K     |████████████████████████████████| 2.9 MB 8.1 MB/s \n",
            "\u001b[?25hCollecting myqlm-contrib>=1.7.1\n",
            "  Downloading myqlm_contrib-1.7.1-py3-none-any.whl (13 kB)\n",
            "Collecting qat-devices>=0.2.0\n",
            "  Downloading qat_devices-0.2.0-cp38-cp38-manylinux1_x86_64.whl (252 kB)\n",
            "\u001b[K     |████████████████████████████████| 252 kB 68.8 MB/s \n",
            "\u001b[?25hCollecting qat-variational>=1.4.0\n",
            "  Downloading qat_variational-1.4.0-cp38-cp38-manylinux1_x86_64.whl (1.6 MB)\n",
            "\u001b[K     |████████████████████████████████| 1.6 MB 70.2 MB/s \n",
            "\u001b[?25hRequirement already satisfied: networkx in /usr/local/lib/python3.8/dist-packages (from myqlm-contrib>=1.7.1->myqlm) (2.8.8)\n",
            "Collecting bitstring\n",
            "  Downloading bitstring-4.0.1-py3-none-any.whl (45 kB)\n",
            "\u001b[K     |████████████████████████████████| 45 kB 2.4 MB/s \n",
            "\u001b[?25hRequirement already satisfied: numpy in /usr/local/lib/python3.8/dist-packages (from myqlm-fermion>=1.0.0->myqlm) (1.21.6)\n",
            "Requirement already satisfied: pytest in /usr/local/lib/python3.8/dist-packages (from myqlm-fermion>=1.0.0->myqlm) (3.6.4)\n",
            "Collecting anytree\n",
            "  Downloading anytree-2.8.0-py2.py3-none-any.whl (41 kB)\n",
            "\u001b[K     |████████████████████████████████| 41 kB 607 kB/s \n",
            "\u001b[?25hRequirement already satisfied: tqdm in /usr/local/lib/python3.8/dist-packages (from myqlm-fermion>=1.0.0->myqlm) (4.64.1)\n",
            "Requirement already satisfied: scipy in /usr/local/lib/python3.8/dist-packages (from myqlm-fermion>=1.0.0->myqlm) (1.7.3)\n",
            "Collecting numpy\n",
            "  Downloading numpy-1.23.5-cp38-cp38-manylinux_2_17_x86_64.manylinux2014_x86_64.whl (17.1 MB)\n",
            "\u001b[K     |████████████████████████████████| 17.1 MB 98 kB/s \n",
            "\u001b[?25hCollecting thrift==0.16.0\n",
            "  Downloading thrift-0.16.0.tar.gz (59 kB)\n",
            "\u001b[K     |████████████████████████████████| 59 kB 5.3 MB/s \n",
            "\u001b[?25hRequirement already satisfied: six>=1.7.2 in /usr/local/lib/python3.8/dist-packages (from thrift==0.16.0->qat-comm>=1.4.0->myqlm) (1.15.0)\n",
            "Requirement already satisfied: matplotlib in /usr/local/lib/python3.8/dist-packages (from qat-core>=1.6.0->myqlm) (3.2.2)\n",
            "Collecting svgwrite\n",
            "  Downloading svgwrite-1.4.3-py3-none-any.whl (67 kB)\n",
            "\u001b[K     |████████████████████████████████| 67 kB 5.0 MB/s \n",
            "\u001b[?25hCollecting wand\n",
            "  Downloading Wand-0.6.10-py2.py3-none-any.whl (142 kB)\n",
            "\u001b[K     |████████████████████████████████| 142 kB 60.0 MB/s \n",
            "\u001b[?25hRequirement already satisfied: dill in /usr/local/lib/python3.8/dist-packages (from qat-core>=1.6.0->myqlm) (0.3.6)\n",
            "Requirement already satisfied: Pillow in /usr/local/lib/python3.8/dist-packages (from qat-core>=1.6.0->myqlm) (7.1.2)\n",
            "Collecting ply==3.11\n",
            "  Downloading ply-3.11-py2.py3-none-any.whl (49 kB)\n",
            "\u001b[K     |████████████████████████████████| 49 kB 3.9 MB/s \n",
            "\u001b[?25hCollecting pyDOE\n",
            "  Downloading pyDOE-0.3.8.zip (22 kB)\n",
            "Requirement already satisfied: pyparsing!=2.0.4,!=2.1.2,!=2.1.6,>=2.0.1 in /usr/local/lib/python3.8/dist-packages (from matplotlib->qat-core>=1.6.0->myqlm) (3.0.9)\n",
            "Requirement already satisfied: kiwisolver>=1.0.1 in /usr/local/lib/python3.8/dist-packages (from matplotlib->qat-core>=1.6.0->myqlm) (1.4.4)\n",
            "Requirement already satisfied: python-dateutil>=2.1 in /usr/local/lib/python3.8/dist-packages (from matplotlib->qat-core>=1.6.0->myqlm) (2.8.2)\n",
            "Requirement already satisfied: cycler>=0.10 in /usr/local/lib/python3.8/dist-packages (from matplotlib->qat-core>=1.6.0->myqlm) (0.11.0)\n",
            "Requirement already satisfied: py>=1.5.0 in /usr/local/lib/python3.8/dist-packages (from pytest->myqlm-fermion>=1.0.0->myqlm) (1.11.0)\n",
            "Requirement already satisfied: atomicwrites>=1.0 in /usr/local/lib/python3.8/dist-packages (from pytest->myqlm-fermion>=1.0.0->myqlm) (1.4.1)\n",
            "Requirement already satisfied: attrs>=17.4.0 in /usr/local/lib/python3.8/dist-packages (from pytest->myqlm-fermion>=1.0.0->myqlm) (22.1.0)\n",
            "Requirement already satisfied: more-itertools>=4.0.0 in /usr/local/lib/python3.8/dist-packages (from pytest->myqlm-fermion>=1.0.0->myqlm) (9.0.0)\n",
            "Requirement already satisfied: pluggy<0.8,>=0.5 in /usr/local/lib/python3.8/dist-packages (from pytest->myqlm-fermion>=1.0.0->myqlm) (0.7.1)\n",
            "Requirement already satisfied: setuptools in /usr/local/lib/python3.8/dist-packages (from pytest->myqlm-fermion>=1.0.0->myqlm) (57.4.0)\n",
            "Collecting scipy\n",
            "  Downloading scipy-1.9.3-cp38-cp38-manylinux_2_17_x86_64.manylinux2014_x86_64.whl (33.8 MB)\n",
            "\u001b[K     |████████████████████████████████| 33.8 MB 1.3 MB/s \n",
            "\u001b[?25hBuilding wheels for collected packages: thrift, pyDOE\n",
            "  Building wheel for thrift (setup.py) ... \u001b[?25l\u001b[?25hdone\n",
            "  Created wheel for thrift: filename=thrift-0.16.0-cp38-cp38-linux_x86_64.whl size=349403 sha256=14dd9d58fa6840897e7c4c360ff34dde4bb477ca38320b14a4e5fbef617c510b\n",
            "  Stored in directory: /root/.cache/pip/wheels/c1/03/53/7220f8aeecbf2c66ef655a9cff1929299e38119502a316ae30\n",
            "  Building wheel for pyDOE (setup.py) ... \u001b[?25l\u001b[?25hdone\n",
            "  Created wheel for pyDOE: filename=pyDOE-0.3.8-py3-none-any.whl size=18184 sha256=40276e877a9c86bc4a94b8afae1d54375de155ec2879ad4371c7d5ecb4fb65bc\n",
            "  Stored in directory: /root/.cache/pip/wheels/00/3e/fa/5705bf59c2053c17c4799c3ab66a2e356c32f40a3044fe2134\n",
            "Successfully built thrift pyDOE\n",
            "Installing collected packages: thrift, numpy, wand, svgwrite, qat-comm, bitstring, scipy, qat-core, ply, qat-lang, pyDOE, qat-variational, anytree, qat-devices, myqlm-simulators, myqlm-fermion, myqlm-contrib, myqlm-clinalg, myqlm\n",
            "  Attempting uninstall: numpy\n",
            "    Found existing installation: numpy 1.21.6\n",
            "    Uninstalling numpy-1.21.6:\n",
            "      Successfully uninstalled numpy-1.21.6\n",
            "  Attempting uninstall: scipy\n",
            "    Found existing installation: scipy 1.7.3\n",
            "    Uninstalling scipy-1.7.3:\n",
            "      Successfully uninstalled scipy-1.7.3\n",
            "Successfully installed anytree-2.8.0 bitstring-4.0.1 myqlm-1.7.1 myqlm-clinalg-0.0.3 myqlm-contrib-1.7.1 myqlm-fermion-1.0.0 myqlm-simulators-1.7.1 numpy-1.23.5 ply-3.11 pyDOE-0.3.8 qat-comm-1.4.1 qat-core-1.6.0 qat-devices-0.2.0 qat-lang-2.2.0 qat-variational-1.4.0 scipy-1.9.3 svgwrite-1.4.3 thrift-0.16.0 wand-0.6.10\n"
          ]
        },
        {
          "output_type": "display_data",
          "data": {
            "application/vnd.colab-display-data+json": {
              "pip_warning": {
                "packages": [
                  "numpy"
                ]
              }
            }
          },
          "metadata": {}
        }
      ]
    },
    {
      "cell_type": "markdown",
      "id": "bad09515",
      "metadata": {
        "id": "bad09515"
      },
      "source": [
        "## Part 1 implementing QAOA\n"
      ]
    },
    {
      "cell_type": "markdown",
      "id": "536219fc",
      "metadata": {
        "id": "536219fc"
      },
      "source": [
        "### Question1 :\n",
        "Write down in the cell below the Hamiltonian whose ground state is the solution to MaxCUT on an input graph $G=(V,E)$:"
      ]
    },
    {
      "cell_type": "markdown",
      "id": "fd36b562",
      "metadata": {
        "id": "fd36b562"
      },
      "source": [
        "$$ H = \\sum_{i,j\\in E} \\sigma_i \\cdot \\sigma_j $$"
      ]
    },
    {
      "cell_type": "markdown",
      "id": "b045f8b7",
      "metadata": {
        "id": "b045f8b7"
      },
      "source": [
        "### Question 2:\n",
        "Complete the implementation below of a simple, brute-force enumeration of all states computing the optimal solution to MaxCUT for the graph represented by 'edges'"
      ]
    },
    {
      "cell_type": "code",
      "execution_count": 1,
      "id": "7bc976fa",
      "metadata": {
        "colab": {
          "base_uri": "https://localhost:8080/"
        },
        "id": "7bc976fa",
        "outputId": "1f0ea841-13d2-4c26-ba33-49ce1f9c7a77"
      },
      "outputs": [
        {
          "output_type": "stream",
          "name": "stdout",
          "text": [
            "-5\n",
            "[1, 0, 0, 1, 1]\n"
          ]
        }
      ],
      "source": [
        "import numpy as np\n",
        "\n",
        "graph1 = [(0,1),(0,2),(1,3),(2,3)]\n",
        "graph2 = [(0,1),(1,2),(0,3),(1,4),(2,5),(3,6),(4,7),(5,8),(3,4),(4,5),(6,7),(7,8)]\n",
        "graph3 = [(0,1),(1,2),(0,3),(1,4),(2,5),(3,6),(4,7),(3,4),(4,5),(6,7)]\n",
        "graph4 = [(0,1),(1,2),(2,3),(4,5),(5,6),(6,7),(0,4),(1,5),(2,6),(3,7)]\n",
        "graph5 = [(0,1),(0,2),(1,3),(2,4),(3,5),(4,5),(1,4)]\n",
        "graph6 = [(0,1),(0,2),(1,3),(2,4),(1,4)]\n",
        "\n",
        "\n",
        "# choice of graph\n",
        "edges = graph6\n",
        "\n",
        "nqubits = max([max(list(v)) for v in edges])+1\n",
        "\n",
        "#nqubits = 5\n",
        "graph7 = [(i,(i+1)%nqubits) for i in range(nqubits)]+[(1,4)]\n",
        "\n",
        "\n",
        "# COMPUTATION OF OPT.\n",
        "best_value = len(edges)\n",
        "best_b = 0\n",
        "for x in range(2**nqubits):\n",
        "    b = np.binary_repr(x, width=nqubits)\n",
        "    b = [int(b[i]) for i in range(nqubits)]\n",
        "    \n",
        "    # TODO: Complete the computation below:\n",
        "\n",
        "    # We want here to compute the value of <x|H|x> with H given in question 1\n",
        "\n",
        "    val = 0\n",
        "\n",
        "    for edge in edges:\n",
        "           val += (1-2*b[edge[0]])*(1-2*b[edge[1]]) \n",
        "\n",
        "    # END TODO\n",
        "\n",
        "    if val <= best_value:\n",
        "        best_value = val\n",
        "        best_b = b\n",
        "print(best_value)\n",
        "print(best_b)"
      ]
    },
    {
      "cell_type": "markdown",
      "id": "4bed0ead",
      "metadata": {
        "id": "4bed0ead"
      },
      "source": [
        "#### visualization of the graph"
      ]
    },
    {
      "cell_type": "code",
      "execution_count": 2,
      "id": "11a7d2a7",
      "metadata": {
        "colab": {
          "base_uri": "https://localhost:8080/",
          "height": 248
        },
        "id": "11a7d2a7",
        "outputId": "aaa2b901-d724-4148-ecfe-5c329368aa00"
      },
      "outputs": [
        {
          "output_type": "display_data",
          "data": {
            "text/plain": [
              "<Figure size 432x288 with 1 Axes>"
            ],
            "image/png": "[encoded data removed]"
          },
          "metadata": {}
        }
      ],
      "source": [
        "import networkx as nx\n",
        "G = nx.Graph()\n",
        "for i,j in edges:\n",
        "    G.add_edge(i,j)\n",
        "nx.draw_networkx(G)"
      ]
    },
    {
      "cell_type": "code",
      "execution_count": 3,
      "id": "1bcf8886",
      "metadata": {
        "id": "1bcf8886"
      },
      "outputs": [],
      "source": [
        "from qat.lang.AQASM import Program, H, CNOT, RX, QRoutine, RZ, X, Z"
      ]
    },
    {
      "cell_type": "code",
      "execution_count": 4,
      "id": "f125405c",
      "metadata": {
        "id": "f125405c"
      },
      "outputs": [],
      "source": [
        "def U_ZZ(theta):\n",
        "    \n",
        "    zz_r = QRoutine()\n",
        "    zz_r.apply(CNOT, 0, 1)\n",
        "    zz_r.apply(RZ(theta), 1) # difference of convention between implemented version and what we need.\n",
        "    zz_r.apply(CNOT, 0, 1)\n",
        "\n",
        "    return zz_r"
      ]
    },
    {
      "cell_type": "markdown",
      "id": "b87e91ed",
      "metadata": {
        "id": "b87e91ed"
      },
      "source": [
        "### Question 3"
      ]
    },
    {
      "cell_type": "code",
      "execution_count": 5,
      "id": "27954bb3",
      "metadata": {
        "id": "27954bb3"
      },
      "outputs": [],
      "source": [
        "def one_qaoa_layer(n_qubits, edges, theta, beta):\n",
        "\n",
        "    layer = QRoutine()\n",
        "    #TODO: implement one qaoa layer\n",
        "\n",
        "    # We apply the Rx gate to all qubits with the same angle theta\n",
        "\n",
        "    for i in range(n_qubits):\n",
        "      layer.apply(RX(theta),i)\n",
        "    \n",
        "    # We then apply the unitary evolution e^(-i*beta*Hc) by applying U_ZZ on each edge\n",
        "\n",
        "    for edge in edges:\n",
        "      layer.apply(U_ZZ(beta),edge[0],edge[1])\n",
        "\n",
        "    return layer"
      ]
    },
    {
      "cell_type": "markdown",
      "id": "bd0c36a5",
      "metadata": {
        "id": "bd0c36a5"
      },
      "source": [
        "### Question 4"
      ]
    },
    {
      "cell_type": "code",
      "execution_count": 6,
      "id": "655a9aaa",
      "metadata": {
        "id": "655a9aaa"
      },
      "outputs": [],
      "source": [
        "from qat.qpus import get_default_qpu\n",
        "\n",
        "def evaluate_parameters(n_qubits, edges, parameters, n_layers):\n",
        "    \n",
        "    prog = Program()\n",
        "    qubits = prog.qalloc(n_qubits)\n",
        "    \n",
        "    # TODO: implement initialization+parameterized circuit\n",
        "\n",
        "    # Initialization layer\n",
        "    for i in range(n_qubits):\n",
        "      prog.apply(H, qubits[i])\n",
        "    \n",
        "    # qaoa layers\n",
        "    for k in range(n_layers):\n",
        "      prog.apply(one_qaoa_layer(n_qubits, edges, parameters[2*k], parameters[2*k+1]), qubits)\n",
        "\n",
        "    # END TODO\n",
        "    circ = prog.to_circ()\n",
        "    \n",
        "    job = circ.to_job()\n",
        "    qpu = get_default_qpu()\n",
        "    \n",
        "    result = qpu.submit(job)\n",
        "    \n",
        "    # BEGIN TODO\n",
        "    obs = 0\n",
        "    for sample in result:\n",
        "      # this loop is over all 2**nqubits states.\n",
        "      # sample.state.bitstring contains the qubit values (nqubits 0 or 1)\n",
        "\n",
        "      # We compute the mean value of the observable\n",
        "\n",
        "      b = sample.state.bitstring\n",
        "      val = 0\n",
        "\n",
        "      for edge in edges:\n",
        "        val += (1-2*int(b[edge[0]]))*(1-2*int(b[edge[1]]))\n",
        "\n",
        "      obs+= sample.probability*val\n",
        "    # END TODO\n",
        "    return obs\n",
        "        "
      ]
    },
    {
      "cell_type": "code",
      "execution_count": 7,
      "id": "88963901",
      "metadata": {
        "colab": {
          "base_uri": "https://localhost:8080/"
        },
        "id": "88963901",
        "outputId": "54518239-ba7a-4c29-c6c1-d417928205d5"
      },
      "outputs": [
        {
          "output_type": "execute_result",
          "data": {
            "text/plain": [
              "array([0.94359358, 0.38775239, 0.17997879])"
            ]
          },
          "metadata": {},
          "execution_count": 7
        }
      ],
      "source": [
        "import numpy as np\n",
        "np.random.random(3)"
      ]
    },
    {
      "cell_type": "code",
      "execution_count": 8,
      "id": "42557843",
      "metadata": {
        "id": "42557843"
      },
      "outputs": [],
      "source": [
        "from scipy.optimize import minimize\n"
      ]
    },
    {
      "cell_type": "markdown",
      "id": "0846a6dd",
      "metadata": {
        "id": "0846a6dd"
      },
      "source": [
        "### Random initialisation"
      ]
    },
    {
      "cell_type": "markdown",
      "id": "f679d3e0",
      "metadata": {
        "id": "f679d3e0"
      },
      "source": [
        "### Question 5: \n",
        "réponse à la question: 10 layers to reach the optimum"
      ]
    },
    {
      "cell_type": "code",
      "execution_count": 13,
      "id": "36f6e279",
      "metadata": {
        "colab": {
          "base_uri": "https://localhost:8080/",
          "height": 320
        },
        "id": "36f6e279",
        "outputId": "c0b0e2e2-a0a6-45bd-fbeb-d15855d8c95d"
      },
      "outputs": [
        {
          "output_type": "stream",
          "name": "stdout",
          "text": [
            "0.27042907855381215 0.12196379174238733 -0.7179788514378271 -0.8861611800766928 -3.1106912043853185 -3.2767467894980666 -3.480558845369716 -3.783731235146092 -4.332776719775076 -4.541453503434067 -4.62482007599948 -4.640824883701149 -4.667431648476607 -4.699277100012674 -4.727872150383555 -4.739919407705067 -4.74984542436816 -4.751997509496147 -4.75560342625429 -4.761734809376102 -4.772408202155782 -4.791689736175627 -4.7999772429824725 -4.806549588716458 -4.809819306224032 -4.815265856906251 -4.823858766882383 -4.833283503716536 -4.841342746602169 -4.852501457724649 -4.860680658006692 -4.8642162672756335 -4.8670007660055905 -4.8685260080648565 -4.87096507420891 -4.8744228211193485 -4.876657375423887 -4.877540112193935 -4.877679964412901 -4.87783397730763 -4.877930586004103 -4.878054147113834 -4.8782739417727505 -4.878644184504393 -4.879210557983631 -4.880002457905136 -4.881290777545326 -4.883202182087006 -4.886396048080528 -4.89143975163061 -4.894284857407454 -4.897440210799575 -4.901088634977555 -4.90460182369793 -4.906247223321774 -4.907212811510315 -4.9082100196667735 -4.908701285652663 -4.908986880725343 -4.909448016846509 -4.9102738079408175 -4.911759375581869 -4.914510751487441 -4.919831431252186 -4.921892579887152 -4.924896479683826 -4.929048508059633 -4.9328243323155485 -4.937316598556097 -4.939198396490848 -4.941774395293865 -4.9428879315513585 -4.944549164290289 -4.946265682122681 -4.946999094898521 -4.9473479847570045 -4.9476632594863466 -4.94811263065779 -4.948743959700462 -4.9493821233249 -4.949897454064959 -4.950323894588198 -4.950566292637412 -4.950941472902021 -4.951367783202367 -4.951457740501584 -4.9515879457496945 -4.95166761954018 -4.9517042028410945 -4.951718541317516 -4.951721328163267 -4.951722441957029 -4.951723458250514 -4.951725217086362 -4.951728371999725 -4.95173417556494 -4.951745032764534 -4.951765604299049 -4.951803988341243 -4.951867302317187 -4.95195853935462 -4.952086627272213 -4.952273942589482 -4.952610705519637 -4.953214961595764 -4.954249782944993 -4.955998768429898 -4.958797769831442 -4.9623341808605534 -4.963379088457499 -4.964170910477507 -4.964635088486738 -4.965401599668217 -4.966250031027069 -4.966840671975287 -4.967255700063628 -4.967742267557852 -4.96790030335962 -4.9681202878043305 -4.968383181733683 -4.968584755293714 -4.968917060741779 -4.969436215392522 -4.97013161053381 -4.970537273975216 -4.971165752965262 -4.9718187057120975 -4.971914437726734 -4.972049620569797 -4.972120840733424 -4.972157141822414 -4.972199426867268 -4.972235337364329 -4.972294665630758 -4.972372783346761 -4.972426235168292 -4.972470386537698 -4.972521206329938 -4.972605691425466 -4.972754613196859 -4.972959097805192 -4.973311746982546 -4.973901468489848 -4.974418084617017 -4.974615682263197 -4.974935088211336 -4.975349012006015 -4.975558869790568 -4.975714938017536 -4.975769289346822 -4.975785614252968 -4.975799331276637 -4.975821378687332 -4.975852841393192 -4.9758847845014555 -4.975937571889045 -4.97601834288941 -4.976135928392808 -4.9762910047570355 -4.97635959602722 -4.976453717065908 -4.976492041310603 -4.976510593014951 -4.976520465278593 -4.976524651533025 -4.976529779592523 -4.9765318437769475 -4.976533957617642 -4.97653568911467 -4.9765367384687105 -4.976538094158273 -4.976539527160633 -4.976541564760542 -4.9765437783501705 -4.976545723448825 -4.976546704252046 -4.9765468097119125 -4.976546814506305 -4.97654681482915 0.6630645414838016 0.007761829460843167 -0.7118022487872935 -0.8229160836083778 -1.4596912212671498 -1.6016063761239947 -2.033357241109551 -2.1827637144233396 -2.3993704838494256 -2.8177086183044926 -3.124169311115966 -3.345536038800292 -3.4185354067718956 -3.4885829289996253 -3.6005812869401166 -3.7137919760304374 -3.857486328578952 -4.025131086943407 -4.322958904508199 -4.49714544043827 -4.572559142933763 -4.642172696832786 -4.7203559540779 -4.727777339409331 -4.741907547902182 -4.766820699729171 -4.805192875213381 -4.826394148679524 -4.849613912803172 -4.8596859628697935 -4.866244968681492 -4.869926664057327 -4.871323195325136 -4.873254100313069 -4.874925159818402 -4.876993713141303 -4.87840202394278 -4.879097986189173 -4.879388419414487 -4.879699093548327 -4.880199156796706 -4.880910561345809 -4.881360057354735 -4.881510991112764 -4.881553585271746 -4.8815709935069185 -4.881589353224479 -4.8816220697047745 -4.881676209814764 -4.881734414543754 -4.881744621739309 -4.881749850129796 -4.881751269829325 -4.881753318382021 -4.881756741217418 -4.881761579805577 -4.881764035415205 -4.881764994433934 -4.88176532618928 -4.881765487723567 -4.881765764609376 -4.881766259017798 -4.881767153322868 -4.881768759053979 -4.881771551794689 -4.881776026273503 -4.881781406412193 -4.8817844841643785 -4.881786571270239 -4.881786941589697 -4.881787022658076 -4.881787093299254 -4.881787216966016 -4.881787432150469 -4.881787772438719 -4.881788079213673 -4.881788162984458 -4.881788191849916 -4.881788192908779 0.637253611155481 0.028140541345267805 -1.1455755488578419 -2.264183413898227 -2.7853912389130624 -3.3882576383896774 -3.6036992737725346 -3.9064668923681323 -4.237085363604876 -4.2867056094248905 -4.364313088032737 -4.431679154178595 -4.511576684089403 -4.562541231510401 -4.582679271545851 -4.6180040802778075 -4.665792943386978 -4.69991849161399 -4.75016031444383 -4.780708084307234 -4.822957324946324 -4.847650032548558 -4.860208216952212 -4.8681224912697605 -4.873735708250026 -4.881659179717251 -4.892400109417167 -4.905644628625634 -4.9198859649603754 -4.925697516637187 -4.935679381169108 -4.949688557540979 -4.957636695834758 -4.959903281763275 -4.962164115161391 -4.965595096877247 -4.970698644316982 -4.97478384932664 -4.97660287943216 -4.977902743498028 -4.979141388517182 -4.979918847989728 -4.980341819279242 -4.980606966791874 -4.98078438768344 -4.980902243206929 -4.981069586508472 -4.981334599110828 -4.981710329803215 -4.982010245072133 -4.982191864728067 -4.982237851368355 -4.982283494967728 -4.982358306609767 -4.982481136306755 -4.982621362588976 -4.98264670506011 -4.982658086998126 -4.982663567313699 -4.982666568275214 -4.9826701472773145 -4.982675884049976 -4.982685175284998 -4.982700480072818 -4.982726166144643 -4.982769094141301 -4.982835549036386 -4.9829114951893185 -4.982975733583262 -4.9830015274694475 -4.983009165365865 -4.983014936197125 -4.983023560448401 -4.98302814418645 -4.983029051758781 -4.9830301244393995 -4.983031087245491 -4.983032180169669 -4.983033897560156 -4.983036771396694 -4.983041484669107 -4.983048415964004 -4.98305461721436 -4.983059166439487 -4.983062246186302 -4.983066708670012 -4.98307003162854 -4.983070609055718 -4.983070796570307 -4.9830708606213365 -4.983070878189997 -4.983070879599537 -4.983070879935959 -4.983070880299846 -4.983070880970325 -4.983070882241962 -4.98307088462359 -4.983070889101939 -4.983070897373724 -4.983070910015001 -4.9830709220632246 -4.983070930364011 -4.983070940679442 -4.983070943735983 -4.983070944500648 -4.983070944566361 -4.983070944646449 -4.98307094465475 "
          ]
        },
        {
          "output_type": "execute_result",
          "data": {
            "text/plain": [
              "<matplotlib.legend.Legend at 0x7f9a17fbddf0>"
            ]
          },
          "metadata": {},
          "execution_count": 13
        },
        {
          "output_type": "display_data",
          "data": {
            "text/plain": [
              "<Figure size 432x288 with 1 Axes>"
            ],
            "image/png": "[encoded data removed]"
          },
          "metadata": {
            "needs_background": "light"
          }
        }
      ],
      "source": [
        "import matplotlib.pylab as plt\n",
        "\n",
        "\n",
        "for nlayers in range(8,11,1):\n",
        "    num_params = 2*nlayers\n",
        "\n",
        "    back_trace = []\n",
        "    def print_avg(xk):\n",
        "        eva = evaluate_parameters(nqubits, edges, xk,nlayers)\n",
        "        back_trace.append(eva)\n",
        "        print(eva, end=' ')\n",
        "\n",
        "    opt_res = minimize(lambda x : evaluate_parameters(nqubits, edges, x, nlayers), \n",
        "                       np.random.random(num_params),\n",
        "                       callback=print_avg,)\n",
        "    plt.plot(back_trace,label=str(nlayers))\n",
        "# there exists a classical polynomial algorithm returning solutions within a factor of 0.878 of the optimal\n",
        "# we must at least beat that. https://fr.wikipedia.org/wiki/Coupe_maximum\n",
        "plt.axhline(0.878*best_value, color='b', label=\"classical apx ratio\")\n",
        "plt.axhline(best_value,color='r',label='optimal value')\n",
        "plt.legend()"
      ]
    },
    {
      "cell_type": "markdown",
      "id": "e9dffce1",
      "metadata": {
        "id": "e9dffce1"
      },
      "source": [
        "### Question 6: smart initialization"
      ]
    },
    {
      "cell_type": "code",
      "execution_count": 27,
      "id": "d1eb83de",
      "metadata": {
        "id": "d1eb83de",
        "colab": {
          "base_uri": "https://localhost:8080/",
          "height": 320
        },
        "outputId": "10f5bdd1-de0c-4364-8a43-f045450de036"
      },
      "outputs": [
        {
          "output_type": "stream",
          "name": "stdout",
          "text": [
            "-1.559531689784106 -2.565545913889121 -3.4080524379469335 -3.868728651062756 -4.015371300312607 -4.264643007764187 -4.568491896861256 -4.678264416732678 -4.734843586042903 -4.7595565671708755 -4.803730835561107 -4.862158809281589 -4.892751015273167 -4.912306328297551 -4.919787168876411 -4.932817333322157 -4.940881386720546 -4.94416417414127 -4.947721725741926 -4.9523337037078266 -4.95487729312926 -4.956777995151656 -4.957100701494173 -4.957553163131187 -4.958078058003432 -4.958710193710118 -4.959299555844858 -4.960281175920684 -4.961713184864896 -4.962939739743431 -4.963475552557264 -4.9639315900825585 -4.964216545760238 -4.964480525639346 -4.964697248339918 -4.965032495482064 -4.965352787233723 -4.965458269098177 -4.965621262400774 -4.965789740409536 -4.96599333233748 -4.966278829893621 -4.9667372122993765 -4.96721172405436 -4.967795517498174 -4.968264728571162 -4.968510727619413 -4.968628691142449 -4.968830804646921 -4.969144811589778 -4.9694160131276846 -4.9695582866941646 -4.969757780839007 -4.969857277248623 -4.969901764540702 -4.969926466932666 -4.9699493416136855 -4.969970716291277 -4.969982915647383 -4.96998617842258 -4.969987370418092 -4.969988025389069 -4.969988217305681 -4.969988238757022 -4.969988240020576 -4.969988240115892 -1.592700133571162 -2.8955180656185924 -3.169135311673493 -3.7186774595464245 -4.293169646095278 -4.5695132908541325 -4.7006763273194 -4.734336657217298 -4.771346424778692 -4.819113833246888 -4.836724203473101 -4.861125723394667 -4.8902937541625855 -4.910955363140908 -4.92282670024155 -4.930014025987473 -4.939268844118245 -4.9441497163673125 -4.948068936535494 -4.952604834558153 -4.956713333361372 -4.95839491306759 -4.959370560617212 -4.959980700785547 -4.961006275784672 -4.962461420633104 -4.963845375723153 -4.966121145220158 -4.96909414746064 -4.969634144407829 -4.970178450074812 -4.970279535698223 -4.970450755008602 -4.970726438858824 -4.971116494890175 -4.971481309540051 -4.9717709781498325 -4.9718580008852795 -4.971993818827708 -4.972138242825987 -4.972276827831511 -4.97253720950874 -4.97303669351402 -4.973965746197354 -4.975220405963921 -4.975768174502212 -4.975961939951583 -4.976220342077118 -4.976537999159221 -4.976789351907057 -4.97695048133844 -4.9770665717759766 -4.977264616747271 -4.977600888733878 -4.978091393132674 -4.978331564403421 -4.978711705490413 -4.979283104581724 -4.979751795932328 -4.980121864039723 -4.98071548029248 -4.981638476337748 -4.98254687408671 -4.983418838245031 -4.984898482546873 -4.986699055471851 -4.9873262136108005 -4.9882684201990815 -4.989029247609609 -4.9893378790146 -4.989702449097108 -4.9897932269996295 -4.989831819370168 -4.989848392379292 -4.989872013621807 -4.9899111990960865 -4.9899727026278855 -4.9900369983313935 -4.990061859581559 -4.990068516285019 -4.990069515135411 -4.990069684690967 -4.9900699415160465 -4.990070177206863 -4.990070398833063 -4.990070757321476 -4.9900712457088 -4.990071452778105 -4.990071506444429 -4.990071510674297 -4.9900715110068345 -4.9900715111637775 -4.990071511246359 -1.6344062483921968 -3.30644026249371 -4.256250828428488 -4.533147799189899 -4.694032569684219 -4.766525833424274 -4.858280997180556 -4.881937935005352 -4.8950587894626105 -4.910295049273287 -4.933095121372893 -4.946052300576415 -4.950713243354501 -4.957098432400741 -4.9592971691758505 -4.9618550095039575 -4.962563651528356 -4.962977942800502 -4.963285790398993 -4.963675844326953 -4.964098109756092 -4.964505717119507 -4.964766881766122 -4.96484557552086 -4.964984084246586 -4.965244559452976 -4.966336017705151 -4.966723846565555 -4.967270255650871 -4.968199249720124 -4.969719031806802 -4.970391539789011 -4.971577762097832 -4.972088552904666 -4.972385489680858 -4.972545242778976 -4.972624100912366 -4.972675107956103 -4.972758749355274 -4.9728678665845845 -4.972932653920321 -4.973047768168613 -4.973248759914708 -4.973523615783415 -4.973813191247983 -4.973984005234873 -4.974159403114962 -4.974209066379761 -4.974242995523454 -4.974288452335231 -4.974314327256822 -4.974339875068443 -4.974363484979845 -4.974383180385816 -4.974391983212613 -4.974394930045501 -4.974396911443483 -4.974399524919022 -4.974401355655984 -4.974402961843895 -4.974403855439904 -4.97440493414805 -4.974406593340439 -4.9744094367401415 -4.974414075631337 -4.974419765557899 -4.974421773087839 -4.974422583386595 -4.9744228775548525 -4.974423314513146 -4.974423889869293 -4.974424412989922 -4.974424842568888 -4.974425305435335 -4.97442613445498 -4.974427657595976 -4.974430446747334 -4.9744353616982755 -4.974443087801383 -4.97445162104061 -4.97446043062951 -4.9744742133166895 -4.9744911001434255 -4.974503323593714 -4.974510919214891 -4.974520817142503 -4.974537180090541 -4.974564022477 -4.974600531230567 -4.974620840153651 -4.974645508143233 -4.9748408804248845 -4.975080426102397 -4.97552076882368 -4.9762625973350225 -4.976852917652953 -4.977543199694535 -4.977795170797234 -4.977924096611513 -4.978150281907737 -4.97852820971873 -4.979104322517414 -4.9796755489541376 -4.980237797148025 -4.980733428039833 -4.981322909391955 -4.981555631474891 -4.981737025866604 -4.981969119299687 -4.982287832595653 -4.982664524409282 -4.983223002738293 -4.983593405212404 -4.983673623692426 -4.983697635574029 -4.983731803956881 -4.98375676104921 -4.983771563861999 -4.983781145942064 -4.983795293383873 -4.983817702044524 -4.98385578068602 -4.9839191421145195 -4.98400597432146 -4.984105736479824 -4.9842540355492675 -4.984357614252223 -4.984392106204484 -4.984439227627107 -4.984452783157061 -4.984458679629449 -4.984461210823465 -4.984464285445013 -4.984466784673841 -4.98446920391619 -4.984472824306835 -4.984476593827013 -4.9844803602957715 -4.984486205251673 -4.984495268997981 -4.984510184047236 -4.984536253779194 -4.9845799627040925 -4.984631656970734 -4.9846871717217125 -4.984758787267597 -4.984812954199041 -4.984834166841455 -4.984856758278751 -4.9848703588023255 -4.98488657008349 -4.984896129378263 -4.9849007109963255 -4.984902700419496 -4.9849041338482465 -4.984904737106183 -4.9849051083964895 -4.984905734678042 -4.984906759412308 -4.984908201310158 -4.984909011748788 -4.984909462946969 -4.984909793299366 -4.984910007194035 -4.984910296701996 -4.9849107979320015 -4.984911701580494 -4.984913350433555 -4.98491634789052 -4.984921658734265 -4.98493057454806 -4.984943755683113 -4.9849582789922104 -4.9849803529052465 -4.984991216339814 -4.98500201892743 -4.985003529449967 -4.985005538085205 -4.985008115092372 -4.985011277897928 -4.985013647416202 -4.985014446628311 -4.985015263155199 -4.985015424794832 -4.985015674784241 -4.98501579131522 -4.985015805732109 -4.985015809863615 -4.98501581339499 -4.98501581422638 -4.9850158142835435 "
          ]
        },
        {
          "output_type": "execute_result",
          "data": {
            "text/plain": [
              "<matplotlib.legend.Legend at 0x7f9a17f00a30>"
            ]
          },
          "metadata": {},
          "execution_count": 27
        },
        {
          "output_type": "display_data",
          "data": {
            "text/plain": [
              "<Figure size 432x288 with 1 Axes>"
            ],
            "image/png": "[encoded data removed]"
          },
          "metadata": {
            "needs_background": "light"
          }
        }
      ],
      "source": [
        "T = 1\n",
        "\n",
        "for nlayers in range(7,10,1):\n",
        "    num_params = 2*nlayers\n",
        "\n",
        "    back_trace = []\n",
        "    def print_avg(xk):\n",
        "        eva = evaluate_parameters(nqubits, edges, xk,nlayers)\n",
        "        back_trace.append(eva)\n",
        "        print(eva, end=' ')\n",
        "\n",
        "    # TODO implement parameter init\n",
        "\n",
        "    # Theorically, we find thetak = 2T(nlayers-k)/nlayers^2 and betak = kT/nlayers^2\n",
        "    parameters_init = []\n",
        "\n",
        "    for k in range(nlayers):\n",
        "      parameters_init.append(2*T*(nlayers-k)/nlayers**2)\n",
        "      parameters_init.append(k*T/nlayers**2)\n",
        "\n",
        "    # END TODO        \n",
        "    opt_res = minimize(lambda x : evaluate_parameters(nqubits, edges, x, nlayers), \n",
        "                       parameters_init, \n",
        "                       callback=print_avg,)\n",
        "    plt.plot(back_trace,label=str(nlayers))\n",
        "plt.axhline(0.878*best_value, color='b', label=\"classical apx ratio\")\n",
        "plt.axhline(best_value,color='r',label='optimal value')\n",
        "plt.legend()"
      ]
    },
    {
      "cell_type": "markdown",
      "source": [
        "We remark that the \"smart initialization\" with the optimal initial values of the parameters enables a convergence with less QAOA layers (the convergence is for example reached for nlayers = 7, with T = 1)."
      ],
      "metadata": {
        "id": "ENTH_bAV_M7g"
      },
      "id": "ENTH_bAV_M7g"
    }
  ],
  "metadata": {
    "kernelspec": {
      "display_name": "Python 3 (ipykernel)",
      "language": "python",
      "name": "python3"
    },
    "language_info": {
      "codemirror_mode": {
        "name": "ipython",
        "version": 3
      },
      "file_extension": ".py",
      "mimetype": "text/x-python",
      "name": "python",
      "nbconvert_exporter": "python",
      "pygments_lexer": "ipython3",
      "version": "3.10.6"
    },
    "colab": {
      "provenance": []
    }
  },
  "nbformat": 4,
  "nbformat_minor": 5
}