{
  "nbformat": 4,
  "nbformat_minor": 0,
  "metadata": {
    "colab": {
      "provenance": []
    },
    "kernelspec": {
      "name": "python3",
      "display_name": "Python 3"
    },
    "language_info": {
      "name": "python"
    }
  },
  "cells": [
    {
      "cell_type": "markdown",
      "source": [
        "## Part 1 implementing QAOA\n"
      ],
      "metadata": {
        "id": "b6-0sT_Pe-H9"
      }
    },
    {
      "cell_type": "markdown",
      "source": [
        "### Question1 :\n",
        "Write down in the cell below the Hamiltonian whose ground state is the solution to MaxCUT on an input graph $G=(V,E)$:\n"
      ],
      "metadata": {
        "id": "Gm2rBwAdfD-7"
      }
    },
    {
      "cell_type": "markdown",
      "source": [
        "$$ H = \\sum_{i,j\\in E} \\sigma_i \\cdot \\sigma_j $$"
      ],
      "metadata": {
        "id": "fMxcCh0jhDtM"
      }
    },
    {
      "cell_type": "markdown",
      "source": [
        "Justification : the solution of a 1/2-spin at each vertex of the graph is the ground state of an hamiltonian with pair-wise antiferromagnetic interaction at each edge (so J<0).\n"
      ],
      "metadata": {
        "id": "WmuaL2DfilK6"
      }
    },
    {
      "cell_type": "markdown",
      "source": [
        "### Question 2:\n",
        "Complete the implementation below of a simple, brute-force enumeration of all states computing the optimal solution to MaxCUT for the graph represented by 'edges'\n"
      ],
      "metadata": {
        "id": "RGY_piJxjG_l"
      }
    },
    {
      "cell_type": "code",
      "source": [
        "import numpy as np\n",
        "\n",
        "graph1 = [(0,1),(0,2),(1,3),(2,3)]\n",
        "graph2 = [(0,1),(1,2),(0,3),(1,4),(2,5),(3,6),(4,7),(5,8),(3,4),(4,5),(6,7),(7,8)]\n",
        "graph3 = [(0,1),(1,2),(0,3),(1,4),(2,5),(3,6),(4,7),(3,4),(4,5),(6,7)]\n",
        "graph4 = [(0,1),(1,2),(2,3),(4,5),(5,6),(6,7),(0,4),(1,5),(2,6),(3,7)]\n",
        "graph5 = [(0,1),(0,2),(1,3),(2,4),(3,5),(4,5),(1,4)]\n",
        "graph6 = [(0,1),(0,2),(1,3),(2,4),(1,4)]\n",
        "\n",
        "\n",
        "# choice of graph\n",
        "edges = graph6\n",
        "\n",
        "nqubits = max([max(list(v)) for v in edges])+1 #le nombre de qbits est égal au nombre de edges\n",
        "\n",
        "#nqubits = 5\n",
        "graph7 = [(i,(i+1)%nqubits) for i in range(nqubits)]+[(1,4)] # % : renvoie le reste de la division du terme de gauche par le terme de droite\n",
        "\n",
        "# COMPUTATION OF OPT.\n",
        "best_value = len(edges)\n",
        "best_b = 0\n",
        "for x in range(2**nqubits):\n",
        "    b = np.binary_repr(x, width=nqubits)    #conversion de x en représentation binaire, de longueur égale à nqbits\n",
        "    #print(b)\n",
        "    b = [int(b[i]) for i in range(nqubits)] #liste de longueur 5 des différents termes de b : liste des différentes valeurs possibles de chaque qbit représentant le graphe\n",
        "    #print(b)\n",
        "    # TODO: Complete the computation below:\n",
        "    val = 0\n",
        "    for edge in edges :\n",
        "      i, j = edge \n",
        "      val = val + (1-2*b[i])*(1-2*b[j])\n",
        "    # END TODO\n",
        "    if val <= best_value:\n",
        "        best_value = val\n",
        "        best_b = b\n",
        "print(best_value)\n",
        "print(best_b)\n"
      ],
      "metadata": {
        "colab": {
          "base_uri": "https://localhost:8080/"
        },
        "id": "nlWflK7NfSnB",
        "outputId": "8bb88701-6065-4e8f-9343-d13c544328e0"
      },
      "execution_count": null,
      "outputs": [
        {
          "output_type": "stream",
          "name": "stdout",
          "text": [
            "-5\n",
            "[1, 0, 0, 1, 1]\n"
          ]
        }
      ]
    },
    {
      "cell_type": "markdown",
      "source": [
        "#### visualization of the graph"
      ],
      "metadata": {
        "id": "7RMnI9EpjY3I"
      }
    },
    {
      "cell_type": "code",
      "source": [
        "!pip install myqlm"
      ],
      "metadata": {
        "colab": {
          "base_uri": "https://localhost:8080/"
        },
        "id": "fAqYE9FNVj5r",
        "outputId": "e877df5e-63ff-4ed0-f3ca-308b4cfadabd"
      },
      "execution_count": null,
      "outputs": [
        {
          "output_type": "stream",
          "name": "stdout",
          "text": [
            "Looking in indexes: https://pypi.org/simple, https://us-python.pkg.dev/colab-wheels/public/simple/\n",
            "Requirement already satisfied: myqlm in /usr/local/lib/python3.8/dist-packages (1.7.2)\n",
            "Requirement already satisfied: myqlm-clinalg>=0.0.4 in /usr/local/lib/python3.8/dist-packages (from myqlm) (0.0.4)\n",
            "Requirement already satisfied: qat-core>=1.6.1 in /usr/local/lib/python3.8/dist-packages (from myqlm) (1.6.2)\n",
            "Requirement already satisfied: qat-lang>=2.2.1 in /usr/local/lib/python3.8/dist-packages (from myqlm) (2.2.1)\n",
            "Requirement already satisfied: myqlm-contrib>=1.7.1 in /usr/local/lib/python3.8/dist-packages (from myqlm) (1.7.1)\n",
            "Requirement already satisfied: qat-devices>=0.2.0 in /usr/local/lib/python3.8/dist-packages (from myqlm) (0.2.0)\n",
            "Requirement already satisfied: qat-variational>=1.4.0 in /usr/local/lib/python3.8/dist-packages (from myqlm) (1.4.0)\n",
            "Requirement already satisfied: myqlm-simulators>=1.7.1 in /usr/local/lib/python3.8/dist-packages (from myqlm) (1.7.1)\n",
            "Requirement already satisfied: myqlm-fermion>=1.0.0 in /usr/local/lib/python3.8/dist-packages (from myqlm) (1.0.0)\n",
            "Requirement already satisfied: qat-comm>=1.4.2 in /usr/local/lib/python3.8/dist-packages (from myqlm) (1.4.2)\n",
            "Requirement already satisfied: networkx in /usr/local/lib/python3.8/dist-packages (from myqlm-contrib>=1.7.1->myqlm) (2.8.8)\n",
            "Requirement already satisfied: scipy in /usr/local/lib/python3.8/dist-packages (from myqlm-fermion>=1.0.0->myqlm) (1.7.3)\n",
            "Requirement already satisfied: anytree in /usr/local/lib/python3.8/dist-packages (from myqlm-fermion>=1.0.0->myqlm) (2.8.0)\n",
            "Requirement already satisfied: bitstring in /usr/local/lib/python3.8/dist-packages (from myqlm-fermion>=1.0.0->myqlm) (4.0.1)\n",
            "Requirement already satisfied: pytest in /usr/local/lib/python3.8/dist-packages (from myqlm-fermion>=1.0.0->myqlm) (3.6.4)\n",
            "Requirement already satisfied: numpy in /usr/local/lib/python3.8/dist-packages (from myqlm-fermion>=1.0.0->myqlm) (1.21.6)\n",
            "Requirement already satisfied: tqdm in /usr/local/lib/python3.8/dist-packages (from myqlm-fermion>=1.0.0->myqlm) (4.64.1)\n",
            "Requirement already satisfied: thrift==0.16.0 in /usr/local/lib/python3.8/dist-packages (from qat-comm>=1.4.2->myqlm) (0.16.0)\n",
            "Requirement already satisfied: six>=1.7.2 in /usr/local/lib/python3.8/dist-packages (from thrift==0.16.0->qat-comm>=1.4.2->myqlm) (1.15.0)\n",
            "Requirement already satisfied: Pillow in /usr/local/lib/python3.8/dist-packages (from qat-core>=1.6.1->myqlm) (7.1.2)\n",
            "Requirement already satisfied: matplotlib in /usr/local/lib/python3.8/dist-packages (from qat-core>=1.6.1->myqlm) (3.2.2)\n",
            "Requirement already satisfied: wand in /usr/local/lib/python3.8/dist-packages (from qat-core>=1.6.1->myqlm) (0.6.10)\n",
            "Requirement already satisfied: svgwrite in /usr/local/lib/python3.8/dist-packages (from qat-core>=1.6.1->myqlm) (1.4.3)\n",
            "Requirement already satisfied: dill in /usr/local/lib/python3.8/dist-packages (from qat-core>=1.6.1->myqlm) (0.3.6)\n",
            "Requirement already satisfied: ply==3.11 in /usr/local/lib/python3.8/dist-packages (from qat-lang>=2.2.1->myqlm) (3.11)\n",
            "Requirement already satisfied: pyDOE in /usr/local/lib/python3.8/dist-packages (from qat-variational>=1.4.0->myqlm) (0.3.8)\n",
            "Requirement already satisfied: pyparsing!=2.0.4,!=2.1.2,!=2.1.6,>=2.0.1 in /usr/local/lib/python3.8/dist-packages (from matplotlib->qat-core>=1.6.1->myqlm) (3.0.9)\n",
            "Requirement already satisfied: kiwisolver>=1.0.1 in /usr/local/lib/python3.8/dist-packages (from matplotlib->qat-core>=1.6.1->myqlm) (1.4.4)\n",
            "Requirement already satisfied: cycler>=0.10 in /usr/local/lib/python3.8/dist-packages (from matplotlib->qat-core>=1.6.1->myqlm) (0.11.0)\n",
            "Requirement already satisfied: python-dateutil>=2.1 in /usr/local/lib/python3.8/dist-packages (from matplotlib->qat-core>=1.6.1->myqlm) (2.8.2)\n",
            "Requirement already satisfied: atomicwrites>=1.0 in /usr/local/lib/python3.8/dist-packages (from pytest->myqlm-fermion>=1.0.0->myqlm) (1.4.1)\n",
            "Requirement already satisfied: more-itertools>=4.0.0 in /usr/local/lib/python3.8/dist-packages (from pytest->myqlm-fermion>=1.0.0->myqlm) (9.0.0)\n",
            "Requirement already satisfied: pluggy<0.8,>=0.5 in /usr/local/lib/python3.8/dist-packages (from pytest->myqlm-fermion>=1.0.0->myqlm) (0.7.1)\n",
            "Requirement already satisfied: setuptools in /usr/local/lib/python3.8/dist-packages (from pytest->myqlm-fermion>=1.0.0->myqlm) (57.4.0)\n",
            "Requirement already satisfied: attrs>=17.4.0 in /usr/local/lib/python3.8/dist-packages (from pytest->myqlm-fermion>=1.0.0->myqlm) (22.2.0)\n",
            "Requirement already satisfied: py>=1.5.0 in /usr/local/lib/python3.8/dist-packages (from pytest->myqlm-fermion>=1.0.0->myqlm) (1.11.0)\n"
          ]
        }
      ]
    },
    {
      "cell_type": "code",
      "source": [
        "!pip install wand\n",
        "!apt install imagemagick\n",
        "!python -m qat.magics.install"
      ],
      "metadata": {
        "colab": {
          "base_uri": "https://localhost:8080/"
        },
        "id": "GUdkF668Vn85",
        "outputId": "afff01df-5de8-49a8-e838-b423e23de2ff"
      },
      "execution_count": null,
      "outputs": [
        {
          "output_type": "stream",
          "name": "stdout",
          "text": [
            "Looking in indexes: https://pypi.org/simple, https://us-python.pkg.dev/colab-wheels/public/simple/\n",
            "Requirement already satisfied: wand in /usr/local/lib/python3.8/dist-packages (0.6.10)\n",
            "Reading package lists... Done\n",
            "Building dependency tree       \n",
            "Reading state information... Done\n",
            "imagemagick is already the newest version (8:6.9.7.4+dfsg-16ubuntu6.14).\n",
            "The following package was automatically installed and is no longer required:\n",
            "  libnvidia-common-460\n",
            "Use 'apt autoremove' to remove it.\n",
            "0 upgraded, 0 newly installed, 0 to remove and 20 not upgraded.\n",
            "Traceback (most recent call last):\n",
            "  File \"/usr/lib/python3.8/runpy.py\", line 194, in _run_module_as_main\n",
            "    return _run_code(code, main_globals, None,\n",
            "  File \"/usr/lib/python3.8/runpy.py\", line 87, in _run_code\n",
            "    exec(code, run_globals)\n",
            "  File \"/usr/local/lib/python3.8/dist-packages/qat/magics/install.py\", line 25, in <module>\n",
            "    install_qlm_magics()\n",
            "  File \"install.py\", line 72, in qat.core.magic.install.install_qlm_magics\n",
            "FileExistsError: Cannot install QLM magics bacause an IPython configuration is already defined. Please remove your IPython configuration to install QLM magics. The IPython config file is /root/.ipython/profile_default/startup/myqlm.py\n"
          ]
        }
      ]
    },
    {
      "cell_type": "code",
      "source": [
        "import networkx as nx\n",
        "G = nx.Graph()\n",
        "for i,j in edges:\n",
        "    G.add_edge(i,j)\n",
        "nx.draw_networkx(G)"
      ],
      "metadata": {
        "id": "pNn-b4Eijcrq",
        "colab": {
          "base_uri": "https://localhost:8080/",
          "height": 248
        },
        "outputId": "f3baf010-3b7e-4b3f-a225-5cc1ffaf687d"
      },
      "execution_count": null,
      "outputs": [
        {
          "output_type": "display_data",
          "data": {
            "text/plain": [
              "<Figure size 432x288 with 1 Axes>"
            ],
            "image/png": "[encoded data removed]"
          },
          "metadata": {}
        }
      ]
    },
    {
      "cell_type": "code",
      "source": [
        "from qat.lang.AQASM import Program, H, CNOT, RX, QRoutine, RZ, X, Z"
      ],
      "metadata": {
        "id": "T1yFJYZ4jgcA"
      },
      "execution_count": null,
      "outputs": []
    },
    {
      "cell_type": "code",
      "source": [
        "def U_ZZ(theta):\n",
        "    \n",
        "    zz_r = QRoutine()\n",
        "    zz_r.apply(CNOT, 0, 1)\n",
        "    zz_r.apply(RZ(theta), 1) # difference of convention between implemented version and what we need.\n",
        "    zz_r.apply(CNOT, 0, 1)\n",
        "\n",
        "    return zz_r"
      ],
      "metadata": {
        "id": "H7lMtKwgjk9Q"
      },
      "execution_count": null,
      "outputs": []
    },
    {
      "cell_type": "markdown",
      "source": [
        "### Question 3"
      ],
      "metadata": {
        "id": "uX7EnkrAjmaF"
      }
    },
    {
      "cell_type": "code",
      "source": [
        "from qat.lang.AQASM import RX, I, H\n",
        "from math import*"
      ],
      "metadata": {
        "id": "_-Tt2E1qgfQM"
      },
      "execution_count": null,
      "outputs": []
    },
    {
      "cell_type": "code",
      "source": [
        "def one_qaoa_layer(n_qubits, edges, theta, beta):\n",
        "    layer = QRoutine()\n",
        "    #TODO: implement one qaoa layer\n",
        "    for i in range(n_qubits) :\n",
        "      layer.apply(RX(theta),i)\n",
        "    for edge in edges:\n",
        "        i, j = edge\n",
        "        layer.apply(U_ZZ(beta), i, j)\n",
        "    return layer"
      ],
      "metadata": {
        "id": "8CqBWcNhjpuh"
      },
      "execution_count": null,
      "outputs": []
    },
    {
      "cell_type": "markdown",
      "source": [
        "### Question 4"
      ],
      "metadata": {
        "id": "ia3p5HlgjtZV"
      }
    },
    {
      "cell_type": "code",
      "source": [
        "from qat.qpus import get_default_qpu\n",
        "\n",
        "def evaluate_parameters(n_qubits, edges, parameters, n_layers):\n",
        "    \n",
        "    prog = Program()\n",
        "    qubits = prog.qalloc(n_qubits)\n",
        "    \n",
        "    # TODO: implement initialization+parameterized circuit\n",
        "    for i in range(n_qubits):  #initialization : Hadmard gates\n",
        "      prog.apply(H, qubits[i])\n",
        "    for j in range(n_layers):\n",
        "      prog.apply(one_qaoa_layer(n_qubits, edges, parameters[2*j], parameters[2*j+1]), qubits)\n",
        "    # END TODO\n",
        "    circ = prog.to_circ()\n",
        "    \n",
        "    job = circ.to_job()\n",
        "    qpu = get_default_qpu()\n",
        "    \n",
        "    result = qpu.submit(job)\n",
        "    \n",
        "    # BEGIN TODO\n",
        "    obs = 0\n",
        "    for sample in result:\n",
        "      # this loop is over all 2**nqubits states.\n",
        "        # sample.state.bitstring contains the qubit values (nqubits 0 or 1)\n",
        "        val = 0\n",
        "        b = [int(i)*2+1 for i in sample.state.bitstring]\n",
        "        for edge in edges :\n",
        "          i, j = edge\n",
        "          val = val + b[i]*b[j]\n",
        "        obs = obs + val*sample.probability #moyenne pondérée des valeurs sur chaque échantillon \n",
        "    # END TODO\n",
        "    return obs\n",
        "    "
      ],
      "metadata": {
        "id": "ytPwsyXnjwsc"
      },
      "execution_count": null,
      "outputs": []
    },
    {
      "cell_type": "code",
      "source": [
        "import numpy as np\n",
        "np.random.random(3)"
      ],
      "metadata": {
        "id": "IwKsVgPkj5Uh",
        "colab": {
          "base_uri": "https://localhost:8080/"
        },
        "outputId": "afed1f73-7f88-4d09-d003-d30db8ca2b7f"
      },
      "execution_count": null,
      "outputs": [
        {
          "output_type": "execute_result",
          "data": {
            "text/plain": [
              "array([0.70508922, 0.6447501 , 0.1310967 ])"
            ]
          },
          "metadata": {},
          "execution_count": 10
        }
      ]
    },
    {
      "cell_type": "code",
      "source": [
        "from scipy.optimize import minimize"
      ],
      "metadata": {
        "id": "jBHQTHeBj82n"
      },
      "execution_count": null,
      "outputs": []
    },
    {
      "cell_type": "markdown",
      "source": [
        "### Random initialisation"
      ],
      "metadata": {
        "id": "gDJ4SC_ikADQ"
      }
    },
    {
      "cell_type": "markdown",
      "source": [
        "### Question 5: \n",
        "réponse à la question:"
      ],
      "metadata": {
        "id": "ao_2pdo1kEIH"
      }
    },
    {
      "cell_type": "code",
      "source": [
        "import matplotlib.pylab as plt\n",
        "\n",
        "\n",
        "for nlayers in range(1,11,1):\n",
        "    num_params = 2*nlayers\n",
        "\n",
        "    back_trace = []\n",
        "    def print_avg(xk):\n",
        "        eva = evaluate_parameters(nqubits, edges, xk,nlayers)\n",
        "        back_trace.append(eva)\n",
        "        print(eva, end=' ')\n",
        "\n",
        "    opt_res = minimize(lambda x : evaluate_parameters(nqubits, edges, x, nlayers), np.random.random(num_params), callback=print_avg,)\n",
        "    plt.plot(back_trace,label=str(nlayers))\n",
        "# there exists a classical polynomial algorithm returning solutions within a factor of 0.878 of the optimal\n",
        "# we must at least beat that. https://fr.wikipedia.org/wiki/Coupe_maximum\n",
        "plt.axhline(0.878*best_value, color='b', label=\"classical apx ratio\")\n",
        "plt.axhline(best_value,color='r',label='optimal value')\n",
        "plt.legend()\n"
      ],
      "metadata": {
        "id": "kxsNhfhakIAT",
        "colab": {
          "base_uri": "https://localhost:8080/",
          "height": 321
        },
        "outputId": "cc9cb8e9-6311-41ee-863a-75ba7c009694"
      },
      "execution_count": null,
      "outputs": [
        {
          "output_type": "stream",
          "name": "stdout",
          "text": [
            "17.785085198764 17.61531499250702 17.61439738909888 17.614389311649877 17.614389296260626 17.466276494538302 17.17547861254753 17.017092191213116 16.9591232644097 16.92328495149661 16.86480495556949 16.790560264875023 16.77509606020844 16.774066962705987 16.773948752848636 16.77393074005688 16.773930358787737 16.77393035277093 18.06078557804523 17.82043193396318 17.353777592863768 17.050738955555385 16.88795897691424 16.61440366729383 16.40311943483838 16.362957483126753 16.35640898540833 16.35526698087833 16.35342031950082 16.35159242240127 16.35112987322315 16.350969020592174 16.350963726010264 16.350956827535153 16.350943981186607 16.350919836422214 16.350875611642675 16.350803558786602 16.350738126735624 16.350655780118657 16.350513582519458 16.350320157380395 16.350228988476523 16.350209005340915 16.350180251553077 16.350168702537264 16.350168086710006 16.35016802973699 16.3501680287844 16.350168028758734 19.722187651095766 19.446189240470733 18.416868780765046 17.750150725906874 17.02523788056112 16.5801142725741 16.369503097177972 16.25755455570138 16.161460918582897 16.039842625598823 15.911319477193397 15.906447112765292 15.900065499674254 15.896187358865742 15.891926738856297 15.890493060656377 15.89012906527895 15.889806449396097 15.889523233515522 15.889018692684244 15.888164563606987 15.887226461940894 15.88666355301724 15.886486314356354 15.886447892212516 15.886434233526924 15.886425617860896 15.886419748215408 15.886414977076058 15.886413549474266 15.886413235744715 15.88641319236893 15.886413188950804 15.886413188623235 15.886413188610238 19.699210144288628 19.62124055864004 19.50078089875884 19.381794220778346 19.273767443493643 19.219083030654943 19.181356329363375 19.130993107710655 19.07098074991872 19.04874337021128 19.011899872155098 18.958070211515892 18.89370357790527 18.88816709230575 18.878967339487872 18.863767750523543 18.838195155397926 18.789824338895798 18.77546334311603 18.748748060460063 18.700195762392504 18.620197871702963 18.482920495591774 18.370232865825116 18.29871895523713 18.223314534544308 18.14060958264646 18.107590612219315 18.069904594776997 18.045510442510004 18.031625896655683 18.014143449771858 17.980811957035925 17.96612600501507 17.944555844610022 17.909928851165226 17.861235561835887 17.78962262075234 17.668657293916134 17.480213361131437 17.205353267801335 16.79822238278862 16.21995986170293 16.09040769094378 15.886146813457826 15.730666440427445 15.694808749223904 15.671944777670388 15.656839323081192 15.650782416185725 15.640740356631524 15.624442922765304 15.616520598714036 15.60919601820643 15.602560802682051 15.591418819683108 15.574928455749967 15.555301568959575 15.528956703201553 15.4888866509007 15.462906462340566 15.425339408790443 15.40432881771149 15.399227817957241 15.392875864125743 15.39090674629691 15.389223679551746 15.386366379323443 15.381348499372962 15.372982321326758 15.366459073989486 15.364615799348696 15.362571703620285 15.362122410267336 15.361853553045298 15.361391972746825 15.360562125776706 15.359095184913055 15.356839313472115 15.354233921634744 15.350763294327685 15.345969581919922 15.339245382899035 15.334444520745395 15.333574744105311 15.332984278621977 15.332365823779371 15.332176769895733 15.331961336512778 15.331838204854115 15.331645224701472 15.331463573316524 15.33141384005707 15.331399235657532 15.331394490514386 15.331389731071766 15.331388466673376 15.331388084793542 15.331388048003523 15.331388045025047 15.331388044908044 18.66812225974856 16.828251862197853 16.493171389469396 16.35350570791706 16.296540249734363 16.196158296024098 16.133043027145757 16.016515396763293 15.822293182649778 15.734574289690329 15.589747954010546 15.503440818054278 15.460167961110134 15.429818869041242 15.424505734323072 15.414828351284251 15.398702080499463 15.383514789884389 15.380717640854616 15.376365612704598 15.369805188108552 15.360760135708608 15.353410400681893 15.35061530193957 15.346416432518703 15.340758249930838 15.334531497177187 15.324098954839087 15.308749571179638 15.301611546375012 15.296400722320604 15.288986314915435 15.281749116649484 15.277157038131511 15.269516519521533 15.257937702194159 15.244856663445669 15.235441890630259 15.222280028989937 15.214493044960484 15.209306261951317 15.204318548285535 15.199563157885256 15.195530566250618 15.192948845722254 15.191328267409222 15.189948994906667 15.18854425790534 15.18689671275484 15.185779263241875 15.183996279932634 15.181350434272549 15.17889778855213 15.17542016930185 15.170749505679098 15.16798985616961 15.1644916624402 15.16283738364382 15.162276529156605 15.16222161161644 15.161760959345067 15.161057839738163 15.160450287975422 15.160151457636474 15.15996738544737 15.159849502646736 15.15965817896027 15.159395054170005 15.159275428733318 15.159221106347141 15.159191811250382 15.159176380206846 15.15916170211846 15.159148703501671 15.159142206224244 15.159140409805063 15.159139860774001 15.159138933932226 15.159137284120495 15.159134273469403 15.15912877737987 15.15911890830764 15.159101916249853 15.15907517942851 15.159043207290246 15.15901575694129 15.15899359742835 15.15899050535242 15.158990262646347 15.158990230358071 15.158990229124358 15.15899022909891 20.14263798231832 19.97608693379265 17.001444885253246 16.8984695255917 16.71684058799582 16.413893512109656 16.2388950230902 16.07959808178425 16.017380475255568 16.00328243359168 15.984168155129606 15.960191208642106 15.937722900142537 15.907934834601125 15.881696287216293 15.841956436153088 15.799627957689568 15.77842147898039 15.748930765461434 15.706096332995974 15.657503664588946 15.597229244805172 15.564057320231573 15.529756231424974 15.514481208071158 15.495082689811884 15.481371750805872 15.46751297685323 15.4511380189675 15.445957950882189 15.440933403156087 15.433342440833115 15.424419669119468 15.418315326171523 15.407952282169903 15.391579256335959 15.380792007247289 15.36533438181477 15.358810050344735 15.351273414754129 15.348856034896976 15.34505491587316 15.339768298011249 15.335334125255967 15.328789942704605 15.323280320738705 15.317761359291316 15.31569554654713 15.313998727275449 15.312713085047097 15.310583563975621 15.307300773286988 15.302268110869862 15.29765698680004 15.293102409641113 15.28923901253521 15.287048488566342 15.286057659271329 15.284480111458322 15.282515394608263 15.281219870592835 15.278822093992433 15.274639077608802 15.269952160883543 15.231183874531643 15.20043926255665 15.176565924048452 15.163561583973042 15.146227644404052 15.139146086673204 15.128931270722456 15.115347179347513 15.10841640781809 15.098620428454515 15.090584738505584 15.085927783138914 15.082393943396006 15.07997234635152 15.078438575442252 15.076367598590114 15.075157584128037 15.07441723893938 15.073595040147525 15.072576783557503 15.072081435050986 15.071855369837236 15.071748950223332 15.071720957451207 15.071708404664424 15.071706190281624 15.071705219457586 15.07170370062004 15.071701572573154 15.07169940631591 15.071697096421019 15.07169536112987 15.071693786288627 15.071691310931449 15.071686965244448 15.071678926371543 15.07166356182612 15.071548995302935 15.071474090182633 15.071343573493344 15.071113437840344 15.070733107011524 15.070226374962829 15.070133081907672 15.069984470918778 15.069821189561663 15.069725119672288 15.069578372328134 15.069372176891696 15.069078946322605 15.068951010481126 15.068738715025635 15.068480805088168 15.068051657648995 15.067402123446413 15.06664739345816 15.066157588678102 15.06579553320955 15.065183244198403 15.064088331560091 15.062314007546597 15.060957845836917 15.059633834369247 15.058903930635882 15.05764019894509 15.05585940758211 15.053393776328612 15.050368370257923 15.048210748248335 15.046736887250791 15.044604991296985 15.041352838837051 15.037675087999128 15.035941540166368 15.03405535915136 15.033199406095491 15.032550418579616 15.032042642472408 15.031863683543273 15.031698862107564 15.031623557151887 15.031505863292773 15.031312252275887 15.031022441047634 15.030785538108258 15.030630204837783 15.030443241732259 15.030307570656392 15.03017667030114 15.029962823867024 15.029612316732294 15.02920071076327 15.028731206531345 15.028472120915902 15.02834091369934 15.02825167622091 15.028219745136239 15.028174686286162 15.028137832928229 15.028115594055073 15.028094114972989 15.028077127734338 15.028051478359133 15.02800935267909 15.027945622349398 15.027885442113762 15.027865694026051 15.027832225486902 15.027786496484472 15.027768236937169 15.02775955358132 15.027754914056317 15.027750937480851 15.02774744253072 15.02774508382347 15.027743631481025 15.02774224439983 15.027741504804276 15.027741304169025 15.027741279320313 15.027741273395227 15.02774126910597 15.027741268431043 15.027741268306984 20.087902457337435 18.361177668149676 17.94304681537125 17.414229111282932 16.490952748704466 15.846491865952828 15.691580677723623 15.631962293788222 15.552209385184028 15.518925490863847 15.460342671039355 15.364646407000253 15.322132613915084 15.272940354229545 15.248141150000393 15.213408672670132 15.16911123206994 15.159324011277732 15.144034413279249 15.120569986115434 15.10075501318414 15.093893830742543 15.08335668573142 15.06983644460433 15.060690688556706 15.049213980660223 15.044442340100838 15.042886349539723 15.041101660104822 15.04014071332059 15.039431880830472 15.03869455132647 15.037394707459507 15.035441177745016 15.034236284026756 15.033425697177375 15.033064821831841 15.0327427225897 15.032298451682154 15.03169094264481 15.031070134704002 15.030623520584381 15.030350556443368 15.030110138260504 15.029947738017373 15.029753618505177 15.029577410722755 15.029294473619276 15.028902404339062 15.028687756814351 15.02860403841544 15.028498961728085 15.028448976337053 15.028399845594063 15.028363906277683 15.028326670978622 15.028297714806508 15.028276285124843 15.028246964310519 15.028197047823864 15.02811639954824 15.028011507258714 15.027948352745726 15.027885338620171 15.027819229167664 15.027736272452676 15.027621633437388 15.02748718583252 15.027416903901043 15.027360636030577 15.027297219706318 15.027206545303398 15.027065583309499 15.026889681396902 15.026800528696693 15.02675163292693 15.026687486609783 15.026605032437825 15.026565256708771 15.026509873339105 15.026469516955505 15.026454312731174 15.026446787025828 15.026443174116917 15.026438265008762 15.026433426458903 15.026431930047785 15.026430329975966 15.02642860573516 15.026425516142984 15.026419902689478 15.026409775097473 15.026392007990191 15.026362239940774 15.0263191391439 15.026263279301057 15.026170131719377 15.026064888755828 15.026023027681706 15.025967016905817 15.025893544710467 15.025819669338459 15.025758348312756 15.02571400676611 15.025659546193834 15.025617531342238 15.025549715943392 15.025484545909642 15.025387699288721 15.025283230917196 15.025218958000966 15.025185758675997 15.025140067261809 15.025126192434188 15.02510717473965 15.025085084225344 15.025061923523412 15.0250404752894 15.025027430400948 15.025013825877902 15.024993559497952 15.02495890085089 15.024899615951277 15.024803856791932 15.024663372635686 15.024492335815886 15.024269987510067 15.024014760535522 15.0235524508883 15.022764068763117 15.021804094280403 15.021203183864575 15.020343806975847 15.019464875873334 15.018879386019863 15.018339935659002 15.017784444620737 15.017243902909158 15.016609679322974 15.016362735183938 15.01595493381317 15.01527279990295 15.014205285626348 15.01292552417253 15.012392830282765 15.012141031295256 15.011983094294095 15.011962601264896 15.011943543411366 15.011935788310257 15.011923696600237 15.011911142157945 15.011907931321645 15.011906689458451 15.011906272787302 15.011905665142047 15.011904961325452 15.011904462278805 15.011904280523446 15.011904197089569 15.011904058519907 15.011903808338909 15.011903342299325 15.011902471670325 15.011900844739529 15.011897854158185 15.011892426202389 15.011882717482466 15.011866054435473 15.011850598216865 15.01183989987079 15.011830248722468 15.011825948873726 15.011823857616982 15.011822203754283 15.011821457288317 15.01182140531113 15.011821398453137 15.01182139811786 15.011821397621434 15.011821396789738 15.011821395242173 15.01182139269151 15.011821387922833 15.01182137960707 15.011821363995962 15.011821334175899 15.011821282642162 15.01182119777447 15.011821061623355 15.0118208583328 15.01182050096211 15.011819900526733 15.011818956515148 15.011818146022074 15.011817987937738 15.011817713149211 15.011817383190323 15.011816963649377 15.011816327636282 15.011815832114786 15.011815458962639 15.011815029594256 15.01181466779354 15.011814409308105 15.01181427542976 15.011814028398868 15.011813778070266 15.01181358539099 15.011813405427523 15.0118131550943 15.011812912810464 15.011812854543187 15.011812748673236 15.011812582352537 15.011812439314628 15.011812393407453 15.011812346832677 15.011812309159557 15.011812285884643 15.011812276886086 15.011812262784632 15.011812246353584 15.011812245276827 15.011812244646064 15.011812244638316 19.91812409651016 18.37406777200171 17.668014938087616 17.512392355331368 16.639640798769722 16.292495952543774 15.840714342927509 15.691235683906262 15.528255667239135 15.47720985030039 15.418237092819348 15.386683078963195 15.335599552875719 15.28011966580351 15.248340606849428 15.22456928486883 15.19437262623554 15.186968347586703 15.176771867135523 15.16991857510053 15.166650230648797 15.161986963414746 15.1576791829664 15.155167058755586 15.153549970421743 15.152402727247852 15.150393778286817 15.147060708174005 15.143570673529254 15.14230339276877 15.140333430149 15.13952658294721 15.13829175504579 15.137032185084678 15.135683198492456 15.133581952354083 15.131753599592496 15.12970966314306 15.126560846180066 15.12182040581747 15.116480161478831 15.111450682759134 15.107987829946447 15.103051594366715 15.096045643156238 15.087999497318092 15.083543642267092 15.07720252494149 15.068833018916015 15.060447297430997 15.057621456470688 15.05533638313511 15.052902552450082 15.050891785106785 15.049071564260252 15.048130434386238 15.047600789721876 15.047331925752834 15.047058695893952 15.046655451259369 15.046194760053364 15.046038791759342 15.045849777079365 15.045630918714119 15.045380931107102 15.04514741343144 15.044984068241522 15.044825248371415 15.044576656155908 15.044210205190252 15.043766123670576 15.0432941921968 15.042757624552381 15.042575909695957 15.042300165619555 15.042062613911954 15.0418829105099 15.041638484455168 15.041346734378505 15.041245977487778 15.041062040674452 15.040746434234261 15.040333117955683 15.039955890528008 15.03984826457367 15.039698312820823 15.039594732777818 15.039561327250617 15.039542761484062 15.039530570606326 15.039519356028045 15.039505609780894 15.039495906642996 15.039480004337316 15.039456310969298 15.039431503694942 15.03939760014199 15.039352036183141 15.03928900662551 15.039251823295919 15.039188722932805 15.039096478236669 15.03905866266328 15.039040398276201 15.039030525216317 15.039019154900732 15.039015907019124 15.039012694442961 15.03901001181695 15.039005518272981 15.038998434162071 15.038989063000127 15.03897539075056 15.038963348037958 15.038942455658994 15.038907182398075 15.038882316357554 15.038844806424152 15.038823707045983 15.03879596378621 15.038787261786997 15.038773309947624 15.038751226445312 15.038713925955786 15.038687037122486 15.03864305118677 15.038583928852715 15.038502851579368 15.038413153221862 15.038344324251037 15.038225101205589 15.03804235094412 15.037831208208937 15.037684140632669 15.037416614434353 15.037137370730877 15.036857732959588 15.036664864229794 15.036338234576297 15.035874540800148 15.0355617370582 15.03535136191795 15.035139793573935 15.034903928394106 15.034607193208554 15.034431584620846 15.034201558836365 15.033976341520079 15.033760175008664 15.033525970492724 15.033124729108867 15.03244018999016 15.031444775561418 15.031142199716204 15.030716907811588 15.030326841822962 15.029851201516909 15.029221590311966 15.028457490679365 15.02756688726922 15.026065530768335 15.0239693902796 15.02294733927403 15.0211989624179 15.019061394630103 15.018644518294112 15.017891253637428 15.016605982186901 15.01548359456454 15.015206600103744 15.01472131715471 15.013895281621819 15.012710572310823 15.011689320299146 15.010637961059997 15.009689360928084 15.009344748228836 15.00881054115808 15.008481268250417 15.008339827075002 15.008287519445616 15.008208813571905 15.008111487604591 15.008015183241357 15.007942346745596 15.00791411024682 15.007906950478453 15.007900828271895 15.007890585442597 15.007873397227861 15.007845742270542 15.007805973392104 15.00777010776919 15.007726794237746 15.00767573353644 15.007592139402254 15.007453291951164 15.007235711897994 15.006917029404422 15.006646111919363 15.006297909259006 15.006022539860995 15.005694882235138 15.005445597181312 15.005155278958705 15.005014870138096 15.004815110472084 15.004682987706914 15.004507019721398 15.004344277980332 15.00418859162996 15.004149644543325 15.004081149225332 15.003966187677106 15.003845287621992 15.00378092941241 15.003685045349023 15.003633574528033 15.003573988473274 15.003507970811427 15.003459371018597 15.003430065812962 15.003415922934218 15.00340607594478 15.003395105636633 15.003377219665134 15.003348858700344 15.00330715994981 15.003261632206595 15.00321119178998 15.003179382044467 15.00317292979603 15.003161691343466 15.003144976780696 15.00313480702933 15.003129766154913 15.003124638150457 15.003119972303185 15.003118831831017 15.003118158792047 15.00311736994952 15.003116150052042 15.003114707091392 15.003113864306448 15.003112989403052 15.003111875422107 15.00311033980905 15.00310815347474 15.003105380922566 15.003102377818031 15.003099138054717 15.003093908311067 15.003085009858172 15.003069779387296 15.003046627301593 15.00302389785783 15.003010669995703 15.00299282893015 15.002969495657736 15.002957159950196 15.00295409245522 15.002953414699036 15.002953319402405 15.002953308174861 15.002953304932706 15.002953303500997 15.002953301548267 15.002953299301266 15.002953297055083 15.002953296210682 15.002953295899399 15.00295329544377 15.002953295418923 "
          ]
        },
        {
          "output_type": "execute_result",
          "data": {
            "text/plain": [
              "<matplotlib.legend.Legend at 0x7f13e1b57c40>"
            ]
          },
          "metadata": {},
          "execution_count": 13
        },
        {
          "output_type": "display_data",
          "data": {
            "text/plain": [
              "<Figure size 432x288 with 1 Axes>"
            ],
            "image/png": "[encoded data removed]"
          },
          "metadata": {
            "needs_background": "light"
          }
        }
      ]
    },
    {
      "cell_type": "markdown",
      "source": [
        "On peut voir sur le graphique ci-dessus qu'il y a une erreur dans mon code..."
      ],
      "metadata": {
        "id": "ly4fW3Mhguov"
      }
    },
    {
      "cell_type": "markdown",
      "source": [
        "### Question 6: smart initialization"
      ],
      "metadata": {
        "id": "_mC9FQJukJwS"
      }
    },
    {
      "cell_type": "code",
      "source": [
        "T = 1.\n",
        "\n",
        "for nlayers in range(3,6,1):\n",
        "    num_params = 2*nlayers\n",
        "\n",
        "    back_trace = []\n",
        "    def print_avg(xk):\n",
        "        eva = evaluate_parameters(nqubits, edges, xk,nlayers)\n",
        "        back_trace.append(eva)\n",
        "        print(eva, end=' ')\n",
        "\n",
        "    # TODO implement parameter init\n",
        "    parameters_init = []\n",
        "    delta_t = T/nlayers \n",
        "    for k in range(nlayers):\n",
        "      parameters_init.append((1-k/nlayers)*delta_t) #theta k\n",
        "      parameters_init.append(delta_t*k/nlayers) #beta k\n",
        "    # END TODO        \n",
        "    opt_res = minimize(lambda x : evaluate_parameters(nqubits, edges, x, nlayers), \n",
        "                       parameters_init, \n",
        "                       callback=print_avg,)\n",
        "plt.axhline(0.878*best_value, color='b', label=\"classical apx ratio\")\n",
        "plt.axhline(best_value,color='r',label='optimal value')\n",
        "plt.legend()\n"
      ],
      "metadata": {
        "id": "X8KulGxHkPJ6",
        "colab": {
          "base_uri": "https://localhost:8080/",
          "height": 240
        },
        "outputId": "dee974f3-db24-4587-9435-d0b449b2ded1"
      },
      "execution_count": 1,
      "outputs": [
        {
          "output_type": "error",
          "ename": "NameError",
          "evalue": "ignored",
          "traceback": [
            "\u001b[0;31m---------------------------------------------------------------------------\u001b[0m",
            "\u001b[0;31mNameError\u001b[0m                                 Traceback (most recent call last)",
            "\u001b[0;32m<ipython-input-1-a070205ceec1>\u001b[0m in \u001b[0;36m<module>\u001b[0;34m\u001b[0m\n\u001b[1;32m     17\u001b[0m       \u001b[0mparameters_init\u001b[0m\u001b[0;34m.\u001b[0m\u001b[0mappend\u001b[0m\u001b[0;34m(\u001b[0m\u001b[0mdelta_t\u001b[0m\u001b[0;34m*\u001b[0m\u001b[0mk\u001b[0m\u001b[0;34m/\u001b[0m\u001b[0mnlayers\u001b[0m\u001b[0;34m)\u001b[0m \u001b[0;31m#beta k\u001b[0m\u001b[0;34m\u001b[0m\u001b[0;34m\u001b[0m\u001b[0m\n\u001b[1;32m     18\u001b[0m     \u001b[0;31m# END TODO\u001b[0m\u001b[0;34m\u001b[0m\u001b[0;34m\u001b[0m\u001b[0;34m\u001b[0m\u001b[0m\n\u001b[0;32m---> 19\u001b[0;31m     opt_res = minimize(lambda x : evaluate_parameters(nqubits, edges, x, nlayers), \n\u001b[0m\u001b[1;32m     20\u001b[0m                        \u001b[0mparameters_init\u001b[0m\u001b[0;34m,\u001b[0m\u001b[0;34m\u001b[0m\u001b[0;34m\u001b[0m\u001b[0m\n\u001b[1;32m     21\u001b[0m                        callback=print_avg,)\n",
            "\u001b[0;31mNameError\u001b[0m: name 'minimize' is not defined"
          ]
        }
      ]
    }
  ]
}