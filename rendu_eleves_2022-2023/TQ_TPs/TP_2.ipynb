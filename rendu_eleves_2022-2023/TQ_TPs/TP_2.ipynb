{
 "cells": [
  {
   "cell_type": "markdown",
   "id": "bad09515",
   "metadata": {},
   "source": [
    "## Part 1 implementing QAOA\n"
   ]
  },
  {
   "cell_type": "markdown",
   "id": "536219fc",
   "metadata": {},
   "source": [
    "### Question1 :\n",
    "Write down in the cell below the Hamiltonian whose ground state is the solution to MaxCUT on an input graph $G=(V,E)$:"
   ]
  },
  {
   "cell_type": "markdown",
   "id": "fd36b562",
   "metadata": {},
   "source": [
    "$$ H = \\sum_{i,j\\in E} \\sigma_i \\cdot \\sigma_j $$"
   ]
  },
  {
   "cell_type": "markdown",
   "id": "b045f8b7",
   "metadata": {},
   "source": [
    "### Question 2:\n",
    "Complete the implementation below of a simple, brute-force enumeration of all states computing the optimal solution to MaxCUT for the graph represented by 'edges'"
   ]
  },
  {
   "cell_type": "code",
   "execution_count": 1,
   "id": "7bc976fa",
   "metadata": {},
   "outputs": [
    {
     "name": "stdout",
     "output_type": "stream",
     "text": [
      "-5\n",
      "[1, 0, 0, 1, 1]\n"
     ]
    }
   ],
   "source": [
    "import numpy as np\n",
    "\n",
    "graph1 = [(0,1),(0,2),(1,3),(2,3)]\n",
    "graph2 = [(0,1),(1,2),(0,3),(1,4),(2,5),(3,6),(4,7),(5,8),(3,4),(4,5),(6,7),(7,8)]\n",
    "graph3 = [(0,1),(1,2),(0,3),(1,4),(2,5),(3,6),(4,7),(3,4),(4,5),(6,7)]\n",
    "graph4 = [(0,1),(1,2),(2,3),(4,5),(5,6),(6,7),(0,4),(1,5),(2,6),(3,7)]\n",
    "graph5 = [(0,1),(0,2),(1,3),(2,4),(3,5),(4,5),(1,4)]\n",
    "graph6 = [(0,1),(0,2),(1,3),(2,4),(1,4)]\n",
    "\n",
    "\n",
    "# choice of graph\n",
    "edges = graph6\n",
    "\n",
    "nqubits = max([max(list(v)) for v in edges])+1\n",
    "\n",
    "#nqubits = 5\n",
    "graph7 = [(i,(i+1)%nqubits) for i in range(nqubits)]+[(1,4)]\n",
    "\n",
    "\n",
    "# COMPUTATION OF OPT.\n",
    "best_value = len(edges)\n",
    "best_b = 0\n",
    "for x in range(2**nqubits):\n",
    "    b = np.binary_repr(x, width=nqubits)\n",
    "    b = [int(b[i]) for i in range(nqubits)]\n",
    "    # TODO: Complete the computation below:\n",
    "    val = sum([(1-2*b[i])*(1-2*b[j]) for (i,j) in edges])\n",
    "    # END TODO\n",
    "    if val <= best_value:\n",
    "        best_value = val\n",
    "        best_b = b\n",
    "print(best_value)\n",
    "print(best_b)"
   ]
  },
  {
   "cell_type": "markdown",
   "id": "4bed0ead",
   "metadata": {},
   "source": [
    "#### visualization of the graph"
   ]
  },
  {
   "cell_type": "code",
   "execution_count": 2,
   "id": "11a7d2a7",
   "metadata": {},
   "outputs": [
    {
     "data": {
      "image/png": "[encoded data removed]",
      "text/plain": [
       "<Figure size 640x480 with 1 Axes>"
      ]
     },
     "metadata": {},
     "output_type": "display_data"
    }
   ],
   "source": [
    "import networkx as nx\n",
    "G = nx.Graph()\n",
    "for i,j in edges:\n",
    "    G.add_edge(i,j)\n",
    "nx.draw_networkx(G)"
   ]
  },
  {
   "cell_type": "code",
   "execution_count": 3,
   "id": "1bcf8886",
   "metadata": {},
   "outputs": [],
   "source": [
    "from qat.lang.AQASM import Program, H, CNOT, RX, QRoutine, RZ, X, Z"
   ]
  },
  {
   "cell_type": "code",
   "execution_count": 4,
   "id": "f125405c",
   "metadata": {},
   "outputs": [],
   "source": [
    "def U_ZZ(theta):\n",
    "    \n",
    "    zz_r = QRoutine()\n",
    "    zz_r.apply(CNOT, 0, 1)\n",
    "    zz_r.apply(RZ(theta), 1) # difference of convention between implemented version and what we need.\n",
    "    zz_r.apply(CNOT, 0, 1)\n",
    "\n",
    "    return zz_r"
   ]
  },
  {
   "cell_type": "markdown",
   "id": "b87e91ed",
   "metadata": {},
   "source": [
    "### Question 3"
   ]
  },
  {
   "cell_type": "code",
   "execution_count": 5,
   "id": "27954bb3",
   "metadata": {},
   "outputs": [],
   "source": [
    "def one_qaoa_layer(n_qubits, edges, theta, beta):\n",
    "\n",
    "    layer = QRoutine()\n",
    "    #TODO: implement one qaoa layer\n",
    "    for i in range(n_qubits):\n",
    "        layer.apply(RX(theta), i)\n",
    "    for (k,l) in edges :\n",
    "        layer.apply(U_ZZ(beta), k, l)\n",
    "\n",
    "    \n",
    "    return layer"
   ]
  },
  {
   "cell_type": "markdown",
   "id": "bd0c36a5",
   "metadata": {},
   "source": [
    "### Question 4"
   ]
  },
  {
   "cell_type": "code",
   "execution_count": 6,
   "id": "655a9aaa",
   "metadata": {},
   "outputs": [],
   "source": [
    "from qat.qpus import get_default_qpu\n",
    "\n",
    "def evaluate_parameters(n_qubits, edges, parameters, n_layers):\n",
    "    \n",
    "    prog = Program()\n",
    "    qubits = prog.qalloc(n_qubits)\n",
    "    \n",
    "    # TODO: implement initialization+parameterized circuit\n",
    "\n",
    "    theta = parameters[0::2]\n",
    "    beta = parameters[1::2]\n",
    "    #print(theta, beta)\n",
    "    \n",
    "    for i in range(n_qubits):\n",
    "        prog.apply(H, qubits[i])\n",
    "    \n",
    "    for j in range(n_layers):\n",
    "        prog.apply(one_qaoa_layer(n_qubits, edges, theta[j], beta[j]), qubits)\n",
    "        \n",
    "    # END TODO\n",
    "    circ = prog.to_circ()\n",
    "    \n",
    "    job = circ.to_job()\n",
    "    qpu = get_default_qpu()\n",
    "    \n",
    "    result = qpu.submit(job)\n",
    "    \n",
    "    # BEGIN TODO\n",
    "    obs = 0\n",
    "    \n",
    "    for sample in result:\n",
    "        # this loop is over all 2**nqubits states.\n",
    "        # sample.state.bitstring contains the qubit values (nqubits 0 or 1)\n",
    "        b = sample.state.bitstring\n",
    "        val = sum([(1-2*int(b[i]))*(1-2*int(b[j])) for (i,j) in edges])\n",
    "        obs += val * sample.probability\n",
    "    # END TODO\n",
    "    return obs \n",
    "    \n",
    "# print(evaluate_parameters(5, edges, [0]*10, 1))"
   ]
  },
  {
   "cell_type": "code",
   "execution_count": 7,
   "id": "88963901",
   "metadata": {},
   "outputs": [
    {
     "data": {
      "text/plain": [
       "array([0.59650016, 0.38536894, 0.97005919])"
      ]
     },
     "execution_count": 7,
     "metadata": {},
     "output_type": "execute_result"
    }
   ],
   "source": [
    "import numpy as np\n",
    "np.random.random(3)"
   ]
  },
  {
   "cell_type": "code",
   "execution_count": 8,
   "id": "42557843",
   "metadata": {},
   "outputs": [],
   "source": [
    "from scipy.optimize import minimize\n"
   ]
  },
  {
   "cell_type": "markdown",
   "id": "0846a6dd",
   "metadata": {},
   "source": [
    "### Random initialisation"
   ]
  },
  {
   "cell_type": "markdown",
   "id": "f679d3e0",
   "metadata": {},
   "source": [
    "### Question 5: \n",
    "réponse à la question:"
   ]
  },
  {
   "cell_type": "code",
   "execution_count": 12,
   "id": "36f6e279",
   "metadata": {},
   "outputs": [
    {
     "data": {
      "text/plain": [
       "<matplotlib.legend.Legend at 0x14ed9e1c0>"
      ]
     },
     "execution_count": 12,
     "metadata": {},
     "output_type": "execute_result"
    },
    {
     "data": {
      "image/png": "[encoded data removed]",
      "text/plain": [
       "<Figure size 640x480 with 1 Axes>"
      ]
     },
     "metadata": {},
     "output_type": "display_data"
    }
   ],
   "source": [
    "import matplotlib.pylab as plt\n",
    "\n",
    "\n",
    "for nlayers in range(1,5,1):\n",
    "    num_params = 2*nlayers\n",
    "\n",
    "    back_trace = []\n",
    "    def print_avg(xk):\n",
    "        eva = evaluate_parameters(nqubits, edges, xk,nlayers)\n",
    "        back_trace.append(eva)\n",
    "        #print(eva, end=' ')\n",
    "\n",
    "    opt_res = minimize(lambda x : evaluate_parameters(nqubits, edges, x, nlayers), \n",
    "                       np.random.random(num_params),\n",
    "                       callback=print_avg,)\n",
    "    plt.plot(back_trace,label=str(nlayers))\n",
    "# there exists a classical polynomial algorithm returning solutions within a factor of 0.878 of the optimal\n",
    "# we must at least beat that. https://fr.wikipedia.org/wiki/Coupe_maximum\n",
    "plt.axhline(0.878*best_value, color='b', label=\"classical apx ratio\")\n",
    "plt.axhline(best_value,color='r',label='optimal value')\n",
    "plt.legend()"
   ]
  },
  {
   "cell_type": "markdown",
   "id": "47ea49eb",
   "metadata": {},
   "source": [
    "Number of layers needed : 4"
   ]
  },
  {
   "cell_type": "markdown",
   "id": "e9dffce1",
   "metadata": {},
   "source": [
    "### Question 6: smart initialization"
   ]
  },
  {
   "cell_type": "code",
   "execution_count": 15,
   "id": "d1eb83de",
   "metadata": {},
   "outputs": [
    {
     "name": "stdout",
     "output_type": "stream",
     "text": [
      "-0.4393734211423313 -2.044481867030719 -2.328023499990892 -2.4009488024542454 -3.1182346424904734 -3.1327470826039487 -3.1582313768206496 -3.199143842331243 -3.223124916842721 -3.225615930615774 -3.226050702951495 -3.2260693948939663 -3.2260696395567705 -3.226069647230867 -0.4650127126987681 -2.3868713641425354 -2.8111251841683216 -3.4537841330584667 -3.589815037552283 -3.8551260763985455 -4.069524424708615 -4.1334918114658015 -4.187070969984377 -4.281088123293281 -4.337724970314291 -4.37447041331204 -4.391757244056276 -4.413358179547345 -4.429052215056168 -4.439984661547627 -4.446220853901892 -4.4560233247710155 -4.4633918983189425 -4.463774729808495 -4.463830748874207 -4.463831891433726 -4.463832630640522 -4.463832632276263 -4.463832632305382 -0.5505649607774896 -2.5587797547849274 -2.6782721302191583 -3.500668559213835 -3.609968120708961 -3.769649891404711 -3.829094521728114 -3.935861969979233 -4.034642848038836 -4.068129312482914 -4.095604836403158 -4.117654976779942 -4.147071846345022 -4.171603538634736 -4.181058359935112 -4.184159056221922 -4.210225051309875 -4.239530215752421 -4.292251431240928 -4.361557755185005 -4.420588350850967 -4.492128527492689 -4.63978322604136 -4.670583392466 -4.6866210447951495 -4.695283078387052 -4.707533857614461 -4.7218304418457135 -4.726067689262389 -4.729222628810731 -4.730788050090392 -4.73129904773067 -4.731437634785924 -4.731467669494708 -4.731519460167854 -4.731610781648185 -4.731773440252125 -4.732062570701643 -4.732564393548171 -4.733339147013883 -4.734086002675582 -4.73496891301948 -4.73566494330863 -4.735787447563523 -4.735835731888028 -4.735857817118869 -4.735861753289886 -4.735862006583054 -4.735862036286164 -4.735862039429497 -4.735862043432654 -4.73586204385937 "
     ]
    },
    {
     "data": {
      "text/plain": [
       "<matplotlib.legend.Legend at 0x12957afd0>"
      ]
     },
     "execution_count": 15,
     "metadata": {},
     "output_type": "execute_result"
    },
    {
     "data": {
      "image/png": "[encoded data removed]",
      "text/plain": [
       "<Figure size 640x480 with 1 Axes>"
      ]
     },
     "metadata": {},
     "output_type": "display_data"
    }
   ],
   "source": [
    "T = 1.\n",
    "\n",
    "for nlayers in range(3,6,1):\n",
    "    num_params = 2*nlayers\n",
    "\n",
    "    back_trace = []\n",
    "    def print_avg(xk):\n",
    "        eva = evaluate_parameters(nqubits, edges, xk,nlayers)\n",
    "        back_trace.append(eva)\n",
    "        print(eva, end=' ')\n",
    "\n",
    "    # TODO implement parameter init\n",
    "    parameters_init = []\n",
    "    p = nlayers\n",
    "    for k in range(1,p+1):\n",
    "        theta = 2*T*(1-k/p)/p\n",
    "        beta = T*k/p/p\n",
    "        parameters_init.append(theta)\n",
    "        parameters_init.append(beta)\n",
    "    #print(parameters_init)\n",
    "\n",
    "    # END TODO        \n",
    "    opt_res = minimize(lambda x : evaluate_parameters(nqubits, edges, x, nlayers), \n",
    "                       parameters_init, \n",
    "                       callback=print_avg,)\n",
    "    plt.plot(back_trace,label=str(nlayers))\n",
    "plt.axhline(0.878*best_value, color='b', label=\"classical apx ratio\")\n",
    "plt.axhline(best_value,color='r',label='optimal value')\n",
    "plt.legend()"
   ]
  },
  {
   "cell_type": "markdown",
   "id": "3a9816f2",
   "metadata": {},
   "source": [
    "Number of layers needed : 4"
   ]
  },
  {
   "cell_type": "code",
   "execution_count": null,
   "id": "c169abe9",
   "metadata": {},
   "outputs": [],
   "source": []
  }
 ],
 "metadata": {
  "kernelspec": {
   "display_name": "Python 3 (ipykernel)",
   "language": "python",
   "name": "python3"
  },
  "language_info": {
   "codemirror_mode": {
    "name": "ipython",
    "version": 3
   },
   "file_extension": ".py",
   "mimetype": "text/x-python",
   "name": "python",
   "nbconvert_exporter": "python",
   "pygments_lexer": "ipython3",
   "version": "3.9.7"
  }
 },
 "nbformat": 4,
 "nbformat_minor": 5
}
